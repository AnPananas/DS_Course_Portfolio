{
 "cells": [
  {
   "cell_type": "markdown",
   "metadata": {},
   "source": [
    "# Отток клиентов"
   ]
  },
  {
   "cell_type": "markdown",
   "metadata": {},
   "source": [
    "Из «Бета-Банка» стали уходить клиенты. Каждый месяц. Немного, но заметно. Банковские маркетологи посчитали: сохранять текущих клиентов дешевле, чем привлекать новых.\n",
    "\n",
    "Вам предоставлены исторические данные о поведении клиентов и расторжении договоров с банком. \n",
    "# Задание:\n",
    "Нужно спрогнозировать, уйдёт клиент из банка в ближайшее время или нет. \n",
    "Постройте модель с предельно большим значением *F1*-меры. Чтобы сдать проект успешно, нужно довести метрику до 0.59. Проверьте *F1*-меру на тестовой выборке самостоятельно.\n",
    "\n",
    "Дополнительно измеряйте *AUC-ROC*, сравнивайте её значение с *F1*-мерой.\n",
    "\n",
    "Источник данных: [https://www.kaggle.com/barelydedicated/bank-customer-churn-modeling](https://www.kaggle.com/barelydedicated/bank-customer-churn-modeling)"
   ]
  },
  {
   "cell_type": "markdown",
   "metadata": {},
   "source": [
    "# Описание данных\n",
    "\n",
    "Признаки\n",
    "- RowNumber — индекс строки в данных\n",
    "- CustomerId — уникальный идентификатор клиента\n",
    "- Surname — фамилия\n",
    "- CreditScore — кредитный рейтинг\n",
    "- Geography — страна проживания\n",
    "- Gender — пол\n",
    "- Age — возраст\n",
    "- Tenure — сколько лет человек является клиентом банка\n",
    "- Balance — баланс на счёте\n",
    "- NumOfProducts — количество продуктов банка, используемых клиентом\n",
    "- HasCrCard — наличие кредитной карты\n",
    "- IsActiveMember — активность клиента\n",
    "- EstimatedSalary — предполагаемая зарплата\n",
    "\n",
    "Целевой признак\n",
    "- Exited — факт ухода клиента"
   ]
  },
  {
   "cell_type": "markdown",
   "metadata": {},
   "source": [
    "## Подготовка данных"
   ]
  },
  {
   "cell_type": "markdown",
   "metadata": {},
   "source": [
    "Импортируем необходимые библиотеки:\n",
    "- pandas для работы с табличными данными\n",
    "- sklearn для работы с моделями машинного обучения\n",
    "- matplotlib и seaborn для построения графиков"
   ]
  },
  {
   "cell_type": "code",
   "execution_count": 1,
   "metadata": {},
   "outputs": [],
   "source": [
    "import pandas as pd\n",
    "from sklearn.linear_model import LogisticRegression\n",
    "from sklearn.model_selection import train_test_split\n",
    "from sklearn.metrics import f1_score, roc_auc_score,confusion_matrix, roc_curve\n",
    "from sklearn.preprocessing import OneHotEncoder, StandardScaler\n",
    "from sklearn.tree import DecisionTreeClassifier\n",
    "from sklearn.ensemble import RandomForestClassifier\n",
    "from sklearn.utils import shuffle\n",
    "import matplotlib.pyplot as plt\n",
    "import seaborn as sns\n",
    "\n",
    "sns.set_theme() "
   ]
  },
  {
   "cell_type": "markdown",
   "metadata": {},
   "source": [
    "Выгружаем данные из csv-файла в DataFrame"
   ]
  },
  {
   "cell_type": "code",
   "execution_count": 2,
   "metadata": {},
   "outputs": [],
   "source": [
    "data = pd.read_csv('/datasets/Churn.csv')"
   ]
  },
  {
   "cell_type": "code",
   "execution_count": 3,
   "metadata": {},
   "outputs": [
    {
     "name": "stdout",
     "output_type": "stream",
     "text": [
      "<class 'pandas.core.frame.DataFrame'>\n",
      "RangeIndex: 10000 entries, 0 to 9999\n",
      "Data columns (total 14 columns):\n",
      " #   Column           Non-Null Count  Dtype  \n",
      "---  ------           --------------  -----  \n",
      " 0   RowNumber        10000 non-null  int64  \n",
      " 1   CustomerId       10000 non-null  int64  \n",
      " 2   Surname          10000 non-null  object \n",
      " 3   CreditScore      10000 non-null  int64  \n",
      " 4   Geography        10000 non-null  object \n",
      " 5   Gender           10000 non-null  object \n",
      " 6   Age              10000 non-null  int64  \n",
      " 7   Tenure           9091 non-null   float64\n",
      " 8   Balance          10000 non-null  float64\n",
      " 9   NumOfProducts    10000 non-null  int64  \n",
      " 10  HasCrCard        10000 non-null  int64  \n",
      " 11  IsActiveMember   10000 non-null  int64  \n",
      " 12  EstimatedSalary  10000 non-null  float64\n",
      " 13  Exited           10000 non-null  int64  \n",
      "dtypes: float64(3), int64(8), object(3)\n",
      "memory usage: 1.1+ MB\n"
     ]
    }
   ],
   "source": [
    "data.info()"
   ]
  },
  {
   "cell_type": "code",
   "execution_count": 4,
   "metadata": {
    "scrolled": true
   },
   "outputs": [
    {
     "data": {
      "text/html": [
       "<div>\n",
       "<style scoped>\n",
       "    .dataframe tbody tr th:only-of-type {\n",
       "        vertical-align: middle;\n",
       "    }\n",
       "\n",
       "    .dataframe tbody tr th {\n",
       "        vertical-align: top;\n",
       "    }\n",
       "\n",
       "    .dataframe thead th {\n",
       "        text-align: right;\n",
       "    }\n",
       "</style>\n",
       "<table border=\"1\" class=\"dataframe\">\n",
       "  <thead>\n",
       "    <tr style=\"text-align: right;\">\n",
       "      <th></th>\n",
       "      <th>RowNumber</th>\n",
       "      <th>CustomerId</th>\n",
       "      <th>Surname</th>\n",
       "      <th>CreditScore</th>\n",
       "      <th>Geography</th>\n",
       "      <th>Gender</th>\n",
       "      <th>Age</th>\n",
       "      <th>Tenure</th>\n",
       "      <th>Balance</th>\n",
       "      <th>NumOfProducts</th>\n",
       "      <th>HasCrCard</th>\n",
       "      <th>IsActiveMember</th>\n",
       "      <th>EstimatedSalary</th>\n",
       "      <th>Exited</th>\n",
       "    </tr>\n",
       "  </thead>\n",
       "  <tbody>\n",
       "    <tr>\n",
       "      <th>0</th>\n",
       "      <td>1</td>\n",
       "      <td>15634602</td>\n",
       "      <td>Hargrave</td>\n",
       "      <td>619</td>\n",
       "      <td>France</td>\n",
       "      <td>Female</td>\n",
       "      <td>42</td>\n",
       "      <td>2.0</td>\n",
       "      <td>0.00</td>\n",
       "      <td>1</td>\n",
       "      <td>1</td>\n",
       "      <td>1</td>\n",
       "      <td>101348.88</td>\n",
       "      <td>1</td>\n",
       "    </tr>\n",
       "    <tr>\n",
       "      <th>1</th>\n",
       "      <td>2</td>\n",
       "      <td>15647311</td>\n",
       "      <td>Hill</td>\n",
       "      <td>608</td>\n",
       "      <td>Spain</td>\n",
       "      <td>Female</td>\n",
       "      <td>41</td>\n",
       "      <td>1.0</td>\n",
       "      <td>83807.86</td>\n",
       "      <td>1</td>\n",
       "      <td>0</td>\n",
       "      <td>1</td>\n",
       "      <td>112542.58</td>\n",
       "      <td>0</td>\n",
       "    </tr>\n",
       "    <tr>\n",
       "      <th>2</th>\n",
       "      <td>3</td>\n",
       "      <td>15619304</td>\n",
       "      <td>Onio</td>\n",
       "      <td>502</td>\n",
       "      <td>France</td>\n",
       "      <td>Female</td>\n",
       "      <td>42</td>\n",
       "      <td>8.0</td>\n",
       "      <td>159660.80</td>\n",
       "      <td>3</td>\n",
       "      <td>1</td>\n",
       "      <td>0</td>\n",
       "      <td>113931.57</td>\n",
       "      <td>1</td>\n",
       "    </tr>\n",
       "    <tr>\n",
       "      <th>3</th>\n",
       "      <td>4</td>\n",
       "      <td>15701354</td>\n",
       "      <td>Boni</td>\n",
       "      <td>699</td>\n",
       "      <td>France</td>\n",
       "      <td>Female</td>\n",
       "      <td>39</td>\n",
       "      <td>1.0</td>\n",
       "      <td>0.00</td>\n",
       "      <td>2</td>\n",
       "      <td>0</td>\n",
       "      <td>0</td>\n",
       "      <td>93826.63</td>\n",
       "      <td>0</td>\n",
       "    </tr>\n",
       "    <tr>\n",
       "      <th>4</th>\n",
       "      <td>5</td>\n",
       "      <td>15737888</td>\n",
       "      <td>Mitchell</td>\n",
       "      <td>850</td>\n",
       "      <td>Spain</td>\n",
       "      <td>Female</td>\n",
       "      <td>43</td>\n",
       "      <td>2.0</td>\n",
       "      <td>125510.82</td>\n",
       "      <td>1</td>\n",
       "      <td>1</td>\n",
       "      <td>1</td>\n",
       "      <td>79084.10</td>\n",
       "      <td>0</td>\n",
       "    </tr>\n",
       "  </tbody>\n",
       "</table>\n",
       "</div>"
      ],
      "text/plain": [
       "   RowNumber  CustomerId   Surname  CreditScore Geography  Gender  Age  \\\n",
       "0          1    15634602  Hargrave          619    France  Female   42   \n",
       "1          2    15647311      Hill          608     Spain  Female   41   \n",
       "2          3    15619304      Onio          502    France  Female   42   \n",
       "3          4    15701354      Boni          699    France  Female   39   \n",
       "4          5    15737888  Mitchell          850     Spain  Female   43   \n",
       "\n",
       "   Tenure    Balance  NumOfProducts  HasCrCard  IsActiveMember  \\\n",
       "0     2.0       0.00              1          1               1   \n",
       "1     1.0   83807.86              1          0               1   \n",
       "2     8.0  159660.80              3          1               0   \n",
       "3     1.0       0.00              2          0               0   \n",
       "4     2.0  125510.82              1          1               1   \n",
       "\n",
       "   EstimatedSalary  Exited  \n",
       "0        101348.88       1  \n",
       "1        112542.58       0  \n",
       "2        113931.57       1  \n",
       "3         93826.63       0  \n",
       "4         79084.10       0  "
      ]
     },
     "execution_count": 4,
     "metadata": {},
     "output_type": "execute_result"
    }
   ],
   "source": [
    "data.head()"
   ]
  },
  {
   "cell_type": "markdown",
   "metadata": {},
   "source": [
    "\n",
    "\n",
    "В столбце 'Tenure' обнаружены пропуски. Заполним их значением -1, изменим тип Float на Object  и применим ОНЕ"
   ]
  },
  {
   "cell_type": "code",
   "execution_count": 5,
   "metadata": {},
   "outputs": [
    {
     "data": {
      "text/plain": [
       "1.0     952\n",
       "2.0     950\n",
       "8.0     933\n",
       "3.0     928\n",
       "5.0     927\n",
       "7.0     925\n",
       "4.0     885\n",
       "9.0     882\n",
       "6.0     881\n",
       "10.0    446\n",
       "0.0     382\n",
       "Name: Tenure, dtype: int64"
      ]
     },
     "execution_count": 5,
     "metadata": {},
     "output_type": "execute_result"
    }
   ],
   "source": [
    "data['Tenure'].value_counts()"
   ]
  },
  {
   "cell_type": "code",
   "execution_count": 6,
   "metadata": {},
   "outputs": [
    {
     "name": "stderr",
     "output_type": "stream",
     "text": [
      "/tmp/ipykernel_305/2051577180.py:1: SettingWithCopyWarning: \n",
      "A value is trying to be set on a copy of a slice from a DataFrame.\n",
      "Try using .loc[row_indexer,col_indexer] = value instead\n",
      "\n",
      "See the caveats in the documentation: https://pandas.pydata.org/pandas-docs/stable/user_guide/indexing.html#returning-a-view-versus-a-copy\n",
      "  data[data['Tenure'].isna()]['Tenure'] = -1 # заменяем None на -1\n"
     ]
    }
   ],
   "source": [
    "data[data['Tenure'].isna()]['Tenure'] = -1 # заменяем None на -1\n"
   ]
  },
  {
   "cell_type": "code",
   "execution_count": 7,
   "metadata": {},
   "outputs": [],
   "source": [
    "data['Tenure'] = data['Tenure'].astype('object') # меняем тип данных для того чтобы применить прямое кодирование в дальнейшем"
   ]
  },
  {
   "cell_type": "code",
   "execution_count": 8,
   "metadata": {},
   "outputs": [
    {
     "name": "stdout",
     "output_type": "stream",
     "text": [
      "<class 'pandas.core.frame.DataFrame'>\n",
      "RangeIndex: 10000 entries, 0 to 9999\n",
      "Data columns (total 14 columns):\n",
      " #   Column           Non-Null Count  Dtype  \n",
      "---  ------           --------------  -----  \n",
      " 0   RowNumber        10000 non-null  int64  \n",
      " 1   CustomerId       10000 non-null  int64  \n",
      " 2   Surname          10000 non-null  object \n",
      " 3   CreditScore      10000 non-null  int64  \n",
      " 4   Geography        10000 non-null  object \n",
      " 5   Gender           10000 non-null  object \n",
      " 6   Age              10000 non-null  int64  \n",
      " 7   Tenure           9091 non-null   object \n",
      " 8   Balance          10000 non-null  float64\n",
      " 9   NumOfProducts    10000 non-null  int64  \n",
      " 10  HasCrCard        10000 non-null  int64  \n",
      " 11  IsActiveMember   10000 non-null  int64  \n",
      " 12  EstimatedSalary  10000 non-null  float64\n",
      " 13  Exited           10000 non-null  int64  \n",
      "dtypes: float64(2), int64(8), object(4)\n",
      "memory usage: 1.1+ MB\n"
     ]
    }
   ],
   "source": [
    "data.info()"
   ]
  },
  {
   "cell_type": "markdown",
   "metadata": {},
   "source": [
    "Типы данных указаны правильно, пропусков нет,можно приступать к исследованию"
   ]
  },
  {
   "cell_type": "markdown",
   "metadata": {},
   "source": [
    "## Исследование задачи"
   ]
  },
  {
   "cell_type": "markdown",
   "metadata": {},
   "source": [
    "В датафрейме есть категориальные данные, для решения задачи классификации, а именно: уйдет клиент из банка или нет, нужно привести эти данные в цифровой вид, провести прямое кодирование (OHE). \n",
    "В первую очередь проверим результаты на несбалансированной выборке."
   ]
  },
  {
   "cell_type": "markdown",
   "metadata": {},
   "source": [
    "Чтобы не плодить лишние столбцы исключим из data столбец 'Surname','RowNumber' и 'CustomerId'. "
   ]
  },
  {
   "cell_type": "code",
   "execution_count": 9,
   "metadata": {},
   "outputs": [],
   "source": [
    "data = data.drop(['Surname','RowNumber','CustomerId'], axis=1)"
   ]
  },
  {
   "cell_type": "code",
   "execution_count": 10,
   "metadata": {},
   "outputs": [],
   "source": [
    "target = data['Exited'] # выделяем целевой признак\n",
    "features = data.drop('Exited', axis=1) # отделяем целевой признак от параметров модели"
   ]
  },
  {
   "cell_type": "markdown",
   "metadata": {},
   "source": [
    "Разделяем выборку на 3 части: тренировочная-60%, валидационная-20% и тестовая-20% "
   ]
  },
  {
   "cell_type": "code",
   "execution_count": 11,
   "metadata": {},
   "outputs": [],
   "source": [
    "feature_train,feature_valid_test,target_train,target_valid_test = train_test_split(features, target, \n",
    "                                                                                   test_size = 0.4, random_state=12345)"
   ]
  },
  {
   "cell_type": "code",
   "execution_count": 12,
   "metadata": {},
   "outputs": [],
   "source": [
    "feature_valid, feature_test,target_valid,target_test = train_test_split(feature_valid_test, \n",
    "                                                                        target_valid_test, test_size = 0.5, random_state=12345)"
   ]
  },
  {
   "cell_type": "markdown",
   "metadata": {},
   "source": [
    "Масштабируем признаки:"
   ]
  },
  {
   "cell_type": "markdown",
   "metadata": {},
   "source": [
    "Для каждой выборки проводим OHE. Во избежание дамми-ловушки выставляем параметр drop_first=True"
   ]
  },
  {
   "cell_type": "code",
   "execution_count": 13,
   "metadata": {},
   "outputs": [
    {
     "name": "stderr",
     "output_type": "stream",
     "text": [
      "/tmp/ipykernel_305/462568195.py:4: SettingWithCopyWarning: \n",
      "A value is trying to be set on a copy of a slice from a DataFrame.\n",
      "Try using .loc[row_indexer,col_indexer] = value instead\n",
      "\n",
      "See the caveats in the documentation: https://pandas.pydata.org/pandas-docs/stable/user_guide/indexing.html#returning-a-view-versus-a-copy\n",
      "  feature_train[numeric] = scaler.transform(feature_train[numeric])\n",
      "/opt/conda/lib/python3.9/site-packages/pandas/core/indexing.py:1738: SettingWithCopyWarning: \n",
      "A value is trying to be set on a copy of a slice from a DataFrame.\n",
      "Try using .loc[row_indexer,col_indexer] = value instead\n",
      "\n",
      "See the caveats in the documentation: https://pandas.pydata.org/pandas-docs/stable/user_guide/indexing.html#returning-a-view-versus-a-copy\n",
      "  self._setitem_single_column(loc, value[:, i].tolist(), pi)\n",
      "/tmp/ipykernel_305/462568195.py:5: SettingWithCopyWarning: \n",
      "A value is trying to be set on a copy of a slice from a DataFrame.\n",
      "Try using .loc[row_indexer,col_indexer] = value instead\n",
      "\n",
      "See the caveats in the documentation: https://pandas.pydata.org/pandas-docs/stable/user_guide/indexing.html#returning-a-view-versus-a-copy\n",
      "  feature_valid[numeric] = scaler.transform(feature_valid[numeric])\n",
      "/opt/conda/lib/python3.9/site-packages/pandas/core/indexing.py:1738: SettingWithCopyWarning: \n",
      "A value is trying to be set on a copy of a slice from a DataFrame.\n",
      "Try using .loc[row_indexer,col_indexer] = value instead\n",
      "\n",
      "See the caveats in the documentation: https://pandas.pydata.org/pandas-docs/stable/user_guide/indexing.html#returning-a-view-versus-a-copy\n",
      "  self._setitem_single_column(loc, value[:, i].tolist(), pi)\n",
      "/tmp/ipykernel_305/462568195.py:6: SettingWithCopyWarning: \n",
      "A value is trying to be set on a copy of a slice from a DataFrame.\n",
      "Try using .loc[row_indexer,col_indexer] = value instead\n",
      "\n",
      "See the caveats in the documentation: https://pandas.pydata.org/pandas-docs/stable/user_guide/indexing.html#returning-a-view-versus-a-copy\n",
      "  feature_test[numeric] = scaler.transform(feature_test[numeric])\n",
      "/opt/conda/lib/python3.9/site-packages/pandas/core/indexing.py:1738: SettingWithCopyWarning: \n",
      "A value is trying to be set on a copy of a slice from a DataFrame.\n",
      "Try using .loc[row_indexer,col_indexer] = value instead\n",
      "\n",
      "See the caveats in the documentation: https://pandas.pydata.org/pandas-docs/stable/user_guide/indexing.html#returning-a-view-versus-a-copy\n",
      "  self._setitem_single_column(loc, value[:, i].tolist(), pi)\n"
     ]
    }
   ],
   "source": [
    "numeric = ['EstimatedSalary','Balance','Age','CreditScore','NumOfProducts'] # выбираем численные признаки\n",
    "scaler = StandardScaler()\n",
    "scaler.fit(feature_train[numeric])\n",
    "feature_train[numeric] = scaler.transform(feature_train[numeric])\n",
    "feature_valid[numeric] = scaler.transform(feature_valid[numeric])\n",
    "feature_test[numeric] = scaler.transform(feature_test[numeric])\n",
    "pd.options.mode.chained_assignment = None # избавляемся от ошибки"
   ]
  },
  {
   "cell_type": "code",
   "execution_count": 14,
   "metadata": {},
   "outputs": [],
   "source": [
    "feature_train = pd.get_dummies(feature_train, drop_first=True)\n",
    "feature_valid = pd.get_dummies(feature_valid, drop_first=True)\n",
    "feature_test = pd.get_dummies(feature_test, drop_first=True)"
   ]
  },
  {
   "cell_type": "code",
   "execution_count": 15,
   "metadata": {},
   "outputs": [
    {
     "data": {
      "text/html": [
       "<div>\n",
       "<style scoped>\n",
       "    .dataframe tbody tr th:only-of-type {\n",
       "        vertical-align: middle;\n",
       "    }\n",
       "\n",
       "    .dataframe tbody tr th {\n",
       "        vertical-align: top;\n",
       "    }\n",
       "\n",
       "    .dataframe thead th {\n",
       "        text-align: right;\n",
       "    }\n",
       "</style>\n",
       "<table border=\"1\" class=\"dataframe\">\n",
       "  <thead>\n",
       "    <tr style=\"text-align: right;\">\n",
       "      <th></th>\n",
       "      <th>CreditScore</th>\n",
       "      <th>Age</th>\n",
       "      <th>Balance</th>\n",
       "      <th>NumOfProducts</th>\n",
       "      <th>HasCrCard</th>\n",
       "      <th>IsActiveMember</th>\n",
       "      <th>EstimatedSalary</th>\n",
       "      <th>Geography_Germany</th>\n",
       "      <th>Geography_Spain</th>\n",
       "      <th>Gender_Male</th>\n",
       "      <th>Tenure_1.0</th>\n",
       "      <th>Tenure_2.0</th>\n",
       "      <th>Tenure_3.0</th>\n",
       "      <th>Tenure_4.0</th>\n",
       "      <th>Tenure_5.0</th>\n",
       "      <th>Tenure_6.0</th>\n",
       "      <th>Tenure_7.0</th>\n",
       "      <th>Tenure_8.0</th>\n",
       "      <th>Tenure_9.0</th>\n",
       "      <th>Tenure_10.0</th>\n",
       "    </tr>\n",
       "  </thead>\n",
       "  <tbody>\n",
       "    <tr>\n",
       "      <th>7479</th>\n",
       "      <td>-0.886751</td>\n",
       "      <td>-0.373192</td>\n",
       "      <td>1.232271</td>\n",
       "      <td>-0.891560</td>\n",
       "      <td>1</td>\n",
       "      <td>0</td>\n",
       "      <td>-0.187705</td>\n",
       "      <td>0</td>\n",
       "      <td>1</td>\n",
       "      <td>1</td>\n",
       "      <td>0</td>\n",
       "      <td>0</td>\n",
       "      <td>0</td>\n",
       "      <td>0</td>\n",
       "      <td>0</td>\n",
       "      <td>0</td>\n",
       "      <td>0</td>\n",
       "      <td>1</td>\n",
       "      <td>0</td>\n",
       "      <td>0</td>\n",
       "    </tr>\n",
       "    <tr>\n",
       "      <th>3411</th>\n",
       "      <td>0.608663</td>\n",
       "      <td>-0.183385</td>\n",
       "      <td>0.600563</td>\n",
       "      <td>-0.891560</td>\n",
       "      <td>0</td>\n",
       "      <td>0</td>\n",
       "      <td>-0.333945</td>\n",
       "      <td>0</td>\n",
       "      <td>0</td>\n",
       "      <td>0</td>\n",
       "      <td>0</td>\n",
       "      <td>0</td>\n",
       "      <td>0</td>\n",
       "      <td>0</td>\n",
       "      <td>0</td>\n",
       "      <td>0</td>\n",
       "      <td>0</td>\n",
       "      <td>1</td>\n",
       "      <td>0</td>\n",
       "      <td>0</td>\n",
       "    </tr>\n",
       "    <tr>\n",
       "      <th>6027</th>\n",
       "      <td>2.052152</td>\n",
       "      <td>0.480939</td>\n",
       "      <td>1.027098</td>\n",
       "      <td>0.830152</td>\n",
       "      <td>0</td>\n",
       "      <td>1</td>\n",
       "      <td>1.503095</td>\n",
       "      <td>1</td>\n",
       "      <td>0</td>\n",
       "      <td>1</td>\n",
       "      <td>0</td>\n",
       "      <td>0</td>\n",
       "      <td>1</td>\n",
       "      <td>0</td>\n",
       "      <td>0</td>\n",
       "      <td>0</td>\n",
       "      <td>0</td>\n",
       "      <td>0</td>\n",
       "      <td>0</td>\n",
       "      <td>0</td>\n",
       "    </tr>\n",
       "    <tr>\n",
       "      <th>1247</th>\n",
       "      <td>-1.457915</td>\n",
       "      <td>-1.417129</td>\n",
       "      <td>-1.233163</td>\n",
       "      <td>0.830152</td>\n",
       "      <td>1</td>\n",
       "      <td>0</td>\n",
       "      <td>-1.071061</td>\n",
       "      <td>0</td>\n",
       "      <td>0</td>\n",
       "      <td>1</td>\n",
       "      <td>0</td>\n",
       "      <td>0</td>\n",
       "      <td>0</td>\n",
       "      <td>0</td>\n",
       "      <td>0</td>\n",
       "      <td>1</td>\n",
       "      <td>0</td>\n",
       "      <td>0</td>\n",
       "      <td>0</td>\n",
       "      <td>0</td>\n",
       "    </tr>\n",
       "    <tr>\n",
       "      <th>3716</th>\n",
       "      <td>0.130961</td>\n",
       "      <td>-1.132419</td>\n",
       "      <td>1.140475</td>\n",
       "      <td>-0.891560</td>\n",
       "      <td>0</td>\n",
       "      <td>0</td>\n",
       "      <td>1.524268</td>\n",
       "      <td>1</td>\n",
       "      <td>0</td>\n",
       "      <td>0</td>\n",
       "      <td>0</td>\n",
       "      <td>1</td>\n",
       "      <td>0</td>\n",
       "      <td>0</td>\n",
       "      <td>0</td>\n",
       "      <td>0</td>\n",
       "      <td>0</td>\n",
       "      <td>0</td>\n",
       "      <td>0</td>\n",
       "      <td>0</td>\n",
       "    </tr>\n",
       "  </tbody>\n",
       "</table>\n",
       "</div>"
      ],
      "text/plain": [
       "      CreditScore       Age   Balance  NumOfProducts  HasCrCard  \\\n",
       "7479    -0.886751 -0.373192  1.232271      -0.891560          1   \n",
       "3411     0.608663 -0.183385  0.600563      -0.891560          0   \n",
       "6027     2.052152  0.480939  1.027098       0.830152          0   \n",
       "1247    -1.457915 -1.417129 -1.233163       0.830152          1   \n",
       "3716     0.130961 -1.132419  1.140475      -0.891560          0   \n",
       "\n",
       "      IsActiveMember  EstimatedSalary  Geography_Germany  Geography_Spain  \\\n",
       "7479               0        -0.187705                  0                1   \n",
       "3411               0        -0.333945                  0                0   \n",
       "6027               1         1.503095                  1                0   \n",
       "1247               0        -1.071061                  0                0   \n",
       "3716               0         1.524268                  1                0   \n",
       "\n",
       "      Gender_Male  Tenure_1.0  Tenure_2.0  Tenure_3.0  Tenure_4.0  Tenure_5.0  \\\n",
       "7479            1           0           0           0           0           0   \n",
       "3411            0           0           0           0           0           0   \n",
       "6027            1           0           0           1           0           0   \n",
       "1247            1           0           0           0           0           0   \n",
       "3716            0           0           1           0           0           0   \n",
       "\n",
       "      Tenure_6.0  Tenure_7.0  Tenure_8.0  Tenure_9.0  Tenure_10.0  \n",
       "7479           0           0           1           0            0  \n",
       "3411           0           0           1           0            0  \n",
       "6027           0           0           0           0            0  \n",
       "1247           1           0           0           0            0  \n",
       "3716           0           0           0           0            0  "
      ]
     },
     "execution_count": 15,
     "metadata": {},
     "output_type": "execute_result"
    }
   ],
   "source": [
    "feature_train.head()"
   ]
  },
  {
   "cell_type": "markdown",
   "metadata": {},
   "source": [
    "Проверим три модели: Логистическая регрессия, дерево решений и случайный лес."
   ]
  },
  {
   "cell_type": "markdown",
   "metadata": {},
   "source": [
    "Проверяем F1-меру логистической регрессии:"
   ]
  },
  {
   "cell_type": "code",
   "execution_count": 16,
   "metadata": {},
   "outputs": [
    {
     "name": "stdout",
     "output_type": "stream",
     "text": [
      "F1-мера: 0.32605042016806723\n"
     ]
    }
   ],
   "source": [
    "model_reg = LogisticRegression(random_state=12345, solver ='liblinear')\n",
    "model_reg.fit(feature_train,target_train)\n",
    "pred_reg_valid = model_reg.predict(feature_valid)\n",
    "F1_reg = f1_score(target_valid, pred_reg_valid)\n",
    "print(f'F1-мера: {F1_reg}')"
   ]
  },
  {
   "cell_type": "markdown",
   "metadata": {},
   "source": [
    "Проверяем F1-меру случайного леса:"
   ]
  },
  {
   "cell_type": "markdown",
   "metadata": {},
   "source": [
    "Сначала зафиксируем небольшое число деревьев и подберем оптимальную глубину дерева"
   ]
  },
  {
   "cell_type": "code",
   "execution_count": 17,
   "metadata": {
    "scrolled": false
   },
   "outputs": [
    {
     "name": "stdout",
     "output_type": "stream",
     "text": [
      "Глубина: 16\n",
      "F1-мера: 0.5964912280701754\n"
     ]
    }
   ],
   "source": [
    "best_depth = 0\n",
    "max_f1 = 0\n",
    "for depth in range(1,25): # Ищем наилучшую глубину дерева\n",
    "    \n",
    "    \n",
    "    model_rand_tree = RandomForestClassifier(n_estimators=10 ,max_depth=depth,random_state=12345)\n",
    "    model_rand_tree.fit(feature_train,target_train)\n",
    "    pred__rand_tree_valid = model_rand_tree.predict(feature_valid)\n",
    "    F1_forest = f1_score(target_valid, pred__rand_tree_valid)\n",
    "    \n",
    "    if F1_forest > max_f1:\n",
    "        max_f1 = F1_forest\n",
    "        best_depth = depth\n",
    "    else:\n",
    "        pass    \n",
    "    \n",
    "print(f'Глубина: {best_depth}')\n",
    "print(f'F1-мера: {max_f1}')"
   ]
  },
  {
   "cell_type": "markdown",
   "metadata": {},
   "source": [
    "Подобрав оптимальное значение глубины подберем лучшее количество деревьев"
   ]
  },
  {
   "cell_type": "code",
   "execution_count": 18,
   "metadata": {},
   "outputs": [
    {
     "name": "stdout",
     "output_type": "stream",
     "text": [
      "\n",
      "Кол-во деревьев: 10\n",
      "F1-мера: 0.5964912280701754\n"
     ]
    }
   ],
   "source": [
    "best_estimator = 0\n",
    "max_f1 = 0\n",
    "for estimator in range(10,120,20): # Ищем наилучшее количество деревьев\n",
    "    \n",
    "    \n",
    "    model_rand_tree = RandomForestClassifier(n_estimators=estimator ,max_depth=16,random_state=12345)\n",
    "    model_rand_tree.fit(feature_train,target_train)\n",
    "    pred__rand_tree_valid = model_rand_tree.predict(feature_valid)\n",
    "    F1_forest = f1_score(target_valid, pred__rand_tree_valid)\n",
    "    \n",
    "    if F1_forest > max_f1:\n",
    "        max_f1 = F1_forest\n",
    "        best_estimator = estimator\n",
    "    else:\n",
    "        pass    \n",
    "print()  \n",
    "print(f'Кол-во деревьев: {best_estimator}')\n",
    "print(f'F1-мера: {max_f1}')"
   ]
  },
  {
   "cell_type": "markdown",
   "metadata": {},
   "source": [
    "Проверяем F1-меру дерева решений:"
   ]
  },
  {
   "cell_type": "code",
   "execution_count": 19,
   "metadata": {},
   "outputs": [
    {
     "name": "stdout",
     "output_type": "stream",
     "text": [
      "Глубина: 6\n",
      "F1-мера: 0.56752655538695\n"
     ]
    }
   ],
   "source": [
    "best_depth = 0\n",
    "max_f1 = 0\n",
    "for depth in range(1,21): # Ищем наилучшую глубину дерева\n",
    "    model_tree = DecisionTreeClassifier(max_depth=depth,random_state=12345)\n",
    "    model_tree.fit(feature_train,target_train)\n",
    "    pred_tree_valid = model_tree.predict(feature_valid)\n",
    "    F1_tree = f1_score(target_valid,pred_tree_valid)\n",
    "    \n",
    "    if F1_tree > max_f1:\n",
    "        max_f1 = F1_tree\n",
    "        best_depth = depth\n",
    "    else:\n",
    "        pass    \n",
    " \n",
    "print(f'Глубина: {best_depth}')\n",
    "print(f'F1-мера: {max_f1}')    "
   ]
  },
  {
   "cell_type": "markdown",
   "metadata": {},
   "source": [
    "Построим матрицу ошибок для каждой модели чтобы оценить баланс классов"
   ]
  },
  {
   "cell_type": "code",
   "execution_count": 20,
   "metadata": {},
   "outputs": [
    {
     "name": "stdout",
     "output_type": "stream",
     "text": [
      "[[1502   80]\n",
      " [ 321   97]]\n"
     ]
    }
   ],
   "source": [
    "model_reg = LogisticRegression(random_state=12345, solver='liblinear')\n",
    "model_reg.fit(feature_train,target_train)\n",
    "pred_reg_valid = model_reg.predict(feature_valid)\n",
    "print(confusion_matrix(target_valid, pred_reg_valid))"
   ]
  },
  {
   "cell_type": "code",
   "execution_count": 21,
   "metadata": {},
   "outputs": [
    {
     "name": "stdout",
     "output_type": "stream",
     "text": [
      "[[1520   62]\n",
      " [ 214  204]]\n"
     ]
    }
   ],
   "source": [
    "model_rand_tree = RandomForestClassifier(n_estimators=10 ,max_depth=16,random_state=12345)\n",
    "model_rand_tree.fit(feature_train,target_train)\n",
    "pred__rand_tree_valid = model_rand_tree.predict(feature_valid)\n",
    "print(confusion_matrix(target_valid, pred__rand_tree_valid))"
   ]
  },
  {
   "cell_type": "code",
   "execution_count": 22,
   "metadata": {},
   "outputs": [
    {
     "name": "stdout",
     "output_type": "stream",
     "text": [
      "[[1528   54]\n",
      " [ 231  187]]\n"
     ]
    }
   ],
   "source": [
    "model_tree = DecisionTreeClassifier(max_depth=6,random_state=12345)\n",
    "model_tree.fit(feature_train,target_train)\n",
    "pred_tree_valid = model_tree.predict(feature_valid)\n",
    "print(confusion_matrix(target_valid, pred_tree_valid))"
   ]
  },
  {
   "cell_type": "markdown",
   "metadata": {},
   "source": [
    "### Вывод\n",
    "\n",
    "В данных явное преобладание негативных ответов что мешает модели правильно обучиться.\n",
    "\n",
    "Из трех исследванных моделей хуже всех себя показала логистическая регрессия (F1-мера = 0.326).\n",
    "А лучше всех - случайный лес (F1-мера = 0.596)"
   ]
  },
  {
   "cell_type": "markdown",
   "metadata": {},
   "source": [
    "## Борьба с дисбалансом"
   ]
  },
  {
   "cell_type": "markdown",
   "metadata": {},
   "source": [
    "Сделаем данные более сбалансированными и проведем исследование еще раз."
   ]
  },
  {
   "cell_type": "markdown",
   "metadata": {},
   "source": [
    "Попробуем проверить логистическую регрессию со встроенным параметром class_weight='balanced'"
   ]
  },
  {
   "cell_type": "code",
   "execution_count": 23,
   "metadata": {},
   "outputs": [
    {
     "name": "stdout",
     "output_type": "stream",
     "text": [
      "F1-мера: 0.4887737478411054\n"
     ]
    }
   ],
   "source": [
    "model_reg = LogisticRegression(class_weight='balanced',random_state=12345, solver='liblinear')\n",
    "model_reg.fit(feature_train,target_train)\n",
    "pred_reg_valid = model_reg.predict(feature_valid)\n",
    "F1_reg = f1_score(target_valid,pred_reg_valid)\n",
    "print(f'F1-мера: {F1_reg}')"
   ]
  },
  {
   "cell_type": "markdown",
   "metadata": {},
   "source": [
    "сразу смотрим матрицу ошибок:"
   ]
  },
  {
   "cell_type": "code",
   "execution_count": 24,
   "metadata": {},
   "outputs": [
    {
     "name": "stdout",
     "output_type": "stream",
     "text": [
      "[[1125  457]\n",
      " [ 135  283]]\n"
     ]
    }
   ],
   "source": [
    "print(confusion_matrix(target_valid, pred_reg_valid))"
   ]
  },
  {
   "cell_type": "markdown",
   "metadata": {},
   "source": [
    "Для моделей сделаем выборку более сбалансированной путем увеличения в ней количества положительных ответов "
   ]
  },
  {
   "cell_type": "markdown",
   "metadata": {},
   "source": [
    "Для этого создадим функцию, которая увеличит количество правельных ответов в указанное количество раз и перемешает данные"
   ]
  },
  {
   "cell_type": "code",
   "execution_count": 25,
   "metadata": {},
   "outputs": [],
   "source": [
    "def upsample(feature, target, repeat):\n",
    "    features_zeros = feature[target == 0]\n",
    "    features_ones = feature[target == 1]\n",
    "    target_zeros = target[target == 0]\n",
    "    target_ones = target[target == 1]\n",
    "\n",
    "    features_upsampled = pd.concat([features_zeros] + [features_ones] * repeat)\n",
    "    target_upsampled = pd.concat([target_zeros] + [target_ones] * repeat)\n",
    "    \n",
    "    features_upsampled, target_upsampled = shuffle(\n",
    "        features_upsampled, target_upsampled, random_state=12345)\n",
    "    \n",
    "    return features_upsampled, target_upsampled"
   ]
  },
  {
   "cell_type": "code",
   "execution_count": 26,
   "metadata": {},
   "outputs": [],
   "source": [
    "features_upsampled_train, target_upsampled_train = upsample(feature_train, target_train, 4)\n"
   ]
  },
  {
   "cell_type": "markdown",
   "metadata": {},
   "source": [
    "Проверяем дерево решений:"
   ]
  },
  {
   "cell_type": "code",
   "execution_count": 27,
   "metadata": {},
   "outputs": [
    {
     "name": "stdout",
     "output_type": "stream",
     "text": [
      "Глубина: 5\n",
      "F1-мера: 0.5948827292110873\n"
     ]
    }
   ],
   "source": [
    "best_depth = 0\n",
    "max_f1 = 0\n",
    "for depth in range(1,21): \n",
    "    model_tree = DecisionTreeClassifier(max_depth=depth,random_state=12345)\n",
    "    model_tree.fit(features_upsampled_train,target_upsampled_train)\n",
    "    pred_tree_valid = model_tree.predict(feature_valid)\n",
    "    F1_tree = f1_score(target_valid,pred_tree_valid)\n",
    "    \n",
    "    if F1_tree > max_f1:\n",
    "        max_f1 = F1_tree\n",
    "        best_depth = depth\n",
    "    else:\n",
    "        pass    \n",
    " \n",
    "print(f'Глубина: {best_depth}')\n",
    "print(f'F1-мера: {max_f1}')    "
   ]
  },
  {
   "cell_type": "markdown",
   "metadata": {},
   "source": [
    "Проверяем логистическую регрессию:"
   ]
  },
  {
   "cell_type": "code",
   "execution_count": 28,
   "metadata": {},
   "outputs": [
    {
     "name": "stdout",
     "output_type": "stream",
     "text": [
      "F1-мера: 0.4887737478411054\n"
     ]
    }
   ],
   "source": [
    "model_reg = LogisticRegression(random_state=12345, class_weight='balanced',solver='liblinear')\n",
    "model_reg.fit(features_upsampled_train,target_upsampled_train)\n",
    "pred_reg_valid = model_reg.predict(feature_valid)\n",
    "F1_reg = f1_score(target_valid,pred_reg_valid)\n",
    "print(f'F1-мера: {F1_reg}')"
   ]
  },
  {
   "cell_type": "markdown",
   "metadata": {},
   "source": [
    "Проверяем сучайный лес:"
   ]
  },
  {
   "cell_type": "code",
   "execution_count": 29,
   "metadata": {},
   "outputs": [
    {
     "name": "stdout",
     "output_type": "stream",
     "text": [
      "Глубина: 9\n",
      "F1-мера: 0.6030456852791878\n"
     ]
    }
   ],
   "source": [
    "best_depth = 0\n",
    "max_f1 = 0\n",
    "for depth in range(1,25): # Ищем наилучшую глубину дерева\n",
    "    \n",
    "    \n",
    "    model_rand_tree = RandomForestClassifier(n_estimators=10 ,max_depth=depth,random_state=12345)\n",
    "    model_rand_tree.fit(features_upsampled_train,target_upsampled_train)\n",
    "    pred__rand_tree_valid = model_rand_tree.predict(feature_valid)\n",
    "    F1_forest = f1_score(target_valid, pred__rand_tree_valid)\n",
    "    \n",
    "    if F1_forest > max_f1:\n",
    "        max_f1 = F1_forest\n",
    "        best_depth = depth\n",
    "    else:\n",
    "        pass    \n",
    "    \n",
    "print(f'Глубина: {best_depth}')\n",
    "print(f'F1-мера: {max_f1}')\n",
    "\n",
    "best_estimator = 0\n",
    "max_f1 = 0\n"
   ]
  },
  {
   "cell_type": "code",
   "execution_count": 30,
   "metadata": {},
   "outputs": [
    {
     "name": "stdout",
     "output_type": "stream",
     "text": [
      "\n",
      "Кол-во деревьев: 50\n",
      "F1-мера: 0.6276150627615062\n"
     ]
    }
   ],
   "source": [
    "best_estimator = 0\n",
    "max_f1 = 0\n",
    "for estimator in range(10,120,20): # Ищем наилучшее количество деревьев\n",
    "      \n",
    "    model_rand_tree = RandomForestClassifier(n_estimators=estimator ,max_depth=9,random_state=12345)\n",
    "    model_rand_tree.fit(features_upsampled_train,target_upsampled_train)\n",
    "    pred__rand_tree_valid = model_rand_tree.predict(feature_valid)\n",
    "    F1_forest = f1_score(target_valid, pred__rand_tree_valid)\n",
    "    \n",
    "    if F1_forest > max_f1:\n",
    "        max_f1 = F1_forest\n",
    "        best_estimator = estimator\n",
    "    else:\n",
    "        pass    \n",
    "print()  \n",
    "print(f'Кол-во деревьев: {best_estimator}')\n",
    "print(f'F1-мера: {max_f1}')"
   ]
  },
  {
   "cell_type": "code",
   "execution_count": 31,
   "metadata": {},
   "outputs": [
    {
     "name": "stdout",
     "output_type": "stream",
     "text": [
      "F1-мера: 0.6276150627615062\n"
     ]
    }
   ],
   "source": [
    "model_rand_tree = RandomForestClassifier(n_estimators=50 ,max_depth=9,random_state=12345)\n",
    "model_rand_tree.fit(features_upsampled_train,target_upsampled_train)\n",
    "pred__rand_tree_valid = model_rand_tree.predict(feature_valid)\n",
    "F1_forest = f1_score(target_valid, pred__rand_tree_valid)\n",
    "print(f'F1-мера: {F1_forest}')"
   ]
  },
  {
   "cell_type": "markdown",
   "metadata": {},
   "source": [
    "### Вывод\n",
    "\n",
    "Балансировка путем увеличения выборки дала положительный результат.\n",
    "F1-мера для :\n",
    "\n",
    "   - логистической регрессии равна 0,48\n",
    "   - дерева решений равна 0,59\n",
    "   - случайного леса равна 0,63\n",
    "\n",
    "Необходимый по условию задания порог F1-меры прошли две модели (дерево решений и случайный лес).\n",
    "Для тестирования выбираем наилучший результат - модель случайного леса   \n",
    "    "
   ]
  },
  {
   "cell_type": "markdown",
   "metadata": {},
   "source": [
    "## Тестирование модели"
   ]
  },
  {
   "cell_type": "markdown",
   "metadata": {},
   "source": [
    "Проверим модель случайного леса на тестовой выборке"
   ]
  },
  {
   "cell_type": "code",
   "execution_count": 32,
   "metadata": {},
   "outputs": [
    {
     "name": "stdout",
     "output_type": "stream",
     "text": [
      "F1-мера: 0.6008403361344538\n"
     ]
    }
   ],
   "source": [
    "model_rand_tree = RandomForestClassifier(n_estimators=50 ,max_depth=9,random_state=12345)\n",
    "model_rand_tree.fit(features_upsampled_train,target_upsampled_train)\n",
    "pred__rand_tree_valid = model_rand_tree.predict(feature_test)\n",
    "F1_forest = f1_score(target_test, pred__rand_tree_valid)\n",
    "print(f'F1-мера: {F1_forest}')"
   ]
  },
  {
   "cell_type": "markdown",
   "metadata": {},
   "source": [
    "### Вывод\n",
    "\n",
    "Случайный лес на тестовой выборке показал хороший результат .\n",
    "По условию необходимо достичь значения F1-меры 0.59, случайный лес дал результат 0.6 "
   ]
  },
  {
   "cell_type": "markdown",
   "metadata": {},
   "source": [
    "## Метрика AUC-ROC\n"
   ]
  },
  {
   "cell_type": "markdown",
   "metadata": {},
   "source": [
    "Дополнительно сравним метрику AUC-ROC с F1-мерой"
   ]
  },
  {
   "cell_type": "code",
   "execution_count": 33,
   "metadata": {},
   "outputs": [],
   "source": [
    "probabilities_test = model_reg.predict_proba(feature_test) # рассчитываем вероятность для каждого параметра\n",
    "probabilities_one_test = probabilities_test[:, 1] # передаем вероятности положительного исхода в переменную probabilities_one_test"
   ]
  },
  {
   "cell_type": "code",
   "execution_count": 34,
   "metadata": {},
   "outputs": [],
   "source": [
    "fpr, tpr, thresholds = roc_curve(target_test, probabilities_one_test) \n",
    "# с помощью roc_curve получаем значений порога и TPR, FPR\n"
   ]
  },
  {
   "cell_type": "markdown",
   "metadata": {},
   "source": [
    "Строим ROC кривую"
   ]
  },
  {
   "cell_type": "code",
   "execution_count": 35,
   "metadata": {},
   "outputs": [
    {
     "data": {
      "image/png": "[encoded data removed]",
      "text/plain": [
       "<Figure size 864x432 with 1 Axes>"
      ]
     },
     "metadata": {},
     "output_type": "display_data"
    }
   ],
   "source": [
    "\n",
    "plt.figure(figsize=(12,6)) # Создаем оси\n",
    "plt.plot(fpr, tpr) # передаем х и у параметры\n",
    "plt.xlim([0.0, 1.0]) \n",
    "plt.ylim([0.0, 1.0])\n",
    "plt.xlabel('False Positive Rate')\n",
    "plt.ylabel('True Positive Rate')\n",
    "plt.title('ROC-кривая')\n",
    "plt.show() \n"
   ]
  },
  {
   "cell_type": "code",
   "execution_count": 36,
   "metadata": {},
   "outputs": [
    {
     "name": "stdout",
     "output_type": "stream",
     "text": [
      "0.7401775822963372\n"
     ]
    }
   ],
   "source": [
    "# считаем площадь под ROC кривой\n",
    "auc_roc = roc_auc_score(target_test,probabilities_one_test)\n",
    "print(auc_roc)"
   ]
  },
  {
   "cell_type": "markdown",
   "metadata": {},
   "source": [
    "### Вывод\n",
    "\n",
    "Значение auc_roc = 0.74, это больше чем auc_roc для случайной модели (0.5) и больше F1-меры (0,6)"
   ]
  },
  {
   "cell_type": "markdown",
   "metadata": {},
   "source": [
    "# Вывод\n",
    "\n",
    "В ходе исследования были подготовлены данные и проверены три модели: Логистическая регрессия, Случайный лес и Дерево решений.\n",
    "Исследования были проведены для несбалансированных и сбалансированных выборок, затем выбрана лучшая модель, на которой сделали контрольное тестирование.\n",
    "Дополнительно была выведена метрика auc_roc которая показывает соотношениеполноты и точности работы модели.\n",
    "\n",
    "Наилучший показатель после балансировки классов показала модель случайного леса с значением F1-меры = 0.6, значением AUC-ROC =0.74  \n",
    "\n",
    "F1-мера больше 0.59 - задача выплнена."
   ]
  }
 ],
 "metadata": {
  "ExecuteTimeLog": [
   {
    "duration": 88,
    "start_time": "2023-02-13T09:56:49.311Z"
   },
   {
    "duration": 84,
    "start_time": "2023-02-13T09:56:51.987Z"
   },
   {
    "duration": 8,
    "start_time": "2023-02-13T09:56:52.277Z"
   },
   {
    "duration": 178,
    "start_time": "2023-02-13T09:56:59.341Z"
   },
   {
    "duration": 92,
    "start_time": "2023-02-13T09:56:59.651Z"
   },
   {
    "duration": 20,
    "start_time": "2023-02-13T09:57:25.695Z"
   },
   {
    "duration": 17,
    "start_time": "2023-02-13T09:57:28.663Z"
   },
   {
    "duration": 29,
    "start_time": "2023-02-13T09:58:34.039Z"
   },
   {
    "duration": 19,
    "start_time": "2023-02-13T09:58:58.522Z"
   },
   {
    "duration": 6,
    "start_time": "2023-02-13T10:03:43.122Z"
   },
   {
    "duration": 14,
    "start_time": "2023-02-13T10:03:58.875Z"
   },
   {
    "duration": 9,
    "start_time": "2023-02-13T10:04:30.336Z"
   },
   {
    "duration": 5,
    "start_time": "2023-02-13T10:04:43.208Z"
   },
   {
    "duration": 13,
    "start_time": "2023-02-13T10:05:22.372Z"
   },
   {
    "duration": 9,
    "start_time": "2023-02-13T10:05:54.393Z"
   },
   {
    "duration": 9,
    "start_time": "2023-02-13T10:06:06.874Z"
   },
   {
    "duration": 4,
    "start_time": "2023-02-13T10:06:19.091Z"
   },
   {
    "duration": 5,
    "start_time": "2023-02-13T10:06:37.910Z"
   },
   {
    "duration": 4,
    "start_time": "2023-02-13T10:06:44.246Z"
   },
   {
    "duration": 5,
    "start_time": "2023-02-13T10:07:46.294Z"
   },
   {
    "duration": 13,
    "start_time": "2023-02-13T10:08:00.710Z"
   },
   {
    "duration": 12,
    "start_time": "2023-02-13T10:08:53.886Z"
   },
   {
    "duration": 202,
    "start_time": "2023-02-13T10:14:56.061Z"
   },
   {
    "duration": 17,
    "start_time": "2023-02-13T10:15:12.358Z"
   },
   {
    "duration": 12,
    "start_time": "2023-02-13T10:17:37.478Z"
   },
   {
    "duration": 2,
    "start_time": "2023-02-13T10:17:40.735Z"
   },
   {
    "duration": 16,
    "start_time": "2023-02-13T10:17:41.086Z"
   },
   {
    "duration": 3,
    "start_time": "2023-02-13T10:17:50.295Z"
   },
   {
    "duration": 9,
    "start_time": "2023-02-13T10:17:50.807Z"
   },
   {
    "duration": 7,
    "start_time": "2023-02-13T10:17:51.534Z"
   },
   {
    "duration": 166,
    "start_time": "2023-02-13T10:18:23.611Z"
   },
   {
    "duration": 19,
    "start_time": "2023-02-13T10:18:24.115Z"
   },
   {
    "duration": 3,
    "start_time": "2023-02-13T10:18:50.847Z"
   },
   {
    "duration": 35,
    "start_time": "2023-02-13T10:18:51.173Z"
   },
   {
    "duration": 17,
    "start_time": "2023-02-13T10:18:51.462Z"
   },
   {
    "duration": 12,
    "start_time": "2023-02-13T10:18:52.134Z"
   },
   {
    "duration": 7,
    "start_time": "2023-02-13T10:18:52.596Z"
   },
   {
    "duration": 12,
    "start_time": "2023-02-13T10:18:53.310Z"
   },
   {
    "duration": 3,
    "start_time": "2023-02-13T10:18:54.055Z"
   },
   {
    "duration": 152,
    "start_time": "2023-02-13T10:18:54.382Z"
   },
   {
    "duration": 18,
    "start_time": "2023-02-13T10:18:54.702Z"
   },
   {
    "duration": 9,
    "start_time": "2023-02-13T10:20:39.074Z"
   },
   {
    "duration": 10,
    "start_time": "2023-02-13T10:21:01.864Z"
   },
   {
    "duration": 157,
    "start_time": "2023-02-13T10:21:02.188Z"
   },
   {
    "duration": 1186,
    "start_time": "2023-02-13T10:21:07.613Z"
   },
   {
    "duration": 37,
    "start_time": "2023-02-13T10:21:08.801Z"
   },
   {
    "duration": 15,
    "start_time": "2023-02-13T10:21:08.839Z"
   },
   {
    "duration": 23,
    "start_time": "2023-02-13T10:21:08.861Z"
   },
   {
    "duration": 7,
    "start_time": "2023-02-13T10:21:08.886Z"
   },
   {
    "duration": 17,
    "start_time": "2023-02-13T10:21:08.894Z"
   },
   {
    "duration": 122,
    "start_time": "2023-02-13T10:21:08.913Z"
   },
   {
    "duration": 0,
    "start_time": "2023-02-13T10:21:09.037Z"
   },
   {
    "duration": 0,
    "start_time": "2023-02-13T10:21:09.039Z"
   },
   {
    "duration": 8,
    "start_time": "2023-02-13T10:21:27.775Z"
   },
   {
    "duration": 11,
    "start_time": "2023-02-13T10:21:28.310Z"
   },
   {
    "duration": 13,
    "start_time": "2023-02-13T10:21:28.694Z"
   },
   {
    "duration": 7,
    "start_time": "2023-02-13T10:23:13.426Z"
   },
   {
    "duration": 8,
    "start_time": "2023-02-13T10:29:53.495Z"
   },
   {
    "duration": 6,
    "start_time": "2023-02-13T10:31:22.128Z"
   },
   {
    "duration": 3,
    "start_time": "2023-02-13T10:33:44.377Z"
   },
   {
    "duration": 93,
    "start_time": "2023-02-13T10:39:23.225Z"
   },
   {
    "duration": 25,
    "start_time": "2023-02-13T10:39:28.671Z"
   },
   {
    "duration": 1161,
    "start_time": "2023-02-13T10:41:57.263Z"
   },
   {
    "duration": 36,
    "start_time": "2023-02-13T10:41:58.426Z"
   },
   {
    "duration": 12,
    "start_time": "2023-02-13T10:41:58.464Z"
   },
   {
    "duration": 19,
    "start_time": "2023-02-13T10:41:58.478Z"
   },
   {
    "duration": 7,
    "start_time": "2023-02-13T10:41:58.500Z"
   },
   {
    "duration": 13,
    "start_time": "2023-02-13T10:41:58.508Z"
   },
   {
    "duration": 32,
    "start_time": "2023-02-13T10:41:58.522Z"
   },
   {
    "duration": 12,
    "start_time": "2023-02-13T10:41:58.556Z"
   },
   {
    "duration": 10,
    "start_time": "2023-02-13T10:41:58.569Z"
   },
   {
    "duration": 10,
    "start_time": "2023-02-13T10:41:58.581Z"
   },
   {
    "duration": 5,
    "start_time": "2023-02-13T10:41:58.593Z"
   },
   {
    "duration": 7,
    "start_time": "2023-02-13T10:41:58.599Z"
   },
   {
    "duration": 447,
    "start_time": "2023-02-13T10:41:58.607Z"
   },
   {
    "duration": 267,
    "start_time": "2023-02-13T10:41:59.057Z"
   },
   {
    "duration": 1077,
    "start_time": "2023-02-13T10:50:32.804Z"
   },
   {
    "duration": 48,
    "start_time": "2023-02-13T10:50:33.883Z"
   },
   {
    "duration": 15,
    "start_time": "2023-02-13T10:50:33.933Z"
   },
   {
    "duration": 22,
    "start_time": "2023-02-13T10:50:33.950Z"
   },
   {
    "duration": 6,
    "start_time": "2023-02-13T10:50:33.974Z"
   },
   {
    "duration": 13,
    "start_time": "2023-02-13T10:50:33.982Z"
   },
   {
    "duration": 5,
    "start_time": "2023-02-13T10:50:33.997Z"
   },
   {
    "duration": 15,
    "start_time": "2023-02-13T10:50:34.003Z"
   },
   {
    "duration": 38,
    "start_time": "2023-02-13T10:50:34.019Z"
   },
   {
    "duration": 7,
    "start_time": "2023-02-13T10:50:34.059Z"
   },
   {
    "duration": 12,
    "start_time": "2023-02-13T10:50:34.068Z"
   },
   {
    "duration": 6,
    "start_time": "2023-02-13T10:50:34.081Z"
   },
   {
    "duration": 9,
    "start_time": "2023-02-13T10:50:34.089Z"
   },
   {
    "duration": 62,
    "start_time": "2023-02-13T10:50:34.101Z"
   },
   {
    "duration": 203,
    "start_time": "2023-02-13T10:50:34.255Z"
   },
   {
    "duration": 27,
    "start_time": "2023-02-13T10:53:39.631Z"
   },
   {
    "duration": 3209,
    "start_time": "2023-02-13T10:53:49.865Z"
   },
   {
    "duration": 3477,
    "start_time": "2023-02-13T10:54:02.601Z"
   },
   {
    "duration": 19,
    "start_time": "2023-02-13T10:54:28.117Z"
   },
   {
    "duration": 478,
    "start_time": "2023-02-13T10:55:31.684Z"
   },
   {
    "duration": 58,
    "start_time": "2023-02-13T10:56:01.600Z"
   },
   {
    "duration": 19,
    "start_time": "2023-02-13T10:56:04.359Z"
   },
   {
    "duration": 22,
    "start_time": "2023-02-13T10:59:16.782Z"
   },
   {
    "duration": 1086,
    "start_time": "2023-02-13T10:59:22.603Z"
   },
   {
    "duration": 37,
    "start_time": "2023-02-13T10:59:23.691Z"
   },
   {
    "duration": 13,
    "start_time": "2023-02-13T10:59:23.730Z"
   },
   {
    "duration": 18,
    "start_time": "2023-02-13T10:59:23.745Z"
   },
   {
    "duration": 16,
    "start_time": "2023-02-13T10:59:23.765Z"
   },
   {
    "duration": 12,
    "start_time": "2023-02-13T10:59:23.783Z"
   },
   {
    "duration": 5,
    "start_time": "2023-02-13T10:59:23.796Z"
   },
   {
    "duration": 14,
    "start_time": "2023-02-13T10:59:23.803Z"
   },
   {
    "duration": 12,
    "start_time": "2023-02-13T10:59:23.819Z"
   },
   {
    "duration": 23,
    "start_time": "2023-02-13T10:59:23.833Z"
   },
   {
    "duration": 20,
    "start_time": "2023-02-13T10:59:23.858Z"
   },
   {
    "duration": 4,
    "start_time": "2023-02-13T10:59:23.880Z"
   },
   {
    "duration": 5,
    "start_time": "2023-02-13T10:59:23.885Z"
   },
   {
    "duration": 342,
    "start_time": "2023-02-13T10:59:23.892Z"
   },
   {
    "duration": 0,
    "start_time": "2023-02-13T10:59:24.236Z"
   },
   {
    "duration": 84,
    "start_time": "2023-02-13T10:59:33.270Z"
   },
   {
    "duration": 22,
    "start_time": "2023-02-13T10:59:34.033Z"
   },
   {
    "duration": 447,
    "start_time": "2023-02-13T11:03:44.771Z"
   },
   {
    "duration": 21,
    "start_time": "2023-02-13T11:04:14.983Z"
   },
   {
    "duration": 21,
    "start_time": "2023-02-13T11:08:36.924Z"
   },
   {
    "duration": 82,
    "start_time": "2023-02-13T11:14:33.084Z"
   },
   {
    "duration": 351,
    "start_time": "2023-02-13T11:15:22.746Z"
   },
   {
    "duration": 352,
    "start_time": "2023-02-13T11:19:58.721Z"
   },
   {
    "duration": 7186,
    "start_time": "2023-02-13T11:20:39.941Z"
   },
   {
    "duration": 6025,
    "start_time": "2023-02-13T11:25:13.461Z"
   },
   {
    "duration": 6025,
    "start_time": "2023-02-13T11:25:34.623Z"
   },
   {
    "duration": 6111,
    "start_time": "2023-02-13T11:26:19.428Z"
   },
   {
    "duration": 5936,
    "start_time": "2023-02-13T11:26:54.769Z"
   },
   {
    "duration": 6036,
    "start_time": "2023-02-13T11:27:59.936Z"
   },
   {
    "duration": 6208,
    "start_time": "2023-02-13T11:28:30.980Z"
   },
   {
    "duration": 6001,
    "start_time": "2023-02-13T11:29:59.990Z"
   },
   {
    "duration": 5967,
    "start_time": "2023-02-13T11:31:21.146Z"
   },
   {
    "duration": 7505,
    "start_time": "2023-02-13T11:31:35.810Z"
   },
   {
    "duration": 1976,
    "start_time": "2023-02-13T11:33:19.725Z"
   },
   {
    "duration": 1934,
    "start_time": "2023-02-13T11:33:52.040Z"
   },
   {
    "duration": 2025,
    "start_time": "2023-02-13T11:36:09.856Z"
   },
   {
    "duration": 3769,
    "start_time": "2023-02-13T11:38:11.374Z"
   },
   {
    "duration": 2049,
    "start_time": "2023-02-13T11:38:26.632Z"
   },
   {
    "duration": 2233,
    "start_time": "2023-02-13T11:39:08.749Z"
   },
   {
    "duration": 2020,
    "start_time": "2023-02-13T11:40:00.427Z"
   },
   {
    "duration": 2068,
    "start_time": "2023-02-13T11:40:24.870Z"
   },
   {
    "duration": 3909,
    "start_time": "2023-02-13T11:40:36.263Z"
   },
   {
    "duration": 1980,
    "start_time": "2023-02-13T11:40:40.174Z"
   },
   {
    "duration": 1450,
    "start_time": "2023-02-13T11:41:13.338Z"
   },
   {
    "duration": 5930,
    "start_time": "2023-02-13T11:41:38.973Z"
   },
   {
    "duration": 71,
    "start_time": "2023-02-13T11:42:03.793Z"
   },
   {
    "duration": 488,
    "start_time": "2023-02-13T11:42:08.272Z"
   },
   {
    "duration": 505,
    "start_time": "2023-02-13T11:43:38.988Z"
   },
   {
    "duration": 488,
    "start_time": "2023-02-13T11:43:54.309Z"
   },
   {
    "duration": 486,
    "start_time": "2023-02-13T11:44:07.515Z"
   },
   {
    "duration": 462,
    "start_time": "2023-02-13T11:44:11.679Z"
   },
   {
    "duration": 51,
    "start_time": "2023-02-13T12:00:30.006Z"
   },
   {
    "duration": 413,
    "start_time": "2023-02-13T12:00:31.119Z"
   },
   {
    "duration": 36,
    "start_time": "2023-02-13T12:00:32.430Z"
   },
   {
    "duration": 1125,
    "start_time": "2023-02-13T12:34:22.658Z"
   },
   {
    "duration": 37,
    "start_time": "2023-02-13T12:34:23.785Z"
   },
   {
    "duration": 13,
    "start_time": "2023-02-13T12:34:23.824Z"
   },
   {
    "duration": 20,
    "start_time": "2023-02-13T12:34:23.838Z"
   },
   {
    "duration": 6,
    "start_time": "2023-02-13T12:34:23.859Z"
   },
   {
    "duration": 10,
    "start_time": "2023-02-13T12:34:23.866Z"
   },
   {
    "duration": 4,
    "start_time": "2023-02-13T12:34:23.878Z"
   },
   {
    "duration": 205,
    "start_time": "2023-02-13T12:34:23.883Z"
   },
   {
    "duration": 19,
    "start_time": "2023-02-13T12:34:24.089Z"
   },
   {
    "duration": 10,
    "start_time": "2023-02-13T12:34:24.110Z"
   },
   {
    "duration": 10,
    "start_time": "2023-02-13T12:34:24.121Z"
   },
   {
    "duration": 3,
    "start_time": "2023-02-13T12:34:24.133Z"
   },
   {
    "duration": 7,
    "start_time": "2023-02-13T12:34:24.137Z"
   },
   {
    "duration": 23,
    "start_time": "2023-02-13T12:34:24.146Z"
   },
   {
    "duration": 3931,
    "start_time": "2023-02-13T12:34:24.255Z"
   },
   {
    "duration": 5997,
    "start_time": "2023-02-13T12:34:28.188Z"
   },
   {
    "duration": 501,
    "start_time": "2023-02-13T12:34:34.187Z"
   },
   {
    "duration": 164,
    "start_time": "2023-02-13T12:34:34.690Z"
   },
   {
    "duration": 511,
    "start_time": "2023-02-13T12:34:34.858Z"
   },
   {
    "duration": 37,
    "start_time": "2023-02-13T12:34:35.371Z"
   },
   {
    "duration": 80,
    "start_time": "2023-02-13T13:42:07.879Z"
   },
   {
    "duration": 74,
    "start_time": "2023-02-13T13:42:08.264Z"
   },
   {
    "duration": 237,
    "start_time": "2023-02-13T13:42:30.826Z"
   },
   {
    "duration": 57,
    "start_time": "2023-02-13T13:42:33.706Z"
   },
   {
    "duration": 28,
    "start_time": "2023-02-13T13:42:34.064Z"
   },
   {
    "duration": 1200,
    "start_time": "2023-02-13T13:42:43.974Z"
   },
   {
    "duration": 36,
    "start_time": "2023-02-13T13:42:45.176Z"
   },
   {
    "duration": 14,
    "start_time": "2023-02-13T13:42:45.213Z"
   },
   {
    "duration": 21,
    "start_time": "2023-02-13T13:42:45.229Z"
   },
   {
    "duration": 11,
    "start_time": "2023-02-13T13:42:45.254Z"
   },
   {
    "duration": 24,
    "start_time": "2023-02-13T13:42:45.267Z"
   },
   {
    "duration": 8,
    "start_time": "2023-02-13T13:42:45.293Z"
   },
   {
    "duration": 13,
    "start_time": "2023-02-13T13:42:45.303Z"
   },
   {
    "duration": 14,
    "start_time": "2023-02-13T13:42:45.318Z"
   },
   {
    "duration": 27,
    "start_time": "2023-02-13T13:42:45.334Z"
   },
   {
    "duration": 22,
    "start_time": "2023-02-13T13:42:45.362Z"
   },
   {
    "duration": 7,
    "start_time": "2023-02-13T13:42:45.386Z"
   },
   {
    "duration": 5,
    "start_time": "2023-02-13T13:42:45.394Z"
   },
   {
    "duration": 153,
    "start_time": "2023-02-13T13:42:45.402Z"
   },
   {
    "duration": 4150,
    "start_time": "2023-02-13T13:42:45.557Z"
   },
   {
    "duration": 6325,
    "start_time": "2023-02-13T13:42:49.709Z"
   },
   {
    "duration": 544,
    "start_time": "2023-02-13T13:42:56.035Z"
   },
   {
    "duration": 394,
    "start_time": "2023-02-13T13:42:56.581Z"
   },
   {
    "duration": 507,
    "start_time": "2023-02-13T13:42:56.978Z"
   },
   {
    "duration": 48,
    "start_time": "2023-02-13T13:42:57.487Z"
   },
   {
    "duration": 247,
    "start_time": "2023-02-13T13:42:57.537Z"
   },
   {
    "duration": 321,
    "start_time": "2023-02-13T13:42:57.852Z"
   },
   {
    "duration": 4,
    "start_time": "2023-02-13T13:56:36.013Z"
   },
   {
    "duration": 122,
    "start_time": "2023-02-13T13:59:45.653Z"
   },
   {
    "duration": 5,
    "start_time": "2023-02-13T14:00:11.408Z"
   },
   {
    "duration": 9,
    "start_time": "2023-02-13T14:00:58.453Z"
   },
   {
    "duration": 4,
    "start_time": "2023-02-13T14:01:01.506Z"
   },
   {
    "duration": 14,
    "start_time": "2023-02-13T14:01:01.798Z"
   },
   {
    "duration": 3,
    "start_time": "2023-02-13T14:01:59.741Z"
   },
   {
    "duration": 16,
    "start_time": "2023-02-13T14:02:01.316Z"
   },
   {
    "duration": 8,
    "start_time": "2023-02-13T14:02:21.455Z"
   },
   {
    "duration": 3,
    "start_time": "2023-02-13T14:02:29.209Z"
   },
   {
    "duration": 10,
    "start_time": "2023-02-13T14:02:29.801Z"
   },
   {
    "duration": 465,
    "start_time": "2023-02-13T14:02:29.830Z"
   },
   {
    "duration": 9,
    "start_time": "2023-02-13T14:02:49.562Z"
   },
   {
    "duration": 3,
    "start_time": "2023-02-13T14:04:08.731Z"
   },
   {
    "duration": 4,
    "start_time": "2023-02-13T14:04:12.947Z"
   },
   {
    "duration": 9,
    "start_time": "2023-02-13T14:04:13.386Z"
   },
   {
    "duration": 1317,
    "start_time": "2023-02-13T14:04:20.728Z"
   },
   {
    "duration": 39,
    "start_time": "2023-02-13T14:04:22.046Z"
   },
   {
    "duration": 13,
    "start_time": "2023-02-13T14:04:22.087Z"
   },
   {
    "duration": 20,
    "start_time": "2023-02-13T14:04:22.102Z"
   },
   {
    "duration": 5,
    "start_time": "2023-02-13T14:04:22.124Z"
   },
   {
    "duration": 14,
    "start_time": "2023-02-13T14:04:22.130Z"
   },
   {
    "duration": 8,
    "start_time": "2023-02-13T14:04:22.145Z"
   },
   {
    "duration": 13,
    "start_time": "2023-02-13T14:04:22.155Z"
   },
   {
    "duration": 11,
    "start_time": "2023-02-13T14:04:22.170Z"
   },
   {
    "duration": 7,
    "start_time": "2023-02-13T14:04:22.183Z"
   },
   {
    "duration": 10,
    "start_time": "2023-02-13T14:04:22.191Z"
   },
   {
    "duration": 4,
    "start_time": "2023-02-13T14:04:22.202Z"
   },
   {
    "duration": 4,
    "start_time": "2023-02-13T14:04:22.207Z"
   },
   {
    "duration": 142,
    "start_time": "2023-02-13T14:04:22.213Z"
   },
   {
    "duration": 3893,
    "start_time": "2023-02-13T14:04:22.360Z"
   },
   {
    "duration": 6092,
    "start_time": "2023-02-13T14:04:26.255Z"
   },
   {
    "duration": 502,
    "start_time": "2023-02-13T14:04:32.353Z"
   },
   {
    "duration": 98,
    "start_time": "2023-02-13T14:04:32.857Z"
   },
   {
    "duration": 515,
    "start_time": "2023-02-13T14:04:32.957Z"
   },
   {
    "duration": 39,
    "start_time": "2023-02-13T14:04:33.474Z"
   },
   {
    "duration": 140,
    "start_time": "2023-02-13T14:04:33.515Z"
   },
   {
    "duration": 95,
    "start_time": "2023-02-13T14:04:33.660Z"
   },
   {
    "duration": 113,
    "start_time": "2023-02-13T14:04:33.757Z"
   },
   {
    "duration": 0,
    "start_time": "2023-02-13T14:04:33.872Z"
   },
   {
    "duration": 4,
    "start_time": "2023-02-13T14:05:03.632Z"
   },
   {
    "duration": 15,
    "start_time": "2023-02-13T14:05:04.608Z"
   },
   {
    "duration": 5,
    "start_time": "2023-02-13T14:18:50.493Z"
   },
   {
    "duration": 17,
    "start_time": "2023-02-13T14:18:50.871Z"
   },
   {
    "duration": 21,
    "start_time": "2023-02-13T14:18:54.941Z"
   },
   {
    "duration": 4,
    "start_time": "2023-02-13T14:21:32.374Z"
   },
   {
    "duration": 14,
    "start_time": "2023-02-13T14:21:33.327Z"
   },
   {
    "duration": 4,
    "start_time": "2023-02-13T14:27:24.078Z"
   },
   {
    "duration": 14,
    "start_time": "2023-02-13T14:27:24.854Z"
   },
   {
    "duration": 4,
    "start_time": "2023-02-13T14:28:11.067Z"
   },
   {
    "duration": 17,
    "start_time": "2023-02-13T14:28:11.346Z"
   },
   {
    "duration": 9,
    "start_time": "2023-02-13T14:28:52.584Z"
   },
   {
    "duration": 15,
    "start_time": "2023-02-13T14:29:02.568Z"
   },
   {
    "duration": 15,
    "start_time": "2023-02-13T14:29:14.130Z"
   },
   {
    "duration": 18,
    "start_time": "2023-02-13T14:29:29.515Z"
   },
   {
    "duration": 3,
    "start_time": "2023-02-13T14:29:35.509Z"
   },
   {
    "duration": 14,
    "start_time": "2023-02-13T14:29:35.788Z"
   },
   {
    "duration": 16,
    "start_time": "2023-02-13T14:33:07.596Z"
   },
   {
    "duration": 12,
    "start_time": "2023-02-13T14:33:14.972Z"
   },
   {
    "duration": 14,
    "start_time": "2023-02-13T14:33:20.422Z"
   },
   {
    "duration": 4,
    "start_time": "2023-02-13T14:35:28.292Z"
   },
   {
    "duration": 11,
    "start_time": "2023-02-13T14:35:28.644Z"
   },
   {
    "duration": 5,
    "start_time": "2023-02-13T14:35:29.011Z"
   },
   {
    "duration": 5,
    "start_time": "2023-02-13T14:35:29.395Z"
   },
   {
    "duration": 125,
    "start_time": "2023-02-13T14:35:29.835Z"
   },
   {
    "duration": 4,
    "start_time": "2023-02-13T14:35:30.284Z"
   },
   {
    "duration": 4,
    "start_time": "2023-02-13T14:35:32.332Z"
   },
   {
    "duration": 16,
    "start_time": "2023-02-13T14:35:33.092Z"
   },
   {
    "duration": 4,
    "start_time": "2023-02-13T14:35:39.677Z"
   },
   {
    "duration": 15,
    "start_time": "2023-02-13T14:35:40.092Z"
   },
   {
    "duration": 13,
    "start_time": "2023-02-13T14:35:46.358Z"
   },
   {
    "duration": 72,
    "start_time": "2023-02-13T14:38:04.757Z"
   },
   {
    "duration": 5,
    "start_time": "2023-02-13T14:38:12.031Z"
   },
   {
    "duration": 14,
    "start_time": "2023-02-13T14:38:12.830Z"
   },
   {
    "duration": 5,
    "start_time": "2023-02-13T14:38:53.490Z"
   },
   {
    "duration": 12,
    "start_time": "2023-02-13T14:38:53.795Z"
   },
   {
    "duration": 15,
    "start_time": "2023-02-13T14:38:57.415Z"
   },
   {
    "duration": 8,
    "start_time": "2023-02-13T14:39:30.239Z"
   },
   {
    "duration": 10,
    "start_time": "2023-02-13T14:39:39.478Z"
   },
   {
    "duration": 25,
    "start_time": "2023-02-13T14:39:45.728Z"
   },
   {
    "duration": 4,
    "start_time": "2023-02-13T15:12:58.916Z"
   },
   {
    "duration": 15,
    "start_time": "2023-02-13T15:12:59.629Z"
   },
   {
    "duration": 1232,
    "start_time": "2023-02-13T15:19:23.064Z"
   },
   {
    "duration": 37,
    "start_time": "2023-02-13T15:19:24.298Z"
   },
   {
    "duration": 13,
    "start_time": "2023-02-13T15:19:24.336Z"
   },
   {
    "duration": 25,
    "start_time": "2023-02-13T15:19:24.351Z"
   },
   {
    "duration": 6,
    "start_time": "2023-02-13T15:19:24.379Z"
   },
   {
    "duration": 12,
    "start_time": "2023-02-13T15:19:24.387Z"
   },
   {
    "duration": 5,
    "start_time": "2023-02-13T15:19:24.401Z"
   },
   {
    "duration": 15,
    "start_time": "2023-02-13T15:19:24.407Z"
   },
   {
    "duration": 41,
    "start_time": "2023-02-13T15:19:24.424Z"
   },
   {
    "duration": 11,
    "start_time": "2023-02-13T15:19:24.467Z"
   },
   {
    "duration": 11,
    "start_time": "2023-02-13T15:19:24.480Z"
   },
   {
    "duration": 5,
    "start_time": "2023-02-13T15:19:24.493Z"
   },
   {
    "duration": 7,
    "start_time": "2023-02-13T15:19:24.500Z"
   },
   {
    "duration": 58,
    "start_time": "2023-02-13T15:19:24.510Z"
   },
   {
    "duration": 4007,
    "start_time": "2023-02-13T15:19:24.663Z"
   },
   {
    "duration": 6117,
    "start_time": "2023-02-13T15:19:28.672Z"
   },
   {
    "duration": 509,
    "start_time": "2023-02-13T15:19:34.791Z"
   },
   {
    "duration": 66,
    "start_time": "2023-02-13T15:19:35.302Z"
   },
   {
    "duration": 525,
    "start_time": "2023-02-13T15:19:35.454Z"
   },
   {
    "duration": 38,
    "start_time": "2023-02-13T15:19:35.981Z"
   },
   {
    "duration": 4,
    "start_time": "2023-02-13T15:19:36.021Z"
   },
   {
    "duration": 8,
    "start_time": "2023-02-13T15:19:36.027Z"
   },
   {
    "duration": 5,
    "start_time": "2023-02-13T15:19:36.054Z"
   },
   {
    "duration": 104,
    "start_time": "2023-02-13T15:19:36.061Z"
   },
   {
    "duration": 102,
    "start_time": "2023-02-13T15:19:36.255Z"
   },
   {
    "duration": 16,
    "start_time": "2023-02-13T15:19:36.359Z"
   },
   {
    "duration": 17,
    "start_time": "2023-02-13T15:19:36.377Z"
   },
   {
    "duration": 563,
    "start_time": "2023-02-13T15:19:36.395Z"
   },
   {
    "duration": 16,
    "start_time": "2023-02-13T15:20:16.942Z"
   },
   {
    "duration": 529,
    "start_time": "2023-02-13T15:20:17.333Z"
   },
   {
    "duration": 391,
    "start_time": "2023-02-13T15:22:18.867Z"
   },
   {
    "duration": 6,
    "start_time": "2023-02-13T15:23:00.393Z"
   },
   {
    "duration": 1205,
    "start_time": "2023-02-13T15:23:27.427Z"
   },
   {
    "duration": 39,
    "start_time": "2023-02-13T15:23:28.635Z"
   },
   {
    "duration": 15,
    "start_time": "2023-02-13T15:23:28.676Z"
   },
   {
    "duration": 21,
    "start_time": "2023-02-13T15:23:28.693Z"
   },
   {
    "duration": 6,
    "start_time": "2023-02-13T15:23:28.716Z"
   },
   {
    "duration": 30,
    "start_time": "2023-02-13T15:23:28.724Z"
   },
   {
    "duration": 5,
    "start_time": "2023-02-13T15:23:28.756Z"
   },
   {
    "duration": 15,
    "start_time": "2023-02-13T15:23:28.763Z"
   },
   {
    "duration": 27,
    "start_time": "2023-02-13T15:23:28.780Z"
   },
   {
    "duration": 9,
    "start_time": "2023-02-13T15:23:28.809Z"
   },
   {
    "duration": 24,
    "start_time": "2023-02-13T15:23:28.820Z"
   },
   {
    "duration": 6,
    "start_time": "2023-02-13T15:23:28.854Z"
   },
   {
    "duration": 9,
    "start_time": "2023-02-13T15:23:28.862Z"
   },
   {
    "duration": 89,
    "start_time": "2023-02-13T15:23:28.874Z"
   },
   {
    "duration": 4083,
    "start_time": "2023-02-13T15:23:28.965Z"
   },
   {
    "duration": 6248,
    "start_time": "2023-02-13T15:23:33.053Z"
   },
   {
    "duration": 513,
    "start_time": "2023-02-13T15:23:39.303Z"
   },
   {
    "duration": 145,
    "start_time": "2023-02-13T15:23:39.818Z"
   },
   {
    "duration": 623,
    "start_time": "2023-02-13T15:23:39.965Z"
   },
   {
    "duration": 37,
    "start_time": "2023-02-13T15:23:40.590Z"
   },
   {
    "duration": 4,
    "start_time": "2023-02-13T15:23:40.629Z"
   },
   {
    "duration": 20,
    "start_time": "2023-02-13T15:23:40.634Z"
   },
   {
    "duration": 7,
    "start_time": "2023-02-13T15:23:40.656Z"
   },
   {
    "duration": 199,
    "start_time": "2023-02-13T15:23:40.665Z"
   },
   {
    "duration": 9,
    "start_time": "2023-02-13T15:23:40.954Z"
   },
   {
    "duration": 96,
    "start_time": "2023-02-13T15:23:40.966Z"
   },
   {
    "duration": 26,
    "start_time": "2023-02-13T15:23:41.064Z"
   },
   {
    "duration": 163,
    "start_time": "2023-02-13T15:23:41.092Z"
   },
   {
    "duration": 8,
    "start_time": "2023-02-13T15:23:41.257Z"
   },
   {
    "duration": 566,
    "start_time": "2023-02-13T15:23:41.353Z"
   },
   {
    "duration": 1176,
    "start_time": "2023-02-13T15:24:56.862Z"
   },
   {
    "duration": 37,
    "start_time": "2023-02-13T15:24:58.039Z"
   },
   {
    "duration": 13,
    "start_time": "2023-02-13T15:24:58.078Z"
   },
   {
    "duration": 20,
    "start_time": "2023-02-13T15:24:58.092Z"
   },
   {
    "duration": 5,
    "start_time": "2023-02-13T15:24:58.114Z"
   },
   {
    "duration": 11,
    "start_time": "2023-02-13T15:24:58.121Z"
   },
   {
    "duration": 22,
    "start_time": "2023-02-13T15:24:58.133Z"
   },
   {
    "duration": 19,
    "start_time": "2023-02-13T15:24:58.157Z"
   },
   {
    "duration": 14,
    "start_time": "2023-02-13T15:24:58.177Z"
   },
   {
    "duration": 8,
    "start_time": "2023-02-13T15:24:58.192Z"
   },
   {
    "duration": 7,
    "start_time": "2023-02-13T15:24:58.201Z"
   },
   {
    "duration": 10,
    "start_time": "2023-02-13T15:24:58.210Z"
   },
   {
    "duration": 533,
    "start_time": "2023-02-13T15:24:58.221Z"
   },
   {
    "duration": 3976,
    "start_time": "2023-02-13T15:24:58.759Z"
   },
   {
    "duration": 5885,
    "start_time": "2023-02-13T15:25:02.736Z"
   },
   {
    "duration": 530,
    "start_time": "2023-02-13T15:25:08.622Z"
   },
   {
    "duration": 407,
    "start_time": "2023-02-13T15:25:09.154Z"
   },
   {
    "duration": 520,
    "start_time": "2023-02-13T15:25:09.563Z"
   },
   {
    "duration": 40,
    "start_time": "2023-02-13T15:25:10.084Z"
   },
   {
    "duration": 227,
    "start_time": "2023-02-13T15:25:10.126Z"
   },
   {
    "duration": 102,
    "start_time": "2023-02-13T15:25:10.355Z"
   },
   {
    "duration": 16,
    "start_time": "2023-02-13T15:25:10.459Z"
   },
   {
    "duration": 27,
    "start_time": "2023-02-13T15:25:10.476Z"
   },
   {
    "duration": 154,
    "start_time": "2023-02-13T15:25:10.505Z"
   },
   {
    "duration": 97,
    "start_time": "2023-02-13T15:25:10.662Z"
   },
   {
    "duration": 620,
    "start_time": "2023-02-13T15:25:10.762Z"
   },
   {
    "duration": 1124,
    "start_time": "2023-02-13T15:25:49.785Z"
   },
   {
    "duration": 37,
    "start_time": "2023-02-13T15:25:50.910Z"
   },
   {
    "duration": 12,
    "start_time": "2023-02-13T15:25:50.949Z"
   },
   {
    "duration": 21,
    "start_time": "2023-02-13T15:25:50.963Z"
   },
   {
    "duration": 6,
    "start_time": "2023-02-13T15:25:50.986Z"
   },
   {
    "duration": 16,
    "start_time": "2023-02-13T15:25:50.994Z"
   },
   {
    "duration": 4,
    "start_time": "2023-02-13T15:25:51.012Z"
   },
   {
    "duration": 43,
    "start_time": "2023-02-13T15:25:51.018Z"
   },
   {
    "duration": 13,
    "start_time": "2023-02-13T15:25:51.063Z"
   },
   {
    "duration": 16,
    "start_time": "2023-02-13T15:25:51.077Z"
   },
   {
    "duration": 15,
    "start_time": "2023-02-13T15:25:51.095Z"
   },
   {
    "duration": 5,
    "start_time": "2023-02-13T15:25:51.112Z"
   },
   {
    "duration": 10,
    "start_time": "2023-02-13T15:25:51.118Z"
   },
   {
    "duration": 123,
    "start_time": "2023-02-13T15:25:51.131Z"
   },
   {
    "duration": 3939,
    "start_time": "2023-02-13T15:25:51.256Z"
   },
   {
    "duration": 6062,
    "start_time": "2023-02-13T15:25:55.197Z"
   },
   {
    "duration": 485,
    "start_time": "2023-02-13T15:26:01.261Z"
   },
   {
    "duration": 106,
    "start_time": "2023-02-13T15:26:01.748Z"
   },
   {
    "duration": 521,
    "start_time": "2023-02-13T15:26:01.857Z"
   },
   {
    "duration": 35,
    "start_time": "2023-02-13T15:26:02.379Z"
   },
   {
    "duration": 138,
    "start_time": "2023-02-13T15:26:02.416Z"
   },
   {
    "duration": 97,
    "start_time": "2023-02-13T15:26:02.557Z"
   },
   {
    "duration": 4,
    "start_time": "2023-02-13T15:26:02.656Z"
   },
   {
    "duration": 122,
    "start_time": "2023-02-13T15:26:02.661Z"
   },
   {
    "duration": 0,
    "start_time": "2023-02-13T15:26:02.784Z"
   },
   {
    "duration": 0,
    "start_time": "2023-02-13T15:26:02.785Z"
   },
   {
    "duration": 0,
    "start_time": "2023-02-13T15:26:02.787Z"
   },
   {
    "duration": 1150,
    "start_time": "2023-02-13T15:28:58.858Z"
   },
   {
    "duration": 38,
    "start_time": "2023-02-13T15:29:00.010Z"
   },
   {
    "duration": 14,
    "start_time": "2023-02-13T15:29:00.050Z"
   },
   {
    "duration": 22,
    "start_time": "2023-02-13T15:29:00.066Z"
   },
   {
    "duration": 6,
    "start_time": "2023-02-13T15:29:00.090Z"
   },
   {
    "duration": 28,
    "start_time": "2023-02-13T15:29:00.097Z"
   },
   {
    "duration": 5,
    "start_time": "2023-02-13T15:29:00.126Z"
   },
   {
    "duration": 20,
    "start_time": "2023-02-13T15:29:00.133Z"
   },
   {
    "duration": 13,
    "start_time": "2023-02-13T15:29:00.155Z"
   },
   {
    "duration": 10,
    "start_time": "2023-02-13T15:29:00.171Z"
   },
   {
    "duration": 14,
    "start_time": "2023-02-13T15:29:00.183Z"
   },
   {
    "duration": 9,
    "start_time": "2023-02-13T15:29:00.199Z"
   },
   {
    "duration": 1044,
    "start_time": "2023-02-13T15:29:00.210Z"
   },
   {
    "duration": 3928,
    "start_time": "2023-02-13T15:29:01.257Z"
   },
   {
    "duration": 6090,
    "start_time": "2023-02-13T15:29:05.187Z"
   },
   {
    "duration": 556,
    "start_time": "2023-02-13T15:29:11.278Z"
   },
   {
    "duration": 520,
    "start_time": "2023-02-13T15:29:11.836Z"
   },
   {
    "duration": 501,
    "start_time": "2023-02-13T15:29:12.358Z"
   },
   {
    "duration": 36,
    "start_time": "2023-02-13T15:29:12.861Z"
   },
   {
    "duration": 166,
    "start_time": "2023-02-13T15:29:12.899Z"
   },
   {
    "duration": 7,
    "start_time": "2023-02-13T15:29:13.155Z"
   },
   {
    "duration": 6,
    "start_time": "2023-02-13T15:29:13.254Z"
   },
   {
    "duration": 24,
    "start_time": "2023-02-13T15:29:13.261Z"
   },
   {
    "duration": 173,
    "start_time": "2023-02-13T15:29:13.286Z"
   },
   {
    "duration": 196,
    "start_time": "2023-02-13T15:29:13.461Z"
   },
   {
    "duration": 514,
    "start_time": "2023-02-13T15:29:13.659Z"
   },
   {
    "duration": 29,
    "start_time": "2023-02-13T15:31:39.641Z"
   },
   {
    "duration": 7151,
    "start_time": "2023-02-13T15:34:55.399Z"
   },
   {
    "duration": 213,
    "start_time": "2023-02-13T15:35:21.985Z"
   },
   {
    "duration": 1105,
    "start_time": "2023-02-13T15:37:35.166Z"
   },
   {
    "duration": 46,
    "start_time": "2023-02-13T15:37:36.273Z"
   },
   {
    "duration": 13,
    "start_time": "2023-02-13T15:37:36.321Z"
   },
   {
    "duration": 19,
    "start_time": "2023-02-13T15:37:36.336Z"
   },
   {
    "duration": 6,
    "start_time": "2023-02-13T15:37:36.357Z"
   },
   {
    "duration": 17,
    "start_time": "2023-02-13T15:37:36.365Z"
   },
   {
    "duration": 4,
    "start_time": "2023-02-13T15:37:36.385Z"
   },
   {
    "duration": 15,
    "start_time": "2023-02-13T15:37:36.391Z"
   },
   {
    "duration": 13,
    "start_time": "2023-02-13T15:37:36.408Z"
   },
   {
    "duration": 33,
    "start_time": "2023-02-13T15:37:36.423Z"
   },
   {
    "duration": 115,
    "start_time": "2023-02-13T15:37:36.458Z"
   },
   {
    "duration": 0,
    "start_time": "2023-02-13T15:37:36.575Z"
   },
   {
    "duration": 0,
    "start_time": "2023-02-13T15:37:36.576Z"
   },
   {
    "duration": 0,
    "start_time": "2023-02-13T15:37:36.577Z"
   },
   {
    "duration": 0,
    "start_time": "2023-02-13T15:37:36.579Z"
   },
   {
    "duration": 0,
    "start_time": "2023-02-13T15:37:36.580Z"
   },
   {
    "duration": 0,
    "start_time": "2023-02-13T15:37:36.581Z"
   },
   {
    "duration": 0,
    "start_time": "2023-02-13T15:37:36.582Z"
   },
   {
    "duration": 0,
    "start_time": "2023-02-13T15:37:36.583Z"
   },
   {
    "duration": 0,
    "start_time": "2023-02-13T15:37:36.584Z"
   },
   {
    "duration": 0,
    "start_time": "2023-02-13T15:37:36.585Z"
   },
   {
    "duration": 0,
    "start_time": "2023-02-13T15:37:36.585Z"
   },
   {
    "duration": 0,
    "start_time": "2023-02-13T15:37:36.587Z"
   },
   {
    "duration": 0,
    "start_time": "2023-02-13T15:37:36.588Z"
   },
   {
    "duration": 0,
    "start_time": "2023-02-13T15:37:36.589Z"
   },
   {
    "duration": 0,
    "start_time": "2023-02-13T15:37:36.590Z"
   },
   {
    "duration": 0,
    "start_time": "2023-02-13T15:37:36.591Z"
   },
   {
    "duration": 14,
    "start_time": "2023-02-13T15:38:07.724Z"
   },
   {
    "duration": 9,
    "start_time": "2023-02-13T15:40:53.582Z"
   },
   {
    "duration": 1088,
    "start_time": "2023-02-13T15:40:58.591Z"
   },
   {
    "duration": 36,
    "start_time": "2023-02-13T15:40:59.681Z"
   },
   {
    "duration": 13,
    "start_time": "2023-02-13T15:40:59.718Z"
   },
   {
    "duration": 21,
    "start_time": "2023-02-13T15:40:59.732Z"
   },
   {
    "duration": 7,
    "start_time": "2023-02-13T15:40:59.755Z"
   },
   {
    "duration": 18,
    "start_time": "2023-02-13T15:40:59.764Z"
   },
   {
    "duration": 5,
    "start_time": "2023-02-13T15:40:59.784Z"
   },
   {
    "duration": 15,
    "start_time": "2023-02-13T15:40:59.790Z"
   },
   {
    "duration": 13,
    "start_time": "2023-02-13T15:40:59.806Z"
   },
   {
    "duration": 13,
    "start_time": "2023-02-13T15:40:59.821Z"
   },
   {
    "duration": 93,
    "start_time": "2023-02-13T15:40:59.854Z"
   },
   {
    "duration": 0,
    "start_time": "2023-02-13T15:40:59.953Z"
   },
   {
    "duration": 0,
    "start_time": "2023-02-13T15:40:59.954Z"
   },
   {
    "duration": 0,
    "start_time": "2023-02-13T15:40:59.955Z"
   },
   {
    "duration": 0,
    "start_time": "2023-02-13T15:40:59.957Z"
   },
   {
    "duration": 0,
    "start_time": "2023-02-13T15:40:59.958Z"
   },
   {
    "duration": 0,
    "start_time": "2023-02-13T15:40:59.959Z"
   },
   {
    "duration": 0,
    "start_time": "2023-02-13T15:40:59.960Z"
   },
   {
    "duration": 0,
    "start_time": "2023-02-13T15:40:59.961Z"
   },
   {
    "duration": 0,
    "start_time": "2023-02-13T15:40:59.962Z"
   },
   {
    "duration": 0,
    "start_time": "2023-02-13T15:40:59.963Z"
   },
   {
    "duration": 0,
    "start_time": "2023-02-13T15:40:59.964Z"
   },
   {
    "duration": 0,
    "start_time": "2023-02-13T15:40:59.965Z"
   },
   {
    "duration": 0,
    "start_time": "2023-02-13T15:40:59.966Z"
   },
   {
    "duration": 0,
    "start_time": "2023-02-13T15:40:59.967Z"
   },
   {
    "duration": 0,
    "start_time": "2023-02-13T15:40:59.967Z"
   },
   {
    "duration": 0,
    "start_time": "2023-02-13T15:40:59.968Z"
   },
   {
    "duration": 1108,
    "start_time": "2023-02-13T15:49:04.055Z"
   },
   {
    "duration": 38,
    "start_time": "2023-02-13T15:49:05.165Z"
   },
   {
    "duration": 14,
    "start_time": "2023-02-13T15:49:05.204Z"
   },
   {
    "duration": 20,
    "start_time": "2023-02-13T15:49:05.220Z"
   },
   {
    "duration": 11,
    "start_time": "2023-02-13T15:49:05.243Z"
   },
   {
    "duration": 12,
    "start_time": "2023-02-13T15:49:05.256Z"
   },
   {
    "duration": 5,
    "start_time": "2023-02-13T15:49:05.269Z"
   },
   {
    "duration": 14,
    "start_time": "2023-02-13T15:49:05.275Z"
   },
   {
    "duration": 12,
    "start_time": "2023-02-13T15:49:05.291Z"
   },
   {
    "duration": 7,
    "start_time": "2023-02-13T15:49:05.305Z"
   },
   {
    "duration": 8,
    "start_time": "2023-02-13T15:49:05.314Z"
   },
   {
    "duration": 31,
    "start_time": "2023-02-13T15:49:05.324Z"
   },
   {
    "duration": 97,
    "start_time": "2023-02-13T15:49:05.357Z"
   },
   {
    "duration": 4032,
    "start_time": "2023-02-13T15:49:05.458Z"
   },
   {
    "duration": 7262,
    "start_time": "2023-02-13T15:49:09.492Z"
   },
   {
    "duration": 506,
    "start_time": "2023-02-13T15:49:16.756Z"
   },
   {
    "duration": 495,
    "start_time": "2023-02-13T15:49:17.263Z"
   },
   {
    "duration": 380,
    "start_time": "2023-02-13T15:49:17.761Z"
   },
   {
    "duration": 41,
    "start_time": "2023-02-13T15:49:18.143Z"
   },
   {
    "duration": 175,
    "start_time": "2023-02-13T15:49:18.186Z"
   },
   {
    "duration": 99,
    "start_time": "2023-02-13T15:49:18.363Z"
   },
   {
    "duration": 5,
    "start_time": "2023-02-13T15:49:18.554Z"
   },
   {
    "duration": 23,
    "start_time": "2023-02-13T15:49:18.561Z"
   },
   {
    "duration": 174,
    "start_time": "2023-02-13T15:49:18.585Z"
   },
   {
    "duration": 95,
    "start_time": "2023-02-13T15:49:18.762Z"
   },
   {
    "duration": 602,
    "start_time": "2023-02-13T15:49:18.860Z"
   },
   {
    "duration": 1128,
    "start_time": "2023-02-14T16:37:25.838Z"
   },
   {
    "duration": 74,
    "start_time": "2023-02-14T16:37:26.968Z"
   },
   {
    "duration": 13,
    "start_time": "2023-02-14T16:37:27.043Z"
   },
   {
    "duration": 18,
    "start_time": "2023-02-14T16:37:27.057Z"
   },
   {
    "duration": 6,
    "start_time": "2023-02-14T16:37:27.078Z"
   },
   {
    "duration": 16,
    "start_time": "2023-02-14T16:37:27.085Z"
   },
   {
    "duration": 5,
    "start_time": "2023-02-14T16:37:27.109Z"
   },
   {
    "duration": 16,
    "start_time": "2023-02-14T16:37:27.115Z"
   },
   {
    "duration": 11,
    "start_time": "2023-02-14T16:37:27.132Z"
   },
   {
    "duration": 7,
    "start_time": "2023-02-14T16:37:27.144Z"
   },
   {
    "duration": 9,
    "start_time": "2023-02-14T16:37:27.152Z"
   },
   {
    "duration": 7,
    "start_time": "2023-02-14T16:37:27.163Z"
   },
   {
    "duration": 40,
    "start_time": "2023-02-14T16:37:27.171Z"
   },
   {
    "duration": 4472,
    "start_time": "2023-02-14T16:37:27.215Z"
   },
   {
    "duration": 8102,
    "start_time": "2023-02-14T16:37:31.688Z"
   },
   {
    "duration": 590,
    "start_time": "2023-02-14T16:37:39.792Z"
   },
   {
    "duration": 138,
    "start_time": "2023-02-14T16:37:40.384Z"
   },
   {
    "duration": 410,
    "start_time": "2023-02-14T16:37:40.524Z"
   },
   {
    "duration": 41,
    "start_time": "2023-02-14T16:37:40.935Z"
   },
   {
    "duration": 134,
    "start_time": "2023-02-14T16:37:40.977Z"
   },
   {
    "duration": 99,
    "start_time": "2023-02-14T16:37:41.112Z"
   },
   {
    "duration": 12,
    "start_time": "2023-02-14T16:37:41.212Z"
   },
   {
    "duration": 17,
    "start_time": "2023-02-14T16:37:41.226Z"
   },
   {
    "duration": 74,
    "start_time": "2023-02-14T16:37:41.244Z"
   },
   {
    "duration": 100,
    "start_time": "2023-02-14T16:37:41.411Z"
   },
   {
    "duration": 587,
    "start_time": "2023-02-14T16:37:41.512Z"
   },
   {
    "duration": 69,
    "start_time": "2023-02-14T16:39:11.997Z"
   },
   {
    "duration": 124,
    "start_time": "2023-02-14T16:39:16.885Z"
   },
   {
    "duration": 89,
    "start_time": "2023-02-14T16:39:21.022Z"
   },
   {
    "duration": 39,
    "start_time": "2023-02-14T16:40:24.220Z"
   },
   {
    "duration": 32,
    "start_time": "2023-02-14T16:41:11.678Z"
   },
   {
    "duration": 20,
    "start_time": "2023-02-14T16:41:27.726Z"
   },
   {
    "duration": 4323,
    "start_time": "2023-02-14T16:41:28.158Z"
   },
   {
    "duration": 8037,
    "start_time": "2023-02-14T16:41:32.483Z"
   },
   {
    "duration": 578,
    "start_time": "2023-02-14T16:41:40.522Z"
   },
   {
    "duration": 215,
    "start_time": "2023-02-14T16:41:41.103Z"
   },
   {
    "duration": 327,
    "start_time": "2023-02-14T16:41:41.409Z"
   },
   {
    "duration": 47,
    "start_time": "2023-02-14T16:41:41.737Z"
   },
   {
    "duration": 130,
    "start_time": "2023-02-14T16:41:41.785Z"
   },
   {
    "duration": 5,
    "start_time": "2023-02-14T16:42:04.017Z"
   },
   {
    "duration": 131,
    "start_time": "2023-02-14T16:42:42.382Z"
   },
   {
    "duration": 73,
    "start_time": "2023-02-14T16:42:51.950Z"
   },
   {
    "duration": 39,
    "start_time": "2023-02-14T16:42:58.118Z"
   },
   {
    "duration": 18,
    "start_time": "2023-02-14T16:43:10.670Z"
   },
   {
    "duration": 57,
    "start_time": "2023-02-14T16:46:09.254Z"
   },
   {
    "duration": 39,
    "start_time": "2023-02-14T16:51:17.729Z"
   },
   {
    "duration": 86,
    "start_time": "2023-02-14T16:51:31.824Z"
   },
   {
    "duration": 65,
    "start_time": "2023-02-14T16:51:43.447Z"
   },
   {
    "duration": 170,
    "start_time": "2023-02-14T16:51:46.542Z"
   },
   {
    "duration": 93,
    "start_time": "2023-02-14T16:51:50.118Z"
   },
   {
    "duration": 46,
    "start_time": "2023-02-14T16:52:36.575Z"
   },
   {
    "duration": 5,
    "start_time": "2023-02-14T16:52:37.727Z"
   },
   {
    "duration": 86,
    "start_time": "2023-02-14T16:52:46.324Z"
   },
   {
    "duration": 5,
    "start_time": "2023-02-14T16:52:47.551Z"
   },
   {
    "duration": 5,
    "start_time": "2023-02-14T16:52:55.113Z"
   },
   {
    "duration": 15,
    "start_time": "2023-02-14T16:52:57.886Z"
   },
   {
    "duration": 586,
    "start_time": "2023-02-14T16:52:59.096Z"
   },
   {
    "duration": 5,
    "start_time": "2023-02-14T16:53:19.983Z"
   },
   {
    "duration": 15,
    "start_time": "2023-02-14T16:53:26.751Z"
   },
   {
    "duration": 580,
    "start_time": "2023-02-14T16:53:27.120Z"
   },
   {
    "duration": 11,
    "start_time": "2023-02-14T16:53:27.702Z"
   },
   {
    "duration": 18,
    "start_time": "2023-02-14T16:53:35.695Z"
   },
   {
    "duration": 623,
    "start_time": "2023-02-14T16:53:36.392Z"
   },
   {
    "duration": 5,
    "start_time": "2023-02-14T16:53:37.175Z"
   },
   {
    "duration": 17,
    "start_time": "2023-02-14T16:53:50.286Z"
   },
   {
    "duration": 596,
    "start_time": "2023-02-14T16:53:50.767Z"
   },
   {
    "duration": 6,
    "start_time": "2023-02-14T16:53:51.365Z"
   },
   {
    "duration": 15,
    "start_time": "2023-02-14T16:53:57.191Z"
   },
   {
    "duration": 578,
    "start_time": "2023-02-14T16:53:57.871Z"
   },
   {
    "duration": 7,
    "start_time": "2023-02-14T16:53:59.935Z"
   },
   {
    "duration": 4,
    "start_time": "2023-02-14T16:54:10.896Z"
   },
   {
    "duration": 16,
    "start_time": "2023-02-14T16:54:11.342Z"
   },
   {
    "duration": 586,
    "start_time": "2023-02-14T16:54:12.031Z"
   },
   {
    "duration": 4,
    "start_time": "2023-02-14T16:54:12.619Z"
   },
   {
    "duration": 15,
    "start_time": "2023-02-14T16:55:28.531Z"
   },
   {
    "duration": 766,
    "start_time": "2023-02-14T16:55:53.729Z"
   },
   {
    "duration": 6,
    "start_time": "2023-02-14T16:55:55.344Z"
   },
   {
    "duration": 151,
    "start_time": "2023-02-14T16:57:29.360Z"
   },
   {
    "duration": 5,
    "start_time": "2023-02-14T16:57:29.896Z"
   },
   {
    "duration": 163,
    "start_time": "2023-02-14T16:57:48.848Z"
   },
   {
    "duration": 65,
    "start_time": "2023-02-14T16:58:01.649Z"
   },
   {
    "duration": 5,
    "start_time": "2023-02-14T16:58:03.224Z"
   },
   {
    "duration": 115,
    "start_time": "2023-02-14T16:58:09.801Z"
   },
   {
    "duration": 6,
    "start_time": "2023-02-14T16:58:10.496Z"
   },
   {
    "duration": 21,
    "start_time": "2023-02-14T16:58:18.392Z"
   },
   {
    "duration": 6,
    "start_time": "2023-02-14T16:58:19.552Z"
   },
   {
    "duration": 4,
    "start_time": "2023-02-14T16:58:20.620Z"
   },
   {
    "duration": 14,
    "start_time": "2023-02-14T16:58:20.839Z"
   },
   {
    "duration": 762,
    "start_time": "2023-02-14T16:58:21.514Z"
   },
   {
    "duration": 6,
    "start_time": "2023-02-14T16:58:23.239Z"
   },
   {
    "duration": 91,
    "start_time": "2023-02-14T16:58:25.229Z"
   },
   {
    "duration": 8,
    "start_time": "2023-02-14T16:58:26.768Z"
   },
   {
    "duration": 6,
    "start_time": "2023-02-14T16:58:44.760Z"
   },
   {
    "duration": 6224,
    "start_time": "2023-02-14T17:00:49.377Z"
   },
   {
    "duration": 11422,
    "start_time": "2023-02-14T17:01:25.378Z"
   },
   {
    "duration": 54,
    "start_time": "2023-02-14T17:02:07.665Z"
   },
   {
    "duration": 6,
    "start_time": "2023-02-14T17:02:08.001Z"
   },
   {
    "duration": 55,
    "start_time": "2023-02-14T17:02:19.569Z"
   },
   {
    "duration": 7,
    "start_time": "2023-02-14T17:02:20.496Z"
   },
   {
    "duration": 53,
    "start_time": "2023-02-14T17:02:46.353Z"
   },
   {
    "duration": 6,
    "start_time": "2023-02-14T17:02:47.632Z"
   },
   {
    "duration": 332,
    "start_time": "2023-02-14T17:03:58.621Z"
   },
   {
    "duration": 7,
    "start_time": "2023-02-14T17:04:32.082Z"
   },
   {
    "duration": 298,
    "start_time": "2023-02-14T17:07:04.093Z"
   },
   {
    "duration": 9,
    "start_time": "2023-02-14T17:07:13.241Z"
   },
   {
    "duration": 160,
    "start_time": "2023-02-14T17:07:13.554Z"
   },
   {
    "duration": 6,
    "start_time": "2023-02-14T17:07:14.817Z"
   },
   {
    "duration": 1086,
    "start_time": "2023-02-16T08:31:43.028Z"
   },
   {
    "duration": 157,
    "start_time": "2023-02-16T08:31:44.116Z"
   },
   {
    "duration": 16,
    "start_time": "2023-02-16T08:31:44.274Z"
   },
   {
    "duration": 21,
    "start_time": "2023-02-16T08:31:44.291Z"
   },
   {
    "duration": 6,
    "start_time": "2023-02-16T08:31:44.315Z"
   },
   {
    "duration": 18,
    "start_time": "2023-02-16T08:31:44.322Z"
   },
   {
    "duration": 5,
    "start_time": "2023-02-16T08:31:44.342Z"
   },
   {
    "duration": 11,
    "start_time": "2023-02-16T08:31:44.349Z"
   },
   {
    "duration": 12,
    "start_time": "2023-02-16T08:31:44.362Z"
   },
   {
    "duration": 31,
    "start_time": "2023-02-16T08:31:44.376Z"
   },
   {
    "duration": 7,
    "start_time": "2023-02-16T08:31:44.408Z"
   },
   {
    "duration": 4,
    "start_time": "2023-02-16T08:31:44.416Z"
   },
   {
    "duration": 583,
    "start_time": "2023-02-16T08:31:44.422Z"
   },
   {
    "duration": 4218,
    "start_time": "2023-02-16T08:31:45.010Z"
   },
   {
    "duration": 7664,
    "start_time": "2023-02-16T08:31:49.230Z"
   },
   {
    "duration": 531,
    "start_time": "2023-02-16T08:31:56.896Z"
   },
   {
    "duration": 885,
    "start_time": "2023-02-16T08:31:57.429Z"
   },
   {
    "duration": 260,
    "start_time": "2023-02-16T08:31:58.403Z"
   },
   {
    "duration": 47,
    "start_time": "2023-02-16T08:31:58.664Z"
   },
   {
    "duration": 201,
    "start_time": "2023-02-16T08:31:58.712Z"
   },
   {
    "duration": 106,
    "start_time": "2023-02-16T08:31:59.003Z"
   },
   {
    "duration": 5,
    "start_time": "2023-02-16T08:31:59.111Z"
   },
   {
    "duration": 22,
    "start_time": "2023-02-16T08:31:59.117Z"
   },
   {
    "duration": 680,
    "start_time": "2023-02-16T08:31:59.140Z"
   },
   {
    "duration": 12,
    "start_time": "2023-02-16T08:31:59.822Z"
   },
   {
    "duration": 279,
    "start_time": "2023-02-16T08:31:59.836Z"
   },
   {
    "duration": 94,
    "start_time": "2023-02-16T08:32:00.117Z"
   },
   {
    "duration": 6045,
    "start_time": "2023-02-16T08:32:00.213Z"
   },
   {
    "duration": 10459,
    "start_time": "2023-02-16T08:32:06.260Z"
   },
   {
    "duration": 330,
    "start_time": "2023-02-16T08:32:16.721Z"
   },
   {
    "duration": 6,
    "start_time": "2023-02-16T08:32:17.052Z"
   },
   {
    "duration": 10,
    "start_time": "2023-02-16T08:32:17.060Z"
   },
   {
    "duration": 334,
    "start_time": "2023-02-16T08:32:17.071Z"
   },
   {
    "duration": 9,
    "start_time": "2023-02-16T08:32:17.407Z"
   },
   {
    "duration": 471,
    "start_time": "2023-02-16T08:39:42.740Z"
   },
   {
    "duration": 55,
    "start_time": "2023-02-16T08:52:07.531Z"
   },
   {
    "duration": 5,
    "start_time": "2023-02-16T08:52:45.691Z"
   },
   {
    "duration": 150,
    "start_time": "2023-02-16T09:06:37.187Z"
   },
   {
    "duration": 9,
    "start_time": "2023-02-16T09:06:49.649Z"
   },
   {
    "duration": 22,
    "start_time": "2023-02-16T09:07:03.499Z"
   },
   {
    "duration": 13,
    "start_time": "2023-02-16T09:07:04.787Z"
   },
   {
    "duration": 5,
    "start_time": "2023-02-16T09:07:24.852Z"
   },
   {
    "duration": 7,
    "start_time": "2023-02-16T09:07:25.932Z"
   },
   {
    "duration": 4436,
    "start_time": "2023-02-16T09:07:27.038Z"
   },
   {
    "duration": 6,
    "start_time": "2023-02-16T09:08:07.969Z"
   },
   {
    "duration": 155,
    "start_time": "2023-02-16T09:08:52.924Z"
   },
   {
    "duration": 1453,
    "start_time": "2023-02-16T09:09:29.824Z"
   },
   {
    "duration": 45,
    "start_time": "2023-02-16T09:09:31.279Z"
   },
   {
    "duration": 13,
    "start_time": "2023-02-16T09:09:31.325Z"
   },
   {
    "duration": 17,
    "start_time": "2023-02-16T09:09:31.340Z"
   },
   {
    "duration": 6,
    "start_time": "2023-02-16T09:09:31.359Z"
   },
   {
    "duration": 18,
    "start_time": "2023-02-16T09:09:31.366Z"
   },
   {
    "duration": 23,
    "start_time": "2023-02-16T09:09:31.386Z"
   },
   {
    "duration": 13,
    "start_time": "2023-02-16T09:09:31.412Z"
   },
   {
    "duration": 19,
    "start_time": "2023-02-16T09:09:31.427Z"
   },
   {
    "duration": 16,
    "start_time": "2023-02-16T09:09:31.447Z"
   },
   {
    "duration": 13,
    "start_time": "2023-02-16T09:09:31.464Z"
   },
   {
    "duration": 5,
    "start_time": "2023-02-16T09:09:31.480Z"
   },
   {
    "duration": 738,
    "start_time": "2023-02-16T09:09:31.487Z"
   },
   {
    "duration": 4204,
    "start_time": "2023-02-16T09:09:32.310Z"
   },
   {
    "duration": 7679,
    "start_time": "2023-02-16T09:09:36.516Z"
   },
   {
    "duration": 557,
    "start_time": "2023-02-16T09:09:44.197Z"
   },
   {
    "duration": 1150,
    "start_time": "2023-02-16T09:09:44.756Z"
   },
   {
    "duration": 310,
    "start_time": "2023-02-16T09:09:45.910Z"
   },
   {
    "duration": 37,
    "start_time": "2023-02-16T09:09:46.222Z"
   },
   {
    "duration": 260,
    "start_time": "2023-02-16T09:09:46.261Z"
   },
   {
    "duration": 6,
    "start_time": "2023-02-16T09:09:46.523Z"
   },
   {
    "duration": 111,
    "start_time": "2023-02-16T09:09:46.611Z"
   },
   {
    "duration": 22,
    "start_time": "2023-02-16T09:09:46.725Z"
   },
   {
    "duration": 792,
    "start_time": "2023-02-16T09:09:46.750Z"
   },
   {
    "duration": 6,
    "start_time": "2023-02-16T09:09:47.543Z"
   },
   {
    "duration": 782,
    "start_time": "2023-02-16T09:09:47.550Z"
   },
   {
    "duration": 8,
    "start_time": "2023-02-16T09:09:48.410Z"
   },
   {
    "duration": 5698,
    "start_time": "2023-02-16T09:09:48.420Z"
   },
   {
    "duration": 10510,
    "start_time": "2023-02-16T09:09:54.120Z"
   },
   {
    "duration": 325,
    "start_time": "2023-02-16T09:10:04.635Z"
   },
   {
    "duration": 7,
    "start_time": "2023-02-16T09:10:04.962Z"
   },
   {
    "duration": 12,
    "start_time": "2023-02-16T09:10:04.971Z"
   },
   {
    "duration": 725,
    "start_time": "2023-02-16T09:10:04.985Z"
   },
   {
    "duration": 13,
    "start_time": "2023-02-16T09:10:05.712Z"
   },
   {
    "duration": 108,
    "start_time": "2023-02-16T09:10:05.728Z"
   },
   {
    "duration": 182,
    "start_time": "2023-02-16T09:10:05.838Z"
   },
   {
    "duration": 133,
    "start_time": "2023-02-16T09:10:06.022Z"
   },
   {
    "duration": 7,
    "start_time": "2023-02-16T09:10:06.157Z"
   },
   {
    "duration": 5,
    "start_time": "2023-02-16T10:00:54.375Z"
   },
   {
    "duration": 1965,
    "start_time": "2023-02-16T10:01:00.138Z"
   },
   {
    "duration": 40,
    "start_time": "2023-02-16T10:01:02.105Z"
   },
   {
    "duration": 12,
    "start_time": "2023-02-16T10:01:02.147Z"
   },
   {
    "duration": 31,
    "start_time": "2023-02-16T10:01:02.161Z"
   },
   {
    "duration": 5,
    "start_time": "2023-02-16T10:01:02.195Z"
   },
   {
    "duration": 25,
    "start_time": "2023-02-16T10:01:02.201Z"
   },
   {
    "duration": 7,
    "start_time": "2023-02-16T10:01:02.228Z"
   },
   {
    "duration": 14,
    "start_time": "2023-02-16T10:01:02.237Z"
   },
   {
    "duration": 38,
    "start_time": "2023-02-16T10:01:02.253Z"
   },
   {
    "duration": 12,
    "start_time": "2023-02-16T10:01:02.292Z"
   },
   {
    "duration": 11,
    "start_time": "2023-02-16T10:01:02.306Z"
   },
   {
    "duration": 13,
    "start_time": "2023-02-16T10:01:02.319Z"
   },
   {
    "duration": 379,
    "start_time": "2023-02-16T10:01:02.334Z"
   },
   {
    "duration": 3995,
    "start_time": "2023-02-16T10:01:02.808Z"
   },
   {
    "duration": 7185,
    "start_time": "2023-02-16T10:01:06.805Z"
   },
   {
    "duration": 517,
    "start_time": "2023-02-16T10:01:13.992Z"
   },
   {
    "duration": 495,
    "start_time": "2023-02-16T10:01:14.511Z"
   },
   {
    "duration": 306,
    "start_time": "2023-02-16T10:01:15.008Z"
   },
   {
    "duration": 44,
    "start_time": "2023-02-16T10:01:15.316Z"
   },
   {
    "duration": 344,
    "start_time": "2023-02-16T10:01:15.361Z"
   },
   {
    "duration": 96,
    "start_time": "2023-02-16T10:01:15.708Z"
   },
   {
    "duration": 7,
    "start_time": "2023-02-16T10:01:15.806Z"
   },
   {
    "duration": 17,
    "start_time": "2023-02-16T10:01:15.815Z"
   },
   {
    "duration": 681,
    "start_time": "2023-02-16T10:01:15.833Z"
   },
   {
    "duration": 4,
    "start_time": "2023-02-16T10:01:16.516Z"
   },
   {
    "duration": 487,
    "start_time": "2023-02-16T10:01:16.522Z"
   },
   {
    "duration": 97,
    "start_time": "2023-02-16T10:01:17.011Z"
   },
   {
    "duration": 5687,
    "start_time": "2023-02-16T10:01:17.111Z"
   },
   {
    "duration": 9955,
    "start_time": "2023-02-16T10:01:22.799Z"
   },
   {
    "duration": 306,
    "start_time": "2023-02-16T10:01:32.756Z"
   },
   {
    "duration": 6,
    "start_time": "2023-02-16T10:01:33.063Z"
   },
   {
    "duration": 12,
    "start_time": "2023-02-16T10:01:33.070Z"
   },
   {
    "duration": 420,
    "start_time": "2023-02-16T10:01:33.084Z"
   },
   {
    "duration": 97,
    "start_time": "2023-02-16T10:01:33.507Z"
   },
   {
    "duration": 6,
    "start_time": "2023-02-16T10:01:33.607Z"
   },
   {
    "duration": 193,
    "start_time": "2023-02-16T10:01:33.616Z"
   },
   {
    "duration": 150,
    "start_time": "2023-02-16T10:01:33.810Z"
   },
   {
    "duration": 5,
    "start_time": "2023-02-16T10:01:33.962Z"
   },
   {
    "duration": 135,
    "start_time": "2023-02-16T10:02:59.981Z"
   },
   {
    "duration": 1541,
    "start_time": "2023-02-17T06:14:54.887Z"
   },
   {
    "duration": 161,
    "start_time": "2023-02-17T06:14:56.431Z"
   },
   {
    "duration": 15,
    "start_time": "2023-02-17T06:14:56.593Z"
   },
   {
    "duration": 25,
    "start_time": "2023-02-17T06:14:56.610Z"
   },
   {
    "duration": 18,
    "start_time": "2023-02-17T06:14:56.637Z"
   },
   {
    "duration": 27,
    "start_time": "2023-02-17T06:14:56.656Z"
   },
   {
    "duration": 13,
    "start_time": "2023-02-17T06:14:56.685Z"
   },
   {
    "duration": 28,
    "start_time": "2023-02-17T06:14:56.700Z"
   },
   {
    "duration": 37,
    "start_time": "2023-02-17T06:14:56.730Z"
   },
   {
    "duration": 15,
    "start_time": "2023-02-17T06:14:56.769Z"
   },
   {
    "duration": 26,
    "start_time": "2023-02-17T06:14:56.785Z"
   },
   {
    "duration": 21,
    "start_time": "2023-02-17T06:14:56.812Z"
   },
   {
    "duration": 708,
    "start_time": "2023-02-17T06:14:56.835Z"
   },
   {
    "duration": 4272,
    "start_time": "2023-02-17T06:14:57.551Z"
   },
   {
    "duration": 7426,
    "start_time": "2023-02-17T06:15:01.825Z"
   },
   {
    "duration": 571,
    "start_time": "2023-02-17T06:15:09.253Z"
   },
   {
    "duration": 413,
    "start_time": "2023-02-17T06:15:09.825Z"
   },
   {
    "duration": 298,
    "start_time": "2023-02-17T06:15:10.241Z"
   },
   {
    "duration": 40,
    "start_time": "2023-02-17T06:15:10.541Z"
   },
   {
    "duration": 164,
    "start_time": "2023-02-17T06:15:10.582Z"
   },
   {
    "duration": 102,
    "start_time": "2023-02-17T06:15:10.840Z"
   },
   {
    "duration": 13,
    "start_time": "2023-02-17T06:15:10.944Z"
   },
   {
    "duration": 35,
    "start_time": "2023-02-17T06:15:10.958Z"
   },
   {
    "duration": 712,
    "start_time": "2023-02-17T06:15:10.996Z"
   },
   {
    "duration": 6,
    "start_time": "2023-02-17T06:15:11.709Z"
   },
   {
    "duration": 326,
    "start_time": "2023-02-17T06:15:11.717Z"
   },
   {
    "duration": 99,
    "start_time": "2023-02-17T06:15:12.045Z"
   },
   {
    "duration": 5656,
    "start_time": "2023-02-17T06:15:12.145Z"
   },
   {
    "duration": 10701,
    "start_time": "2023-02-17T06:15:17.803Z"
   },
   {
    "duration": 320,
    "start_time": "2023-02-17T06:15:28.506Z"
   },
   {
    "duration": 9,
    "start_time": "2023-02-17T06:15:28.828Z"
   },
   {
    "duration": 37,
    "start_time": "2023-02-17T06:15:28.839Z"
   },
   {
    "duration": 269,
    "start_time": "2023-02-17T06:15:28.878Z"
   },
   {
    "duration": 103,
    "start_time": "2023-02-17T06:15:29.239Z"
   },
   {
    "duration": 94,
    "start_time": "2023-02-17T06:15:29.344Z"
   },
   {
    "duration": 116,
    "start_time": "2023-02-17T06:15:29.440Z"
   },
   {
    "duration": 203,
    "start_time": "2023-02-17T06:15:29.558Z"
   },
   {
    "duration": 6,
    "start_time": "2023-02-17T06:15:29.763Z"
   },
   {
    "duration": 174,
    "start_time": "2023-02-17T06:15:48.338Z"
   },
   {
    "duration": 1490,
    "start_time": "2023-02-17T06:20:41.519Z"
   },
   {
    "duration": 43,
    "start_time": "2023-02-17T06:20:43.012Z"
   },
   {
    "duration": 17,
    "start_time": "2023-02-17T06:20:43.056Z"
   },
   {
    "duration": 27,
    "start_time": "2023-02-17T06:20:43.074Z"
   },
   {
    "duration": 7,
    "start_time": "2023-02-17T06:20:43.104Z"
   },
   {
    "duration": 25,
    "start_time": "2023-02-17T06:20:43.113Z"
   },
   {
    "duration": 16,
    "start_time": "2023-02-17T06:20:43.140Z"
   },
   {
    "duration": 21,
    "start_time": "2023-02-17T06:20:43.158Z"
   },
   {
    "duration": 24,
    "start_time": "2023-02-17T06:20:43.181Z"
   },
   {
    "duration": 24,
    "start_time": "2023-02-17T06:20:43.208Z"
   },
   {
    "duration": 14,
    "start_time": "2023-02-17T06:20:43.234Z"
   },
   {
    "duration": 21,
    "start_time": "2023-02-17T06:20:43.249Z"
   },
   {
    "duration": 142,
    "start_time": "2023-02-17T06:20:43.272Z"
   },
   {
    "duration": 0,
    "start_time": "2023-02-17T06:20:43.418Z"
   },
   {
    "duration": 0,
    "start_time": "2023-02-17T06:20:43.420Z"
   },
   {
    "duration": 0,
    "start_time": "2023-02-17T06:20:43.421Z"
   },
   {
    "duration": 0,
    "start_time": "2023-02-17T06:20:43.422Z"
   },
   {
    "duration": 0,
    "start_time": "2023-02-17T06:20:43.438Z"
   },
   {
    "duration": 0,
    "start_time": "2023-02-17T06:20:43.440Z"
   },
   {
    "duration": 0,
    "start_time": "2023-02-17T06:20:43.441Z"
   },
   {
    "duration": 0,
    "start_time": "2023-02-17T06:20:43.442Z"
   },
   {
    "duration": 0,
    "start_time": "2023-02-17T06:20:43.443Z"
   },
   {
    "duration": 0,
    "start_time": "2023-02-17T06:20:43.445Z"
   },
   {
    "duration": 0,
    "start_time": "2023-02-17T06:20:43.446Z"
   },
   {
    "duration": 0,
    "start_time": "2023-02-17T06:20:43.447Z"
   },
   {
    "duration": 0,
    "start_time": "2023-02-17T06:20:43.448Z"
   },
   {
    "duration": 0,
    "start_time": "2023-02-17T06:20:43.449Z"
   },
   {
    "duration": 0,
    "start_time": "2023-02-17T06:20:43.450Z"
   },
   {
    "duration": 0,
    "start_time": "2023-02-17T06:20:43.452Z"
   },
   {
    "duration": 0,
    "start_time": "2023-02-17T06:20:43.453Z"
   },
   {
    "duration": 0,
    "start_time": "2023-02-17T06:20:43.454Z"
   },
   {
    "duration": 0,
    "start_time": "2023-02-17T06:20:43.456Z"
   },
   {
    "duration": 0,
    "start_time": "2023-02-17T06:20:43.457Z"
   },
   {
    "duration": 0,
    "start_time": "2023-02-17T06:20:43.458Z"
   },
   {
    "duration": 0,
    "start_time": "2023-02-17T06:20:43.459Z"
   },
   {
    "duration": 0,
    "start_time": "2023-02-17T06:20:43.460Z"
   },
   {
    "duration": 0,
    "start_time": "2023-02-17T06:20:43.461Z"
   },
   {
    "duration": 0,
    "start_time": "2023-02-17T06:20:43.462Z"
   },
   {
    "duration": 1479,
    "start_time": "2023-02-17T06:21:05.416Z"
   },
   {
    "duration": 41,
    "start_time": "2023-02-17T06:21:06.897Z"
   },
   {
    "duration": 13,
    "start_time": "2023-02-17T06:21:06.940Z"
   },
   {
    "duration": 18,
    "start_time": "2023-02-17T06:21:06.955Z"
   },
   {
    "duration": 7,
    "start_time": "2023-02-17T06:21:06.976Z"
   },
   {
    "duration": 16,
    "start_time": "2023-02-17T06:21:06.985Z"
   },
   {
    "duration": 36,
    "start_time": "2023-02-17T06:21:07.003Z"
   },
   {
    "duration": 13,
    "start_time": "2023-02-17T06:21:07.041Z"
   },
   {
    "duration": 27,
    "start_time": "2023-02-17T06:21:07.056Z"
   },
   {
    "duration": 13,
    "start_time": "2023-02-17T06:21:07.085Z"
   },
   {
    "duration": 13,
    "start_time": "2023-02-17T06:21:07.100Z"
   },
   {
    "duration": 6,
    "start_time": "2023-02-17T06:21:07.115Z"
   },
   {
    "duration": 421,
    "start_time": "2023-02-17T06:21:07.122Z"
   },
   {
    "duration": 4264,
    "start_time": "2023-02-17T06:21:07.547Z"
   },
   {
    "duration": 7784,
    "start_time": "2023-02-17T06:21:11.813Z"
   },
   {
    "duration": 586,
    "start_time": "2023-02-17T06:21:19.599Z"
   },
   {
    "duration": 451,
    "start_time": "2023-02-17T06:21:20.187Z"
   },
   {
    "duration": 323,
    "start_time": "2023-02-17T06:21:20.641Z"
   },
   {
    "duration": 44,
    "start_time": "2023-02-17T06:21:20.966Z"
   },
   {
    "duration": 325,
    "start_time": "2023-02-17T06:21:21.012Z"
   },
   {
    "duration": 99,
    "start_time": "2023-02-17T06:21:21.339Z"
   },
   {
    "duration": 7,
    "start_time": "2023-02-17T06:21:21.440Z"
   },
   {
    "duration": 30,
    "start_time": "2023-02-17T06:21:21.449Z"
   },
   {
    "duration": 790,
    "start_time": "2023-02-17T06:21:21.481Z"
   },
   {
    "duration": 8,
    "start_time": "2023-02-17T06:21:22.273Z"
   },
   {
    "duration": 364,
    "start_time": "2023-02-17T06:21:22.283Z"
   },
   {
    "duration": 98,
    "start_time": "2023-02-17T06:21:22.739Z"
   },
   {
    "duration": 5816,
    "start_time": "2023-02-17T06:21:22.840Z"
   },
   {
    "duration": 10366,
    "start_time": "2023-02-17T06:21:28.658Z"
   },
   {
    "duration": 294,
    "start_time": "2023-02-17T06:21:39.026Z"
   },
   {
    "duration": 5,
    "start_time": "2023-02-17T06:21:39.322Z"
   },
   {
    "duration": 19,
    "start_time": "2023-02-17T06:21:39.329Z"
   },
   {
    "duration": 388,
    "start_time": "2023-02-17T06:21:39.350Z"
   },
   {
    "duration": 98,
    "start_time": "2023-02-17T06:21:39.740Z"
   },
   {
    "duration": 7,
    "start_time": "2023-02-17T06:21:39.840Z"
   },
   {
    "duration": 95,
    "start_time": "2023-02-17T06:21:39.849Z"
   },
   {
    "duration": 279,
    "start_time": "2023-02-17T06:21:39.946Z"
   },
   {
    "duration": 12,
    "start_time": "2023-02-17T06:21:40.226Z"
   },
   {
    "duration": 57,
    "start_time": "2023-02-17T06:35:11.249Z"
   },
   {
    "duration": 10,
    "start_time": "2023-02-17T06:42:43.572Z"
   },
   {
    "duration": 6,
    "start_time": "2023-02-17T06:47:38.404Z"
   },
   {
    "duration": 48,
    "start_time": "2023-02-17T06:59:29.788Z"
   },
   {
    "duration": 227,
    "start_time": "2023-02-17T07:01:07.319Z"
   },
   {
    "duration": 153,
    "start_time": "2023-02-17T07:06:28.508Z"
   },
   {
    "duration": 4012,
    "start_time": "2023-02-17T07:06:37.133Z"
   },
   {
    "duration": 55,
    "start_time": "2023-02-17T07:06:55.336Z"
   },
   {
    "duration": 3985,
    "start_time": "2023-02-17T07:09:31.185Z"
   },
   {
    "duration": 59,
    "start_time": "2023-02-17T07:22:12.408Z"
   },
   {
    "duration": 42,
    "start_time": "2023-02-17T07:23:02.230Z"
   },
   {
    "duration": 6,
    "start_time": "2023-02-17T07:23:03.973Z"
   },
   {
    "duration": 123,
    "start_time": "2023-02-17T07:23:14.615Z"
   },
   {
    "duration": 52,
    "start_time": "2023-02-17T07:28:10.049Z"
   },
   {
    "duration": 159,
    "start_time": "2023-02-17T07:28:10.480Z"
   },
   {
    "duration": 771,
    "start_time": "2023-02-17T07:29:21.224Z"
   },
   {
    "duration": 7,
    "start_time": "2023-02-17T07:29:24.984Z"
   },
   {
    "duration": 11014,
    "start_time": "2023-02-17T07:31:14.837Z"
   },
   {
    "duration": 10565,
    "start_time": "2023-02-17T07:32:04.811Z"
   },
   {
    "duration": 11020,
    "start_time": "2023-02-17T07:33:51.727Z"
   },
   {
    "duration": 13,
    "start_time": "2023-02-17T07:41:52.463Z"
   },
   {
    "duration": 228,
    "start_time": "2023-02-17T07:47:00.520Z"
   },
   {
    "duration": 11,
    "start_time": "2023-02-17T07:49:04.205Z"
   },
   {
    "duration": 704,
    "start_time": "2023-02-17T07:49:05.399Z"
   },
   {
    "duration": 13,
    "start_time": "2023-02-17T07:49:09.493Z"
   },
   {
    "duration": 12,
    "start_time": "2023-02-17T07:49:32.072Z"
   },
   {
    "duration": 11,
    "start_time": "2023-02-17T07:49:54.499Z"
   },
   {
    "duration": 6,
    "start_time": "2023-02-17T07:49:59.467Z"
   },
   {
    "duration": 389,
    "start_time": "2023-02-17T07:50:48.057Z"
   },
   {
    "duration": 256,
    "start_time": "2023-02-17T07:50:53.690Z"
   },
   {
    "duration": 6,
    "start_time": "2023-02-17T07:51:00.121Z"
   },
   {
    "duration": 73,
    "start_time": "2023-02-17T07:51:59.225Z"
   },
   {
    "duration": 6138,
    "start_time": "2023-02-17T07:52:03.497Z"
   },
   {
    "duration": 11152,
    "start_time": "2023-02-17T07:52:21.764Z"
   },
   {
    "duration": 361,
    "start_time": "2023-02-17T07:52:48.815Z"
   },
   {
    "duration": 5,
    "start_time": "2023-02-17T07:53:01.976Z"
   },
   {
    "duration": 31,
    "start_time": "2023-02-17T07:56:16.078Z"
   },
   {
    "duration": 108,
    "start_time": "2023-02-17T07:56:30.431Z"
   },
   {
    "duration": 279,
    "start_time": "2023-02-17T07:56:42.064Z"
   },
   {
    "duration": 297,
    "start_time": "2023-02-17T07:57:04.043Z"
   },
   {
    "duration": 69,
    "start_time": "2023-02-17T07:57:37.278Z"
   },
   {
    "duration": 148,
    "start_time": "2023-02-17T07:57:41.895Z"
   },
   {
    "duration": 1082,
    "start_time": "2023-02-17T07:57:50.656Z"
   },
   {
    "duration": 7,
    "start_time": "2023-02-17T07:57:55.016Z"
   },
   {
    "duration": 10,
    "start_time": "2023-02-17T07:58:20.459Z"
   },
   {
    "duration": 6,
    "start_time": "2023-02-17T07:58:24.132Z"
   },
   {
    "duration": 4,
    "start_time": "2023-02-17T07:58:24.876Z"
   },
   {
    "duration": 174,
    "start_time": "2023-02-17T07:58:25.812Z"
   },
   {
    "duration": 17,
    "start_time": "2023-02-17T07:58:28.956Z"
   },
   {
    "duration": 5,
    "start_time": "2023-02-17T07:58:35.006Z"
   },
   {
    "duration": 6,
    "start_time": "2023-02-17T07:58:53.559Z"
   },
   {
    "duration": 4,
    "start_time": "2023-02-17T07:58:53.943Z"
   },
   {
    "duration": 170,
    "start_time": "2023-02-17T07:58:54.576Z"
   },
   {
    "duration": 8,
    "start_time": "2023-02-17T07:58:57.384Z"
   },
   {
    "duration": 1384,
    "start_time": "2023-02-17T07:59:02.755Z"
   },
   {
    "duration": 41,
    "start_time": "2023-02-17T07:59:04.141Z"
   },
   {
    "duration": 14,
    "start_time": "2023-02-17T07:59:04.183Z"
   },
   {
    "duration": 23,
    "start_time": "2023-02-17T07:59:04.199Z"
   },
   {
    "duration": 16,
    "start_time": "2023-02-17T07:59:04.225Z"
   },
   {
    "duration": 35,
    "start_time": "2023-02-17T07:59:04.242Z"
   },
   {
    "duration": 33,
    "start_time": "2023-02-17T07:59:04.279Z"
   },
   {
    "duration": 37,
    "start_time": "2023-02-17T07:59:04.313Z"
   },
   {
    "duration": 27,
    "start_time": "2023-02-17T07:59:04.352Z"
   },
   {
    "duration": 16,
    "start_time": "2023-02-17T07:59:04.381Z"
   },
   {
    "duration": 24,
    "start_time": "2023-02-17T07:59:04.399Z"
   },
   {
    "duration": 39,
    "start_time": "2023-02-17T07:59:04.424Z"
   },
   {
    "duration": 575,
    "start_time": "2023-02-17T07:59:04.464Z"
   },
   {
    "duration": 4398,
    "start_time": "2023-02-17T07:59:05.044Z"
   },
   {
    "duration": 7611,
    "start_time": "2023-02-17T07:59:09.443Z"
   },
   {
    "duration": 588,
    "start_time": "2023-02-17T07:59:17.056Z"
   },
   {
    "duration": 393,
    "start_time": "2023-02-17T07:59:17.646Z"
   },
   {
    "duration": 335,
    "start_time": "2023-02-17T07:59:18.041Z"
   },
   {
    "duration": 42,
    "start_time": "2023-02-17T07:59:18.377Z"
   },
   {
    "duration": 217,
    "start_time": "2023-02-17T07:59:18.421Z"
   },
   {
    "duration": 98,
    "start_time": "2023-02-17T07:59:18.640Z"
   },
   {
    "duration": 5,
    "start_time": "2023-02-17T07:59:18.740Z"
   },
   {
    "duration": 27,
    "start_time": "2023-02-17T07:59:18.746Z"
   },
   {
    "duration": 129,
    "start_time": "2023-02-17T07:59:18.775Z"
   },
   {
    "duration": 0,
    "start_time": "2023-02-17T07:59:18.906Z"
   },
   {
    "duration": 0,
    "start_time": "2023-02-17T07:59:18.907Z"
   },
   {
    "duration": 0,
    "start_time": "2023-02-17T07:59:18.908Z"
   },
   {
    "duration": 0,
    "start_time": "2023-02-17T07:59:18.909Z"
   },
   {
    "duration": 0,
    "start_time": "2023-02-17T07:59:18.910Z"
   },
   {
    "duration": 0,
    "start_time": "2023-02-17T07:59:18.911Z"
   },
   {
    "duration": 0,
    "start_time": "2023-02-17T07:59:18.912Z"
   },
   {
    "duration": 0,
    "start_time": "2023-02-17T07:59:18.913Z"
   },
   {
    "duration": 0,
    "start_time": "2023-02-17T07:59:18.914Z"
   },
   {
    "duration": 0,
    "start_time": "2023-02-17T07:59:18.915Z"
   },
   {
    "duration": 0,
    "start_time": "2023-02-17T07:59:18.916Z"
   },
   {
    "duration": 0,
    "start_time": "2023-02-17T07:59:18.917Z"
   },
   {
    "duration": 0,
    "start_time": "2023-02-17T07:59:18.938Z"
   },
   {
    "duration": 0,
    "start_time": "2023-02-17T07:59:18.940Z"
   },
   {
    "duration": 27,
    "start_time": "2023-02-17T07:59:34.243Z"
   },
   {
    "duration": 1655,
    "start_time": "2023-02-17T07:59:44.591Z"
   },
   {
    "duration": 47,
    "start_time": "2023-02-17T07:59:46.248Z"
   },
   {
    "duration": 13,
    "start_time": "2023-02-17T07:59:46.297Z"
   },
   {
    "duration": 25,
    "start_time": "2023-02-17T07:59:46.312Z"
   },
   {
    "duration": 20,
    "start_time": "2023-02-17T07:59:46.340Z"
   },
   {
    "duration": 29,
    "start_time": "2023-02-17T07:59:46.361Z"
   },
   {
    "duration": 4,
    "start_time": "2023-02-17T07:59:46.392Z"
   },
   {
    "duration": 37,
    "start_time": "2023-02-17T07:59:46.398Z"
   },
   {
    "duration": 35,
    "start_time": "2023-02-17T07:59:46.437Z"
   },
   {
    "duration": 10,
    "start_time": "2023-02-17T07:59:46.474Z"
   },
   {
    "duration": 15,
    "start_time": "2023-02-17T07:59:46.486Z"
   },
   {
    "duration": 14,
    "start_time": "2023-02-17T07:59:46.503Z"
   },
   {
    "duration": 328,
    "start_time": "2023-02-17T07:59:46.520Z"
   },
   {
    "duration": 4214,
    "start_time": "2023-02-17T07:59:46.853Z"
   },
   {
    "duration": 7883,
    "start_time": "2023-02-17T07:59:51.069Z"
   },
   {
    "duration": 580,
    "start_time": "2023-02-17T07:59:58.954Z"
   },
   {
    "duration": 406,
    "start_time": "2023-02-17T07:59:59.537Z"
   },
   {
    "duration": 394,
    "start_time": "2023-02-17T07:59:59.945Z"
   },
   {
    "duration": 41,
    "start_time": "2023-02-17T08:00:00.341Z"
   },
   {
    "duration": 256,
    "start_time": "2023-02-17T08:00:00.383Z"
   },
   {
    "duration": 119,
    "start_time": "2023-02-17T08:00:00.641Z"
   },
   {
    "duration": 44,
    "start_time": "2023-02-17T08:00:00.762Z"
   },
   {
    "duration": 65,
    "start_time": "2023-02-17T08:00:00.807Z"
   },
   {
    "duration": 801,
    "start_time": "2023-02-17T08:00:00.874Z"
   },
   {
    "duration": 135,
    "start_time": "2023-02-17T08:00:01.677Z"
   },
   {
    "duration": 0,
    "start_time": "2023-02-17T08:00:01.814Z"
   },
   {
    "duration": 0,
    "start_time": "2023-02-17T08:00:01.816Z"
   },
   {
    "duration": 0,
    "start_time": "2023-02-17T08:00:01.818Z"
   },
   {
    "duration": 0,
    "start_time": "2023-02-17T08:00:01.819Z"
   },
   {
    "duration": 1,
    "start_time": "2023-02-17T08:00:01.838Z"
   },
   {
    "duration": 0,
    "start_time": "2023-02-17T08:00:01.840Z"
   },
   {
    "duration": 0,
    "start_time": "2023-02-17T08:00:01.842Z"
   },
   {
    "duration": 0,
    "start_time": "2023-02-17T08:00:01.843Z"
   },
   {
    "duration": 0,
    "start_time": "2023-02-17T08:00:01.846Z"
   },
   {
    "duration": 0,
    "start_time": "2023-02-17T08:00:01.848Z"
   },
   {
    "duration": 0,
    "start_time": "2023-02-17T08:00:01.850Z"
   },
   {
    "duration": 0,
    "start_time": "2023-02-17T08:00:01.851Z"
   },
   {
    "duration": 0,
    "start_time": "2023-02-17T08:00:01.853Z"
   },
   {
    "duration": 6,
    "start_time": "2023-02-17T08:02:37.922Z"
   },
   {
    "duration": 407,
    "start_time": "2023-02-17T08:02:39.832Z"
   },
   {
    "duration": 98,
    "start_time": "2023-02-17T08:02:40.242Z"
   },
   {
    "duration": 5994,
    "start_time": "2023-02-17T08:02:40.832Z"
   },
   {
    "duration": 11065,
    "start_time": "2023-02-17T08:02:46.828Z"
   },
   {
    "duration": 357,
    "start_time": "2023-02-17T08:02:57.896Z"
   },
   {
    "duration": 6,
    "start_time": "2023-02-17T08:02:58.255Z"
   },
   {
    "duration": 20,
    "start_time": "2023-02-17T08:02:58.263Z"
   },
   {
    "duration": 455,
    "start_time": "2023-02-17T08:02:58.285Z"
   },
   {
    "duration": 96,
    "start_time": "2023-02-17T08:02:58.743Z"
   },
   {
    "duration": 8,
    "start_time": "2023-02-17T08:02:58.841Z"
   },
   {
    "duration": 189,
    "start_time": "2023-02-17T08:02:58.852Z"
   },
   {
    "duration": 208,
    "start_time": "2023-02-17T08:02:59.043Z"
   },
   {
    "duration": 6,
    "start_time": "2023-02-17T08:02:59.254Z"
   },
   {
    "duration": 48,
    "start_time": "2023-02-17T08:08:07.822Z"
   },
   {
    "duration": 5,
    "start_time": "2023-02-17T08:10:03.234Z"
   },
   {
    "duration": 7,
    "start_time": "2023-02-17T08:11:49.655Z"
   },
   {
    "duration": 1718,
    "start_time": "2023-02-17T08:17:41.831Z"
   },
   {
    "duration": 43,
    "start_time": "2023-02-17T08:17:43.552Z"
   },
   {
    "duration": 15,
    "start_time": "2023-02-17T08:17:43.597Z"
   },
   {
    "duration": 17,
    "start_time": "2023-02-17T08:17:43.615Z"
   },
   {
    "duration": 7,
    "start_time": "2023-02-17T08:17:43.634Z"
   },
   {
    "duration": 18,
    "start_time": "2023-02-17T08:17:43.643Z"
   },
   {
    "duration": 5,
    "start_time": "2023-02-17T08:17:43.663Z"
   },
   {
    "duration": 15,
    "start_time": "2023-02-17T08:17:43.670Z"
   },
   {
    "duration": 47,
    "start_time": "2023-02-17T08:17:43.687Z"
   },
   {
    "duration": 7,
    "start_time": "2023-02-17T08:17:43.737Z"
   },
   {
    "duration": 22,
    "start_time": "2023-02-17T08:17:43.746Z"
   },
   {
    "duration": 16,
    "start_time": "2023-02-17T08:17:43.770Z"
   },
   {
    "duration": 551,
    "start_time": "2023-02-17T08:17:43.788Z"
   },
   {
    "duration": 4256,
    "start_time": "2023-02-17T08:17:44.341Z"
   },
   {
    "duration": 7758,
    "start_time": "2023-02-17T08:17:48.599Z"
   },
   {
    "duration": 565,
    "start_time": "2023-02-17T08:17:56.359Z"
   },
   {
    "duration": 515,
    "start_time": "2023-02-17T08:17:56.925Z"
   },
   {
    "duration": 312,
    "start_time": "2023-02-17T08:17:57.444Z"
   },
   {
    "duration": 40,
    "start_time": "2023-02-17T08:17:57.758Z"
   },
   {
    "duration": 143,
    "start_time": "2023-02-17T08:17:57.800Z"
   },
   {
    "duration": 96,
    "start_time": "2023-02-17T08:17:57.945Z"
   },
   {
    "duration": 96,
    "start_time": "2023-02-17T08:17:58.043Z"
   },
   {
    "duration": 21,
    "start_time": "2023-02-17T08:17:58.142Z"
   },
   {
    "duration": 772,
    "start_time": "2023-02-17T08:17:58.165Z"
   },
   {
    "duration": 7,
    "start_time": "2023-02-17T08:17:58.939Z"
   },
   {
    "duration": 301,
    "start_time": "2023-02-17T08:17:58.948Z"
   },
   {
    "duration": 94,
    "start_time": "2023-02-17T08:17:59.252Z"
   },
   {
    "duration": 5950,
    "start_time": "2023-02-17T08:17:59.438Z"
   },
   {
    "duration": 10896,
    "start_time": "2023-02-17T08:18:05.390Z"
   },
   {
    "duration": 317,
    "start_time": "2023-02-17T08:18:16.287Z"
   },
   {
    "duration": 6,
    "start_time": "2023-02-17T08:18:16.606Z"
   },
   {
    "duration": 10,
    "start_time": "2023-02-17T08:18:16.613Z"
   },
   {
    "duration": 501,
    "start_time": "2023-02-17T08:18:16.638Z"
   },
   {
    "duration": 97,
    "start_time": "2023-02-17T08:18:17.142Z"
   },
   {
    "duration": 6,
    "start_time": "2023-02-17T08:18:17.241Z"
   },
   {
    "duration": 90,
    "start_time": "2023-02-17T08:18:17.251Z"
   },
   {
    "duration": 284,
    "start_time": "2023-02-17T08:18:17.344Z"
   },
   {
    "duration": 12,
    "start_time": "2023-02-17T08:18:17.630Z"
   },
   {
    "duration": 2249,
    "start_time": "2023-02-17T09:31:48.961Z"
   },
   {
    "duration": 170,
    "start_time": "2023-02-17T09:31:51.213Z"
   },
   {
    "duration": 16,
    "start_time": "2023-02-17T09:31:51.385Z"
   },
   {
    "duration": 17,
    "start_time": "2023-02-17T09:31:51.403Z"
   },
   {
    "duration": 10,
    "start_time": "2023-02-17T09:31:51.422Z"
   },
   {
    "duration": 13,
    "start_time": "2023-02-17T09:31:51.434Z"
   },
   {
    "duration": 4,
    "start_time": "2023-02-17T09:31:51.449Z"
   },
   {
    "duration": 44,
    "start_time": "2023-02-17T09:31:51.455Z"
   },
   {
    "duration": 15,
    "start_time": "2023-02-17T09:31:51.501Z"
   },
   {
    "duration": 10,
    "start_time": "2023-02-17T09:31:51.518Z"
   },
   {
    "duration": 13,
    "start_time": "2023-02-17T09:31:51.530Z"
   },
   {
    "duration": 7,
    "start_time": "2023-02-17T09:31:51.544Z"
   },
   {
    "duration": 1042,
    "start_time": "2023-02-17T09:31:51.553Z"
   },
   {
    "duration": 54,
    "start_time": "2023-02-18T06:58:25.434Z"
   },
   {
    "duration": 1862,
    "start_time": "2023-02-18T06:58:53.320Z"
   },
   {
    "duration": 268,
    "start_time": "2023-02-18T06:58:55.185Z"
   },
   {
    "duration": 15,
    "start_time": "2023-02-18T06:58:55.455Z"
   },
   {
    "duration": 18,
    "start_time": "2023-02-18T06:58:55.472Z"
   },
   {
    "duration": 9,
    "start_time": "2023-02-18T06:58:55.494Z"
   },
   {
    "duration": 47,
    "start_time": "2023-02-18T06:58:55.506Z"
   },
   {
    "duration": 12,
    "start_time": "2023-02-18T06:58:55.555Z"
   },
   {
    "duration": 5,
    "start_time": "2023-02-18T06:58:55.569Z"
   },
   {
    "duration": 12,
    "start_time": "2023-02-18T06:58:55.576Z"
   },
   {
    "duration": 48,
    "start_time": "2023-02-18T06:58:55.590Z"
   },
   {
    "duration": 7,
    "start_time": "2023-02-18T06:58:55.640Z"
   },
   {
    "duration": 9,
    "start_time": "2023-02-18T06:58:55.649Z"
   },
   {
    "duration": 21,
    "start_time": "2023-02-18T06:58:55.660Z"
   },
   {
    "duration": 636,
    "start_time": "2023-02-18T06:58:55.684Z"
   },
   {
    "duration": 317,
    "start_time": "2023-02-18T06:58:56.329Z"
   },
   {
    "duration": 0,
    "start_time": "2023-02-18T06:58:56.651Z"
   },
   {
    "duration": 0,
    "start_time": "2023-02-18T06:58:56.653Z"
   },
   {
    "duration": 0,
    "start_time": "2023-02-18T06:58:56.654Z"
   },
   {
    "duration": 0,
    "start_time": "2023-02-18T06:58:56.655Z"
   },
   {
    "duration": 0,
    "start_time": "2023-02-18T06:58:56.656Z"
   },
   {
    "duration": 0,
    "start_time": "2023-02-18T06:58:56.658Z"
   },
   {
    "duration": 0,
    "start_time": "2023-02-18T06:58:56.659Z"
   },
   {
    "duration": 0,
    "start_time": "2023-02-18T06:58:56.661Z"
   },
   {
    "duration": 0,
    "start_time": "2023-02-18T06:58:56.662Z"
   },
   {
    "duration": 0,
    "start_time": "2023-02-18T06:58:56.663Z"
   },
   {
    "duration": 0,
    "start_time": "2023-02-18T06:58:56.664Z"
   },
   {
    "duration": 0,
    "start_time": "2023-02-18T06:58:56.665Z"
   },
   {
    "duration": 0,
    "start_time": "2023-02-18T06:58:56.666Z"
   },
   {
    "duration": 0,
    "start_time": "2023-02-18T06:58:56.668Z"
   },
   {
    "duration": 0,
    "start_time": "2023-02-18T06:58:56.669Z"
   },
   {
    "duration": 0,
    "start_time": "2023-02-18T06:58:56.670Z"
   },
   {
    "duration": 0,
    "start_time": "2023-02-18T06:58:56.708Z"
   },
   {
    "duration": 0,
    "start_time": "2023-02-18T06:58:56.709Z"
   },
   {
    "duration": 0,
    "start_time": "2023-02-18T06:58:56.710Z"
   },
   {
    "duration": 0,
    "start_time": "2023-02-18T06:58:56.711Z"
   },
   {
    "duration": 0,
    "start_time": "2023-02-18T06:58:56.716Z"
   },
   {
    "duration": 0,
    "start_time": "2023-02-18T06:58:56.717Z"
   },
   {
    "duration": 0,
    "start_time": "2023-02-18T06:58:56.718Z"
   },
   {
    "duration": 0,
    "start_time": "2023-02-18T06:58:56.719Z"
   },
   {
    "duration": 13,
    "start_time": "2023-02-18T06:59:24.549Z"
   },
   {
    "duration": 11,
    "start_time": "2023-02-18T06:59:38.872Z"
   },
   {
    "duration": 18,
    "start_time": "2023-02-18T07:01:54.167Z"
   },
   {
    "duration": 6,
    "start_time": "2023-02-18T07:02:07.376Z"
   },
   {
    "duration": 16,
    "start_time": "2023-02-18T07:02:10.986Z"
   },
   {
    "duration": 19,
    "start_time": "2023-02-18T07:02:26.357Z"
   },
   {
    "duration": 12,
    "start_time": "2023-02-18T07:03:09.743Z"
   },
   {
    "duration": 8,
    "start_time": "2023-02-18T07:03:17.546Z"
   },
   {
    "duration": 11,
    "start_time": "2023-02-18T07:04:01.720Z"
   },
   {
    "duration": 12,
    "start_time": "2023-02-18T07:06:01.573Z"
   },
   {
    "duration": 10,
    "start_time": "2023-02-18T07:06:12.980Z"
   },
   {
    "duration": 37,
    "start_time": "2023-02-18T07:07:02.786Z"
   },
   {
    "duration": 20,
    "start_time": "2023-02-18T07:07:12.817Z"
   },
   {
    "duration": 21,
    "start_time": "2023-02-18T07:08:15.118Z"
   },
   {
    "duration": 68,
    "start_time": "2023-02-18T07:09:01.702Z"
   },
   {
    "duration": 9,
    "start_time": "2023-02-18T07:09:26.666Z"
   },
   {
    "duration": 11,
    "start_time": "2023-02-18T07:10:24.250Z"
   },
   {
    "duration": 1565,
    "start_time": "2023-02-18T07:10:30.576Z"
   },
   {
    "duration": 42,
    "start_time": "2023-02-18T07:10:32.144Z"
   },
   {
    "duration": 22,
    "start_time": "2023-02-18T07:10:32.188Z"
   },
   {
    "duration": 55,
    "start_time": "2023-02-18T07:10:32.212Z"
   },
   {
    "duration": 13,
    "start_time": "2023-02-18T07:10:32.269Z"
   },
   {
    "duration": 11,
    "start_time": "2023-02-18T07:10:32.284Z"
   },
   {
    "duration": 82,
    "start_time": "2023-02-18T07:10:32.296Z"
   },
   {
    "duration": 4,
    "start_time": "2023-02-18T07:10:32.380Z"
   },
   {
    "duration": 66,
    "start_time": "2023-02-18T07:10:32.385Z"
   },
   {
    "duration": 25,
    "start_time": "2023-02-18T07:10:32.453Z"
   },
   {
    "duration": 8,
    "start_time": "2023-02-18T07:10:32.481Z"
   },
   {
    "duration": 48,
    "start_time": "2023-02-18T07:10:32.490Z"
   },
   {
    "duration": 11,
    "start_time": "2023-02-18T07:10:32.540Z"
   },
   {
    "duration": 2711,
    "start_time": "2023-02-18T07:10:32.554Z"
   },
   {
    "duration": 0,
    "start_time": "2023-02-18T07:10:35.267Z"
   },
   {
    "duration": 0,
    "start_time": "2023-02-18T07:10:35.269Z"
   },
   {
    "duration": 0,
    "start_time": "2023-02-18T07:10:35.271Z"
   },
   {
    "duration": 0,
    "start_time": "2023-02-18T07:10:35.272Z"
   },
   {
    "duration": 0,
    "start_time": "2023-02-18T07:10:35.274Z"
   },
   {
    "duration": 0,
    "start_time": "2023-02-18T07:10:35.275Z"
   },
   {
    "duration": 0,
    "start_time": "2023-02-18T07:10:35.277Z"
   },
   {
    "duration": 0,
    "start_time": "2023-02-18T07:10:35.278Z"
   },
   {
    "duration": 0,
    "start_time": "2023-02-18T07:10:35.279Z"
   },
   {
    "duration": 0,
    "start_time": "2023-02-18T07:10:35.281Z"
   },
   {
    "duration": 0,
    "start_time": "2023-02-18T07:10:35.282Z"
   },
   {
    "duration": 0,
    "start_time": "2023-02-18T07:10:35.301Z"
   },
   {
    "duration": 0,
    "start_time": "2023-02-18T07:10:35.302Z"
   },
   {
    "duration": 0,
    "start_time": "2023-02-18T07:10:35.303Z"
   },
   {
    "duration": 0,
    "start_time": "2023-02-18T07:10:35.304Z"
   },
   {
    "duration": 1,
    "start_time": "2023-02-18T07:10:35.305Z"
   },
   {
    "duration": 0,
    "start_time": "2023-02-18T07:10:35.307Z"
   },
   {
    "duration": 0,
    "start_time": "2023-02-18T07:10:35.308Z"
   },
   {
    "duration": 0,
    "start_time": "2023-02-18T07:10:35.309Z"
   },
   {
    "duration": 0,
    "start_time": "2023-02-18T07:10:35.311Z"
   },
   {
    "duration": 0,
    "start_time": "2023-02-18T07:10:35.312Z"
   },
   {
    "duration": 0,
    "start_time": "2023-02-18T07:10:35.313Z"
   },
   {
    "duration": 0,
    "start_time": "2023-02-18T07:10:35.314Z"
   },
   {
    "duration": 0,
    "start_time": "2023-02-18T07:10:35.315Z"
   },
   {
    "duration": 1,
    "start_time": "2023-02-18T07:10:35.316Z"
   },
   {
    "duration": 23,
    "start_time": "2023-02-18T07:11:03.957Z"
   },
   {
    "duration": 13,
    "start_time": "2023-02-18T07:11:11.566Z"
   },
   {
    "duration": 7,
    "start_time": "2023-02-18T07:11:26.943Z"
   },
   {
    "duration": 7,
    "start_time": "2023-02-18T07:14:47.765Z"
   },
   {
    "duration": 15,
    "start_time": "2023-02-18T07:15:13.627Z"
   },
   {
    "duration": 5,
    "start_time": "2023-02-18T07:15:57.853Z"
   },
   {
    "duration": 17,
    "start_time": "2023-02-18T07:16:00.624Z"
   },
   {
    "duration": 79,
    "start_time": "2023-02-18T07:18:44.377Z"
   },
   {
    "duration": 67,
    "start_time": "2023-02-18T07:18:47.002Z"
   },
   {
    "duration": 8,
    "start_time": "2023-02-18T07:19:50.819Z"
   },
   {
    "duration": 10,
    "start_time": "2023-02-18T07:20:57.674Z"
   },
   {
    "duration": 20,
    "start_time": "2023-02-18T07:21:07.347Z"
   },
   {
    "duration": 14,
    "start_time": "2023-02-18T07:21:11.033Z"
   },
   {
    "duration": 22,
    "start_time": "2023-02-18T07:21:34.414Z"
   },
   {
    "duration": 18,
    "start_time": "2023-02-18T07:21:39.210Z"
   },
   {
    "duration": 12,
    "start_time": "2023-02-18T07:21:49.047Z"
   },
   {
    "duration": 12,
    "start_time": "2023-02-18T07:21:58.647Z"
   },
   {
    "duration": 15,
    "start_time": "2023-02-18T07:22:07.272Z"
   },
   {
    "duration": 13,
    "start_time": "2023-02-18T07:22:11.827Z"
   },
   {
    "duration": 14,
    "start_time": "2023-02-18T07:22:15.018Z"
   },
   {
    "duration": 24,
    "start_time": "2023-02-18T07:22:38.209Z"
   },
   {
    "duration": 15,
    "start_time": "2023-02-18T07:22:41.483Z"
   },
   {
    "duration": 13,
    "start_time": "2023-02-18T07:23:09.047Z"
   },
   {
    "duration": 1580,
    "start_time": "2023-02-18T07:23:24.018Z"
   },
   {
    "duration": 61,
    "start_time": "2023-02-18T07:23:25.600Z"
   },
   {
    "duration": 14,
    "start_time": "2023-02-18T07:23:25.664Z"
   },
   {
    "duration": 23,
    "start_time": "2023-02-18T07:23:25.680Z"
   },
   {
    "duration": 10,
    "start_time": "2023-02-18T07:23:25.705Z"
   },
   {
    "duration": 31,
    "start_time": "2023-02-18T07:23:25.717Z"
   },
   {
    "duration": 4,
    "start_time": "2023-02-18T07:23:25.750Z"
   },
   {
    "duration": 14,
    "start_time": "2023-02-18T07:23:25.756Z"
   },
   {
    "duration": 5,
    "start_time": "2023-02-18T07:23:25.772Z"
   },
   {
    "duration": 37,
    "start_time": "2023-02-18T07:23:25.778Z"
   },
   {
    "duration": 31,
    "start_time": "2023-02-18T07:23:25.823Z"
   },
   {
    "duration": 13,
    "start_time": "2023-02-18T07:23:25.856Z"
   },
   {
    "duration": 6,
    "start_time": "2023-02-18T07:23:25.872Z"
   },
   {
    "duration": 6,
    "start_time": "2023-02-18T07:23:25.880Z"
   },
   {
    "duration": 29545,
    "start_time": "2023-02-18T07:23:25.887Z"
   },
   {
    "duration": 0,
    "start_time": "2023-02-18T07:23:55.434Z"
   },
   {
    "duration": 0,
    "start_time": "2023-02-18T07:23:55.435Z"
   },
   {
    "duration": 0,
    "start_time": "2023-02-18T07:23:55.436Z"
   },
   {
    "duration": 0,
    "start_time": "2023-02-18T07:23:55.437Z"
   },
   {
    "duration": 0,
    "start_time": "2023-02-18T07:23:55.438Z"
   },
   {
    "duration": 0,
    "start_time": "2023-02-18T07:23:55.439Z"
   },
   {
    "duration": 0,
    "start_time": "2023-02-18T07:23:55.440Z"
   },
   {
    "duration": 0,
    "start_time": "2023-02-18T07:23:55.441Z"
   },
   {
    "duration": 0,
    "start_time": "2023-02-18T07:23:55.441Z"
   },
   {
    "duration": 0,
    "start_time": "2023-02-18T07:23:55.442Z"
   },
   {
    "duration": 0,
    "start_time": "2023-02-18T07:23:55.443Z"
   },
   {
    "duration": 0,
    "start_time": "2023-02-18T07:23:55.449Z"
   },
   {
    "duration": 0,
    "start_time": "2023-02-18T07:23:55.450Z"
   },
   {
    "duration": 0,
    "start_time": "2023-02-18T07:23:55.453Z"
   },
   {
    "duration": 0,
    "start_time": "2023-02-18T07:23:55.454Z"
   },
   {
    "duration": 1,
    "start_time": "2023-02-18T07:23:55.455Z"
   },
   {
    "duration": 0,
    "start_time": "2023-02-18T07:23:55.457Z"
   },
   {
    "duration": 0,
    "start_time": "2023-02-18T07:23:55.458Z"
   },
   {
    "duration": 0,
    "start_time": "2023-02-18T07:23:55.459Z"
   },
   {
    "duration": 0,
    "start_time": "2023-02-18T07:23:55.461Z"
   },
   {
    "duration": 0,
    "start_time": "2023-02-18T07:23:55.462Z"
   },
   {
    "duration": 0,
    "start_time": "2023-02-18T07:23:55.463Z"
   },
   {
    "duration": 0,
    "start_time": "2023-02-18T07:23:55.464Z"
   },
   {
    "duration": 1,
    "start_time": "2023-02-18T07:23:55.465Z"
   },
   {
    "duration": 0,
    "start_time": "2023-02-18T07:23:55.467Z"
   },
   {
    "duration": 1550,
    "start_time": "2023-02-18T07:30:27.279Z"
   },
   {
    "duration": 40,
    "start_time": "2023-02-18T07:30:28.836Z"
   },
   {
    "duration": 13,
    "start_time": "2023-02-18T07:30:28.878Z"
   },
   {
    "duration": 37,
    "start_time": "2023-02-18T07:30:28.901Z"
   },
   {
    "duration": 12,
    "start_time": "2023-02-18T07:30:28.940Z"
   },
   {
    "duration": 11,
    "start_time": "2023-02-18T07:30:28.954Z"
   },
   {
    "duration": 5,
    "start_time": "2023-02-18T07:30:28.967Z"
   },
   {
    "duration": 29,
    "start_time": "2023-02-18T07:30:28.974Z"
   },
   {
    "duration": 14,
    "start_time": "2023-02-18T07:30:29.016Z"
   },
   {
    "duration": 14,
    "start_time": "2023-02-18T07:30:29.038Z"
   },
   {
    "duration": 8,
    "start_time": "2023-02-18T07:30:29.054Z"
   },
   {
    "duration": 11,
    "start_time": "2023-02-18T07:30:29.064Z"
   },
   {
    "duration": 168,
    "start_time": "2023-02-18T07:30:29.076Z"
   },
   {
    "duration": 0,
    "start_time": "2023-02-18T07:30:29.246Z"
   },
   {
    "duration": 0,
    "start_time": "2023-02-18T07:30:29.247Z"
   },
   {
    "duration": 0,
    "start_time": "2023-02-18T07:30:29.248Z"
   },
   {
    "duration": 0,
    "start_time": "2023-02-18T07:30:29.249Z"
   },
   {
    "duration": 0,
    "start_time": "2023-02-18T07:30:29.251Z"
   },
   {
    "duration": 0,
    "start_time": "2023-02-18T07:30:29.253Z"
   },
   {
    "duration": 0,
    "start_time": "2023-02-18T07:30:29.255Z"
   },
   {
    "duration": 0,
    "start_time": "2023-02-18T07:30:29.256Z"
   },
   {
    "duration": 0,
    "start_time": "2023-02-18T07:30:29.258Z"
   },
   {
    "duration": 0,
    "start_time": "2023-02-18T07:30:29.259Z"
   },
   {
    "duration": 0,
    "start_time": "2023-02-18T07:30:29.261Z"
   },
   {
    "duration": 0,
    "start_time": "2023-02-18T07:30:29.262Z"
   },
   {
    "duration": 0,
    "start_time": "2023-02-18T07:30:29.264Z"
   },
   {
    "duration": 0,
    "start_time": "2023-02-18T07:30:29.266Z"
   },
   {
    "duration": 0,
    "start_time": "2023-02-18T07:30:29.267Z"
   },
   {
    "duration": 0,
    "start_time": "2023-02-18T07:30:29.268Z"
   },
   {
    "duration": 0,
    "start_time": "2023-02-18T07:30:29.270Z"
   },
   {
    "duration": 0,
    "start_time": "2023-02-18T07:30:29.298Z"
   },
   {
    "duration": 0,
    "start_time": "2023-02-18T07:30:29.298Z"
   },
   {
    "duration": 0,
    "start_time": "2023-02-18T07:30:29.299Z"
   },
   {
    "duration": 0,
    "start_time": "2023-02-18T07:30:29.302Z"
   },
   {
    "duration": 0,
    "start_time": "2023-02-18T07:30:29.303Z"
   },
   {
    "duration": 0,
    "start_time": "2023-02-18T07:30:29.304Z"
   },
   {
    "duration": 0,
    "start_time": "2023-02-18T07:30:29.305Z"
   },
   {
    "duration": 0,
    "start_time": "2023-02-18T07:30:29.306Z"
   },
   {
    "duration": 0,
    "start_time": "2023-02-18T07:30:29.306Z"
   },
   {
    "duration": 44,
    "start_time": "2023-02-18T07:32:55.963Z"
   },
   {
    "duration": 21,
    "start_time": "2023-02-18T07:36:40.731Z"
   },
   {
    "duration": 13,
    "start_time": "2023-02-18T07:39:37.818Z"
   },
   {
    "duration": 44,
    "start_time": "2023-02-18T07:40:12.266Z"
   },
   {
    "duration": 11,
    "start_time": "2023-02-18T07:45:45.889Z"
   },
   {
    "duration": 32,
    "start_time": "2023-02-18T07:46:34.326Z"
   },
   {
    "duration": 38,
    "start_time": "2023-02-18T07:46:43.850Z"
   },
   {
    "duration": 27,
    "start_time": "2023-02-18T07:46:46.870Z"
   },
   {
    "duration": 34,
    "start_time": "2023-02-18T07:47:08.196Z"
   },
   {
    "duration": 28,
    "start_time": "2023-02-18T07:47:20.757Z"
   },
   {
    "duration": 8,
    "start_time": "2023-02-18T07:47:29.121Z"
   },
   {
    "duration": 10,
    "start_time": "2023-02-18T07:47:29.636Z"
   },
   {
    "duration": 10,
    "start_time": "2023-02-18T07:47:29.908Z"
   },
   {
    "duration": 38,
    "start_time": "2023-02-18T07:47:30.405Z"
   },
   {
    "duration": 28,
    "start_time": "2023-02-18T07:47:30.921Z"
   },
   {
    "duration": 43,
    "start_time": "2023-02-18T07:47:32.379Z"
   },
   {
    "duration": 21,
    "start_time": "2023-02-18T07:48:31.818Z"
   },
   {
    "duration": 1523,
    "start_time": "2023-02-18T07:48:37.088Z"
   },
   {
    "duration": 48,
    "start_time": "2023-02-18T07:48:38.619Z"
   },
   {
    "duration": 14,
    "start_time": "2023-02-18T07:48:38.668Z"
   },
   {
    "duration": 26,
    "start_time": "2023-02-18T07:48:38.684Z"
   },
   {
    "duration": 33,
    "start_time": "2023-02-18T07:48:38.712Z"
   },
   {
    "duration": 13,
    "start_time": "2023-02-18T07:48:38.747Z"
   },
   {
    "duration": 7,
    "start_time": "2023-02-18T07:48:38.762Z"
   },
   {
    "duration": 33,
    "start_time": "2023-02-18T07:48:38.770Z"
   },
   {
    "duration": 27,
    "start_time": "2023-02-18T07:48:38.814Z"
   },
   {
    "duration": 6,
    "start_time": "2023-02-18T07:48:38.844Z"
   },
   {
    "duration": 8,
    "start_time": "2023-02-18T07:48:38.852Z"
   },
   {
    "duration": 6,
    "start_time": "2023-02-18T07:48:38.862Z"
   },
   {
    "duration": 35,
    "start_time": "2023-02-18T07:48:38.869Z"
   },
   {
    "duration": 32,
    "start_time": "2023-02-18T07:48:38.908Z"
   },
   {
    "duration": 142,
    "start_time": "2023-02-18T07:48:38.942Z"
   },
   {
    "duration": 0,
    "start_time": "2023-02-18T07:48:39.088Z"
   },
   {
    "duration": 0,
    "start_time": "2023-02-18T07:48:39.095Z"
   },
   {
    "duration": 0,
    "start_time": "2023-02-18T07:48:39.099Z"
   },
   {
    "duration": 0,
    "start_time": "2023-02-18T07:48:39.108Z"
   },
   {
    "duration": 0,
    "start_time": "2023-02-18T07:48:39.110Z"
   },
   {
    "duration": 0,
    "start_time": "2023-02-18T07:48:39.112Z"
   },
   {
    "duration": 1,
    "start_time": "2023-02-18T07:48:39.113Z"
   },
   {
    "duration": 0,
    "start_time": "2023-02-18T07:48:39.115Z"
   },
   {
    "duration": 0,
    "start_time": "2023-02-18T07:48:39.124Z"
   },
   {
    "duration": 0,
    "start_time": "2023-02-18T07:48:39.125Z"
   },
   {
    "duration": 0,
    "start_time": "2023-02-18T07:48:39.131Z"
   },
   {
    "duration": 0,
    "start_time": "2023-02-18T07:48:39.132Z"
   },
   {
    "duration": 0,
    "start_time": "2023-02-18T07:48:39.134Z"
   },
   {
    "duration": 0,
    "start_time": "2023-02-18T07:48:39.135Z"
   },
   {
    "duration": 0,
    "start_time": "2023-02-18T07:48:39.137Z"
   },
   {
    "duration": 0,
    "start_time": "2023-02-18T07:48:39.140Z"
   },
   {
    "duration": 0,
    "start_time": "2023-02-18T07:48:39.141Z"
   },
   {
    "duration": 0,
    "start_time": "2023-02-18T07:48:39.143Z"
   },
   {
    "duration": 0,
    "start_time": "2023-02-18T07:48:39.144Z"
   },
   {
    "duration": 0,
    "start_time": "2023-02-18T07:48:39.146Z"
   },
   {
    "duration": 0,
    "start_time": "2023-02-18T07:48:39.147Z"
   },
   {
    "duration": 0,
    "start_time": "2023-02-18T07:48:39.148Z"
   },
   {
    "duration": 0,
    "start_time": "2023-02-18T07:48:39.150Z"
   },
   {
    "duration": 0,
    "start_time": "2023-02-18T07:48:39.151Z"
   },
   {
    "duration": 0,
    "start_time": "2023-02-18T07:48:39.153Z"
   },
   {
    "duration": 36,
    "start_time": "2023-02-18T07:48:45.086Z"
   },
   {
    "duration": 20,
    "start_time": "2023-02-18T07:49:09.519Z"
   },
   {
    "duration": 21,
    "start_time": "2023-02-18T07:49:12.350Z"
   },
   {
    "duration": 22,
    "start_time": "2023-02-18T07:49:32.954Z"
   },
   {
    "duration": 91,
    "start_time": "2023-02-18T07:49:36.141Z"
   },
   {
    "duration": 14121,
    "start_time": "2023-02-18T07:49:48.779Z"
   },
   {
    "duration": 1440,
    "start_time": "2023-02-18T07:50:55.553Z"
   },
   {
    "duration": 53,
    "start_time": "2023-02-18T07:50:56.997Z"
   },
   {
    "duration": 13,
    "start_time": "2023-02-18T07:50:57.052Z"
   },
   {
    "duration": 15,
    "start_time": "2023-02-18T07:50:57.067Z"
   },
   {
    "duration": 5,
    "start_time": "2023-02-18T07:50:57.084Z"
   },
   {
    "duration": 33,
    "start_time": "2023-02-18T07:50:57.091Z"
   },
   {
    "duration": 4,
    "start_time": "2023-02-18T07:50:57.126Z"
   },
   {
    "duration": 14,
    "start_time": "2023-02-18T07:50:57.132Z"
   },
   {
    "duration": 5,
    "start_time": "2023-02-18T07:50:57.148Z"
   },
   {
    "duration": 5,
    "start_time": "2023-02-18T07:50:57.155Z"
   },
   {
    "duration": 7,
    "start_time": "2023-02-18T07:50:57.162Z"
   },
   {
    "duration": 6,
    "start_time": "2023-02-18T07:50:57.171Z"
   },
   {
    "duration": 39,
    "start_time": "2023-02-18T07:50:57.179Z"
   },
   {
    "duration": 35,
    "start_time": "2023-02-18T07:50:57.221Z"
   },
   {
    "duration": 181,
    "start_time": "2023-02-18T07:50:57.258Z"
   },
   {
    "duration": 0,
    "start_time": "2023-02-18T07:50:57.441Z"
   },
   {
    "duration": 0,
    "start_time": "2023-02-18T07:50:57.443Z"
   },
   {
    "duration": 0,
    "start_time": "2023-02-18T07:50:57.444Z"
   },
   {
    "duration": 0,
    "start_time": "2023-02-18T07:50:57.445Z"
   },
   {
    "duration": 0,
    "start_time": "2023-02-18T07:50:57.447Z"
   },
   {
    "duration": 0,
    "start_time": "2023-02-18T07:50:57.448Z"
   },
   {
    "duration": 0,
    "start_time": "2023-02-18T07:50:57.449Z"
   },
   {
    "duration": 0,
    "start_time": "2023-02-18T07:50:57.450Z"
   },
   {
    "duration": 0,
    "start_time": "2023-02-18T07:50:57.451Z"
   },
   {
    "duration": 0,
    "start_time": "2023-02-18T07:50:57.452Z"
   },
   {
    "duration": 0,
    "start_time": "2023-02-18T07:50:57.453Z"
   },
   {
    "duration": 0,
    "start_time": "2023-02-18T07:50:57.454Z"
   },
   {
    "duration": 0,
    "start_time": "2023-02-18T07:50:57.455Z"
   },
   {
    "duration": 0,
    "start_time": "2023-02-18T07:50:57.456Z"
   },
   {
    "duration": 0,
    "start_time": "2023-02-18T07:50:57.457Z"
   },
   {
    "duration": 0,
    "start_time": "2023-02-18T07:50:57.458Z"
   },
   {
    "duration": 0,
    "start_time": "2023-02-18T07:50:57.459Z"
   },
   {
    "duration": 0,
    "start_time": "2023-02-18T07:50:57.460Z"
   },
   {
    "duration": 0,
    "start_time": "2023-02-18T07:50:57.461Z"
   },
   {
    "duration": 0,
    "start_time": "2023-02-18T07:50:57.500Z"
   },
   {
    "duration": 0,
    "start_time": "2023-02-18T07:50:57.501Z"
   },
   {
    "duration": 0,
    "start_time": "2023-02-18T07:50:57.502Z"
   },
   {
    "duration": 0,
    "start_time": "2023-02-18T07:50:57.503Z"
   },
   {
    "duration": 0,
    "start_time": "2023-02-18T07:50:57.504Z"
   },
   {
    "duration": 0,
    "start_time": "2023-02-18T07:50:57.505Z"
   },
   {
    "duration": 23,
    "start_time": "2023-02-18T07:52:03.529Z"
   },
   {
    "duration": 65,
    "start_time": "2023-02-18T07:53:11.057Z"
   },
   {
    "duration": 69,
    "start_time": "2023-02-18T07:53:16.153Z"
   },
   {
    "duration": 61,
    "start_time": "2023-02-18T07:53:22.621Z"
   },
   {
    "duration": 58,
    "start_time": "2023-02-18T07:53:45.823Z"
   },
   {
    "duration": 62,
    "start_time": "2023-02-18T07:54:01.919Z"
   },
   {
    "duration": 79,
    "start_time": "2023-02-18T07:54:15.716Z"
   },
   {
    "duration": 9,
    "start_time": "2023-02-18T07:55:31.812Z"
   },
   {
    "duration": 5,
    "start_time": "2023-02-18T07:55:53.060Z"
   },
   {
    "duration": 63,
    "start_time": "2023-02-18T07:56:15.894Z"
   },
   {
    "duration": 5,
    "start_time": "2023-02-18T07:56:44.057Z"
   },
   {
    "duration": 1470,
    "start_time": "2023-02-18T07:56:54.837Z"
   },
   {
    "duration": 43,
    "start_time": "2023-02-18T07:56:56.310Z"
   },
   {
    "duration": 15,
    "start_time": "2023-02-18T07:56:56.354Z"
   },
   {
    "duration": 18,
    "start_time": "2023-02-18T07:56:56.370Z"
   },
   {
    "duration": 14,
    "start_time": "2023-02-18T07:56:56.391Z"
   },
   {
    "duration": 12,
    "start_time": "2023-02-18T07:56:56.407Z"
   },
   {
    "duration": 22,
    "start_time": "2023-02-18T07:56:56.421Z"
   },
   {
    "duration": 20,
    "start_time": "2023-02-18T07:56:56.445Z"
   },
   {
    "duration": 6,
    "start_time": "2023-02-18T07:56:56.467Z"
   },
   {
    "duration": 25,
    "start_time": "2023-02-18T07:56:56.475Z"
   },
   {
    "duration": 17,
    "start_time": "2023-02-18T07:56:56.501Z"
   },
   {
    "duration": 6,
    "start_time": "2023-02-18T07:56:56.520Z"
   },
   {
    "duration": 34,
    "start_time": "2023-02-18T07:56:56.528Z"
   },
   {
    "duration": 30,
    "start_time": "2023-02-18T07:56:56.565Z"
   },
   {
    "duration": 15,
    "start_time": "2023-02-18T07:56:56.597Z"
   },
   {
    "duration": 9,
    "start_time": "2023-02-18T07:56:56.613Z"
   },
   {
    "duration": 72,
    "start_time": "2023-02-18T07:56:56.624Z"
   },
   {
    "duration": 251,
    "start_time": "2023-02-18T07:56:56.698Z"
   },
   {
    "duration": 0,
    "start_time": "2023-02-18T07:56:56.950Z"
   },
   {
    "duration": 0,
    "start_time": "2023-02-18T07:56:56.952Z"
   },
   {
    "duration": 0,
    "start_time": "2023-02-18T07:56:56.953Z"
   },
   {
    "duration": 0,
    "start_time": "2023-02-18T07:56:56.955Z"
   },
   {
    "duration": 0,
    "start_time": "2023-02-18T07:56:56.956Z"
   },
   {
    "duration": 0,
    "start_time": "2023-02-18T07:56:56.958Z"
   },
   {
    "duration": 1,
    "start_time": "2023-02-18T07:56:56.959Z"
   },
   {
    "duration": 0,
    "start_time": "2023-02-18T07:56:56.961Z"
   },
   {
    "duration": 0,
    "start_time": "2023-02-18T07:56:56.962Z"
   },
   {
    "duration": 1,
    "start_time": "2023-02-18T07:56:56.963Z"
   },
   {
    "duration": 0,
    "start_time": "2023-02-18T07:56:56.965Z"
   },
   {
    "duration": 0,
    "start_time": "2023-02-18T07:56:56.995Z"
   },
   {
    "duration": 0,
    "start_time": "2023-02-18T07:56:56.996Z"
   },
   {
    "duration": 0,
    "start_time": "2023-02-18T07:56:56.997Z"
   },
   {
    "duration": 0,
    "start_time": "2023-02-18T07:56:56.998Z"
   },
   {
    "duration": 0,
    "start_time": "2023-02-18T07:56:56.999Z"
   },
   {
    "duration": 0,
    "start_time": "2023-02-18T07:56:57.003Z"
   },
   {
    "duration": 0,
    "start_time": "2023-02-18T07:56:57.004Z"
   },
   {
    "duration": 0,
    "start_time": "2023-02-18T07:56:57.004Z"
   },
   {
    "duration": 0,
    "start_time": "2023-02-18T07:56:57.005Z"
   },
   {
    "duration": 0,
    "start_time": "2023-02-18T07:56:57.006Z"
   },
   {
    "duration": 0,
    "start_time": "2023-02-18T07:56:57.008Z"
   },
   {
    "duration": 0,
    "start_time": "2023-02-18T07:56:57.009Z"
   },
   {
    "duration": 0,
    "start_time": "2023-02-18T07:56:57.010Z"
   },
   {
    "duration": 22,
    "start_time": "2023-02-18T07:57:23.309Z"
   },
   {
    "duration": 5,
    "start_time": "2023-02-18T07:59:00.208Z"
   },
   {
    "duration": 1320,
    "start_time": "2023-02-18T07:59:26.751Z"
   },
   {
    "duration": 2637,
    "start_time": "2023-02-18T08:00:13.889Z"
   },
   {
    "duration": 2435,
    "start_time": "2023-02-18T08:00:21.521Z"
   },
   {
    "duration": 511,
    "start_time": "2023-02-18T08:00:47.244Z"
   },
   {
    "duration": 22,
    "start_time": "2023-02-18T08:00:57.646Z"
   },
   {
    "duration": 13,
    "start_time": "2023-02-18T08:01:19.112Z"
   },
   {
    "duration": 95,
    "start_time": "2023-02-18T08:01:37.802Z"
   },
   {
    "duration": 73,
    "start_time": "2023-02-18T08:01:48.924Z"
   },
   {
    "duration": 26,
    "start_time": "2023-02-18T08:01:55.836Z"
   },
   {
    "duration": 78,
    "start_time": "2023-02-18T08:02:21.568Z"
   },
   {
    "duration": 281,
    "start_time": "2023-02-18T08:04:14.236Z"
   },
   {
    "duration": 60,
    "start_time": "2023-02-18T08:04:32.370Z"
   },
   {
    "duration": 6,
    "start_time": "2023-02-18T08:04:38.261Z"
   },
   {
    "duration": 6,
    "start_time": "2023-02-18T08:04:49.808Z"
   },
   {
    "duration": 10,
    "start_time": "2023-02-18T08:04:58.345Z"
   },
   {
    "duration": 5,
    "start_time": "2023-02-18T08:05:28.475Z"
   },
   {
    "duration": 10,
    "start_time": "2023-02-18T08:05:28.844Z"
   },
   {
    "duration": 20,
    "start_time": "2023-02-18T08:05:41.710Z"
   },
   {
    "duration": 20,
    "start_time": "2023-02-18T08:06:15.761Z"
   },
   {
    "duration": 650,
    "start_time": "2023-02-18T08:06:25.304Z"
   },
   {
    "duration": 12,
    "start_time": "2023-02-18T08:06:29.493Z"
   },
   {
    "duration": 9,
    "start_time": "2023-02-18T08:06:39.798Z"
   },
   {
    "duration": 6,
    "start_time": "2023-02-18T08:07:00.582Z"
   },
   {
    "duration": 1472,
    "start_time": "2023-02-18T08:07:34.819Z"
   },
   {
    "duration": 57,
    "start_time": "2023-02-18T08:07:58.389Z"
   },
   {
    "duration": 1900,
    "start_time": "2023-02-18T08:08:06.815Z"
   },
   {
    "duration": 3531,
    "start_time": "2023-02-18T08:08:22.754Z"
   },
   {
    "duration": 2589,
    "start_time": "2023-02-18T08:08:30.896Z"
   },
   {
    "duration": 943,
    "start_time": "2023-02-18T08:08:46.138Z"
   },
   {
    "duration": 894,
    "start_time": "2023-02-18T08:09:03.078Z"
   },
   {
    "duration": 951,
    "start_time": "2023-02-18T08:09:07.364Z"
   },
   {
    "duration": 2312,
    "start_time": "2023-02-18T08:09:20.725Z"
   },
   {
    "duration": 1822,
    "start_time": "2023-02-18T08:09:25.574Z"
   },
   {
    "duration": 609,
    "start_time": "2023-02-18T08:09:30.199Z"
   },
   {
    "duration": 980,
    "start_time": "2023-02-18T08:10:23.461Z"
   },
   {
    "duration": 336,
    "start_time": "2023-02-18T08:10:42.408Z"
   },
   {
    "duration": 32,
    "start_time": "2023-02-18T08:13:15.585Z"
   },
   {
    "duration": 31,
    "start_time": "2023-02-18T08:13:23.256Z"
   },
   {
    "duration": 40,
    "start_time": "2023-02-18T08:13:30.939Z"
   },
   {
    "duration": 33,
    "start_time": "2023-02-18T08:13:34.857Z"
   },
   {
    "duration": 335,
    "start_time": "2023-02-18T08:14:00.711Z"
   },
   {
    "duration": 6,
    "start_time": "2023-02-18T08:14:14.327Z"
   },
   {
    "duration": 357,
    "start_time": "2023-02-18T08:16:04.957Z"
   },
   {
    "duration": 485,
    "start_time": "2023-02-18T08:18:31.755Z"
   },
   {
    "duration": 10,
    "start_time": "2023-02-18T08:18:58.135Z"
   },
   {
    "duration": 9,
    "start_time": "2023-02-18T08:19:01.327Z"
   },
   {
    "duration": 4,
    "start_time": "2023-02-18T08:19:07.376Z"
   },
   {
    "duration": 220,
    "start_time": "2023-02-18T08:19:11.226Z"
   },
   {
    "duration": 7,
    "start_time": "2023-02-18T08:19:17.672Z"
   },
   {
    "duration": 1404,
    "start_time": "2023-02-18T08:27:17.702Z"
   },
   {
    "duration": 43,
    "start_time": "2023-02-18T08:27:19.108Z"
   },
   {
    "duration": 12,
    "start_time": "2023-02-18T08:27:19.153Z"
   },
   {
    "duration": 20,
    "start_time": "2023-02-18T08:27:19.167Z"
   },
   {
    "duration": 21,
    "start_time": "2023-02-18T08:27:19.188Z"
   },
   {
    "duration": 8,
    "start_time": "2023-02-18T08:27:19.210Z"
   },
   {
    "duration": 6,
    "start_time": "2023-02-18T08:27:19.219Z"
   },
   {
    "duration": 15,
    "start_time": "2023-02-18T08:27:19.227Z"
   },
   {
    "duration": 11,
    "start_time": "2023-02-18T08:27:19.244Z"
   },
   {
    "duration": 14,
    "start_time": "2023-02-18T08:27:19.257Z"
   },
   {
    "duration": 9,
    "start_time": "2023-02-18T08:27:19.273Z"
   },
   {
    "duration": 6,
    "start_time": "2023-02-18T08:27:19.284Z"
   },
   {
    "duration": 45,
    "start_time": "2023-02-18T08:27:19.291Z"
   },
   {
    "duration": 25,
    "start_time": "2023-02-18T08:27:19.337Z"
   },
   {
    "duration": 15,
    "start_time": "2023-02-18T08:27:19.364Z"
   },
   {
    "duration": 111,
    "start_time": "2023-02-18T08:27:19.380Z"
   },
   {
    "duration": 1455,
    "start_time": "2023-02-18T08:27:19.494Z"
   },
   {
    "duration": 2314,
    "start_time": "2023-02-18T08:27:20.951Z"
   },
   {
    "duration": 523,
    "start_time": "2023-02-18T08:27:23.267Z"
   },
   {
    "duration": 30,
    "start_time": "2023-02-18T08:27:23.792Z"
   },
   {
    "duration": 239,
    "start_time": "2023-02-18T08:27:23.828Z"
   },
   {
    "duration": 38,
    "start_time": "2023-02-18T08:27:24.069Z"
   },
   {
    "duration": 48,
    "start_time": "2023-02-18T08:27:24.109Z"
   },
   {
    "duration": 12,
    "start_time": "2023-02-18T08:27:24.199Z"
   },
   {
    "duration": 84,
    "start_time": "2023-02-18T08:27:24.215Z"
   },
   {
    "duration": 22,
    "start_time": "2023-02-18T08:27:24.304Z"
   },
   {
    "duration": 625,
    "start_time": "2023-02-18T08:27:24.328Z"
   },
   {
    "duration": 39,
    "start_time": "2023-02-18T08:27:24.956Z"
   },
   {
    "duration": 2080,
    "start_time": "2023-02-18T08:27:25.008Z"
   },
   {
    "duration": 2355,
    "start_time": "2023-02-18T08:27:27.092Z"
   },
   {
    "duration": 353,
    "start_time": "2023-02-18T08:27:29.449Z"
   },
   {
    "duration": 352,
    "start_time": "2023-02-18T08:27:29.804Z"
   },
   {
    "duration": 133,
    "start_time": "2023-02-18T08:27:30.159Z"
   },
   {
    "duration": 28,
    "start_time": "2023-02-18T08:27:30.294Z"
   },
   {
    "duration": 218,
    "start_time": "2023-02-18T08:27:30.324Z"
   },
   {
    "duration": 5,
    "start_time": "2023-02-18T08:27:30.544Z"
   },
   {
    "duration": 68,
    "start_time": "2023-03-08T10:13:16.640Z"
   }
  ],
  "kernelspec": {
   "display_name": "Python 3 (ipykernel)",
   "language": "python",
   "name": "python3"
  },
  "language_info": {
   "codemirror_mode": {
    "name": "ipython",
    "version": 3
   },
   "file_extension": ".py",
   "mimetype": "text/x-python",
   "name": "python",
   "nbconvert_exporter": "python",
   "pygments_lexer": "ipython3",
   "version": "3.9.15"
  },
  "toc": {
   "base_numbering": 1,
   "nav_menu": {},
   "number_sections": true,
   "sideBar": true,
   "skip_h1_title": true,
   "title_cell": "Содержание",
   "title_sidebar": "Contents",
   "toc_cell": true,
   "toc_position": {
    "height": "calc(100% - 180px)",
    "left": "10px",
    "top": "150px",
    "width": "251px"
   },
   "toc_section_display": true,
   "toc_window_display": true
  }
 },
 "nbformat": 4,
 "nbformat_minor": 2
}
