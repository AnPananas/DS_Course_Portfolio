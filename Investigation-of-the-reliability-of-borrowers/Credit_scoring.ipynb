{
 "cells": [
  {
   "cell_type": "markdown",
   "id": "9dfb2e20",
   "metadata": {
    "toc": true
   },
   "source": [
    "<h1>Содержание<span class=\"tocSkip\"></span></h1>\n",
    "<div class=\"toc\"><ul class=\"toc-item\"><li><span><a href=\"#Откройте-таблицу-и-изучите-общую-информацию-о-данных\" data-toc-modified-id=\"Откройте-таблицу-и-изучите-общую-информацию-о-данных-1\"><span class=\"toc-item-num\">1&nbsp;&nbsp;</span>Откройте таблицу и изучите общую информацию о данных</a></span></li><li><span><a href=\"#Предобработка-данных\" data-toc-modified-id=\"Предобработка-данных-2\"><span class=\"toc-item-num\">2&nbsp;&nbsp;</span>Предобработка данных</a></span><ul class=\"toc-item\"><li><span><a href=\"#Удаление-пропусков\" data-toc-modified-id=\"Удаление-пропусков-2.1\"><span class=\"toc-item-num\">2.1&nbsp;&nbsp;</span>Удаление пропусков</a></span></li><li><span><a href=\"#Обработка-аномальных-значений\" data-toc-modified-id=\"Обработка-аномальных-значений-2.2\"><span class=\"toc-item-num\">2.2&nbsp;&nbsp;</span>Обработка аномальных значений</a></span></li><li><span><a href=\"#Удаление-пропусков-(продолжение)\" data-toc-modified-id=\"Удаление-пропусков-(продолжение)-2.3\"><span class=\"toc-item-num\">2.3&nbsp;&nbsp;</span>Удаление пропусков (продолжение)</a></span></li><li><span><a href=\"#Изменение-типов-данных\" data-toc-modified-id=\"Изменение-типов-данных-2.4\"><span class=\"toc-item-num\">2.4&nbsp;&nbsp;</span>Изменение типов данных</a></span></li><li><span><a href=\"#Обработка-дубликатов\" data-toc-modified-id=\"Обработка-дубликатов-2.5\"><span class=\"toc-item-num\">2.5&nbsp;&nbsp;</span>Обработка дубликатов</a></span></li><li><span><a href=\"#Категоризация-данных\" data-toc-modified-id=\"Категоризация-данных-2.6\"><span class=\"toc-item-num\">2.6&nbsp;&nbsp;</span>Категоризация данных</a></span></li><li><span><a href=\"#Шаг-3.-Исследуйте-данные-и-ответьте-на-вопросы\" data-toc-modified-id=\"Шаг-3.-Исследуйте-данные-и-ответьте-на-вопросы-2.7\"><span class=\"toc-item-num\">2.7&nbsp;&nbsp;</span>Шаг 3. Исследуйте данные и ответьте на вопросы</a></span><ul class=\"toc-item\"><li><span><a href=\"#3.1-Есть-ли-зависимость-между-количеством-детей-и-возвратом-кредита-в-срок?\" data-toc-modified-id=\"3.1-Есть-ли-зависимость-между-количеством-детей-и-возвратом-кредита-в-срок?-2.7.1\"><span class=\"toc-item-num\">2.7.1&nbsp;&nbsp;</span>3.1 Есть ли зависимость между количеством детей и возвратом кредита в срок?</a></span></li></ul></li></ul></li><li><span><a href=\"#Комментарий-студента-❗️-\" data-toc-modified-id=\"Комментарий-студента-❗️--3\"><span class=\"toc-item-num\">3&nbsp;&nbsp;</span>Комментарий студента ❗️ </a></span></li><li><span><a href=\"#-Комментарий-ревьюера-2-✔️-\" data-toc-modified-id=\"-Комментарий-ревьюера-2-✔️--4\"><span class=\"toc-item-num\">4&nbsp;&nbsp;</span> Комментарий ревьюера 2 ✔️ </a></span></li><li><span><a href=\"#Комментарий-студента-❗️\" data-toc-modified-id=\"Комментарий-студента-❗️-5\"><span class=\"toc-item-num\">5&nbsp;&nbsp;</span>Комментарий студента ❗️</a></span></li><li><span><a href=\"#-Комментарий-ревьюера-2-✔️\" data-toc-modified-id=\"-Комментарий-ревьюера-2-✔️-6\"><span class=\"toc-item-num\">6&nbsp;&nbsp;</span> Комментарий ревьюера 2 ✔️</a></span><ul class=\"toc-item\"><li><ul class=\"toc-item\"><li><span><a href=\"#3.2-Есть-ли-зависимость-между-семейным-положением-и-возвратом-кредита-в-срок?\" data-toc-modified-id=\"3.2-Есть-ли-зависимость-между-семейным-положением-и-возвратом-кредита-в-срок?-6.0.1\"><span class=\"toc-item-num\">6.0.1&nbsp;&nbsp;</span>3.2 Есть ли зависимость между семейным положением и возвратом кредита в срок?</a></span></li></ul></li></ul></li><li><span><a href=\"#Комментарий-студента-❗️\" data-toc-modified-id=\"Комментарий-студента-❗️-7\"><span class=\"toc-item-num\">7&nbsp;&nbsp;</span>Комментарий студента ❗️</a></span></li><li><span><a href=\"#Комментарий-студента-❗️\" data-toc-modified-id=\"Комментарий-студента-❗️-8\"><span class=\"toc-item-num\">8&nbsp;&nbsp;</span>Комментарий студента ❗️</a></span></li><li><span><a href=\"#-Комментарий-ревьюера-2-✔️\" data-toc-modified-id=\"-Комментарий-ревьюера-2-✔️-9\"><span class=\"toc-item-num\">9&nbsp;&nbsp;</span> Комментарий ревьюера 2 ✔️</a></span><ul class=\"toc-item\"><li><ul class=\"toc-item\"><li><span><a href=\"#3.3-Есть-ли-зависимость-между-уровнем-дохода-и-возвратом-кредита-в-срок?\" data-toc-modified-id=\"3.3-Есть-ли-зависимость-между-уровнем-дохода-и-возвратом-кредита-в-срок?-9.0.1\"><span class=\"toc-item-num\">9.0.1&nbsp;&nbsp;</span>3.3 Есть ли зависимость между уровнем дохода и возвратом кредита в срок?</a></span></li></ul></li></ul></li><li><span><a href=\"#Комментарий-студента-❗️\" data-toc-modified-id=\"Комментарий-студента-❗️-10\"><span class=\"toc-item-num\">10&nbsp;&nbsp;</span>Комментарий студента ❗️</a></span></li><li><span><a href=\"#Комментарий-студента-❗️\" data-toc-modified-id=\"Комментарий-студента-❗️-11\"><span class=\"toc-item-num\">11&nbsp;&nbsp;</span>Комментарий студента ❗️</a></span></li><li><span><a href=\"#-Комментарий-ревьюера-2-✔️\" data-toc-modified-id=\"-Комментарий-ревьюера-2-✔️-12\"><span class=\"toc-item-num\">12&nbsp;&nbsp;</span> Комментарий ревьюера 2 ✔️</a></span><ul class=\"toc-item\"><li><ul class=\"toc-item\"><li><span><a href=\"#3.4-Как-разные-цели-кредита-влияют-на-его-возврат-в-срок?\" data-toc-modified-id=\"3.4-Как-разные-цели-кредита-влияют-на-его-возврат-в-срок?-12.0.1\"><span class=\"toc-item-num\">12.0.1&nbsp;&nbsp;</span>3.4 Как разные цели кредита влияют на его возврат в срок?</a></span></li></ul></li></ul></li><li><span><a href=\"#Комментарий-студента-❗️\" data-toc-modified-id=\"Комментарий-студента-❗️-13\"><span class=\"toc-item-num\">13&nbsp;&nbsp;</span>Комментарий студента ❗️</a></span></li><li><span><a href=\"#Комментарий-студента-❗️\" data-toc-modified-id=\"Комментарий-студента-❗️-14\"><span class=\"toc-item-num\">14&nbsp;&nbsp;</span>Комментарий студента ❗️</a></span></li><li><span><a href=\"#-Комментарий-ревьюера-2-✔️\" data-toc-modified-id=\"-Комментарий-ревьюера-2-✔️-15\"><span class=\"toc-item-num\">15&nbsp;&nbsp;</span> Комментарий ревьюера 2 ✔️</a></span><ul class=\"toc-item\"><li><ul class=\"toc-item\"><li><span><a href=\"#3.5-Приведите-возможные-причины-появления-пропусков-в-исходных-данных.\" data-toc-modified-id=\"3.5-Приведите-возможные-причины-появления-пропусков-в-исходных-данных.-15.0.1\"><span class=\"toc-item-num\">15.0.1&nbsp;&nbsp;</span>3.5 Приведите возможные причины появления пропусков в исходных данных.</a></span></li><li><span><a href=\"#3.6-Объясните,-почему-заполнить-пропуски-медианным-значением-—-лучшее-решение-для-количественных-переменных.\" data-toc-modified-id=\"3.6-Объясните,-почему-заполнить-пропуски-медианным-значением-—-лучшее-решение-для-количественных-переменных.-15.0.2\"><span class=\"toc-item-num\">15.0.2&nbsp;&nbsp;</span>3.6 Объясните, почему заполнить пропуски медианным значением — лучшее решение для количественных переменных.</a></span></li></ul></li><li><span><a href=\"#Шаг-4:-общий-вывод.\" data-toc-modified-id=\"Шаг-4:-общий-вывод.-15.1\"><span class=\"toc-item-num\">15.1&nbsp;&nbsp;</span>Шаг 4: общий вывод.</a></span></li></ul></li><li><span><a href=\"#Комментарий-студента-❗️\" data-toc-modified-id=\"Комментарий-студента-❗️-16\"><span class=\"toc-item-num\">16&nbsp;&nbsp;</span>Комментарий студента ❗️</a></span></li><li><span><a href=\"#Комментарий-студента-❓\" data-toc-modified-id=\"Комментарий-студента-❓-17\"><span class=\"toc-item-num\">17&nbsp;&nbsp;</span>Комментарий студента ❓</a></span></li><li><span><a href=\"#-Комментарий-ревьюера-2-✔️\" data-toc-modified-id=\"-Комментарий-ревьюера-2-✔️-18\"><span class=\"toc-item-num\">18&nbsp;&nbsp;</span> Комментарий ревьюера 2 ✔️</a></span></li></ul></div>"
   ]
  },
  {
   "cell_type": "markdown",
   "id": "bab0584d",
   "metadata": {
    "deletable": false,
    "editable": false,
    "id": "c81daeeb"
   },
   "source": [
    "# Исследование надежности заемщиков\n"
   ]
  },
  {
   "cell_type": "markdown",
   "id": "520c94a8",
   "metadata": {
    "deletable": false,
    "editable": false,
    "id": "744d7639"
   },
   "source": [
    "## Откройте таблицу и изучите общую информацию о данных"
   ]
  },
  {
   "cell_type": "markdown",
   "id": "6820f4f3",
   "metadata": {},
   "source": [
    "**Задание 1. Импортируем библиотеку pandas. Считаем данные из csv-файла в датафрейм и сохраним в переменную `data`. Путь к файлу:**\n",
    "\n",
    "`/datasets/data.csv`"
   ]
  },
  {
   "cell_type": "code",
   "execution_count": 1,
   "id": "c3eed4f2",
   "metadata": {
    "deletable": false,
    "id": "7bcf75c9"
   },
   "outputs": [],
   "source": [
    "import pandas as pd\n",
    "from IPython.display import display\n",
    "\n",
    "\n",
    "data = pd.read_csv('/datasets/data.csv')\n"
   ]
  },
  {
   "cell_type": "markdown",
   "id": "31dc209a",
   "metadata": {},
   "source": [
    "**Задание 2. Выведем первые 20 строчек датафрейма `data` на экран.**"
   ]
  },
  {
   "cell_type": "code",
   "execution_count": 2,
   "id": "2d45e4d6",
   "metadata": {
    "deletable": false,
    "id": "2a7cab99",
    "outputId": "1a8f3ef2-d323-4ec2-ddf7-89670b5944c4"
   },
   "outputs": [
    {
     "data": {
      "text/html": [
       "<div>\n",
       "<style scoped>\n",
       "    .dataframe tbody tr th:only-of-type {\n",
       "        vertical-align: middle;\n",
       "    }\n",
       "\n",
       "    .dataframe tbody tr th {\n",
       "        vertical-align: top;\n",
       "    }\n",
       "\n",
       "    .dataframe thead th {\n",
       "        text-align: right;\n",
       "    }\n",
       "</style>\n",
       "<table border=\"1\" class=\"dataframe\">\n",
       "  <thead>\n",
       "    <tr style=\"text-align: right;\">\n",
       "      <th></th>\n",
       "      <th>children</th>\n",
       "      <th>days_employed</th>\n",
       "      <th>dob_years</th>\n",
       "      <th>education</th>\n",
       "      <th>education_id</th>\n",
       "      <th>family_status</th>\n",
       "      <th>family_status_id</th>\n",
       "      <th>gender</th>\n",
       "      <th>income_type</th>\n",
       "      <th>debt</th>\n",
       "      <th>total_income</th>\n",
       "      <th>purpose</th>\n",
       "    </tr>\n",
       "  </thead>\n",
       "  <tbody>\n",
       "    <tr>\n",
       "      <th>0</th>\n",
       "      <td>1</td>\n",
       "      <td>-8437.673028</td>\n",
       "      <td>42</td>\n",
       "      <td>высшее</td>\n",
       "      <td>0</td>\n",
       "      <td>женат / замужем</td>\n",
       "      <td>0</td>\n",
       "      <td>F</td>\n",
       "      <td>сотрудник</td>\n",
       "      <td>0</td>\n",
       "      <td>253875.639453</td>\n",
       "      <td>покупка жилья</td>\n",
       "    </tr>\n",
       "    <tr>\n",
       "      <th>1</th>\n",
       "      <td>1</td>\n",
       "      <td>-4024.803754</td>\n",
       "      <td>36</td>\n",
       "      <td>среднее</td>\n",
       "      <td>1</td>\n",
       "      <td>женат / замужем</td>\n",
       "      <td>0</td>\n",
       "      <td>F</td>\n",
       "      <td>сотрудник</td>\n",
       "      <td>0</td>\n",
       "      <td>112080.014102</td>\n",
       "      <td>приобретение автомобиля</td>\n",
       "    </tr>\n",
       "    <tr>\n",
       "      <th>2</th>\n",
       "      <td>0</td>\n",
       "      <td>-5623.422610</td>\n",
       "      <td>33</td>\n",
       "      <td>Среднее</td>\n",
       "      <td>1</td>\n",
       "      <td>женат / замужем</td>\n",
       "      <td>0</td>\n",
       "      <td>M</td>\n",
       "      <td>сотрудник</td>\n",
       "      <td>0</td>\n",
       "      <td>145885.952297</td>\n",
       "      <td>покупка жилья</td>\n",
       "    </tr>\n",
       "    <tr>\n",
       "      <th>3</th>\n",
       "      <td>3</td>\n",
       "      <td>-4124.747207</td>\n",
       "      <td>32</td>\n",
       "      <td>среднее</td>\n",
       "      <td>1</td>\n",
       "      <td>женат / замужем</td>\n",
       "      <td>0</td>\n",
       "      <td>M</td>\n",
       "      <td>сотрудник</td>\n",
       "      <td>0</td>\n",
       "      <td>267628.550329</td>\n",
       "      <td>дополнительное образование</td>\n",
       "    </tr>\n",
       "    <tr>\n",
       "      <th>4</th>\n",
       "      <td>0</td>\n",
       "      <td>340266.072047</td>\n",
       "      <td>53</td>\n",
       "      <td>среднее</td>\n",
       "      <td>1</td>\n",
       "      <td>гражданский брак</td>\n",
       "      <td>1</td>\n",
       "      <td>F</td>\n",
       "      <td>пенсионер</td>\n",
       "      <td>0</td>\n",
       "      <td>158616.077870</td>\n",
       "      <td>сыграть свадьбу</td>\n",
       "    </tr>\n",
       "    <tr>\n",
       "      <th>5</th>\n",
       "      <td>0</td>\n",
       "      <td>-926.185831</td>\n",
       "      <td>27</td>\n",
       "      <td>высшее</td>\n",
       "      <td>0</td>\n",
       "      <td>гражданский брак</td>\n",
       "      <td>1</td>\n",
       "      <td>M</td>\n",
       "      <td>компаньон</td>\n",
       "      <td>0</td>\n",
       "      <td>255763.565419</td>\n",
       "      <td>покупка жилья</td>\n",
       "    </tr>\n",
       "    <tr>\n",
       "      <th>6</th>\n",
       "      <td>0</td>\n",
       "      <td>-2879.202052</td>\n",
       "      <td>43</td>\n",
       "      <td>высшее</td>\n",
       "      <td>0</td>\n",
       "      <td>женат / замужем</td>\n",
       "      <td>0</td>\n",
       "      <td>F</td>\n",
       "      <td>компаньон</td>\n",
       "      <td>0</td>\n",
       "      <td>240525.971920</td>\n",
       "      <td>операции с жильем</td>\n",
       "    </tr>\n",
       "    <tr>\n",
       "      <th>7</th>\n",
       "      <td>0</td>\n",
       "      <td>-152.779569</td>\n",
       "      <td>50</td>\n",
       "      <td>СРЕДНЕЕ</td>\n",
       "      <td>1</td>\n",
       "      <td>женат / замужем</td>\n",
       "      <td>0</td>\n",
       "      <td>M</td>\n",
       "      <td>сотрудник</td>\n",
       "      <td>0</td>\n",
       "      <td>135823.934197</td>\n",
       "      <td>образование</td>\n",
       "    </tr>\n",
       "    <tr>\n",
       "      <th>8</th>\n",
       "      <td>2</td>\n",
       "      <td>-6929.865299</td>\n",
       "      <td>35</td>\n",
       "      <td>ВЫСШЕЕ</td>\n",
       "      <td>0</td>\n",
       "      <td>гражданский брак</td>\n",
       "      <td>1</td>\n",
       "      <td>F</td>\n",
       "      <td>сотрудник</td>\n",
       "      <td>0</td>\n",
       "      <td>95856.832424</td>\n",
       "      <td>на проведение свадьбы</td>\n",
       "    </tr>\n",
       "    <tr>\n",
       "      <th>9</th>\n",
       "      <td>0</td>\n",
       "      <td>-2188.756445</td>\n",
       "      <td>41</td>\n",
       "      <td>среднее</td>\n",
       "      <td>1</td>\n",
       "      <td>женат / замужем</td>\n",
       "      <td>0</td>\n",
       "      <td>M</td>\n",
       "      <td>сотрудник</td>\n",
       "      <td>0</td>\n",
       "      <td>144425.938277</td>\n",
       "      <td>покупка жилья для семьи</td>\n",
       "    </tr>\n",
       "    <tr>\n",
       "      <th>10</th>\n",
       "      <td>2</td>\n",
       "      <td>-4171.483647</td>\n",
       "      <td>36</td>\n",
       "      <td>высшее</td>\n",
       "      <td>0</td>\n",
       "      <td>женат / замужем</td>\n",
       "      <td>0</td>\n",
       "      <td>M</td>\n",
       "      <td>компаньон</td>\n",
       "      <td>0</td>\n",
       "      <td>113943.491460</td>\n",
       "      <td>покупка недвижимости</td>\n",
       "    </tr>\n",
       "    <tr>\n",
       "      <th>11</th>\n",
       "      <td>0</td>\n",
       "      <td>-792.701887</td>\n",
       "      <td>40</td>\n",
       "      <td>среднее</td>\n",
       "      <td>1</td>\n",
       "      <td>женат / замужем</td>\n",
       "      <td>0</td>\n",
       "      <td>F</td>\n",
       "      <td>сотрудник</td>\n",
       "      <td>0</td>\n",
       "      <td>77069.234271</td>\n",
       "      <td>покупка коммерческой недвижимости</td>\n",
       "    </tr>\n",
       "    <tr>\n",
       "      <th>12</th>\n",
       "      <td>0</td>\n",
       "      <td>NaN</td>\n",
       "      <td>65</td>\n",
       "      <td>среднее</td>\n",
       "      <td>1</td>\n",
       "      <td>гражданский брак</td>\n",
       "      <td>1</td>\n",
       "      <td>M</td>\n",
       "      <td>пенсионер</td>\n",
       "      <td>0</td>\n",
       "      <td>NaN</td>\n",
       "      <td>сыграть свадьбу</td>\n",
       "    </tr>\n",
       "    <tr>\n",
       "      <th>13</th>\n",
       "      <td>0</td>\n",
       "      <td>-1846.641941</td>\n",
       "      <td>54</td>\n",
       "      <td>неоконченное высшее</td>\n",
       "      <td>2</td>\n",
       "      <td>женат / замужем</td>\n",
       "      <td>0</td>\n",
       "      <td>F</td>\n",
       "      <td>сотрудник</td>\n",
       "      <td>0</td>\n",
       "      <td>130458.228857</td>\n",
       "      <td>приобретение автомобиля</td>\n",
       "    </tr>\n",
       "    <tr>\n",
       "      <th>14</th>\n",
       "      <td>0</td>\n",
       "      <td>-1844.956182</td>\n",
       "      <td>56</td>\n",
       "      <td>высшее</td>\n",
       "      <td>0</td>\n",
       "      <td>гражданский брак</td>\n",
       "      <td>1</td>\n",
       "      <td>F</td>\n",
       "      <td>компаньон</td>\n",
       "      <td>1</td>\n",
       "      <td>165127.911772</td>\n",
       "      <td>покупка жилой недвижимости</td>\n",
       "    </tr>\n",
       "    <tr>\n",
       "      <th>15</th>\n",
       "      <td>1</td>\n",
       "      <td>-972.364419</td>\n",
       "      <td>26</td>\n",
       "      <td>среднее</td>\n",
       "      <td>1</td>\n",
       "      <td>женат / замужем</td>\n",
       "      <td>0</td>\n",
       "      <td>F</td>\n",
       "      <td>сотрудник</td>\n",
       "      <td>0</td>\n",
       "      <td>116820.904450</td>\n",
       "      <td>строительство собственной недвижимости</td>\n",
       "    </tr>\n",
       "    <tr>\n",
       "      <th>16</th>\n",
       "      <td>0</td>\n",
       "      <td>-1719.934226</td>\n",
       "      <td>35</td>\n",
       "      <td>среднее</td>\n",
       "      <td>1</td>\n",
       "      <td>женат / замужем</td>\n",
       "      <td>0</td>\n",
       "      <td>F</td>\n",
       "      <td>сотрудник</td>\n",
       "      <td>0</td>\n",
       "      <td>289202.704229</td>\n",
       "      <td>недвижимость</td>\n",
       "    </tr>\n",
       "    <tr>\n",
       "      <th>17</th>\n",
       "      <td>0</td>\n",
       "      <td>-2369.999720</td>\n",
       "      <td>33</td>\n",
       "      <td>высшее</td>\n",
       "      <td>0</td>\n",
       "      <td>гражданский брак</td>\n",
       "      <td>1</td>\n",
       "      <td>M</td>\n",
       "      <td>сотрудник</td>\n",
       "      <td>0</td>\n",
       "      <td>90410.586745</td>\n",
       "      <td>строительство недвижимости</td>\n",
       "    </tr>\n",
       "    <tr>\n",
       "      <th>18</th>\n",
       "      <td>0</td>\n",
       "      <td>400281.136913</td>\n",
       "      <td>53</td>\n",
       "      <td>среднее</td>\n",
       "      <td>1</td>\n",
       "      <td>вдовец / вдова</td>\n",
       "      <td>2</td>\n",
       "      <td>F</td>\n",
       "      <td>пенсионер</td>\n",
       "      <td>0</td>\n",
       "      <td>56823.777243</td>\n",
       "      <td>на покупку подержанного автомобиля</td>\n",
       "    </tr>\n",
       "    <tr>\n",
       "      <th>19</th>\n",
       "      <td>0</td>\n",
       "      <td>-10038.818549</td>\n",
       "      <td>48</td>\n",
       "      <td>СРЕДНЕЕ</td>\n",
       "      <td>1</td>\n",
       "      <td>в разводе</td>\n",
       "      <td>3</td>\n",
       "      <td>F</td>\n",
       "      <td>сотрудник</td>\n",
       "      <td>0</td>\n",
       "      <td>242831.107982</td>\n",
       "      <td>на покупку своего автомобиля</td>\n",
       "    </tr>\n",
       "  </tbody>\n",
       "</table>\n",
       "</div>"
      ],
      "text/plain": [
       "    children  days_employed  dob_years            education  education_id  \\\n",
       "0          1   -8437.673028         42               высшее             0   \n",
       "1          1   -4024.803754         36              среднее             1   \n",
       "2          0   -5623.422610         33              Среднее             1   \n",
       "3          3   -4124.747207         32              среднее             1   \n",
       "4          0  340266.072047         53              среднее             1   \n",
       "5          0    -926.185831         27               высшее             0   \n",
       "6          0   -2879.202052         43               высшее             0   \n",
       "7          0    -152.779569         50              СРЕДНЕЕ             1   \n",
       "8          2   -6929.865299         35               ВЫСШЕЕ             0   \n",
       "9          0   -2188.756445         41              среднее             1   \n",
       "10         2   -4171.483647         36               высшее             0   \n",
       "11         0    -792.701887         40              среднее             1   \n",
       "12         0            NaN         65              среднее             1   \n",
       "13         0   -1846.641941         54  неоконченное высшее             2   \n",
       "14         0   -1844.956182         56               высшее             0   \n",
       "15         1    -972.364419         26              среднее             1   \n",
       "16         0   -1719.934226         35              среднее             1   \n",
       "17         0   -2369.999720         33               высшее             0   \n",
       "18         0  400281.136913         53              среднее             1   \n",
       "19         0  -10038.818549         48              СРЕДНЕЕ             1   \n",
       "\n",
       "       family_status  family_status_id gender income_type  debt  \\\n",
       "0    женат / замужем                 0      F   сотрудник     0   \n",
       "1    женат / замужем                 0      F   сотрудник     0   \n",
       "2    женат / замужем                 0      M   сотрудник     0   \n",
       "3    женат / замужем                 0      M   сотрудник     0   \n",
       "4   гражданский брак                 1      F   пенсионер     0   \n",
       "5   гражданский брак                 1      M   компаньон     0   \n",
       "6    женат / замужем                 0      F   компаньон     0   \n",
       "7    женат / замужем                 0      M   сотрудник     0   \n",
       "8   гражданский брак                 1      F   сотрудник     0   \n",
       "9    женат / замужем                 0      M   сотрудник     0   \n",
       "10   женат / замужем                 0      M   компаньон     0   \n",
       "11   женат / замужем                 0      F   сотрудник     0   \n",
       "12  гражданский брак                 1      M   пенсионер     0   \n",
       "13   женат / замужем                 0      F   сотрудник     0   \n",
       "14  гражданский брак                 1      F   компаньон     1   \n",
       "15   женат / замужем                 0      F   сотрудник     0   \n",
       "16   женат / замужем                 0      F   сотрудник     0   \n",
       "17  гражданский брак                 1      M   сотрудник     0   \n",
       "18    вдовец / вдова                 2      F   пенсионер     0   \n",
       "19         в разводе                 3      F   сотрудник     0   \n",
       "\n",
       "     total_income                                 purpose  \n",
       "0   253875.639453                           покупка жилья  \n",
       "1   112080.014102                 приобретение автомобиля  \n",
       "2   145885.952297                           покупка жилья  \n",
       "3   267628.550329              дополнительное образование  \n",
       "4   158616.077870                         сыграть свадьбу  \n",
       "5   255763.565419                           покупка жилья  \n",
       "6   240525.971920                       операции с жильем  \n",
       "7   135823.934197                             образование  \n",
       "8    95856.832424                   на проведение свадьбы  \n",
       "9   144425.938277                 покупка жилья для семьи  \n",
       "10  113943.491460                    покупка недвижимости  \n",
       "11   77069.234271       покупка коммерческой недвижимости  \n",
       "12            NaN                         сыграть свадьбу  \n",
       "13  130458.228857                 приобретение автомобиля  \n",
       "14  165127.911772              покупка жилой недвижимости  \n",
       "15  116820.904450  строительство собственной недвижимости  \n",
       "16  289202.704229                            недвижимость  \n",
       "17   90410.586745              строительство недвижимости  \n",
       "18   56823.777243      на покупку подержанного автомобиля  \n",
       "19  242831.107982            на покупку своего автомобиля  "
      ]
     },
     "execution_count": 2,
     "metadata": {},
     "output_type": "execute_result"
    }
   ],
   "source": [
    "data.head(20)"
   ]
  },
  {
   "cell_type": "markdown",
   "id": "029aa9cf",
   "metadata": {},
   "source": [
    "**Задание 3. Выведем основную информацию о датафрейме с помощью метода `info()`.**"
   ]
  },
  {
   "cell_type": "code",
   "execution_count": 3,
   "id": "c6090d3c",
   "metadata": {
    "deletable": false,
    "id": "2b757bca",
    "outputId": "15376089-8dad-46c9-b520-c05248d43158"
   },
   "outputs": [
    {
     "name": "stdout",
     "output_type": "stream",
     "text": [
      "<class 'pandas.core.frame.DataFrame'>\n",
      "RangeIndex: 21525 entries, 0 to 21524\n",
      "Data columns (total 12 columns):\n",
      " #   Column            Non-Null Count  Dtype  \n",
      "---  ------            --------------  -----  \n",
      " 0   children          21525 non-null  int64  \n",
      " 1   days_employed     19351 non-null  float64\n",
      " 2   dob_years         21525 non-null  int64  \n",
      " 3   education         21525 non-null  object \n",
      " 4   education_id      21525 non-null  int64  \n",
      " 5   family_status     21525 non-null  object \n",
      " 6   family_status_id  21525 non-null  int64  \n",
      " 7   gender            21525 non-null  object \n",
      " 8   income_type       21525 non-null  object \n",
      " 9   debt              21525 non-null  int64  \n",
      " 10  total_income      19351 non-null  float64\n",
      " 11  purpose           21525 non-null  object \n",
      "dtypes: float64(2), int64(5), object(5)\n",
      "memory usage: 2.0+ MB\n"
     ]
    }
   ],
   "source": [
    "data.info()"
   ]
  },
  {
   "cell_type": "markdown",
   "id": "4c1419f3",
   "metadata": {
    "deletable": false,
    "editable": false,
    "id": "333ec665"
   },
   "source": [
    "## Предобработка данных"
   ]
  },
  {
   "cell_type": "markdown",
   "id": "003054c6",
   "metadata": {
    "deletable": false,
    "editable": false,
    "id": "02d92d53"
   },
   "source": [
    "### Удаление пропусков"
   ]
  },
  {
   "cell_type": "markdown",
   "id": "1945f075",
   "metadata": {},
   "source": [
    "**Задание 4. Выведем количество пропущенных значений для каждого столбца. Используем комбинацию двух методов.**"
   ]
  },
  {
   "cell_type": "code",
   "execution_count": 4,
   "id": "9f82d049",
   "metadata": {
    "deletable": false,
    "id": "7f9b2309",
    "outputId": "81f4d817-781c-465c-ed15-91ce4446810d"
   },
   "outputs": [
    {
     "data": {
      "text/plain": [
       "children               0\n",
       "days_employed       2174\n",
       "dob_years              0\n",
       "education              0\n",
       "education_id           0\n",
       "family_status          0\n",
       "family_status_id       0\n",
       "gender                 0\n",
       "income_type            0\n",
       "debt                   0\n",
       "total_income        2174\n",
       "purpose                0\n",
       "dtype: int64"
      ]
     },
     "execution_count": 4,
     "metadata": {},
     "output_type": "execute_result"
    }
   ],
   "source": [
    "data.isna().sum()"
   ]
  },
  {
   "cell_type": "markdown",
   "id": "0389395b",
   "metadata": {},
   "source": [
    "**Задание 5. В двух столбцах есть пропущенные значения. Один из них — `days_employed`. Пропуски в этом столбце обработаем на следующем этапе. Другой столбец с пропущенными значениями — `total_income` — хранит данные о доходах. На сумму дохода сильнее всего влияет тип занятости, поэтому заполнить пропуски в этом столбце нужно медианным значением по каждому типу из столбца `income_type`. Например, у человека с типом занятости `сотрудник` пропуск в столбце `total_income` должен быть заполнен медианным доходом среди всех записей с тем же типом.**"
   ]
  },
  {
   "cell_type": "code",
   "execution_count": 5,
   "id": "832cca84",
   "metadata": {
    "deletable": false,
    "id": "42006a93"
   },
   "outputs": [],
   "source": [
    "for t in data['income_type'].unique():\n",
    "    data.loc[(data['income_type'] == t) & (data['total_income'].isna()), 'total_income'] = \\\n",
    "    data.loc[(data['income_type'] == t), 'total_income'].median()"
   ]
  },
  {
   "cell_type": "markdown",
   "id": "a03c89b8",
   "metadata": {
    "deletable": false,
    "editable": false,
    "id": "89da5ece"
   },
   "source": [
    "### Обработка аномальных значений"
   ]
  },
  {
   "cell_type": "markdown",
   "id": "149f65a2",
   "metadata": {},
   "source": [
    "**Задание 6. В данных могут встречаться артефакты (аномалии) — значения, которые не отражают действительность и появились по какой-то ошибке. таким артефактом будет отрицательное количество дней трудового стажа в столбце `days_employed`. Для реальных данных это нормально. Обработаем значения в этом столбце: заменим все отрицательные значения положительными с помощью метода `abs()`.**"
   ]
  },
  {
   "cell_type": "code",
   "execution_count": 6,
   "id": "f0e48ee6",
   "metadata": {
    "deletable": false,
    "id": "f6f055bf"
   },
   "outputs": [],
   "source": [
    "data['days_employed'] = data['days_employed'].abs()"
   ]
  },
  {
   "cell_type": "markdown",
   "id": "b26e55b2",
   "metadata": {},
   "source": [
    "**Задание 7. Для каждого типа занятости выведим медианное значение трудового стажа `days_employed` в днях.**"
   ]
  },
  {
   "cell_type": "code",
   "execution_count": 7,
   "id": "4fc6331e",
   "metadata": {
    "deletable": false,
    "id": "85a5faf6",
    "outputId": "801ef80e-522b-4668-f34e-565af7432bcf"
   },
   "outputs": [
    {
     "data": {
      "text/plain": [
       "income_type\n",
       "безработный        366413.652744\n",
       "в декрете            3296.759962\n",
       "госслужащий          2689.368353\n",
       "компаньон            1547.382223\n",
       "пенсионер          365213.306266\n",
       "предприниматель       520.848083\n",
       "сотрудник            1574.202821\n",
       "студент               578.751554\n",
       "Name: days_employed, dtype: float64"
      ]
     },
     "execution_count": 7,
     "metadata": {},
     "output_type": "execute_result"
    }
   ],
   "source": [
    "data.groupby('income_type')['days_employed'].agg('median')"
   ]
  },
  {
   "cell_type": "markdown",
   "id": "0251decd",
   "metadata": {},
   "source": [
    "У двух типов (безработные и пенсионеры) получатся аномально большие значения. Исправить такие значения сложно, поэтому оставим их как есть. Тем более этот столбец не понадобится нам для исследования."
   ]
  },
  {
   "cell_type": "markdown",
   "id": "b4d9033e",
   "metadata": {},
   "source": [
    "**Задание 8. Выведем перечень уникальных значений столбца `children`.**"
   ]
  },
  {
   "cell_type": "code",
   "execution_count": 8,
   "id": "2bc0d104",
   "metadata": {
    "deletable": false,
    "id": "ef5056eb",
    "outputId": "6975b15c-7f95-4697-d16d-a0c79b657b03"
   },
   "outputs": [
    {
     "data": {
      "text/plain": [
       "array([ 1,  0,  3,  2, -1,  4, 20,  5], dtype=int64)"
      ]
     },
     "execution_count": 8,
     "metadata": {},
     "output_type": "execute_result"
    }
   ],
   "source": [
    "data['children'].unique()"
   ]
  },
  {
   "cell_type": "markdown",
   "id": "e0aef59d",
   "metadata": {
    "deletable": false,
    "editable": false,
    "id": "40b9ebf2"
   },
   "source": [
    "**Задание 9. В столбце `children` есть два аномальных значения. Удалите строки, в которых встречаются такие аномальные значения из датафрейма `data`.**"
   ]
  },
  {
   "cell_type": "code",
   "execution_count": 9,
   "id": "8f629c8b",
   "metadata": {
    "deletable": false,
    "id": "3ff9801d"
   },
   "outputs": [],
   "source": [
    "data = data[(data['children'] != -1) & (data['children'] != 20)]"
   ]
  },
  {
   "cell_type": "markdown",
   "id": "7521c092",
   "metadata": {
    "deletable": false,
    "editable": false,
    "id": "bbc4d0ce"
   },
   "source": [
    "**Задание 10. Ещё раз выведите перечень уникальных значений столбца `children`, чтобы убедиться, что артефакты удалены.**"
   ]
  },
  {
   "cell_type": "code",
   "execution_count": 10,
   "id": "bb7861a7",
   "metadata": {
    "deletable": false,
    "id": "ad4fa8b7",
    "outputId": "b2097101-d49d-44d9-901b-32a65c9463d1"
   },
   "outputs": [
    {
     "data": {
      "text/plain": [
       "array([1, 0, 3, 2, 4, 5], dtype=int64)"
      ]
     },
     "execution_count": 10,
     "metadata": {},
     "output_type": "execute_result"
    }
   ],
   "source": [
    "data['children'].unique()"
   ]
  },
  {
   "cell_type": "markdown",
   "id": "36ca3c65",
   "metadata": {
    "deletable": false,
    "editable": false,
    "id": "75440b63"
   },
   "source": [
    "### Удаление пропусков (продолжение)"
   ]
  },
  {
   "cell_type": "markdown",
   "id": "def6dbe2",
   "metadata": {
    "deletable": false,
    "editable": false,
    "id": "f4ea573f"
   },
   "source": [
    "**Задание 11. Заполните пропуски в столбце `days_employed` медианными значениями по каждого типа занятости `income_type`.**"
   ]
  },
  {
   "cell_type": "code",
   "execution_count": 11,
   "id": "6e650775",
   "metadata": {
    "deletable": false,
    "id": "af6b1a7e"
   },
   "outputs": [],
   "source": [
    "for t in data['income_type'].unique():\n",
    "    data.loc[(data['income_type'] == t) & (data['days_employed'].isna()), 'days_employed'] = \\\n",
    "    data.loc[(data['income_type'] == t), 'days_employed'].median()"
   ]
  },
  {
   "cell_type": "markdown",
   "id": "d2bd7855",
   "metadata": {
    "deletable": false,
    "editable": false,
    "id": "2753f40d"
   },
   "source": [
    "**Задание 12. Убедитесь, что все пропуски заполнены. Проверьте себя и ещё раз выведите количество пропущенных значений для каждого столбца с помощью двух методов.**"
   ]
  },
  {
   "cell_type": "code",
   "execution_count": 12,
   "id": "31932804",
   "metadata": {
    "deletable": false,
    "id": "55f78bc2",
    "outputId": "8da1e4e1-358e-4e87-98c9-f261bce0a7b2"
   },
   "outputs": [
    {
     "data": {
      "text/plain": [
       "children            0\n",
       "days_employed       0\n",
       "dob_years           0\n",
       "education           0\n",
       "education_id        0\n",
       "family_status       0\n",
       "family_status_id    0\n",
       "gender              0\n",
       "income_type         0\n",
       "debt                0\n",
       "total_income        0\n",
       "purpose             0\n",
       "dtype: int64"
      ]
     },
     "execution_count": 12,
     "metadata": {},
     "output_type": "execute_result"
    }
   ],
   "source": [
    "data.isna().sum()"
   ]
  },
  {
   "cell_type": "markdown",
   "id": "78dee2de",
   "metadata": {
    "deletable": false,
    "editable": false,
    "id": "ddc81e43"
   },
   "source": [
    "### Изменение типов данных"
   ]
  },
  {
   "cell_type": "markdown",
   "id": "e2c8a875",
   "metadata": {
    "deletable": false,
    "editable": false,
    "id": "42d19d24"
   },
   "source": [
    "**Задание 13. Замените вещественный тип данных в столбце `total_income` на целочисленный с помощью метода `astype()`.**"
   ]
  },
  {
   "cell_type": "code",
   "execution_count": 13,
   "id": "a91d8ebe",
   "metadata": {
    "deletable": false,
    "id": "920b65ad"
   },
   "outputs": [],
   "source": [
    "data['total_income'] = data['total_income'].astype(int)"
   ]
  },
  {
   "cell_type": "markdown",
   "id": "21fe3813",
   "metadata": {
    "deletable": false,
    "editable": false,
    "id": "80c420ba"
   },
   "source": [
    "### Обработка дубликатов"
   ]
  },
  {
   "cell_type": "markdown",
   "id": "3c970f4b",
   "metadata": {
    "deletable": false,
    "editable": false
   },
   "source": [
    "**Задание 14. Обработайте неявные дубликаты в столбце `education`. В этом столбце есть одни и те же значения, но записанные по-разному: с использованием заглавных и строчных букв. Приведите их к нижнему регистру. Проверьте остальные столбцы.**"
   ]
  },
  {
   "cell_type": "code",
   "execution_count": 14,
   "id": "ac5d33a5",
   "metadata": {
    "deletable": false
   },
   "outputs": [],
   "source": [
    "data['education'] = data['education'].str.lower()"
   ]
  },
  {
   "cell_type": "markdown",
   "id": "0a6de0c5",
   "metadata": {
    "deletable": false,
    "editable": false,
    "id": "dc587695"
   },
   "source": [
    "**Задание 15. Выведите на экран количество строк-дубликатов в данных. Если такие строки присутствуют, удалите их.**"
   ]
  },
  {
   "cell_type": "code",
   "execution_count": 15,
   "id": "f547e05c",
   "metadata": {
    "deletable": false,
    "id": "3ee445e4",
    "outputId": "9684deba-1934-42d1-99e1-cda61740f822"
   },
   "outputs": [
    {
     "data": {
      "text/plain": [
       "71"
      ]
     },
     "execution_count": 15,
     "metadata": {},
     "output_type": "execute_result"
    }
   ],
   "source": [
    "data.duplicated().sum()"
   ]
  },
  {
   "cell_type": "code",
   "execution_count": 16,
   "id": "737761e8",
   "metadata": {
    "deletable": false,
    "id": "8575fe05"
   },
   "outputs": [],
   "source": [
    "data = data.drop_duplicates()"
   ]
  },
  {
   "cell_type": "markdown",
   "id": "2bea257a",
   "metadata": {
    "deletable": false,
    "editable": false,
    "id": "9904cf55"
   },
   "source": [
    "### Категоризация данных"
   ]
  },
  {
   "cell_type": "markdown",
   "id": "bb69828a",
   "metadata": {
    "deletable": false,
    "editable": false,
    "id": "72fcc8a2"
   },
   "source": [
    "**Задание 16. На основании диапазонов, указанных ниже, создайте в датафрейме `data` столбец `total_income_category` с категориями:**\n",
    "\n",
    "- 0–30000 — `'E'`;\n",
    "- 30001–50000 — `'D'`;\n",
    "- 50001–200000 — `'C'`;\n",
    "- 200001–1000000 — `'B'`;\n",
    "- 1000001 и выше — `'A'`.\n",
    "\n",
    "\n",
    "**Например, кредитополучателю с доходом 25000 нужно назначить категорию `'E'`, а клиенту, получающему 235000, — `'B'`. Используйте собственную функцию с именем `categorize_income()` и метод `apply()`.**"
   ]
  },
  {
   "cell_type": "code",
   "execution_count": 17,
   "id": "484cfc05",
   "metadata": {
    "deletable": false,
    "id": "e1771346"
   },
   "outputs": [],
   "source": [
    "def categorize_income(income):\n",
    "    try:\n",
    "        if 0 <= income <= 30000:\n",
    "            return 'E'\n",
    "        elif 30001 <= income <= 50000:\n",
    "            return 'D'\n",
    "        elif 50001 <= income <= 200000:\n",
    "            return 'C'\n",
    "        elif 200001 <= income <= 1000000:\n",
    "            return 'B'\n",
    "        elif income >= 1000001:\n",
    "            return 'A'\n",
    "    except:\n",
    "        pass"
   ]
  },
  {
   "cell_type": "code",
   "execution_count": 18,
   "id": "b81865e4",
   "metadata": {
    "deletable": false,
    "id": "d5f3586d"
   },
   "outputs": [],
   "source": [
    "data['total_income_category'] = data['total_income'].apply(categorize_income)"
   ]
  },
  {
   "cell_type": "markdown",
   "id": "0cf7be5d",
   "metadata": {
    "deletable": false,
    "editable": false,
    "id": "dde49b5c"
   },
   "source": [
    "**Задание 17. Выведите на экран перечень уникальных целей взятия кредита из столбца `purpose`.**"
   ]
  },
  {
   "cell_type": "code",
   "execution_count": 19,
   "id": "c6ff46e5",
   "metadata": {
    "deletable": false,
    "id": "f67ce9b3",
    "outputId": "673c12d9-7d7e-4ae0-9812-c622c89dd244"
   },
   "outputs": [
    {
     "data": {
      "text/plain": [
       "array(['покупка жилья', 'приобретение автомобиля',\n",
       "       'дополнительное образование', 'сыграть свадьбу',\n",
       "       'операции с жильем', 'образование', 'на проведение свадьбы',\n",
       "       'покупка жилья для семьи', 'покупка недвижимости',\n",
       "       'покупка коммерческой недвижимости', 'покупка жилой недвижимости',\n",
       "       'строительство собственной недвижимости', 'недвижимость',\n",
       "       'строительство недвижимости', 'на покупку подержанного автомобиля',\n",
       "       'на покупку своего автомобиля',\n",
       "       'операции с коммерческой недвижимостью',\n",
       "       'строительство жилой недвижимости', 'жилье',\n",
       "       'операции со своей недвижимостью', 'автомобили',\n",
       "       'заняться образованием', 'сделка с подержанным автомобилем',\n",
       "       'получение образования', 'автомобиль', 'свадьба',\n",
       "       'получение дополнительного образования', 'покупка своего жилья',\n",
       "       'операции с недвижимостью', 'получение высшего образования',\n",
       "       'свой автомобиль', 'сделка с автомобилем',\n",
       "       'профильное образование', 'высшее образование',\n",
       "       'покупка жилья для сдачи', 'на покупку автомобиля', 'ремонт жилью',\n",
       "       'заняться высшим образованием'], dtype=object)"
      ]
     },
     "execution_count": 19,
     "metadata": {},
     "output_type": "execute_result"
    }
   ],
   "source": [
    "data['purpose'].unique()"
   ]
  },
  {
   "cell_type": "markdown",
   "id": "86b5d48c",
   "metadata": {
    "deletable": false,
    "editable": false,
    "id": "85d0aef0"
   },
   "source": [
    "**Задание 18. Создайте функцию, которая на основании данных из столбца `purpose` сформирует новый столбец `purpose_category`, в который войдут следующие категории:**\n",
    "\n",
    "- `'операции с автомобилем'`,\n",
    "- `'операции с недвижимостью'`,\n",
    "- `'проведение свадьбы'`,\n",
    "- `'получение образования'`.\n",
    "\n",
    "**Например, если в столбце `purpose` находится подстрока `'на покупку автомобиля'`, то в столбце `purpose_category` должна появиться строка `'операции с автомобилем'`.**\n",
    "\n",
    "**Используйте собственную функцию с именем `categorize_purpose()` и метод `apply()`. Изучите данные в столбце `purpose` и определите, какие подстроки помогут вам правильно определить категорию.**"
   ]
  },
  {
   "cell_type": "code",
   "execution_count": 20,
   "id": "c7a8137c",
   "metadata": {
    "deletable": false,
    "id": "e149fab4"
   },
   "outputs": [],
   "source": [
    "def categorize_purpose(row):\n",
    "    try:\n",
    "        if 'автом' in row:\n",
    "            return 'операции с автомобилем'\n",
    "        elif 'жил' in row or 'недвиж' in row:\n",
    "            return 'операции с недвижимостью'\n",
    "        elif 'свад' in row:\n",
    "            return 'проведение свадьбы'\n",
    "        elif 'образов' in row:\n",
    "            return 'получение образования'\n",
    "    except:\n",
    "        return 'нет категории'"
   ]
  },
  {
   "cell_type": "code",
   "execution_count": 21,
   "id": "bc7180a7",
   "metadata": {
    "deletable": false,
    "id": "bf36e69b"
   },
   "outputs": [],
   "source": [
    "data['purpose_category'] = data['purpose'].apply(categorize_purpose)"
   ]
  },
  {
   "cell_type": "markdown",
   "id": "24075d23",
   "metadata": {
    "deletable": false,
    "editable": false,
    "id": "09b242bf"
   },
   "source": [
    "### Шаг 3. Исследуйте данные и ответьте на вопросы"
   ]
  },
  {
   "cell_type": "markdown",
   "id": "384c444d",
   "metadata": {
    "deletable": false,
    "editable": false,
    "id": "c5d66278"
   },
   "source": [
    "#### 3.1 Есть ли зависимость между количеством детей и возвратом кредита в срок?"
   ]
  },
  {
   "cell_type": "code",
   "execution_count": 22,
   "id": "8ac87f4d",
   "metadata": {
    "deletable": false,
    "id": "2cacfc4a",
    "scrolled": true
   },
   "outputs": [
    {
     "data": {
      "text/html": [
       "<div>\n",
       "<style scoped>\n",
       "    .dataframe tbody tr th:only-of-type {\n",
       "        vertical-align: middle;\n",
       "    }\n",
       "\n",
       "    .dataframe tbody tr th {\n",
       "        vertical-align: top;\n",
       "    }\n",
       "\n",
       "    .dataframe thead th {\n",
       "        text-align: right;\n",
       "    }\n",
       "</style>\n",
       "<table border=\"1\" class=\"dataframe\">\n",
       "  <thead>\n",
       "    <tr style=\"text-align: right;\">\n",
       "      <th></th>\n",
       "      <th>children</th>\n",
       "      <th>days_employed</th>\n",
       "      <th>dob_years</th>\n",
       "      <th>education</th>\n",
       "      <th>education_id</th>\n",
       "      <th>family_status</th>\n",
       "      <th>family_status_id</th>\n",
       "      <th>gender</th>\n",
       "      <th>income_type</th>\n",
       "      <th>debt</th>\n",
       "      <th>total_income</th>\n",
       "      <th>purpose</th>\n",
       "      <th>total_income_category</th>\n",
       "      <th>purpose_category</th>\n",
       "    </tr>\n",
       "  </thead>\n",
       "  <tbody>\n",
       "    <tr>\n",
       "      <th>14</th>\n",
       "      <td>0</td>\n",
       "      <td>1844.956182</td>\n",
       "      <td>56</td>\n",
       "      <td>высшее</td>\n",
       "      <td>0</td>\n",
       "      <td>гражданский брак</td>\n",
       "      <td>1</td>\n",
       "      <td>F</td>\n",
       "      <td>компаньон</td>\n",
       "      <td>1</td>\n",
       "      <td>165127</td>\n",
       "      <td>покупка жилой недвижимости</td>\n",
       "      <td>C</td>\n",
       "      <td>операции с недвижимостью</td>\n",
       "    </tr>\n",
       "    <tr>\n",
       "      <th>32</th>\n",
       "      <td>0</td>\n",
       "      <td>4649.910832</td>\n",
       "      <td>34</td>\n",
       "      <td>среднее</td>\n",
       "      <td>1</td>\n",
       "      <td>гражданский брак</td>\n",
       "      <td>1</td>\n",
       "      <td>F</td>\n",
       "      <td>сотрудник</td>\n",
       "      <td>1</td>\n",
       "      <td>139057</td>\n",
       "      <td>на проведение свадьбы</td>\n",
       "      <td>C</td>\n",
       "      <td>проведение свадьбы</td>\n",
       "    </tr>\n",
       "    <tr>\n",
       "      <th>38</th>\n",
       "      <td>0</td>\n",
       "      <td>597.881827</td>\n",
       "      <td>25</td>\n",
       "      <td>высшее</td>\n",
       "      <td>0</td>\n",
       "      <td>Не женат / не замужем</td>\n",
       "      <td>4</td>\n",
       "      <td>M</td>\n",
       "      <td>сотрудник</td>\n",
       "      <td>1</td>\n",
       "      <td>192247</td>\n",
       "      <td>образование</td>\n",
       "      <td>C</td>\n",
       "      <td>получение образования</td>\n",
       "    </tr>\n",
       "    <tr>\n",
       "      <th>55</th>\n",
       "      <td>0</td>\n",
       "      <td>365286.622650</td>\n",
       "      <td>54</td>\n",
       "      <td>среднее</td>\n",
       "      <td>1</td>\n",
       "      <td>гражданский брак</td>\n",
       "      <td>1</td>\n",
       "      <td>F</td>\n",
       "      <td>пенсионер</td>\n",
       "      <td>1</td>\n",
       "      <td>118514</td>\n",
       "      <td>сыграть свадьбу</td>\n",
       "      <td>C</td>\n",
       "      <td>проведение свадьбы</td>\n",
       "    </tr>\n",
       "    <tr>\n",
       "      <th>75</th>\n",
       "      <td>1</td>\n",
       "      <td>2953.151948</td>\n",
       "      <td>38</td>\n",
       "      <td>среднее</td>\n",
       "      <td>1</td>\n",
       "      <td>женат / замужем</td>\n",
       "      <td>0</td>\n",
       "      <td>M</td>\n",
       "      <td>сотрудник</td>\n",
       "      <td>1</td>\n",
       "      <td>81935</td>\n",
       "      <td>операции с недвижимостью</td>\n",
       "      <td>C</td>\n",
       "      <td>операции с недвижимостью</td>\n",
       "    </tr>\n",
       "  </tbody>\n",
       "</table>\n",
       "</div>"
      ],
      "text/plain": [
       "    children  days_employed  dob_years education  education_id  \\\n",
       "14         0    1844.956182         56    высшее             0   \n",
       "32         0    4649.910832         34   среднее             1   \n",
       "38         0     597.881827         25    высшее             0   \n",
       "55         0  365286.622650         54   среднее             1   \n",
       "75         1    2953.151948         38   среднее             1   \n",
       "\n",
       "            family_status  family_status_id gender income_type  debt  \\\n",
       "14       гражданский брак                 1      F   компаньон     1   \n",
       "32       гражданский брак                 1      F   сотрудник     1   \n",
       "38  Не женат / не замужем                 4      M   сотрудник     1   \n",
       "55       гражданский брак                 1      F   пенсионер     1   \n",
       "75        женат / замужем                 0      M   сотрудник     1   \n",
       "\n",
       "    total_income                     purpose total_income_category  \\\n",
       "14        165127  покупка жилой недвижимости                     C   \n",
       "32        139057       на проведение свадьбы                     C   \n",
       "38        192247                 образование                     C   \n",
       "55        118514             сыграть свадьбу                     C   \n",
       "75         81935    операции с недвижимостью                     C   \n",
       "\n",
       "            purpose_category  \n",
       "14  операции с недвижимостью  \n",
       "32        проведение свадьбы  \n",
       "38     получение образования  \n",
       "55        проведение свадьбы  \n",
       "75  операции с недвижимостью  "
      ]
     },
     "metadata": {},
     "output_type": "display_data"
    },
    {
     "data": {
      "text/html": [
       "<div>\n",
       "<style scoped>\n",
       "    .dataframe tbody tr th:only-of-type {\n",
       "        vertical-align: middle;\n",
       "    }\n",
       "\n",
       "    .dataframe tbody tr th {\n",
       "        vertical-align: top;\n",
       "    }\n",
       "\n",
       "    .dataframe thead th {\n",
       "        text-align: right;\n",
       "    }\n",
       "</style>\n",
       "<table border=\"1\" class=\"dataframe\">\n",
       "  <thead>\n",
       "    <tr style=\"text-align: right;\">\n",
       "      <th></th>\n",
       "      <th>children</th>\n",
       "      <th>days_employed</th>\n",
       "      <th>dob_years</th>\n",
       "      <th>education</th>\n",
       "      <th>education_id</th>\n",
       "      <th>family_status</th>\n",
       "      <th>family_status_id</th>\n",
       "      <th>gender</th>\n",
       "      <th>income_type</th>\n",
       "      <th>debt</th>\n",
       "      <th>total_income</th>\n",
       "      <th>purpose</th>\n",
       "      <th>total_income_category</th>\n",
       "      <th>purpose_category</th>\n",
       "    </tr>\n",
       "  </thead>\n",
       "  <tbody>\n",
       "    <tr>\n",
       "      <th>0</th>\n",
       "      <td>1</td>\n",
       "      <td>8437.673028</td>\n",
       "      <td>42</td>\n",
       "      <td>высшее</td>\n",
       "      <td>0</td>\n",
       "      <td>женат / замужем</td>\n",
       "      <td>0</td>\n",
       "      <td>F</td>\n",
       "      <td>сотрудник</td>\n",
       "      <td>0</td>\n",
       "      <td>253875</td>\n",
       "      <td>покупка жилья</td>\n",
       "      <td>B</td>\n",
       "      <td>операции с недвижимостью</td>\n",
       "    </tr>\n",
       "    <tr>\n",
       "      <th>1</th>\n",
       "      <td>1</td>\n",
       "      <td>4024.803754</td>\n",
       "      <td>36</td>\n",
       "      <td>среднее</td>\n",
       "      <td>1</td>\n",
       "      <td>женат / замужем</td>\n",
       "      <td>0</td>\n",
       "      <td>F</td>\n",
       "      <td>сотрудник</td>\n",
       "      <td>0</td>\n",
       "      <td>112080</td>\n",
       "      <td>приобретение автомобиля</td>\n",
       "      <td>C</td>\n",
       "      <td>операции с автомобилем</td>\n",
       "    </tr>\n",
       "    <tr>\n",
       "      <th>2</th>\n",
       "      <td>0</td>\n",
       "      <td>5623.422610</td>\n",
       "      <td>33</td>\n",
       "      <td>среднее</td>\n",
       "      <td>1</td>\n",
       "      <td>женат / замужем</td>\n",
       "      <td>0</td>\n",
       "      <td>M</td>\n",
       "      <td>сотрудник</td>\n",
       "      <td>0</td>\n",
       "      <td>145885</td>\n",
       "      <td>покупка жилья</td>\n",
       "      <td>C</td>\n",
       "      <td>операции с недвижимостью</td>\n",
       "    </tr>\n",
       "    <tr>\n",
       "      <th>3</th>\n",
       "      <td>3</td>\n",
       "      <td>4124.747207</td>\n",
       "      <td>32</td>\n",
       "      <td>среднее</td>\n",
       "      <td>1</td>\n",
       "      <td>женат / замужем</td>\n",
       "      <td>0</td>\n",
       "      <td>M</td>\n",
       "      <td>сотрудник</td>\n",
       "      <td>0</td>\n",
       "      <td>267628</td>\n",
       "      <td>дополнительное образование</td>\n",
       "      <td>B</td>\n",
       "      <td>получение образования</td>\n",
       "    </tr>\n",
       "    <tr>\n",
       "      <th>4</th>\n",
       "      <td>0</td>\n",
       "      <td>340266.072047</td>\n",
       "      <td>53</td>\n",
       "      <td>среднее</td>\n",
       "      <td>1</td>\n",
       "      <td>гражданский брак</td>\n",
       "      <td>1</td>\n",
       "      <td>F</td>\n",
       "      <td>пенсионер</td>\n",
       "      <td>0</td>\n",
       "      <td>158616</td>\n",
       "      <td>сыграть свадьбу</td>\n",
       "      <td>C</td>\n",
       "      <td>проведение свадьбы</td>\n",
       "    </tr>\n",
       "  </tbody>\n",
       "</table>\n",
       "</div>"
      ],
      "text/plain": [
       "   children  days_employed  dob_years education  education_id  \\\n",
       "0         1    8437.673028         42    высшее             0   \n",
       "1         1    4024.803754         36   среднее             1   \n",
       "2         0    5623.422610         33   среднее             1   \n",
       "3         3    4124.747207         32   среднее             1   \n",
       "4         0  340266.072047         53   среднее             1   \n",
       "\n",
       "      family_status  family_status_id gender income_type  debt  total_income  \\\n",
       "0   женат / замужем                 0      F   сотрудник     0        253875   \n",
       "1   женат / замужем                 0      F   сотрудник     0        112080   \n",
       "2   женат / замужем                 0      M   сотрудник     0        145885   \n",
       "3   женат / замужем                 0      M   сотрудник     0        267628   \n",
       "4  гражданский брак                 1      F   пенсионер     0        158616   \n",
       "\n",
       "                      purpose total_income_category          purpose_category  \n",
       "0               покупка жилья                     B  операции с недвижимостью  \n",
       "1     приобретение автомобиля                     C    операции с автомобилем  \n",
       "2               покупка жилья                     C  операции с недвижимостью  \n",
       "3  дополнительное образование                     B     получение образования  \n",
       "4             сыграть свадьбу                     C        проведение свадьбы  "
      ]
     },
     "metadata": {},
     "output_type": "display_data"
    }
   ],
   "source": [
    "# Разделим весь список на должников и не должников\n",
    "data_debt = data[data['debt']==1]\n",
    "data_no_debt = data[data['debt']==0]\n",
    "display(data_debt.head(5))\n",
    "display(data_no_debt.head(5))\n"
   ]
  },
  {
   "cell_type": "code",
   "execution_count": 23,
   "id": "ea7afa89",
   "metadata": {},
   "outputs": [
    {
     "data": {
      "text/plain": [
       "children\n",
       "0    13028\n",
       "1     4364\n",
       "2     1858\n",
       "3      303\n",
       "4       37\n",
       "5        9\n",
       "Name: debt, dtype: int64"
      ]
     },
     "metadata": {},
     "output_type": "display_data"
    },
    {
     "data": {
      "text/plain": [
       "children\n",
       "0    1063\n",
       "1     444\n",
       "2     194\n",
       "3      27\n",
       "4       4\n",
       "Name: debt, dtype: int64"
      ]
     },
     "metadata": {},
     "output_type": "display_data"
    }
   ],
   "source": [
    "\n",
    "# Сгруппируем эти два списка по количеству детей \n",
    "display(data_no_debt.groupby('children')['debt'].count()) #группировка клиентов без долга по категориям\n",
    "display(data_debt.groupby('children')['debt'].count()) #группировка должников по категориям"
   ]
  },
  {
   "cell_type": "code",
   "execution_count": 24,
   "id": "be8e1334",
   "metadata": {},
   "outputs": [
    {
     "data": {
      "text/plain": [
       "children\n",
       "0    12.255880\n",
       "1     9.828829\n",
       "2     9.577320\n",
       "3    11.222222\n",
       "4     9.250000\n",
       "5          NaN\n",
       "Name: debt, dtype: float64"
      ]
     },
     "metadata": {},
     "output_type": "display_data"
    }
   ],
   "source": [
    "# найдем отношение 'должников' и 'не должников' в зависимости от количества детей\n",
    "data_relation_debt_to_no_debt = data_no_debt.groupby('children')['debt'].count()/data_debt.groupby('children')['debt'].count()\n",
    "display(data_relation_debt_to_no_debt)"
   ]
  },
  {
   "cell_type": "code",
   "execution_count": 25,
   "id": "be0e39dd",
   "metadata": {},
   "outputs": [
    {
     "data": {
      "text/plain": [
       "0    14091\n",
       "1     4808\n",
       "2     2052\n",
       "3      330\n",
       "4       41\n",
       "5        9\n",
       "Name: children, dtype: int64"
      ]
     },
     "execution_count": 25,
     "metadata": {},
     "output_type": "execute_result"
    }
   ],
   "source": [
    "# посмотрим как зависит спрос на кредит от количества детей\n",
    "data['children'].value_counts()"
   ]
  },
  {
   "cell_type": "code",
   "execution_count": 26,
   "id": "1e291b5c",
   "metadata": {},
   "outputs": [
    {
     "data": {
      "text/plain": [
       "F      14092\n",
       "M       7238\n",
       "XNA        1\n",
       "Name: gender, dtype: int64"
      ]
     },
     "execution_count": 26,
     "metadata": {},
     "output_type": "execute_result"
    }
   ],
   "source": [
    "#измерним количество мужчин, женщин и 'XNA' среди клиентов\n",
    "data['gender'].unique()\n",
    "data['gender'].value_counts()"
   ]
  },
  {
   "cell_type": "markdown",
   "id": "9cf2245e",
   "metadata": {},
   "source": [
    "*среди клиентов банка в 2 раза больще женщин чем мужчин*"
   ]
  },
  {
   "cell_type": "code",
   "execution_count": 27,
   "id": "97d8121b",
   "metadata": {
    "scrolled": true
   },
   "outputs": [
    {
     "data": {
      "text/plain": [
       "0    4099\n",
       "1    1524\n",
       "2     736\n",
       "3     124\n",
       "4      10\n",
       "5       2\n",
       "Name: children, dtype: int64"
      ]
     },
     "metadata": {},
     "output_type": "display_data"
    },
    {
     "data": {
      "text/plain": [
       "0    8928\n",
       "1    2840\n",
       "2    1122\n",
       "3     179\n",
       "4      27\n",
       "5       7\n",
       "Name: children, dtype: int64"
      ]
     },
     "metadata": {},
     "output_type": "display_data"
    },
    {
     "data": {
      "text/plain": [
       "0    1\n",
       "Name: children, dtype: int64"
      ]
     },
     "metadata": {},
     "output_type": "display_data"
    }
   ],
   "source": [
    "# оценим гендерную принадлежность клиентов без долга, в зависимости от количества детей\n",
    "data_no_debt_male = data_no_debt[data_no_debt['gender'] == 'M' ] \n",
    "display(data_no_debt_male['children'].value_counts())\n",
    "data_no_debt_female = data_no_debt[data_no_debt['gender'] == 'F' ] \n",
    "display(data_no_debt_female['children'].value_counts())\n",
    "data_no_debt_xna = data_no_debt[data_no_debt['gender'] == 'XNA' ] \n",
    "display(data_no_debt_xna['children'].value_counts())"
   ]
  },
  {
   "cell_type": "code",
   "execution_count": 28,
   "id": "acdbb567",
   "metadata": {
    "scrolled": true
   },
   "outputs": [
    {
     "data": {
      "text/html": [
       "<div>\n",
       "<style scoped>\n",
       "    .dataframe tbody tr th:only-of-type {\n",
       "        vertical-align: middle;\n",
       "    }\n",
       "\n",
       "    .dataframe tbody tr th {\n",
       "        vertical-align: top;\n",
       "    }\n",
       "\n",
       "    .dataframe thead th {\n",
       "        text-align: right;\n",
       "    }\n",
       "</style>\n",
       "<table border=\"1\" class=\"dataframe\">\n",
       "  <thead>\n",
       "    <tr style=\"text-align: right;\">\n",
       "      <th>children</th>\n",
       "      <th>0</th>\n",
       "      <th>1</th>\n",
       "      <th>2</th>\n",
       "      <th>3</th>\n",
       "      <th>4</th>\n",
       "      <th>5</th>\n",
       "    </tr>\n",
       "    <tr>\n",
       "      <th>gender</th>\n",
       "      <th></th>\n",
       "      <th></th>\n",
       "      <th></th>\n",
       "      <th></th>\n",
       "      <th></th>\n",
       "      <th></th>\n",
       "    </tr>\n",
       "  </thead>\n",
       "  <tbody>\n",
       "    <tr>\n",
       "      <th>F</th>\n",
       "      <td>8928.0</td>\n",
       "      <td>2840.0</td>\n",
       "      <td>1122.0</td>\n",
       "      <td>179.0</td>\n",
       "      <td>27.0</td>\n",
       "      <td>7.0</td>\n",
       "    </tr>\n",
       "    <tr>\n",
       "      <th>M</th>\n",
       "      <td>4099.0</td>\n",
       "      <td>1524.0</td>\n",
       "      <td>736.0</td>\n",
       "      <td>124.0</td>\n",
       "      <td>10.0</td>\n",
       "      <td>2.0</td>\n",
       "    </tr>\n",
       "    <tr>\n",
       "      <th>XNA</th>\n",
       "      <td>1.0</td>\n",
       "      <td>NaN</td>\n",
       "      <td>NaN</td>\n",
       "      <td>NaN</td>\n",
       "      <td>NaN</td>\n",
       "      <td>NaN</td>\n",
       "    </tr>\n",
       "  </tbody>\n",
       "</table>\n",
       "</div>"
      ],
      "text/plain": [
       "children       0       1       2      3     4    5\n",
       "gender                                            \n",
       "F         8928.0  2840.0  1122.0  179.0  27.0  7.0\n",
       "M         4099.0  1524.0   736.0  124.0  10.0  2.0\n",
       "XNA          1.0     NaN     NaN    NaN   NaN  NaN"
      ]
     },
     "metadata": {},
     "output_type": "display_data"
    }
   ],
   "source": [
    "# для наглядности используем сводную таблицу\n",
    "data_no_debt_pivot = data_no_debt.pivot_table(index = 'gender',columns = 'children', values = 'debt', aggfunc = 'count' )\n",
    "display(data_no_debt_pivot)"
   ]
  },
  {
   "cell_type": "code",
   "execution_count": 29,
   "id": "45f4676a",
   "metadata": {
    "scrolled": true
   },
   "outputs": [
    {
     "data": {
      "text/plain": [
       "0    471\n",
       "1    199\n",
       "2     60\n",
       "3     10\n",
       "4      3\n",
       "Name: children, dtype: int64"
      ]
     },
     "metadata": {},
     "output_type": "display_data"
    },
    {
     "data": {
      "text/plain": [
       "0    592\n",
       "1    245\n",
       "2    134\n",
       "3     17\n",
       "4      1\n",
       "Name: children, dtype: int64"
      ]
     },
     "metadata": {},
     "output_type": "display_data"
    },
    {
     "data": {
      "text/plain": [
       "Series([], Name: children, dtype: int64)"
      ]
     },
     "metadata": {},
     "output_type": "display_data"
    }
   ],
   "source": [
    "\n",
    "# оценим гендерную принадлежность клиентов с долгом, в зависимости от количества детей\n",
    "data_debt_male = data_debt[data_debt['gender'] == 'M' ] \n",
    "display(data_debt_male['children'].value_counts())\n",
    "data_debt_female = data_debt[data_debt['gender'] == 'F' ] \n",
    "display(data_debt_female['children'].value_counts())\n",
    "data_debt_xna = data_debt[data_debt['gender'] == 'XNA' ] \n",
    "display(data_debt_xna['children'].value_counts())"
   ]
  },
  {
   "cell_type": "markdown",
   "id": "95836b81",
   "metadata": {},
   "source": [
    "*гендером \"XNA\" принебрежем, в виду его малого присутствия в выборке*\n"
   ]
  },
  {
   "cell_type": "code",
   "execution_count": 30,
   "id": "9cdf6123",
   "metadata": {},
   "outputs": [
    {
     "data": {
      "text/html": [
       "<div>\n",
       "<style scoped>\n",
       "    .dataframe tbody tr th:only-of-type {\n",
       "        vertical-align: middle;\n",
       "    }\n",
       "\n",
       "    .dataframe tbody tr th {\n",
       "        vertical-align: top;\n",
       "    }\n",
       "\n",
       "    .dataframe thead th {\n",
       "        text-align: right;\n",
       "    }\n",
       "</style>\n",
       "<table border=\"1\" class=\"dataframe\">\n",
       "  <thead>\n",
       "    <tr style=\"text-align: right;\">\n",
       "      <th>children</th>\n",
       "      <th>0</th>\n",
       "      <th>1</th>\n",
       "      <th>2</th>\n",
       "      <th>3</th>\n",
       "      <th>4</th>\n",
       "    </tr>\n",
       "    <tr>\n",
       "      <th>gender</th>\n",
       "      <th></th>\n",
       "      <th></th>\n",
       "      <th></th>\n",
       "      <th></th>\n",
       "      <th></th>\n",
       "    </tr>\n",
       "  </thead>\n",
       "  <tbody>\n",
       "    <tr>\n",
       "      <th>F</th>\n",
       "      <td>592</td>\n",
       "      <td>245</td>\n",
       "      <td>134</td>\n",
       "      <td>17</td>\n",
       "      <td>1</td>\n",
       "    </tr>\n",
       "    <tr>\n",
       "      <th>M</th>\n",
       "      <td>471</td>\n",
       "      <td>199</td>\n",
       "      <td>60</td>\n",
       "      <td>10</td>\n",
       "      <td>3</td>\n",
       "    </tr>\n",
       "  </tbody>\n",
       "</table>\n",
       "</div>"
      ],
      "text/plain": [
       "children    0    1    2   3  4\n",
       "gender                        \n",
       "F         592  245  134  17  1\n",
       "M         471  199   60  10  3"
      ]
     },
     "metadata": {},
     "output_type": "display_data"
    }
   ],
   "source": [
    "\n",
    "data_debt_pivot = data_debt.pivot_table(index = 'gender',columns = 'children', values = 'debt', aggfunc = 'count' )\n",
    "display(data_debt_pivot)"
   ]
  },
  {
   "cell_type": "code",
   "execution_count": 31,
   "id": "004c3906",
   "metadata": {},
   "outputs": [
    {
     "data": {
      "text/html": [
       "<div>\n",
       "<style scoped>\n",
       "    .dataframe tbody tr th:only-of-type {\n",
       "        vertical-align: middle;\n",
       "    }\n",
       "\n",
       "    .dataframe tbody tr th {\n",
       "        vertical-align: top;\n",
       "    }\n",
       "\n",
       "    .dataframe thead th {\n",
       "        text-align: right;\n",
       "    }\n",
       "</style>\n",
       "<table border=\"1\" class=\"dataframe\">\n",
       "  <thead>\n",
       "    <tr style=\"text-align: right;\">\n",
       "      <th>debt</th>\n",
       "      <th>0</th>\n",
       "      <th>1</th>\n",
       "      <th>|</th>\n",
       "      <th>all_clients</th>\n",
       "      <th>percent_of_category</th>\n",
       "      <th>relation_debt_to_no_debt</th>\n",
       "      <th>percent_of_debt</th>\n",
       "    </tr>\n",
       "    <tr>\n",
       "      <th>children</th>\n",
       "      <th></th>\n",
       "      <th></th>\n",
       "      <th></th>\n",
       "      <th></th>\n",
       "      <th></th>\n",
       "      <th></th>\n",
       "      <th></th>\n",
       "    </tr>\n",
       "  </thead>\n",
       "  <tbody>\n",
       "    <tr>\n",
       "      <th>0</th>\n",
       "      <td>13028.0</td>\n",
       "      <td>1063.0</td>\n",
       "      <td>|</td>\n",
       "      <td>14091</td>\n",
       "      <td>66.058788</td>\n",
       "      <td>8.159349</td>\n",
       "      <td>7.543822</td>\n",
       "    </tr>\n",
       "    <tr>\n",
       "      <th>1</th>\n",
       "      <td>4364.0</td>\n",
       "      <td>444.0</td>\n",
       "      <td>|</td>\n",
       "      <td>4808</td>\n",
       "      <td>22.539965</td>\n",
       "      <td>10.174152</td>\n",
       "      <td>9.234609</td>\n",
       "    </tr>\n",
       "    <tr>\n",
       "      <th>2</th>\n",
       "      <td>1858.0</td>\n",
       "      <td>194.0</td>\n",
       "      <td>|</td>\n",
       "      <td>2052</td>\n",
       "      <td>9.619802</td>\n",
       "      <td>10.441335</td>\n",
       "      <td>9.454191</td>\n",
       "    </tr>\n",
       "    <tr>\n",
       "      <th>3</th>\n",
       "      <td>303.0</td>\n",
       "      <td>27.0</td>\n",
       "      <td>|</td>\n",
       "      <td>330</td>\n",
       "      <td>1.547044</td>\n",
       "      <td>8.910891</td>\n",
       "      <td>8.181818</td>\n",
       "    </tr>\n",
       "    <tr>\n",
       "      <th>4</th>\n",
       "      <td>37.0</td>\n",
       "      <td>4.0</td>\n",
       "      <td>|</td>\n",
       "      <td>41</td>\n",
       "      <td>0.192209</td>\n",
       "      <td>10.810811</td>\n",
       "      <td>9.756098</td>\n",
       "    </tr>\n",
       "    <tr>\n",
       "      <th>5</th>\n",
       "      <td>9.0</td>\n",
       "      <td>NaN</td>\n",
       "      <td>|</td>\n",
       "      <td>9</td>\n",
       "      <td>0.042192</td>\n",
       "      <td>NaN</td>\n",
       "      <td>NaN</td>\n",
       "    </tr>\n",
       "  </tbody>\n",
       "</table>\n",
       "</div>"
      ],
      "text/plain": [
       "debt            0       1  |  all_clients  percent_of_category  \\\n",
       "children                                                         \n",
       "0         13028.0  1063.0  |        14091            66.058788   \n",
       "1          4364.0   444.0  |         4808            22.539965   \n",
       "2          1858.0   194.0  |         2052             9.619802   \n",
       "3           303.0    27.0  |          330             1.547044   \n",
       "4            37.0     4.0  |           41             0.192209   \n",
       "5             9.0     NaN  |            9             0.042192   \n",
       "\n",
       "debt      relation_debt_to_no_debt  percent_of_debt  \n",
       "children                                             \n",
       "0                         8.159349         7.543822  \n",
       "1                        10.174152         9.234609  \n",
       "2                        10.441335         9.454191  \n",
       "3                         8.910891         8.181818  \n",
       "4                        10.810811         9.756098  \n",
       "5                              NaN              NaN  "
      ]
     },
     "metadata": {},
     "output_type": "display_data"
    }
   ],
   "source": [
    "# оценим долю должников по категриям клиентов банка\n",
    "\n",
    "# для начала отметим сколько клиентов в кадждой категории и сколько клиентов должников, создадим сводную таблицу \n",
    "data_cat_children = data.pivot_table(index = 'children', columns= 'debt' ,values = 'days_employed', aggfunc = 'count' )\n",
    "\n",
    "data_cat_children['|'] = '|' # разделим часть таблицы которая группировала катеогории по статусу задолженности\n",
    "\n",
    "# добавим столбец с количеством клиентов каждой категории\n",
    "data_cat_children['all_clients'] = data['children'].value_counts()\n",
    "\n",
    "# добавим столбец с процентом клиентов в каждой категории от общего числа клиентов банка\n",
    "data_cat_children['percent_of_category'] = data.groupby('children')['debt'].count()/data['debt'].count()*100\n",
    "\n",
    "# добавим столбец в котором показано отношение 'должников' и 'не должников' в зависимости от количества детей в процентах\n",
    "data_cat_children['relation_debt_to_no_debt'] = data_debt.groupby('children')['debt'].count()/data_no_debt.groupby('children')['debt'].count()*100\n",
    "\n",
    "# считаем долю должников от общего числа клиентов по категориям  в проценте\n",
    "data_cat_children['percent_of_debt'] = data_debt.groupby('children')['debt'].count()/data.groupby('children')['debt'].count()*100 \n",
    "\n",
    "display(data_cat_children)\n"
   ]
  },
  {
   "cell_type": "code",
   "execution_count": 32,
   "id": "87a908a2",
   "metadata": {},
   "outputs": [
    {
     "data": {
      "text/html": [
       "<div>\n",
       "<style scoped>\n",
       "    .dataframe tbody tr th:only-of-type {\n",
       "        vertical-align: middle;\n",
       "    }\n",
       "\n",
       "    .dataframe tbody tr th {\n",
       "        vertical-align: top;\n",
       "    }\n",
       "\n",
       "    .dataframe thead th {\n",
       "        text-align: right;\n",
       "    }\n",
       "</style>\n",
       "<table border=\"1\" class=\"dataframe\">\n",
       "  <thead>\n",
       "    <tr style=\"text-align: right;\">\n",
       "      <th></th>\n",
       "      <th>count</th>\n",
       "      <th>sum</th>\n",
       "      <th>mean</th>\n",
       "    </tr>\n",
       "    <tr>\n",
       "      <th>children</th>\n",
       "      <th></th>\n",
       "      <th></th>\n",
       "      <th></th>\n",
       "    </tr>\n",
       "  </thead>\n",
       "  <tbody>\n",
       "    <tr>\n",
       "      <th>0</th>\n",
       "      <td>14091</td>\n",
       "      <td>1063</td>\n",
       "      <td>0.075438</td>\n",
       "    </tr>\n",
       "    <tr>\n",
       "      <th>1</th>\n",
       "      <td>4808</td>\n",
       "      <td>444</td>\n",
       "      <td>0.092346</td>\n",
       "    </tr>\n",
       "    <tr>\n",
       "      <th>2</th>\n",
       "      <td>2052</td>\n",
       "      <td>194</td>\n",
       "      <td>0.094542</td>\n",
       "    </tr>\n",
       "    <tr>\n",
       "      <th>3</th>\n",
       "      <td>330</td>\n",
       "      <td>27</td>\n",
       "      <td>0.081818</td>\n",
       "    </tr>\n",
       "    <tr>\n",
       "      <th>4</th>\n",
       "      <td>41</td>\n",
       "      <td>4</td>\n",
       "      <td>0.097561</td>\n",
       "    </tr>\n",
       "    <tr>\n",
       "      <th>5</th>\n",
       "      <td>9</td>\n",
       "      <td>0</td>\n",
       "      <td>0.000000</td>\n",
       "    </tr>\n",
       "  </tbody>\n",
       "</table>\n",
       "</div>"
      ],
      "text/plain": [
       "          count   sum      mean\n",
       "children                       \n",
       "0         14091  1063  0.075438\n",
       "1          4808   444  0.092346\n",
       "2          2052   194  0.094542\n",
       "3           330    27  0.081818\n",
       "4            41     4  0.097561\n",
       "5             9     0  0.000000"
      ]
     },
     "execution_count": 32,
     "metadata": {},
     "output_type": "execute_result"
    }
   ],
   "source": [
    "# КОД РЕВЬЮЕРА 2\n",
    "\n",
    "data.groupby('children')['debt'].agg(['count','sum','mean'])"
   ]
  },
  {
   "cell_type": "code",
   "execution_count": 47,
   "id": "7620b3c6",
   "metadata": {},
   "outputs": [
    {
     "data": {
      "text/html": [
       "<div>\n",
       "<style scoped>\n",
       "    .dataframe tbody tr th:only-of-type {\n",
       "        vertical-align: middle;\n",
       "    }\n",
       "\n",
       "    .dataframe tbody tr th {\n",
       "        vertical-align: top;\n",
       "    }\n",
       "\n",
       "    .dataframe thead th {\n",
       "        text-align: right;\n",
       "    }\n",
       "</style>\n",
       "<table border=\"1\" class=\"dataframe\">\n",
       "  <thead>\n",
       "    <tr style=\"text-align: right;\">\n",
       "      <th></th>\n",
       "      <th>count</th>\n",
       "      <th>sum</th>\n",
       "      <th>my_mean</th>\n",
       "    </tr>\n",
       "    <tr>\n",
       "      <th>children</th>\n",
       "      <th></th>\n",
       "      <th></th>\n",
       "      <th></th>\n",
       "    </tr>\n",
       "  </thead>\n",
       "  <tbody>\n",
       "    <tr>\n",
       "      <th>0</th>\n",
       "      <td>14091</td>\n",
       "      <td>1063</td>\n",
       "      <td>7.543822</td>\n",
       "    </tr>\n",
       "    <tr>\n",
       "      <th>1</th>\n",
       "      <td>4808</td>\n",
       "      <td>444</td>\n",
       "      <td>9.234609</td>\n",
       "    </tr>\n",
       "    <tr>\n",
       "      <th>2</th>\n",
       "      <td>2052</td>\n",
       "      <td>194</td>\n",
       "      <td>9.454191</td>\n",
       "    </tr>\n",
       "    <tr>\n",
       "      <th>3</th>\n",
       "      <td>330</td>\n",
       "      <td>27</td>\n",
       "      <td>8.181818</td>\n",
       "    </tr>\n",
       "    <tr>\n",
       "      <th>4</th>\n",
       "      <td>41</td>\n",
       "      <td>4</td>\n",
       "      <td>9.756098</td>\n",
       "    </tr>\n",
       "    <tr>\n",
       "      <th>5</th>\n",
       "      <td>9</td>\n",
       "      <td>0</td>\n",
       "      <td>0.000000</td>\n",
       "    </tr>\n",
       "  </tbody>\n",
       "</table>\n",
       "</div>"
      ],
      "text/plain": [
       "          count   sum   my_mean\n",
       "children                       \n",
       "0         14091  1063  7.543822\n",
       "1          4808   444  9.234609\n",
       "2          2052   194  9.454191\n",
       "3           330    27  8.181818\n",
       "4            41     4  9.756098\n",
       "5             9     0  0.000000"
      ]
     },
     "execution_count": 47,
     "metadata": {},
     "output_type": "execute_result"
    }
   ],
   "source": [
    "\n",
    "def my_mean(x): return x.mean()*100\n",
    "\n",
    "# В кач-ве агрегирования можно любую функцию брать.\n",
    "data.groupby('children')['debt'].agg(['count', 'sum', my_mean])"
   ]
  },
  {
   "cell_type": "code",
   "execution_count": 48,
   "id": "edc8a79b",
   "metadata": {},
   "outputs": [
    {
     "data": {
      "text/html": [
       "<div>\n",
       "<style scoped>\n",
       "    .dataframe tbody tr th:only-of-type {\n",
       "        vertical-align: middle;\n",
       "    }\n",
       "\n",
       "    .dataframe tbody tr th {\n",
       "        vertical-align: top;\n",
       "    }\n",
       "\n",
       "    .dataframe thead th {\n",
       "        text-align: right;\n",
       "    }\n",
       "</style>\n",
       "<table border=\"1\" class=\"dataframe\">\n",
       "  <thead>\n",
       "    <tr style=\"text-align: right;\">\n",
       "      <th></th>\n",
       "      <th>count</th>\n",
       "      <th>sum</th>\n",
       "      <th>my_mean</th>\n",
       "    </tr>\n",
       "    <tr>\n",
       "      <th>children</th>\n",
       "      <th></th>\n",
       "      <th></th>\n",
       "      <th></th>\n",
       "    </tr>\n",
       "  </thead>\n",
       "  <tbody>\n",
       "    <tr>\n",
       "      <th>0</th>\n",
       "      <td>14091</td>\n",
       "      <td>1063</td>\n",
       "      <td>7.54%</td>\n",
       "    </tr>\n",
       "    <tr>\n",
       "      <th>1</th>\n",
       "      <td>4808</td>\n",
       "      <td>444</td>\n",
       "      <td>9.23%</td>\n",
       "    </tr>\n",
       "    <tr>\n",
       "      <th>2</th>\n",
       "      <td>2052</td>\n",
       "      <td>194</td>\n",
       "      <td>9.45%</td>\n",
       "    </tr>\n",
       "    <tr>\n",
       "      <th>3</th>\n",
       "      <td>330</td>\n",
       "      <td>27</td>\n",
       "      <td>8.18%</td>\n",
       "    </tr>\n",
       "    <tr>\n",
       "      <th>4</th>\n",
       "      <td>41</td>\n",
       "      <td>4</td>\n",
       "      <td>9.76%</td>\n",
       "    </tr>\n",
       "    <tr>\n",
       "      <th>5</th>\n",
       "      <td>9</td>\n",
       "      <td>0</td>\n",
       "      <td>0.00%</td>\n",
       "    </tr>\n",
       "  </tbody>\n",
       "</table>\n",
       "</div>"
      ],
      "text/plain": [
       "          count   sum my_mean\n",
       "children                     \n",
       "0         14091  1063  7.54% \n",
       "1          4808   444  9.23% \n",
       "2          2052   194  9.45% \n",
       "3           330    27  8.18% \n",
       "4            41     4  9.76% \n",
       "5             9     0  0.00% "
      ]
     },
     "execution_count": 48,
     "metadata": {},
     "output_type": "execute_result"
    }
   ],
   "source": [
    "\n",
    "\n",
    "def my_mean(x): return '{:.2%} '.format(x.mean())\n",
    "\n",
    "data.groupby('children')['debt'].agg(['count', 'sum', my_mean])"
   ]
  },
  {
   "cell_type": "markdown",
   "id": "0d2af1e0",
   "metadata": {
    "deletable": false,
    "id": "3a6b99ec"
   },
   "source": [
    "**Вывод:** "
   ]
  },
  {
   "cell_type": "markdown",
   "id": "ae586de2",
   "metadata": {},
   "source": [
    "- Среди клиентов банка доля **должников** с детьми  в несколько раз  меньше доли клиентов с детьми  **без долга** по каждой категории.\n",
    "\n",
    "- Наибольшее различие в категории *''3 ребенка''*: разница между **должниками** и **не должниками** 11 раз.\n",
    "\n",
    "- Также замечено уменьшение спроса на кредит с увеличением количества детей.\n",
    "\n",
    "- Стоит отметить что в категории *''5 детей''* должников нет совсем и эта катеогория имеет наименьшее количество клиентов.\n",
    "***\n",
    "- Среди клиентов банка в 2 раза больше женщин чем мужчин. \n",
    "  - Большая часть клиентов без долгов и без детей, поэтому можно предположить, что количественное отличие должников женщин от мужчин обусловлено, по большей мере, их (женщин) большим присутствием в выборке. "
   ]
  },
  {
   "cell_type": "markdown",
   "id": "bf6a1be2",
   "metadata": {
    "deletable": false,
    "editable": false,
    "id": "97be82ca"
   },
   "source": [
    "#### 3.2 Есть ли зависимость между семейным положением и возвратом кредита в срок?"
   ]
  },
  {
   "cell_type": "code",
   "execution_count": 35,
   "id": "d5c00476",
   "metadata": {
    "deletable": false,
    "id": "dc3f7ee8"
   },
   "outputs": [
    {
     "data": {
      "text/plain": [
       "array(['женат / замужем', 'гражданский брак', 'вдовец / вдова',\n",
       "       'в разводе', 'Не женат / не замужем'], dtype=object)"
      ]
     },
     "execution_count": 35,
     "metadata": {},
     "output_type": "execute_result"
    }
   ],
   "source": [
    "# посмотрим каие значения принимает столбец 'family_status'\n",
    "data['family_status'].unique()"
   ]
  },
  {
   "cell_type": "code",
   "execution_count": 36,
   "id": "adda408b",
   "metadata": {},
   "outputs": [
    {
     "data": {
      "text/plain": [
       "женат / замужем          12261\n",
       "гражданский брак          4134\n",
       "Не женат / не замужем     2796\n",
       "в разводе                 1189\n",
       "вдовец / вдова             951\n",
       "Name: family_status, dtype: int64"
      ]
     },
     "execution_count": 36,
     "metadata": {},
     "output_type": "execute_result"
    }
   ],
   "source": [
    "#узнаем количество клиентов по категориям \"семейного положения\"\n",
    "data['family_status'].value_counts()"
   ]
  },
  {
   "cell_type": "code",
   "execution_count": 37,
   "id": "8e3ef174",
   "metadata": {},
   "outputs": [
    {
     "data": {
      "text/plain": [
       "family_status\n",
       "Не женат / не замужем     2523\n",
       "в разводе                 1105\n",
       "вдовец / вдова             888\n",
       "гражданский брак          3749\n",
       "женат / замужем          11334\n",
       "Name: debt, dtype: int64"
      ]
     },
     "metadata": {},
     "output_type": "display_data"
    },
    {
     "data": {
      "text/plain": [
       "family_status\n",
       "Не женат / не замужем    273\n",
       "в разводе                 84\n",
       "вдовец / вдова            63\n",
       "гражданский брак         385\n",
       "женат / замужем          927\n",
       "Name: debt, dtype: int64"
      ]
     },
     "metadata": {},
     "output_type": "display_data"
    }
   ],
   "source": [
    "# используя уже сформированные в предыдущем вопросе датафреймы,\n",
    "# сгрупируем должников и остальных клиентов банка по категориям \"семейное положение\"\n",
    "display(data_no_debt.groupby('family_status')['debt'].count()) #группировка клиентов без долга по категориям\n",
    "display(data_debt.groupby('family_status')['debt'].count()) #группировка должников по категориям"
   ]
  },
  {
   "cell_type": "code",
   "execution_count": 38,
   "id": "06ae4a1a",
   "metadata": {},
   "outputs": [
    {
     "data": {
      "text/plain": [
       "family_status\n",
       "Не женат / не замужем     9.241758\n",
       "в разводе                13.154762\n",
       "вдовец / вдова           14.095238\n",
       "гражданский брак          9.737662\n",
       "женат / замужем          12.226537\n",
       "Name: debt, dtype: float64"
      ]
     },
     "metadata": {},
     "output_type": "display_data"
    }
   ],
   "source": [
    "#отношение должников и не должников по категориям\n",
    "family_relation_debt_to_no_debt = data_no_debt.groupby('family_status')['debt'].count()/data_debt.groupby('family_status')['debt'].count()\n",
    "display(family_relation_debt_to_no_debt)"
   ]
  },
  {
   "cell_type": "code",
   "execution_count": 39,
   "id": "cdb6b6f2",
   "metadata": {},
   "outputs": [
    {
     "data": {
      "text/html": [
       "<div>\n",
       "<style scoped>\n",
       "    .dataframe tbody tr th:only-of-type {\n",
       "        vertical-align: middle;\n",
       "    }\n",
       "\n",
       "    .dataframe tbody tr th {\n",
       "        vertical-align: top;\n",
       "    }\n",
       "\n",
       "    .dataframe thead th {\n",
       "        text-align: right;\n",
       "    }\n",
       "</style>\n",
       "<table border=\"1\" class=\"dataframe\">\n",
       "  <thead>\n",
       "    <tr style=\"text-align: right;\">\n",
       "      <th>debt</th>\n",
       "      <th>0</th>\n",
       "      <th>1</th>\n",
       "    </tr>\n",
       "    <tr>\n",
       "      <th>family_status</th>\n",
       "      <th></th>\n",
       "      <th></th>\n",
       "    </tr>\n",
       "  </thead>\n",
       "  <tbody>\n",
       "    <tr>\n",
       "      <th>Не женат / не замужем</th>\n",
       "      <td>2523</td>\n",
       "      <td>273</td>\n",
       "    </tr>\n",
       "    <tr>\n",
       "      <th>в разводе</th>\n",
       "      <td>1105</td>\n",
       "      <td>84</td>\n",
       "    </tr>\n",
       "    <tr>\n",
       "      <th>вдовец / вдова</th>\n",
       "      <td>888</td>\n",
       "      <td>63</td>\n",
       "    </tr>\n",
       "    <tr>\n",
       "      <th>гражданский брак</th>\n",
       "      <td>3749</td>\n",
       "      <td>385</td>\n",
       "    </tr>\n",
       "    <tr>\n",
       "      <th>женат / замужем</th>\n",
       "      <td>11334</td>\n",
       "      <td>927</td>\n",
       "    </tr>\n",
       "  </tbody>\n",
       "</table>\n",
       "</div>"
      ],
      "text/plain": [
       "debt                       0    1\n",
       "family_status                    \n",
       "Не женат / не замужем   2523  273\n",
       "в разводе               1105   84\n",
       "вдовец / вдова           888   63\n",
       "гражданский брак        3749  385\n",
       "женат / замужем        11334  927"
      ]
     },
     "metadata": {},
     "output_type": "display_data"
    }
   ],
   "source": [
    "#построим сводную таблицу для наглядности \n",
    "family_data_pivot = data.pivot_table(index = 'family_status', columns = 'debt', values = 'days_employed', aggfunc = 'count') # в качестве  значения values, по которым мы хотим увидеть сводную таблицу используем любое название столбца\n",
    "\n",
    "display(family_data_pivot)\n"
   ]
  },
  {
   "cell_type": "code",
   "execution_count": 40,
   "id": "489bd89f",
   "metadata": {
    "scrolled": false
   },
   "outputs": [
    {
     "data": {
      "text/html": [
       "<div>\n",
       "<style scoped>\n",
       "    .dataframe tbody tr th:only-of-type {\n",
       "        vertical-align: middle;\n",
       "    }\n",
       "\n",
       "    .dataframe tbody tr th {\n",
       "        vertical-align: top;\n",
       "    }\n",
       "\n",
       "    .dataframe thead th {\n",
       "        text-align: right;\n",
       "    }\n",
       "</style>\n",
       "<table border=\"1\" class=\"dataframe\">\n",
       "  <thead>\n",
       "    <tr style=\"text-align: right;\">\n",
       "      <th>debt</th>\n",
       "      <th>0</th>\n",
       "      <th>1</th>\n",
       "      <th>|</th>\n",
       "      <th>all_clients</th>\n",
       "      <th>percent_of_category</th>\n",
       "      <th>relation_debt_to_no_debt</th>\n",
       "      <th>percent_of_debt</th>\n",
       "    </tr>\n",
       "    <tr>\n",
       "      <th>family_status</th>\n",
       "      <th></th>\n",
       "      <th></th>\n",
       "      <th></th>\n",
       "      <th></th>\n",
       "      <th></th>\n",
       "      <th></th>\n",
       "      <th></th>\n",
       "    </tr>\n",
       "  </thead>\n",
       "  <tbody>\n",
       "    <tr>\n",
       "      <th>Не женат / не замужем</th>\n",
       "      <td>2523</td>\n",
       "      <td>273</td>\n",
       "      <td>|</td>\n",
       "      <td>2796</td>\n",
       "      <td>13.107684</td>\n",
       "      <td>10.820452</td>\n",
       "      <td>9.763948</td>\n",
       "    </tr>\n",
       "    <tr>\n",
       "      <th>в разводе</th>\n",
       "      <td>1105</td>\n",
       "      <td>84</td>\n",
       "      <td>|</td>\n",
       "      <td>1189</td>\n",
       "      <td>5.574047</td>\n",
       "      <td>7.601810</td>\n",
       "      <td>7.064760</td>\n",
       "    </tr>\n",
       "    <tr>\n",
       "      <th>вдовец / вдова</th>\n",
       "      <td>888</td>\n",
       "      <td>63</td>\n",
       "      <td>|</td>\n",
       "      <td>951</td>\n",
       "      <td>4.458300</td>\n",
       "      <td>7.094595</td>\n",
       "      <td>6.624606</td>\n",
       "    </tr>\n",
       "    <tr>\n",
       "      <th>гражданский брак</th>\n",
       "      <td>3749</td>\n",
       "      <td>385</td>\n",
       "      <td>|</td>\n",
       "      <td>4134</td>\n",
       "      <td>19.380245</td>\n",
       "      <td>10.269405</td>\n",
       "      <td>9.313014</td>\n",
       "    </tr>\n",
       "    <tr>\n",
       "      <th>женат / замужем</th>\n",
       "      <td>11334</td>\n",
       "      <td>927</td>\n",
       "      <td>|</td>\n",
       "      <td>12261</td>\n",
       "      <td>57.479724</td>\n",
       "      <td>8.178931</td>\n",
       "      <td>7.560558</td>\n",
       "    </tr>\n",
       "  </tbody>\n",
       "</table>\n",
       "</div>"
      ],
      "text/plain": [
       "debt                       0    1  |  all_clients  percent_of_category  \\\n",
       "family_status                                                            \n",
       "Не женат / не замужем   2523  273  |         2796            13.107684   \n",
       "в разводе               1105   84  |         1189             5.574047   \n",
       "вдовец / вдова           888   63  |          951             4.458300   \n",
       "гражданский брак        3749  385  |         4134            19.380245   \n",
       "женат / замужем        11334  927  |        12261            57.479724   \n",
       "\n",
       "debt                   relation_debt_to_no_debt  percent_of_debt  \n",
       "family_status                                                     \n",
       "Не женат / не замужем                 10.820452         9.763948  \n",
       "в разводе                              7.601810         7.064760  \n",
       "вдовец / вдова                         7.094595         6.624606  \n",
       "гражданский брак                      10.269405         9.313014  \n",
       "женат / замужем                        8.178931         7.560558  "
      ]
     },
     "metadata": {},
     "output_type": "display_data"
    }
   ],
   "source": [
    "# оценим долю должников по категриям клиентов банка\n",
    "\n",
    "# для начала отметим сколько клиентов в кадждой категории и сколько клиентов должников, создадим сводную таблицу \n",
    "data_cat_family = data.pivot_table(index = 'family_status', columns= 'debt' ,values = 'days_employed', aggfunc = 'count' )\n",
    "\n",
    "data_cat_family['|'] = '|' # разделим часть таблицы которая группировала катеогории по статусу задолженности\n",
    "\n",
    "# добавим столбец с количеством клиентов каждой категории\n",
    "data_cat_family['all_clients'] = data['family_status'].value_counts()\n",
    "\n",
    "# добавим столбец с процентом клиентов в каждой категории от общего числа клиентов банка\n",
    "data_cat_family['percent_of_category'] = data.groupby('family_status')['debt'].count()/data['debt'].count()*100\n",
    "\n",
    "# добавим столбец в котором показано отношение 'должников' и 'не должников' в зависимости от семейного статуса в процентах\n",
    "data_cat_family['relation_debt_to_no_debt'] = data_debt.groupby('family_status')['debt'].count()/data_no_debt.groupby('family_status')['debt'].count()*100\n",
    "\n",
    "# считаем долю должников от общего числа клиентов по категориям в проценте\n",
    "data_cat_family['percent_of_debt'] = data_debt.groupby('family_status')['debt'].count()/data.groupby('family_status')['debt'].count()*100 \n",
    "\n",
    "display(data_cat_family)"
   ]
  },
  {
   "cell_type": "markdown",
   "id": "41fd38c4",
   "metadata": {
    "deletable": false,
    "id": "1cef7837"
   },
   "source": [
    "**Вывод:** "
   ]
  },
  {
   "cell_type": "markdown",
   "id": "d90897da",
   "metadata": {},
   "source": [
    "- Категории: `в разводе`, `вдовец / вдова`, `женат / замужем` наиболее часто возвращают долг в срок.\n",
    "- Также отметим что наиболее большая группа `женат / замужем`  \n",
    "- самые ненадежные категории `Не женат / не замужем` и `гражданский брак`"
   ]
  },
  {
   "cell_type": "markdown",
   "id": "c99d8a50",
   "metadata": {
    "deletable": false,
    "editable": false,
    "id": "1e8b2fca"
   },
   "source": [
    "#### 3.3 Есть ли зависимость между уровнем дохода и возвратом кредита в срок?"
   ]
  },
  {
   "cell_type": "code",
   "execution_count": 41,
   "id": "2942204f",
   "metadata": {
    "deletable": false,
    "id": "cd7e3720",
    "scrolled": true
   },
   "outputs": [
    {
     "data": {
      "text/html": [
       "<div>\n",
       "<style scoped>\n",
       "    .dataframe tbody tr th:only-of-type {\n",
       "        vertical-align: middle;\n",
       "    }\n",
       "\n",
       "    .dataframe tbody tr th {\n",
       "        vertical-align: top;\n",
       "    }\n",
       "\n",
       "    .dataframe thead th {\n",
       "        text-align: right;\n",
       "    }\n",
       "</style>\n",
       "<table border=\"1\" class=\"dataframe\">\n",
       "  <thead>\n",
       "    <tr style=\"text-align: right;\">\n",
       "      <th>debt</th>\n",
       "      <th>0</th>\n",
       "      <th>1</th>\n",
       "    </tr>\n",
       "    <tr>\n",
       "      <th>total_income_category</th>\n",
       "      <th></th>\n",
       "      <th></th>\n",
       "    </tr>\n",
       "  </thead>\n",
       "  <tbody>\n",
       "    <tr>\n",
       "      <th>A</th>\n",
       "      <td>23</td>\n",
       "      <td>2</td>\n",
       "    </tr>\n",
       "    <tr>\n",
       "      <th>B</th>\n",
       "      <td>4660</td>\n",
       "      <td>354</td>\n",
       "    </tr>\n",
       "    <tr>\n",
       "      <th>C</th>\n",
       "      <td>14568</td>\n",
       "      <td>1353</td>\n",
       "    </tr>\n",
       "    <tr>\n",
       "      <th>D</th>\n",
       "      <td>328</td>\n",
       "      <td>21</td>\n",
       "    </tr>\n",
       "    <tr>\n",
       "      <th>E</th>\n",
       "      <td>20</td>\n",
       "      <td>2</td>\n",
       "    </tr>\n",
       "  </tbody>\n",
       "</table>\n",
       "</div>"
      ],
      "text/plain": [
       "debt                       0     1\n",
       "total_income_category             \n",
       "A                         23     2\n",
       "B                       4660   354\n",
       "C                      14568  1353\n",
       "D                        328    21\n",
       "E                         20     2"
      ]
     },
     "metadata": {},
     "output_type": "display_data"
    }
   ],
   "source": [
    "# построим сводную таблицу для наглядности \n",
    "# группируем debt по total_income_category\n",
    "income_data_pivot = data.pivot_table(index = 'total_income_category', columns = 'debt', values = 'days_employed', aggfunc = 'count') # в качестве  значения values, по которым мы хотим увидеть сводную таблицу используем любое название столбца\n",
    "\n",
    "display(income_data_pivot)\n"
   ]
  },
  {
   "cell_type": "code",
   "execution_count": 42,
   "id": "11028531",
   "metadata": {
    "scrolled": true
   },
   "outputs": [
    {
     "data": {
      "text/plain": [
       "total_income_category\n",
       "A    11.500000\n",
       "B    13.163842\n",
       "C    10.767184\n",
       "D    15.619048\n",
       "E    10.000000\n",
       "Name: debt, dtype: float64"
      ]
     },
     "metadata": {},
     "output_type": "display_data"
    }
   ],
   "source": [
    "#отношение должников и не должников по категориям\n",
    "income_relation_debt_to_no_debt = data_no_debt.groupby('total_income_category')['debt'].count()/data_debt.groupby('total_income_category')['debt'].count()\n",
    "display(income_relation_debt_to_no_debt)"
   ]
  },
  {
   "cell_type": "code",
   "execution_count": 43,
   "id": "f125a6bf",
   "metadata": {},
   "outputs": [
    {
     "data": {
      "text/html": [
       "<div>\n",
       "<style scoped>\n",
       "    .dataframe tbody tr th:only-of-type {\n",
       "        vertical-align: middle;\n",
       "    }\n",
       "\n",
       "    .dataframe tbody tr th {\n",
       "        vertical-align: top;\n",
       "    }\n",
       "\n",
       "    .dataframe thead th {\n",
       "        text-align: right;\n",
       "    }\n",
       "</style>\n",
       "<table border=\"1\" class=\"dataframe\">\n",
       "  <thead>\n",
       "    <tr style=\"text-align: right;\">\n",
       "      <th>debt</th>\n",
       "      <th>0</th>\n",
       "      <th>1</th>\n",
       "      <th>|</th>\n",
       "      <th>all_clients</th>\n",
       "      <th>percent_of_category</th>\n",
       "      <th>relation_debt_to_no_debt</th>\n",
       "      <th>percent_of_debt</th>\n",
       "    </tr>\n",
       "    <tr>\n",
       "      <th>total_income_category</th>\n",
       "      <th></th>\n",
       "      <th></th>\n",
       "      <th></th>\n",
       "      <th></th>\n",
       "      <th></th>\n",
       "      <th></th>\n",
       "      <th></th>\n",
       "    </tr>\n",
       "  </thead>\n",
       "  <tbody>\n",
       "    <tr>\n",
       "      <th>A</th>\n",
       "      <td>23</td>\n",
       "      <td>2</td>\n",
       "      <td>|</td>\n",
       "      <td>25</td>\n",
       "      <td>0.117200</td>\n",
       "      <td>8.695652</td>\n",
       "      <td>8.000000</td>\n",
       "    </tr>\n",
       "    <tr>\n",
       "      <th>B</th>\n",
       "      <td>4660</td>\n",
       "      <td>354</td>\n",
       "      <td>|</td>\n",
       "      <td>5014</td>\n",
       "      <td>23.505696</td>\n",
       "      <td>7.596567</td>\n",
       "      <td>7.060231</td>\n",
       "    </tr>\n",
       "    <tr>\n",
       "      <th>C</th>\n",
       "      <td>14568</td>\n",
       "      <td>1353</td>\n",
       "      <td>|</td>\n",
       "      <td>15921</td>\n",
       "      <td>74.637851</td>\n",
       "      <td>9.287479</td>\n",
       "      <td>8.498210</td>\n",
       "    </tr>\n",
       "    <tr>\n",
       "      <th>D</th>\n",
       "      <td>328</td>\n",
       "      <td>21</td>\n",
       "      <td>|</td>\n",
       "      <td>349</td>\n",
       "      <td>1.636116</td>\n",
       "      <td>6.402439</td>\n",
       "      <td>6.017192</td>\n",
       "    </tr>\n",
       "    <tr>\n",
       "      <th>E</th>\n",
       "      <td>20</td>\n",
       "      <td>2</td>\n",
       "      <td>|</td>\n",
       "      <td>22</td>\n",
       "      <td>0.103136</td>\n",
       "      <td>10.000000</td>\n",
       "      <td>9.090909</td>\n",
       "    </tr>\n",
       "  </tbody>\n",
       "</table>\n",
       "</div>"
      ],
      "text/plain": [
       "debt                       0     1  |  all_clients  percent_of_category  \\\n",
       "total_income_category                                                     \n",
       "A                         23     2  |           25             0.117200   \n",
       "B                       4660   354  |         5014            23.505696   \n",
       "C                      14568  1353  |        15921            74.637851   \n",
       "D                        328    21  |          349             1.636116   \n",
       "E                         20     2  |           22             0.103136   \n",
       "\n",
       "debt                   relation_debt_to_no_debt  percent_of_debt  \n",
       "total_income_category                                             \n",
       "A                                      8.695652         8.000000  \n",
       "B                                      7.596567         7.060231  \n",
       "C                                      9.287479         8.498210  \n",
       "D                                      6.402439         6.017192  \n",
       "E                                     10.000000         9.090909  "
      ]
     },
     "metadata": {},
     "output_type": "display_data"
    }
   ],
   "source": [
    "# оценим долю должников по категриям клиентов банка\n",
    "\n",
    "# для начала отметим сколько клиентов в кадждой категории и сколько клиентов должников, создадим сводную таблицу \n",
    "data_cat_total_income = data.pivot_table(index = 'total_income_category', columns= 'debt' ,values = 'days_employed', aggfunc = 'count' )\n",
    "\n",
    "data_cat_total_income['|'] = '|' # разделим часть таблицы которая группировала катеогории по статусу задолженности\n",
    "\n",
    "# добавим столбец с количеством клиентов каждой категории\n",
    "data_cat_total_income['all_clients'] = data['total_income_category'].value_counts()\n",
    "\n",
    "# добавим столбец с процентом клиентов в каждой категории от общего числа клиентов банка\n",
    "data_cat_total_income['percent_of_category'] = data.groupby('total_income_category')['debt'].count()/data['debt'].count()*100\n",
    "\n",
    "# добавим столбец в котором показано отношение 'должников' и 'не должников' в зависимости от семейного статуса в процентах\n",
    "data_cat_total_income['relation_debt_to_no_debt'] = data_debt.groupby('total_income_category')['debt'].count()/data_no_debt.groupby('total_income_category')['debt'].count()*100\n",
    "\n",
    "# считаем долю должников от общего числа клиентов по категориям в проценте\n",
    "data_cat_total_income['percent_of_debt'] = data_debt.groupby('total_income_category')['debt'].count()/data.groupby('total_income_category')['debt'].count()*100 \n",
    "\n",
    "display(data_cat_total_income)"
   ]
  },
  {
   "cell_type": "markdown",
   "id": "0775f807",
   "metadata": {
    "deletable": false,
    "id": "e8593def"
   },
   "source": [
    "**Вывод:** "
   ]
  },
  {
   "cell_type": "markdown",
   "id": "5949c6f1",
   "metadata": {},
   "source": [
    "- Наибольшее число клиентов банка относятся к `C` средней категории дохода. В этой же категории **наибольшее относительное число должников**.\n",
    "- Меньшее число клинтов наблюдается в категориях `D`, `E` - ниже среднего.\n",
    "- Также в категориях выше среднего наблюдается уменьшение клиентов (`B` и `A`). Однако в категории `В` людей больше чем в `D`\n",
    "- Судя по долям должников, отсторитрованных по уровню дохода, видно что, категории `D` и `B` выплачивают долг в срок чаще остальных.\n",
    "- Самая надежная категория - `\"D\" - 6,02%`\n",
    "- Самая ненадежная категория - `\"E\" - 9,09%`\n",
    "- На мой взгляд нельзя сравнивать данные категории, так как их процентная доля в общем числе клиента слишком различна. \n"
   ]
  },
  {
   "cell_type": "markdown",
   "id": "15759611",
   "metadata": {
    "deletable": false,
    "editable": false,
    "id": "99ecbd1f"
   },
   "source": [
    "#### 3.4 Как разные цели кредита влияют на его возврат в срок?"
   ]
  },
  {
   "cell_type": "code",
   "execution_count": 44,
   "id": "4931a641",
   "metadata": {
    "deletable": false,
    "id": "2b687290",
    "scrolled": true
   },
   "outputs": [
    {
     "data": {
      "text/html": [
       "<div>\n",
       "<style scoped>\n",
       "    .dataframe tbody tr th:only-of-type {\n",
       "        vertical-align: middle;\n",
       "    }\n",
       "\n",
       "    .dataframe tbody tr th {\n",
       "        vertical-align: top;\n",
       "    }\n",
       "\n",
       "    .dataframe thead th {\n",
       "        text-align: right;\n",
       "    }\n",
       "</style>\n",
       "<table border=\"1\" class=\"dataframe\">\n",
       "  <thead>\n",
       "    <tr style=\"text-align: right;\">\n",
       "      <th>debt</th>\n",
       "      <th>0</th>\n",
       "      <th>1</th>\n",
       "    </tr>\n",
       "    <tr>\n",
       "      <th>purpose_category</th>\n",
       "      <th></th>\n",
       "      <th></th>\n",
       "    </tr>\n",
       "  </thead>\n",
       "  <tbody>\n",
       "    <tr>\n",
       "      <th>операции с автомобилем</th>\n",
       "      <td>3879</td>\n",
       "      <td>400</td>\n",
       "    </tr>\n",
       "    <tr>\n",
       "      <th>операции с недвижимостью</th>\n",
       "      <td>9971</td>\n",
       "      <td>780</td>\n",
       "    </tr>\n",
       "    <tr>\n",
       "      <th>получение образования</th>\n",
       "      <td>3619</td>\n",
       "      <td>369</td>\n",
       "    </tr>\n",
       "    <tr>\n",
       "      <th>проведение свадьбы</th>\n",
       "      <td>2130</td>\n",
       "      <td>183</td>\n",
       "    </tr>\n",
       "  </tbody>\n",
       "</table>\n",
       "</div>"
      ],
      "text/plain": [
       "debt                         0    1\n",
       "purpose_category                   \n",
       "операции с автомобилем    3879  400\n",
       "операции с недвижимостью  9971  780\n",
       "получение образования     3619  369\n",
       "проведение свадьбы        2130  183"
      ]
     },
     "metadata": {},
     "output_type": "display_data"
    }
   ],
   "source": [
    "# построим сводную таблицу для наглядности \n",
    "purpose_data_pivot = data.pivot_table(index = 'purpose_category', columns = 'debt', values = 'days_employed', aggfunc = 'count') # в качестве  значения values, по которым мы хотим увидеть сводную таблицу используем любое название столбца\n",
    "\n",
    "display(purpose_data_pivot)"
   ]
  },
  {
   "cell_type": "code",
   "execution_count": 45,
   "id": "3a3e51a7",
   "metadata": {},
   "outputs": [
    {
     "data": {
      "text/plain": [
       "purpose_category\n",
       "операции с автомобилем       9.697500\n",
       "операции с недвижимостью    12.783333\n",
       "получение образования        9.807588\n",
       "проведение свадьбы          11.639344\n",
       "Name: debt, dtype: float64"
      ]
     },
     "metadata": {},
     "output_type": "display_data"
    }
   ],
   "source": [
    "#отношение должников и не должников по категориям\n",
    "purpose_relation_debt_to_no_debt = data_no_debt.groupby('purpose_category')['debt'].count()/data_debt.groupby('purpose_category')['debt'].count()\n",
    "display(purpose_relation_debt_to_no_debt)"
   ]
  },
  {
   "cell_type": "code",
   "execution_count": 46,
   "id": "3c8c1ff4",
   "metadata": {},
   "outputs": [
    {
     "data": {
      "text/html": [
       "<div>\n",
       "<style scoped>\n",
       "    .dataframe tbody tr th:only-of-type {\n",
       "        vertical-align: middle;\n",
       "    }\n",
       "\n",
       "    .dataframe tbody tr th {\n",
       "        vertical-align: top;\n",
       "    }\n",
       "\n",
       "    .dataframe thead th {\n",
       "        text-align: right;\n",
       "    }\n",
       "</style>\n",
       "<table border=\"1\" class=\"dataframe\">\n",
       "  <thead>\n",
       "    <tr style=\"text-align: right;\">\n",
       "      <th>debt</th>\n",
       "      <th>0</th>\n",
       "      <th>1</th>\n",
       "      <th>|</th>\n",
       "      <th>all_clients</th>\n",
       "      <th>percent_of_category</th>\n",
       "      <th>relation_debt_to_no_debt</th>\n",
       "      <th>percent_of_debt</th>\n",
       "    </tr>\n",
       "    <tr>\n",
       "      <th>purpose_category</th>\n",
       "      <th></th>\n",
       "      <th></th>\n",
       "      <th></th>\n",
       "      <th></th>\n",
       "      <th></th>\n",
       "      <th></th>\n",
       "      <th></th>\n",
       "    </tr>\n",
       "  </thead>\n",
       "  <tbody>\n",
       "    <tr>\n",
       "      <th>операции с автомобилем</th>\n",
       "      <td>3879</td>\n",
       "      <td>400</td>\n",
       "      <td>|</td>\n",
       "      <td>4279</td>\n",
       "      <td>20.060007</td>\n",
       "      <td>10.311936</td>\n",
       "      <td>9.347978</td>\n",
       "    </tr>\n",
       "    <tr>\n",
       "      <th>операции с недвижимостью</th>\n",
       "      <td>9971</td>\n",
       "      <td>780</td>\n",
       "      <td>|</td>\n",
       "      <td>10751</td>\n",
       "      <td>50.400825</td>\n",
       "      <td>7.822686</td>\n",
       "      <td>7.255139</td>\n",
       "    </tr>\n",
       "    <tr>\n",
       "      <th>получение образования</th>\n",
       "      <td>3619</td>\n",
       "      <td>369</td>\n",
       "      <td>|</td>\n",
       "      <td>3988</td>\n",
       "      <td>18.695795</td>\n",
       "      <td>10.196187</td>\n",
       "      <td>9.252758</td>\n",
       "    </tr>\n",
       "    <tr>\n",
       "      <th>проведение свадьбы</th>\n",
       "      <td>2130</td>\n",
       "      <td>183</td>\n",
       "      <td>|</td>\n",
       "      <td>2313</td>\n",
       "      <td>10.843373</td>\n",
       "      <td>8.591549</td>\n",
       "      <td>7.911803</td>\n",
       "    </tr>\n",
       "  </tbody>\n",
       "</table>\n",
       "</div>"
      ],
      "text/plain": [
       "debt                         0    1  |  all_clients  percent_of_category  \\\n",
       "purpose_category                                                           \n",
       "операции с автомобилем    3879  400  |         4279            20.060007   \n",
       "операции с недвижимостью  9971  780  |        10751            50.400825   \n",
       "получение образования     3619  369  |         3988            18.695795   \n",
       "проведение свадьбы        2130  183  |         2313            10.843373   \n",
       "\n",
       "debt                      relation_debt_to_no_debt  percent_of_debt  \n",
       "purpose_category                                                     \n",
       "операции с автомобилем                   10.311936         9.347978  \n",
       "операции с недвижимостью                  7.822686         7.255139  \n",
       "получение образования                    10.196187         9.252758  \n",
       "проведение свадьбы                        8.591549         7.911803  "
      ]
     },
     "metadata": {},
     "output_type": "display_data"
    }
   ],
   "source": [
    "# оценим долю должников по категриям клиентов банка\n",
    "\n",
    "# для начала отметим сколько клиентов в кадждой категории и сколько клиентов должников, создадим сводную таблицу \n",
    "data_cat_purpose = data.pivot_table(index = 'purpose_category', columns= 'debt' ,values = 'days_employed', aggfunc = 'count' )\n",
    "\n",
    "data_cat_purpose['|'] = '|' # разделим часть таблицы которая группировала катеогории по статусу задолженности\n",
    "\n",
    "# добавим столбец с количеством клиентов каждой категории\n",
    "data_cat_purpose['all_clients'] = data['purpose_category'].value_counts()\n",
    "\n",
    "# добавим столбец с процентом клиентов в каждой категории от общего числа клиентов банка\n",
    "data_cat_purpose['percent_of_category'] = data.groupby('purpose_category')['debt'].count()/data['debt'].count()*100\n",
    "\n",
    "# добавим столбец в котором показано отношение 'должников' и 'не должников' в зависимости от семейного статуса в процентах\n",
    "data_cat_purpose['relation_debt_to_no_debt'] = data_debt.groupby('purpose_category')['debt'].count()/data_no_debt.groupby('purpose_category')['debt'].count()*100\n",
    "\n",
    "# считаем долю должников от общего числа клиентов по категориям в проценте\n",
    "data_cat_purpose['percent_of_debt'] = data_debt.groupby('purpose_category')['debt'].count()/data.groupby('purpose_category')['debt'].count()*100 \n",
    "\n",
    "display(data_cat_purpose)"
   ]
  },
  {
   "cell_type": "markdown",
   "id": "3283fd2b",
   "metadata": {
    "deletable": false,
    "id": "b4bb2ce6"
   },
   "source": [
    "**Вывод:** "
   ]
  },
  {
   "cell_type": "markdown",
   "id": "a72347ab",
   "metadata": {},
   "source": [
    "- Наиболее часто кредит берут на **недвижимость**. Поэтому и количество должников в этой категории самое большое, однако,  относительное количество должников в этой категории меньше чем в других.\n",
    "- Самые рискованые категории: кредит на **автомобиль** и **образование**.\n",
    "- **Проведение свадьбы** самая маленькая категория с хорошим показателем не просроченных долгов.\n",
    "- Судя по долям должников, отсторитрованных по цели кредита, видно что, категории `операции с недвижимостью` и `проведение свадьбы` выплачивают долг в срок чаще остальных.\n",
    "- Самая надежная категория - `\"операции с недвижимостью\" - 7,25%`\n",
    "- Самая ненадежная категория - `\"операции с автомобилем\" - 9,35%`"
   ]
  },
  {
   "cell_type": "markdown",
   "id": "b9ec2f91",
   "metadata": {
    "deletable": false,
    "editable": false,
    "id": "09c3ac4c"
   },
   "source": [
    "#### 3.5 Приведите возможные причины появления пропусков в исходных данных."
   ]
  },
  {
   "cell_type": "markdown",
   "id": "f74aea94",
   "metadata": {
    "deletable": false,
    "id": "9da2ceda"
   },
   "source": [
    "*Ответ:* \n",
    "\n",
    "- Пропущены значения в столбцах *стажа* и *месячной зарпаты*. Причем их количство совпадает. Основываясь на этом факте и на том что, тема зарплаты в нашей стране в какой то степени табуирована, можно предположить что эти пропуски неслучайны, они связвны с другими столбцами и сами с собой.\n",
    "- Как уже ранее говорилось, одна из причин пропусков может быть табуированность темы зарплаты.\n",
    "- Наличие категории пенсионеры и безработные \n",
    "- Кто то может не помнить свой стаж.\n",
    "- Возможно кто то работает неофициально или совмещает официальную и неофициальную работу, от этого появились проблемы с заполнением пропущенных значений. \n",
    "\n"
   ]
  },
  {
   "cell_type": "markdown",
   "id": "394e3094",
   "metadata": {
    "deletable": false,
    "editable": false,
    "id": "7b0487d6"
   },
   "source": [
    "#### 3.6 Объясните, почему заполнить пропуски медианным значением — лучшее решение для количественных переменных."
   ]
  },
  {
   "cell_type": "markdown",
   "id": "3d754869",
   "metadata": {
    "deletable": false,
    "id": "7ecf2b8e"
   },
   "source": [
    "*Ответ:* \n",
    "\n",
    "Так как пропущенные значения являются количественными переменными, их следует заполнить характерными значениями. Среденее арифметичские здесь не подойдет, потому что экстремальные значения могут сильно исказить среднее значение. Выбираем медиану, причем находим ее для каждого сегмента в отдельности, иак характерные значения будут близки к вероятно реальным пропущеным."
   ]
  },
  {
   "cell_type": "markdown",
   "id": "ec3f7644",
   "metadata": {
    "deletable": false,
    "editable": false,
    "id": "6db5255a"
   },
   "source": [
    "### Шаг 4: общий вывод."
   ]
  },
  {
   "cell_type": "markdown",
   "id": "3de2065d",
   "metadata": {
    "deletable": false,
    "id": "bad65432"
   },
   "source": [
    "Есть определенная взаимосвязь между семейным положением, уровнем дохода, количеством детей, целью кредита и возвратом денег в срок.\n",
    "\n",
    "Наибольшее влияние на поздний срок оплаты долга влияют: **количество детей** и **цель**. В меньшей мере **семейное положение** и на последнем  месте **уровень дохода**.\n",
    "\n",
    "\n",
    "\n",
    "Самые рискованные категории клиентов:\n",
    "- с целью покупки авто - `9,35%` процент должников в данной категории.\n",
    "- Клиенты с уровнем дохода `E` - `9,09%` процент должников в данной категории.\n",
    "- Категория `Не женат / не замужем` - `9,76%` процент должников в данной категории.\n",
    "-Наибольшие риски для категории с количеством детей ** 4** - `9,75%` процент должников в данной категории.\n",
    "\n",
    "Самые надежные категории клиентов:\n",
    "- На покупку недвижимости - `7,25%` процент должников в данной категории.\n",
    "- Категория доходности \"D\" - `6,02%` процент должников в данной категории.\n",
    "- `вдовец / вдова` - `6,62%` процент должников в данной категории.\n",
    "- Бездетные - `7,54%` процент должников в данной категории.    \n",
    "    \n",
    "    \n",
    "- Наиболее репрезентативен анализ по целям, так как в этих выборках процент содержания в общем числе клиентов распределен более-менее сопоставимо. Остальные варианты сложно считать достоверными из-за малого присутствия в выборке."
   ]
  },
  {
   "cell_type": "code",
   "execution_count": null,
   "id": "ca8a1753",
   "metadata": {},
   "outputs": [],
   "source": []
  }
 ],
 "metadata": {
  "ExecuteTimeLog": [
   {
    "duration": 508,
    "start_time": "2022-10-25T08:48:24.494Z"
   },
   {
    "duration": 471,
    "start_time": "2022-10-25T08:49:02.902Z"
   },
   {
    "duration": 3,
    "start_time": "2022-10-25T09:14:38.993Z"
   },
   {
    "duration": 489,
    "start_time": "2022-10-25T09:14:46.038Z"
   },
   {
    "duration": 41,
    "start_time": "2022-10-25T09:14:46.529Z"
   },
   {
    "duration": 23,
    "start_time": "2022-10-25T09:14:46.573Z"
   },
   {
    "duration": 12,
    "start_time": "2022-10-25T09:14:46.599Z"
   },
   {
    "duration": 44,
    "start_time": "2022-10-25T09:14:46.613Z"
   },
   {
    "duration": 36,
    "start_time": "2022-10-25T09:14:46.659Z"
   },
   {
    "duration": 10,
    "start_time": "2022-10-25T09:14:46.698Z"
   },
   {
    "duration": 5,
    "start_time": "2022-10-25T09:14:46.710Z"
   },
   {
    "duration": 8,
    "start_time": "2022-10-25T09:14:46.718Z"
   },
   {
    "duration": 7,
    "start_time": "2022-10-25T09:14:46.730Z"
   },
   {
    "duration": 80,
    "start_time": "2022-10-25T09:14:46.739Z"
   },
   {
    "duration": 14,
    "start_time": "2022-10-25T09:14:46.821Z"
   },
   {
    "duration": 4,
    "start_time": "2022-10-25T09:14:46.838Z"
   },
   {
    "duration": 16,
    "start_time": "2022-10-25T09:14:46.845Z"
   },
   {
    "duration": 49,
    "start_time": "2022-10-25T09:14:46.865Z"
   },
   {
    "duration": 22,
    "start_time": "2022-10-25T09:14:46.916Z"
   },
   {
    "duration": 5,
    "start_time": "2022-10-25T09:14:46.940Z"
   },
   {
    "duration": 13,
    "start_time": "2022-10-25T09:14:46.947Z"
   },
   {
    "duration": 34,
    "start_time": "2022-10-25T09:14:46.961Z"
   },
   {
    "duration": 4,
    "start_time": "2022-10-25T09:14:46.996Z"
   },
   {
    "duration": 11,
    "start_time": "2022-10-25T09:14:47.001Z"
   },
   {
    "duration": 3,
    "start_time": "2022-10-25T09:14:47.013Z"
   },
   {
    "duration": 4,
    "start_time": "2022-10-25T09:14:47.018Z"
   },
   {
    "duration": 4,
    "start_time": "2022-10-25T09:14:47.023Z"
   },
   {
    "duration": 5,
    "start_time": "2022-10-25T09:14:47.029Z"
   },
   {
    "duration": 77,
    "start_time": "2022-10-25T09:17:39.154Z"
   },
   {
    "duration": 22,
    "start_time": "2022-10-25T09:18:11.351Z"
   },
   {
    "duration": 24,
    "start_time": "2022-10-25T09:22:03.559Z"
   },
   {
    "duration": 497,
    "start_time": "2022-10-25T09:22:15.871Z"
   },
   {
    "duration": 22,
    "start_time": "2022-10-25T09:22:16.370Z"
   },
   {
    "duration": 15,
    "start_time": "2022-10-25T09:22:16.394Z"
   },
   {
    "duration": 12,
    "start_time": "2022-10-25T09:22:16.412Z"
   },
   {
    "duration": 40,
    "start_time": "2022-10-25T09:22:16.426Z"
   },
   {
    "duration": 24,
    "start_time": "2022-10-25T09:22:16.468Z"
   },
   {
    "duration": 38,
    "start_time": "2022-10-25T09:22:16.494Z"
   },
   {
    "duration": 17,
    "start_time": "2022-10-25T09:22:16.534Z"
   },
   {
    "duration": 18,
    "start_time": "2022-10-25T09:22:16.552Z"
   },
   {
    "duration": 9,
    "start_time": "2022-10-25T09:22:16.573Z"
   },
   {
    "duration": 61,
    "start_time": "2022-10-25T09:22:16.584Z"
   },
   {
    "duration": 13,
    "start_time": "2022-10-25T09:22:16.648Z"
   },
   {
    "duration": 5,
    "start_time": "2022-10-25T09:22:16.663Z"
   },
   {
    "duration": 39,
    "start_time": "2022-10-25T09:22:16.670Z"
   },
   {
    "duration": 31,
    "start_time": "2022-10-25T09:22:16.711Z"
   },
   {
    "duration": 21,
    "start_time": "2022-10-25T09:22:16.744Z"
   },
   {
    "duration": 5,
    "start_time": "2022-10-25T09:22:16.767Z"
   },
   {
    "duration": 24,
    "start_time": "2022-10-25T09:22:16.774Z"
   },
   {
    "duration": 9,
    "start_time": "2022-10-25T09:22:16.800Z"
   },
   {
    "duration": 6,
    "start_time": "2022-10-25T09:22:16.811Z"
   },
   {
    "duration": 28,
    "start_time": "2022-10-25T09:22:16.819Z"
   },
   {
    "duration": 40,
    "start_time": "2022-10-25T09:22:16.850Z"
   },
   {
    "duration": 5,
    "start_time": "2022-10-25T09:22:16.892Z"
   },
   {
    "duration": 17,
    "start_time": "2022-10-25T09:22:16.899Z"
   },
   {
    "duration": 21,
    "start_time": "2022-10-25T09:22:16.918Z"
   },
   {
    "duration": 84,
    "start_time": "2022-10-25T09:22:33.420Z"
   },
   {
    "duration": 28,
    "start_time": "2022-10-25T09:22:48.021Z"
   },
   {
    "duration": 25,
    "start_time": "2022-10-25T09:23:05.472Z"
   },
   {
    "duration": 42,
    "start_time": "2022-10-25T09:23:25.690Z"
   },
   {
    "duration": 45,
    "start_time": "2022-10-25T09:27:35.229Z"
   },
   {
    "duration": 49,
    "start_time": "2022-10-25T09:28:24.260Z"
   },
   {
    "duration": 52,
    "start_time": "2022-10-25T09:28:40.813Z"
   },
   {
    "duration": 41,
    "start_time": "2022-10-25T09:29:18.098Z"
   },
   {
    "duration": 40,
    "start_time": "2022-10-25T09:29:38.148Z"
   },
   {
    "duration": 45,
    "start_time": "2022-10-25T09:31:00.411Z"
   },
   {
    "duration": 10,
    "start_time": "2022-10-25T09:31:02.268Z"
   },
   {
    "duration": 8,
    "start_time": "2022-10-25T09:38:16.163Z"
   },
   {
    "duration": 4,
    "start_time": "2022-10-25T09:46:28.626Z"
   },
   {
    "duration": 4,
    "start_time": "2022-10-25T10:12:55.340Z"
   },
   {
    "duration": 15673,
    "start_time": "2022-10-25T10:13:00.564Z"
   },
   {
    "duration": 17,
    "start_time": "2022-10-25T10:13:43.762Z"
   },
   {
    "duration": 19147,
    "start_time": "2022-10-25T10:13:51.611Z"
   },
   {
    "duration": 35,
    "start_time": "2022-10-25T10:15:11.575Z"
   },
   {
    "duration": 10,
    "start_time": "2022-10-25T10:15:43.031Z"
   },
   {
    "duration": 436,
    "start_time": "2022-10-25T10:17:48.434Z"
   },
   {
    "duration": 23,
    "start_time": "2022-10-25T10:17:48.872Z"
   },
   {
    "duration": 17,
    "start_time": "2022-10-25T10:17:48.897Z"
   },
   {
    "duration": 10,
    "start_time": "2022-10-25T10:17:48.916Z"
   },
   {
    "duration": 70,
    "start_time": "2022-10-25T10:17:48.929Z"
   },
   {
    "duration": 5,
    "start_time": "2022-10-25T10:17:49.000Z"
   },
   {
    "duration": 13,
    "start_time": "2022-10-25T10:17:49.009Z"
   },
   {
    "duration": 5,
    "start_time": "2022-10-25T10:17:49.024Z"
   },
   {
    "duration": 9,
    "start_time": "2022-10-25T10:17:49.031Z"
   },
   {
    "duration": 4,
    "start_time": "2022-10-25T10:17:49.042Z"
   },
   {
    "duration": 62,
    "start_time": "2022-10-25T10:17:49.048Z"
   },
   {
    "duration": 9,
    "start_time": "2022-10-25T10:17:49.111Z"
   },
   {
    "duration": 3,
    "start_time": "2022-10-25T10:17:49.123Z"
   },
   {
    "duration": 13,
    "start_time": "2022-10-25T10:17:49.130Z"
   },
   {
    "duration": 23,
    "start_time": "2022-10-25T10:17:49.144Z"
   },
   {
    "duration": 38,
    "start_time": "2022-10-25T10:17:49.168Z"
   },
   {
    "duration": 4,
    "start_time": "2022-10-25T10:17:49.207Z"
   },
   {
    "duration": 10,
    "start_time": "2022-10-25T10:17:49.213Z"
   },
   {
    "duration": 7,
    "start_time": "2022-10-25T10:17:49.225Z"
   },
   {
    "duration": 3,
    "start_time": "2022-10-25T10:17:49.234Z"
   },
   {
    "duration": 11,
    "start_time": "2022-10-25T10:17:49.238Z"
   },
   {
    "duration": 78,
    "start_time": "2022-10-25T10:17:49.251Z"
   },
   {
    "duration": 10,
    "start_time": "2022-10-25T10:17:49.330Z"
   },
   {
    "duration": 9,
    "start_time": "2022-10-25T10:17:49.341Z"
   },
   {
    "duration": 3,
    "start_time": "2022-10-25T10:17:49.351Z"
   },
   {
    "duration": 4,
    "start_time": "2022-10-25T10:17:49.356Z"
   },
   {
    "duration": 29,
    "start_time": "2022-10-25T10:17:49.362Z"
   },
   {
    "duration": 10,
    "start_time": "2022-10-25T10:18:20.181Z"
   },
   {
    "duration": 8,
    "start_time": "2022-10-25T10:19:13.499Z"
   },
   {
    "duration": 9,
    "start_time": "2022-10-25T10:19:51.836Z"
   },
   {
    "duration": 8,
    "start_time": "2022-10-25T10:19:53.375Z"
   },
   {
    "duration": 8,
    "start_time": "2022-10-25T10:20:13.233Z"
   },
   {
    "duration": 5,
    "start_time": "2022-10-25T10:25:51.184Z"
   },
   {
    "duration": 28,
    "start_time": "2022-10-25T10:40:18.377Z"
   },
   {
    "duration": 36,
    "start_time": "2022-10-25T10:41:14.951Z"
   },
   {
    "duration": 64,
    "start_time": "2022-10-25T10:41:16.078Z"
   },
   {
    "duration": 8,
    "start_time": "2022-10-25T10:41:17.102Z"
   },
   {
    "duration": 31,
    "start_time": "2022-10-25T10:41:26.983Z"
   },
   {
    "duration": 27,
    "start_time": "2022-10-25T10:41:35.339Z"
   },
   {
    "duration": 8,
    "start_time": "2022-10-25T10:41:35.977Z"
   },
   {
    "duration": 12,
    "start_time": "2022-10-25T10:41:36.752Z"
   },
   {
    "duration": 6,
    "start_time": "2022-10-25T10:41:37.736Z"
   },
   {
    "duration": 2,
    "start_time": "2022-10-25T11:22:51.332Z"
   },
   {
    "duration": 6,
    "start_time": "2022-10-25T11:23:38.114Z"
   },
   {
    "duration": 8,
    "start_time": "2022-10-25T11:27:41.907Z"
   },
   {
    "duration": 11,
    "start_time": "2022-10-25T11:30:29.239Z"
   },
   {
    "duration": 9,
    "start_time": "2022-10-25T11:32:02.361Z"
   },
   {
    "duration": 457,
    "start_time": "2022-10-25T11:32:51.200Z"
   },
   {
    "duration": 21,
    "start_time": "2022-10-25T11:32:51.659Z"
   },
   {
    "duration": 12,
    "start_time": "2022-10-25T11:32:51.682Z"
   },
   {
    "duration": 9,
    "start_time": "2022-10-25T11:32:51.696Z"
   },
   {
    "duration": 32,
    "start_time": "2022-10-25T11:32:51.706Z"
   },
   {
    "duration": 3,
    "start_time": "2022-10-25T11:32:51.740Z"
   },
   {
    "duration": 12,
    "start_time": "2022-10-25T11:32:51.744Z"
   },
   {
    "duration": 4,
    "start_time": "2022-10-25T11:32:51.758Z"
   },
   {
    "duration": 31,
    "start_time": "2022-10-25T11:32:51.764Z"
   },
   {
    "duration": 4,
    "start_time": "2022-10-25T11:32:51.800Z"
   },
   {
    "duration": 38,
    "start_time": "2022-10-25T11:32:51.806Z"
   },
   {
    "duration": 10,
    "start_time": "2022-10-25T11:32:51.846Z"
   },
   {
    "duration": 4,
    "start_time": "2022-10-25T11:32:51.858Z"
   },
   {
    "duration": 35,
    "start_time": "2022-10-25T11:32:51.863Z"
   },
   {
    "duration": 18,
    "start_time": "2022-10-25T11:32:51.900Z"
   },
   {
    "duration": 16,
    "start_time": "2022-10-25T11:32:51.920Z"
   },
   {
    "duration": 4,
    "start_time": "2022-10-25T11:32:51.937Z"
   },
   {
    "duration": 15,
    "start_time": "2022-10-25T11:32:51.942Z"
   },
   {
    "duration": 7,
    "start_time": "2022-10-25T11:32:51.958Z"
   },
   {
    "duration": 25,
    "start_time": "2022-10-25T11:32:51.966Z"
   },
   {
    "duration": 12,
    "start_time": "2022-10-25T11:32:51.993Z"
   },
   {
    "duration": 29,
    "start_time": "2022-10-25T11:32:52.006Z"
   },
   {
    "duration": 9,
    "start_time": "2022-10-25T11:32:52.037Z"
   },
   {
    "duration": 86,
    "start_time": "2022-10-25T11:32:52.048Z"
   },
   {
    "duration": 0,
    "start_time": "2022-10-25T11:32:52.135Z"
   },
   {
    "duration": 0,
    "start_time": "2022-10-25T11:32:52.136Z"
   },
   {
    "duration": 0,
    "start_time": "2022-10-25T11:32:52.137Z"
   },
   {
    "duration": 0,
    "start_time": "2022-10-25T11:32:52.138Z"
   },
   {
    "duration": 0,
    "start_time": "2022-10-25T11:32:52.139Z"
   },
   {
    "duration": 0,
    "start_time": "2022-10-25T11:32:52.140Z"
   },
   {
    "duration": 0,
    "start_time": "2022-10-25T11:32:52.141Z"
   },
   {
    "duration": 11,
    "start_time": "2022-10-25T11:33:01.236Z"
   },
   {
    "duration": 478,
    "start_time": "2022-10-25T11:33:08.210Z"
   },
   {
    "duration": 24,
    "start_time": "2022-10-25T11:33:08.690Z"
   },
   {
    "duration": 16,
    "start_time": "2022-10-25T11:33:08.715Z"
   },
   {
    "duration": 24,
    "start_time": "2022-10-25T11:33:08.733Z"
   },
   {
    "duration": 52,
    "start_time": "2022-10-25T11:33:08.759Z"
   },
   {
    "duration": 4,
    "start_time": "2022-10-25T11:33:08.813Z"
   },
   {
    "duration": 23,
    "start_time": "2022-10-25T11:33:08.819Z"
   },
   {
    "duration": 13,
    "start_time": "2022-10-25T11:33:08.844Z"
   },
   {
    "duration": 20,
    "start_time": "2022-10-25T11:33:08.859Z"
   },
   {
    "duration": 4,
    "start_time": "2022-10-25T11:33:08.883Z"
   },
   {
    "duration": 36,
    "start_time": "2022-10-25T11:33:08.889Z"
   },
   {
    "duration": 9,
    "start_time": "2022-10-25T11:33:08.927Z"
   },
   {
    "duration": 5,
    "start_time": "2022-10-25T11:33:08.937Z"
   },
   {
    "duration": 29,
    "start_time": "2022-10-25T11:33:08.943Z"
   },
   {
    "duration": 23,
    "start_time": "2022-10-25T11:33:08.974Z"
   },
   {
    "duration": 17,
    "start_time": "2022-10-25T11:33:08.999Z"
   },
   {
    "duration": 3,
    "start_time": "2022-10-25T11:33:09.018Z"
   },
   {
    "duration": 12,
    "start_time": "2022-10-25T11:33:09.023Z"
   },
   {
    "duration": 8,
    "start_time": "2022-10-25T11:33:09.036Z"
   },
   {
    "duration": 5,
    "start_time": "2022-10-25T11:33:09.046Z"
   },
   {
    "duration": 10,
    "start_time": "2022-10-25T11:33:09.052Z"
   },
   {
    "duration": 55,
    "start_time": "2022-10-25T11:33:09.064Z"
   },
   {
    "duration": 8,
    "start_time": "2022-10-25T11:33:09.121Z"
   },
   {
    "duration": 83,
    "start_time": "2022-10-25T11:33:09.130Z"
   },
   {
    "duration": 0,
    "start_time": "2022-10-25T11:33:09.215Z"
   },
   {
    "duration": 0,
    "start_time": "2022-10-25T11:33:09.216Z"
   },
   {
    "duration": 0,
    "start_time": "2022-10-25T11:33:09.218Z"
   },
   {
    "duration": 0,
    "start_time": "2022-10-25T11:33:09.219Z"
   },
   {
    "duration": 0,
    "start_time": "2022-10-25T11:33:09.220Z"
   },
   {
    "duration": 0,
    "start_time": "2022-10-25T11:33:09.221Z"
   },
   {
    "duration": 0,
    "start_time": "2022-10-25T11:33:09.222Z"
   },
   {
    "duration": 439,
    "start_time": "2022-10-25T11:33:46.637Z"
   },
   {
    "duration": 21,
    "start_time": "2022-10-25T11:33:47.078Z"
   },
   {
    "duration": 14,
    "start_time": "2022-10-25T11:33:47.101Z"
   },
   {
    "duration": 8,
    "start_time": "2022-10-25T11:33:47.117Z"
   },
   {
    "duration": 32,
    "start_time": "2022-10-25T11:33:47.127Z"
   },
   {
    "duration": 3,
    "start_time": "2022-10-25T11:33:47.160Z"
   },
   {
    "duration": 32,
    "start_time": "2022-10-25T11:33:47.164Z"
   },
   {
    "duration": 5,
    "start_time": "2022-10-25T11:33:47.197Z"
   },
   {
    "duration": 9,
    "start_time": "2022-10-25T11:33:47.203Z"
   },
   {
    "duration": 4,
    "start_time": "2022-10-25T11:33:47.215Z"
   },
   {
    "duration": 33,
    "start_time": "2022-10-25T11:33:47.220Z"
   },
   {
    "duration": 37,
    "start_time": "2022-10-25T11:33:47.255Z"
   },
   {
    "duration": 4,
    "start_time": "2022-10-25T11:33:47.294Z"
   },
   {
    "duration": 12,
    "start_time": "2022-10-25T11:33:47.299Z"
   },
   {
    "duration": 25,
    "start_time": "2022-10-25T11:33:47.313Z"
   },
   {
    "duration": 17,
    "start_time": "2022-10-25T11:33:47.340Z"
   },
   {
    "duration": 4,
    "start_time": "2022-10-25T11:33:47.359Z"
   },
   {
    "duration": 32,
    "start_time": "2022-10-25T11:33:47.364Z"
   },
   {
    "duration": 10,
    "start_time": "2022-10-25T11:33:47.397Z"
   },
   {
    "duration": 3,
    "start_time": "2022-10-25T11:33:47.409Z"
   },
   {
    "duration": 12,
    "start_time": "2022-10-25T11:33:47.413Z"
   },
   {
    "duration": 30,
    "start_time": "2022-10-25T11:33:47.426Z"
   },
   {
    "duration": 8,
    "start_time": "2022-10-25T11:33:47.458Z"
   },
   {
    "duration": 8,
    "start_time": "2022-10-25T11:33:47.491Z"
   },
   {
    "duration": 5,
    "start_time": "2022-10-25T11:33:47.501Z"
   },
   {
    "duration": 8,
    "start_time": "2022-10-25T11:33:47.507Z"
   },
   {
    "duration": 9,
    "start_time": "2022-10-25T11:33:47.517Z"
   },
   {
    "duration": 9,
    "start_time": "2022-10-25T11:33:47.530Z"
   },
   {
    "duration": 97,
    "start_time": "2022-10-25T11:33:47.541Z"
   },
   {
    "duration": 0,
    "start_time": "2022-10-25T11:33:47.639Z"
   },
   {
    "duration": 0,
    "start_time": "2022-10-25T11:33:47.640Z"
   },
   {
    "duration": 9,
    "start_time": "2022-10-25T11:33:52.505Z"
   },
   {
    "duration": 486,
    "start_time": "2022-10-25T11:34:04.422Z"
   },
   {
    "duration": 23,
    "start_time": "2022-10-25T11:34:04.911Z"
   },
   {
    "duration": 15,
    "start_time": "2022-10-25T11:34:04.936Z"
   },
   {
    "duration": 9,
    "start_time": "2022-10-25T11:34:04.953Z"
   },
   {
    "duration": 66,
    "start_time": "2022-10-25T11:34:04.965Z"
   },
   {
    "duration": 3,
    "start_time": "2022-10-25T11:34:05.033Z"
   },
   {
    "duration": 13,
    "start_time": "2022-10-25T11:34:05.038Z"
   },
   {
    "duration": 4,
    "start_time": "2022-10-25T11:34:05.053Z"
   },
   {
    "duration": 8,
    "start_time": "2022-10-25T11:34:05.059Z"
   },
   {
    "duration": 5,
    "start_time": "2022-10-25T11:34:05.091Z"
   },
   {
    "duration": 33,
    "start_time": "2022-10-25T11:34:05.098Z"
   },
   {
    "duration": 9,
    "start_time": "2022-10-25T11:34:05.133Z"
   },
   {
    "duration": 5,
    "start_time": "2022-10-25T11:34:05.144Z"
   },
   {
    "duration": 39,
    "start_time": "2022-10-25T11:34:05.152Z"
   },
   {
    "duration": 21,
    "start_time": "2022-10-25T11:34:05.193Z"
   },
   {
    "duration": 16,
    "start_time": "2022-10-25T11:34:05.216Z"
   },
   {
    "duration": 3,
    "start_time": "2022-10-25T11:34:05.234Z"
   },
   {
    "duration": 10,
    "start_time": "2022-10-25T11:34:05.238Z"
   },
   {
    "duration": 6,
    "start_time": "2022-10-25T11:34:05.249Z"
   },
   {
    "duration": 4,
    "start_time": "2022-10-25T11:34:05.256Z"
   },
   {
    "duration": 36,
    "start_time": "2022-10-25T11:34:05.261Z"
   },
   {
    "duration": 31,
    "start_time": "2022-10-25T11:34:05.299Z"
   },
   {
    "duration": 8,
    "start_time": "2022-10-25T11:34:05.331Z"
   },
   {
    "duration": 7,
    "start_time": "2022-10-25T11:34:05.341Z"
   },
   {
    "duration": 5,
    "start_time": "2022-10-25T11:34:05.349Z"
   },
   {
    "duration": 38,
    "start_time": "2022-10-25T11:34:05.355Z"
   },
   {
    "duration": 7,
    "start_time": "2022-10-25T11:34:05.394Z"
   },
   {
    "duration": 13,
    "start_time": "2022-10-25T11:34:05.402Z"
   },
   {
    "duration": 8,
    "start_time": "2022-10-25T11:34:05.417Z"
   },
   {
    "duration": 3,
    "start_time": "2022-10-25T11:34:05.426Z"
   },
   {
    "duration": 6,
    "start_time": "2022-10-25T11:34:05.430Z"
   },
   {
    "duration": 9,
    "start_time": "2022-10-25T11:34:31.449Z"
   },
   {
    "duration": 132,
    "start_time": "2022-10-25T11:42:15.350Z"
   },
   {
    "duration": 4,
    "start_time": "2022-10-25T11:42:43.121Z"
   },
   {
    "duration": 4,
    "start_time": "2022-10-25T11:42:48.113Z"
   },
   {
    "duration": 65,
    "start_time": "2022-10-25T11:42:52.595Z"
   },
   {
    "duration": 9,
    "start_time": "2022-10-25T11:43:08.004Z"
   },
   {
    "duration": 270,
    "start_time": "2022-10-25T11:43:29.998Z"
   },
   {
    "duration": 16,
    "start_time": "2022-10-25T11:43:43.599Z"
   },
   {
    "duration": 8,
    "start_time": "2022-10-25T11:44:41.495Z"
   },
   {
    "duration": 13,
    "start_time": "2022-10-25T11:45:10.298Z"
   },
   {
    "duration": 17,
    "start_time": "2022-10-25T11:45:37.237Z"
   },
   {
    "duration": 15,
    "start_time": "2022-10-25T11:48:31.551Z"
   },
   {
    "duration": 12,
    "start_time": "2022-10-25T11:48:45.667Z"
   },
   {
    "duration": 13,
    "start_time": "2022-10-25T11:49:01.054Z"
   },
   {
    "duration": 1324,
    "start_time": "2022-10-25T11:52:43.671Z"
   },
   {
    "duration": 1131,
    "start_time": "2022-10-25T11:52:49.316Z"
   },
   {
    "duration": 6,
    "start_time": "2022-10-25T11:53:00.350Z"
   },
   {
    "duration": 19,
    "start_time": "2022-10-25T11:54:23.600Z"
   },
   {
    "duration": 19,
    "start_time": "2022-10-25T11:55:12.669Z"
   },
   {
    "duration": 14,
    "start_time": "2022-10-25T11:55:28.038Z"
   },
   {
    "duration": 15,
    "start_time": "2022-10-25T11:58:27.449Z"
   },
   {
    "duration": 11,
    "start_time": "2022-10-25T12:03:58.288Z"
   },
   {
    "duration": 15,
    "start_time": "2022-10-25T12:15:03.152Z"
   },
   {
    "duration": 22,
    "start_time": "2022-10-25T12:15:22.019Z"
   },
   {
    "duration": 16,
    "start_time": "2022-10-25T12:17:12.032Z"
   },
   {
    "duration": 19,
    "start_time": "2022-10-25T12:17:57.845Z"
   },
   {
    "duration": 20,
    "start_time": "2022-10-25T12:19:07.093Z"
   },
   {
    "duration": 21,
    "start_time": "2022-10-25T12:43:07.364Z"
   },
   {
    "duration": 18,
    "start_time": "2022-10-25T12:44:35.550Z"
   },
   {
    "duration": 21,
    "start_time": "2022-10-25T12:44:48.641Z"
   },
   {
    "duration": 10,
    "start_time": "2022-10-25T12:47:00.960Z"
   },
   {
    "duration": 16,
    "start_time": "2022-10-25T12:47:38.077Z"
   },
   {
    "duration": 16,
    "start_time": "2022-10-25T12:47:47.949Z"
   },
   {
    "duration": 44,
    "start_time": "2022-10-25T15:20:23.892Z"
   },
   {
    "duration": 6,
    "start_time": "2022-10-25T15:20:36.955Z"
   },
   {
    "duration": 627,
    "start_time": "2022-10-25T15:20:41.636Z"
   },
   {
    "duration": 20,
    "start_time": "2022-10-25T15:20:42.265Z"
   },
   {
    "duration": 15,
    "start_time": "2022-10-25T15:20:42.286Z"
   },
   {
    "duration": 7,
    "start_time": "2022-10-25T15:20:42.303Z"
   },
   {
    "duration": 29,
    "start_time": "2022-10-25T15:20:42.312Z"
   },
   {
    "duration": 3,
    "start_time": "2022-10-25T15:20:42.343Z"
   },
   {
    "duration": 9,
    "start_time": "2022-10-25T15:20:42.347Z"
   },
   {
    "duration": 8,
    "start_time": "2022-10-25T15:20:42.358Z"
   },
   {
    "duration": 7,
    "start_time": "2022-10-25T15:20:42.368Z"
   },
   {
    "duration": 24,
    "start_time": "2022-10-25T15:20:42.377Z"
   },
   {
    "duration": 28,
    "start_time": "2022-10-25T15:20:42.402Z"
   },
   {
    "duration": 8,
    "start_time": "2022-10-25T15:20:42.431Z"
   },
   {
    "duration": 3,
    "start_time": "2022-10-25T15:20:42.441Z"
   },
   {
    "duration": 12,
    "start_time": "2022-10-25T15:20:42.446Z"
   },
   {
    "duration": 42,
    "start_time": "2022-10-25T15:20:42.459Z"
   },
   {
    "duration": 14,
    "start_time": "2022-10-25T15:20:42.503Z"
   },
   {
    "duration": 3,
    "start_time": "2022-10-25T15:20:42.519Z"
   },
   {
    "duration": 10,
    "start_time": "2022-10-25T15:20:42.523Z"
   },
   {
    "duration": 5,
    "start_time": "2022-10-25T15:20:42.534Z"
   },
   {
    "duration": 3,
    "start_time": "2022-10-25T15:20:42.540Z"
   },
   {
    "duration": 11,
    "start_time": "2022-10-25T15:20:42.544Z"
   },
   {
    "duration": 51,
    "start_time": "2022-10-25T15:20:42.556Z"
   },
   {
    "duration": 7,
    "start_time": "2022-10-25T15:20:42.609Z"
   },
   {
    "duration": 6,
    "start_time": "2022-10-25T15:20:42.618Z"
   },
   {
    "duration": 4,
    "start_time": "2022-10-25T15:20:42.625Z"
   },
   {
    "duration": 8,
    "start_time": "2022-10-25T15:20:42.631Z"
   },
   {
    "duration": 17,
    "start_time": "2022-10-25T15:20:42.640Z"
   },
   {
    "duration": 47,
    "start_time": "2022-10-25T15:20:42.659Z"
   },
   {
    "duration": 25,
    "start_time": "2022-10-25T15:20:42.707Z"
   },
   {
    "duration": 13,
    "start_time": "2022-10-25T15:20:42.733Z"
   },
   {
    "duration": 4,
    "start_time": "2022-10-25T15:20:42.747Z"
   },
   {
    "duration": 9,
    "start_time": "2022-10-25T15:20:42.752Z"
   },
   {
    "duration": 13,
    "start_time": "2022-10-25T15:20:42.762Z"
   },
   {
    "duration": 24,
    "start_time": "2022-10-25T15:20:42.776Z"
   },
   {
    "duration": 14,
    "start_time": "2022-10-25T15:20:42.802Z"
   },
   {
    "duration": 17,
    "start_time": "2022-10-25T15:20:42.818Z"
   },
   {
    "duration": 3,
    "start_time": "2022-10-25T15:20:42.836Z"
   },
   {
    "duration": 15,
    "start_time": "2022-10-25T15:24:49.480Z"
   },
   {
    "duration": 406,
    "start_time": "2022-10-25T15:25:20.459Z"
   },
   {
    "duration": 20,
    "start_time": "2022-10-25T15:25:20.867Z"
   },
   {
    "duration": 15,
    "start_time": "2022-10-25T15:25:20.889Z"
   },
   {
    "duration": 12,
    "start_time": "2022-10-25T15:25:20.907Z"
   },
   {
    "duration": 42,
    "start_time": "2022-10-25T15:25:20.921Z"
   },
   {
    "duration": 4,
    "start_time": "2022-10-25T15:25:20.965Z"
   },
   {
    "duration": 12,
    "start_time": "2022-10-25T15:25:20.970Z"
   },
   {
    "duration": 10,
    "start_time": "2022-10-25T15:25:20.984Z"
   },
   {
    "duration": 20,
    "start_time": "2022-10-25T15:25:20.995Z"
   },
   {
    "duration": 4,
    "start_time": "2022-10-25T15:25:21.018Z"
   },
   {
    "duration": 48,
    "start_time": "2022-10-25T15:25:21.023Z"
   },
   {
    "duration": 9,
    "start_time": "2022-10-25T15:25:21.073Z"
   },
   {
    "duration": 4,
    "start_time": "2022-10-25T15:25:21.084Z"
   },
   {
    "duration": 18,
    "start_time": "2022-10-25T15:25:21.089Z"
   },
   {
    "duration": 19,
    "start_time": "2022-10-25T15:25:21.108Z"
   },
   {
    "duration": 16,
    "start_time": "2022-10-25T15:25:21.129Z"
   },
   {
    "duration": 4,
    "start_time": "2022-10-25T15:25:21.146Z"
   },
   {
    "duration": 23,
    "start_time": "2022-10-25T15:25:21.151Z"
   },
   {
    "duration": 11,
    "start_time": "2022-10-25T15:25:21.176Z"
   },
   {
    "duration": 16,
    "start_time": "2022-10-25T15:25:21.188Z"
   },
   {
    "duration": 26,
    "start_time": "2022-10-25T15:25:21.205Z"
   },
   {
    "duration": 46,
    "start_time": "2022-10-25T15:25:21.233Z"
   },
   {
    "duration": 9,
    "start_time": "2022-10-25T15:25:21.281Z"
   },
   {
    "duration": 8,
    "start_time": "2022-10-25T15:25:21.291Z"
   },
   {
    "duration": 5,
    "start_time": "2022-10-25T15:25:21.300Z"
   },
   {
    "duration": 7,
    "start_time": "2022-10-25T15:25:21.307Z"
   },
   {
    "duration": 27,
    "start_time": "2022-10-25T15:25:21.316Z"
   },
   {
    "duration": 18,
    "start_time": "2022-10-25T15:25:21.346Z"
   },
   {
    "duration": 32,
    "start_time": "2022-10-25T15:25:21.366Z"
   },
   {
    "duration": 14,
    "start_time": "2022-10-25T15:25:21.400Z"
   },
   {
    "duration": 35,
    "start_time": "2022-10-25T15:25:21.415Z"
   },
   {
    "duration": 11,
    "start_time": "2022-10-25T15:25:21.452Z"
   },
   {
    "duration": 20,
    "start_time": "2022-10-25T15:25:21.465Z"
   },
   {
    "duration": 17,
    "start_time": "2022-10-25T15:25:21.486Z"
   },
   {
    "duration": 19,
    "start_time": "2022-10-25T15:25:21.504Z"
   },
   {
    "duration": 21,
    "start_time": "2022-10-25T15:25:21.525Z"
   },
   {
    "duration": 17,
    "start_time": "2022-10-25T15:25:21.547Z"
   },
   {
    "duration": 2,
    "start_time": "2022-10-25T15:25:21.566Z"
   },
   {
    "duration": 23,
    "start_time": "2022-10-25T15:29:01.162Z"
   },
   {
    "duration": 8,
    "start_time": "2022-10-25T15:30:02.098Z"
   },
   {
    "duration": 52,
    "start_time": "2022-10-25T19:26:00.039Z"
   },
   {
    "duration": 707,
    "start_time": "2022-10-25T19:26:05.036Z"
   },
   {
    "duration": 21,
    "start_time": "2022-10-25T19:26:05.745Z"
   },
   {
    "duration": 31,
    "start_time": "2022-10-25T19:26:05.768Z"
   },
   {
    "duration": 37,
    "start_time": "2022-10-25T19:26:05.800Z"
   },
   {
    "duration": 72,
    "start_time": "2022-10-25T19:26:05.840Z"
   },
   {
    "duration": 3,
    "start_time": "2022-10-25T19:26:05.913Z"
   },
   {
    "duration": 43,
    "start_time": "2022-10-25T19:26:05.917Z"
   },
   {
    "duration": 36,
    "start_time": "2022-10-25T19:26:05.961Z"
   },
   {
    "duration": 34,
    "start_time": "2022-10-25T19:26:05.999Z"
   },
   {
    "duration": 72,
    "start_time": "2022-10-25T19:26:06.035Z"
   },
   {
    "duration": 81,
    "start_time": "2022-10-25T19:26:06.109Z"
   },
   {
    "duration": 11,
    "start_time": "2022-10-25T19:26:06.192Z"
   },
   {
    "duration": 78,
    "start_time": "2022-10-25T19:26:06.205Z"
   },
   {
    "duration": 60,
    "start_time": "2022-10-25T19:26:06.287Z"
   },
   {
    "duration": 69,
    "start_time": "2022-10-25T19:26:06.349Z"
   },
   {
    "duration": 62,
    "start_time": "2022-10-25T19:26:06.420Z"
   },
   {
    "duration": 7,
    "start_time": "2022-10-25T19:26:06.483Z"
   },
   {
    "duration": 41,
    "start_time": "2022-10-25T19:26:06.492Z"
   },
   {
    "duration": 14,
    "start_time": "2022-10-25T19:26:06.534Z"
   },
   {
    "duration": 5,
    "start_time": "2022-10-25T19:26:06.549Z"
   },
   {
    "duration": 22,
    "start_time": "2022-10-25T19:26:06.556Z"
   },
   {
    "duration": 31,
    "start_time": "2022-10-25T19:26:06.580Z"
   },
   {
    "duration": 7,
    "start_time": "2022-10-25T19:26:06.613Z"
   },
   {
    "duration": 7,
    "start_time": "2022-10-25T19:26:06.622Z"
   },
   {
    "duration": 8,
    "start_time": "2022-10-25T19:26:06.630Z"
   },
   {
    "duration": 16,
    "start_time": "2022-10-25T19:26:06.639Z"
   },
   {
    "duration": 19,
    "start_time": "2022-10-25T19:26:06.657Z"
   },
   {
    "duration": 47,
    "start_time": "2022-10-25T19:26:06.678Z"
   },
   {
    "duration": 14,
    "start_time": "2022-10-25T19:26:06.726Z"
   },
   {
    "duration": 16,
    "start_time": "2022-10-25T19:26:06.742Z"
   },
   {
    "duration": 11,
    "start_time": "2022-10-25T19:26:06.759Z"
   },
   {
    "duration": 39,
    "start_time": "2022-10-25T19:26:06.771Z"
   },
   {
    "duration": 16,
    "start_time": "2022-10-25T19:26:06.811Z"
   },
   {
    "duration": 14,
    "start_time": "2022-10-25T19:26:06.829Z"
   },
   {
    "duration": 25,
    "start_time": "2022-10-25T19:26:06.845Z"
   },
   {
    "duration": 17,
    "start_time": "2022-10-25T19:26:06.872Z"
   },
   {
    "duration": 8,
    "start_time": "2022-10-25T19:26:06.909Z"
   },
   {
    "duration": 19,
    "start_time": "2022-10-25T19:26:06.919Z"
   },
   {
    "duration": 8,
    "start_time": "2022-10-25T19:26:57.140Z"
   },
   {
    "duration": 15,
    "start_time": "2022-10-25T19:28:16.109Z"
   },
   {
    "duration": 8,
    "start_time": "2022-10-25T19:28:31.164Z"
   },
   {
    "duration": 8,
    "start_time": "2022-10-25T19:29:08.445Z"
   },
   {
    "duration": 8,
    "start_time": "2022-10-25T19:29:21.836Z"
   },
   {
    "duration": 467,
    "start_time": "2022-10-25T19:29:26.435Z"
   },
   {
    "duration": 22,
    "start_time": "2022-10-25T19:29:26.905Z"
   },
   {
    "duration": 14,
    "start_time": "2022-10-25T19:29:26.928Z"
   },
   {
    "duration": 9,
    "start_time": "2022-10-25T19:29:26.944Z"
   },
   {
    "duration": 31,
    "start_time": "2022-10-25T19:29:26.955Z"
   },
   {
    "duration": 23,
    "start_time": "2022-10-25T19:29:26.987Z"
   },
   {
    "duration": 10,
    "start_time": "2022-10-25T19:29:27.011Z"
   },
   {
    "duration": 6,
    "start_time": "2022-10-25T19:29:27.022Z"
   },
   {
    "duration": 31,
    "start_time": "2022-10-25T19:29:27.029Z"
   },
   {
    "duration": 8,
    "start_time": "2022-10-25T19:29:27.062Z"
   },
   {
    "duration": 47,
    "start_time": "2022-10-25T19:29:27.072Z"
   },
   {
    "duration": 9,
    "start_time": "2022-10-25T19:29:27.120Z"
   },
   {
    "duration": 4,
    "start_time": "2022-10-25T19:29:27.130Z"
   },
   {
    "duration": 12,
    "start_time": "2022-10-25T19:29:27.136Z"
   },
   {
    "duration": 19,
    "start_time": "2022-10-25T19:29:27.149Z"
   },
   {
    "duration": 17,
    "start_time": "2022-10-25T19:29:27.169Z"
   },
   {
    "duration": 5,
    "start_time": "2022-10-25T19:29:27.209Z"
   },
   {
    "duration": 12,
    "start_time": "2022-10-25T19:29:27.215Z"
   },
   {
    "duration": 11,
    "start_time": "2022-10-25T19:29:27.229Z"
   },
   {
    "duration": 5,
    "start_time": "2022-10-25T19:29:27.241Z"
   },
   {
    "duration": 9,
    "start_time": "2022-10-25T19:29:27.247Z"
   },
   {
    "duration": 26,
    "start_time": "2022-10-25T19:29:27.257Z"
   },
   {
    "duration": 8,
    "start_time": "2022-10-25T19:29:27.309Z"
   },
   {
    "duration": 6,
    "start_time": "2022-10-25T19:29:27.318Z"
   },
   {
    "duration": 5,
    "start_time": "2022-10-25T19:29:27.326Z"
   },
   {
    "duration": 12,
    "start_time": "2022-10-25T19:29:27.332Z"
   },
   {
    "duration": 17,
    "start_time": "2022-10-25T19:29:27.345Z"
   },
   {
    "duration": 49,
    "start_time": "2022-10-25T19:29:27.363Z"
   },
   {
    "duration": 13,
    "start_time": "2022-10-25T19:29:27.413Z"
   },
   {
    "duration": 15,
    "start_time": "2022-10-25T19:29:27.427Z"
   },
   {
    "duration": 13,
    "start_time": "2022-10-25T19:29:27.443Z"
   },
   {
    "duration": 8,
    "start_time": "2022-10-25T19:29:27.457Z"
   },
   {
    "duration": 11,
    "start_time": "2022-10-25T19:29:27.467Z"
   },
   {
    "duration": 34,
    "start_time": "2022-10-25T19:29:27.480Z"
   },
   {
    "duration": 16,
    "start_time": "2022-10-25T19:29:27.515Z"
   },
   {
    "duration": 15,
    "start_time": "2022-10-25T19:29:27.532Z"
   },
   {
    "duration": 7,
    "start_time": "2022-10-25T19:29:27.548Z"
   },
   {
    "duration": 21,
    "start_time": "2022-10-25T19:29:27.556Z"
   },
   {
    "duration": 34,
    "start_time": "2022-10-25T19:29:27.579Z"
   },
   {
    "duration": 754,
    "start_time": "2022-10-26T02:57:45.853Z"
   },
   {
    "duration": 24,
    "start_time": "2022-10-26T02:57:46.609Z"
   },
   {
    "duration": 18,
    "start_time": "2022-10-26T02:57:46.635Z"
   },
   {
    "duration": 12,
    "start_time": "2022-10-26T02:57:46.655Z"
   },
   {
    "duration": 42,
    "start_time": "2022-10-26T02:57:46.669Z"
   },
   {
    "duration": 4,
    "start_time": "2022-10-26T02:57:46.713Z"
   },
   {
    "duration": 14,
    "start_time": "2022-10-26T02:57:46.719Z"
   },
   {
    "duration": 23,
    "start_time": "2022-10-26T02:57:46.734Z"
   },
   {
    "duration": 23,
    "start_time": "2022-10-26T02:57:46.759Z"
   },
   {
    "duration": 6,
    "start_time": "2022-10-26T02:57:46.787Z"
   },
   {
    "duration": 41,
    "start_time": "2022-10-26T02:57:46.795Z"
   },
   {
    "duration": 17,
    "start_time": "2022-10-26T02:57:46.838Z"
   },
   {
    "duration": 4,
    "start_time": "2022-10-26T02:57:46.856Z"
   },
   {
    "duration": 31,
    "start_time": "2022-10-26T02:57:46.862Z"
   },
   {
    "duration": 29,
    "start_time": "2022-10-26T02:57:46.894Z"
   },
   {
    "duration": 29,
    "start_time": "2022-10-26T02:57:46.925Z"
   },
   {
    "duration": 4,
    "start_time": "2022-10-26T02:57:46.956Z"
   },
   {
    "duration": 21,
    "start_time": "2022-10-26T02:57:46.961Z"
   },
   {
    "duration": 16,
    "start_time": "2022-10-26T02:57:46.984Z"
   },
   {
    "duration": 5,
    "start_time": "2022-10-26T02:57:47.002Z"
   },
   {
    "duration": 26,
    "start_time": "2022-10-26T02:57:47.009Z"
   },
   {
    "duration": 47,
    "start_time": "2022-10-26T02:57:47.037Z"
   },
   {
    "duration": 10,
    "start_time": "2022-10-26T02:57:47.085Z"
   },
   {
    "duration": 8,
    "start_time": "2022-10-26T02:57:47.097Z"
   },
   {
    "duration": 5,
    "start_time": "2022-10-26T02:57:47.107Z"
   },
   {
    "duration": 42,
    "start_time": "2022-10-26T02:57:47.114Z"
   },
   {
    "duration": 40,
    "start_time": "2022-10-26T02:57:47.158Z"
   },
   {
    "duration": 25,
    "start_time": "2022-10-26T02:57:47.201Z"
   },
   {
    "duration": 35,
    "start_time": "2022-10-26T02:57:47.228Z"
   },
   {
    "duration": 17,
    "start_time": "2022-10-26T02:57:47.264Z"
   },
   {
    "duration": 6,
    "start_time": "2022-10-26T02:57:47.283Z"
   },
   {
    "duration": 12,
    "start_time": "2022-10-26T02:57:47.291Z"
   },
   {
    "duration": 49,
    "start_time": "2022-10-26T02:57:47.305Z"
   },
   {
    "duration": 10,
    "start_time": "2022-10-26T02:57:47.356Z"
   },
   {
    "duration": 43,
    "start_time": "2022-10-26T02:57:47.368Z"
   },
   {
    "duration": 17,
    "start_time": "2022-10-26T02:57:47.413Z"
   },
   {
    "duration": 15,
    "start_time": "2022-10-26T02:57:47.432Z"
   },
   {
    "duration": 25,
    "start_time": "2022-10-26T02:57:47.453Z"
   },
   {
    "duration": 11,
    "start_time": "2022-10-26T02:57:47.481Z"
   },
   {
    "duration": 693,
    "start_time": "2022-10-26T13:23:12.736Z"
   },
   {
    "duration": 22,
    "start_time": "2022-10-26T13:23:13.431Z"
   },
   {
    "duration": 14,
    "start_time": "2022-10-26T13:23:13.454Z"
   },
   {
    "duration": 29,
    "start_time": "2022-10-26T13:23:13.470Z"
   },
   {
    "duration": 49,
    "start_time": "2022-10-26T13:23:13.501Z"
   },
   {
    "duration": 3,
    "start_time": "2022-10-26T13:23:13.552Z"
   },
   {
    "duration": 49,
    "start_time": "2022-10-26T13:23:13.556Z"
   },
   {
    "duration": 21,
    "start_time": "2022-10-26T13:23:13.606Z"
   },
   {
    "duration": 32,
    "start_time": "2022-10-26T13:23:13.628Z"
   },
   {
    "duration": 35,
    "start_time": "2022-10-26T13:23:13.661Z"
   },
   {
    "duration": 54,
    "start_time": "2022-10-26T13:23:13.697Z"
   },
   {
    "duration": 9,
    "start_time": "2022-10-26T13:23:13.753Z"
   },
   {
    "duration": 39,
    "start_time": "2022-10-26T13:23:13.763Z"
   },
   {
    "duration": 51,
    "start_time": "2022-10-26T13:23:13.805Z"
   },
   {
    "duration": 46,
    "start_time": "2022-10-26T13:23:13.858Z"
   },
   {
    "duration": 22,
    "start_time": "2022-10-26T13:23:13.906Z"
   },
   {
    "duration": 18,
    "start_time": "2022-10-26T13:23:13.930Z"
   },
   {
    "duration": 35,
    "start_time": "2022-10-26T13:23:13.949Z"
   },
   {
    "duration": 42,
    "start_time": "2022-10-26T13:23:13.986Z"
   },
   {
    "duration": 15,
    "start_time": "2022-10-26T13:23:14.030Z"
   },
   {
    "duration": 48,
    "start_time": "2022-10-26T13:23:14.047Z"
   },
   {
    "duration": 52,
    "start_time": "2022-10-26T13:23:14.096Z"
   },
   {
    "duration": 8,
    "start_time": "2022-10-26T13:23:14.150Z"
   },
   {
    "duration": 26,
    "start_time": "2022-10-26T13:23:14.159Z"
   },
   {
    "duration": 30,
    "start_time": "2022-10-26T13:23:14.187Z"
   },
   {
    "duration": 26,
    "start_time": "2022-10-26T13:23:14.218Z"
   },
   {
    "duration": 45,
    "start_time": "2022-10-26T13:23:14.246Z"
   },
   {
    "duration": 40,
    "start_time": "2022-10-26T13:23:14.292Z"
   },
   {
    "duration": 11,
    "start_time": "2022-10-26T13:23:14.334Z"
   },
   {
    "duration": 25,
    "start_time": "2022-10-26T13:23:14.347Z"
   },
   {
    "duration": 31,
    "start_time": "2022-10-26T13:23:14.374Z"
   },
   {
    "duration": 25,
    "start_time": "2022-10-26T13:23:14.406Z"
   },
   {
    "duration": 65,
    "start_time": "2022-10-26T13:23:14.433Z"
   },
   {
    "duration": 46,
    "start_time": "2022-10-26T13:23:14.500Z"
   },
   {
    "duration": 44,
    "start_time": "2022-10-26T13:23:14.547Z"
   },
   {
    "duration": 37,
    "start_time": "2022-10-26T13:23:14.592Z"
   },
   {
    "duration": 18,
    "start_time": "2022-10-26T13:23:14.630Z"
   },
   {
    "duration": 58,
    "start_time": "2022-10-26T13:23:14.650Z"
   },
   {
    "duration": 25,
    "start_time": "2022-10-26T13:23:14.710Z"
   },
   {
    "duration": 537,
    "start_time": "2022-10-26T17:08:25.860Z"
   },
   {
    "duration": 21,
    "start_time": "2022-10-26T17:08:26.399Z"
   },
   {
    "duration": 16,
    "start_time": "2022-10-26T17:08:26.422Z"
   },
   {
    "duration": 9,
    "start_time": "2022-10-26T17:08:26.441Z"
   },
   {
    "duration": 49,
    "start_time": "2022-10-26T17:08:26.452Z"
   },
   {
    "duration": 3,
    "start_time": "2022-10-26T17:08:26.503Z"
   },
   {
    "duration": 10,
    "start_time": "2022-10-26T17:08:26.508Z"
   },
   {
    "duration": 5,
    "start_time": "2022-10-26T17:08:26.520Z"
   },
   {
    "duration": 8,
    "start_time": "2022-10-26T17:08:26.527Z"
   },
   {
    "duration": 5,
    "start_time": "2022-10-26T17:08:26.538Z"
   },
   {
    "duration": 67,
    "start_time": "2022-10-26T17:08:26.545Z"
   },
   {
    "duration": 12,
    "start_time": "2022-10-26T17:08:26.614Z"
   },
   {
    "duration": 4,
    "start_time": "2022-10-26T17:08:26.628Z"
   },
   {
    "duration": 14,
    "start_time": "2022-10-26T17:08:26.634Z"
   },
   {
    "duration": 50,
    "start_time": "2022-10-26T17:08:26.650Z"
   },
   {
    "duration": 21,
    "start_time": "2022-10-26T17:08:26.702Z"
   },
   {
    "duration": 5,
    "start_time": "2022-10-26T17:08:26.725Z"
   },
   {
    "duration": 13,
    "start_time": "2022-10-26T17:08:26.732Z"
   },
   {
    "duration": 9,
    "start_time": "2022-10-26T17:08:26.747Z"
   },
   {
    "duration": 34,
    "start_time": "2022-10-26T17:08:26.758Z"
   },
   {
    "duration": 11,
    "start_time": "2022-10-26T17:08:26.793Z"
   },
   {
    "duration": 31,
    "start_time": "2022-10-26T17:08:26.805Z"
   },
   {
    "duration": 10,
    "start_time": "2022-10-26T17:08:26.838Z"
   },
   {
    "duration": 6,
    "start_time": "2022-10-26T17:08:26.850Z"
   },
   {
    "duration": 38,
    "start_time": "2022-10-26T17:08:26.858Z"
   },
   {
    "duration": 9,
    "start_time": "2022-10-26T17:08:26.897Z"
   },
   {
    "duration": 19,
    "start_time": "2022-10-26T17:08:26.907Z"
   },
   {
    "duration": 21,
    "start_time": "2022-10-26T17:08:26.929Z"
   },
   {
    "duration": 46,
    "start_time": "2022-10-26T17:08:26.952Z"
   },
   {
    "duration": 15,
    "start_time": "2022-10-26T17:08:26.999Z"
   },
   {
    "duration": 25,
    "start_time": "2022-10-26T17:08:27.016Z"
   },
   {
    "duration": 24,
    "start_time": "2022-10-26T17:08:27.043Z"
   },
   {
    "duration": 19,
    "start_time": "2022-10-26T17:08:27.069Z"
   },
   {
    "duration": 9,
    "start_time": "2022-10-26T17:08:27.090Z"
   },
   {
    "duration": 26,
    "start_time": "2022-10-26T17:08:27.101Z"
   },
   {
    "duration": 25,
    "start_time": "2022-10-26T17:08:27.129Z"
   },
   {
    "duration": 8,
    "start_time": "2022-10-26T17:08:27.155Z"
   },
   {
    "duration": 105,
    "start_time": "2022-10-26T17:08:27.164Z"
   },
   {
    "duration": 8,
    "start_time": "2022-10-26T17:08:27.271Z"
   },
   {
    "duration": 85,
    "start_time": "2022-10-28T11:58:25.783Z"
   },
   {
    "duration": 540,
    "start_time": "2022-10-28T12:17:53.794Z"
   },
   {
    "duration": 26,
    "start_time": "2022-10-28T12:17:54.336Z"
   },
   {
    "duration": 14,
    "start_time": "2022-10-28T12:17:54.364Z"
   },
   {
    "duration": 14,
    "start_time": "2022-10-28T12:17:54.380Z"
   },
   {
    "duration": 40,
    "start_time": "2022-10-28T12:17:54.396Z"
   },
   {
    "duration": 5,
    "start_time": "2022-10-28T12:17:54.438Z"
   },
   {
    "duration": 13,
    "start_time": "2022-10-28T12:17:54.445Z"
   },
   {
    "duration": 32,
    "start_time": "2022-10-28T12:17:54.460Z"
   },
   {
    "duration": 8,
    "start_time": "2022-10-28T12:17:54.494Z"
   },
   {
    "duration": 4,
    "start_time": "2022-10-28T12:17:54.507Z"
   },
   {
    "duration": 36,
    "start_time": "2022-10-28T12:17:54.513Z"
   },
   {
    "duration": 43,
    "start_time": "2022-10-28T12:17:54.551Z"
   },
   {
    "duration": 4,
    "start_time": "2022-10-28T12:17:54.596Z"
   },
   {
    "duration": 13,
    "start_time": "2022-10-28T12:17:54.601Z"
   },
   {
    "duration": 23,
    "start_time": "2022-10-28T12:17:54.616Z"
   },
   {
    "duration": 18,
    "start_time": "2022-10-28T12:17:54.641Z"
   },
   {
    "duration": 3,
    "start_time": "2022-10-28T12:17:54.661Z"
   },
   {
    "duration": 39,
    "start_time": "2022-10-28T12:17:54.665Z"
   },
   {
    "duration": 5,
    "start_time": "2022-10-28T12:17:54.706Z"
   },
   {
    "duration": 4,
    "start_time": "2022-10-28T12:17:54.713Z"
   },
   {
    "duration": 13,
    "start_time": "2022-10-28T12:17:54.718Z"
   },
   {
    "duration": 29,
    "start_time": "2022-10-28T12:17:54.732Z"
   },
   {
    "duration": 14,
    "start_time": "2022-10-28T12:17:54.792Z"
   },
   {
    "duration": 7,
    "start_time": "2022-10-28T12:17:54.807Z"
   },
   {
    "duration": 5,
    "start_time": "2022-10-28T12:17:54.815Z"
   },
   {
    "duration": 10,
    "start_time": "2022-10-28T12:17:54.821Z"
   },
   {
    "duration": 19,
    "start_time": "2022-10-28T12:17:54.832Z"
   },
   {
    "duration": 22,
    "start_time": "2022-10-28T12:17:54.890Z"
   },
   {
    "duration": 13,
    "start_time": "2022-10-28T12:17:54.914Z"
   },
   {
    "duration": 18,
    "start_time": "2022-10-28T12:17:54.928Z"
   },
   {
    "duration": 5,
    "start_time": "2022-10-28T12:17:54.947Z"
   },
   {
    "duration": 40,
    "start_time": "2022-10-28T12:17:54.954Z"
   },
   {
    "duration": 11,
    "start_time": "2022-10-28T12:17:54.996Z"
   },
   {
    "duration": 9,
    "start_time": "2022-10-28T12:17:55.009Z"
   },
   {
    "duration": 18,
    "start_time": "2022-10-28T12:17:55.019Z"
   },
   {
    "duration": 54,
    "start_time": "2022-10-28T12:17:55.039Z"
   },
   {
    "duration": 12,
    "start_time": "2022-10-28T12:17:55.095Z"
   },
   {
    "duration": 23,
    "start_time": "2022-10-28T12:17:55.109Z"
   },
   {
    "duration": 10,
    "start_time": "2022-10-28T12:17:55.133Z"
   },
   {
    "duration": 62,
    "start_time": "2022-10-28T12:21:58.190Z"
   },
   {
    "duration": 8,
    "start_time": "2022-10-28T12:22:33.466Z"
   },
   {
    "duration": 3,
    "start_time": "2022-10-28T12:23:07.056Z"
   },
   {
    "duration": 8,
    "start_time": "2022-10-28T12:23:24.258Z"
   },
   {
    "duration": 5,
    "start_time": "2022-10-28T12:23:31.163Z"
   },
   {
    "duration": 4,
    "start_time": "2022-10-28T12:24:08.975Z"
   },
   {
    "duration": 23,
    "start_time": "2022-10-28T12:24:49.436Z"
   },
   {
    "duration": 18,
    "start_time": "2022-10-28T12:25:59.923Z"
   },
   {
    "duration": 24,
    "start_time": "2022-10-28T12:34:01.617Z"
   },
   {
    "duration": 1148,
    "start_time": "2022-10-28T12:34:14.714Z"
   },
   {
    "duration": 17,
    "start_time": "2022-10-28T12:34:23.587Z"
   },
   {
    "duration": 17,
    "start_time": "2022-10-28T12:34:35.220Z"
   },
   {
    "duration": 20,
    "start_time": "2022-10-28T12:36:50.517Z"
   },
   {
    "duration": 18,
    "start_time": "2022-10-28T12:37:02.189Z"
   },
   {
    "duration": 20,
    "start_time": "2022-10-28T12:37:22.415Z"
   },
   {
    "duration": 18,
    "start_time": "2022-10-28T12:37:53.411Z"
   },
   {
    "duration": 19,
    "start_time": "2022-10-28T12:38:05.901Z"
   },
   {
    "duration": 77,
    "start_time": "2022-10-28T12:39:16.661Z"
   },
   {
    "duration": 13,
    "start_time": "2022-10-28T12:39:23.173Z"
   },
   {
    "duration": 18,
    "start_time": "2022-10-28T12:39:39.381Z"
   },
   {
    "duration": 146,
    "start_time": "2022-10-28T12:40:43.463Z"
   },
   {
    "duration": 7,
    "start_time": "2022-10-28T13:23:32.622Z"
   },
   {
    "duration": 7,
    "start_time": "2022-10-28T13:23:51.328Z"
   },
   {
    "duration": 68,
    "start_time": "2022-10-28T13:33:56.308Z"
   },
   {
    "duration": 7,
    "start_time": "2022-10-28T13:34:16.111Z"
   },
   {
    "duration": 6,
    "start_time": "2022-10-28T13:35:52.379Z"
   },
   {
    "duration": 9,
    "start_time": "2022-10-28T13:49:02.794Z"
   },
   {
    "duration": 7,
    "start_time": "2022-10-28T13:49:43.407Z"
   },
   {
    "duration": 993,
    "start_time": "2022-10-28T19:24:26.165Z"
   },
   {
    "duration": 21,
    "start_time": "2022-10-28T19:24:27.160Z"
   },
   {
    "duration": 15,
    "start_time": "2022-10-28T19:24:27.183Z"
   },
   {
    "duration": 14,
    "start_time": "2022-10-28T19:24:27.200Z"
   },
   {
    "duration": 49,
    "start_time": "2022-10-28T19:24:27.216Z"
   },
   {
    "duration": 3,
    "start_time": "2022-10-28T19:24:27.267Z"
   },
   {
    "duration": 9,
    "start_time": "2022-10-28T19:24:27.272Z"
   },
   {
    "duration": 4,
    "start_time": "2022-10-28T19:24:27.283Z"
   },
   {
    "duration": 8,
    "start_time": "2022-10-28T19:24:27.288Z"
   },
   {
    "duration": 4,
    "start_time": "2022-10-28T19:24:27.298Z"
   },
   {
    "duration": 41,
    "start_time": "2022-10-28T19:24:27.322Z"
   },
   {
    "duration": 9,
    "start_time": "2022-10-28T19:24:27.364Z"
   },
   {
    "duration": 5,
    "start_time": "2022-10-28T19:24:27.374Z"
   },
   {
    "duration": 11,
    "start_time": "2022-10-28T19:24:27.381Z"
   },
   {
    "duration": 38,
    "start_time": "2022-10-28T19:24:27.394Z"
   },
   {
    "duration": 15,
    "start_time": "2022-10-28T19:24:27.433Z"
   },
   {
    "duration": 4,
    "start_time": "2022-10-28T19:24:27.449Z"
   },
   {
    "duration": 19,
    "start_time": "2022-10-28T19:24:27.454Z"
   },
   {
    "duration": 11,
    "start_time": "2022-10-28T19:24:27.475Z"
   },
   {
    "duration": 6,
    "start_time": "2022-10-28T19:24:27.488Z"
   },
   {
    "duration": 32,
    "start_time": "2022-10-28T19:24:27.495Z"
   },
   {
    "duration": 33,
    "start_time": "2022-10-28T19:24:27.528Z"
   },
   {
    "duration": 9,
    "start_time": "2022-10-28T19:24:27.563Z"
   },
   {
    "duration": 10,
    "start_time": "2022-10-28T19:24:27.574Z"
   },
   {
    "duration": 6,
    "start_time": "2022-10-28T19:24:27.585Z"
   },
   {
    "duration": 30,
    "start_time": "2022-10-28T19:24:27.592Z"
   },
   {
    "duration": 16,
    "start_time": "2022-10-28T19:24:27.624Z"
   },
   {
    "duration": 19,
    "start_time": "2022-10-28T19:24:27.642Z"
   },
   {
    "duration": 11,
    "start_time": "2022-10-28T19:24:27.662Z"
   },
   {
    "duration": 18,
    "start_time": "2022-10-28T19:24:27.674Z"
   },
   {
    "duration": 45,
    "start_time": "2022-10-28T19:24:27.693Z"
   },
   {
    "duration": 8,
    "start_time": "2022-10-28T19:24:27.740Z"
   },
   {
    "duration": 15,
    "start_time": "2022-10-28T19:24:27.749Z"
   },
   {
    "duration": 22,
    "start_time": "2022-10-28T19:24:27.766Z"
   },
   {
    "duration": 9,
    "start_time": "2022-10-28T19:24:27.790Z"
   },
   {
    "duration": 35,
    "start_time": "2022-10-28T19:24:27.801Z"
   },
   {
    "duration": 6,
    "start_time": "2022-10-28T19:24:27.837Z"
   },
   {
    "duration": 29,
    "start_time": "2022-10-28T19:24:27.845Z"
   },
   {
    "duration": 20,
    "start_time": "2022-10-28T19:24:27.876Z"
   },
   {
    "duration": 9,
    "start_time": "2022-10-28T19:24:27.897Z"
   },
   {
    "duration": 20,
    "start_time": "2022-10-28T19:24:27.908Z"
   },
   {
    "duration": 7,
    "start_time": "2022-10-28T19:24:27.930Z"
   },
   {
    "duration": 5,
    "start_time": "2022-10-28T19:24:27.939Z"
   },
   {
    "duration": 687,
    "start_time": "2022-10-29T08:15:19.350Z"
   },
   {
    "duration": 22,
    "start_time": "2022-10-29T08:15:20.039Z"
   },
   {
    "duration": 20,
    "start_time": "2022-10-29T08:15:20.062Z"
   },
   {
    "duration": 9,
    "start_time": "2022-10-29T08:15:20.083Z"
   },
   {
    "duration": 48,
    "start_time": "2022-10-29T08:15:20.094Z"
   },
   {
    "duration": 3,
    "start_time": "2022-10-29T08:15:20.144Z"
   },
   {
    "duration": 9,
    "start_time": "2022-10-29T08:15:20.148Z"
   },
   {
    "duration": 4,
    "start_time": "2022-10-29T08:15:20.159Z"
   },
   {
    "duration": 10,
    "start_time": "2022-10-29T08:15:20.164Z"
   },
   {
    "duration": 3,
    "start_time": "2022-10-29T08:15:20.176Z"
   },
   {
    "duration": 58,
    "start_time": "2022-10-29T08:15:20.181Z"
   },
   {
    "duration": 9,
    "start_time": "2022-10-29T08:15:20.240Z"
   },
   {
    "duration": 6,
    "start_time": "2022-10-29T08:15:20.251Z"
   },
   {
    "duration": 12,
    "start_time": "2022-10-29T08:15:20.259Z"
   },
   {
    "duration": 19,
    "start_time": "2022-10-29T08:15:20.273Z"
   },
   {
    "duration": 50,
    "start_time": "2022-10-29T08:15:20.294Z"
   },
   {
    "duration": 4,
    "start_time": "2022-10-29T08:15:20.345Z"
   },
   {
    "duration": 13,
    "start_time": "2022-10-29T08:15:20.351Z"
   },
   {
    "duration": 5,
    "start_time": "2022-10-29T08:15:20.366Z"
   },
   {
    "duration": 4,
    "start_time": "2022-10-29T08:15:20.373Z"
   },
   {
    "duration": 16,
    "start_time": "2022-10-29T08:15:20.379Z"
   },
   {
    "duration": 58,
    "start_time": "2022-10-29T08:15:20.396Z"
   },
   {
    "duration": 9,
    "start_time": "2022-10-29T08:15:20.455Z"
   },
   {
    "duration": 6,
    "start_time": "2022-10-29T08:15:20.466Z"
   },
   {
    "duration": 5,
    "start_time": "2022-10-29T08:15:20.474Z"
   },
   {
    "duration": 10,
    "start_time": "2022-10-29T08:15:20.480Z"
   },
   {
    "duration": 65,
    "start_time": "2022-10-29T08:15:20.491Z"
   },
   {
    "duration": 20,
    "start_time": "2022-10-29T08:15:20.559Z"
   },
   {
    "duration": 13,
    "start_time": "2022-10-29T08:15:20.580Z"
   },
   {
    "duration": 45,
    "start_time": "2022-10-29T08:15:20.595Z"
   },
   {
    "duration": 23,
    "start_time": "2022-10-29T08:15:20.642Z"
   },
   {
    "duration": 6,
    "start_time": "2022-10-29T08:15:20.668Z"
   },
   {
    "duration": 13,
    "start_time": "2022-10-29T08:15:20.677Z"
   },
   {
    "duration": 16,
    "start_time": "2022-10-29T08:15:20.692Z"
   },
   {
    "duration": 33,
    "start_time": "2022-10-29T08:15:20.710Z"
   },
   {
    "duration": 23,
    "start_time": "2022-10-29T08:15:20.745Z"
   },
   {
    "duration": 6,
    "start_time": "2022-10-29T08:15:20.770Z"
   },
   {
    "duration": 22,
    "start_time": "2022-10-29T08:15:20.777Z"
   },
   {
    "duration": 40,
    "start_time": "2022-10-29T08:15:20.800Z"
   },
   {
    "duration": 7,
    "start_time": "2022-10-29T08:15:20.842Z"
   },
   {
    "duration": 20,
    "start_time": "2022-10-29T08:15:20.851Z"
   },
   {
    "duration": 9,
    "start_time": "2022-10-29T08:15:20.873Z"
   },
   {
    "duration": 6,
    "start_time": "2022-10-29T08:15:20.883Z"
   },
   {
    "duration": 79,
    "start_time": "2022-10-29T08:19:42.491Z"
   },
   {
    "duration": 28,
    "start_time": "2022-10-29T08:19:57.151Z"
   },
   {
    "duration": 22,
    "start_time": "2022-10-29T08:21:31.408Z"
   },
   {
    "duration": 19,
    "start_time": "2022-10-29T08:27:56.180Z"
   },
   {
    "duration": 19,
    "start_time": "2022-10-29T08:28:06.124Z"
   },
   {
    "duration": 21,
    "start_time": "2022-10-29T08:28:11.805Z"
   },
   {
    "duration": 22,
    "start_time": "2022-10-29T08:38:08.668Z"
   },
   {
    "duration": 34,
    "start_time": "2022-10-29T08:38:41.661Z"
   },
   {
    "duration": 11,
    "start_time": "2022-10-29T08:40:27.598Z"
   },
   {
    "duration": 9,
    "start_time": "2022-10-29T08:40:47.882Z"
   },
   {
    "duration": 10,
    "start_time": "2022-10-29T08:41:13.006Z"
   },
   {
    "duration": 15,
    "start_time": "2022-10-29T08:41:27.126Z"
   },
   {
    "duration": 10,
    "start_time": "2022-10-29T08:42:21.259Z"
   },
   {
    "duration": 23,
    "start_time": "2022-10-29T08:45:30.003Z"
   },
   {
    "duration": 25,
    "start_time": "2022-10-29T08:46:56.809Z"
   },
   {
    "duration": 27,
    "start_time": "2022-10-29T08:49:14.075Z"
   },
   {
    "duration": 23,
    "start_time": "2022-10-29T08:50:57.310Z"
   },
   {
    "duration": 24,
    "start_time": "2022-10-29T08:51:05.310Z"
   },
   {
    "duration": 34,
    "start_time": "2022-10-29T08:51:31.754Z"
   },
   {
    "duration": 23,
    "start_time": "2022-10-29T08:51:53.789Z"
   },
   {
    "duration": 23,
    "start_time": "2022-10-29T08:52:39.595Z"
   },
   {
    "duration": 6,
    "start_time": "2022-10-29T08:53:49.234Z"
   },
   {
    "duration": 13,
    "start_time": "2022-10-29T08:53:54.378Z"
   },
   {
    "duration": 8,
    "start_time": "2022-10-29T08:54:00.234Z"
   },
   {
    "duration": 11,
    "start_time": "2022-10-29T08:54:07.179Z"
   },
   {
    "duration": 24,
    "start_time": "2022-10-29T08:56:18.427Z"
   },
   {
    "duration": 25,
    "start_time": "2022-10-29T09:03:50.576Z"
   },
   {
    "duration": 31,
    "start_time": "2022-10-29T09:04:09.521Z"
   },
   {
    "duration": 35,
    "start_time": "2022-10-29T09:04:17.496Z"
   },
   {
    "duration": 29,
    "start_time": "2022-10-29T09:04:20.969Z"
   },
   {
    "duration": 29,
    "start_time": "2022-10-29T09:09:31.657Z"
   },
   {
    "duration": 30,
    "start_time": "2022-10-29T09:10:43.028Z"
   },
   {
    "duration": 26,
    "start_time": "2022-10-29T09:11:13.640Z"
   },
   {
    "duration": 27,
    "start_time": "2022-10-29T09:11:38.235Z"
   },
   {
    "duration": 8,
    "start_time": "2022-10-29T09:12:21.728Z"
   },
   {
    "duration": 9,
    "start_time": "2022-10-29T09:12:29.055Z"
   },
   {
    "duration": 30,
    "start_time": "2022-10-29T09:16:25.978Z"
   },
   {
    "duration": 30,
    "start_time": "2022-10-29T09:17:33.954Z"
   },
   {
    "duration": 34,
    "start_time": "2022-10-29T09:20:49.345Z"
   },
   {
    "duration": 31,
    "start_time": "2022-10-29T09:23:16.938Z"
   },
   {
    "duration": 17,
    "start_time": "2022-10-29T10:20:59.766Z"
   },
   {
    "duration": 33,
    "start_time": "2022-10-29T10:50:19.488Z"
   },
   {
    "duration": 53,
    "start_time": "2022-10-29T10:51:24.466Z"
   },
   {
    "duration": 35,
    "start_time": "2022-10-29T10:51:33.555Z"
   },
   {
    "duration": 8,
    "start_time": "2022-10-29T10:52:16.048Z"
   },
   {
    "duration": 18,
    "start_time": "2022-10-29T10:52:42.226Z"
   },
   {
    "duration": 36,
    "start_time": "2022-10-29T10:53:47.747Z"
   },
   {
    "duration": 35,
    "start_time": "2022-10-29T10:54:20.533Z"
   },
   {
    "duration": 31,
    "start_time": "2022-10-29T11:28:14.937Z"
   },
   {
    "duration": 541,
    "start_time": "2022-10-29T11:28:26.117Z"
   },
   {
    "duration": 29,
    "start_time": "2022-10-29T11:28:26.661Z"
   },
   {
    "duration": 14,
    "start_time": "2022-10-29T11:28:26.692Z"
   },
   {
    "duration": 30,
    "start_time": "2022-10-29T11:28:26.709Z"
   },
   {
    "duration": 36,
    "start_time": "2022-10-29T11:28:26.740Z"
   },
   {
    "duration": 3,
    "start_time": "2022-10-29T11:28:26.778Z"
   },
   {
    "duration": 9,
    "start_time": "2022-10-29T11:28:26.783Z"
   },
   {
    "duration": 4,
    "start_time": "2022-10-29T11:28:26.794Z"
   },
   {
    "duration": 7,
    "start_time": "2022-10-29T11:28:26.800Z"
   },
   {
    "duration": 5,
    "start_time": "2022-10-29T11:28:26.840Z"
   },
   {
    "duration": 36,
    "start_time": "2022-10-29T11:28:26.847Z"
   },
   {
    "duration": 10,
    "start_time": "2022-10-29T11:28:26.884Z"
   },
   {
    "duration": 6,
    "start_time": "2022-10-29T11:28:26.895Z"
   },
   {
    "duration": 42,
    "start_time": "2022-10-29T11:28:26.902Z"
   },
   {
    "duration": 25,
    "start_time": "2022-10-29T11:28:26.946Z"
   },
   {
    "duration": 16,
    "start_time": "2022-10-29T11:28:26.973Z"
   },
   {
    "duration": 3,
    "start_time": "2022-10-29T11:28:26.991Z"
   },
   {
    "duration": 14,
    "start_time": "2022-10-29T11:28:26.996Z"
   },
   {
    "duration": 27,
    "start_time": "2022-10-29T11:28:27.012Z"
   },
   {
    "duration": 5,
    "start_time": "2022-10-29T11:28:27.041Z"
   },
   {
    "duration": 36,
    "start_time": "2022-10-29T11:28:27.047Z"
   },
   {
    "duration": 44,
    "start_time": "2022-10-29T11:28:27.084Z"
   },
   {
    "duration": 18,
    "start_time": "2022-10-29T11:28:27.131Z"
   },
   {
    "duration": 48,
    "start_time": "2022-10-29T11:28:27.152Z"
   },
   {
    "duration": 11,
    "start_time": "2022-10-29T11:28:27.202Z"
   },
   {
    "duration": 17,
    "start_time": "2022-10-29T11:28:27.216Z"
   },
   {
    "duration": 44,
    "start_time": "2022-10-29T11:28:27.235Z"
   },
   {
    "duration": 28,
    "start_time": "2022-10-29T11:28:27.284Z"
   },
   {
    "duration": 29,
    "start_time": "2022-10-29T11:28:27.315Z"
   },
   {
    "duration": 39,
    "start_time": "2022-10-29T11:28:27.346Z"
   },
   {
    "duration": 37,
    "start_time": "2022-10-29T11:28:27.387Z"
   },
   {
    "duration": 15,
    "start_time": "2022-10-29T11:28:27.426Z"
   },
   {
    "duration": 31,
    "start_time": "2022-10-29T11:28:27.444Z"
   },
   {
    "duration": 28,
    "start_time": "2022-10-29T11:28:27.477Z"
   },
   {
    "duration": 32,
    "start_time": "2022-10-29T11:28:27.506Z"
   },
   {
    "duration": 25,
    "start_time": "2022-10-29T11:28:27.540Z"
   },
   {
    "duration": 34,
    "start_time": "2022-10-29T11:28:27.568Z"
   },
   {
    "duration": 37,
    "start_time": "2022-10-29T11:28:27.604Z"
   },
   {
    "duration": 8,
    "start_time": "2022-10-29T11:28:27.644Z"
   },
   {
    "duration": 49,
    "start_time": "2022-10-29T11:28:27.653Z"
   },
   {
    "duration": 16,
    "start_time": "2022-10-29T11:28:27.704Z"
   },
   {
    "duration": 20,
    "start_time": "2022-10-29T11:28:27.721Z"
   },
   {
    "duration": 33,
    "start_time": "2022-10-29T11:28:27.743Z"
   },
   {
    "duration": 507,
    "start_time": "2022-10-29T11:42:04.617Z"
   },
   {
    "duration": 23,
    "start_time": "2022-10-29T11:42:05.126Z"
   },
   {
    "duration": 17,
    "start_time": "2022-10-29T11:42:05.151Z"
   },
   {
    "duration": 9,
    "start_time": "2022-10-29T11:42:05.170Z"
   },
   {
    "duration": 32,
    "start_time": "2022-10-29T11:42:05.181Z"
   },
   {
    "duration": 4,
    "start_time": "2022-10-29T11:42:05.239Z"
   },
   {
    "duration": 15,
    "start_time": "2022-10-29T11:42:05.245Z"
   },
   {
    "duration": 4,
    "start_time": "2022-10-29T11:42:05.262Z"
   },
   {
    "duration": 11,
    "start_time": "2022-10-29T11:42:05.268Z"
   },
   {
    "duration": 5,
    "start_time": "2022-10-29T11:42:05.283Z"
   },
   {
    "duration": 76,
    "start_time": "2022-10-29T11:42:05.289Z"
   },
   {
    "duration": 10,
    "start_time": "2022-10-29T11:42:05.367Z"
   },
   {
    "duration": 7,
    "start_time": "2022-10-29T11:42:05.378Z"
   },
   {
    "duration": 12,
    "start_time": "2022-10-29T11:42:05.387Z"
   },
   {
    "duration": 24,
    "start_time": "2022-10-29T11:42:05.400Z"
   },
   {
    "duration": 36,
    "start_time": "2022-10-29T11:42:05.439Z"
   },
   {
    "duration": 4,
    "start_time": "2022-10-29T11:42:05.477Z"
   },
   {
    "duration": 13,
    "start_time": "2022-10-29T11:42:05.483Z"
   },
   {
    "duration": 8,
    "start_time": "2022-10-29T11:42:05.497Z"
   },
   {
    "duration": 9,
    "start_time": "2022-10-29T11:42:05.507Z"
   },
   {
    "duration": 22,
    "start_time": "2022-10-29T11:42:05.518Z"
   },
   {
    "duration": 30,
    "start_time": "2022-10-29T11:42:05.542Z"
   },
   {
    "duration": 8,
    "start_time": "2022-10-29T11:42:05.574Z"
   },
   {
    "duration": 7,
    "start_time": "2022-10-29T11:42:05.583Z"
   },
   {
    "duration": 7,
    "start_time": "2022-10-29T11:42:05.591Z"
   },
   {
    "duration": 44,
    "start_time": "2022-10-29T11:42:05.599Z"
   },
   {
    "duration": 19,
    "start_time": "2022-10-29T11:42:05.645Z"
   },
   {
    "duration": 20,
    "start_time": "2022-10-29T11:42:05.667Z"
   },
   {
    "duration": 15,
    "start_time": "2022-10-29T11:42:05.688Z"
   },
   {
    "duration": 49,
    "start_time": "2022-10-29T11:42:05.705Z"
   },
   {
    "duration": 30,
    "start_time": "2022-10-29T11:42:05.756Z"
   },
   {
    "duration": 5,
    "start_time": "2022-10-29T11:42:05.788Z"
   },
   {
    "duration": 11,
    "start_time": "2022-10-29T11:42:05.795Z"
   },
   {
    "duration": 45,
    "start_time": "2022-10-29T11:42:05.808Z"
   },
   {
    "duration": 18,
    "start_time": "2022-10-29T11:42:05.855Z"
   },
   {
    "duration": 20,
    "start_time": "2022-10-29T11:42:05.875Z"
   },
   {
    "duration": 71,
    "start_time": "2022-10-29T11:42:05.897Z"
   },
   {
    "duration": 15,
    "start_time": "2022-10-29T11:42:05.970Z"
   },
   {
    "duration": 7,
    "start_time": "2022-10-29T11:42:05.987Z"
   },
   {
    "duration": 53,
    "start_time": "2022-10-29T11:42:05.995Z"
   },
   {
    "duration": 26,
    "start_time": "2022-10-29T11:42:06.050Z"
   },
   {
    "duration": 11,
    "start_time": "2022-10-29T11:42:06.078Z"
   },
   {
    "duration": 68,
    "start_time": "2022-10-29T11:42:06.091Z"
   },
   {
    "duration": 518,
    "start_time": "2022-10-29T11:47:08.131Z"
   },
   {
    "duration": 27,
    "start_time": "2022-10-29T11:47:08.652Z"
   },
   {
    "duration": 17,
    "start_time": "2022-10-29T11:47:08.681Z"
   },
   {
    "duration": 11,
    "start_time": "2022-10-29T11:47:08.701Z"
   },
   {
    "duration": 40,
    "start_time": "2022-10-29T11:47:08.738Z"
   },
   {
    "duration": 4,
    "start_time": "2022-10-29T11:47:08.780Z"
   },
   {
    "duration": 16,
    "start_time": "2022-10-29T11:47:08.786Z"
   },
   {
    "duration": 6,
    "start_time": "2022-10-29T11:47:08.804Z"
   },
   {
    "duration": 32,
    "start_time": "2022-10-29T11:47:08.813Z"
   },
   {
    "duration": 6,
    "start_time": "2022-10-29T11:47:08.851Z"
   },
   {
    "duration": 38,
    "start_time": "2022-10-29T11:47:08.859Z"
   },
   {
    "duration": 41,
    "start_time": "2022-10-29T11:47:08.899Z"
   },
   {
    "duration": 5,
    "start_time": "2022-10-29T11:47:08.941Z"
   },
   {
    "duration": 25,
    "start_time": "2022-10-29T11:47:08.947Z"
   },
   {
    "duration": 32,
    "start_time": "2022-10-29T11:47:08.973Z"
   },
   {
    "duration": 19,
    "start_time": "2022-10-29T11:47:09.007Z"
   },
   {
    "duration": 12,
    "start_time": "2022-10-29T11:47:09.028Z"
   },
   {
    "duration": 19,
    "start_time": "2022-10-29T11:47:09.042Z"
   },
   {
    "duration": 18,
    "start_time": "2022-10-29T11:47:09.064Z"
   },
   {
    "duration": 7,
    "start_time": "2022-10-29T11:47:09.084Z"
   },
   {
    "duration": 23,
    "start_time": "2022-10-29T11:47:09.093Z"
   },
   {
    "duration": 53,
    "start_time": "2022-10-29T11:47:09.118Z"
   },
   {
    "duration": 11,
    "start_time": "2022-10-29T11:47:09.174Z"
   },
   {
    "duration": 10,
    "start_time": "2022-10-29T11:47:09.187Z"
   },
   {
    "duration": 7,
    "start_time": "2022-10-29T11:47:09.198Z"
   },
   {
    "duration": 36,
    "start_time": "2022-10-29T11:47:09.207Z"
   },
   {
    "duration": 22,
    "start_time": "2022-10-29T11:47:09.246Z"
   },
   {
    "duration": 21,
    "start_time": "2022-10-29T11:47:09.271Z"
   },
   {
    "duration": 55,
    "start_time": "2022-10-29T11:47:09.294Z"
   },
   {
    "duration": 19,
    "start_time": "2022-10-29T11:47:09.350Z"
   },
   {
    "duration": 32,
    "start_time": "2022-10-29T11:47:09.371Z"
   },
   {
    "duration": 36,
    "start_time": "2022-10-29T11:47:09.406Z"
   },
   {
    "duration": 11,
    "start_time": "2022-10-29T11:47:09.444Z"
   },
   {
    "duration": 19,
    "start_time": "2022-10-29T11:47:09.458Z"
   },
   {
    "duration": 13,
    "start_time": "2022-10-29T11:47:09.480Z"
   },
   {
    "duration": 59,
    "start_time": "2022-10-29T11:47:09.495Z"
   },
   {
    "duration": 58,
    "start_time": "2022-10-29T11:47:09.556Z"
   },
   {
    "duration": 40,
    "start_time": "2022-10-29T11:47:09.616Z"
   },
   {
    "duration": 11,
    "start_time": "2022-10-29T11:47:09.657Z"
   },
   {
    "duration": 39,
    "start_time": "2022-10-29T11:47:09.670Z"
   },
   {
    "duration": 38,
    "start_time": "2022-10-29T11:47:09.711Z"
   },
   {
    "duration": 9,
    "start_time": "2022-10-29T11:47:09.751Z"
   },
   {
    "duration": 38,
    "start_time": "2022-10-29T11:47:09.762Z"
   },
   {
    "duration": 52,
    "start_time": "2022-10-30T07:08:42.485Z"
   },
   {
    "duration": 477,
    "start_time": "2022-10-30T07:08:45.218Z"
   },
   {
    "duration": 20,
    "start_time": "2022-10-30T07:08:45.697Z"
   },
   {
    "duration": 13,
    "start_time": "2022-10-30T07:08:45.718Z"
   },
   {
    "duration": 9,
    "start_time": "2022-10-30T07:08:45.732Z"
   },
   {
    "duration": 31,
    "start_time": "2022-10-30T07:08:45.743Z"
   },
   {
    "duration": 4,
    "start_time": "2022-10-30T07:08:45.775Z"
   },
   {
    "duration": 8,
    "start_time": "2022-10-30T07:08:45.805Z"
   },
   {
    "duration": 4,
    "start_time": "2022-10-30T07:08:45.814Z"
   },
   {
    "duration": 9,
    "start_time": "2022-10-30T07:08:45.819Z"
   },
   {
    "duration": 4,
    "start_time": "2022-10-30T07:08:45.829Z"
   },
   {
    "duration": 31,
    "start_time": "2022-10-30T07:08:45.835Z"
   },
   {
    "duration": 8,
    "start_time": "2022-10-30T07:08:45.868Z"
   },
   {
    "duration": 4,
    "start_time": "2022-10-30T07:08:45.905Z"
   },
   {
    "duration": 10,
    "start_time": "2022-10-30T07:08:45.911Z"
   },
   {
    "duration": 16,
    "start_time": "2022-10-30T07:08:45.923Z"
   },
   {
    "duration": 15,
    "start_time": "2022-10-30T07:08:45.941Z"
   },
   {
    "duration": 3,
    "start_time": "2022-10-30T07:08:45.958Z"
   },
   {
    "duration": 14,
    "start_time": "2022-10-30T07:08:45.962Z"
   },
   {
    "duration": 29,
    "start_time": "2022-10-30T07:08:45.977Z"
   },
   {
    "duration": 4,
    "start_time": "2022-10-30T07:08:46.007Z"
   },
   {
    "duration": 15,
    "start_time": "2022-10-30T07:08:46.013Z"
   },
   {
    "duration": 29,
    "start_time": "2022-10-30T07:08:46.030Z"
   },
   {
    "duration": 8,
    "start_time": "2022-10-30T07:08:46.061Z"
   },
   {
    "duration": 6,
    "start_time": "2022-10-30T07:08:46.071Z"
   },
   {
    "duration": 28,
    "start_time": "2022-10-30T07:08:46.078Z"
   },
   {
    "duration": 7,
    "start_time": "2022-10-30T07:08:46.107Z"
   },
   {
    "duration": 16,
    "start_time": "2022-10-30T07:08:46.116Z"
   },
   {
    "duration": 20,
    "start_time": "2022-10-30T07:08:46.134Z"
   },
   {
    "duration": 11,
    "start_time": "2022-10-30T07:08:46.156Z"
   },
   {
    "duration": 49,
    "start_time": "2022-10-30T07:08:46.168Z"
   },
   {
    "duration": 26,
    "start_time": "2022-10-30T07:08:46.219Z"
   },
   {
    "duration": 9,
    "start_time": "2022-10-30T07:08:46.247Z"
   },
   {
    "duration": 11,
    "start_time": "2022-10-30T07:08:49.051Z"
   },
   {
    "duration": 12,
    "start_time": "2022-10-30T07:09:04.369Z"
   },
   {
    "duration": 46,
    "start_time": "2022-11-19T21:07:34.561Z"
   },
   {
    "duration": 7,
    "start_time": "2022-11-19T21:07:39.501Z"
   },
   {
    "duration": 642,
    "start_time": "2022-11-19T21:07:45.084Z"
   },
   {
    "duration": 23,
    "start_time": "2022-11-19T21:07:45.728Z"
   },
   {
    "duration": 16,
    "start_time": "2022-11-19T21:07:45.752Z"
   },
   {
    "duration": 11,
    "start_time": "2022-11-19T21:07:45.770Z"
   },
   {
    "duration": 57,
    "start_time": "2022-11-19T21:07:45.782Z"
   },
   {
    "duration": 4,
    "start_time": "2022-11-19T21:07:45.841Z"
   },
   {
    "duration": 19,
    "start_time": "2022-11-19T21:07:45.846Z"
   },
   {
    "duration": 13,
    "start_time": "2022-11-19T21:07:45.867Z"
   },
   {
    "duration": 20,
    "start_time": "2022-11-19T21:07:45.882Z"
   },
   {
    "duration": 6,
    "start_time": "2022-11-19T21:07:45.905Z"
   },
   {
    "duration": 46,
    "start_time": "2022-11-19T21:07:45.913Z"
   },
   {
    "duration": 10,
    "start_time": "2022-11-19T21:07:45.961Z"
   },
   {
    "duration": 9,
    "start_time": "2022-11-19T21:07:45.973Z"
   },
   {
    "duration": 19,
    "start_time": "2022-11-19T21:07:45.984Z"
   },
   {
    "duration": 38,
    "start_time": "2022-11-19T21:07:46.004Z"
   },
   {
    "duration": 17,
    "start_time": "2022-11-19T21:07:46.044Z"
   },
   {
    "duration": 3,
    "start_time": "2022-11-19T21:07:46.063Z"
   },
   {
    "duration": 17,
    "start_time": "2022-11-19T21:07:46.068Z"
   },
   {
    "duration": 8,
    "start_time": "2022-11-19T21:07:46.086Z"
   },
   {
    "duration": 5,
    "start_time": "2022-11-19T21:07:46.104Z"
   },
   {
    "duration": 27,
    "start_time": "2022-11-19T21:07:46.111Z"
   },
   {
    "duration": 53,
    "start_time": "2022-11-19T21:07:46.139Z"
   },
   {
    "duration": 11,
    "start_time": "2022-11-19T21:07:46.194Z"
   },
   {
    "duration": 8,
    "start_time": "2022-11-19T21:07:46.206Z"
   },
   {
    "duration": 14,
    "start_time": "2022-11-19T21:07:46.215Z"
   },
   {
    "duration": 13,
    "start_time": "2022-11-19T21:07:46.236Z"
   },
   {
    "duration": 25,
    "start_time": "2022-11-19T21:07:46.252Z"
   },
   {
    "duration": 23,
    "start_time": "2022-11-19T21:07:46.281Z"
   },
   {
    "duration": 38,
    "start_time": "2022-11-19T21:07:46.306Z"
   },
   {
    "duration": 17,
    "start_time": "2022-11-19T21:07:46.346Z"
   },
   {
    "duration": 29,
    "start_time": "2022-11-19T21:07:46.365Z"
   },
   {
    "duration": 41,
    "start_time": "2022-11-19T21:07:46.395Z"
   },
   {
    "duration": 12,
    "start_time": "2022-11-19T21:07:46.438Z"
   },
   {
    "duration": 15,
    "start_time": "2022-11-19T21:07:46.451Z"
   },
   {
    "duration": 5,
    "start_time": "2022-11-19T21:07:46.467Z"
   },
   {
    "duration": 8,
    "start_time": "2022-11-19T21:07:46.473Z"
   },
   {
    "duration": 15,
    "start_time": "2022-11-19T21:07:46.483Z"
   },
   {
    "duration": 41,
    "start_time": "2022-11-19T21:07:46.500Z"
   },
   {
    "duration": 20,
    "start_time": "2022-11-19T21:07:46.543Z"
   },
   {
    "duration": 34,
    "start_time": "2022-11-19T21:07:46.564Z"
   },
   {
    "duration": 41,
    "start_time": "2022-11-19T21:07:46.599Z"
   },
   {
    "duration": 8,
    "start_time": "2022-11-19T21:07:46.642Z"
   },
   {
    "duration": 38,
    "start_time": "2022-11-19T21:07:46.652Z"
   },
   {
    "duration": 43,
    "start_time": "2022-11-19T21:07:46.692Z"
   },
   {
    "duration": 10,
    "start_time": "2022-11-19T21:07:46.737Z"
   },
   {
    "duration": 42,
    "start_time": "2022-11-19T21:07:46.749Z"
   },
   {
    "duration": 9,
    "start_time": "2022-11-23T14:09:21.434Z"
   },
   {
    "duration": 48,
    "start_time": "2022-11-23T14:09:21.866Z"
   },
   {
    "duration": 540,
    "start_time": "2022-11-23T14:09:28.700Z"
   },
   {
    "duration": 4,
    "start_time": "2022-11-23T14:09:33.020Z"
   },
   {
    "duration": 16,
    "start_time": "2022-11-23T14:09:33.371Z"
   }
  ],
  "celltoolbar": "Необработанный формат ячейки",
  "colab": {
   "name": "dpp_template_part2.ipynb",
   "provenance": []
  },
  "kernelspec": {
   "display_name": "Python 3 (ipykernel)",
   "language": "python",
   "name": "python3"
  },
  "language_info": {
   "codemirror_mode": {
    "name": "ipython",
    "version": 3
   },
   "file_extension": ".py",
   "mimetype": "text/x-python",
   "name": "python",
   "nbconvert_exporter": "python",
   "pygments_lexer": "ipython3",
   "version": "3.9.13"
  },
  "toc": {
   "base_numbering": 1,
   "nav_menu": {},
   "number_sections": true,
   "sideBar": true,
   "skip_h1_title": true,
   "title_cell": "Содержание",
   "title_sidebar": "Contents",
   "toc_cell": true,
   "toc_position": {
    "height": "calc(100% - 180px)",
    "left": "10px",
    "top": "150px",
    "width": "386.667px"
   },
   "toc_section_display": true,
   "toc_window_display": false
  }
 },
 "nbformat": 4,
 "nbformat_minor": 5
}
