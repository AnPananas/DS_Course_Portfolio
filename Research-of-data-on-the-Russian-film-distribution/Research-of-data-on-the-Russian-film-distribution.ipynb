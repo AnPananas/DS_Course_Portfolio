{
 "cells": [
  {
   "cell_type": "markdown",
   "metadata": {
    "id": "sIfNaMOxgFyK"
   },
   "source": [
    "# Исследование данных о российском кинопрокате\n",
    "\n"
   ]
  },
  {
   "cell_type": "markdown",
   "metadata": {},
   "source": [
    "Заказчик этого исследования — Министерство культуры Российской Федерации.\n",
    "Данные взяты  из портала открытых данных Министерства культуры. Набор данных содержит информацию о прокатных удостоверениях, сборах и государственной поддержке фильмов, а также информацию с сайта КиноПоиск.\n",
    "\n",
    "        \n",
    "  > # Цель исследования\n",
    "  Необходимо изучить рынок российского кинопроката и выявить текущие тренды. Уделить внимание фильмам, которые получили           государственную поддержку. Узнать насколько такие фильмы интересны зрителю.\n",
    "  >> # Ход исследования\n",
    "      - Обзор данных\n",
    "      - Предобработка данных\n",
    "      - Исследовательский анализ данных\n",
    "      - Анализ фильмов с господдержкой\n",
    "      - Общий вывод"
   ]
  },
  {
   "cell_type": "markdown",
   "metadata": {
    "id": "3bSlkCsbgFyL"
   },
   "source": [
    "### Шаг 1. Откройте файлы с данными и объедините их в один датафрейм. \n",
    "\n",
    "Объедините данные таким образом, чтобы все объекты из датасета `mkrf_movies` обязательно вошли в получившийся датафрейм. \n",
    "\n",
    "<div id=\"accordion\">\n",
    "    <div class=\"card\">\n",
    "        <div class=\"card-header\" id=\"headingThree\">\n",
    "            <button class=\"btn btn-link collapsed\" data-toggle=\"collapse\" data-target=\"#collapseHint_0\" aria-expanded=\"false\" aria-controls=\"collapseHint_0\">Подсказка</button>\n",
    "        </div>\n",
    "        <div id=\"collapseHint_0\" class=\"collapse\" aria-labelledby=\"headingThree\" data-parent=\"#accordion\">\n",
    "            <div class=\"card-body\">\n",
    "Обратите внимание на тип данных столбца, по которому будете соединять датафреймы. Тип данных этих столбцов должен быть одинаковым в обоих датафреймах.\n",
    "            </div>\n",
    "        </div>\n",
    "    </div>\n",
    "</div>"
   ]
  },
  {
   "cell_type": "code",
   "execution_count": 1,
   "metadata": {
    "id": "dw87FlzMgFyM",
    "scrolled": true
   },
   "outputs": [
    {
     "ename": "FileNotFoundError",
     "evalue": "[Errno 2] No such file or directory: '/datasets/mkrf_movies.csv'",
     "output_type": "error",
     "traceback": [
      "\u001b[1;31m---------------------------------------------------------------------------\u001b[0m",
      "\u001b[1;31mFileNotFoundError\u001b[0m                         Traceback (most recent call last)",
      "Cell \u001b[1;32mIn [1], line 5\u001b[0m\n\u001b[0;32m      3\u001b[0m \u001b[38;5;28;01mimport\u001b[39;00m \u001b[38;5;21;01mnumpy\u001b[39;00m \u001b[38;5;28;01mas\u001b[39;00m \u001b[38;5;21;01mnp\u001b[39;00m\n\u001b[0;32m      4\u001b[0m \u001b[38;5;28;01mimport\u001b[39;00m \u001b[38;5;21;01mmatplotlib\u001b[39;00m\u001b[38;5;21;01m.\u001b[39;00m\u001b[38;5;21;01mpyplot\u001b[39;00m \u001b[38;5;28;01mas\u001b[39;00m \u001b[38;5;21;01mplt\u001b[39;00m\n\u001b[1;32m----> 5\u001b[0m data_movies \u001b[38;5;241m=\u001b[39m \u001b[43mpd\u001b[49m\u001b[38;5;241;43m.\u001b[39;49m\u001b[43mread_csv\u001b[49m\u001b[43m(\u001b[49m\u001b[38;5;124;43m'\u001b[39;49m\u001b[38;5;124;43m/datasets/mkrf_movies.csv\u001b[39;49m\u001b[38;5;124;43m'\u001b[39;49m\u001b[43m)\u001b[49m\n\u001b[0;32m      6\u001b[0m data_shows \u001b[38;5;241m=\u001b[39m pd\u001b[38;5;241m.\u001b[39mread_csv(\u001b[38;5;124m'\u001b[39m\u001b[38;5;124m/datasets/mkrf_shows.csv\u001b[39m\u001b[38;5;124m'\u001b[39m)\n",
      "File \u001b[1;32mC:\\anaconda\\envs\\ds_practicum_env\\lib\\site-packages\\pandas\\io\\parsers.py:610\u001b[0m, in \u001b[0;36mread_csv\u001b[1;34m(filepath_or_buffer, sep, delimiter, header, names, index_col, usecols, squeeze, prefix, mangle_dupe_cols, dtype, engine, converters, true_values, false_values, skipinitialspace, skiprows, skipfooter, nrows, na_values, keep_default_na, na_filter, verbose, skip_blank_lines, parse_dates, infer_datetime_format, keep_date_col, date_parser, dayfirst, cache_dates, iterator, chunksize, compression, thousands, decimal, lineterminator, quotechar, quoting, doublequote, escapechar, comment, encoding, dialect, error_bad_lines, warn_bad_lines, delim_whitespace, low_memory, memory_map, float_precision, storage_options)\u001b[0m\n\u001b[0;32m    605\u001b[0m kwds_defaults \u001b[38;5;241m=\u001b[39m _refine_defaults_read(\n\u001b[0;32m    606\u001b[0m     dialect, delimiter, delim_whitespace, engine, sep, defaults\u001b[38;5;241m=\u001b[39m{\u001b[38;5;124m\"\u001b[39m\u001b[38;5;124mdelimiter\u001b[39m\u001b[38;5;124m\"\u001b[39m: \u001b[38;5;124m\"\u001b[39m\u001b[38;5;124m,\u001b[39m\u001b[38;5;124m\"\u001b[39m}\n\u001b[0;32m    607\u001b[0m )\n\u001b[0;32m    608\u001b[0m kwds\u001b[38;5;241m.\u001b[39mupdate(kwds_defaults)\n\u001b[1;32m--> 610\u001b[0m \u001b[38;5;28;01mreturn\u001b[39;00m \u001b[43m_read\u001b[49m\u001b[43m(\u001b[49m\u001b[43mfilepath_or_buffer\u001b[49m\u001b[43m,\u001b[49m\u001b[43m \u001b[49m\u001b[43mkwds\u001b[49m\u001b[43m)\u001b[49m\n",
      "File \u001b[1;32mC:\\anaconda\\envs\\ds_practicum_env\\lib\\site-packages\\pandas\\io\\parsers.py:462\u001b[0m, in \u001b[0;36m_read\u001b[1;34m(filepath_or_buffer, kwds)\u001b[0m\n\u001b[0;32m    459\u001b[0m _validate_names(kwds\u001b[38;5;241m.\u001b[39mget(\u001b[38;5;124m\"\u001b[39m\u001b[38;5;124mnames\u001b[39m\u001b[38;5;124m\"\u001b[39m, \u001b[38;5;28;01mNone\u001b[39;00m))\n\u001b[0;32m    461\u001b[0m \u001b[38;5;66;03m# Create the parser.\u001b[39;00m\n\u001b[1;32m--> 462\u001b[0m parser \u001b[38;5;241m=\u001b[39m TextFileReader(filepath_or_buffer, \u001b[38;5;241m*\u001b[39m\u001b[38;5;241m*\u001b[39mkwds)\n\u001b[0;32m    464\u001b[0m \u001b[38;5;28;01mif\u001b[39;00m chunksize \u001b[38;5;129;01mor\u001b[39;00m iterator:\n\u001b[0;32m    465\u001b[0m     \u001b[38;5;28;01mreturn\u001b[39;00m parser\n",
      "File \u001b[1;32mC:\\anaconda\\envs\\ds_practicum_env\\lib\\site-packages\\pandas\\io\\parsers.py:819\u001b[0m, in \u001b[0;36mTextFileReader.__init__\u001b[1;34m(self, f, engine, **kwds)\u001b[0m\n\u001b[0;32m    816\u001b[0m \u001b[38;5;28;01mif\u001b[39;00m \u001b[38;5;124m\"\u001b[39m\u001b[38;5;124mhas_index_names\u001b[39m\u001b[38;5;124m\"\u001b[39m \u001b[38;5;129;01min\u001b[39;00m kwds:\n\u001b[0;32m    817\u001b[0m     \u001b[38;5;28mself\u001b[39m\u001b[38;5;241m.\u001b[39moptions[\u001b[38;5;124m\"\u001b[39m\u001b[38;5;124mhas_index_names\u001b[39m\u001b[38;5;124m\"\u001b[39m] \u001b[38;5;241m=\u001b[39m kwds[\u001b[38;5;124m\"\u001b[39m\u001b[38;5;124mhas_index_names\u001b[39m\u001b[38;5;124m\"\u001b[39m]\n\u001b[1;32m--> 819\u001b[0m \u001b[38;5;28mself\u001b[39m\u001b[38;5;241m.\u001b[39m_engine \u001b[38;5;241m=\u001b[39m \u001b[38;5;28;43mself\u001b[39;49m\u001b[38;5;241;43m.\u001b[39;49m\u001b[43m_make_engine\u001b[49m\u001b[43m(\u001b[49m\u001b[38;5;28;43mself\u001b[39;49m\u001b[38;5;241;43m.\u001b[39;49m\u001b[43mengine\u001b[49m\u001b[43m)\u001b[49m\n",
      "File \u001b[1;32mC:\\anaconda\\envs\\ds_practicum_env\\lib\\site-packages\\pandas\\io\\parsers.py:1050\u001b[0m, in \u001b[0;36mTextFileReader._make_engine\u001b[1;34m(self, engine)\u001b[0m\n\u001b[0;32m   1046\u001b[0m     \u001b[38;5;28;01mraise\u001b[39;00m \u001b[38;5;167;01mValueError\u001b[39;00m(\n\u001b[0;32m   1047\u001b[0m         \u001b[38;5;124mf\u001b[39m\u001b[38;5;124m\"\u001b[39m\u001b[38;5;124mUnknown engine: \u001b[39m\u001b[38;5;132;01m{\u001b[39;00mengine\u001b[38;5;132;01m}\u001b[39;00m\u001b[38;5;124m (valid options are \u001b[39m\u001b[38;5;132;01m{\u001b[39;00mmapping\u001b[38;5;241m.\u001b[39mkeys()\u001b[38;5;132;01m}\u001b[39;00m\u001b[38;5;124m)\u001b[39m\u001b[38;5;124m\"\u001b[39m\n\u001b[0;32m   1048\u001b[0m     )\n\u001b[0;32m   1049\u001b[0m \u001b[38;5;66;03m# error: Too many arguments for \"ParserBase\"\u001b[39;00m\n\u001b[1;32m-> 1050\u001b[0m \u001b[38;5;28;01mreturn\u001b[39;00m mapping[engine](\u001b[38;5;28mself\u001b[39m\u001b[38;5;241m.\u001b[39mf, \u001b[38;5;241m*\u001b[39m\u001b[38;5;241m*\u001b[39m\u001b[38;5;28mself\u001b[39m\u001b[38;5;241m.\u001b[39moptions)\n",
      "File \u001b[1;32mC:\\anaconda\\envs\\ds_practicum_env\\lib\\site-packages\\pandas\\io\\parsers.py:1867\u001b[0m, in \u001b[0;36mCParserWrapper.__init__\u001b[1;34m(self, src, **kwds)\u001b[0m\n\u001b[0;32m   1864\u001b[0m kwds[\u001b[38;5;124m\"\u001b[39m\u001b[38;5;124musecols\u001b[39m\u001b[38;5;124m\"\u001b[39m] \u001b[38;5;241m=\u001b[39m \u001b[38;5;28mself\u001b[39m\u001b[38;5;241m.\u001b[39musecols\n\u001b[0;32m   1866\u001b[0m \u001b[38;5;66;03m# open handles\u001b[39;00m\n\u001b[1;32m-> 1867\u001b[0m \u001b[38;5;28;43mself\u001b[39;49m\u001b[38;5;241;43m.\u001b[39;49m\u001b[43m_open_handles\u001b[49m\u001b[43m(\u001b[49m\u001b[43msrc\u001b[49m\u001b[43m,\u001b[49m\u001b[43m \u001b[49m\u001b[43mkwds\u001b[49m\u001b[43m)\u001b[49m\n\u001b[0;32m   1868\u001b[0m \u001b[38;5;28;01massert\u001b[39;00m \u001b[38;5;28mself\u001b[39m\u001b[38;5;241m.\u001b[39mhandles \u001b[38;5;129;01mis\u001b[39;00m \u001b[38;5;129;01mnot\u001b[39;00m \u001b[38;5;28;01mNone\u001b[39;00m\n\u001b[0;32m   1869\u001b[0m \u001b[38;5;28;01mfor\u001b[39;00m key \u001b[38;5;129;01min\u001b[39;00m (\u001b[38;5;124m\"\u001b[39m\u001b[38;5;124mstorage_options\u001b[39m\u001b[38;5;124m\"\u001b[39m, \u001b[38;5;124m\"\u001b[39m\u001b[38;5;124mencoding\u001b[39m\u001b[38;5;124m\"\u001b[39m, \u001b[38;5;124m\"\u001b[39m\u001b[38;5;124mmemory_map\u001b[39m\u001b[38;5;124m\"\u001b[39m, \u001b[38;5;124m\"\u001b[39m\u001b[38;5;124mcompression\u001b[39m\u001b[38;5;124m\"\u001b[39m):\n",
      "File \u001b[1;32mC:\\anaconda\\envs\\ds_practicum_env\\lib\\site-packages\\pandas\\io\\parsers.py:1362\u001b[0m, in \u001b[0;36mParserBase._open_handles\u001b[1;34m(self, src, kwds)\u001b[0m\n\u001b[0;32m   1358\u001b[0m \u001b[38;5;28;01mdef\u001b[39;00m \u001b[38;5;21m_open_handles\u001b[39m(\u001b[38;5;28mself\u001b[39m, src: FilePathOrBuffer, kwds: Dict[\u001b[38;5;28mstr\u001b[39m, Any]) \u001b[38;5;241m-\u001b[39m\u001b[38;5;241m>\u001b[39m \u001b[38;5;28;01mNone\u001b[39;00m:\n\u001b[0;32m   1359\u001b[0m     \u001b[38;5;124;03m\"\"\"\u001b[39;00m\n\u001b[0;32m   1360\u001b[0m \u001b[38;5;124;03m    Let the readers open IOHanldes after they are done with their potential raises.\u001b[39;00m\n\u001b[0;32m   1361\u001b[0m \u001b[38;5;124;03m    \"\"\"\u001b[39;00m\n\u001b[1;32m-> 1362\u001b[0m     \u001b[38;5;28mself\u001b[39m\u001b[38;5;241m.\u001b[39mhandles \u001b[38;5;241m=\u001b[39m \u001b[43mget_handle\u001b[49m\u001b[43m(\u001b[49m\n\u001b[0;32m   1363\u001b[0m \u001b[43m        \u001b[49m\u001b[43msrc\u001b[49m\u001b[43m,\u001b[49m\n\u001b[0;32m   1364\u001b[0m \u001b[43m        \u001b[49m\u001b[38;5;124;43m\"\u001b[39;49m\u001b[38;5;124;43mr\u001b[39;49m\u001b[38;5;124;43m\"\u001b[39;49m\u001b[43m,\u001b[49m\n\u001b[0;32m   1365\u001b[0m \u001b[43m        \u001b[49m\u001b[43mencoding\u001b[49m\u001b[38;5;241;43m=\u001b[39;49m\u001b[43mkwds\u001b[49m\u001b[38;5;241;43m.\u001b[39;49m\u001b[43mget\u001b[49m\u001b[43m(\u001b[49m\u001b[38;5;124;43m\"\u001b[39;49m\u001b[38;5;124;43mencoding\u001b[39;49m\u001b[38;5;124;43m\"\u001b[39;49m\u001b[43m,\u001b[49m\u001b[43m \u001b[49m\u001b[38;5;28;43;01mNone\u001b[39;49;00m\u001b[43m)\u001b[49m\u001b[43m,\u001b[49m\n\u001b[0;32m   1366\u001b[0m \u001b[43m        \u001b[49m\u001b[43mcompression\u001b[49m\u001b[38;5;241;43m=\u001b[39;49m\u001b[43mkwds\u001b[49m\u001b[38;5;241;43m.\u001b[39;49m\u001b[43mget\u001b[49m\u001b[43m(\u001b[49m\u001b[38;5;124;43m\"\u001b[39;49m\u001b[38;5;124;43mcompression\u001b[39;49m\u001b[38;5;124;43m\"\u001b[39;49m\u001b[43m,\u001b[49m\u001b[43m \u001b[49m\u001b[38;5;28;43;01mNone\u001b[39;49;00m\u001b[43m)\u001b[49m\u001b[43m,\u001b[49m\n\u001b[0;32m   1367\u001b[0m \u001b[43m        \u001b[49m\u001b[43mmemory_map\u001b[49m\u001b[38;5;241;43m=\u001b[39;49m\u001b[43mkwds\u001b[49m\u001b[38;5;241;43m.\u001b[39;49m\u001b[43mget\u001b[49m\u001b[43m(\u001b[49m\u001b[38;5;124;43m\"\u001b[39;49m\u001b[38;5;124;43mmemory_map\u001b[39;49m\u001b[38;5;124;43m\"\u001b[39;49m\u001b[43m,\u001b[49m\u001b[43m \u001b[49m\u001b[38;5;28;43;01mFalse\u001b[39;49;00m\u001b[43m)\u001b[49m\u001b[43m,\u001b[49m\n\u001b[0;32m   1368\u001b[0m \u001b[43m        \u001b[49m\u001b[43mstorage_options\u001b[49m\u001b[38;5;241;43m=\u001b[39;49m\u001b[43mkwds\u001b[49m\u001b[38;5;241;43m.\u001b[39;49m\u001b[43mget\u001b[49m\u001b[43m(\u001b[49m\u001b[38;5;124;43m\"\u001b[39;49m\u001b[38;5;124;43mstorage_options\u001b[39;49m\u001b[38;5;124;43m\"\u001b[39;49m\u001b[43m,\u001b[49m\u001b[43m \u001b[49m\u001b[38;5;28;43;01mNone\u001b[39;49;00m\u001b[43m)\u001b[49m\u001b[43m,\u001b[49m\n\u001b[0;32m   1369\u001b[0m \u001b[43m    \u001b[49m\u001b[43m)\u001b[49m\n",
      "File \u001b[1;32mC:\\anaconda\\envs\\ds_practicum_env\\lib\\site-packages\\pandas\\io\\common.py:642\u001b[0m, in \u001b[0;36mget_handle\u001b[1;34m(path_or_buf, mode, encoding, compression, memory_map, is_text, errors, storage_options)\u001b[0m\n\u001b[0;32m    640\u001b[0m         errors \u001b[38;5;241m=\u001b[39m \u001b[38;5;124m\"\u001b[39m\u001b[38;5;124mreplace\u001b[39m\u001b[38;5;124m\"\u001b[39m\n\u001b[0;32m    641\u001b[0m     \u001b[38;5;66;03m# Encoding\u001b[39;00m\n\u001b[1;32m--> 642\u001b[0m     handle \u001b[38;5;241m=\u001b[39m \u001b[38;5;28;43mopen\u001b[39;49m\u001b[43m(\u001b[49m\n\u001b[0;32m    643\u001b[0m \u001b[43m        \u001b[49m\u001b[43mhandle\u001b[49m\u001b[43m,\u001b[49m\n\u001b[0;32m    644\u001b[0m \u001b[43m        \u001b[49m\u001b[43mioargs\u001b[49m\u001b[38;5;241;43m.\u001b[39;49m\u001b[43mmode\u001b[49m\u001b[43m,\u001b[49m\n\u001b[0;32m    645\u001b[0m \u001b[43m        \u001b[49m\u001b[43mencoding\u001b[49m\u001b[38;5;241;43m=\u001b[39;49m\u001b[43mioargs\u001b[49m\u001b[38;5;241;43m.\u001b[39;49m\u001b[43mencoding\u001b[49m\u001b[43m,\u001b[49m\n\u001b[0;32m    646\u001b[0m \u001b[43m        \u001b[49m\u001b[43merrors\u001b[49m\u001b[38;5;241;43m=\u001b[39;49m\u001b[43merrors\u001b[49m\u001b[43m,\u001b[49m\n\u001b[0;32m    647\u001b[0m \u001b[43m        \u001b[49m\u001b[43mnewline\u001b[49m\u001b[38;5;241;43m=\u001b[39;49m\u001b[38;5;124;43m\"\u001b[39;49m\u001b[38;5;124;43m\"\u001b[39;49m\u001b[43m,\u001b[49m\n\u001b[0;32m    648\u001b[0m \u001b[43m    \u001b[49m\u001b[43m)\u001b[49m\n\u001b[0;32m    649\u001b[0m \u001b[38;5;28;01melse\u001b[39;00m:\n\u001b[0;32m    650\u001b[0m     \u001b[38;5;66;03m# Binary mode\u001b[39;00m\n\u001b[0;32m    651\u001b[0m     handle \u001b[38;5;241m=\u001b[39m \u001b[38;5;28mopen\u001b[39m(handle, ioargs\u001b[38;5;241m.\u001b[39mmode)\n",
      "\u001b[1;31mFileNotFoundError\u001b[0m: [Errno 2] No such file or directory: '/datasets/mkrf_movies.csv'"
     ]
    }
   ],
   "source": [
    "import pandas as pd\n",
    "from IPython.display import display\n",
    "import numpy as np\n",
    "import matplotlib.pyplot as plt\n",
    "data_movies = pd.read_csv('/datasets/mkrf_movies.csv')\n",
    "data_shows = pd.read_csv('/datasets/mkrf_shows.csv')\n"
   ]
  },
  {
   "cell_type": "markdown",
   "metadata": {},
   "source": [
    "# Описание данных"
   ]
  },
  {
   "cell_type": "markdown",
   "metadata": {},
   "source": [
    " -   title — название фильма;\n",
    " -   puNumber — номер прокатного удостоверения;\n",
    " -   show_start_date — дата премьеры фильма;\n",
    " -   type — тип фильма;\n",
    " -   film_studio — студия-производитель;\n",
    " -   production_country — страна-производитель;\n",
    " -   director — режиссёр;\n",
    " -   producer — продюсер;\n",
    " -   age_restriction — возрастная категория;\n",
    " -   refundable_support — объём возвратных средств государственной поддержки;\n",
    " -   nonrefundable_support — объём невозвратных средств государственной поддержки;\n",
    " -    financing_source — источник государственного финансирования;\n",
    " -    budget — общий бюджет фильма;\n",
    " -    ratings — рейтинг фильма на КиноПоиске;\n",
    " -    genres — жанр фильма.\n",
    " -    puNumber — номер прокатного удостоверения;\n",
    " -    box_office — сборы в рублях."
   ]
  },
  {
   "cell_type": "code",
   "execution_count": null,
   "metadata": {
    "scrolled": true
   },
   "outputs": [],
   "source": [
    "data_movies.head() #ознакомимся с первым файлом"
   ]
  },
  {
   "cell_type": "code",
   "execution_count": null,
   "metadata": {
    "scrolled": true
   },
   "outputs": [],
   "source": [
    "data_movies.info()"
   ]
  },
  {
   "cell_type": "code",
   "execution_count": null,
   "metadata": {
    "scrolled": true
   },
   "outputs": [],
   "source": [
    "data_movies['puNumber'].isna().sum() # при попытке слияния данных обнаружилось, что в столбце puNumber файла mkrf_movies.csv есть тип str, тогда как в другом файле тип даных столбца с аналогичным названием int"
   ]
  },
  {
   "cell_type": "code",
   "execution_count": null,
   "metadata": {},
   "outputs": [],
   "source": [
    "data_movies = data_movies.query('puNumber != \"нет\"').reset_index(drop=True) # при попытке изменить тип на int появилась ошибка, из которой следовало что одна из ячеек содержет слово \"нет\".\n",
    "# удаляем и сбрасываем индексы"
   ]
  },
  {
   "cell_type": "code",
   "execution_count": null,
   "metadata": {
    "scrolled": true
   },
   "outputs": [],
   "source": [
    "data_movies['puNumber'] = data_movies['puNumber'].astype('int') # меням тип данных\n"
   ]
  },
  {
   "cell_type": "code",
   "execution_count": null,
   "metadata": {},
   "outputs": [],
   "source": [
    "\n",
    "data_shows #ознакомимся с вторым файлом\n"
   ]
  },
  {
   "cell_type": "code",
   "execution_count": null,
   "metadata": {},
   "outputs": [],
   "source": [
    "df = data_movies.merge(data_shows, on = 'puNumber', how = 'left') # обьединяем два датасета в один датафрейм"
   ]
  },
  {
   "cell_type": "code",
   "execution_count": null,
   "metadata": {
    "scrolled": true
   },
   "outputs": [],
   "source": [
    "df"
   ]
  },
  {
   "cell_type": "code",
   "execution_count": null,
   "metadata": {},
   "outputs": [],
   "source": [
    "df.info()"
   ]
  },
  {
   "cell_type": "markdown",
   "metadata": {},
   "source": [
    "#### Результаты знакомства с данными\n",
    "В результате знакомства с данными были выявлены ***пропуски*** в следйющих столбцах: \n",
    "\n",
    "film_studio \n",
    "\n",
    "production_country\n",
    "\n",
    "director\n",
    "\n",
    "producer\n",
    "  \n",
    "refundable_support \n",
    "\n",
    "nonrefundable_support \n",
    "\n",
    "budget \n",
    "\n",
    "financing_source \n",
    "\n",
    "ratings \n",
    "\n",
    "genres \n",
    "\n",
    "box_office\n",
    "\n",
    "Также предварительно были выявлены ***несоответсвия типов данных*** в следйющих столбцах:\n",
    "\n",
    "show_start_date\n",
    "\n",
    "ratings"
   ]
  },
  {
   "cell_type": "markdown",
   "metadata": {
    "id": "KLDGpPG0gFyM"
   },
   "source": [
    "### Шаг 2. Предобработка данных"
   ]
  },
  {
   "cell_type": "markdown",
   "metadata": {
    "id": "ssWwKXsxgFyO"
   },
   "source": [
    "#### Шаг 2.1. Проверьте типы данных\n",
    "\n",
    "- Проверьте типы данных в датафрейме и преобразуйте их там, где это необходимо."
   ]
  },
  {
   "cell_type": "code",
   "execution_count": null,
   "metadata": {
    "id": "kVGSplJOgFyO",
    "scrolled": true
   },
   "outputs": [],
   "source": [
    "# более подробно рассмотрим типы данных\n",
    "display(df.tail(10))\n",
    "df.info()"
   ]
  },
  {
   "cell_type": "code",
   "execution_count": null,
   "metadata": {},
   "outputs": [],
   "source": [
    "\n",
    "# следует заменить, как говорилось в обзоре данных, show_start_date на datetime, ratings на float  \n",
    "\n",
    "df['show_start_date'] = pd.to_datetime(df['show_start_date'], format ='%Y-%m-%dT%H:%M:%S')\n",
    "\n"
   ]
  },
  {
   "cell_type": "code",
   "execution_count": null,
   "metadata": {
    "scrolled": true
   },
   "outputs": [],
   "source": [
    "df['ratings'].unique()"
   ]
  },
  {
   "cell_type": "code",
   "execution_count": null,
   "metadata": {},
   "outputs": [],
   "source": [
    "# столбец ratings должен иметь числовой формат\n",
    "# в этом столбце имеются строки, поэтому создадим функцию которая превратит рейтинг из процентов в десятичную оценку\n",
    "\n",
    "def rating_convertor(i):\n",
    "\n",
    "    if isinstance(i, str) and '%' in i:\n",
    "         return float(i[:-1])/100\n",
    "    return float(i)\n"
   ]
  },
  {
   "cell_type": "code",
   "execution_count": null,
   "metadata": {},
   "outputs": [],
   "source": [
    "df['ratings'] = df['ratings'].apply(rating_convertor)"
   ]
  },
  {
   "cell_type": "code",
   "execution_count": null,
   "metadata": {
    "scrolled": false
   },
   "outputs": [],
   "source": [
    "df['ratings'].unique() "
   ]
  },
  {
   "cell_type": "markdown",
   "metadata": {},
   "source": [
    "##### Результаты проверки типов данных\n",
    "В результате проверки типов данных были внесены измениния в столбцы: show_start_date на datetime, ratings на float.\n",
    "\n"
   ]
  },
  {
   "cell_type": "markdown",
   "metadata": {
    "id": "i0MOLbF-gFyP"
   },
   "source": [
    "#### Шаг 2.2. Изучите пропуски в датафрейме\n",
    "\n",
    "- Объясните, почему заполнили пропуски определённым образом или почему не стали этого делать."
   ]
  },
  {
   "cell_type": "code",
   "execution_count": null,
   "metadata": {},
   "outputs": [],
   "source": [
    "# посмотрим какую долю в процентах занимают пропуски в каждом столбце\n",
    "pd.options.display.float_format = '{:,.1f}'.format # отобразим резудьтат не в научном формате\n",
    "pd.DataFrame(round(df.isna().mean()*100,)).style.background_gradient('coolwarm')"
   ]
  },
  {
   "cell_type": "code",
   "execution_count": null,
   "metadata": {
    "id": "8MJD_lkngFyP"
   },
   "outputs": [],
   "source": [
    "# сразу видно что в столбце producer всего 8% пропусков, для экономии времени удалим эти строки.\n",
    "df = df.dropna(subset = ['producer']).reset_index(drop=True)\n",
    "pd.DataFrame(round(df.isna().mean()*100,)).style.background_gradient('coolwarm')"
   ]
  },
  {
   "cell_type": "code",
   "execution_count": null,
   "metadata": {
    "scrolled": true
   },
   "outputs": [],
   "source": [
    "df.query('ratings.isna() == True').head(10)\n",
    "# оставим пропуски, так как заполнить их каким то явным занчением невозможно "
   ]
  },
  {
   "cell_type": "markdown",
   "metadata": {},
   "source": [
    "fundable_support, nonrefundable_support, budget, financing_source исмеют наибольший однаковый процент пропусков, однако известно что ти столбцы связаны с гос поддержкой и пропуски означают только то, что фильмы не поддердивались мин культуры и фондом кино. Их стоит оставить без измнения\n",
    "\n",
    "Также пропуски в жанрах и рейтинге оставим без изменений\n"
   ]
  },
  {
   "cell_type": "code",
   "execution_count": null,
   "metadata": {},
   "outputs": [],
   "source": [
    "df['year'] = pd.DatetimeIndex(df['show_start_date']).year"
   ]
  },
  {
   "cell_type": "code",
   "execution_count": null,
   "metadata": {
    "scrolled": true
   },
   "outputs": [],
   "source": [
    "df.query('box_office.isna()').pivot_table(index = 'year', values = 'type', aggfunc = 'count').plot(kind='bar', title = 'количество пропусков по годам')# пропуски по годам"
   ]
  },
  {
   "cell_type": "markdown",
   "metadata": {},
   "source": [
    "##### Результат обработки пропусков\n",
    "\n",
    "Были удалены пропуски из столбца producer (8% пропусков)\n",
    "\n",
    "В остальных столбцах удаление пропусков или их замена невозможны"
   ]
  },
  {
   "cell_type": "markdown",
   "metadata": {
    "id": "4c6k1t9ygFyQ"
   },
   "source": [
    "#### Шаг 2.3. Изучите дубликаты в датафрейме\n",
    "- Проверьте, есть ли в данных дубликаты. Опишите причины, которые могли повлиять на появление дублей."
   ]
  },
  {
   "cell_type": "code",
   "execution_count": null,
   "metadata": {},
   "outputs": [],
   "source": [
    "for name,values in df.iteritems():\n",
    "    if name in ['title','genres','financing_source','producer','director','production_country','film_studio','type']:\n",
    "        df[name] = df[name].str.lower()\n",
    " \n",
    "        "
   ]
  },
  {
   "cell_type": "markdown",
   "metadata": {
    "id": "aKck8RIdgFyQ",
    "scrolled": true
   },
   "source": [
    "#Поиск явных дупликатов \n",
    "#Приведем строки к нижнему регистру\n",
    "\n",
    "df['title'] = df['title'].str.lower()\n",
    "df['genres'] = df['genres'].str.lower().str.strip()\n",
    "df['financing_source'] = df['financing_source'].str.lower().str.strip()\n",
    "df['producer'] = df['producer'].str.lower().str.strip()\n",
    "df['director'] = df['director'].str.lower().str.strip()\n",
    "df['production_country'] = df['production_country'].str.lower().str.strip()\n",
    "df['film_studio'] = df['film_studio'].str.lower().str.strip()\n",
    "df['type'] = df['type'].str.lower().str.strip()\n",
    "df.duplicated().sum()"
   ]
  },
  {
   "cell_type": "code",
   "execution_count": null,
   "metadata": {},
   "outputs": [],
   "source": [
    "df = df.replace('ё','е')"
   ]
  },
  {
   "cell_type": "code",
   "execution_count": null,
   "metadata": {},
   "outputs": [],
   "source": [
    "df.duplicated().sum()"
   ]
  },
  {
   "cell_type": "markdown",
   "metadata": {},
   "source": [
    "явных дупликатов не обнаружено\n"
   ]
  },
  {
   "cell_type": "code",
   "execution_count": null,
   "metadata": {},
   "outputs": [],
   "source": [
    "df['type'].unique()"
   ]
  },
  {
   "cell_type": "code",
   "execution_count": null,
   "metadata": {},
   "outputs": [],
   "source": [
    "\n",
    "df['film_studio'].unique()"
   ]
  },
  {
   "cell_type": "markdown",
   "metadata": {},
   "source": [
    "На поиск неявных дубликатов в этом списке уйдет слишком много времени, поэтому оставим этот столбец без изменения. Стоит обратить внимание инженеров по сбору данных на представления информации в этом столбце."
   ]
  },
  {
   "cell_type": "code",
   "execution_count": null,
   "metadata": {},
   "outputs": [],
   "source": [
    "df['production_country']"
   ]
  },
  {
   "cell_type": "code",
   "execution_count": null,
   "metadata": {
    "scrolled": true
   },
   "outputs": [],
   "source": [
    "df['production_country'].unique()"
   ]
  },
  {
   "cell_type": "code",
   "execution_count": null,
   "metadata": {},
   "outputs": [],
   "source": [
    "df['production_country'].nunique()"
   ]
  },
  {
   "cell_type": "code",
   "execution_count": null,
   "metadata": {},
   "outputs": [],
   "source": [
    "# создадим функцию для того, чтобы заменить \"-\" на \" \"\n",
    "\n",
    "def change(i):\n",
    "    if isinstance(i, str) and \"-\" in i:\n",
    "        return i.replace('-', ' ')\n",
    "    return i    "
   ]
  },
  {
   "cell_type": "code",
   "execution_count": null,
   "metadata": {},
   "outputs": [],
   "source": [
    "df['production_country'] = df['production_country'].apply(change)\n"
   ]
  },
  {
   "cell_type": "code",
   "execution_count": null,
   "metadata": {
    "scrolled": true
   },
   "outputs": [],
   "source": [
    "df['production_country'].unique()"
   ]
  },
  {
   "cell_type": "code",
   "execution_count": null,
   "metadata": {},
   "outputs": [],
   "source": [
    "df['production_country'].nunique()"
   ]
  },
  {
   "cell_type": "code",
   "execution_count": null,
   "metadata": {
    "scrolled": false
   },
   "outputs": [],
   "source": [
    "df['director'].nunique()"
   ]
  },
  {
   "cell_type": "code",
   "execution_count": null,
   "metadata": {},
   "outputs": [],
   "source": [
    "df['director']"
   ]
  },
  {
   "cell_type": "code",
   "execution_count": null,
   "metadata": {},
   "outputs": [],
   "source": [
    "def dir_name(i):\n",
    "    if isinstance(i, str) and \".\" in i[1] :\n",
    "        return i[2:]\n",
    "    return i    "
   ]
  },
  {
   "cell_type": "code",
   "execution_count": null,
   "metadata": {},
   "outputs": [],
   "source": [
    "df['director'] = df['director'].apply(dir_name)"
   ]
  },
  {
   "cell_type": "code",
   "execution_count": null,
   "metadata": {},
   "outputs": [],
   "source": [
    "df['producer'].str.split(', ').str[1]"
   ]
  },
  {
   "cell_type": "code",
   "execution_count": null,
   "metadata": {},
   "outputs": [],
   "source": [
    "df['director'].nunique()"
   ]
  },
  {
   "cell_type": "markdown",
   "metadata": {},
   "source": [
    "Нашли 77 дубликатов в этом столбце"
   ]
  },
  {
   "cell_type": "code",
   "execution_count": null,
   "metadata": {},
   "outputs": [],
   "source": [
    "df['title'].nunique()"
   ]
  },
  {
   "cell_type": "code",
   "execution_count": null,
   "metadata": {
    "scrolled": false
   },
   "outputs": [],
   "source": [
    "df['title'].value_counts().head(20)"
   ]
  },
  {
   "cell_type": "code",
   "execution_count": null,
   "metadata": {},
   "outputs": [],
   "source": [
    "# избавимся от спецсимволов в конце названий\n",
    "\n",
    "def title(i):\n",
    "    if \"/\" in i[-1] or \".\" in i[-1] or \"_\" in i[-1]  :\n",
    "        return i.strip()[:-1]\n",
    "    return i"
   ]
  },
  {
   "cell_type": "code",
   "execution_count": null,
   "metadata": {},
   "outputs": [],
   "source": [
    "# избавимся от поясняющих записей типа \" .../по роману...\"\n",
    "def title_find(i):\n",
    "    if \"/\" in i:      \n",
    "        index = i.find('/')\n",
    "        return i[:index]  \n",
    "                         \n",
    "    return i"
   ]
  },
  {
   "cell_type": "code",
   "execution_count": null,
   "metadata": {},
   "outputs": [],
   "source": [
    "df['title'] = df['title'].apply(title)"
   ]
  },
  {
   "cell_type": "code",
   "execution_count": null,
   "metadata": {},
   "outputs": [],
   "source": [
    "df['title'].value_counts().head(20)"
   ]
  },
  {
   "cell_type": "code",
   "execution_count": null,
   "metadata": {},
   "outputs": [],
   "source": [
    "df['title'] = df['title'].apply(title_find)"
   ]
  },
  {
   "cell_type": "code",
   "execution_count": null,
   "metadata": {},
   "outputs": [],
   "source": [
    "df['title'].value_counts().head(20)"
   ]
  },
  {
   "cell_type": "code",
   "execution_count": null,
   "metadata": {},
   "outputs": [],
   "source": [
    "df['title'].nunique()"
   ]
  },
  {
   "cell_type": "code",
   "execution_count": null,
   "metadata": {
    "scrolled": true
   },
   "outputs": [],
   "source": [
    "df.query('title == \"день святого валентина\"')"
   ]
  },
  {
   "cell_type": "code",
   "execution_count": null,
   "metadata": {},
   "outputs": [],
   "source": [
    "df.duplicated().sum()"
   ]
  },
  {
   "cell_type": "markdown",
   "metadata": {},
   "source": [
    "Дубликаты в столбце title нельзя удалять, т к у них разные прокатные удостоверения"
   ]
  },
  {
   "cell_type": "code",
   "execution_count": null,
   "metadata": {
    "scrolled": true
   },
   "outputs": [],
   "source": [
    "df"
   ]
  },
  {
   "cell_type": "markdown",
   "metadata": {},
   "source": [
    "##### Результаты поиска дубликатов\n",
    "\n",
    "Явных дубликатов обнаружено не было\n",
    "\n",
    "При поиске неявных дубликатов было обнаружено множество опечаток"
   ]
  },
  {
   "cell_type": "markdown",
   "metadata": {
    "id": "52fOPrEBgFyQ"
   },
   "source": [
    "#### Шаг 2.4. Изучите категориальные значения\n",
    "\n",
    "- Посмотрите, какая общая проблема встречается почти во всех категориальных столбцах;\n",
    "- Исправьте проблемные значения в поле `type`.\n",
    "\n",
    "<div id=\"accordion\">\n",
    "    <div class=\"card\">\n",
    "        <div class=\"card-header\" id=\"headingThree\">\n",
    "            <button class=\"btn btn-link collapsed\" data-toggle=\"collapse\" data-target=\"#collapseHint_1\" aria-expanded=\"false\" aria-controls=\"collapseHint_1\">Подсказка</button>\n",
    "        </div>\n",
    "        <div id=\"collapseHint_1\" class=\"collapse\" aria-labelledby=\"headingThree\" data-parent=\"#accordion\">\n",
    "            <div class=\"card-body\">\n",
    "В поле <code>type</code> есть несколько значений, у которых появился пробел в начале строки. Самый простой способ их «починить» -- использовать метод <a href=\"https://pandas.pydata.org/docs/reference/api/pandas.Series.str.strip.html#pandas.Series.str.strip\">.str.strip</a>. Этот метод удаляет все пробелы, которые встречаются в начале и в конце строки. Применяют его таким образом:<br>\n",
    "<code>df['type'].str.strip()</code>\n",
    "            </div>\n",
    "        </div>\n",
    "    </div>\n",
    "</div>"
   ]
  },
  {
   "cell_type": "markdown",
   "metadata": {
    "id": "PnXKIVdFgFyR"
   },
   "source": [
    "##### Результаты изучения категориальных значений\n",
    "В категориальных переменных встречаются значения с пробелами в начале или конце строки, мы удалили их ранее"
   ]
  },
  {
   "cell_type": "markdown",
   "metadata": {
    "id": "XFSN5lrEgFyR"
   },
   "source": [
    "#### Шаг 2.5. Проверьте количественные значения\n",
    "\n",
    "- Проверьте, обнаружились ли в таких столбцах подозрительные данные. Как с такими данными лучше поступить?\n",
    "\n",
    "<div id=\"accordion\">\n",
    "    <div class=\"card\">\n",
    "        <div class=\"card-header\" id=\"headingThree\">\n",
    "            <button class=\"btn btn-link collapsed\" data-toggle=\"collapse\" data-target=\"#collapseHint_budget\" aria-expanded=\"false\" aria-controls=\"collapseHint_budget\">Подсказка</button>\n",
    "        </div>\n",
    "        <div id=\"collapseHint_budget\" class=\"collapse\" aria-labelledby=\"headingThree\" data-parent=\"#accordion\">\n",
    "            <div class=\"card-body\">\n",
    "Обратите внимание на описание столбца <code>budget</code>. Как этот столбец соотносится с двумя другими: <code>refundable_support</code> и <code>nonrefundable_support</code>?\n",
    "            </div>\n",
    "        </div>\n",
    "    </div>\n",
    "</div>"
   ]
  },
  {
   "cell_type": "code",
   "execution_count": null,
   "metadata": {
    "id": "YbzClBxagFyS",
    "scrolled": true
   },
   "outputs": [],
   "source": [
    "# Подозрительные значения budget = 0, хотя господдержка включена в это значение и refundable_support и nonrefundable_support не равны 0\n",
    "df.query('budget < refundable_support + nonrefundable_support ')"
   ]
  },
  {
   "cell_type": "code",
   "execution_count": null,
   "metadata": {
    "scrolled": true
   },
   "outputs": [],
   "source": [
    "df.query('box_office < 10000 ')"
   ]
  },
  {
   "cell_type": "markdown",
   "metadata": {},
   "source": [
    "В данном столбце есть подозрительно маленькие значения, возможно здесь есть ошибка в разрядности или переводе в рубли. Такие подозрения из за наличия в этом списке именитых фильмов, кассовые сборы которых никак не могут быть маленькими.\n",
    "\n",
    "Пока оставим эти значения, так как неизвестно из за чего они появились и пригодятся ли в дальнейшем"
   ]
  },
  {
   "cell_type": "code",
   "execution_count": null,
   "metadata": {
    "scrolled": true
   },
   "outputs": [],
   "source": [
    "df"
   ]
  },
  {
   "cell_type": "markdown",
   "metadata": {},
   "source": [
    "##### Результаты изучения количественых значений\n",
    "В данном столбце есть подозрительно маленькие значения, возможно здесь есть ошибка в разрядности или переводе в рубли. Такие подозрения из за наличия в этом списке именитых фильмов, кассовые сборы которых никак не могут быть маленькими.\n",
    "\n",
    "Пока оставим эти значения, так как неизвестно из за чего они появились и пригодятся ли в дальнейшем"
   ]
  },
  {
   "cell_type": "markdown",
   "metadata": {
    "id": "Eu6oWp2CgFyS"
   },
   "source": [
    "#### Шаг 2.6. Добавьте новые столбцы\n",
    "\n",
    "\n",
    "\n"
   ]
  },
  {
   "cell_type": "markdown",
   "metadata": {
    "id": "7GgW-UpAgFyS"
   },
   "source": [
    "- Создайте столбец с информацией о годе проката. Выделите год из даты премьеры фильма."
   ]
  },
  {
   "cell_type": "markdown",
   "metadata": {
    "id": "I-yd1DkWgFyT"
   },
   "source": [
    "Ранее уже добавили этот столбец"
   ]
  },
  {
   "cell_type": "markdown",
   "metadata": {
    "id": "nFTDLDYOgFyT"
   },
   "source": [
    "- Создайте два столбца: с именем и фамилией главного режиссёра и основным жанром фильма. В столбцы войдут первые значения из списка режиссёров и жанров соответственно.\n",
    "\n",
    "<div id=\"accordion\">\n",
    "    <div class=\"card\">\n",
    "        <div class=\"card-header\" id=\"headingThree\">\n",
    "            <button class=\"btn btn-link collapsed\" data-toggle=\"collapse\" data-target=\"#collapseHint_2\" aria-expanded=\"false\" aria-controls=\"collapseHint_2\">Подсказка</button>\n",
    "        </div>\n",
    "        <div id=\"collapseHint_2\" class=\"collapse\" aria-labelledby=\"headingThree\" data-parent=\"#accordion\">\n",
    "            <div class=\"card-body\">\n",
    "Чтобы создать такие столбцы, лучше всего использовать собственную функцию. Эту функцию можно применить к двум столбцам сразу. \n",
    "            </div>\n",
    "        </div>\n",
    "    </div>\n",
    "</div>"
   ]
  },
  {
   "cell_type": "code",
   "execution_count": null,
   "metadata": {
    "scrolled": true
   },
   "outputs": [],
   "source": [
    "df"
   ]
  },
  {
   "cell_type": "code",
   "execution_count": null,
   "metadata": {},
   "outputs": [],
   "source": [
    "def srez(i):\n",
    "    \n",
    "    if isinstance(i,str) and \",\" in i:\n",
    "        \n",
    "        index = i.find(',')\n",
    "        \n",
    "        return i[:index]  \n",
    "    return i\n",
    "    "
   ]
  },
  {
   "cell_type": "code",
   "execution_count": null,
   "metadata": {},
   "outputs": [],
   "source": [
    "df['director_first_name'] = df['director'].apply(srez)"
   ]
  },
  {
   "cell_type": "code",
   "execution_count": null,
   "metadata": {},
   "outputs": [],
   "source": [
    "df['first_ganre'] = df['genres'].apply(srez)"
   ]
  },
  {
   "cell_type": "code",
   "execution_count": null,
   "metadata": {
    "scrolled": true
   },
   "outputs": [],
   "source": [
    "df"
   ]
  },
  {
   "cell_type": "markdown",
   "metadata": {
    "id": "1FsCXHwdgFyU"
   },
   "source": [
    "- Посчитайте, какую долю от общего бюджета фильма составляет государственная поддержка."
   ]
  },
  {
   "cell_type": "code",
   "execution_count": null,
   "metadata": {
    "id": "LV6qFuZLgFyV"
   },
   "outputs": [],
   "source": [
    "df['share_of_support'] = (df['refundable_support']+df['nonrefundable_support'])/df['budget']"
   ]
  },
  {
   "cell_type": "code",
   "execution_count": null,
   "metadata": {},
   "outputs": [],
   "source": [
    "df.query('budget.isna() != True').head()"
   ]
  },
  {
   "cell_type": "markdown",
   "metadata": {
    "id": "6t4EukPLgFyV"
   },
   "source": [
    "### Шаг 3. Проведите исследовательский анализ данных\n"
   ]
  },
  {
   "cell_type": "markdown",
   "metadata": {
    "id": "vAH8WCzugFyV"
   },
   "source": [
    "- Посмотрите, сколько фильмов выходило в прокат каждый год. Обратите внимание, что данные о прокате в кинотеатрах известны не для всех фильмов. Посчитайте, какую долю составляют фильмы с указанной информацией о прокате в кинотеатрах."
   ]
  },
  {
   "cell_type": "code",
   "execution_count": null,
   "metadata": {},
   "outputs": [],
   "source": [
    "rental_year = df.query('box_office.isna()==False').pivot_table(index='year',values=['box_office'],aggfunc='count')"
   ]
  },
  {
   "cell_type": "code",
   "execution_count": null,
   "metadata": {},
   "outputs": [],
   "source": [
    "rental_year.plot(kind='bar', grid=True,figsize=(20,10),title = 'Количество фильмов, выходивших в прокат по годам, имеющие информацию о прокате')\n"
   ]
  },
  {
   "cell_type": "markdown",
   "metadata": {},
   "source": [
    "с каждым годом фильмов выходит в прокат все больше, в 2017 был спад, но до 2019 тенденчия к росту сохраняется"
   ]
  },
  {
   "cell_type": "code",
   "execution_count": null,
   "metadata": {},
   "outputs": [],
   "source": [
    "# Доля фильмов с информацией о прокате \n",
    "ratio_films = len(df.query('box_office.isna()==False'))/len(df)\n",
    "print(f'Доля фильмов с информацией о прокате: {ratio_films:.2f}')"
   ]
  },
  {
   "cell_type": "markdown",
   "metadata": {
    "id": "BEOdcIrIgFyW"
   },
   "source": [
    "- Изучите, как менялась динамика проката по годам. В каком году сумма сборов была минимальной? А максимальной?"
   ]
  },
  {
   "cell_type": "code",
   "execution_count": null,
   "metadata": {},
   "outputs": [],
   "source": [
    "box_office = df.pivot_table(index='year',values=['box_office'],aggfunc='count')"
   ]
  },
  {
   "cell_type": "code",
   "execution_count": null,
   "metadata": {
    "id": "tfEhofYvgFyX"
   },
   "outputs": [],
   "source": [
    " box_office.plot(kind='bar', grid=True,figsize=(20,10),title = 'Количество фильмов, выходивших в прокат по годам')"
   ]
  },
  {
   "cell_type": "code",
   "execution_count": null,
   "metadata": {},
   "outputs": [],
   "source": [
    "sum_boxoffice = df.query('box_office.isna()==False').pivot_table(index = 'year', values= 'box_office',aggfunc='sum')"
   ]
  },
  {
   "cell_type": "code",
   "execution_count": null,
   "metadata": {},
   "outputs": [],
   "source": [
    "sum_boxoffice # Выведем суммарные сборы по годам"
   ]
  },
  {
   "cell_type": "code",
   "execution_count": null,
   "metadata": {},
   "outputs": [],
   "source": [
    "sum_boxoffice.plot(kind='bar',grid=True, figsize=(20,10),title = 'Суммарные сборы фильмов, выходивших в прокат по годам')"
   ]
  },
  {
   "cell_type": "code",
   "execution_count": null,
   "metadata": {},
   "outputs": [],
   "source": [
    "sum_boxoffice.describe()"
   ]
  },
  {
   "cell_type": "markdown",
   "metadata": {},
   "source": [
    "49,622,695,308.8 - Максимальные сборы \n",
    "\n",
    "2,425,499.0 - Минимальные сборы"
   ]
  },
  {
   "cell_type": "markdown",
   "metadata": {
    "id": "G-7qS-N-gFyY"
   },
   "source": [
    "- С помощью сводной таблицы посчитайте среднюю и медианную сумму сборов для каждого года."
   ]
  },
  {
   "cell_type": "code",
   "execution_count": null,
   "metadata": {
    "id": "jmp-rgg9gFyY"
   },
   "outputs": [],
   "source": [
    "df.pivot_table(index='year', values='box_office', aggfunc=('mean','median'))"
   ]
  },
  {
   "cell_type": "markdown",
   "metadata": {
    "id": "Ok89WFwJgFyZ"
   },
   "source": [
    "- Определите, влияет ли возрастное ограничение аудитории («6+», «12+», «16+», «18+» и т. д.) на сборы фильма в прокате в период с 2015 по 2019 год? Фильмы с каким возрастным ограничением собрали больше всего денег в прокате? Меняется ли картина в зависимости от года? Если да, предположите, с чем это может быть связано."
   ]
  },
  {
   "cell_type": "code",
   "execution_count": null,
   "metadata": {
    "id": "jsSbEqfjgFya",
    "scrolled": true
   },
   "outputs": [],
   "source": [
    "boxoffice_by_category = df.query('(year in [2015,2016,2017,2018,2019]) and (box_office.isna()==False)').pivot_table(index='age_restriction', values='box_office', aggfunc='sum').sort_values(by ='box_office')"
   ]
  },
  {
   "cell_type": "code",
   "execution_count": null,
   "metadata": {},
   "outputs": [],
   "source": [
    "boxoffice_by_category # Суммарные сборы в период с 2015 по 2019 в зависимости от возрастных рейтингов"
   ]
  },
  {
   "cell_type": "code",
   "execution_count": null,
   "metadata": {},
   "outputs": [],
   "source": [
    "boxoffice_by_category.plot(kind='bar',grid=True, figsize=(20,10),title = 'Зависимость кассовых сборов от возрастного рейтинка в период с 2015 по 2019 год')"
   ]
  },
  {
   "cell_type": "markdown",
   "metadata": {},
   "source": [
    "Самые кассовые фильмы в заданный период имеют возрастное ограничение \"16+\"\n",
    "\n",
    "На втором месте \"12+\"\n",
    "\n",
    "на третьем с небольшим отставанием \"6+\""
   ]
  },
  {
   "cell_type": "code",
   "execution_count": null,
   "metadata": {
    "scrolled": false
   },
   "outputs": [],
   "source": [
    "boxoffice_by_category_and_year = df.query('(year in [2015,2016,2017,2018,2019]) and (box_office.isna()==False)')\\\n",
    "                                    .pivot_table(index=['year','age_restriction'], values='box_office', aggfunc='sum')"
   ]
  },
  {
   "cell_type": "code",
   "execution_count": null,
   "metadata": {},
   "outputs": [],
   "source": [
    "boxoffice_by_category_and_year"
   ]
  },
  {
   "cell_type": "code",
   "execution_count": null,
   "metadata": {},
   "outputs": [],
   "source": [
    "boxoffice_by_category_and_year.plot(kind='bar',grid=True, figsize=(20,10),title = 'Зависимость кассовых сборов от возрастного рейтинка по годам')"
   ]
  },
  {
   "cell_type": "markdown",
   "metadata": {},
   "source": [
    "*Для 2015:*\n",
    "1-е место рейтинг \"12+\"\n",
    "1-е место рейтинг \"16+\"\n",
    "1-е место рейтинг \"6+\"\n",
    "\n",
    "*Для 2016:*\n",
    "1-е место рейтинг \"16+\"\n",
    "2-е место рейтинг \"12+\" и \"6+\" с одинаковыми сборами\n",
    "\n",
    "*Для 2017:*\n",
    "1-е место рейтинг \"16+\" (это наибольший показатель за весь период)\n",
    "2-е место рейтинг \"6+\"\n",
    "3-е место рейтинг \"18+\" (Впервые в тройку вошла эта категория)\n",
    "\n",
    "*Для 2018:*\n",
    "1-е место рейтинг \"16+\"\n",
    "2-е место рейтинг \"12+\"\n",
    "3-е место рейтинг \"6+\"\n",
    "\n",
    "*Для 2019:*\n",
    "Для этого года примерно одинкаовые сборы у категорий: \"12+\",\"16+\",\"6+\"\n",
    "\n",
    "Во все года нименьшие сборы с большим отрывом собирает категория \"0+\""
   ]
  },
  {
   "cell_type": "markdown",
   "metadata": {},
   "source": [
    "##### Результаты исследовательского анализа\n",
    "Для всех годов по сборам самая популярная категория \"16+\" и аутсайдер \"0+\"\n",
    "\n",
    "Самый прибыльный год бы 2017. До 2017 года наблюдался медианных сборов за год, после 2017 прибыль пошла на спад.\n",
    "\n",
    "Среднее значение сборов по годам сильно завышены из за выбросов\n",
    "\n",
    "49,622,695,308.8 - Максимальные сборы\n",
    "\n",
    "2,425,499.0 - Минимальные сборы\n",
    "\n",
    "Доля фильмов с информацией о прокате: 0.44"
   ]
  },
  {
   "cell_type": "markdown",
   "metadata": {
    "id": "l_Kg6Ku4gFya"
   },
   "source": [
    "### Шаг 4. Исследуйте фильмы, которые получили государственную поддержку\n",
    "\n",
    "На этом этапе нет конкретных инструкций и заданий — поищите интересные закономерности в данных. Посмотрите, сколько выделяют средств на поддержку кино. Проверьте, хорошо ли окупаются такие фильмы, какой у них рейтинг."
   ]
  },
  {
   "cell_type": "code",
   "execution_count": null,
   "metadata": {
    "id": "W9QKpjUdgFyb"
   },
   "outputs": [],
   "source": [
    "gos_films = df.query('budget.isna() != True').copy()"
   ]
  },
  {
   "cell_type": "code",
   "execution_count": null,
   "metadata": {},
   "outputs": [],
   "source": [
    "gos_films.head()"
   ]
  },
  {
   "cell_type": "code",
   "execution_count": null,
   "metadata": {},
   "outputs": [],
   "source": [
    "gos_films['support'] = gos_films['refundable_support']+gos_films['nonrefundable_support']"
   ]
  },
  {
   "cell_type": "code",
   "execution_count": null,
   "metadata": {},
   "outputs": [],
   "source": [
    "gos_films['support'].describe()"
   ]
  },
  {
   "cell_type": "code",
   "execution_count": null,
   "metadata": {
    "scrolled": false
   },
   "outputs": [],
   "source": [
    "gos_films['support'].hist(bins=10, figsize = (20,10), range=(3000000, 500000000), legend=True)"
   ]
  },
  {
   "cell_type": "code",
   "execution_count": null,
   "metadata": {},
   "outputs": [],
   "source": [
    "def category_of_support(i):\n",
    "    \n",
    "    if i <= 100000000:\n",
    "        return 'Категория до 100млн'\n",
    "    elif 100000000< i <= 200000000:\n",
    "        return 'Категория до 200млн'\n",
    "    elif 200000000< i <= 300000000:\n",
    "        return 'Категория до 300млн'\n",
    "    elif 300000000< i <= 400000000:\n",
    "        return 'Категория до 400млн'\n",
    "    elif 400000000< i <= 500000000:\n",
    "        return 'Категория до 500млн'\n",
    "    \n",
    " "
   ]
  },
  {
   "cell_type": "code",
   "execution_count": null,
   "metadata": {},
   "outputs": [],
   "source": [
    "gos_films['category_of_support'] = gos_films['support'].apply(category_of_support)"
   ]
  },
  {
   "cell_type": "code",
   "execution_count": null,
   "metadata": {
    "scrolled": false
   },
   "outputs": [],
   "source": [
    "gos_films['category_of_support'].hist(bins=5, figsize = (20,10), legend=True)"
   ]
  },
  {
   "cell_type": "code",
   "execution_count": null,
   "metadata": {},
   "outputs": [],
   "source": [
    "gos_films.query('category_of_support == \"Категория до 500млн\"')"
   ]
  },
  {
   "cell_type": "markdown",
   "metadata": {},
   "source": [
    "Наибольшее количество фильмов с господдержкой до 100 млн рублей.\n",
    "\n",
    "Минимальная поддержка составляет 3 млн, а максимальная 500млн.\n",
    "\n",
    "Чаще всего встречается господдержка в размере 35 млн.\n",
    "\n",
    "75% выборки с господдержкой меньше 60 млн."
   ]
  },
  {
   "cell_type": "code",
   "execution_count": null,
   "metadata": {},
   "outputs": [],
   "source": [
    "df['ratings'].describe() #  посмотрим как распределяется рейтинг по всем фильмам"
   ]
  },
  {
   "cell_type": "markdown",
   "metadata": {},
   "source": [
    "Распределим по категиям рейтинг:\n",
    "25% фильмов с рейтингов ниже 5.8, присвоим таким фильмам категорию \"Низкий рейтинг\"\n",
    "\n",
    "50% фильмов с рейтингов ниже 6.6, присвоим  фильмам с рейтингом от 5.8 до 6.6 категорию \"Средний рейтинг\"    \n",
    "    \n",
    "25% фильмов с рейтингов выше 7.2, присвоим таким фильмам категорию \"Высокий рейтинг\""
   ]
  },
  {
   "cell_type": "code",
   "execution_count": null,
   "metadata": {},
   "outputs": [],
   "source": [
    "def category_by_rating (i):\n",
    "    if i <= 5.8:\n",
    "        return 'Низкий рейтинг'\n",
    "    elif 5.8 < i <= 6.6:\n",
    "        return 'Средний рейтинг'\n",
    "    \n",
    "    return 'Высокий рейтинг'\n",
    "    "
   ]
  },
  {
   "cell_type": "code",
   "execution_count": null,
   "metadata": {},
   "outputs": [],
   "source": [
    "gos_films['category_by_rating'] = gos_films['ratings'].apply(category_by_rating)"
   ]
  },
  {
   "cell_type": "code",
   "execution_count": null,
   "metadata": {},
   "outputs": [],
   "source": [
    "gos_films_category = gos_films.pivot_table(index = ['category_by_rating','category_of_support'], values = 'puNumber' , aggfunc = 'count').sort_values(by='puNumber', ascending = False).copy()"
   ]
  },
  {
   "cell_type": "code",
   "execution_count": null,
   "metadata": {
    "scrolled": true
   },
   "outputs": [],
   "source": [
    "gos_films_category"
   ]
  },
  {
   "cell_type": "code",
   "execution_count": null,
   "metadata": {
    "scrolled": false
   },
   "outputs": [],
   "source": [
    "\n",
    "gos_films_category.plot(kind='bar',grid=True, figsize=(20,10),title = 'Количество фильмов с господдержкой по категориям рейтинга и размера господдержки')"
   ]
  },
  {
   "cell_type": "markdown",
   "metadata": {},
   "source": [
    "Катагория до 100млн лидирует по всем трем категориям рейтинга: \n",
    "\n",
    "На первом месте \"Низкий рейтинг\", На втором \"Высокий рейтинг\" и на третьем - \"Средний рейтинг\"\n",
    "\n"
   ]
  },
  {
   "cell_type": "markdown",
   "metadata": {},
   "source": [
    "Приведем критерии по которым будем оценивать влияние факторов друг на друга:\n",
    ">Корреляция по критерию Пирсона:\n",
    ">>слабая -- 0,1-0,3\n",
    "\n",
    ">>умереная -- 0,3-0,5\n",
    "\n",
    ">>заметная -- 0,5-0,7\n",
    "\n",
    ">>высокая -- 0,7-0,9\n",
    "\n",
    ">>весьма высока -- 0,9-1,0\n",
    "\n",
    "\n"
   ]
  },
  {
   "cell_type": "code",
   "execution_count": null,
   "metadata": {},
   "outputs": [],
   "source": [
    "gos_films.corr()"
   ]
  },
  {
   "cell_type": "code",
   "execution_count": null,
   "metadata": {},
   "outputs": [],
   "source": [
    " gos_films.plot(x='budget', y='box_office', kind='scatter')\n"
   ]
  },
  {
   "cell_type": "markdown",
   "metadata": {},
   "source": [
    "корреляция бюджета и кссовых сборов умеренная положительная (0,4)"
   ]
  },
  {
   "cell_type": "code",
   "execution_count": null,
   "metadata": {},
   "outputs": [],
   "source": [
    " gos_films.plot(x='ratings', y='box_office', kind='scatter')"
   ]
  },
  {
   "cell_type": "markdown",
   "metadata": {},
   "source": [
    "корреляция рейтинга и кссовых сборов слабая положительная (0,2)"
   ]
  },
  {
   "cell_type": "code",
   "execution_count": null,
   "metadata": {},
   "outputs": [],
   "source": [
    " gos_films.plot(x='support', y='box_office', kind='scatter')"
   ]
  },
  {
   "cell_type": "markdown",
   "metadata": {},
   "source": [
    "корреляция поддержки и кссовых сборов умеренная положительная (0,5)"
   ]
  },
  {
   "cell_type": "code",
   "execution_count": null,
   "metadata": {},
   "outputs": [],
   "source": [
    " gos_films.plot(x='budget', y='year', kind='scatter')"
   ]
  },
  {
   "cell_type": "markdown",
   "metadata": {},
   "source": [
    "корреляция бюджета и года умеренная слабая положительная (0,2)"
   ]
  },
  {
   "cell_type": "code",
   "execution_count": null,
   "metadata": {},
   "outputs": [],
   "source": [
    "# создадим отфильтрованный датасет\n",
    "gos_films_wonan = gos_films.query('(budget.isna() != True)and(box_office.isna() == False)and(budget != 0)').copy()\n",
    "# посчитаем окупаемость фильма и добавим ее в новый столбец\n",
    "gos_films_wonan['payback'] = gos_films_wonan['box_office']/gos_films_wonan['budget']"
   ]
  },
  {
   "cell_type": "code",
   "execution_count": null,
   "metadata": {},
   "outputs": [],
   "source": [
    "len(gos_films_wonan)# посмотрим сколько фильмов попало в выборку после фильтрации"
   ]
  },
  {
   "cell_type": "code",
   "execution_count": null,
   "metadata": {
    "scrolled": false
   },
   "outputs": [],
   "source": [
    "#\n",
    "gos_films_wonan.query('payback >= 1').groupby('category_of_support')['payback'].count().plot(kind='bar', figsize = (20,10))"
   ]
  },
  {
   "cell_type": "markdown",
   "metadata": {},
   "source": [
    "Окупаемость у фильмов с господдержкой не большая (всего 65 фильмов из 300)\n",
    "\n",
    "Из них 50 это фильмы с господдержкой до 100 млн рублей."
   ]
  },
  {
   "cell_type": "markdown",
   "metadata": {},
   "source": [
    "##### Результаты исследования фильмов получивших господдержку\n",
    "\n",
    "Наибольшее количество фильмов с господдержкой до 100 млн рублей.\n",
    "\n",
    "Минимальная поддержка составляет 3 млн, а максимальная 500млн.\n",
    "\n",
    "Чаще всего встречается господдержка в размере 35 млн.\n",
    "\n",
    "75% выборки с господдержкой меньше 60 млн\n",
    "\n",
    "Катагория до 100млн лидирует по всем трем категориям рейтинга:\n",
    "\n",
    "На первом месте \"Низкий рейтинг\", На втором \"Высокий рейтинг\" и на третьем - \"Средний рейтинг\"\n",
    "\n",
    "Сильных корреляций между данными нет, наивысший показатель зависимости (0,5) был выявлен у пары \"support\"-\"box_office\""
   ]
  },
  {
   "cell_type": "markdown",
   "metadata": {
    "id": "V2gYwMcPgFyd"
   },
   "source": [
    "### Шаг 5. Напишите общий вывод"
   ]
  },
  {
   "cell_type": "markdown",
   "metadata": {},
   "source": [
    "Для мирового кино :\n",
    "\n",
    "49,622,695,308.8 - Максимальные сборы\n",
    "\n",
    "2,425,499.0 - Минимальные сборы\n",
    "\n",
    "по сборам самая популярная категория \"16+\" \n",
    "\n",
    "Самый прибыльный год бы 2017\n",
    "\n",
    "Для российского кино:\n",
    "\n",
    "Сложно говорить о трендах конкретно для фильмов с господдержкой, так как выборка составляет всего 300 фильмов. \n",
    "\n",
    "господдержка:\n",
    "\n",
    "Наибольшее количество фильмов с господдержкой до 100 млн рублей.\n",
    "\n",
    "Минимальная поддержка составляет 3 млн, а максимальная 500млн\n",
    "\n",
    "Чаще всего встречается господдержка в размере 35 млн\n"
   ]
  }
 ],
 "metadata": {
  "ExecuteTimeLog": [
   {
    "duration": 537,
    "start_time": "2021-07-07T10:12:08.634Z"
   },
   {
    "duration": 206,
    "start_time": "2021-07-07T10:12:30.191Z"
   },
   {
    "duration": 227,
    "start_time": "2021-07-07T10:12:33.078Z"
   },
   {
    "duration": 153,
    "start_time": "2021-07-07T10:13:42.146Z"
   },
   {
    "duration": 233,
    "start_time": "2021-07-07T10:30:09.252Z"
   },
   {
    "duration": 19,
    "start_time": "2021-07-07T10:30:15.577Z"
   },
   {
    "duration": 18,
    "start_time": "2021-07-07T10:30:57.348Z"
   },
   {
    "duration": 19,
    "start_time": "2021-07-07T10:31:17.452Z"
   },
   {
    "duration": 21,
    "start_time": "2021-07-07T10:31:32.227Z"
   },
   {
    "duration": 27,
    "start_time": "2021-07-07T10:32:06.588Z"
   },
   {
    "duration": 23,
    "start_time": "2021-07-07T10:32:43.645Z"
   },
   {
    "duration": 24,
    "start_time": "2021-07-07T10:33:06.948Z"
   },
   {
    "duration": 7,
    "start_time": "2021-07-07T10:33:28.558Z"
   },
   {
    "duration": 23,
    "start_time": "2021-07-07T10:33:43.761Z"
   },
   {
    "duration": 28,
    "start_time": "2021-07-07T10:34:13.466Z"
   },
   {
    "duration": 23,
    "start_time": "2021-07-07T10:35:56.187Z"
   },
   {
    "duration": 6,
    "start_time": "2021-07-07T10:36:48.182Z"
   },
   {
    "duration": 14,
    "start_time": "2021-07-07T10:37:49.641Z"
   },
   {
    "duration": 6,
    "start_time": "2021-07-07T10:38:06.694Z"
   },
   {
    "duration": 6,
    "start_time": "2021-07-07T10:38:13.493Z"
   },
   {
    "duration": 19,
    "start_time": "2021-07-07T10:38:44.056Z"
   },
   {
    "duration": 186,
    "start_time": "2021-07-07T10:48:35.618Z"
   },
   {
    "duration": 24,
    "start_time": "2021-07-07T10:48:51.498Z"
   },
   {
    "duration": 20,
    "start_time": "2021-07-07T10:48:59.415Z"
   },
   {
    "duration": 20,
    "start_time": "2021-07-07T10:53:02.195Z"
   },
   {
    "duration": 188,
    "start_time": "2021-07-07T10:54:40.486Z"
   },
   {
    "duration": 115,
    "start_time": "2021-07-07T10:54:52.552Z"
   },
   {
    "duration": 214,
    "start_time": "2021-07-07T10:54:56.354Z"
   },
   {
    "duration": 47,
    "start_time": "2021-07-07T10:54:58.282Z"
   },
   {
    "duration": 217,
    "start_time": "2021-07-07T10:59:16.075Z"
   },
   {
    "duration": 51,
    "start_time": "2021-07-07T10:59:16.243Z"
   },
   {
    "duration": 578,
    "start_time": "2021-07-07T10:59:18.774Z"
   },
   {
    "duration": 161,
    "start_time": "2021-07-07T10:59:21.238Z"
   },
   {
    "duration": 59,
    "start_time": "2021-07-07T10:59:21.453Z"
   },
   {
    "duration": 3,
    "start_time": "2021-07-07T11:02:10.786Z"
   },
   {
    "duration": 13,
    "start_time": "2021-07-07T11:07:07.722Z"
   },
   {
    "duration": 26,
    "start_time": "2021-07-07T11:07:17.958Z"
   },
   {
    "duration": 22,
    "start_time": "2021-07-07T11:08:17.939Z"
   },
   {
    "duration": 212,
    "start_time": "2021-07-07T11:08:19.665Z"
   },
   {
    "duration": 21,
    "start_time": "2021-07-07T11:08:29.945Z"
   },
   {
    "duration": 31,
    "start_time": "2021-07-07T11:08:38.899Z"
   },
   {
    "duration": 23,
    "start_time": "2021-07-07T11:08:54.527Z"
   },
   {
    "duration": 8,
    "start_time": "2021-07-07T11:18:55.974Z"
   },
   {
    "duration": 7,
    "start_time": "2021-07-07T11:19:03.639Z"
   },
   {
    "duration": 7,
    "start_time": "2021-07-07T11:19:06.444Z"
   },
   {
    "duration": 578,
    "start_time": "2021-07-07T12:09:59.576Z"
   },
   {
    "duration": 195,
    "start_time": "2021-07-07T12:10:00.156Z"
   },
   {
    "duration": 115,
    "start_time": "2021-07-07T12:10:00.353Z"
   },
   {
    "duration": 3,
    "start_time": "2021-07-07T12:10:00.470Z"
   },
   {
    "duration": 32,
    "start_time": "2021-07-07T12:10:00.474Z"
   },
   {
    "duration": 23,
    "start_time": "2021-07-07T12:10:00.508Z"
   },
   {
    "duration": 19,
    "start_time": "2021-07-07T12:10:00.533Z"
   },
   {
    "duration": 44,
    "start_time": "2021-07-07T12:10:00.553Z"
   },
   {
    "duration": 7,
    "start_time": "2021-07-07T12:10:00.600Z"
   },
   {
    "duration": 7,
    "start_time": "2021-07-07T12:19:45.761Z"
   },
   {
    "duration": 21,
    "start_time": "2021-07-07T12:21:35.482Z"
   },
   {
    "duration": 21,
    "start_time": "2021-07-07T12:29:23.569Z"
   },
   {
    "duration": 525,
    "start_time": "2021-07-07T12:29:44.542Z"
   },
   {
    "duration": 214,
    "start_time": "2021-07-07T12:29:45.069Z"
   },
   {
    "duration": 92,
    "start_time": "2021-07-07T12:29:45.285Z"
   },
   {
    "duration": 3,
    "start_time": "2021-07-07T12:29:45.379Z"
   },
   {
    "duration": 28,
    "start_time": "2021-07-07T12:29:45.384Z"
   },
   {
    "duration": 23,
    "start_time": "2021-07-07T12:29:45.413Z"
   },
   {
    "duration": 21,
    "start_time": "2021-07-07T12:29:45.437Z"
   },
   {
    "duration": 41,
    "start_time": "2021-07-07T12:29:45.460Z"
   },
   {
    "duration": 7,
    "start_time": "2021-07-07T12:29:45.502Z"
   },
   {
    "duration": 20,
    "start_time": "2021-07-07T12:29:45.511Z"
   },
   {
    "duration": 12,
    "start_time": "2021-07-07T12:34:02.800Z"
   },
   {
    "duration": 7,
    "start_time": "2021-07-07T12:35:10.479Z"
   },
   {
    "duration": 8,
    "start_time": "2021-07-07T12:35:22.440Z"
   },
   {
    "duration": 6,
    "start_time": "2021-07-07T12:35:35.649Z"
   },
   {
    "duration": 6,
    "start_time": "2021-07-07T12:35:43.107Z"
   },
   {
    "duration": 22,
    "start_time": "2021-07-07T12:38:03.029Z"
   },
   {
    "duration": 10,
    "start_time": "2021-07-07T12:38:06.592Z"
   },
   {
    "duration": 563,
    "start_time": "2021-07-07T12:38:46.493Z"
   },
   {
    "duration": 265,
    "start_time": "2021-07-07T12:38:47.058Z"
   },
   {
    "duration": 94,
    "start_time": "2021-07-07T12:38:47.325Z"
   },
   {
    "duration": 3,
    "start_time": "2021-07-07T12:38:47.422Z"
   },
   {
    "duration": 30,
    "start_time": "2021-07-07T12:38:47.427Z"
   },
   {
    "duration": 16,
    "start_time": "2021-07-07T12:38:53.305Z"
   },
   {
    "duration": 10,
    "start_time": "2021-07-07T12:38:53.499Z"
   },
   {
    "duration": 8,
    "start_time": "2021-07-07T12:39:48.161Z"
   },
   {
    "duration": 27,
    "start_time": "2021-07-07T12:41:17.629Z"
   },
   {
    "duration": 17,
    "start_time": "2021-07-07T12:41:17.867Z"
   },
   {
    "duration": 21,
    "start_time": "2021-07-07T12:41:19.310Z"
   },
   {
    "duration": 7,
    "start_time": "2021-07-07T12:41:19.544Z"
   },
   {
    "duration": 20,
    "start_time": "2021-07-07T12:41:20.504Z"
   },
   {
    "duration": 554,
    "start_time": "2021-07-07T12:56:23.696Z"
   },
   {
    "duration": 200,
    "start_time": "2021-07-07T12:56:25.234Z"
   },
   {
    "duration": 119,
    "start_time": "2021-07-07T12:56:25.480Z"
   },
   {
    "duration": 4,
    "start_time": "2021-07-07T12:56:25.762Z"
   },
   {
    "duration": 26,
    "start_time": "2021-07-07T12:56:27.172Z"
   },
   {
    "duration": 12,
    "start_time": "2021-07-07T12:56:29.051Z"
   },
   {
    "duration": 10,
    "start_time": "2021-07-07T12:56:29.291Z"
   },
   {
    "duration": 8,
    "start_time": "2021-07-07T12:56:29.623Z"
   },
   {
    "duration": 28,
    "start_time": "2021-07-07T12:56:32.137Z"
   },
   {
    "duration": 19,
    "start_time": "2021-07-07T12:56:39.785Z"
   },
   {
    "duration": 20,
    "start_time": "2021-07-07T12:56:44.297Z"
   },
   {
    "duration": 7,
    "start_time": "2021-07-07T12:56:45.392Z"
   },
   {
    "duration": 23,
    "start_time": "2021-07-07T12:56:46.615Z"
   },
   {
    "duration": 4,
    "start_time": "2021-07-07T12:57:06.625Z"
   },
   {
    "duration": 32,
    "start_time": "2021-07-07T12:57:36.690Z"
   },
   {
    "duration": 18,
    "start_time": "2021-07-07T12:58:00.149Z"
   },
   {
    "duration": 15,
    "start_time": "2021-07-07T12:59:16.793Z"
   },
   {
    "duration": 7,
    "start_time": "2021-07-07T13:19:22.624Z"
   },
   {
    "duration": 6,
    "start_time": "2021-07-07T14:17:33.527Z"
   },
   {
    "duration": 9,
    "start_time": "2021-07-07T14:17:48.409Z"
   },
   {
    "duration": 8,
    "start_time": "2021-07-07T14:20:13.060Z"
   },
   {
    "duration": 8,
    "start_time": "2021-07-07T14:20:37.957Z"
   },
   {
    "duration": 8,
    "start_time": "2021-07-07T14:20:47.470Z"
   },
   {
    "duration": 9,
    "start_time": "2021-07-07T14:20:54.503Z"
   },
   {
    "duration": 10,
    "start_time": "2021-07-07T14:28:57.763Z"
   },
   {
    "duration": 3,
    "start_time": "2021-07-07T14:30:23.377Z"
   },
   {
    "duration": 3,
    "start_time": "2021-07-07T14:30:36.489Z"
   },
   {
    "duration": 103,
    "start_time": "2021-07-07T14:30:52.351Z"
   },
   {
    "duration": 8,
    "start_time": "2021-07-07T14:30:54.763Z"
   },
   {
    "duration": 8,
    "start_time": "2021-07-07T14:31:29.301Z"
   },
   {
    "duration": 13,
    "start_time": "2021-07-07T14:31:44.516Z"
   },
   {
    "duration": 7,
    "start_time": "2021-07-07T14:33:10.972Z"
   },
   {
    "duration": 11,
    "start_time": "2021-07-07T14:33:27.780Z"
   },
   {
    "duration": 8,
    "start_time": "2021-07-07T14:34:44.588Z"
   },
   {
    "duration": 57,
    "start_time": "2021-07-07T14:35:59.042Z"
   },
   {
    "duration": 3,
    "start_time": "2021-07-07T14:36:28.168Z"
   },
   {
    "duration": 5,
    "start_time": "2021-07-07T14:36:46.254Z"
   },
   {
    "duration": 4,
    "start_time": "2021-07-07T14:36:52.714Z"
   },
   {
    "duration": 3,
    "start_time": "2021-07-07T14:36:56.612Z"
   },
   {
    "duration": 4,
    "start_time": "2021-07-07T14:36:57.049Z"
   },
   {
    "duration": 3,
    "start_time": "2021-07-07T14:39:21.214Z"
   },
   {
    "duration": 7,
    "start_time": "2021-07-07T14:39:52.406Z"
   },
   {
    "duration": 11,
    "start_time": "2021-07-07T14:39:58.576Z"
   },
   {
    "duration": 9,
    "start_time": "2021-07-07T14:40:26.301Z"
   },
   {
    "duration": 10,
    "start_time": "2021-07-07T14:40:31.704Z"
   },
   {
    "duration": 11,
    "start_time": "2021-07-07T14:40:36.249Z"
   },
   {
    "duration": 10,
    "start_time": "2021-07-07T14:40:39.783Z"
   },
   {
    "duration": 9,
    "start_time": "2021-07-07T14:40:48.558Z"
   },
   {
    "duration": 10,
    "start_time": "2021-07-07T14:40:57.143Z"
   },
   {
    "duration": 9,
    "start_time": "2021-07-07T14:41:06.074Z"
   },
   {
    "duration": 4324,
    "start_time": "2021-07-07T14:41:22.004Z"
   },
   {
    "duration": 11,
    "start_time": "2021-07-07T14:41:33.392Z"
   },
   {
    "duration": 9,
    "start_time": "2021-07-07T14:41:39.288Z"
   },
   {
    "duration": 569,
    "start_time": "2021-07-07T14:42:14.387Z"
   },
   {
    "duration": 197,
    "start_time": "2021-07-07T14:42:14.959Z"
   },
   {
    "duration": 84,
    "start_time": "2021-07-07T14:42:16.052Z"
   },
   {
    "duration": 4,
    "start_time": "2021-07-07T14:42:16.900Z"
   },
   {
    "duration": 27,
    "start_time": "2021-07-07T14:42:19.898Z"
   },
   {
    "duration": 12,
    "start_time": "2021-07-07T14:42:21.577Z"
   },
   {
    "duration": 9,
    "start_time": "2021-07-07T14:42:21.813Z"
   },
   {
    "duration": 9,
    "start_time": "2021-07-07T14:42:22.569Z"
   },
   {
    "duration": 29,
    "start_time": "2021-07-07T14:42:25.837Z"
   },
   {
    "duration": 20,
    "start_time": "2021-07-07T14:42:27.003Z"
   },
   {
    "duration": 21,
    "start_time": "2021-07-07T14:42:28.767Z"
   },
   {
    "duration": 7,
    "start_time": "2021-07-07T14:42:29.838Z"
   },
   {
    "duration": 4,
    "start_time": "2021-07-07T14:43:25.493Z"
   },
   {
    "duration": 7,
    "start_time": "2021-07-07T14:43:26.573Z"
   },
   {
    "duration": 10,
    "start_time": "2021-07-07T14:43:31.639Z"
   },
   {
    "duration": 9,
    "start_time": "2021-07-07T14:43:32.046Z"
   },
   {
    "duration": 10,
    "start_time": "2021-07-07T14:43:33.301Z"
   },
   {
    "duration": 12,
    "start_time": "2021-07-07T14:43:33.658Z"
   },
   {
    "duration": 8,
    "start_time": "2021-07-07T14:43:34.552Z"
   },
   {
    "duration": 9,
    "start_time": "2021-07-07T14:43:35.058Z"
   },
   {
    "duration": 12,
    "start_time": "2021-07-07T14:43:35.914Z"
   },
   {
    "duration": 17,
    "start_time": "2021-07-07T14:45:34.368Z"
   },
   {
    "duration": 512,
    "start_time": "2021-07-07T14:51:58.236Z"
   },
   {
    "duration": 223,
    "start_time": "2021-07-07T14:51:58.750Z"
   },
   {
    "duration": 93,
    "start_time": "2021-07-07T14:51:58.977Z"
   },
   {
    "duration": 4,
    "start_time": "2021-07-07T14:51:59.071Z"
   },
   {
    "duration": 37,
    "start_time": "2021-07-07T14:51:59.077Z"
   },
   {
    "duration": 18,
    "start_time": "2021-07-07T14:51:59.116Z"
   },
   {
    "duration": 10,
    "start_time": "2021-07-07T14:51:59.137Z"
   },
   {
    "duration": 8,
    "start_time": "2021-07-07T14:51:59.149Z"
   },
   {
    "duration": 54,
    "start_time": "2021-07-07T14:51:59.158Z"
   },
   {
    "duration": 18,
    "start_time": "2021-07-07T14:51:59.213Z"
   },
   {
    "duration": 22,
    "start_time": "2021-07-07T14:51:59.232Z"
   },
   {
    "duration": 36,
    "start_time": "2021-07-07T14:51:59.255Z"
   },
   {
    "duration": 7,
    "start_time": "2021-07-07T14:51:59.293Z"
   },
   {
    "duration": 10,
    "start_time": "2021-07-07T14:51:59.302Z"
   },
   {
    "duration": 9,
    "start_time": "2021-07-07T14:51:59.313Z"
   },
   {
    "duration": 11,
    "start_time": "2021-07-07T14:51:59.324Z"
   },
   {
    "duration": 8,
    "start_time": "2021-07-07T14:51:59.337Z"
   },
   {
    "duration": 46,
    "start_time": "2021-07-07T14:51:59.347Z"
   },
   {
    "duration": 22,
    "start_time": "2021-07-07T14:51:59.395Z"
   },
   {
    "duration": 24,
    "start_time": "2021-07-07T14:57:32.911Z"
   },
   {
    "duration": 7,
    "start_time": "2021-07-07T14:58:22.070Z"
   },
   {
    "duration": 4,
    "start_time": "2021-07-07T14:59:11.239Z"
   },
   {
    "duration": 25,
    "start_time": "2021-07-07T15:07:22.208Z"
   },
   {
    "duration": 16,
    "start_time": "2021-07-07T15:08:25.560Z"
   },
   {
    "duration": 15,
    "start_time": "2021-07-07T15:08:40.647Z"
   },
   {
    "duration": 14,
    "start_time": "2021-07-07T15:08:46.669Z"
   },
   {
    "duration": 533,
    "start_time": "2021-07-07T15:18:07.440Z"
   },
   {
    "duration": 173,
    "start_time": "2021-07-07T15:18:07.974Z"
   },
   {
    "duration": 84,
    "start_time": "2021-07-07T15:18:08.149Z"
   },
   {
    "duration": 3,
    "start_time": "2021-07-07T15:18:08.235Z"
   },
   {
    "duration": 30,
    "start_time": "2021-07-07T15:18:08.240Z"
   },
   {
    "duration": 22,
    "start_time": "2021-07-07T15:18:08.272Z"
   },
   {
    "duration": 11,
    "start_time": "2021-07-07T15:18:08.295Z"
   },
   {
    "duration": 11,
    "start_time": "2021-07-07T15:18:08.309Z"
   },
   {
    "duration": 40,
    "start_time": "2021-07-07T15:18:08.322Z"
   },
   {
    "duration": 42,
    "start_time": "2021-07-07T15:18:08.364Z"
   },
   {
    "duration": 22,
    "start_time": "2021-07-07T15:18:08.408Z"
   },
   {
    "duration": 5,
    "start_time": "2021-07-07T15:18:08.432Z"
   },
   {
    "duration": 13,
    "start_time": "2021-07-07T15:18:08.439Z"
   },
   {
    "duration": 9,
    "start_time": "2021-07-07T15:18:08.454Z"
   },
   {
    "duration": 32,
    "start_time": "2021-07-07T15:18:08.465Z"
   },
   {
    "duration": 10,
    "start_time": "2021-07-07T15:18:08.501Z"
   },
   {
    "duration": 7,
    "start_time": "2021-07-07T15:18:08.513Z"
   },
   {
    "duration": 11,
    "start_time": "2021-07-07T15:18:08.521Z"
   },
   {
    "duration": 17,
    "start_time": "2021-07-07T15:18:08.534Z"
   },
   {
    "duration": 44,
    "start_time": "2021-07-07T15:18:08.553Z"
   },
   {
    "duration": 22,
    "start_time": "2021-07-07T15:18:08.599Z"
   },
   {
    "duration": 61,
    "start_time": "2021-07-07T15:18:08.622Z"
   },
   {
    "duration": 7,
    "start_time": "2021-07-07T15:18:39.457Z"
   },
   {
    "duration": 5,
    "start_time": "2021-07-07T16:05:17.020Z"
   },
   {
    "duration": 5,
    "start_time": "2021-07-07T16:51:28.794Z"
   },
   {
    "duration": 546,
    "start_time": "2021-07-07T16:52:26.306Z"
   },
   {
    "duration": 203,
    "start_time": "2021-07-07T16:52:27.523Z"
   },
   {
    "duration": 85,
    "start_time": "2021-07-07T16:52:27.736Z"
   },
   {
    "duration": 4,
    "start_time": "2021-07-07T16:52:27.899Z"
   },
   {
    "duration": 25,
    "start_time": "2021-07-07T16:52:28.674Z"
   },
   {
    "duration": 8,
    "start_time": "2021-07-07T16:52:32.956Z"
   },
   {
    "duration": 18,
    "start_time": "2021-07-07T16:52:35.616Z"
   },
   {
    "duration": 6,
    "start_time": "2021-07-07T16:52:36.913Z"
   },
   {
    "duration": 11,
    "start_time": "2021-07-07T16:52:40.258Z"
   },
   {
    "duration": 10,
    "start_time": "2021-07-07T16:52:46.251Z"
   },
   {
    "duration": 8,
    "start_time": "2021-07-07T16:52:47.182Z"
   },
   {
    "duration": 27,
    "start_time": "2021-07-07T16:53:20.391Z"
   },
   {
    "duration": 20,
    "start_time": "2021-07-07T16:53:22.022Z"
   },
   {
    "duration": 23,
    "start_time": "2021-07-07T16:53:23.690Z"
   },
   {
    "duration": 8,
    "start_time": "2021-07-07T16:53:24.261Z"
   },
   {
    "duration": 4,
    "start_time": "2021-07-07T16:53:38.733Z"
   },
   {
    "duration": 7,
    "start_time": "2021-07-07T16:53:40.445Z"
   },
   {
    "duration": 11,
    "start_time": "2021-07-07T16:53:41.348Z"
   },
   {
    "duration": 13,
    "start_time": "2021-07-07T16:53:45.250Z"
   },
   {
    "duration": 12,
    "start_time": "2021-07-07T16:53:45.467Z"
   },
   {
    "duration": 4,
    "start_time": "2021-07-07T16:55:32.704Z"
   },
   {
    "duration": 12,
    "start_time": "2021-07-07T16:55:49.012Z"
   },
   {
    "duration": 18,
    "start_time": "2021-07-07T16:55:49.547Z"
   },
   {
    "duration": 611,
    "start_time": "2021-07-07T16:58:35.156Z"
   },
   {
    "duration": 200,
    "start_time": "2021-07-07T16:58:35.770Z"
   },
   {
    "duration": 86,
    "start_time": "2021-07-07T16:58:35.972Z"
   },
   {
    "duration": 3,
    "start_time": "2021-07-07T16:58:36.060Z"
   },
   {
    "duration": 27,
    "start_time": "2021-07-07T16:58:36.065Z"
   },
   {
    "duration": 8,
    "start_time": "2021-07-07T16:58:36.094Z"
   },
   {
    "duration": 17,
    "start_time": "2021-07-07T16:58:36.103Z"
   },
   {
    "duration": 5,
    "start_time": "2021-07-07T16:58:36.123Z"
   },
   {
    "duration": 11,
    "start_time": "2021-07-07T16:58:36.130Z"
   },
   {
    "duration": 7,
    "start_time": "2021-07-07T16:58:36.143Z"
   },
   {
    "duration": 37,
    "start_time": "2021-07-07T16:58:36.152Z"
   },
   {
    "duration": 27,
    "start_time": "2021-07-07T16:58:36.191Z"
   },
   {
    "duration": 19,
    "start_time": "2021-07-07T16:58:36.219Z"
   },
   {
    "duration": 49,
    "start_time": "2021-07-07T16:58:36.240Z"
   },
   {
    "duration": 6,
    "start_time": "2021-07-07T16:58:36.291Z"
   },
   {
    "duration": 3,
    "start_time": "2021-07-07T16:58:36.299Z"
   },
   {
    "duration": 13,
    "start_time": "2021-07-07T16:58:36.304Z"
   },
   {
    "duration": 10,
    "start_time": "2021-07-07T16:58:36.319Z"
   },
   {
    "duration": 10,
    "start_time": "2021-07-07T16:58:36.331Z"
   },
   {
    "duration": 44,
    "start_time": "2021-07-07T16:58:36.343Z"
   },
   {
    "duration": 4,
    "start_time": "2021-07-07T16:58:36.388Z"
   },
   {
    "duration": 13,
    "start_time": "2021-07-07T16:58:36.394Z"
   },
   {
    "duration": 16,
    "start_time": "2021-07-07T16:58:36.410Z"
   },
   {
    "duration": 8,
    "start_time": "2021-07-07T17:02:31.629Z"
   },
   {
    "duration": 8,
    "start_time": "2021-07-07T17:02:34.308Z"
   },
   {
    "duration": 6,
    "start_time": "2021-07-07T17:05:13.483Z"
   },
   {
    "duration": 17,
    "start_time": "2021-07-07T17:05:20.606Z"
   },
   {
    "duration": 7,
    "start_time": "2021-07-07T17:05:34.638Z"
   },
   {
    "duration": 3,
    "start_time": "2021-07-07T17:06:31.883Z"
   },
   {
    "duration": 570,
    "start_time": "2021-07-07T17:06:37.165Z"
   },
   {
    "duration": 174,
    "start_time": "2021-07-07T17:06:37.737Z"
   },
   {
    "duration": 47,
    "start_time": "2021-07-07T17:06:37.913Z"
   },
   {
    "duration": 3,
    "start_time": "2021-07-07T17:06:37.962Z"
   },
   {
    "duration": 27,
    "start_time": "2021-07-07T17:06:37.967Z"
   },
   {
    "duration": 7,
    "start_time": "2021-07-07T17:06:37.996Z"
   },
   {
    "duration": 16,
    "start_time": "2021-07-07T17:06:38.005Z"
   },
   {
    "duration": 6,
    "start_time": "2021-07-07T17:06:38.024Z"
   },
   {
    "duration": 12,
    "start_time": "2021-07-07T17:06:38.031Z"
   },
   {
    "duration": 41,
    "start_time": "2021-07-07T17:06:38.045Z"
   },
   {
    "duration": 8,
    "start_time": "2021-07-07T17:06:38.088Z"
   },
   {
    "duration": 26,
    "start_time": "2021-07-07T17:06:38.098Z"
   },
   {
    "duration": 17,
    "start_time": "2021-07-07T17:06:38.126Z"
   },
   {
    "duration": 43,
    "start_time": "2021-07-07T17:06:38.144Z"
   },
   {
    "duration": 6,
    "start_time": "2021-07-07T17:06:38.188Z"
   },
   {
    "duration": 5,
    "start_time": "2021-07-07T17:06:38.195Z"
   },
   {
    "duration": 9,
    "start_time": "2021-07-07T17:06:38.201Z"
   },
   {
    "duration": 12,
    "start_time": "2021-07-07T17:06:38.212Z"
   },
   {
    "duration": 11,
    "start_time": "2021-07-07T17:06:38.226Z"
   },
   {
    "duration": 47,
    "start_time": "2021-07-07T17:06:38.239Z"
   },
   {
    "duration": 4,
    "start_time": "2021-07-07T17:06:38.288Z"
   },
   {
    "duration": 13,
    "start_time": "2021-07-07T17:06:38.293Z"
   },
   {
    "duration": 5,
    "start_time": "2021-07-07T17:06:38.309Z"
   },
   {
    "duration": 18,
    "start_time": "2021-07-07T17:06:38.325Z"
   },
   {
    "duration": 20,
    "start_time": "2021-07-07T17:07:02.805Z"
   },
   {
    "duration": 19,
    "start_time": "2021-07-07T17:07:08.527Z"
   },
   {
    "duration": 19,
    "start_time": "2021-07-07T17:07:12.758Z"
   },
   {
    "duration": 22,
    "start_time": "2021-07-07T17:07:17.497Z"
   },
   {
    "duration": 19,
    "start_time": "2021-07-07T17:07:19.645Z"
   },
   {
    "duration": 10,
    "start_time": "2021-07-07T17:07:34.239Z"
   },
   {
    "duration": 17,
    "start_time": "2021-07-07T17:07:54.144Z"
   },
   {
    "duration": 14,
    "start_time": "2021-07-07T17:08:14.357Z"
   },
   {
    "duration": 616,
    "start_time": "2021-07-07T17:08:45.254Z"
   },
   {
    "duration": 178,
    "start_time": "2021-07-07T17:08:45.872Z"
   },
   {
    "duration": 60,
    "start_time": "2021-07-07T17:08:46.054Z"
   },
   {
    "duration": 3,
    "start_time": "2021-07-07T17:08:46.116Z"
   },
   {
    "duration": 26,
    "start_time": "2021-07-07T17:08:46.121Z"
   },
   {
    "duration": 7,
    "start_time": "2021-07-07T17:08:46.149Z"
   },
   {
    "duration": 17,
    "start_time": "2021-07-07T17:08:46.158Z"
   },
   {
    "duration": 14,
    "start_time": "2021-07-07T17:08:46.176Z"
   },
   {
    "duration": 17,
    "start_time": "2021-07-07T17:08:46.193Z"
   },
   {
    "duration": 9,
    "start_time": "2021-07-07T17:08:46.211Z"
   },
   {
    "duration": 21,
    "start_time": "2021-07-07T17:08:46.221Z"
   },
   {
    "duration": 49,
    "start_time": "2021-07-07T17:08:46.244Z"
   },
   {
    "duration": 24,
    "start_time": "2021-07-07T17:08:46.295Z"
   },
   {
    "duration": 22,
    "start_time": "2021-07-07T17:08:46.321Z"
   },
   {
    "duration": 6,
    "start_time": "2021-07-07T17:08:46.345Z"
   },
   {
    "duration": 5,
    "start_time": "2021-07-07T17:08:46.353Z"
   },
   {
    "duration": 13,
    "start_time": "2021-07-07T17:08:46.386Z"
   },
   {
    "duration": 12,
    "start_time": "2021-07-07T17:08:46.402Z"
   },
   {
    "duration": 10,
    "start_time": "2021-07-07T17:08:46.415Z"
   },
   {
    "duration": 7,
    "start_time": "2021-07-07T17:08:46.427Z"
   },
   {
    "duration": 8,
    "start_time": "2021-07-07T17:08:46.435Z"
   },
   {
    "duration": 68,
    "start_time": "2021-07-07T17:08:46.446Z"
   },
   {
    "duration": 13,
    "start_time": "2021-07-07T17:08:46.516Z"
   },
   {
    "duration": 78,
    "start_time": "2021-07-07T17:08:46.530Z"
   },
   {
    "duration": 40,
    "start_time": "2021-07-07T17:09:08.185Z"
   },
   {
    "duration": 16,
    "start_time": "2021-07-07T17:09:19.324Z"
   },
   {
    "duration": 21,
    "start_time": "2021-07-07T17:09:23.290Z"
   },
   {
    "duration": 13,
    "start_time": "2021-07-07T17:09:54.812Z"
   },
   {
    "duration": 13,
    "start_time": "2021-07-07T17:10:02.039Z"
   },
   {
    "duration": 10,
    "start_time": "2021-07-07T17:10:29.632Z"
   },
   {
    "duration": 13,
    "start_time": "2021-07-07T17:10:52.372Z"
   },
   {
    "duration": 13,
    "start_time": "2021-07-07T17:11:17.270Z"
   },
   {
    "duration": 13,
    "start_time": "2021-07-07T17:14:59.284Z"
   },
   {
    "duration": 547,
    "start_time": "2021-07-07T17:18:52.403Z"
   },
   {
    "duration": 163,
    "start_time": "2021-07-07T17:18:52.952Z"
   },
   {
    "duration": 44,
    "start_time": "2021-07-07T17:18:53.117Z"
   },
   {
    "duration": 3,
    "start_time": "2021-07-07T17:18:53.162Z"
   },
   {
    "duration": 26,
    "start_time": "2021-07-07T17:18:53.167Z"
   },
   {
    "duration": 6,
    "start_time": "2021-07-07T17:18:53.195Z"
   },
   {
    "duration": 15,
    "start_time": "2021-07-07T17:18:53.203Z"
   },
   {
    "duration": 5,
    "start_time": "2021-07-07T17:18:53.220Z"
   },
   {
    "duration": 11,
    "start_time": "2021-07-07T17:18:53.228Z"
   },
   {
    "duration": 9,
    "start_time": "2021-07-07T17:18:53.241Z"
   },
   {
    "duration": 41,
    "start_time": "2021-07-07T17:18:53.252Z"
   },
   {
    "duration": 33,
    "start_time": "2021-07-07T17:18:53.295Z"
   },
   {
    "duration": 19,
    "start_time": "2021-07-07T17:18:53.330Z"
   },
   {
    "duration": 49,
    "start_time": "2021-07-07T17:18:53.350Z"
   },
   {
    "duration": 5,
    "start_time": "2021-07-07T17:18:53.401Z"
   },
   {
    "duration": 5,
    "start_time": "2021-07-07T17:18:53.408Z"
   },
   {
    "duration": 11,
    "start_time": "2021-07-07T17:18:53.414Z"
   },
   {
    "duration": 9,
    "start_time": "2021-07-07T17:18:53.427Z"
   },
   {
    "duration": 10,
    "start_time": "2021-07-07T17:18:53.437Z"
   },
   {
    "duration": 39,
    "start_time": "2021-07-07T17:18:53.448Z"
   },
   {
    "duration": 26,
    "start_time": "2021-07-07T17:18:55.799Z"
   },
   {
    "duration": 598,
    "start_time": "2021-07-07T17:20:17.862Z"
   },
   {
    "duration": 161,
    "start_time": "2021-07-07T17:20:18.462Z"
   },
   {
    "duration": 45,
    "start_time": "2021-07-07T17:20:18.626Z"
   },
   {
    "duration": 4,
    "start_time": "2021-07-07T17:20:18.673Z"
   },
   {
    "duration": 38,
    "start_time": "2021-07-07T17:20:26.877Z"
   },
   {
    "duration": 7,
    "start_time": "2021-07-07T17:20:37.405Z"
   },
   {
    "duration": 19,
    "start_time": "2021-07-07T17:20:51.534Z"
   },
   {
    "duration": 5,
    "start_time": "2021-07-07T17:20:57.228Z"
   },
   {
    "duration": 7,
    "start_time": "2021-07-07T17:21:08.235Z"
   },
   {
    "duration": 19,
    "start_time": "2021-07-07T17:21:42.158Z"
   },
   {
    "duration": 14,
    "start_time": "2021-07-07T17:21:50.225Z"
   },
   {
    "duration": 22,
    "start_time": "2021-07-07T17:22:54.104Z"
   },
   {
    "duration": 5,
    "start_time": "2021-07-07T17:22:56.371Z"
   },
   {
    "duration": 14,
    "start_time": "2021-07-07T17:22:58.316Z"
   },
   {
    "duration": 5,
    "start_time": "2021-07-07T17:22:58.493Z"
   },
   {
    "duration": 35,
    "start_time": "2021-07-07T17:22:59.666Z"
   },
   {
    "duration": 6,
    "start_time": "2021-07-07T17:23:02.410Z"
   },
   {
    "duration": 611,
    "start_time": "2021-07-07T17:24:59.664Z"
   },
   {
    "duration": 178,
    "start_time": "2021-07-07T17:25:01.945Z"
   },
   {
    "duration": 47,
    "start_time": "2021-07-07T17:25:02.125Z"
   },
   {
    "duration": 2,
    "start_time": "2021-07-07T17:25:07.903Z"
   },
   {
    "duration": 254,
    "start_time": "2021-07-07T17:25:08.232Z"
   },
   {
    "duration": 182,
    "start_time": "2021-07-07T17:25:08.671Z"
   },
   {
    "duration": 6,
    "start_time": "2021-07-07T17:25:13.104Z"
   },
   {
    "duration": 36,
    "start_time": "2021-07-07T17:25:13.662Z"
   },
   {
    "duration": 7,
    "start_time": "2021-07-07T17:25:14.528Z"
   },
   {
    "duration": 24,
    "start_time": "2021-07-07T17:25:27.982Z"
   },
   {
    "duration": 3,
    "start_time": "2021-07-07T17:25:48.982Z"
   },
   {
    "duration": 165,
    "start_time": "2021-07-07T17:25:48.987Z"
   },
   {
    "duration": 50,
    "start_time": "2021-07-07T17:25:49.154Z"
   },
   {
    "duration": 4,
    "start_time": "2021-07-07T17:25:49.206Z"
   },
   {
    "duration": 26,
    "start_time": "2021-07-07T17:25:49.212Z"
   },
   {
    "duration": 7,
    "start_time": "2021-07-07T17:25:49.240Z"
   },
   {
    "duration": 16,
    "start_time": "2021-07-07T17:25:49.249Z"
   },
   {
    "duration": 22,
    "start_time": "2021-07-07T17:25:49.266Z"
   },
   {
    "duration": 16,
    "start_time": "2021-07-07T17:25:49.291Z"
   },
   {
    "duration": 9,
    "start_time": "2021-07-07T17:25:49.309Z"
   },
   {
    "duration": 7,
    "start_time": "2021-07-07T17:25:49.319Z"
   },
   {
    "duration": 28,
    "start_time": "2021-07-07T17:25:49.328Z"
   },
   {
    "duration": 44,
    "start_time": "2021-07-07T17:25:49.357Z"
   },
   {
    "duration": 22,
    "start_time": "2021-07-07T17:25:49.403Z"
   },
   {
    "duration": 7,
    "start_time": "2021-07-07T17:25:49.427Z"
   },
   {
    "duration": 3,
    "start_time": "2021-07-07T17:25:49.436Z"
   },
   {
    "duration": 44,
    "start_time": "2021-07-07T17:25:49.441Z"
   },
   {
    "duration": 12,
    "start_time": "2021-07-07T17:25:49.488Z"
   },
   {
    "duration": 13,
    "start_time": "2021-07-07T17:25:49.502Z"
   },
   {
    "duration": 10,
    "start_time": "2021-07-07T17:25:49.516Z"
   },
   {
    "duration": 62,
    "start_time": "2021-07-07T17:25:49.527Z"
   },
   {
    "duration": 26,
    "start_time": "2021-07-07T17:26:51.809Z"
   },
   {
    "duration": 26,
    "start_time": "2021-07-07T17:26:55.759Z"
   },
   {
    "duration": 26,
    "start_time": "2021-07-07T17:27:04.501Z"
   },
   {
    "duration": 25,
    "start_time": "2021-07-07T17:28:24.859Z"
   },
   {
    "duration": 21,
    "start_time": "2021-07-07T17:28:55.250Z"
   },
   {
    "duration": 21,
    "start_time": "2021-07-07T17:28:58.885Z"
   },
   {
    "duration": 7,
    "start_time": "2021-07-07T17:45:40.972Z"
   },
   {
    "duration": 13,
    "start_time": "2021-07-07T17:45:42.529Z"
   },
   {
    "duration": 27,
    "start_time": "2021-07-07T17:45:51.026Z"
   },
   {
    "duration": 518,
    "start_time": "2021-07-07T17:46:15.532Z"
   },
   {
    "duration": 235,
    "start_time": "2021-07-07T17:46:16.053Z"
   },
   {
    "duration": 80,
    "start_time": "2021-07-07T17:46:16.292Z"
   },
   {
    "duration": 5,
    "start_time": "2021-07-07T17:46:16.373Z"
   },
   {
    "duration": 26,
    "start_time": "2021-07-07T17:46:16.380Z"
   },
   {
    "duration": 7,
    "start_time": "2021-07-07T17:46:16.408Z"
   },
   {
    "duration": 16,
    "start_time": "2021-07-07T17:46:16.418Z"
   },
   {
    "duration": 5,
    "start_time": "2021-07-07T17:46:16.436Z"
   },
   {
    "duration": 13,
    "start_time": "2021-07-07T17:46:16.442Z"
   },
   {
    "duration": 35,
    "start_time": "2021-07-07T17:46:16.456Z"
   },
   {
    "duration": 8,
    "start_time": "2021-07-07T17:46:16.493Z"
   },
   {
    "duration": 28,
    "start_time": "2021-07-07T17:46:16.502Z"
   },
   {
    "duration": 17,
    "start_time": "2021-07-07T17:46:16.532Z"
   },
   {
    "duration": 44,
    "start_time": "2021-07-07T17:46:16.551Z"
   },
   {
    "duration": 6,
    "start_time": "2021-07-07T17:46:16.597Z"
   },
   {
    "duration": 4,
    "start_time": "2021-07-07T17:46:16.605Z"
   },
   {
    "duration": 9,
    "start_time": "2021-07-07T17:46:16.610Z"
   },
   {
    "duration": 9,
    "start_time": "2021-07-07T17:46:16.621Z"
   },
   {
    "duration": 10,
    "start_time": "2021-07-07T17:46:16.632Z"
   },
   {
    "duration": 43,
    "start_time": "2021-07-07T17:46:16.644Z"
   },
   {
    "duration": 26,
    "start_time": "2021-07-07T17:46:16.689Z"
   },
   {
    "duration": 19,
    "start_time": "2021-07-07T17:46:16.718Z"
   },
   {
    "duration": 8,
    "start_time": "2021-07-07T17:46:16.738Z"
   },
   {
    "duration": 43,
    "start_time": "2021-07-07T17:46:16.747Z"
   },
   {
    "duration": 19,
    "start_time": "2021-07-07T17:46:16.791Z"
   },
   {
    "duration": 9,
    "start_time": "2021-07-07T17:46:16.812Z"
   },
   {
    "duration": 60,
    "start_time": "2021-07-07T17:46:16.822Z"
   },
   {
    "duration": -8,
    "start_time": "2021-07-07T17:46:16.892Z"
   },
   {
    "duration": 12,
    "start_time": "2021-07-07T17:48:47.707Z"
   },
   {
    "duration": 553,
    "start_time": "2021-07-07T18:10:09.350Z"
   },
   {
    "duration": 230,
    "start_time": "2021-07-07T18:10:09.905Z"
   },
   {
    "duration": 97,
    "start_time": "2021-07-07T18:10:10.137Z"
   },
   {
    "duration": 5,
    "start_time": "2021-07-07T18:10:10.236Z"
   },
   {
    "duration": 29,
    "start_time": "2021-07-07T18:10:10.242Z"
   },
   {
    "duration": 7,
    "start_time": "2021-07-07T18:10:10.272Z"
   },
   {
    "duration": 15,
    "start_time": "2021-07-07T18:10:10.281Z"
   },
   {
    "duration": 4,
    "start_time": "2021-07-07T18:10:10.299Z"
   },
   {
    "duration": 14,
    "start_time": "2021-07-07T18:10:10.305Z"
   },
   {
    "duration": 8,
    "start_time": "2021-07-07T18:10:10.321Z"
   },
   {
    "duration": 8,
    "start_time": "2021-07-07T18:10:10.331Z"
   },
   {
    "duration": 56,
    "start_time": "2021-07-07T18:10:10.341Z"
   },
   {
    "duration": 19,
    "start_time": "2021-07-07T18:10:10.399Z"
   },
   {
    "duration": 23,
    "start_time": "2021-07-07T18:10:10.419Z"
   },
   {
    "duration": 6,
    "start_time": "2021-07-07T18:10:10.444Z"
   },
   {
    "duration": 9,
    "start_time": "2021-07-07T18:10:10.451Z"
   },
   {
    "duration": 30,
    "start_time": "2021-07-07T18:10:10.462Z"
   },
   {
    "duration": 9,
    "start_time": "2021-07-07T18:10:10.494Z"
   },
   {
    "duration": 14,
    "start_time": "2021-07-07T18:10:10.505Z"
   },
   {
    "duration": 7,
    "start_time": "2021-07-07T18:10:10.521Z"
   },
   {
    "duration": 26,
    "start_time": "2021-07-07T18:10:10.530Z"
   },
   {
    "duration": 44,
    "start_time": "2021-07-07T18:10:10.558Z"
   },
   {
    "duration": 7,
    "start_time": "2021-07-07T18:10:10.605Z"
   },
   {
    "duration": 11,
    "start_time": "2021-07-07T18:10:10.614Z"
   },
   {
    "duration": 19,
    "start_time": "2021-07-07T18:10:10.626Z"
   },
   {
    "duration": 44,
    "start_time": "2021-07-07T18:10:10.646Z"
   },
   {
    "duration": 516,
    "start_time": "2021-07-07T18:14:00.826Z"
   },
   {
    "duration": 230,
    "start_time": "2021-07-07T18:14:01.344Z"
   },
   {
    "duration": 105,
    "start_time": "2021-07-07T18:14:01.576Z"
   },
   {
    "duration": 5,
    "start_time": "2021-07-07T18:14:01.683Z"
   },
   {
    "duration": 46,
    "start_time": "2021-07-07T18:14:01.690Z"
   },
   {
    "duration": 7,
    "start_time": "2021-07-07T18:14:01.738Z"
   },
   {
    "duration": 20,
    "start_time": "2021-07-07T18:14:01.747Z"
   },
   {
    "duration": 16,
    "start_time": "2021-07-07T18:14:01.769Z"
   },
   {
    "duration": 14,
    "start_time": "2021-07-07T18:14:01.787Z"
   },
   {
    "duration": 15,
    "start_time": "2021-07-07T18:14:01.803Z"
   },
   {
    "duration": 12,
    "start_time": "2021-07-07T18:14:01.820Z"
   },
   {
    "duration": 35,
    "start_time": "2021-07-07T18:14:01.833Z"
   },
   {
    "duration": 31,
    "start_time": "2021-07-07T18:14:01.869Z"
   },
   {
    "duration": 37,
    "start_time": "2021-07-07T18:14:01.902Z"
   },
   {
    "duration": 8,
    "start_time": "2021-07-07T18:14:01.942Z"
   },
   {
    "duration": 16,
    "start_time": "2021-07-07T18:14:01.952Z"
   },
   {
    "duration": 13,
    "start_time": "2021-07-07T18:14:01.970Z"
   },
   {
    "duration": 32,
    "start_time": "2021-07-07T18:14:01.985Z"
   },
   {
    "duration": 11,
    "start_time": "2021-07-07T18:14:02.019Z"
   },
   {
    "duration": 22,
    "start_time": "2021-07-07T18:14:02.031Z"
   },
   {
    "duration": 27,
    "start_time": "2021-07-07T18:14:02.055Z"
   },
   {
    "duration": 18,
    "start_time": "2021-07-07T18:14:02.084Z"
   },
   {
    "duration": 18,
    "start_time": "2021-07-07T18:14:02.106Z"
   },
   {
    "duration": 11,
    "start_time": "2021-07-07T18:14:02.126Z"
   },
   {
    "duration": 21,
    "start_time": "2021-07-07T18:14:02.138Z"
   },
   {
    "duration": 32,
    "start_time": "2021-07-07T18:14:02.161Z"
   },
   {
    "duration": 28,
    "start_time": "2021-07-07T18:14:44.295Z"
   },
   {
    "duration": 6,
    "start_time": "2021-07-07T18:15:05.834Z"
   },
   {
    "duration": 511,
    "start_time": "2021-07-07T18:15:41.541Z"
   },
   {
    "duration": 183,
    "start_time": "2021-07-07T18:15:42.054Z"
   },
   {
    "duration": 50,
    "start_time": "2021-07-07T18:15:42.239Z"
   },
   {
    "duration": 5,
    "start_time": "2021-07-07T18:15:42.291Z"
   },
   {
    "duration": 48,
    "start_time": "2021-07-07T18:15:42.297Z"
   },
   {
    "duration": 8,
    "start_time": "2021-07-07T18:15:42.346Z"
   },
   {
    "duration": 17,
    "start_time": "2021-07-07T18:15:42.356Z"
   },
   {
    "duration": 15,
    "start_time": "2021-07-07T18:15:42.375Z"
   },
   {
    "duration": 12,
    "start_time": "2021-07-07T18:15:42.392Z"
   },
   {
    "duration": 7,
    "start_time": "2021-07-07T18:15:42.406Z"
   },
   {
    "duration": 7,
    "start_time": "2021-07-07T18:15:42.415Z"
   },
   {
    "duration": 29,
    "start_time": "2021-07-07T18:15:42.423Z"
   },
   {
    "duration": 43,
    "start_time": "2021-07-07T18:15:42.453Z"
   },
   {
    "duration": 18,
    "start_time": "2021-07-07T18:15:42.497Z"
   },
   {
    "duration": 6,
    "start_time": "2021-07-07T18:15:42.516Z"
   },
   {
    "duration": 3,
    "start_time": "2021-07-07T18:15:42.523Z"
   },
   {
    "duration": 18,
    "start_time": "2021-07-07T18:15:42.528Z"
   },
   {
    "duration": 10,
    "start_time": "2021-07-07T18:15:42.547Z"
   },
   {
    "duration": 36,
    "start_time": "2021-07-07T18:15:42.559Z"
   },
   {
    "duration": 8,
    "start_time": "2021-07-07T18:15:42.597Z"
   },
   {
    "duration": 28,
    "start_time": "2021-07-07T18:15:42.606Z"
   },
   {
    "duration": 52,
    "start_time": "2021-07-07T18:15:42.635Z"
   },
   {
    "duration": 7,
    "start_time": "2021-07-07T18:15:42.690Z"
   },
   {
    "duration": 10,
    "start_time": "2021-07-07T18:15:42.699Z"
   },
   {
    "duration": 19,
    "start_time": "2021-07-07T18:15:42.711Z"
   },
   {
    "duration": 9,
    "start_time": "2021-07-07T18:15:42.732Z"
   },
   {
    "duration": 5,
    "start_time": "2021-07-07T18:15:42.743Z"
   },
   {
    "duration": 1450,
    "start_time": "2021-07-07T18:15:51.984Z"
   },
   {
    "duration": 161,
    "start_time": "2021-07-07T18:15:53.435Z"
   },
   {
    "duration": 124,
    "start_time": "2021-07-07T18:15:53.598Z"
   },
   {
    "duration": 5,
    "start_time": "2021-07-07T18:15:53.724Z"
   },
   {
    "duration": 34,
    "start_time": "2021-07-07T18:15:53.730Z"
   },
   {
    "duration": 7,
    "start_time": "2021-07-07T18:15:53.765Z"
   },
   {
    "duration": 15,
    "start_time": "2021-07-07T18:15:53.773Z"
   },
   {
    "duration": 5,
    "start_time": "2021-07-07T18:15:53.791Z"
   },
   {
    "duration": 19,
    "start_time": "2021-07-07T18:15:53.798Z"
   },
   {
    "duration": 9,
    "start_time": "2021-07-07T18:15:53.818Z"
   },
   {
    "duration": 19,
    "start_time": "2021-07-07T18:15:53.828Z"
   },
   {
    "duration": 27,
    "start_time": "2021-07-07T18:15:53.848Z"
   },
   {
    "duration": 16,
    "start_time": "2021-07-07T18:15:53.884Z"
   },
   {
    "duration": 29,
    "start_time": "2021-07-07T18:15:53.901Z"
   },
   {
    "duration": 5,
    "start_time": "2021-07-07T18:15:53.932Z"
   },
   {
    "duration": 15,
    "start_time": "2021-07-07T18:15:53.939Z"
   },
   {
    "duration": 13,
    "start_time": "2021-07-07T18:15:53.956Z"
   },
   {
    "duration": 20,
    "start_time": "2021-07-07T18:15:53.971Z"
   },
   {
    "duration": 14,
    "start_time": "2021-07-07T18:15:53.992Z"
   },
   {
    "duration": 9,
    "start_time": "2021-07-07T18:15:54.009Z"
   },
   {
    "duration": 28,
    "start_time": "2021-07-07T18:15:54.020Z"
   },
   {
    "duration": 50,
    "start_time": "2021-07-07T18:15:54.051Z"
   },
   {
    "duration": 8,
    "start_time": "2021-07-07T18:15:54.105Z"
   },
   {
    "duration": 11,
    "start_time": "2021-07-07T18:15:54.115Z"
   },
   {
    "duration": 20,
    "start_time": "2021-07-07T18:15:54.128Z"
   },
   {
    "duration": 13,
    "start_time": "2021-07-07T18:15:54.184Z"
   },
   {
    "duration": 7,
    "start_time": "2021-07-07T18:15:54.199Z"
   },
   {
    "duration": 7,
    "start_time": "2021-07-07T18:17:08.042Z"
   },
   {
    "duration": 8,
    "start_time": "2021-07-07T18:17:21.008Z"
   },
   {
    "duration": 7,
    "start_time": "2021-07-07T18:17:29.003Z"
   },
   {
    "duration": 8,
    "start_time": "2021-07-07T18:17:32.492Z"
   },
   {
    "duration": 9,
    "start_time": "2021-07-07T18:17:41.758Z"
   },
   {
    "duration": 255,
    "start_time": "2021-07-07T18:20:20.897Z"
   },
   {
    "duration": 173,
    "start_time": "2021-07-07T18:20:26.636Z"
   },
   {
    "duration": 7,
    "start_time": "2021-07-07T18:21:47.164Z"
   },
   {
    "duration": 254,
    "start_time": "2021-07-07T18:23:08.703Z"
   },
   {
    "duration": 21,
    "start_time": "2021-07-07T18:23:22.506Z"
   },
   {
    "duration": 315,
    "start_time": "2021-07-07T18:25:54.801Z"
   },
   {
    "duration": 34,
    "start_time": "2021-07-07T18:26:51.817Z"
   },
   {
    "duration": 327,
    "start_time": "2021-07-07T18:26:56.147Z"
   },
   {
    "duration": 342,
    "start_time": "2021-07-07T18:27:15.887Z"
   },
   {
    "duration": 302,
    "start_time": "2021-07-07T18:28:18.569Z"
   },
   {
    "duration": 226,
    "start_time": "2021-07-07T18:29:20.879Z"
   },
   {
    "duration": 207,
    "start_time": "2021-07-07T18:29:58.114Z"
   },
   {
    "duration": 140,
    "start_time": "2021-07-07T18:32:04.372Z"
   },
   {
    "duration": 158,
    "start_time": "2021-07-07T18:32:32.508Z"
   },
   {
    "duration": 145,
    "start_time": "2021-07-07T18:32:41.365Z"
   },
   {
    "duration": 132,
    "start_time": "2021-07-07T18:32:45.199Z"
   },
   {
    "duration": 11,
    "start_time": "2021-07-07T18:35:24.679Z"
   },
   {
    "duration": 268,
    "start_time": "2021-07-07T18:36:16.145Z"
   },
   {
    "duration": 227,
    "start_time": "2021-07-07T18:37:04.918Z"
   },
   {
    "duration": 3,
    "start_time": "2021-07-07T18:37:33.012Z"
   },
   {
    "duration": 671,
    "start_time": "2021-07-07T18:37:38.295Z"
   },
   {
    "duration": 54,
    "start_time": "2021-07-07T18:37:53.406Z"
   },
   {
    "duration": 631,
    "start_time": "2021-07-07T18:37:56.463Z"
   },
   {
    "duration": 19,
    "start_time": "2021-07-07T18:39:40.535Z"
   },
   {
    "duration": 20,
    "start_time": "2021-07-07T18:40:12.236Z"
   },
   {
    "duration": 633,
    "start_time": "2021-07-07T18:42:00.398Z"
   },
   {
    "duration": 218,
    "start_time": "2021-07-07T18:42:01.033Z"
   },
   {
    "duration": 49,
    "start_time": "2021-07-07T18:42:01.253Z"
   },
   {
    "duration": 5,
    "start_time": "2021-07-07T18:42:01.303Z"
   },
   {
    "duration": 27,
    "start_time": "2021-07-07T18:42:01.310Z"
   },
   {
    "duration": 8,
    "start_time": "2021-07-07T18:42:01.339Z"
   },
   {
    "duration": 20,
    "start_time": "2021-07-07T18:42:01.348Z"
   },
   {
    "duration": 6,
    "start_time": "2021-07-07T18:42:01.386Z"
   },
   {
    "duration": 16,
    "start_time": "2021-07-07T18:42:01.394Z"
   },
   {
    "duration": 9,
    "start_time": "2021-07-07T18:42:01.411Z"
   },
   {
    "duration": 11,
    "start_time": "2021-07-07T18:42:01.421Z"
   },
   {
    "duration": 31,
    "start_time": "2021-07-07T18:42:01.434Z"
   },
   {
    "duration": 18,
    "start_time": "2021-07-07T18:42:01.485Z"
   },
   {
    "duration": 23,
    "start_time": "2021-07-07T18:42:01.505Z"
   },
   {
    "duration": 6,
    "start_time": "2021-07-07T18:42:01.530Z"
   },
   {
    "duration": 10,
    "start_time": "2021-07-07T18:42:01.538Z"
   },
   {
    "duration": 13,
    "start_time": "2021-07-07T18:42:01.550Z"
   },
   {
    "duration": 24,
    "start_time": "2021-07-07T18:42:01.564Z"
   },
   {
    "duration": 20,
    "start_time": "2021-07-07T18:42:01.590Z"
   },
   {
    "duration": 8,
    "start_time": "2021-07-07T18:42:01.611Z"
   },
   {
    "duration": 31,
    "start_time": "2021-07-07T18:42:01.620Z"
   },
   {
    "duration": 39,
    "start_time": "2021-07-07T18:42:01.653Z"
   },
   {
    "duration": 8,
    "start_time": "2021-07-07T18:42:01.696Z"
   },
   {
    "duration": 13,
    "start_time": "2021-07-07T18:42:01.705Z"
   },
   {
    "duration": 20,
    "start_time": "2021-07-07T18:42:01.720Z"
   },
   {
    "duration": 12,
    "start_time": "2021-07-07T18:42:01.741Z"
   },
   {
    "duration": 35,
    "start_time": "2021-07-07T18:42:01.755Z"
   },
   {
    "duration": 14,
    "start_time": "2021-07-07T18:42:01.792Z"
   },
   {
    "duration": 188,
    "start_time": "2021-07-07T18:42:01.808Z"
   },
   {
    "duration": 19,
    "start_time": "2021-07-07T18:42:01.998Z"
   },
   {
    "duration": 175,
    "start_time": "2021-07-07T18:42:02.019Z"
   },
   {
    "duration": 134,
    "start_time": "2021-07-07T18:42:02.196Z"
   },
   {
    "duration": 10,
    "start_time": "2021-07-07T18:42:02.331Z"
   },
   {
    "duration": 19,
    "start_time": "2021-07-07T18:42:02.343Z"
   },
   {
    "duration": 628,
    "start_time": "2021-07-07T18:46:30.701Z"
   },
   {
    "duration": 183,
    "start_time": "2021-07-07T18:46:31.331Z"
   },
   {
    "duration": 48,
    "start_time": "2021-07-07T18:46:31.516Z"
   },
   {
    "duration": 5,
    "start_time": "2021-07-07T18:46:31.566Z"
   },
   {
    "duration": 28,
    "start_time": "2021-07-07T18:46:31.572Z"
   },
   {
    "duration": 8,
    "start_time": "2021-07-07T18:46:31.602Z"
   },
   {
    "duration": 19,
    "start_time": "2021-07-07T18:46:31.611Z"
   },
   {
    "duration": 6,
    "start_time": "2021-07-07T18:46:31.633Z"
   },
   {
    "duration": 17,
    "start_time": "2021-07-07T18:46:31.642Z"
   },
   {
    "duration": 10,
    "start_time": "2021-07-07T18:46:31.684Z"
   },
   {
    "duration": 9,
    "start_time": "2021-07-07T18:46:31.695Z"
   },
   {
    "duration": 28,
    "start_time": "2021-07-07T18:46:31.705Z"
   },
   {
    "duration": 18,
    "start_time": "2021-07-07T18:46:31.735Z"
   },
   {
    "duration": 48,
    "start_time": "2021-07-07T18:46:31.755Z"
   },
   {
    "duration": 6,
    "start_time": "2021-07-07T18:46:31.804Z"
   },
   {
    "duration": 4,
    "start_time": "2021-07-07T18:46:31.812Z"
   },
   {
    "duration": 9,
    "start_time": "2021-07-07T18:46:31.817Z"
   },
   {
    "duration": 10,
    "start_time": "2021-07-07T18:46:31.827Z"
   },
   {
    "duration": 12,
    "start_time": "2021-07-07T18:46:31.838Z"
   },
   {
    "duration": 39,
    "start_time": "2021-07-07T18:46:31.851Z"
   },
   {
    "duration": 24,
    "start_time": "2021-07-07T18:46:31.892Z"
   },
   {
    "duration": 15,
    "start_time": "2021-07-07T18:46:31.918Z"
   },
   {
    "duration": 7,
    "start_time": "2021-07-07T18:46:31.936Z"
   },
   {
    "duration": 8,
    "start_time": "2021-07-07T18:46:31.944Z"
   },
   {
    "duration": 19,
    "start_time": "2021-07-07T18:46:31.984Z"
   },
   {
    "duration": 10,
    "start_time": "2021-07-07T18:46:32.004Z"
   },
   {
    "duration": 5,
    "start_time": "2021-07-07T18:46:32.016Z"
   },
   {
    "duration": 9,
    "start_time": "2021-07-07T18:46:32.023Z"
   },
   {
    "duration": 199,
    "start_time": "2021-07-07T18:46:32.033Z"
   },
   {
    "duration": 19,
    "start_time": "2021-07-07T18:46:32.234Z"
   },
   {
    "duration": 159,
    "start_time": "2021-07-07T18:46:32.255Z"
   },
   {
    "duration": 134,
    "start_time": "2021-07-07T18:46:32.416Z"
   },
   {
    "duration": 10,
    "start_time": "2021-07-07T18:46:32.552Z"
   },
   {
    "duration": 34,
    "start_time": "2021-07-07T18:46:32.563Z"
   },
   {
    "duration": 1039,
    "start_time": "2021-07-08T08:41:09.419Z"
   },
   {
    "duration": 333,
    "start_time": "2021-07-08T08:41:10.459Z"
   },
   {
    "duration": 173,
    "start_time": "2021-07-08T08:41:10.794Z"
   },
   {
    "duration": 5,
    "start_time": "2021-07-08T08:41:10.968Z"
   },
   {
    "duration": 25,
    "start_time": "2021-07-08T08:41:10.975Z"
   },
   {
    "duration": 9,
    "start_time": "2021-07-08T08:41:11.002Z"
   },
   {
    "duration": 18,
    "start_time": "2021-07-08T08:41:11.013Z"
   },
   {
    "duration": 6,
    "start_time": "2021-07-08T08:41:11.033Z"
   },
   {
    "duration": 44,
    "start_time": "2021-07-08T08:41:11.042Z"
   },
   {
    "duration": 10,
    "start_time": "2021-07-08T08:41:11.088Z"
   },
   {
    "duration": 9,
    "start_time": "2021-07-08T08:41:11.100Z"
   },
   {
    "duration": 27,
    "start_time": "2021-07-08T08:41:11.111Z"
   },
   {
    "duration": 46,
    "start_time": "2021-07-08T08:41:11.140Z"
   },
   {
    "duration": 17,
    "start_time": "2021-07-08T08:41:11.187Z"
   },
   {
    "duration": 6,
    "start_time": "2021-07-08T08:41:11.206Z"
   },
   {
    "duration": 5,
    "start_time": "2021-07-08T08:41:11.213Z"
   },
   {
    "duration": 10,
    "start_time": "2021-07-08T08:41:11.219Z"
   },
   {
    "duration": 9,
    "start_time": "2021-07-08T08:41:11.230Z"
   },
   {
    "duration": 45,
    "start_time": "2021-07-08T08:41:11.241Z"
   },
   {
    "duration": 7,
    "start_time": "2021-07-08T08:41:11.287Z"
   },
   {
    "duration": 24,
    "start_time": "2021-07-08T08:41:11.296Z"
   },
   {
    "duration": 16,
    "start_time": "2021-07-08T08:41:11.322Z"
   },
   {
    "duration": 7,
    "start_time": "2021-07-08T08:41:11.341Z"
   },
   {
    "duration": 41,
    "start_time": "2021-07-08T08:41:11.349Z"
   },
   {
    "duration": 17,
    "start_time": "2021-07-08T08:41:11.391Z"
   },
   {
    "duration": 9,
    "start_time": "2021-07-08T08:41:11.410Z"
   },
   {
    "duration": 5,
    "start_time": "2021-07-08T08:41:11.421Z"
   },
   {
    "duration": 6,
    "start_time": "2021-07-08T08:41:11.428Z"
   },
   {
    "duration": 198,
    "start_time": "2021-07-08T08:41:11.435Z"
   },
   {
    "duration": 18,
    "start_time": "2021-07-08T08:41:11.635Z"
   },
   {
    "duration": 155,
    "start_time": "2021-07-08T08:41:11.655Z"
   },
   {
    "duration": 138,
    "start_time": "2021-07-08T08:41:11.811Z"
   },
   {
    "duration": 10,
    "start_time": "2021-07-08T08:41:11.950Z"
   },
   {
    "duration": 29,
    "start_time": "2021-07-08T08:41:11.961Z"
   },
   {
    "duration": 171,
    "start_time": "2021-07-08T08:47:44.522Z"
   },
   {
    "duration": 124,
    "start_time": "2021-07-08T08:47:46.872Z"
   },
   {
    "duration": 191,
    "start_time": "2021-07-08T08:47:58.148Z"
   },
   {
    "duration": 191,
    "start_time": "2021-07-08T08:48:07.412Z"
   },
   {
    "duration": 261,
    "start_time": "2021-07-08T08:48:10.385Z"
   },
   {
    "duration": 255,
    "start_time": "2021-07-08T08:48:14.494Z"
   },
   {
    "duration": 219,
    "start_time": "2021-07-08T08:48:22.752Z"
   },
   {
    "duration": 173,
    "start_time": "2021-07-08T08:49:06.395Z"
   },
   {
    "duration": 180,
    "start_time": "2021-07-08T08:49:21.011Z"
   },
   {
    "duration": 6,
    "start_time": "2021-07-08T08:50:31.697Z"
   },
   {
    "duration": 10,
    "start_time": "2021-07-08T08:50:47.394Z"
   },
   {
    "duration": 11,
    "start_time": "2021-07-08T08:53:49.332Z"
   },
   {
    "duration": 171,
    "start_time": "2021-07-08T08:54:28.408Z"
   },
   {
    "duration": 636,
    "start_time": "2021-07-08T09:02:48.385Z"
   },
   {
    "duration": 227,
    "start_time": "2021-07-08T09:02:49.023Z"
   },
   {
    "duration": 104,
    "start_time": "2021-07-08T09:02:49.252Z"
   },
   {
    "duration": 5,
    "start_time": "2021-07-08T09:02:49.358Z"
   },
   {
    "duration": 27,
    "start_time": "2021-07-08T09:02:49.365Z"
   },
   {
    "duration": 8,
    "start_time": "2021-07-08T09:02:49.394Z"
   },
   {
    "duration": 18,
    "start_time": "2021-07-08T09:02:49.404Z"
   },
   {
    "duration": 6,
    "start_time": "2021-07-08T09:02:49.424Z"
   },
   {
    "duration": 11,
    "start_time": "2021-07-08T09:02:49.433Z"
   },
   {
    "duration": 13,
    "start_time": "2021-07-08T09:02:49.485Z"
   },
   {
    "duration": 9,
    "start_time": "2021-07-08T09:02:49.500Z"
   },
   {
    "duration": 38,
    "start_time": "2021-07-08T09:02:49.511Z"
   },
   {
    "duration": 42,
    "start_time": "2021-07-08T09:02:49.551Z"
   },
   {
    "duration": 21,
    "start_time": "2021-07-08T09:02:49.594Z"
   },
   {
    "duration": 6,
    "start_time": "2021-07-08T09:02:49.616Z"
   },
   {
    "duration": 3,
    "start_time": "2021-07-08T09:02:49.623Z"
   },
   {
    "duration": 9,
    "start_time": "2021-07-08T09:02:49.628Z"
   },
   {
    "duration": 52,
    "start_time": "2021-07-08T09:02:49.638Z"
   },
   {
    "duration": 11,
    "start_time": "2021-07-08T09:02:49.692Z"
   },
   {
    "duration": 8,
    "start_time": "2021-07-08T09:02:49.704Z"
   },
   {
    "duration": 27,
    "start_time": "2021-07-08T09:02:49.713Z"
   },
   {
    "duration": 59,
    "start_time": "2021-07-08T09:02:49.741Z"
   },
   {
    "duration": 8,
    "start_time": "2021-07-08T09:02:49.803Z"
   },
   {
    "duration": 14,
    "start_time": "2021-07-08T09:02:49.813Z"
   },
   {
    "duration": 20,
    "start_time": "2021-07-08T09:02:49.829Z"
   },
   {
    "duration": 44,
    "start_time": "2021-07-08T09:02:49.851Z"
   },
   {
    "duration": 14,
    "start_time": "2021-07-08T09:02:49.896Z"
   },
   {
    "duration": 221,
    "start_time": "2021-07-08T09:02:49.912Z"
   },
   {
    "duration": 6,
    "start_time": "2021-07-08T09:02:50.134Z"
   },
   {
    "duration": 206,
    "start_time": "2021-07-08T09:02:50.142Z"
   },
   {
    "duration": 19,
    "start_time": "2021-07-08T09:02:50.350Z"
   },
   {
    "duration": 21,
    "start_time": "2021-07-08T09:02:50.370Z"
   },
   {
    "duration": 20,
    "start_time": "2021-07-08T09:02:50.393Z"
   },
   {
    "duration": 5,
    "start_time": "2021-07-08T09:02:50.414Z"
   },
   {
    "duration": 5,
    "start_time": "2021-07-08T09:03:34.173Z"
   },
   {
    "duration": 6,
    "start_time": "2021-07-08T09:04:49.062Z"
   },
   {
    "duration": 9,
    "start_time": "2021-07-08T09:04:50.118Z"
   },
   {
    "duration": 14,
    "start_time": "2021-07-08T09:04:58.512Z"
   },
   {
    "duration": 9,
    "start_time": "2021-07-08T09:05:10.988Z"
   },
   {
    "duration": 11,
    "start_time": "2021-07-08T09:05:11.743Z"
   },
   {
    "duration": 7,
    "start_time": "2021-07-08T09:05:25.677Z"
   },
   {
    "duration": 13,
    "start_time": "2021-07-08T09:05:47.189Z"
   },
   {
    "duration": 13,
    "start_time": "2021-07-08T09:05:54.755Z"
   },
   {
    "duration": 4,
    "start_time": "2021-07-08T09:06:29.189Z"
   },
   {
    "duration": 244,
    "start_time": "2021-07-08T09:06:29.195Z"
   },
   {
    "duration": 91,
    "start_time": "2021-07-08T09:06:29.441Z"
   },
   {
    "duration": 4,
    "start_time": "2021-07-08T09:06:29.534Z"
   },
   {
    "duration": 28,
    "start_time": "2021-07-08T09:06:29.540Z"
   },
   {
    "duration": 6,
    "start_time": "2021-07-08T09:06:29.570Z"
   },
   {
    "duration": 18,
    "start_time": "2021-07-08T09:06:29.578Z"
   },
   {
    "duration": 5,
    "start_time": "2021-07-08T09:06:29.597Z"
   },
   {
    "duration": 13,
    "start_time": "2021-07-08T09:06:29.605Z"
   },
   {
    "duration": 8,
    "start_time": "2021-07-08T09:06:29.620Z"
   },
   {
    "duration": 7,
    "start_time": "2021-07-08T09:06:29.630Z"
   },
   {
    "duration": 63,
    "start_time": "2021-07-08T09:06:29.639Z"
   },
   {
    "duration": 17,
    "start_time": "2021-07-08T09:06:29.704Z"
   },
   {
    "duration": 20,
    "start_time": "2021-07-08T09:06:29.723Z"
   },
   {
    "duration": 6,
    "start_time": "2021-07-08T09:06:29.745Z"
   },
   {
    "duration": 3,
    "start_time": "2021-07-08T09:06:29.752Z"
   },
   {
    "duration": 7,
    "start_time": "2021-07-08T09:06:29.785Z"
   },
   {
    "duration": 11,
    "start_time": "2021-07-08T09:06:29.794Z"
   },
   {
    "duration": 15,
    "start_time": "2021-07-08T09:06:29.807Z"
   },
   {
    "duration": 8,
    "start_time": "2021-07-08T09:06:29.823Z"
   },
   {
    "duration": 70,
    "start_time": "2021-07-08T09:06:29.832Z"
   },
   {
    "duration": 17,
    "start_time": "2021-07-08T09:06:29.903Z"
   },
   {
    "duration": 9,
    "start_time": "2021-07-08T09:06:29.921Z"
   },
   {
    "duration": 9,
    "start_time": "2021-07-08T09:06:29.932Z"
   },
   {
    "duration": 57,
    "start_time": "2021-07-08T09:06:29.942Z"
   },
   {
    "duration": 11,
    "start_time": "2021-07-08T09:06:30.001Z"
   },
   {
    "duration": 19,
    "start_time": "2021-07-08T09:06:30.016Z"
   },
   {
    "duration": 217,
    "start_time": "2021-07-08T09:06:30.037Z"
   },
   {
    "duration": 6,
    "start_time": "2021-07-08T09:06:30.255Z"
   },
   {
    "duration": 205,
    "start_time": "2021-07-08T09:06:30.263Z"
   },
   {
    "duration": 27,
    "start_time": "2021-07-08T09:06:30.470Z"
   },
   {
    "duration": 11,
    "start_time": "2021-07-08T09:06:30.500Z"
   },
   {
    "duration": 31,
    "start_time": "2021-07-08T09:06:30.513Z"
   },
   {
    "duration": 18,
    "start_time": "2021-07-08T09:06:30.546Z"
   },
   {
    "duration": 11,
    "start_time": "2021-07-08T09:06:30.566Z"
   },
   {
    "duration": 19,
    "start_time": "2021-07-08T09:06:30.579Z"
   },
   {
    "duration": 20,
    "start_time": "2021-07-08T09:06:49.466Z"
   },
   {
    "duration": 9,
    "start_time": "2021-07-08T09:06:51.994Z"
   },
   {
    "duration": 20,
    "start_time": "2021-07-08T09:06:52.273Z"
   },
   {
    "duration": 246,
    "start_time": "2021-07-08T09:10:21.272Z"
   },
   {
    "duration": 84,
    "start_time": "2021-07-08T09:10:21.436Z"
   },
   {
    "duration": 7,
    "start_time": "2021-07-08T09:10:37.608Z"
   },
   {
    "duration": 189,
    "start_time": "2021-07-08T09:10:38.573Z"
   },
   {
    "duration": 185,
    "start_time": "2021-07-08T09:10:53.181Z"
   },
   {
    "duration": 11,
    "start_time": "2021-07-08T09:10:59.549Z"
   },
   {
    "duration": 42,
    "start_time": "2021-07-08T09:10:59.709Z"
   },
   {
    "duration": 12,
    "start_time": "2021-07-08T09:11:02.857Z"
   },
   {
    "duration": 28,
    "start_time": "2021-07-08T09:11:10.062Z"
   },
   {
    "duration": 249,
    "start_time": "2021-07-08T09:11:37.388Z"
   },
   {
    "duration": 232,
    "start_time": "2021-07-08T09:11:49.485Z"
   },
   {
    "duration": 453,
    "start_time": "2021-07-08T09:12:01.546Z"
   },
   {
    "duration": 440,
    "start_time": "2021-07-08T09:12:12.347Z"
   },
   {
    "duration": 213,
    "start_time": "2021-07-08T09:13:32.196Z"
   },
   {
    "duration": 172,
    "start_time": "2021-07-08T09:14:07.400Z"
   },
   {
    "duration": 185,
    "start_time": "2021-07-08T09:14:14.905Z"
   },
   {
    "duration": 209,
    "start_time": "2021-07-08T09:14:40.109Z"
   },
   {
    "duration": 201,
    "start_time": "2021-07-08T09:14:54.506Z"
   },
   {
    "duration": 622,
    "start_time": "2021-07-08T09:18:14.497Z"
   },
   {
    "duration": 220,
    "start_time": "2021-07-08T09:18:15.121Z"
   },
   {
    "duration": 79,
    "start_time": "2021-07-08T09:18:15.343Z"
   },
   {
    "duration": 4,
    "start_time": "2021-07-08T09:18:15.425Z"
   },
   {
    "duration": 24,
    "start_time": "2021-07-08T09:18:15.431Z"
   },
   {
    "duration": 8,
    "start_time": "2021-07-08T09:18:15.457Z"
   },
   {
    "duration": 16,
    "start_time": "2021-07-08T09:18:15.466Z"
   },
   {
    "duration": 5,
    "start_time": "2021-07-08T09:18:15.484Z"
   },
   {
    "duration": 10,
    "start_time": "2021-07-08T09:18:15.493Z"
   },
   {
    "duration": 8,
    "start_time": "2021-07-08T09:18:15.504Z"
   },
   {
    "duration": 7,
    "start_time": "2021-07-08T09:18:15.513Z"
   },
   {
    "duration": 26,
    "start_time": "2021-07-08T09:18:15.522Z"
   },
   {
    "duration": 49,
    "start_time": "2021-07-08T09:18:15.550Z"
   },
   {
    "duration": 21,
    "start_time": "2021-07-08T09:18:15.601Z"
   },
   {
    "duration": 8,
    "start_time": "2021-07-08T09:18:15.624Z"
   },
   {
    "duration": 3,
    "start_time": "2021-07-08T09:18:15.634Z"
   },
   {
    "duration": 8,
    "start_time": "2021-07-08T09:18:15.639Z"
   },
   {
    "duration": 45,
    "start_time": "2021-07-08T09:18:15.649Z"
   },
   {
    "duration": 13,
    "start_time": "2021-07-08T09:18:15.696Z"
   },
   {
    "duration": 10,
    "start_time": "2021-07-08T09:18:15.711Z"
   },
   {
    "duration": 64,
    "start_time": "2021-07-08T09:18:15.722Z"
   },
   {
    "duration": 19,
    "start_time": "2021-07-08T09:18:15.788Z"
   },
   {
    "duration": 9,
    "start_time": "2021-07-08T09:18:15.809Z"
   },
   {
    "duration": 9,
    "start_time": "2021-07-08T09:18:15.820Z"
   },
   {
    "duration": 18,
    "start_time": "2021-07-08T09:18:15.831Z"
   },
   {
    "duration": 43,
    "start_time": "2021-07-08T09:18:15.851Z"
   },
   {
    "duration": 12,
    "start_time": "2021-07-08T09:18:15.897Z"
   },
   {
    "duration": 219,
    "start_time": "2021-07-08T09:18:15.911Z"
   },
   {
    "duration": 8,
    "start_time": "2021-07-08T09:18:16.132Z"
   },
   {
    "duration": 199,
    "start_time": "2021-07-08T09:18:16.141Z"
   },
   {
    "duration": 18,
    "start_time": "2021-07-08T09:18:16.341Z"
   },
   {
    "duration": 24,
    "start_time": "2021-07-08T09:18:16.361Z"
   },
   {
    "duration": 24,
    "start_time": "2021-07-08T09:18:16.387Z"
   },
   {
    "duration": 211,
    "start_time": "2021-07-08T09:18:16.413Z"
   },
   {
    "duration": 18,
    "start_time": "2021-07-08T09:18:16.626Z"
   },
   {
    "duration": 596,
    "start_time": "2021-07-08T10:06:33.623Z"
   },
   {
    "duration": 181,
    "start_time": "2021-07-08T10:06:34.221Z"
   },
   {
    "duration": 176,
    "start_time": "2021-07-08T10:06:34.635Z"
   },
   {
    "duration": 239,
    "start_time": "2021-07-08T10:06:55.572Z"
   },
   {
    "duration": 6,
    "start_time": "2021-07-08T10:06:57.687Z"
   },
   {
    "duration": 4,
    "start_time": "2021-07-08T10:07:03.956Z"
   },
   {
    "duration": 4,
    "start_time": "2021-07-08T10:07:10.376Z"
   },
   {
    "duration": 4,
    "start_time": "2021-07-08T10:17:19.889Z"
   },
   {
    "duration": 3,
    "start_time": "2021-07-08T10:19:19.407Z"
   },
   {
    "duration": 197,
    "start_time": "2021-07-08T10:19:19.412Z"
   },
   {
    "duration": 127,
    "start_time": "2021-07-08T10:19:19.611Z"
   },
   {
    "duration": 4,
    "start_time": "2021-07-08T10:19:19.740Z"
   },
   {
    "duration": 27,
    "start_time": "2021-07-08T10:19:19.746Z"
   },
   {
    "duration": 7,
    "start_time": "2021-07-08T10:19:19.775Z"
   },
   {
    "duration": 30,
    "start_time": "2021-07-08T10:19:19.784Z"
   },
   {
    "duration": 7,
    "start_time": "2021-07-08T10:19:19.817Z"
   },
   {
    "duration": 26,
    "start_time": "2021-07-08T10:19:19.826Z"
   },
   {
    "duration": 18,
    "start_time": "2021-07-08T10:19:19.854Z"
   },
   {
    "duration": 14,
    "start_time": "2021-07-08T10:19:19.874Z"
   },
   {
    "duration": 48,
    "start_time": "2021-07-08T10:19:19.890Z"
   },
   {
    "duration": 17,
    "start_time": "2021-07-08T10:19:19.940Z"
   },
   {
    "duration": 38,
    "start_time": "2021-07-08T10:19:19.959Z"
   },
   {
    "duration": 8,
    "start_time": "2021-07-08T10:19:19.999Z"
   },
   {
    "duration": 15,
    "start_time": "2021-07-08T10:19:20.009Z"
   },
   {
    "duration": 22,
    "start_time": "2021-07-08T10:19:20.026Z"
   },
   {
    "duration": 10,
    "start_time": "2021-07-08T10:19:20.050Z"
   },
   {
    "duration": 10,
    "start_time": "2021-07-08T10:19:20.062Z"
   },
   {
    "duration": 20,
    "start_time": "2021-07-08T10:19:20.073Z"
   },
   {
    "duration": 29,
    "start_time": "2021-07-08T10:19:20.095Z"
   },
   {
    "duration": 17,
    "start_time": "2021-07-08T10:19:20.126Z"
   },
   {
    "duration": 40,
    "start_time": "2021-07-08T10:19:20.146Z"
   },
   {
    "duration": 15,
    "start_time": "2021-07-08T10:19:20.189Z"
   },
   {
    "duration": 19,
    "start_time": "2021-07-08T10:19:20.206Z"
   },
   {
    "duration": 10,
    "start_time": "2021-07-08T10:19:20.226Z"
   },
   {
    "duration": 11,
    "start_time": "2021-07-08T10:19:20.238Z"
   },
   {
    "duration": 297,
    "start_time": "2021-07-08T10:19:20.250Z"
   },
   {
    "duration": 6,
    "start_time": "2021-07-08T10:19:20.549Z"
   },
   {
    "duration": 191,
    "start_time": "2021-07-08T10:19:20.557Z"
   },
   {
    "duration": 19,
    "start_time": "2021-07-08T10:19:20.750Z"
   },
   {
    "duration": 20,
    "start_time": "2021-07-08T10:19:20.771Z"
   },
   {
    "duration": 15,
    "start_time": "2021-07-08T10:19:20.793Z"
   },
   {
    "duration": 222,
    "start_time": "2021-07-08T10:19:20.809Z"
   },
   {
    "duration": 20,
    "start_time": "2021-07-08T10:19:21.033Z"
   },
   {
    "duration": 27,
    "start_time": "2021-07-08T10:45:04.055Z"
   },
   {
    "duration": 8,
    "start_time": "2021-07-08T10:45:08.478Z"
   },
   {
    "duration": 8,
    "start_time": "2021-07-08T10:45:31.982Z"
   },
   {
    "duration": 10,
    "start_time": "2021-07-08T10:46:01.221Z"
   },
   {
    "duration": 17,
    "start_time": "2021-07-08T10:46:40.011Z"
   },
   {
    "duration": 193,
    "start_time": "2021-07-08T10:48:19.471Z"
   },
   {
    "duration": 225,
    "start_time": "2021-07-08T10:49:26.480Z"
   },
   {
    "duration": 204,
    "start_time": "2021-07-08T10:49:59.992Z"
   },
   {
    "duration": 435,
    "start_time": "2021-07-08T10:50:06.779Z"
   },
   {
    "duration": 199,
    "start_time": "2021-07-08T10:50:14.891Z"
   },
   {
    "duration": 204,
    "start_time": "2021-07-08T10:50:18.501Z"
   },
   {
    "duration": 244,
    "start_time": "2021-07-08T10:50:23.359Z"
   },
   {
    "duration": 192,
    "start_time": "2021-07-08T10:50:29.135Z"
   },
   {
    "duration": 218,
    "start_time": "2021-07-08T10:50:33.092Z"
   },
   {
    "duration": 207,
    "start_time": "2021-07-08T10:52:45.381Z"
   },
   {
    "duration": 5,
    "start_time": "2021-07-08T10:53:34.641Z"
   },
   {
    "duration": 196,
    "start_time": "2021-07-08T10:53:41.478Z"
   },
   {
    "duration": 43,
    "start_time": "2021-07-08T10:53:50.335Z"
   },
   {
    "duration": 32,
    "start_time": "2021-07-08T10:53:55.294Z"
   },
   {
    "duration": 55,
    "start_time": "2021-07-08T10:54:09.675Z"
   },
   {
    "duration": 16,
    "start_time": "2021-07-08T10:54:12.260Z"
   },
   {
    "duration": 15,
    "start_time": "2021-07-08T10:54:49.150Z"
   },
   {
    "duration": 20,
    "start_time": "2021-07-08T10:56:07.596Z"
   },
   {
    "duration": 16,
    "start_time": "2021-07-08T10:58:26.276Z"
   },
   {
    "duration": 22,
    "start_time": "2021-07-08T10:59:00.486Z"
   },
   {
    "duration": 18,
    "start_time": "2021-07-08T11:02:09.653Z"
   },
   {
    "duration": 10,
    "start_time": "2021-07-08T11:03:44.331Z"
   },
   {
    "duration": 10,
    "start_time": "2021-07-08T11:03:54.055Z"
   },
   {
    "duration": 12,
    "start_time": "2021-07-08T11:04:41.967Z"
   },
   {
    "duration": 24,
    "start_time": "2021-07-08T11:07:30.732Z"
   },
   {
    "duration": 6,
    "start_time": "2021-07-08T11:07:37.364Z"
   },
   {
    "duration": 16,
    "start_time": "2021-07-08T11:08:01.819Z"
   },
   {
    "duration": 17,
    "start_time": "2021-07-08T11:09:47.488Z"
   },
   {
    "duration": 246,
    "start_time": "2021-07-08T11:10:00.830Z"
   },
   {
    "duration": 18,
    "start_time": "2021-07-08T11:13:55.195Z"
   },
   {
    "duration": 204,
    "start_time": "2021-07-08T11:14:04.951Z"
   },
   {
    "duration": 19,
    "start_time": "2021-07-08T11:15:10.613Z"
   },
   {
    "duration": 680,
    "start_time": "2021-07-08T11:16:25.793Z"
   },
   {
    "duration": 451,
    "start_time": "2021-07-08T11:16:40.313Z"
   },
   {
    "duration": 469,
    "start_time": "2021-07-08T11:17:21.286Z"
   },
   {
    "duration": 20,
    "start_time": "2021-07-08T11:19:12.554Z"
   },
   {
    "duration": 35,
    "start_time": "2021-07-08T11:20:05.484Z"
   },
   {
    "duration": 53,
    "start_time": "2021-07-08T11:21:40.050Z"
   },
   {
    "duration": 13,
    "start_time": "2021-07-08T11:22:26.059Z"
   },
   {
    "duration": 19,
    "start_time": "2021-07-08T11:22:47.419Z"
   },
   {
    "duration": 25,
    "start_time": "2021-07-08T11:23:19.958Z"
   },
   {
    "duration": 29,
    "start_time": "2021-07-08T11:23:25.415Z"
   },
   {
    "duration": 10,
    "start_time": "2021-07-08T11:24:45.138Z"
   },
   {
    "duration": 19,
    "start_time": "2021-07-08T11:24:54.498Z"
   },
   {
    "duration": 12,
    "start_time": "2021-07-08T11:25:32.225Z"
   },
   {
    "duration": 19,
    "start_time": "2021-07-08T11:25:37.092Z"
   },
   {
    "duration": 17,
    "start_time": "2021-07-08T11:25:58.116Z"
   },
   {
    "duration": 15,
    "start_time": "2021-07-08T11:26:02.258Z"
   },
   {
    "duration": 8,
    "start_time": "2021-07-08T11:26:59.682Z"
   },
   {
    "duration": 184,
    "start_time": "2021-07-08T11:27:21.894Z"
   },
   {
    "duration": 8,
    "start_time": "2021-07-08T11:27:23.824Z"
   },
   {
    "duration": 202,
    "start_time": "2021-07-08T11:27:23.962Z"
   },
   {
    "duration": 360,
    "start_time": "2021-07-08T11:28:33.215Z"
   },
   {
    "duration": 231,
    "start_time": "2021-07-08T11:32:05.542Z"
   },
   {
    "duration": 607,
    "start_time": "2021-07-08T11:36:27.854Z"
   },
   {
    "duration": 241,
    "start_time": "2021-07-08T11:36:28.463Z"
   },
   {
    "duration": 67,
    "start_time": "2021-07-08T11:36:28.709Z"
   },
   {
    "duration": 5,
    "start_time": "2021-07-08T11:36:28.778Z"
   },
   {
    "duration": 32,
    "start_time": "2021-07-08T11:36:28.784Z"
   },
   {
    "duration": 11,
    "start_time": "2021-07-08T11:36:28.819Z"
   },
   {
    "duration": 20,
    "start_time": "2021-07-08T11:36:28.834Z"
   },
   {
    "duration": 36,
    "start_time": "2021-07-08T11:36:28.857Z"
   },
   {
    "duration": 16,
    "start_time": "2021-07-08T11:36:28.895Z"
   },
   {
    "duration": 14,
    "start_time": "2021-07-08T11:36:28.913Z"
   },
   {
    "duration": 9,
    "start_time": "2021-07-08T11:36:28.930Z"
   },
   {
    "duration": 55,
    "start_time": "2021-07-08T11:36:28.941Z"
   },
   {
    "duration": 27,
    "start_time": "2021-07-08T11:36:28.999Z"
   },
   {
    "duration": 30,
    "start_time": "2021-07-08T11:36:29.028Z"
   },
   {
    "duration": 31,
    "start_time": "2021-07-08T11:36:29.060Z"
   },
   {
    "duration": 3,
    "start_time": "2021-07-08T11:36:29.093Z"
   },
   {
    "duration": 12,
    "start_time": "2021-07-08T11:36:29.099Z"
   },
   {
    "duration": 11,
    "start_time": "2021-07-08T11:36:29.112Z"
   },
   {
    "duration": 12,
    "start_time": "2021-07-08T11:36:29.125Z"
   },
   {
    "duration": 9,
    "start_time": "2021-07-08T11:36:29.139Z"
   },
   {
    "duration": 31,
    "start_time": "2021-07-08T11:36:29.191Z"
   },
   {
    "duration": 17,
    "start_time": "2021-07-08T11:36:29.226Z"
   },
   {
    "duration": 7,
    "start_time": "2021-07-08T11:36:29.245Z"
   },
   {
    "duration": 10,
    "start_time": "2021-07-08T11:36:29.254Z"
   },
   {
    "duration": 30,
    "start_time": "2021-07-08T11:36:29.292Z"
   },
   {
    "duration": 11,
    "start_time": "2021-07-08T11:36:29.324Z"
   },
   {
    "duration": 11,
    "start_time": "2021-07-08T11:36:29.337Z"
   },
   {
    "duration": 230,
    "start_time": "2021-07-08T11:36:29.349Z"
   },
   {
    "duration": 13,
    "start_time": "2021-07-08T11:36:29.588Z"
   },
   {
    "duration": 205,
    "start_time": "2021-07-08T11:36:29.603Z"
   },
   {
    "duration": 20,
    "start_time": "2021-07-08T11:36:29.810Z"
   },
   {
    "duration": 9,
    "start_time": "2021-07-08T11:36:29.832Z"
   },
   {
    "duration": 16,
    "start_time": "2021-07-08T11:36:29.843Z"
   },
   {
    "duration": 283,
    "start_time": "2021-07-08T11:36:29.861Z"
   },
   {
    "duration": 50,
    "start_time": "2021-07-08T11:36:30.146Z"
   },
   {
    "duration": 14,
    "start_time": "2021-07-08T11:36:30.198Z"
   },
   {
    "duration": 11,
    "start_time": "2021-07-08T11:36:30.214Z"
   },
   {
    "duration": 245,
    "start_time": "2021-07-08T11:36:30.227Z"
   },
   {
    "duration": 439,
    "start_time": "2021-07-08T11:36:30.474Z"
   },
   {
    "duration": 210,
    "start_time": "2021-07-08T11:36:30.915Z"
   },
   {
    "duration": 15,
    "start_time": "2021-07-08T11:36:31.127Z"
   },
   {
    "duration": 17,
    "start_time": "2021-07-08T11:38:20.451Z"
   },
   {
    "duration": 642,
    "start_time": "2021-07-08T11:46:17.881Z"
   },
   {
    "duration": 210,
    "start_time": "2021-07-08T11:46:18.525Z"
   },
   {
    "duration": 104,
    "start_time": "2021-07-08T11:46:18.741Z"
   },
   {
    "duration": 8,
    "start_time": "2021-07-08T11:46:18.847Z"
   },
   {
    "duration": 25,
    "start_time": "2021-07-08T11:46:18.857Z"
   },
   {
    "duration": 14,
    "start_time": "2021-07-08T11:46:18.884Z"
   },
   {
    "duration": 22,
    "start_time": "2021-07-08T11:46:18.900Z"
   },
   {
    "duration": 5,
    "start_time": "2021-07-08T11:46:18.924Z"
   },
   {
    "duration": 13,
    "start_time": "2021-07-08T11:46:18.931Z"
   },
   {
    "duration": 45,
    "start_time": "2021-07-08T11:46:18.946Z"
   },
   {
    "duration": 12,
    "start_time": "2021-07-08T11:46:18.993Z"
   },
   {
    "duration": 38,
    "start_time": "2021-07-08T11:46:19.006Z"
   },
   {
    "duration": 50,
    "start_time": "2021-07-08T11:46:19.046Z"
   },
   {
    "duration": 29,
    "start_time": "2021-07-08T11:46:19.099Z"
   },
   {
    "duration": 7,
    "start_time": "2021-07-08T11:46:19.130Z"
   },
   {
    "duration": 3,
    "start_time": "2021-07-08T11:46:19.139Z"
   },
   {
    "duration": 11,
    "start_time": "2021-07-08T11:46:19.144Z"
   },
   {
    "duration": 40,
    "start_time": "2021-07-08T11:46:19.157Z"
   },
   {
    "duration": 15,
    "start_time": "2021-07-08T11:46:19.199Z"
   },
   {
    "duration": 10,
    "start_time": "2021-07-08T11:46:19.217Z"
   },
   {
    "duration": 68,
    "start_time": "2021-07-08T11:46:19.230Z"
   },
   {
    "duration": 17,
    "start_time": "2021-07-08T11:46:19.301Z"
   },
   {
    "duration": 7,
    "start_time": "2021-07-08T11:46:19.321Z"
   },
   {
    "duration": 11,
    "start_time": "2021-07-08T11:46:19.330Z"
   },
   {
    "duration": 59,
    "start_time": "2021-07-08T11:46:19.343Z"
   },
   {
    "duration": 17,
    "start_time": "2021-07-08T11:46:19.405Z"
   },
   {
    "duration": 16,
    "start_time": "2021-07-08T11:46:19.424Z"
   },
   {
    "duration": 252,
    "start_time": "2021-07-08T11:46:19.443Z"
   },
   {
    "duration": 9,
    "start_time": "2021-07-08T11:46:19.697Z"
   },
   {
    "duration": 224,
    "start_time": "2021-07-08T11:46:19.708Z"
   },
   {
    "duration": 21,
    "start_time": "2021-07-08T11:46:19.934Z"
   },
   {
    "duration": 9,
    "start_time": "2021-07-08T11:46:19.956Z"
   },
   {
    "duration": 32,
    "start_time": "2021-07-08T11:46:19.967Z"
   },
   {
    "duration": 288,
    "start_time": "2021-07-08T11:46:20.004Z"
   },
   {
    "duration": 23,
    "start_time": "2021-07-08T11:46:20.300Z"
   },
   {
    "duration": 11,
    "start_time": "2021-07-08T11:46:20.325Z"
   },
   {
    "duration": 11,
    "start_time": "2021-07-08T11:46:20.339Z"
   },
   {
    "duration": 259,
    "start_time": "2021-07-08T11:46:20.352Z"
   },
   {
    "duration": 438,
    "start_time": "2021-07-08T11:46:20.613Z"
   },
   {
    "duration": 207,
    "start_time": "2021-07-08T11:46:21.054Z"
   },
   {
    "duration": 27,
    "start_time": "2021-07-08T11:46:21.262Z"
   },
   {
    "duration": 19,
    "start_time": "2021-07-08T11:46:21.291Z"
   },
   {
    "duration": 820,
    "start_time": "2021-07-08T11:49:01.655Z"
   },
   {
    "duration": 372,
    "start_time": "2021-07-08T11:49:02.478Z"
   },
   {
    "duration": 98,
    "start_time": "2021-07-08T11:49:02.853Z"
   },
   {
    "duration": 6,
    "start_time": "2021-07-08T11:49:02.953Z"
   },
   {
    "duration": 39,
    "start_time": "2021-07-08T11:49:02.960Z"
   },
   {
    "duration": 9,
    "start_time": "2021-07-08T11:49:03.003Z"
   },
   {
    "duration": 23,
    "start_time": "2021-07-08T11:49:03.014Z"
   },
   {
    "duration": 6,
    "start_time": "2021-07-08T11:49:03.041Z"
   },
   {
    "duration": 20,
    "start_time": "2021-07-08T11:49:03.049Z"
   },
   {
    "duration": 18,
    "start_time": "2021-07-08T11:49:03.084Z"
   },
   {
    "duration": 14,
    "start_time": "2021-07-08T11:49:03.104Z"
   },
   {
    "duration": 39,
    "start_time": "2021-07-08T11:49:03.119Z"
   },
   {
    "duration": 38,
    "start_time": "2021-07-08T11:49:03.160Z"
   },
   {
    "duration": 26,
    "start_time": "2021-07-08T11:49:03.200Z"
   },
   {
    "duration": 7,
    "start_time": "2021-07-08T11:49:03.227Z"
   },
   {
    "duration": 4,
    "start_time": "2021-07-08T11:49:03.236Z"
   },
   {
    "duration": 15,
    "start_time": "2021-07-08T11:49:03.243Z"
   },
   {
    "duration": 21,
    "start_time": "2021-07-08T11:49:03.285Z"
   },
   {
    "duration": 17,
    "start_time": "2021-07-08T11:49:03.309Z"
   },
   {
    "duration": 10,
    "start_time": "2021-07-08T11:49:03.328Z"
   },
   {
    "duration": 65,
    "start_time": "2021-07-08T11:49:03.340Z"
   },
   {
    "duration": 18,
    "start_time": "2021-07-08T11:49:03.407Z"
   },
   {
    "duration": 8,
    "start_time": "2021-07-08T11:49:03.428Z"
   },
   {
    "duration": 15,
    "start_time": "2021-07-08T11:49:03.438Z"
   },
   {
    "duration": 40,
    "start_time": "2021-07-08T11:49:03.455Z"
   },
   {
    "duration": 12,
    "start_time": "2021-07-08T11:49:03.497Z"
   },
   {
    "duration": 29,
    "start_time": "2021-07-08T11:49:03.511Z"
   },
   {
    "duration": 285,
    "start_time": "2021-07-08T11:49:03.542Z"
   },
   {
    "duration": 8,
    "start_time": "2021-07-08T11:49:03.829Z"
   },
   {
    "duration": 227,
    "start_time": "2021-07-08T11:49:03.838Z"
   },
   {
    "duration": 40,
    "start_time": "2021-07-08T11:49:04.066Z"
   },
   {
    "duration": 10,
    "start_time": "2021-07-08T11:49:04.108Z"
   },
   {
    "duration": 26,
    "start_time": "2021-07-08T11:49:04.121Z"
   },
   {
    "duration": 290,
    "start_time": "2021-07-08T11:49:04.149Z"
   },
   {
    "duration": 26,
    "start_time": "2021-07-08T11:49:04.441Z"
   },
   {
    "duration": 31,
    "start_time": "2021-07-08T11:49:04.470Z"
   },
   {
    "duration": 14,
    "start_time": "2021-07-08T11:49:04.503Z"
   },
   {
    "duration": 259,
    "start_time": "2021-07-08T11:49:04.521Z"
   },
   {
    "duration": 480,
    "start_time": "2021-07-08T11:49:04.782Z"
   },
   {
    "duration": 225,
    "start_time": "2021-07-08T11:49:05.264Z"
   },
   {
    "duration": 22,
    "start_time": "2021-07-08T11:49:05.491Z"
   },
   {
    "duration": 24,
    "start_time": "2021-07-08T11:49:05.515Z"
   },
   {
    "duration": 634,
    "start_time": "2021-07-08T11:52:24.960Z"
   },
   {
    "duration": 199,
    "start_time": "2021-07-08T11:52:25.599Z"
   },
   {
    "duration": 106,
    "start_time": "2021-07-08T11:52:25.803Z"
   },
   {
    "duration": 7,
    "start_time": "2021-07-08T11:52:25.911Z"
   },
   {
    "duration": 29,
    "start_time": "2021-07-08T11:52:25.920Z"
   },
   {
    "duration": 7,
    "start_time": "2021-07-08T11:52:25.951Z"
   },
   {
    "duration": 26,
    "start_time": "2021-07-08T11:52:25.961Z"
   },
   {
    "duration": 11,
    "start_time": "2021-07-08T11:52:25.990Z"
   },
   {
    "duration": 29,
    "start_time": "2021-07-08T11:52:26.005Z"
   },
   {
    "duration": 9,
    "start_time": "2021-07-08T11:52:26.036Z"
   },
   {
    "duration": 8,
    "start_time": "2021-07-08T11:52:26.047Z"
   },
   {
    "duration": 63,
    "start_time": "2021-07-08T11:52:26.057Z"
   },
   {
    "duration": 17,
    "start_time": "2021-07-08T11:52:26.122Z"
   },
   {
    "duration": 43,
    "start_time": "2021-07-08T11:52:26.142Z"
   },
   {
    "duration": 17,
    "start_time": "2021-07-08T11:52:26.187Z"
   },
   {
    "duration": 5,
    "start_time": "2021-07-08T11:52:26.206Z"
   },
   {
    "duration": 12,
    "start_time": "2021-07-08T11:52:26.212Z"
   },
   {
    "duration": 11,
    "start_time": "2021-07-08T11:52:26.226Z"
   },
   {
    "duration": 12,
    "start_time": "2021-07-08T11:52:26.238Z"
   },
   {
    "duration": 38,
    "start_time": "2021-07-08T11:52:26.252Z"
   },
   {
    "duration": 40,
    "start_time": "2021-07-08T11:52:26.292Z"
   },
   {
    "duration": 17,
    "start_time": "2021-07-08T11:52:26.336Z"
   },
   {
    "duration": 39,
    "start_time": "2021-07-08T11:52:26.355Z"
   },
   {
    "duration": 11,
    "start_time": "2021-07-08T11:52:26.395Z"
   },
   {
    "duration": 23,
    "start_time": "2021-07-08T11:52:26.408Z"
   },
   {
    "duration": 12,
    "start_time": "2021-07-08T11:52:26.432Z"
   },
   {
    "duration": 41,
    "start_time": "2021-07-08T11:52:26.446Z"
   },
   {
    "duration": 215,
    "start_time": "2021-07-08T11:52:26.493Z"
   },
   {
    "duration": 8,
    "start_time": "2021-07-08T11:52:26.710Z"
   },
   {
    "duration": 228,
    "start_time": "2021-07-08T11:52:26.720Z"
   },
   {
    "duration": 18,
    "start_time": "2021-07-08T11:52:26.950Z"
   },
   {
    "duration": 35,
    "start_time": "2021-07-08T11:52:26.969Z"
   },
   {
    "duration": 23,
    "start_time": "2021-07-08T11:52:27.006Z"
   },
   {
    "duration": 258,
    "start_time": "2021-07-08T11:52:27.030Z"
   },
   {
    "duration": 24,
    "start_time": "2021-07-08T11:52:27.290Z"
   },
   {
    "duration": 12,
    "start_time": "2021-07-08T11:52:27.316Z"
   },
   {
    "duration": 10,
    "start_time": "2021-07-08T11:52:27.329Z"
   },
   {
    "duration": 298,
    "start_time": "2021-07-08T11:52:27.341Z"
   },
   {
    "duration": 436,
    "start_time": "2021-07-08T11:52:27.641Z"
   },
   {
    "duration": 216,
    "start_time": "2021-07-08T11:52:28.079Z"
   },
   {
    "duration": 20,
    "start_time": "2021-07-08T11:52:28.297Z"
   },
   {
    "duration": 17,
    "start_time": "2021-07-08T11:52:28.319Z"
   },
   {
    "duration": 710,
    "start_time": "2022-11-28T09:36:52.292Z"
   },
   {
    "duration": 96,
    "start_time": "2022-11-28T09:39:22.145Z"
   },
   {
    "duration": 570,
    "start_time": "2022-11-28T09:42:04.735Z"
   },
   {
    "duration": 9,
    "start_time": "2022-11-28T09:44:20.059Z"
   },
   {
    "duration": 16,
    "start_time": "2022-11-28T09:44:22.331Z"
   },
   {
    "duration": 15,
    "start_time": "2022-11-28T09:44:44.671Z"
   },
   {
    "duration": 21,
    "start_time": "2022-11-28T09:44:47.053Z"
   },
   {
    "duration": 73,
    "start_time": "2022-11-28T09:50:39.629Z"
   },
   {
    "duration": 12,
    "start_time": "2022-11-28T09:51:28.243Z"
   },
   {
    "duration": 13,
    "start_time": "2022-11-28T09:52:20.138Z"
   },
   {
    "duration": 13,
    "start_time": "2022-11-28T09:52:55.222Z"
   },
   {
    "duration": 12,
    "start_time": "2022-11-28T09:53:17.217Z"
   },
   {
    "duration": 16,
    "start_time": "2022-11-28T09:53:20.272Z"
   },
   {
    "duration": 12,
    "start_time": "2022-11-28T09:53:39.923Z"
   },
   {
    "duration": 20,
    "start_time": "2022-11-28T09:54:12.189Z"
   },
   {
    "duration": 9,
    "start_time": "2022-11-28T09:54:12.583Z"
   },
   {
    "duration": 7,
    "start_time": "2022-11-28T09:55:05.332Z"
   },
   {
    "duration": 9,
    "start_time": "2022-11-28T09:55:10.221Z"
   },
   {
    "duration": 4,
    "start_time": "2022-11-28T09:55:17.830Z"
   },
   {
    "duration": 324,
    "start_time": "2022-11-28T09:56:13.164Z"
   },
   {
    "duration": 27,
    "start_time": "2022-11-28T09:57:03.730Z"
   },
   {
    "duration": 11,
    "start_time": "2022-11-28T09:57:12.612Z"
   },
   {
    "duration": 8,
    "start_time": "2022-11-28T09:57:25.095Z"
   },
   {
    "duration": 26,
    "start_time": "2022-11-28T09:57:49.966Z"
   },
   {
    "duration": 16,
    "start_time": "2022-11-28T09:57:57.473Z"
   },
   {
    "duration": 15,
    "start_time": "2022-11-28T09:58:23.307Z"
   },
   {
    "duration": 7,
    "start_time": "2022-11-28T10:00:13.048Z"
   },
   {
    "duration": 24,
    "start_time": "2022-11-28T10:00:33.274Z"
   },
   {
    "duration": 8,
    "start_time": "2022-11-28T10:00:42.507Z"
   },
   {
    "duration": 13,
    "start_time": "2022-11-28T10:00:49.212Z"
   },
   {
    "duration": 14,
    "start_time": "2022-11-28T10:00:54.188Z"
   },
   {
    "duration": 13,
    "start_time": "2022-11-28T10:00:54.636Z"
   },
   {
    "duration": 26,
    "start_time": "2022-11-28T10:01:10.886Z"
   },
   {
    "duration": 13,
    "start_time": "2022-11-28T10:01:30.889Z"
   },
   {
    "duration": 721,
    "start_time": "2022-11-28T10:01:49.278Z"
   },
   {
    "duration": 26,
    "start_time": "2022-11-28T10:01:50.001Z"
   },
   {
    "duration": 8,
    "start_time": "2022-11-28T10:01:50.028Z"
   },
   {
    "duration": 25,
    "start_time": "2022-11-28T10:01:50.038Z"
   },
   {
    "duration": 17,
    "start_time": "2022-11-28T10:01:50.065Z"
   },
   {
    "duration": 82,
    "start_time": "2022-11-28T10:01:50.084Z"
   },
   {
    "duration": 30,
    "start_time": "2022-11-28T10:03:19.925Z"
   },
   {
    "duration": 13,
    "start_time": "2022-11-28T10:03:25.575Z"
   },
   {
    "duration": 21,
    "start_time": "2022-11-28T10:03:48.992Z"
   },
   {
    "duration": 14,
    "start_time": "2022-11-28T10:06:10.960Z"
   },
   {
    "duration": 14,
    "start_time": "2022-11-28T10:06:14.697Z"
   },
   {
    "duration": 10,
    "start_time": "2022-11-28T10:06:24.322Z"
   },
   {
    "duration": 9,
    "start_time": "2022-11-28T10:06:48.756Z"
   },
   {
    "duration": 9,
    "start_time": "2022-11-28T10:06:58.173Z"
   },
   {
    "duration": 10,
    "start_time": "2022-11-28T10:07:04.422Z"
   },
   {
    "duration": 8,
    "start_time": "2022-11-28T10:07:09.239Z"
   },
   {
    "duration": 7,
    "start_time": "2022-11-28T10:07:16.248Z"
   },
   {
    "duration": 4,
    "start_time": "2022-11-28T10:07:44.012Z"
   },
   {
    "duration": 1355,
    "start_time": "2022-11-28T10:08:03.781Z"
   },
   {
    "duration": 4,
    "start_time": "2022-11-28T10:08:15.551Z"
   },
   {
    "duration": 4,
    "start_time": "2022-11-28T10:08:29.056Z"
   },
   {
    "duration": 4,
    "start_time": "2022-11-28T10:08:55.660Z"
   },
   {
    "duration": 4,
    "start_time": "2022-11-28T10:09:08.700Z"
   },
   {
    "duration": 747,
    "start_time": "2022-11-28T10:09:18.582Z"
   },
   {
    "duration": 29,
    "start_time": "2022-11-28T10:09:19.331Z"
   },
   {
    "duration": 5,
    "start_time": "2022-11-28T10:09:19.362Z"
   },
   {
    "duration": 9,
    "start_time": "2022-11-28T10:09:19.369Z"
   },
   {
    "duration": 18,
    "start_time": "2022-11-28T10:09:19.380Z"
   },
   {
    "duration": 86,
    "start_time": "2022-11-28T10:09:19.400Z"
   },
   {
    "duration": 514,
    "start_time": "2022-11-28T10:10:23.645Z"
   },
   {
    "duration": 330,
    "start_time": "2022-11-28T10:10:27.836Z"
   },
   {
    "duration": 10,
    "start_time": "2022-11-28T10:11:58.984Z"
   },
   {
    "duration": 7,
    "start_time": "2022-11-28T10:11:59.503Z"
   },
   {
    "duration": 10,
    "start_time": "2022-11-28T10:12:03.240Z"
   },
   {
    "duration": 15,
    "start_time": "2022-11-28T10:12:04.232Z"
   },
   {
    "duration": 14,
    "start_time": "2022-11-28T10:12:45.973Z"
   },
   {
    "duration": 6,
    "start_time": "2022-11-28T10:12:58.871Z"
   },
   {
    "duration": 10,
    "start_time": "2022-11-28T10:13:00.383Z"
   },
   {
    "duration": 15,
    "start_time": "2022-11-28T10:13:01.382Z"
   },
   {
    "duration": 6,
    "start_time": "2022-11-28T10:13:25.425Z"
   },
   {
    "duration": 10,
    "start_time": "2022-11-28T10:13:42.523Z"
   },
   {
    "duration": 10,
    "start_time": "2022-11-28T10:13:51.564Z"
   },
   {
    "duration": 748,
    "start_time": "2022-11-28T10:13:56.067Z"
   },
   {
    "duration": 25,
    "start_time": "2022-11-28T10:13:56.817Z"
   },
   {
    "duration": 5,
    "start_time": "2022-11-28T10:13:56.844Z"
   },
   {
    "duration": 13,
    "start_time": "2022-11-28T10:13:56.850Z"
   },
   {
    "duration": 5,
    "start_time": "2022-11-28T10:13:56.865Z"
   },
   {
    "duration": 14,
    "start_time": "2022-11-28T10:13:56.872Z"
   },
   {
    "duration": 39,
    "start_time": "2022-11-28T10:13:56.888Z"
   },
   {
    "duration": 30,
    "start_time": "2022-11-28T10:13:56.929Z"
   },
   {
    "duration": 8,
    "start_time": "2022-11-28T10:20:01.686Z"
   },
   {
    "duration": 4,
    "start_time": "2022-11-28T10:20:17.207Z"
   },
   {
    "duration": 9,
    "start_time": "2022-11-28T10:21:06.269Z"
   },
   {
    "duration": 11,
    "start_time": "2022-11-28T10:21:37.737Z"
   },
   {
    "duration": 21,
    "start_time": "2022-11-28T10:21:40.505Z"
   },
   {
    "duration": 14,
    "start_time": "2022-11-28T10:30:54.072Z"
   },
   {
    "duration": 1235,
    "start_time": "2022-11-29T06:13:32.986Z"
   },
   {
    "duration": 28,
    "start_time": "2022-11-29T06:13:34.223Z"
   },
   {
    "duration": 26,
    "start_time": "2022-11-29T06:13:34.253Z"
   },
   {
    "duration": 8,
    "start_time": "2022-11-29T06:13:34.282Z"
   },
   {
    "duration": 14,
    "start_time": "2022-11-29T06:13:34.291Z"
   },
   {
    "duration": 15,
    "start_time": "2022-11-29T06:13:34.307Z"
   },
   {
    "duration": 12,
    "start_time": "2022-11-29T06:13:34.324Z"
   },
   {
    "duration": 33,
    "start_time": "2022-11-29T06:13:34.338Z"
   },
   {
    "duration": 66,
    "start_time": "2022-11-29T06:13:34.373Z"
   },
   {
    "duration": 27,
    "start_time": "2022-11-29T06:13:34.442Z"
   },
   {
    "duration": 36,
    "start_time": "2022-11-29T06:15:16.388Z"
   },
   {
    "duration": 33,
    "start_time": "2022-11-29T06:16:14.229Z"
   },
   {
    "duration": 27,
    "start_time": "2022-11-29T06:16:29.836Z"
   },
   {
    "duration": 906,
    "start_time": "2022-11-30T12:35:23.359Z"
   },
   {
    "duration": 33,
    "start_time": "2022-11-30T12:35:24.267Z"
   },
   {
    "duration": 17,
    "start_time": "2022-11-30T12:35:24.302Z"
   },
   {
    "duration": 20,
    "start_time": "2022-11-30T12:35:24.321Z"
   },
   {
    "duration": 19,
    "start_time": "2022-11-30T12:35:24.343Z"
   },
   {
    "duration": 6,
    "start_time": "2022-11-30T12:35:24.363Z"
   },
   {
    "duration": 16,
    "start_time": "2022-11-30T12:35:24.370Z"
   },
   {
    "duration": 18,
    "start_time": "2022-11-30T12:35:24.388Z"
   },
   {
    "duration": 56,
    "start_time": "2022-11-30T12:35:24.408Z"
   },
   {
    "duration": 34,
    "start_time": "2022-11-30T12:35:24.467Z"
   },
   {
    "duration": 54,
    "start_time": "2022-11-30T12:35:24.503Z"
   },
   {
    "duration": 30,
    "start_time": "2022-11-30T12:35:24.559Z"
   },
   {
    "duration": 1013,
    "start_time": "2022-12-03T06:58:46.338Z"
   },
   {
    "duration": 22,
    "start_time": "2022-12-03T06:58:47.353Z"
   },
   {
    "duration": 17,
    "start_time": "2022-12-03T06:58:47.377Z"
   },
   {
    "duration": 8,
    "start_time": "2022-12-03T06:58:47.396Z"
   },
   {
    "duration": 31,
    "start_time": "2022-12-03T06:58:47.405Z"
   },
   {
    "duration": 18,
    "start_time": "2022-12-03T06:58:47.439Z"
   },
   {
    "duration": 17,
    "start_time": "2022-12-03T06:58:47.458Z"
   },
   {
    "duration": 25,
    "start_time": "2022-12-03T06:58:47.477Z"
   },
   {
    "duration": 22,
    "start_time": "2022-12-03T06:58:47.503Z"
   },
   {
    "duration": 21,
    "start_time": "2022-12-03T06:58:47.528Z"
   },
   {
    "duration": 25,
    "start_time": "2022-12-03T06:58:47.551Z"
   },
   {
    "duration": 2,
    "start_time": "2022-12-03T06:58:47.578Z"
   },
   {
    "duration": 77,
    "start_time": "2022-12-03T07:00:34.231Z"
   },
   {
    "duration": 7,
    "start_time": "2022-12-03T07:01:24.846Z"
   },
   {
    "duration": 57,
    "start_time": "2022-12-03T07:03:40.965Z"
   },
   {
    "duration": 24,
    "start_time": "2022-12-03T07:04:48.917Z"
   },
   {
    "duration": 16,
    "start_time": "2022-12-03T07:05:29.055Z"
   },
   {
    "duration": 15,
    "start_time": "2022-12-03T07:09:35.852Z"
   },
   {
    "duration": 13,
    "start_time": "2022-12-03T07:10:36.451Z"
   },
   {
    "duration": 9,
    "start_time": "2022-12-03T07:10:57.774Z"
   },
   {
    "duration": 686,
    "start_time": "2022-12-03T07:11:27.672Z"
   },
   {
    "duration": 22,
    "start_time": "2022-12-03T07:11:28.360Z"
   },
   {
    "duration": 17,
    "start_time": "2022-12-03T07:11:28.386Z"
   },
   {
    "duration": 5,
    "start_time": "2022-12-03T07:11:28.404Z"
   },
   {
    "duration": 9,
    "start_time": "2022-12-03T07:11:28.411Z"
   },
   {
    "duration": 7,
    "start_time": "2022-12-03T07:11:28.422Z"
   },
   {
    "duration": 13,
    "start_time": "2022-12-03T07:11:28.430Z"
   },
   {
    "duration": 15,
    "start_time": "2022-12-03T07:11:28.445Z"
   },
   {
    "duration": 28,
    "start_time": "2022-12-03T07:11:28.462Z"
   },
   {
    "duration": 34,
    "start_time": "2022-12-03T07:11:28.492Z"
   },
   {
    "duration": 27,
    "start_time": "2022-12-03T07:11:28.528Z"
   },
   {
    "duration": 82,
    "start_time": "2022-12-03T07:11:28.557Z"
   },
   {
    "duration": 70,
    "start_time": "2022-12-03T07:11:28.641Z"
   },
   {
    "duration": 8,
    "start_time": "2022-12-03T07:11:38.010Z"
   },
   {
    "duration": 9,
    "start_time": "2022-12-03T07:13:10.254Z"
   },
   {
    "duration": 8,
    "start_time": "2022-12-03T07:17:24.161Z"
   },
   {
    "duration": 334,
    "start_time": "2022-12-03T07:17:37.523Z"
   },
   {
    "duration": 10,
    "start_time": "2022-12-03T07:18:27.368Z"
   },
   {
    "duration": 7,
    "start_time": "2022-12-03T07:18:54.996Z"
   },
   {
    "duration": 6,
    "start_time": "2022-12-03T07:19:07.661Z"
   },
   {
    "duration": 7,
    "start_time": "2022-12-03T07:22:29.356Z"
   },
   {
    "duration": 20,
    "start_time": "2022-12-03T07:23:02.104Z"
   },
   {
    "duration": 22,
    "start_time": "2022-12-03T07:24:30.105Z"
   },
   {
    "duration": 21,
    "start_time": "2022-12-03T07:36:44.851Z"
   },
   {
    "duration": 15,
    "start_time": "2022-12-03T07:37:00.293Z"
   },
   {
    "duration": 15,
    "start_time": "2022-12-03T07:37:53.396Z"
   },
   {
    "duration": 9,
    "start_time": "2022-12-03T07:38:47.309Z"
   },
   {
    "duration": 10,
    "start_time": "2022-12-03T07:39:02.043Z"
   },
   {
    "duration": 8,
    "start_time": "2022-12-03T07:39:37.431Z"
   },
   {
    "duration": 6,
    "start_time": "2022-12-03T07:58:29.711Z"
   },
   {
    "duration": 6,
    "start_time": "2022-12-03T07:58:41.008Z"
   },
   {
    "duration": 4,
    "start_time": "2022-12-03T07:58:56.579Z"
   },
   {
    "duration": 4,
    "start_time": "2022-12-03T07:59:54.080Z"
   },
   {
    "duration": 7,
    "start_time": "2022-12-03T08:04:36.600Z"
   },
   {
    "duration": 7,
    "start_time": "2022-12-03T08:04:42.809Z"
   },
   {
    "duration": 7,
    "start_time": "2022-12-03T08:04:59.187Z"
   },
   {
    "duration": 11,
    "start_time": "2022-12-03T08:07:46.566Z"
   },
   {
    "duration": 40,
    "start_time": "2022-12-03T08:08:56.926Z"
   },
   {
    "duration": 19,
    "start_time": "2022-12-03T08:09:02.509Z"
   },
   {
    "duration": 5,
    "start_time": "2022-12-03T08:09:08.499Z"
   },
   {
    "duration": 29,
    "start_time": "2022-12-03T08:11:06.516Z"
   },
   {
    "duration": 47,
    "start_time": "2022-12-03T08:11:18.421Z"
   },
   {
    "duration": 40,
    "start_time": "2022-12-03T08:12:51.447Z"
   },
   {
    "duration": 4,
    "start_time": "2022-12-03T08:13:15.658Z"
   },
   {
    "duration": 21,
    "start_time": "2022-12-03T08:19:11.576Z"
   },
   {
    "duration": 5,
    "start_time": "2022-12-03T08:20:10.345Z"
   },
   {
    "duration": 12,
    "start_time": "2022-12-03T08:20:44.653Z"
   },
   {
    "duration": 7,
    "start_time": "2022-12-03T08:21:07.592Z"
   },
   {
    "duration": 13,
    "start_time": "2022-12-03T08:22:47.505Z"
   },
   {
    "duration": 7,
    "start_time": "2022-12-03T08:25:14.427Z"
   },
   {
    "duration": 9,
    "start_time": "2022-12-03T08:31:27.220Z"
   },
   {
    "duration": 9,
    "start_time": "2022-12-03T08:31:55.679Z"
   },
   {
    "duration": 9,
    "start_time": "2022-12-03T08:31:59.632Z"
   },
   {
    "duration": 9,
    "start_time": "2022-12-03T08:32:03.713Z"
   },
   {
    "duration": 44,
    "start_time": "2022-12-03T08:32:32.220Z"
   },
   {
    "duration": 12,
    "start_time": "2022-12-03T08:32:38.557Z"
   },
   {
    "duration": 8,
    "start_time": "2022-12-03T08:35:08.172Z"
   },
   {
    "duration": 10,
    "start_time": "2022-12-03T08:35:42.577Z"
   },
   {
    "duration": 9,
    "start_time": "2022-12-03T08:39:01.312Z"
   },
   {
    "duration": 137,
    "start_time": "2022-12-03T08:40:39.243Z"
   },
   {
    "duration": 12,
    "start_time": "2022-12-03T08:44:11.178Z"
   },
   {
    "duration": 49,
    "start_time": "2022-12-03T08:53:41.187Z"
   },
   {
    "duration": 33,
    "start_time": "2022-12-03T08:53:45.339Z"
   },
   {
    "duration": 24,
    "start_time": "2022-12-03T08:53:58.908Z"
   },
   {
    "duration": 1009,
    "start_time": "2022-12-04T02:47:09.938Z"
   },
   {
    "duration": 23,
    "start_time": "2022-12-04T02:47:10.949Z"
   },
   {
    "duration": 14,
    "start_time": "2022-12-04T02:47:10.974Z"
   },
   {
    "duration": 5,
    "start_time": "2022-12-04T02:47:10.991Z"
   },
   {
    "duration": 20,
    "start_time": "2022-12-04T02:47:10.997Z"
   },
   {
    "duration": 11,
    "start_time": "2022-12-04T02:47:11.018Z"
   },
   {
    "duration": 12,
    "start_time": "2022-12-04T02:47:11.030Z"
   },
   {
    "duration": 14,
    "start_time": "2022-12-04T02:47:11.043Z"
   },
   {
    "duration": 19,
    "start_time": "2022-12-04T02:47:11.059Z"
   },
   {
    "duration": 15,
    "start_time": "2022-12-04T02:47:11.080Z"
   },
   {
    "duration": 46,
    "start_time": "2022-12-04T02:47:11.097Z"
   },
   {
    "duration": 8,
    "start_time": "2022-12-04T02:47:11.144Z"
   },
   {
    "duration": 113,
    "start_time": "2022-12-04T02:47:11.153Z"
   },
   {
    "duration": 0,
    "start_time": "2022-12-04T02:47:11.268Z"
   },
   {
    "duration": 0,
    "start_time": "2022-12-04T02:47:11.269Z"
   },
   {
    "duration": 0,
    "start_time": "2022-12-04T02:47:11.270Z"
   },
   {
    "duration": 0,
    "start_time": "2022-12-04T02:47:11.272Z"
   },
   {
    "duration": 29,
    "start_time": "2022-12-04T02:47:59.388Z"
   },
   {
    "duration": 26,
    "start_time": "2022-12-04T02:48:05.177Z"
   },
   {
    "duration": 22,
    "start_time": "2022-12-04T02:50:16.517Z"
   },
   {
    "duration": 1070,
    "start_time": "2022-12-06T10:57:16.068Z"
   },
   {
    "duration": 25,
    "start_time": "2022-12-06T10:57:17.140Z"
   },
   {
    "duration": 17,
    "start_time": "2022-12-06T10:57:17.167Z"
   },
   {
    "duration": 8,
    "start_time": "2022-12-06T10:57:17.186Z"
   },
   {
    "duration": 10,
    "start_time": "2022-12-06T10:57:17.196Z"
   },
   {
    "duration": 5,
    "start_time": "2022-12-06T10:57:17.207Z"
   },
   {
    "duration": 13,
    "start_time": "2022-12-06T10:57:17.214Z"
   },
   {
    "duration": 35,
    "start_time": "2022-12-06T10:57:17.228Z"
   },
   {
    "duration": 25,
    "start_time": "2022-12-06T10:57:17.264Z"
   },
   {
    "duration": 14,
    "start_time": "2022-12-06T10:57:17.291Z"
   },
   {
    "duration": 29,
    "start_time": "2022-12-06T10:57:17.306Z"
   },
   {
    "duration": 6,
    "start_time": "2022-12-06T10:57:17.337Z"
   },
   {
    "duration": 29,
    "start_time": "2022-12-06T10:57:17.344Z"
   },
   {
    "duration": 49,
    "start_time": "2022-12-06T10:57:17.397Z"
   },
   {
    "duration": 20,
    "start_time": "2022-12-06T10:57:17.448Z"
   },
   {
    "duration": 28,
    "start_time": "2022-12-06T10:57:17.469Z"
   },
   {
    "duration": 50,
    "start_time": "2022-12-06T10:57:17.499Z"
   },
   {
    "duration": 102,
    "start_time": "2022-12-06T10:57:17.551Z"
   },
   {
    "duration": 57,
    "start_time": "2022-12-06T11:05:13.741Z"
   },
   {
    "duration": 3,
    "start_time": "2022-12-06T11:05:23.074Z"
   },
   {
    "duration": 816,
    "start_time": "2022-12-06T11:06:13.799Z"
   },
   {
    "duration": 4,
    "start_time": "2022-12-06T11:06:26.449Z"
   },
   {
    "duration": 5,
    "start_time": "2022-12-06T11:06:39.361Z"
   },
   {
    "duration": 5,
    "start_time": "2022-12-06T11:08:06.596Z"
   },
   {
    "duration": 6,
    "start_time": "2022-12-06T11:08:15.453Z"
   },
   {
    "duration": 5,
    "start_time": "2022-12-06T11:08:27.367Z"
   },
   {
    "duration": 16,
    "start_time": "2022-12-06T11:08:54.010Z"
   },
   {
    "duration": 18,
    "start_time": "2022-12-06T11:11:53.614Z"
   },
   {
    "duration": 3,
    "start_time": "2022-12-06T11:14:36.518Z"
   },
   {
    "duration": 6,
    "start_time": "2022-12-06T11:14:37.479Z"
   },
   {
    "duration": 6,
    "start_time": "2022-12-06T11:14:38.374Z"
   },
   {
    "duration": 789,
    "start_time": "2022-12-06T11:15:09.310Z"
   },
   {
    "duration": 29,
    "start_time": "2022-12-06T11:15:10.102Z"
   },
   {
    "duration": 15,
    "start_time": "2022-12-06T11:15:10.133Z"
   },
   {
    "duration": 5,
    "start_time": "2022-12-06T11:15:10.150Z"
   },
   {
    "duration": 28,
    "start_time": "2022-12-06T11:15:10.157Z"
   },
   {
    "duration": 12,
    "start_time": "2022-12-06T11:15:10.187Z"
   },
   {
    "duration": 14,
    "start_time": "2022-12-06T11:15:10.201Z"
   },
   {
    "duration": 18,
    "start_time": "2022-12-06T11:15:10.216Z"
   },
   {
    "duration": 21,
    "start_time": "2022-12-06T11:15:10.236Z"
   },
   {
    "duration": 41,
    "start_time": "2022-12-06T11:15:10.259Z"
   },
   {
    "duration": 46,
    "start_time": "2022-12-06T11:15:10.302Z"
   },
   {
    "duration": 10,
    "start_time": "2022-12-06T11:15:10.350Z"
   },
   {
    "duration": 9,
    "start_time": "2022-12-06T11:15:10.362Z"
   },
   {
    "duration": 29,
    "start_time": "2022-12-06T11:15:10.373Z"
   },
   {
    "duration": 11,
    "start_time": "2022-12-06T11:15:10.404Z"
   },
   {
    "duration": 6,
    "start_time": "2022-12-06T11:15:10.417Z"
   },
   {
    "duration": 7,
    "start_time": "2022-12-06T11:15:10.425Z"
   },
   {
    "duration": 75,
    "start_time": "2022-12-06T11:15:10.433Z"
   },
   {
    "duration": 23,
    "start_time": "2022-12-06T11:15:10.509Z"
   },
   {
    "duration": 27,
    "start_time": "2022-12-06T11:15:10.534Z"
   },
   {
    "duration": 79,
    "start_time": "2022-12-06T11:15:10.563Z"
   },
   {
    "duration": 15,
    "start_time": "2022-12-06T11:15:10.645Z"
   },
   {
    "duration": 8,
    "start_time": "2022-12-06T11:16:00.773Z"
   },
   {
    "duration": 69,
    "start_time": "2022-12-06T11:21:13.030Z"
   },
   {
    "duration": 21,
    "start_time": "2022-12-06T11:22:19.749Z"
   },
   {
    "duration": 17,
    "start_time": "2022-12-06T11:22:31.884Z"
   },
   {
    "duration": 18,
    "start_time": "2022-12-06T11:27:22.031Z"
   },
   {
    "duration": 20,
    "start_time": "2022-12-06T11:28:02.919Z"
   },
   {
    "duration": 67,
    "start_time": "2022-12-06T11:29:25.155Z"
   },
   {
    "duration": 53066,
    "start_time": "2022-12-06T11:29:35.084Z"
   },
   {
    "duration": 5,
    "start_time": "2022-12-06T11:31:47.563Z"
   },
   {
    "duration": 1385,
    "start_time": "2022-12-06T11:31:49.116Z"
   },
   {
    "duration": 134,
    "start_time": "2022-12-06T11:32:17.294Z"
   },
   {
    "duration": 115,
    "start_time": "2022-12-06T11:32:37.849Z"
   },
   {
    "duration": 12,
    "start_time": "2022-12-06T11:33:03.691Z"
   },
   {
    "duration": 7,
    "start_time": "2022-12-06T11:33:20.144Z"
   },
   {
    "duration": 16,
    "start_time": "2022-12-06T11:34:41.782Z"
   },
   {
    "duration": 14,
    "start_time": "2022-12-06T11:34:56.063Z"
   },
   {
    "duration": 13,
    "start_time": "2022-12-06T11:35:07.383Z"
   },
   {
    "duration": 13,
    "start_time": "2022-12-06T11:35:39.467Z"
   },
   {
    "duration": 14,
    "start_time": "2022-12-06T11:38:45.576Z"
   },
   {
    "duration": 15,
    "start_time": "2022-12-06T11:39:06.599Z"
   },
   {
    "duration": 155,
    "start_time": "2022-12-06T11:39:25.267Z"
   },
   {
    "duration": 46,
    "start_time": "2022-12-06T11:42:47.050Z"
   },
   {
    "duration": 1992,
    "start_time": "2022-12-06T11:42:53.578Z"
   },
   {
    "duration": 2238,
    "start_time": "2022-12-06T11:43:27.142Z"
   },
   {
    "duration": 9,
    "start_time": "2022-12-06T11:44:36.519Z"
   },
   {
    "duration": 9,
    "start_time": "2022-12-06T11:51:10.069Z"
   },
   {
    "duration": 188,
    "start_time": "2022-12-06T11:51:15.772Z"
   },
   {
    "duration": 124,
    "start_time": "2022-12-06T11:51:25.348Z"
   },
   {
    "duration": 61289,
    "start_time": "2022-12-06T11:51:39.582Z"
   },
   {
    "duration": 158,
    "start_time": "2022-12-06T11:53:01.863Z"
   },
   {
    "duration": 18517,
    "start_time": "2022-12-06T11:53:13.756Z"
   },
   {
    "duration": 141,
    "start_time": "2022-12-06T11:53:35.403Z"
   },
   {
    "duration": 143,
    "start_time": "2022-12-06T11:54:00.374Z"
   },
   {
    "duration": 13,
    "start_time": "2022-12-06T11:55:50.187Z"
   },
   {
    "duration": 1165,
    "start_time": "2022-12-06T11:55:54.403Z"
   },
   {
    "duration": 306,
    "start_time": "2022-12-06T11:56:36.224Z"
   },
   {
    "duration": 280,
    "start_time": "2022-12-06T11:56:44.881Z"
   },
   {
    "duration": 207,
    "start_time": "2022-12-06T11:56:49.995Z"
   },
   {
    "duration": 180,
    "start_time": "2022-12-06T11:59:32.187Z"
   },
   {
    "duration": 2535,
    "start_time": "2022-12-06T11:59:33.740Z"
   },
   {
    "duration": 21,
    "start_time": "2022-12-06T11:59:36.277Z"
   },
   {
    "duration": 12,
    "start_time": "2022-12-06T12:01:09.390Z"
   },
   {
    "duration": 22,
    "start_time": "2022-12-06T12:01:24.872Z"
   },
   {
    "duration": 13,
    "start_time": "2022-12-06T12:01:33.504Z"
   },
   {
    "duration": 8,
    "start_time": "2022-12-06T12:01:44.514Z"
   },
   {
    "duration": 8,
    "start_time": "2022-12-06T12:02:09.164Z"
   },
   {
    "duration": 8,
    "start_time": "2022-12-06T12:02:17.071Z"
   },
   {
    "duration": 8,
    "start_time": "2022-12-06T12:02:22.658Z"
   },
   {
    "duration": 9,
    "start_time": "2022-12-06T12:02:39.954Z"
   },
   {
    "duration": 11,
    "start_time": "2022-12-06T12:03:16.837Z"
   },
   {
    "duration": 10,
    "start_time": "2022-12-06T12:03:34.430Z"
   },
   {
    "duration": 10,
    "start_time": "2022-12-06T12:03:52.945Z"
   },
   {
    "duration": 10,
    "start_time": "2022-12-06T12:03:59.905Z"
   },
   {
    "duration": 9,
    "start_time": "2022-12-06T12:04:03.179Z"
   },
   {
    "duration": 9,
    "start_time": "2022-12-06T12:04:09.626Z"
   },
   {
    "duration": 10,
    "start_time": "2022-12-06T12:04:27.644Z"
   },
   {
    "duration": 20,
    "start_time": "2022-12-06T12:04:38.726Z"
   },
   {
    "duration": 12,
    "start_time": "2022-12-06T12:05:05.736Z"
   },
   {
    "duration": 9,
    "start_time": "2022-12-06T12:05:38.415Z"
   },
   {
    "duration": 9,
    "start_time": "2022-12-06T12:05:42.764Z"
   },
   {
    "duration": 9,
    "start_time": "2022-12-06T12:05:46.853Z"
   },
   {
    "duration": 10,
    "start_time": "2022-12-06T12:05:50.917Z"
   },
   {
    "duration": 9,
    "start_time": "2022-12-06T12:05:56.566Z"
   },
   {
    "duration": 9,
    "start_time": "2022-12-06T12:06:07.008Z"
   },
   {
    "duration": 932,
    "start_time": "2022-12-07T10:04:15.510Z"
   },
   {
    "duration": 22,
    "start_time": "2022-12-07T10:04:16.444Z"
   },
   {
    "duration": 14,
    "start_time": "2022-12-07T10:04:16.467Z"
   },
   {
    "duration": 4,
    "start_time": "2022-12-07T10:04:16.483Z"
   },
   {
    "duration": 14,
    "start_time": "2022-12-07T10:04:16.488Z"
   },
   {
    "duration": 4,
    "start_time": "2022-12-07T10:04:16.504Z"
   },
   {
    "duration": 11,
    "start_time": "2022-12-07T10:04:16.509Z"
   },
   {
    "duration": 12,
    "start_time": "2022-12-07T10:04:16.521Z"
   },
   {
    "duration": 19,
    "start_time": "2022-12-07T10:04:16.535Z"
   },
   {
    "duration": 13,
    "start_time": "2022-12-07T10:04:16.556Z"
   },
   {
    "duration": 47,
    "start_time": "2022-12-07T10:04:16.571Z"
   },
   {
    "duration": 7,
    "start_time": "2022-12-07T10:04:16.619Z"
   },
   {
    "duration": 7,
    "start_time": "2022-12-07T10:04:16.628Z"
   },
   {
    "duration": 7,
    "start_time": "2022-12-07T10:04:16.637Z"
   },
   {
    "duration": 11,
    "start_time": "2022-12-07T10:04:16.645Z"
   },
   {
    "duration": 8,
    "start_time": "2022-12-07T10:04:16.657Z"
   },
   {
    "duration": 67,
    "start_time": "2022-12-07T10:04:16.666Z"
   },
   {
    "duration": 19,
    "start_time": "2022-12-07T10:04:16.734Z"
   },
   {
    "duration": 17,
    "start_time": "2022-12-07T10:04:16.755Z"
   },
   {
    "duration": 23,
    "start_time": "2022-12-07T10:04:16.774Z"
   },
   {
    "duration": 162,
    "start_time": "2022-12-07T10:04:16.798Z"
   },
   {
    "duration": 10,
    "start_time": "2022-12-07T10:04:16.961Z"
   },
   {
    "duration": 153,
    "start_time": "2022-12-07T10:04:16.972Z"
   },
   {
    "duration": 44,
    "start_time": "2022-12-07T10:04:17.126Z"
   },
   {
    "duration": 33,
    "start_time": "2022-12-07T10:04:17.171Z"
   },
   {
    "duration": 5,
    "start_time": "2022-12-07T10:05:54.850Z"
   },
   {
    "duration": 54,
    "start_time": "2022-12-07T10:07:16.151Z"
   },
   {
    "duration": 5,
    "start_time": "2022-12-07T10:07:18.512Z"
   },
   {
    "duration": 10,
    "start_time": "2022-12-07T10:07:54.388Z"
   },
   {
    "duration": 76,
    "start_time": "2022-12-07T10:08:24.593Z"
   },
   {
    "duration": 8,
    "start_time": "2022-12-07T10:08:33.265Z"
   },
   {
    "duration": 4,
    "start_time": "2022-12-07T10:08:37.856Z"
   },
   {
    "duration": 6,
    "start_time": "2022-12-07T10:12:43.244Z"
   },
   {
    "duration": 4,
    "start_time": "2022-12-07T10:12:46.405Z"
   },
   {
    "duration": 5,
    "start_time": "2022-12-07T10:12:52.988Z"
   },
   {
    "duration": 4,
    "start_time": "2022-12-07T10:13:06.783Z"
   },
   {
    "duration": 18,
    "start_time": "2022-12-07T10:13:36.385Z"
   },
   {
    "duration": 6,
    "start_time": "2022-12-07T10:15:04.006Z"
   },
   {
    "duration": 10,
    "start_time": "2022-12-07T10:16:50.457Z"
   },
   {
    "duration": 72,
    "start_time": "2022-12-07T10:17:04.985Z"
   },
   {
    "duration": 10,
    "start_time": "2022-12-07T10:17:12.669Z"
   },
   {
    "duration": 10,
    "start_time": "2022-12-07T10:17:16.435Z"
   },
   {
    "duration": 10,
    "start_time": "2022-12-07T10:17:38.966Z"
   },
   {
    "duration": 35,
    "start_time": "2022-12-07T10:17:50.024Z"
   },
   {
    "duration": 13,
    "start_time": "2022-12-07T10:18:00.496Z"
   },
   {
    "duration": 12,
    "start_time": "2022-12-07T10:18:30.148Z"
   },
   {
    "duration": 9,
    "start_time": "2022-12-07T10:18:36.700Z"
   },
   {
    "duration": 11,
    "start_time": "2022-12-07T10:18:59.191Z"
   },
   {
    "duration": 12,
    "start_time": "2022-12-07T10:19:15.414Z"
   },
   {
    "duration": 13,
    "start_time": "2022-12-07T10:19:33.956Z"
   },
   {
    "duration": 11,
    "start_time": "2022-12-07T10:19:43.341Z"
   },
   {
    "duration": 32,
    "start_time": "2022-12-07T10:21:00.060Z"
   },
   {
    "duration": 10,
    "start_time": "2022-12-07T10:21:13.887Z"
   },
   {
    "duration": 28,
    "start_time": "2022-12-07T10:24:07.652Z"
   },
   {
    "duration": 90,
    "start_time": "2022-12-07T10:24:23.307Z"
   },
   {
    "duration": 26,
    "start_time": "2022-12-07T10:24:28.348Z"
   },
   {
    "duration": 16,
    "start_time": "2022-12-07T10:24:32.308Z"
   },
   {
    "duration": 11,
    "start_time": "2022-12-07T10:24:37.004Z"
   },
   {
    "duration": 7,
    "start_time": "2022-12-07T10:28:30.768Z"
   },
   {
    "duration": 43,
    "start_time": "2022-12-07T10:42:56.217Z"
   },
   {
    "duration": 44,
    "start_time": "2022-12-07T10:43:03.328Z"
   },
   {
    "duration": 3,
    "start_time": "2022-12-07T10:43:32.003Z"
   },
   {
    "duration": 204,
    "start_time": "2022-12-07T10:44:12.520Z"
   },
   {
    "duration": 376,
    "start_time": "2022-12-07T10:44:39.741Z"
   },
   {
    "duration": 4,
    "start_time": "2022-12-07T10:45:17.359Z"
   },
   {
    "duration": 7,
    "start_time": "2022-12-07T10:45:18.128Z"
   },
   {
    "duration": 13,
    "start_time": "2022-12-07T10:45:31.050Z"
   },
   {
    "duration": 8,
    "start_time": "2022-12-07T10:45:41.043Z"
   },
   {
    "duration": 754,
    "start_time": "2022-12-07T10:45:48.885Z"
   },
   {
    "duration": 23,
    "start_time": "2022-12-07T10:45:49.641Z"
   },
   {
    "duration": 14,
    "start_time": "2022-12-07T10:45:49.666Z"
   },
   {
    "duration": 5,
    "start_time": "2022-12-07T10:45:49.682Z"
   },
   {
    "duration": 13,
    "start_time": "2022-12-07T10:45:49.688Z"
   },
   {
    "duration": 5,
    "start_time": "2022-12-07T10:45:49.704Z"
   },
   {
    "duration": 15,
    "start_time": "2022-12-07T10:45:49.710Z"
   },
   {
    "duration": 14,
    "start_time": "2022-12-07T10:45:49.727Z"
   },
   {
    "duration": 21,
    "start_time": "2022-12-07T10:45:49.743Z"
   },
   {
    "duration": 37,
    "start_time": "2022-12-07T10:45:49.766Z"
   },
   {
    "duration": 29,
    "start_time": "2022-12-07T10:45:49.805Z"
   },
   {
    "duration": 7,
    "start_time": "2022-12-07T10:45:49.836Z"
   },
   {
    "duration": 9,
    "start_time": "2022-12-07T10:45:49.845Z"
   },
   {
    "duration": 6,
    "start_time": "2022-12-07T10:45:49.856Z"
   },
   {
    "duration": 35,
    "start_time": "2022-12-07T10:45:49.864Z"
   },
   {
    "duration": 9,
    "start_time": "2022-12-07T10:45:49.902Z"
   },
   {
    "duration": 65,
    "start_time": "2022-12-07T10:45:49.913Z"
   },
   {
    "duration": 39,
    "start_time": "2022-12-07T10:45:49.980Z"
   },
   {
    "duration": 36,
    "start_time": "2022-12-07T10:45:50.021Z"
   },
   {
    "duration": 17,
    "start_time": "2022-12-07T10:45:50.060Z"
   },
   {
    "duration": 230,
    "start_time": "2022-12-07T10:45:50.080Z"
   },
   {
    "duration": 15,
    "start_time": "2022-12-07T10:45:50.312Z"
   },
   {
    "duration": 162,
    "start_time": "2022-12-07T10:45:50.329Z"
   },
   {
    "duration": 122,
    "start_time": "2022-12-07T10:45:50.497Z"
   },
   {
    "duration": 5,
    "start_time": "2022-12-07T10:45:50.621Z"
   },
   {
    "duration": 9,
    "start_time": "2022-12-07T10:45:50.628Z"
   },
   {
    "duration": 10,
    "start_time": "2022-12-07T10:45:50.638Z"
   },
   {
    "duration": 9,
    "start_time": "2022-12-07T10:45:50.650Z"
   },
   {
    "duration": 10,
    "start_time": "2022-12-07T10:45:50.661Z"
   },
   {
    "duration": 25,
    "start_time": "2022-12-07T10:45:50.673Z"
   },
   {
    "duration": 14,
    "start_time": "2022-12-07T10:45:50.700Z"
   },
   {
    "duration": 16,
    "start_time": "2022-12-07T10:45:50.715Z"
   },
   {
    "duration": 8,
    "start_time": "2022-12-07T10:45:58.725Z"
   },
   {
    "duration": 724,
    "start_time": "2022-12-07T10:46:03.618Z"
   },
   {
    "duration": 36,
    "start_time": "2022-12-07T10:46:04.345Z"
   },
   {
    "duration": 25,
    "start_time": "2022-12-07T10:46:04.383Z"
   },
   {
    "duration": 12,
    "start_time": "2022-12-07T10:46:04.411Z"
   },
   {
    "duration": 15,
    "start_time": "2022-12-07T10:46:04.425Z"
   },
   {
    "duration": 7,
    "start_time": "2022-12-07T10:46:04.442Z"
   },
   {
    "duration": 16,
    "start_time": "2022-12-07T10:46:04.451Z"
   },
   {
    "duration": 14,
    "start_time": "2022-12-07T10:46:04.469Z"
   },
   {
    "duration": 30,
    "start_time": "2022-12-07T10:46:04.497Z"
   },
   {
    "duration": 22,
    "start_time": "2022-12-07T10:46:04.530Z"
   },
   {
    "duration": 48,
    "start_time": "2022-12-07T10:46:04.553Z"
   },
   {
    "duration": 8,
    "start_time": "2022-12-07T10:46:04.604Z"
   },
   {
    "duration": 12,
    "start_time": "2022-12-07T10:46:04.614Z"
   },
   {
    "duration": 33,
    "start_time": "2022-12-07T10:46:04.627Z"
   },
   {
    "duration": 12,
    "start_time": "2022-12-07T10:46:04.662Z"
   },
   {
    "duration": 19,
    "start_time": "2022-12-07T10:46:04.676Z"
   },
   {
    "duration": 72,
    "start_time": "2022-12-07T10:46:04.697Z"
   },
   {
    "duration": 34,
    "start_time": "2022-12-07T10:46:04.771Z"
   },
   {
    "duration": 25,
    "start_time": "2022-12-07T10:46:04.807Z"
   },
   {
    "duration": 4,
    "start_time": "2022-12-07T10:46:04.835Z"
   },
   {
    "duration": 262,
    "start_time": "2022-12-07T10:46:04.841Z"
   },
   {
    "duration": 12,
    "start_time": "2022-12-07T10:46:05.105Z"
   },
   {
    "duration": 169,
    "start_time": "2022-12-07T10:46:05.119Z"
   },
   {
    "duration": 107,
    "start_time": "2022-12-07T10:46:05.298Z"
   },
   {
    "duration": 6,
    "start_time": "2022-12-07T10:46:05.407Z"
   },
   {
    "duration": 8,
    "start_time": "2022-12-07T10:46:05.415Z"
   },
   {
    "duration": 7,
    "start_time": "2022-12-07T10:46:05.425Z"
   },
   {
    "duration": 10,
    "start_time": "2022-12-07T10:46:05.435Z"
   },
   {
    "duration": 8,
    "start_time": "2022-12-07T10:46:05.447Z"
   },
   {
    "duration": 6,
    "start_time": "2022-12-07T10:46:05.456Z"
   },
   {
    "duration": 41,
    "start_time": "2022-12-07T10:46:05.464Z"
   },
   {
    "duration": 6,
    "start_time": "2022-12-07T10:46:05.507Z"
   },
   {
    "duration": 9,
    "start_time": "2022-12-07T10:46:44.073Z"
   },
   {
    "duration": 9,
    "start_time": "2022-12-07T10:46:47.731Z"
   },
   {
    "duration": 14,
    "start_time": "2022-12-07T10:48:08.227Z"
   },
   {
    "duration": 12,
    "start_time": "2022-12-07T10:48:25.773Z"
   },
   {
    "duration": 15,
    "start_time": "2022-12-07T10:48:31.029Z"
   },
   {
    "duration": 774,
    "start_time": "2022-12-07T10:50:23.869Z"
   },
   {
    "duration": 37,
    "start_time": "2022-12-07T10:50:24.646Z"
   },
   {
    "duration": 19,
    "start_time": "2022-12-07T10:50:24.685Z"
   },
   {
    "duration": 7,
    "start_time": "2022-12-07T10:50:24.707Z"
   },
   {
    "duration": 35,
    "start_time": "2022-12-07T10:50:24.716Z"
   },
   {
    "duration": 39,
    "start_time": "2022-12-07T10:50:24.753Z"
   },
   {
    "duration": 32,
    "start_time": "2022-12-07T10:50:24.794Z"
   },
   {
    "duration": 17,
    "start_time": "2022-12-07T10:50:24.828Z"
   },
   {
    "duration": 34,
    "start_time": "2022-12-07T10:50:24.846Z"
   },
   {
    "duration": 29,
    "start_time": "2022-12-07T10:50:24.882Z"
   },
   {
    "duration": 39,
    "start_time": "2022-12-07T10:50:24.914Z"
   },
   {
    "duration": 7,
    "start_time": "2022-12-07T10:50:24.955Z"
   },
   {
    "duration": 17,
    "start_time": "2022-12-07T10:50:24.964Z"
   },
   {
    "duration": 37,
    "start_time": "2022-12-07T10:50:24.983Z"
   },
   {
    "duration": 38,
    "start_time": "2022-12-07T10:50:25.021Z"
   },
   {
    "duration": 76,
    "start_time": "2022-12-07T10:50:25.061Z"
   },
   {
    "duration": 91,
    "start_time": "2022-12-07T10:50:25.139Z"
   },
   {
    "duration": 22,
    "start_time": "2022-12-07T10:50:25.232Z"
   },
   {
    "duration": 78,
    "start_time": "2022-12-07T10:50:25.255Z"
   },
   {
    "duration": 19,
    "start_time": "2022-12-07T10:50:25.335Z"
   },
   {
    "duration": 188,
    "start_time": "2022-12-07T10:50:25.355Z"
   },
   {
    "duration": 10,
    "start_time": "2022-12-07T10:50:25.545Z"
   },
   {
    "duration": 203,
    "start_time": "2022-12-07T10:50:25.557Z"
   },
   {
    "duration": 106,
    "start_time": "2022-12-07T10:50:25.762Z"
   },
   {
    "duration": 5,
    "start_time": "2022-12-07T10:50:25.870Z"
   },
   {
    "duration": 42,
    "start_time": "2022-12-07T10:50:25.877Z"
   },
   {
    "duration": 44,
    "start_time": "2022-12-07T10:50:25.921Z"
   },
   {
    "duration": 25,
    "start_time": "2022-12-07T10:50:25.969Z"
   },
   {
    "duration": 51,
    "start_time": "2022-12-07T10:50:25.996Z"
   },
   {
    "duration": 39,
    "start_time": "2022-12-07T10:50:26.049Z"
   },
   {
    "duration": 65,
    "start_time": "2022-12-07T10:50:26.091Z"
   },
   {
    "duration": 36,
    "start_time": "2022-12-07T10:50:26.158Z"
   },
   {
    "duration": 49,
    "start_time": "2022-12-07T10:50:26.196Z"
   },
   {
    "duration": 73,
    "start_time": "2022-12-07T10:52:31.987Z"
   },
   {
    "duration": 13,
    "start_time": "2022-12-07T10:55:19.635Z"
   },
   {
    "duration": 701,
    "start_time": "2022-12-07T10:58:58.642Z"
   },
   {
    "duration": 22,
    "start_time": "2022-12-07T10:58:59.345Z"
   },
   {
    "duration": 29,
    "start_time": "2022-12-07T10:58:59.368Z"
   },
   {
    "duration": 13,
    "start_time": "2022-12-07T10:58:59.399Z"
   },
   {
    "duration": 12,
    "start_time": "2022-12-07T10:58:59.414Z"
   },
   {
    "duration": 5,
    "start_time": "2022-12-07T10:58:59.427Z"
   },
   {
    "duration": 14,
    "start_time": "2022-12-07T10:58:59.433Z"
   },
   {
    "duration": 17,
    "start_time": "2022-12-07T10:58:59.449Z"
   },
   {
    "duration": 21,
    "start_time": "2022-12-07T10:58:59.467Z"
   },
   {
    "duration": 17,
    "start_time": "2022-12-07T10:58:59.491Z"
   },
   {
    "duration": 27,
    "start_time": "2022-12-07T10:58:59.510Z"
   },
   {
    "duration": 7,
    "start_time": "2022-12-07T10:58:59.538Z"
   },
   {
    "duration": 21,
    "start_time": "2022-12-07T10:58:59.546Z"
   },
   {
    "duration": 17,
    "start_time": "2022-12-07T10:58:59.569Z"
   },
   {
    "duration": 32,
    "start_time": "2022-12-07T10:58:59.587Z"
   },
   {
    "duration": 23,
    "start_time": "2022-12-07T10:58:59.621Z"
   },
   {
    "duration": 58,
    "start_time": "2022-12-07T10:58:59.645Z"
   },
   {
    "duration": 19,
    "start_time": "2022-12-07T10:58:59.705Z"
   },
   {
    "duration": 25,
    "start_time": "2022-12-07T10:58:59.725Z"
   },
   {
    "duration": 23,
    "start_time": "2022-12-07T10:58:59.752Z"
   },
   {
    "duration": 174,
    "start_time": "2022-12-07T10:58:59.777Z"
   },
   {
    "duration": 10,
    "start_time": "2022-12-07T10:58:59.954Z"
   },
   {
    "duration": 188,
    "start_time": "2022-12-07T10:58:59.966Z"
   },
   {
    "duration": 112,
    "start_time": "2022-12-07T10:59:00.156Z"
   },
   {
    "duration": 5,
    "start_time": "2022-12-07T10:59:00.270Z"
   },
   {
    "duration": 42,
    "start_time": "2022-12-07T10:59:00.277Z"
   },
   {
    "duration": 34,
    "start_time": "2022-12-07T10:59:00.321Z"
   },
   {
    "duration": 31,
    "start_time": "2022-12-07T10:59:00.359Z"
   },
   {
    "duration": 45,
    "start_time": "2022-12-07T10:59:00.392Z"
   },
   {
    "duration": 37,
    "start_time": "2022-12-07T10:59:00.438Z"
   },
   {
    "duration": 43,
    "start_time": "2022-12-07T10:59:00.477Z"
   },
   {
    "duration": 38,
    "start_time": "2022-12-07T10:59:00.521Z"
   },
   {
    "duration": 37,
    "start_time": "2022-12-07T10:59:00.561Z"
   },
   {
    "duration": 11,
    "start_time": "2022-12-07T10:59:48.058Z"
   },
   {
    "duration": 6,
    "start_time": "2022-12-07T10:59:58.291Z"
   },
   {
    "duration": 19,
    "start_time": "2022-12-07T11:00:14.861Z"
   },
   {
    "duration": 8,
    "start_time": "2022-12-07T11:00:46.960Z"
   },
   {
    "duration": 11,
    "start_time": "2022-12-07T11:02:45.478Z"
   },
   {
    "duration": 26,
    "start_time": "2022-12-07T11:02:55.718Z"
   },
   {
    "duration": 11,
    "start_time": "2022-12-07T11:03:49.366Z"
   },
   {
    "duration": 12,
    "start_time": "2022-12-07T11:04:15.816Z"
   },
   {
    "duration": 12,
    "start_time": "2022-12-07T11:04:33.995Z"
   },
   {
    "duration": 11,
    "start_time": "2022-12-07T11:04:46.203Z"
   },
   {
    "duration": 18,
    "start_time": "2022-12-07T11:05:37.129Z"
   },
   {
    "duration": 67,
    "start_time": "2022-12-07T11:06:43.693Z"
   },
   {
    "duration": 13,
    "start_time": "2022-12-07T11:07:33.213Z"
   },
   {
    "duration": 5,
    "start_time": "2022-12-07T11:09:30.685Z"
   },
   {
    "duration": 769,
    "start_time": "2022-12-07T11:09:55.482Z"
   },
   {
    "duration": 25,
    "start_time": "2022-12-07T11:09:56.253Z"
   },
   {
    "duration": 20,
    "start_time": "2022-12-07T11:09:56.280Z"
   },
   {
    "duration": 5,
    "start_time": "2022-12-07T11:09:56.302Z"
   },
   {
    "duration": 14,
    "start_time": "2022-12-07T11:09:56.309Z"
   },
   {
    "duration": 14,
    "start_time": "2022-12-07T11:09:56.325Z"
   },
   {
    "duration": 19,
    "start_time": "2022-12-07T11:09:56.341Z"
   },
   {
    "duration": 15,
    "start_time": "2022-12-07T11:09:56.362Z"
   },
   {
    "duration": 27,
    "start_time": "2022-12-07T11:09:56.378Z"
   },
   {
    "duration": 14,
    "start_time": "2022-12-07T11:09:56.408Z"
   },
   {
    "duration": 32,
    "start_time": "2022-12-07T11:09:56.424Z"
   },
   {
    "duration": 7,
    "start_time": "2022-12-07T11:09:56.458Z"
   },
   {
    "duration": 14,
    "start_time": "2022-12-07T11:09:56.466Z"
   },
   {
    "duration": 16,
    "start_time": "2022-12-07T11:09:56.482Z"
   },
   {
    "duration": 13,
    "start_time": "2022-12-07T11:09:56.500Z"
   },
   {
    "duration": 10,
    "start_time": "2022-12-07T11:09:56.515Z"
   },
   {
    "duration": 56,
    "start_time": "2022-12-07T11:09:56.527Z"
   },
   {
    "duration": 28,
    "start_time": "2022-12-07T11:09:56.584Z"
   },
   {
    "duration": 21,
    "start_time": "2022-12-07T11:09:56.613Z"
   },
   {
    "duration": 3,
    "start_time": "2022-12-07T11:09:56.635Z"
   },
   {
    "duration": 203,
    "start_time": "2022-12-07T11:09:56.639Z"
   },
   {
    "duration": 12,
    "start_time": "2022-12-07T11:09:56.844Z"
   },
   {
    "duration": 178,
    "start_time": "2022-12-07T11:09:56.857Z"
   },
   {
    "duration": 103,
    "start_time": "2022-12-07T11:09:57.037Z"
   },
   {
    "duration": 5,
    "start_time": "2022-12-07T11:09:57.141Z"
   },
   {
    "duration": 9,
    "start_time": "2022-12-07T11:09:57.147Z"
   },
   {
    "duration": 7,
    "start_time": "2022-12-07T11:09:57.157Z"
   },
   {
    "duration": 9,
    "start_time": "2022-12-07T11:09:57.168Z"
   },
   {
    "duration": 6,
    "start_time": "2022-12-07T11:09:57.197Z"
   },
   {
    "duration": 20,
    "start_time": "2022-12-07T11:09:57.205Z"
   },
   {
    "duration": 6,
    "start_time": "2022-12-07T11:09:57.227Z"
   },
   {
    "duration": 10,
    "start_time": "2022-12-07T11:09:57.235Z"
   },
   {
    "duration": 26,
    "start_time": "2022-12-07T11:09:57.246Z"
   },
   {
    "duration": 25,
    "start_time": "2022-12-07T11:09:57.273Z"
   },
   {
    "duration": 22,
    "start_time": "2022-12-07T11:09:57.300Z"
   },
   {
    "duration": 6,
    "start_time": "2022-12-07T11:09:57.324Z"
   },
   {
    "duration": 11,
    "start_time": "2022-12-07T11:09:57.332Z"
   },
   {
    "duration": 72,
    "start_time": "2022-12-07T11:14:14.242Z"
   },
   {
    "duration": 8,
    "start_time": "2022-12-07T11:14:34.077Z"
   },
   {
    "duration": 656,
    "start_time": "2022-12-07T11:15:27.652Z"
   },
   {
    "duration": 21,
    "start_time": "2022-12-07T11:15:28.309Z"
   },
   {
    "duration": 13,
    "start_time": "2022-12-07T11:15:28.332Z"
   },
   {
    "duration": 10,
    "start_time": "2022-12-07T11:15:28.346Z"
   },
   {
    "duration": 18,
    "start_time": "2022-12-07T11:15:28.358Z"
   },
   {
    "duration": 6,
    "start_time": "2022-12-07T11:15:28.378Z"
   },
   {
    "duration": 16,
    "start_time": "2022-12-07T11:15:28.385Z"
   },
   {
    "duration": 18,
    "start_time": "2022-12-07T11:15:28.402Z"
   },
   {
    "duration": 24,
    "start_time": "2022-12-07T11:15:28.422Z"
   },
   {
    "duration": 17,
    "start_time": "2022-12-07T11:15:28.448Z"
   },
   {
    "duration": 36,
    "start_time": "2022-12-07T11:15:28.466Z"
   },
   {
    "duration": 7,
    "start_time": "2022-12-07T11:15:28.503Z"
   },
   {
    "duration": 12,
    "start_time": "2022-12-07T11:15:28.511Z"
   },
   {
    "duration": 28,
    "start_time": "2022-12-07T11:15:28.524Z"
   },
   {
    "duration": 13,
    "start_time": "2022-12-07T11:15:28.553Z"
   },
   {
    "duration": 27,
    "start_time": "2022-12-07T11:15:28.567Z"
   },
   {
    "duration": 58,
    "start_time": "2022-12-07T11:15:28.595Z"
   },
   {
    "duration": 21,
    "start_time": "2022-12-07T11:15:28.654Z"
   },
   {
    "duration": 27,
    "start_time": "2022-12-07T11:15:28.676Z"
   },
   {
    "duration": 4,
    "start_time": "2022-12-07T11:15:28.705Z"
   },
   {
    "duration": 197,
    "start_time": "2022-12-07T11:15:28.710Z"
   },
   {
    "duration": 11,
    "start_time": "2022-12-07T11:15:28.909Z"
   },
   {
    "duration": 161,
    "start_time": "2022-12-07T11:15:28.922Z"
   },
   {
    "duration": 112,
    "start_time": "2022-12-07T11:15:29.086Z"
   },
   {
    "duration": 4,
    "start_time": "2022-12-07T11:15:29.200Z"
   },
   {
    "duration": 18,
    "start_time": "2022-12-07T11:15:29.206Z"
   },
   {
    "duration": 22,
    "start_time": "2022-12-07T11:15:29.226Z"
   },
   {
    "duration": 10,
    "start_time": "2022-12-07T11:15:29.251Z"
   },
   {
    "duration": 16,
    "start_time": "2022-12-07T11:15:29.263Z"
   },
   {
    "duration": 22,
    "start_time": "2022-12-07T11:15:29.280Z"
   },
   {
    "duration": 14,
    "start_time": "2022-12-07T11:15:29.304Z"
   },
   {
    "duration": 19,
    "start_time": "2022-12-07T11:15:29.319Z"
   },
   {
    "duration": 16,
    "start_time": "2022-12-07T11:15:29.340Z"
   },
   {
    "duration": 6,
    "start_time": "2022-12-07T11:16:10.949Z"
   },
   {
    "duration": 33,
    "start_time": "2022-12-07T11:17:55.395Z"
   },
   {
    "duration": 81,
    "start_time": "2022-12-07T11:18:04.444Z"
   },
   {
    "duration": 26,
    "start_time": "2022-12-07T11:18:24.879Z"
   },
   {
    "duration": 5,
    "start_time": "2022-12-07T11:21:10.233Z"
   },
   {
    "duration": 7,
    "start_time": "2022-12-07T11:21:16.949Z"
   },
   {
    "duration": 4,
    "start_time": "2022-12-07T11:21:38.628Z"
   },
   {
    "duration": 7,
    "start_time": "2022-12-07T11:22:10.637Z"
   },
   {
    "duration": 8,
    "start_time": "2022-12-07T11:22:26.458Z"
   },
   {
    "duration": 47,
    "start_time": "2022-12-07T11:22:31.941Z"
   },
   {
    "duration": 7,
    "start_time": "2022-12-07T11:22:36.682Z"
   },
   {
    "duration": 8,
    "start_time": "2022-12-07T11:24:58.594Z"
   },
   {
    "duration": 8,
    "start_time": "2022-12-07T11:25:03.850Z"
   },
   {
    "duration": 9,
    "start_time": "2022-12-07T11:25:25.981Z"
   },
   {
    "duration": 6,
    "start_time": "2022-12-07T11:26:43.424Z"
   },
   {
    "duration": 11,
    "start_time": "2022-12-07T11:26:55.831Z"
   },
   {
    "duration": 6,
    "start_time": "2022-12-07T11:27:04.832Z"
   },
   {
    "duration": 10,
    "start_time": "2022-12-07T11:29:05.191Z"
   },
   {
    "duration": 10,
    "start_time": "2022-12-07T11:29:13.488Z"
   },
   {
    "duration": 15,
    "start_time": "2022-12-07T11:29:25.136Z"
   },
   {
    "duration": 3,
    "start_time": "2022-12-07T11:30:49.266Z"
   },
   {
    "duration": 3,
    "start_time": "2022-12-07T11:31:26.149Z"
   },
   {
    "duration": 3,
    "start_time": "2022-12-07T11:31:35.350Z"
   },
   {
    "duration": 7,
    "start_time": "2022-12-07T11:31:52.809Z"
   },
   {
    "duration": 689,
    "start_time": "2022-12-07T11:32:10.032Z"
   },
   {
    "duration": 23,
    "start_time": "2022-12-07T11:32:10.723Z"
   },
   {
    "duration": 15,
    "start_time": "2022-12-07T11:32:10.748Z"
   },
   {
    "duration": 4,
    "start_time": "2022-12-07T11:32:10.765Z"
   },
   {
    "duration": 13,
    "start_time": "2022-12-07T11:32:10.770Z"
   },
   {
    "duration": 4,
    "start_time": "2022-12-07T11:32:10.784Z"
   },
   {
    "duration": 8,
    "start_time": "2022-12-07T11:32:10.798Z"
   },
   {
    "duration": 20,
    "start_time": "2022-12-07T11:32:10.807Z"
   },
   {
    "duration": 25,
    "start_time": "2022-12-07T11:32:10.828Z"
   },
   {
    "duration": 32,
    "start_time": "2022-12-07T11:32:10.856Z"
   },
   {
    "duration": 42,
    "start_time": "2022-12-07T11:32:10.889Z"
   },
   {
    "duration": 9,
    "start_time": "2022-12-07T11:32:10.932Z"
   },
   {
    "duration": 10,
    "start_time": "2022-12-07T11:32:10.943Z"
   },
   {
    "duration": 9,
    "start_time": "2022-12-07T11:32:10.955Z"
   },
   {
    "duration": 17,
    "start_time": "2022-12-07T11:32:10.966Z"
   },
   {
    "duration": 13,
    "start_time": "2022-12-07T11:32:10.985Z"
   },
   {
    "duration": 51,
    "start_time": "2022-12-07T11:32:11.000Z"
   },
   {
    "duration": 21,
    "start_time": "2022-12-07T11:32:11.053Z"
   },
   {
    "duration": 21,
    "start_time": "2022-12-07T11:32:11.097Z"
   },
   {
    "duration": 5,
    "start_time": "2022-12-07T11:32:11.121Z"
   },
   {
    "duration": 263,
    "start_time": "2022-12-07T11:32:11.127Z"
   },
   {
    "duration": 20,
    "start_time": "2022-12-07T11:32:11.391Z"
   },
   {
    "duration": 178,
    "start_time": "2022-12-07T11:32:11.413Z"
   },
   {
    "duration": 142,
    "start_time": "2022-12-07T11:32:11.597Z"
   },
   {
    "duration": 6,
    "start_time": "2022-12-07T11:32:11.742Z"
   },
   {
    "duration": 10,
    "start_time": "2022-12-07T11:32:11.750Z"
   },
   {
    "duration": 10,
    "start_time": "2022-12-07T11:32:11.762Z"
   },
   {
    "duration": 25,
    "start_time": "2022-12-07T11:32:11.776Z"
   },
   {
    "duration": 10,
    "start_time": "2022-12-07T11:32:11.803Z"
   },
   {
    "duration": 14,
    "start_time": "2022-12-07T11:32:11.815Z"
   },
   {
    "duration": 7,
    "start_time": "2022-12-07T11:32:11.832Z"
   },
   {
    "duration": 20,
    "start_time": "2022-12-07T11:32:11.841Z"
   },
   {
    "duration": 12,
    "start_time": "2022-12-07T11:32:11.862Z"
   },
   {
    "duration": 25,
    "start_time": "2022-12-07T11:32:11.877Z"
   },
   {
    "duration": 5,
    "start_time": "2022-12-07T11:32:11.905Z"
   },
   {
    "duration": 14,
    "start_time": "2022-12-07T11:32:11.912Z"
   },
   {
    "duration": 781,
    "start_time": "2022-12-07T11:32:53.361Z"
   },
   {
    "duration": 27,
    "start_time": "2022-12-07T11:32:54.144Z"
   },
   {
    "duration": 20,
    "start_time": "2022-12-07T11:32:54.172Z"
   },
   {
    "duration": 15,
    "start_time": "2022-12-07T11:32:54.194Z"
   },
   {
    "duration": 16,
    "start_time": "2022-12-07T11:32:54.210Z"
   },
   {
    "duration": 8,
    "start_time": "2022-12-07T11:32:54.227Z"
   },
   {
    "duration": 12,
    "start_time": "2022-12-07T11:32:54.237Z"
   },
   {
    "duration": 13,
    "start_time": "2022-12-07T11:32:54.250Z"
   },
   {
    "duration": 20,
    "start_time": "2022-12-07T11:32:54.264Z"
   },
   {
    "duration": 14,
    "start_time": "2022-12-07T11:32:54.297Z"
   },
   {
    "duration": 31,
    "start_time": "2022-12-07T11:32:54.313Z"
   },
   {
    "duration": 7,
    "start_time": "2022-12-07T11:32:54.346Z"
   },
   {
    "duration": 8,
    "start_time": "2022-12-07T11:32:54.354Z"
   },
   {
    "duration": 8,
    "start_time": "2022-12-07T11:32:54.363Z"
   },
   {
    "duration": 10,
    "start_time": "2022-12-07T11:32:54.398Z"
   },
   {
    "duration": 6,
    "start_time": "2022-12-07T11:32:54.410Z"
   },
   {
    "duration": 51,
    "start_time": "2022-12-07T11:32:54.418Z"
   },
   {
    "duration": 37,
    "start_time": "2022-12-07T11:32:54.471Z"
   },
   {
    "duration": 19,
    "start_time": "2022-12-07T11:32:54.509Z"
   },
   {
    "duration": 7,
    "start_time": "2022-12-07T11:32:54.530Z"
   },
   {
    "duration": 210,
    "start_time": "2022-12-07T11:32:54.539Z"
   },
   {
    "duration": 12,
    "start_time": "2022-12-07T11:32:54.751Z"
   },
   {
    "duration": 194,
    "start_time": "2022-12-07T11:32:54.765Z"
   },
   {
    "duration": 109,
    "start_time": "2022-12-07T11:32:54.961Z"
   },
   {
    "duration": 5,
    "start_time": "2022-12-07T11:32:55.072Z"
   },
   {
    "duration": 20,
    "start_time": "2022-12-07T11:32:55.079Z"
   },
   {
    "duration": 6,
    "start_time": "2022-12-07T11:32:55.101Z"
   },
   {
    "duration": 11,
    "start_time": "2022-12-07T11:32:55.110Z"
   },
   {
    "duration": 8,
    "start_time": "2022-12-07T11:32:55.123Z"
   },
   {
    "duration": 12,
    "start_time": "2022-12-07T11:32:55.133Z"
   },
   {
    "duration": 5,
    "start_time": "2022-12-07T11:32:55.147Z"
   },
   {
    "duration": 9,
    "start_time": "2022-12-07T11:32:55.153Z"
   },
   {
    "duration": 12,
    "start_time": "2022-12-07T11:32:55.164Z"
   },
   {
    "duration": 6,
    "start_time": "2022-12-07T11:32:55.198Z"
   },
   {
    "duration": 7,
    "start_time": "2022-12-07T11:32:55.205Z"
   },
   {
    "duration": 4,
    "start_time": "2022-12-07T11:32:55.214Z"
   },
   {
    "duration": 10,
    "start_time": "2022-12-07T11:32:55.219Z"
   },
   {
    "duration": 6,
    "start_time": "2022-12-07T11:32:55.230Z"
   },
   {
    "duration": 687,
    "start_time": "2022-12-07T11:33:56.241Z"
   },
   {
    "duration": 24,
    "start_time": "2022-12-07T11:33:56.930Z"
   },
   {
    "duration": 15,
    "start_time": "2022-12-07T11:33:56.956Z"
   },
   {
    "duration": 4,
    "start_time": "2022-12-07T11:33:56.973Z"
   },
   {
    "duration": 13,
    "start_time": "2022-12-07T11:33:56.978Z"
   },
   {
    "duration": 5,
    "start_time": "2022-12-07T11:33:56.993Z"
   },
   {
    "duration": 12,
    "start_time": "2022-12-07T11:33:57.000Z"
   },
   {
    "duration": 14,
    "start_time": "2022-12-07T11:33:57.013Z"
   },
   {
    "duration": 20,
    "start_time": "2022-12-07T11:33:57.029Z"
   },
   {
    "duration": 13,
    "start_time": "2022-12-07T11:33:57.052Z"
   },
   {
    "duration": 52,
    "start_time": "2022-12-07T11:33:57.066Z"
   },
   {
    "duration": 9,
    "start_time": "2022-12-07T11:33:57.119Z"
   },
   {
    "duration": 7,
    "start_time": "2022-12-07T11:33:57.130Z"
   },
   {
    "duration": 8,
    "start_time": "2022-12-07T11:33:57.138Z"
   },
   {
    "duration": 8,
    "start_time": "2022-12-07T11:33:57.147Z"
   },
   {
    "duration": 9,
    "start_time": "2022-12-07T11:33:57.157Z"
   },
   {
    "duration": 73,
    "start_time": "2022-12-07T11:33:57.167Z"
   },
   {
    "duration": 19,
    "start_time": "2022-12-07T11:33:57.242Z"
   },
   {
    "duration": 36,
    "start_time": "2022-12-07T11:33:57.263Z"
   },
   {
    "duration": 4,
    "start_time": "2022-12-07T11:33:57.301Z"
   },
   {
    "duration": 194,
    "start_time": "2022-12-07T11:33:57.306Z"
   },
   {
    "duration": 13,
    "start_time": "2022-12-07T11:33:57.502Z"
   },
   {
    "duration": 160,
    "start_time": "2022-12-07T11:33:57.517Z"
   },
   {
    "duration": 108,
    "start_time": "2022-12-07T11:33:57.679Z"
   },
   {
    "duration": 4,
    "start_time": "2022-12-07T11:33:57.796Z"
   },
   {
    "duration": 6,
    "start_time": "2022-12-07T11:33:57.802Z"
   },
   {
    "duration": 9,
    "start_time": "2022-12-07T11:33:57.810Z"
   },
   {
    "duration": 8,
    "start_time": "2022-12-07T11:33:57.821Z"
   },
   {
    "duration": 10,
    "start_time": "2022-12-07T11:33:57.830Z"
   },
   {
    "duration": 9,
    "start_time": "2022-12-07T11:33:57.842Z"
   },
   {
    "duration": 3,
    "start_time": "2022-12-07T11:33:57.853Z"
   },
   {
    "duration": 8,
    "start_time": "2022-12-07T11:33:57.858Z"
   },
   {
    "duration": 34,
    "start_time": "2022-12-07T11:33:57.868Z"
   },
   {
    "duration": 9,
    "start_time": "2022-12-07T11:33:57.904Z"
   },
   {
    "duration": 12,
    "start_time": "2022-12-07T11:33:57.915Z"
   },
   {
    "duration": 24,
    "start_time": "2022-12-07T11:33:57.929Z"
   },
   {
    "duration": 23,
    "start_time": "2022-12-07T11:33:57.955Z"
   },
   {
    "duration": 18,
    "start_time": "2022-12-07T11:33:57.979Z"
   },
   {
    "duration": 12,
    "start_time": "2022-12-07T11:34:52.606Z"
   },
   {
    "duration": 727,
    "start_time": "2022-12-07T11:35:22.009Z"
   },
   {
    "duration": 30,
    "start_time": "2022-12-07T11:35:22.739Z"
   },
   {
    "duration": 15,
    "start_time": "2022-12-07T11:35:22.771Z"
   },
   {
    "duration": 6,
    "start_time": "2022-12-07T11:35:22.787Z"
   },
   {
    "duration": 13,
    "start_time": "2022-12-07T11:35:22.794Z"
   },
   {
    "duration": 5,
    "start_time": "2022-12-07T11:35:22.808Z"
   },
   {
    "duration": 12,
    "start_time": "2022-12-07T11:35:22.814Z"
   },
   {
    "duration": 16,
    "start_time": "2022-12-07T11:35:22.827Z"
   },
   {
    "duration": 29,
    "start_time": "2022-12-07T11:35:22.845Z"
   },
   {
    "duration": 42,
    "start_time": "2022-12-07T11:35:22.878Z"
   },
   {
    "duration": 34,
    "start_time": "2022-12-07T11:35:22.922Z"
   },
   {
    "duration": 7,
    "start_time": "2022-12-07T11:35:22.958Z"
   },
   {
    "duration": 33,
    "start_time": "2022-12-07T11:35:22.966Z"
   },
   {
    "duration": 10,
    "start_time": "2022-12-07T11:35:23.000Z"
   },
   {
    "duration": 12,
    "start_time": "2022-12-07T11:35:23.011Z"
   },
   {
    "duration": 13,
    "start_time": "2022-12-07T11:35:23.024Z"
   },
   {
    "duration": 65,
    "start_time": "2022-12-07T11:35:23.038Z"
   },
   {
    "duration": 23,
    "start_time": "2022-12-07T11:35:23.105Z"
   },
   {
    "duration": 24,
    "start_time": "2022-12-07T11:35:23.130Z"
   },
   {
    "duration": 22,
    "start_time": "2022-12-07T11:35:23.156Z"
   },
   {
    "duration": 180,
    "start_time": "2022-12-07T11:35:23.180Z"
   },
   {
    "duration": 10,
    "start_time": "2022-12-07T11:35:23.362Z"
   },
   {
    "duration": 161,
    "start_time": "2022-12-07T11:35:23.374Z"
   },
   {
    "duration": 112,
    "start_time": "2022-12-07T11:35:23.538Z"
   },
   {
    "duration": 5,
    "start_time": "2022-12-07T11:35:23.652Z"
   },
   {
    "duration": 6,
    "start_time": "2022-12-07T11:35:23.659Z"
   },
   {
    "duration": 7,
    "start_time": "2022-12-07T11:35:23.667Z"
   },
   {
    "duration": 5,
    "start_time": "2022-12-07T11:35:23.698Z"
   },
   {
    "duration": 8,
    "start_time": "2022-12-07T11:35:23.705Z"
   },
   {
    "duration": 10,
    "start_time": "2022-12-07T11:35:23.714Z"
   },
   {
    "duration": 3,
    "start_time": "2022-12-07T11:35:23.726Z"
   },
   {
    "duration": 7,
    "start_time": "2022-12-07T11:35:23.732Z"
   },
   {
    "duration": 15,
    "start_time": "2022-12-07T11:35:23.740Z"
   },
   {
    "duration": 10,
    "start_time": "2022-12-07T11:35:23.757Z"
   },
   {
    "duration": 31,
    "start_time": "2022-12-07T11:35:23.768Z"
   },
   {
    "duration": 10,
    "start_time": "2022-12-07T11:35:23.801Z"
   },
   {
    "duration": 4,
    "start_time": "2022-12-07T11:35:23.813Z"
   },
   {
    "duration": 10,
    "start_time": "2022-12-07T11:35:23.818Z"
   },
   {
    "duration": 8,
    "start_time": "2022-12-07T11:35:23.830Z"
   },
   {
    "duration": 6,
    "start_time": "2022-12-07T11:37:03.858Z"
   },
   {
    "duration": 10,
    "start_time": "2022-12-07T11:37:04.388Z"
   },
   {
    "duration": 3,
    "start_time": "2022-12-07T11:37:05.588Z"
   },
   {
    "duration": 6,
    "start_time": "2022-12-07T11:37:07.755Z"
   },
   {
    "duration": 9,
    "start_time": "2022-12-07T11:37:09.507Z"
   },
   {
    "duration": 7,
    "start_time": "2022-12-07T11:38:00.650Z"
   },
   {
    "duration": 3,
    "start_time": "2022-12-07T11:39:17.212Z"
   },
   {
    "duration": 79,
    "start_time": "2022-12-07T11:39:52.839Z"
   },
   {
    "duration": 3,
    "start_time": "2022-12-07T11:40:00.599Z"
   },
   {
    "duration": 7,
    "start_time": "2022-12-07T11:40:00.976Z"
   },
   {
    "duration": 70,
    "start_time": "2022-12-07T11:40:40.780Z"
   },
   {
    "duration": 3,
    "start_time": "2022-12-07T11:40:49.095Z"
   },
   {
    "duration": 9,
    "start_time": "2022-12-07T11:40:49.517Z"
   },
   {
    "duration": 794,
    "start_time": "2022-12-07T11:40:55.127Z"
   },
   {
    "duration": 25,
    "start_time": "2022-12-07T11:40:55.924Z"
   },
   {
    "duration": 25,
    "start_time": "2022-12-07T11:40:55.951Z"
   },
   {
    "duration": 25,
    "start_time": "2022-12-07T11:40:55.978Z"
   },
   {
    "duration": 19,
    "start_time": "2022-12-07T11:40:56.006Z"
   },
   {
    "duration": 26,
    "start_time": "2022-12-07T11:40:56.026Z"
   },
   {
    "duration": 25,
    "start_time": "2022-12-07T11:40:56.053Z"
   },
   {
    "duration": 21,
    "start_time": "2022-12-07T11:40:56.079Z"
   },
   {
    "duration": 38,
    "start_time": "2022-12-07T11:40:56.102Z"
   },
   {
    "duration": 15,
    "start_time": "2022-12-07T11:40:56.141Z"
   },
   {
    "duration": 39,
    "start_time": "2022-12-07T11:40:56.158Z"
   },
   {
    "duration": 6,
    "start_time": "2022-12-07T11:40:56.199Z"
   },
   {
    "duration": 26,
    "start_time": "2022-12-07T11:40:56.206Z"
   },
   {
    "duration": 13,
    "start_time": "2022-12-07T11:40:56.235Z"
   },
   {
    "duration": 20,
    "start_time": "2022-12-07T11:40:56.250Z"
   },
   {
    "duration": 14,
    "start_time": "2022-12-07T11:40:56.271Z"
   },
   {
    "duration": 71,
    "start_time": "2022-12-07T11:40:56.286Z"
   },
   {
    "duration": 19,
    "start_time": "2022-12-07T11:40:56.358Z"
   },
   {
    "duration": 35,
    "start_time": "2022-12-07T11:40:56.379Z"
   },
   {
    "duration": 11,
    "start_time": "2022-12-07T11:40:56.415Z"
   },
   {
    "duration": 209,
    "start_time": "2022-12-07T11:40:56.428Z"
   },
   {
    "duration": 11,
    "start_time": "2022-12-07T11:40:56.639Z"
   },
   {
    "duration": 172,
    "start_time": "2022-12-07T11:40:56.652Z"
   },
   {
    "duration": 111,
    "start_time": "2022-12-07T11:40:56.826Z"
   },
   {
    "duration": 5,
    "start_time": "2022-12-07T11:40:56.939Z"
   },
   {
    "duration": 19,
    "start_time": "2022-12-07T11:40:56.945Z"
   },
   {
    "duration": 6,
    "start_time": "2022-12-07T11:40:56.966Z"
   },
   {
    "duration": 24,
    "start_time": "2022-12-07T11:40:56.973Z"
   },
   {
    "duration": 11,
    "start_time": "2022-12-07T11:40:56.998Z"
   },
   {
    "duration": 12,
    "start_time": "2022-12-07T11:40:57.010Z"
   },
   {
    "duration": 16,
    "start_time": "2022-12-07T11:40:57.023Z"
   },
   {
    "duration": 9,
    "start_time": "2022-12-07T11:40:57.041Z"
   },
   {
    "duration": 16,
    "start_time": "2022-12-07T11:40:57.051Z"
   },
   {
    "duration": 19,
    "start_time": "2022-12-07T11:40:57.069Z"
   },
   {
    "duration": 5,
    "start_time": "2022-12-07T11:40:57.090Z"
   },
   {
    "duration": 12,
    "start_time": "2022-12-07T11:40:57.096Z"
   },
   {
    "duration": 17,
    "start_time": "2022-12-07T11:40:57.109Z"
   },
   {
    "duration": 10,
    "start_time": "2022-12-07T11:40:57.128Z"
   },
   {
    "duration": 19,
    "start_time": "2022-12-07T11:40:57.140Z"
   },
   {
    "duration": 18,
    "start_time": "2022-12-07T11:40:57.160Z"
   },
   {
    "duration": 22,
    "start_time": "2022-12-07T11:40:57.182Z"
   },
   {
    "duration": 16,
    "start_time": "2022-12-07T11:40:57.205Z"
   },
   {
    "duration": 73,
    "start_time": "2022-12-07T11:41:39.756Z"
   },
   {
    "duration": 5,
    "start_time": "2022-12-07T11:42:15.869Z"
   },
   {
    "duration": 8,
    "start_time": "2022-12-07T11:42:27.146Z"
   },
   {
    "duration": 15,
    "start_time": "2022-12-07T11:42:46.739Z"
   },
   {
    "duration": 7,
    "start_time": "2022-12-07T11:42:59.900Z"
   },
   {
    "duration": 62,
    "start_time": "2022-12-07T11:44:04.132Z"
   },
   {
    "duration": 8,
    "start_time": "2022-12-07T11:44:04.491Z"
   },
   {
    "duration": 50,
    "start_time": "2022-12-07T11:44:30.734Z"
   },
   {
    "duration": 5,
    "start_time": "2022-12-07T11:44:48.201Z"
   },
   {
    "duration": 10,
    "start_time": "2022-12-07T11:44:50.049Z"
   },
   {
    "duration": 10,
    "start_time": "2022-12-07T11:44:52.362Z"
   },
   {
    "duration": 7,
    "start_time": "2022-12-07T11:44:53.041Z"
   },
   {
    "duration": 841,
    "start_time": "2022-12-07T11:44:58.069Z"
   },
   {
    "duration": 24,
    "start_time": "2022-12-07T11:44:58.912Z"
   },
   {
    "duration": 17,
    "start_time": "2022-12-07T11:44:58.938Z"
   },
   {
    "duration": 7,
    "start_time": "2022-12-07T11:44:58.957Z"
   },
   {
    "duration": 15,
    "start_time": "2022-12-07T11:44:58.965Z"
   },
   {
    "duration": 6,
    "start_time": "2022-12-07T11:44:58.997Z"
   },
   {
    "duration": 15,
    "start_time": "2022-12-07T11:44:59.006Z"
   },
   {
    "duration": 17,
    "start_time": "2022-12-07T11:44:59.023Z"
   },
   {
    "duration": 27,
    "start_time": "2022-12-07T11:44:59.042Z"
   },
   {
    "duration": 40,
    "start_time": "2022-12-07T11:44:59.072Z"
   },
   {
    "duration": 32,
    "start_time": "2022-12-07T11:44:59.113Z"
   },
   {
    "duration": 8,
    "start_time": "2022-12-07T11:44:59.147Z"
   },
   {
    "duration": 21,
    "start_time": "2022-12-07T11:44:59.156Z"
   },
   {
    "duration": 20,
    "start_time": "2022-12-07T11:44:59.178Z"
   },
   {
    "duration": 12,
    "start_time": "2022-12-07T11:44:59.200Z"
   },
   {
    "duration": 7,
    "start_time": "2022-12-07T11:44:59.214Z"
   },
   {
    "duration": 101,
    "start_time": "2022-12-07T11:44:59.223Z"
   },
   {
    "duration": 28,
    "start_time": "2022-12-07T11:44:59.326Z"
   },
   {
    "duration": 19,
    "start_time": "2022-12-07T11:44:59.356Z"
   },
   {
    "duration": 22,
    "start_time": "2022-12-07T11:44:59.377Z"
   },
   {
    "duration": 189,
    "start_time": "2022-12-07T11:44:59.402Z"
   },
   {
    "duration": 12,
    "start_time": "2022-12-07T11:44:59.597Z"
   },
   {
    "duration": 169,
    "start_time": "2022-12-07T11:44:59.610Z"
   },
   {
    "duration": 101,
    "start_time": "2022-12-07T11:44:59.780Z"
   },
   {
    "duration": 17,
    "start_time": "2022-12-07T11:44:59.882Z"
   },
   {
    "duration": 7,
    "start_time": "2022-12-07T11:44:59.901Z"
   },
   {
    "duration": 9,
    "start_time": "2022-12-07T11:44:59.909Z"
   },
   {
    "duration": 8,
    "start_time": "2022-12-07T11:44:59.922Z"
   },
   {
    "duration": 15,
    "start_time": "2022-12-07T11:44:59.932Z"
   },
   {
    "duration": 13,
    "start_time": "2022-12-07T11:44:59.949Z"
   },
   {
    "duration": 16,
    "start_time": "2022-12-07T11:44:59.964Z"
   },
   {
    "duration": 18,
    "start_time": "2022-12-07T11:44:59.982Z"
   },
   {
    "duration": 9,
    "start_time": "2022-12-07T11:45:00.001Z"
   },
   {
    "duration": 29,
    "start_time": "2022-12-07T11:45:00.012Z"
   },
   {
    "duration": 36,
    "start_time": "2022-12-07T11:45:00.043Z"
   },
   {
    "duration": 39,
    "start_time": "2022-12-07T11:45:00.081Z"
   },
   {
    "duration": 14,
    "start_time": "2022-12-07T11:45:00.122Z"
   },
   {
    "duration": 16,
    "start_time": "2022-12-07T11:45:00.138Z"
   },
   {
    "duration": 115,
    "start_time": "2022-12-07T11:45:00.156Z"
   },
   {
    "duration": 0,
    "start_time": "2022-12-07T11:45:00.273Z"
   },
   {
    "duration": 0,
    "start_time": "2022-12-07T11:45:00.274Z"
   },
   {
    "duration": 0,
    "start_time": "2022-12-07T11:45:00.276Z"
   },
   {
    "duration": 0,
    "start_time": "2022-12-07T11:45:00.277Z"
   },
   {
    "duration": 3,
    "start_time": "2022-12-07T11:45:38.909Z"
   },
   {
    "duration": 7,
    "start_time": "2022-12-07T11:45:39.309Z"
   },
   {
    "duration": 9,
    "start_time": "2022-12-07T11:45:39.863Z"
   },
   {
    "duration": 10,
    "start_time": "2022-12-07T11:46:34.708Z"
   },
   {
    "duration": 7,
    "start_time": "2022-12-07T11:46:45.045Z"
   },
   {
    "duration": 8,
    "start_time": "2022-12-07T11:46:58.991Z"
   },
   {
    "duration": 3,
    "start_time": "2022-12-07T11:48:01.509Z"
   },
   {
    "duration": 7,
    "start_time": "2022-12-07T11:48:02.525Z"
   },
   {
    "duration": 8,
    "start_time": "2022-12-07T11:48:03.188Z"
   },
   {
    "duration": 6,
    "start_time": "2022-12-07T11:48:06.886Z"
   },
   {
    "duration": 3,
    "start_time": "2022-12-07T11:48:32.408Z"
   },
   {
    "duration": 7,
    "start_time": "2022-12-07T11:48:33.217Z"
   },
   {
    "duration": 8,
    "start_time": "2022-12-07T11:48:34.816Z"
   },
   {
    "duration": 750,
    "start_time": "2022-12-07T11:48:48.783Z"
   },
   {
    "duration": 24,
    "start_time": "2022-12-07T11:48:49.535Z"
   },
   {
    "duration": 16,
    "start_time": "2022-12-07T11:48:49.560Z"
   },
   {
    "duration": 5,
    "start_time": "2022-12-07T11:48:49.579Z"
   },
   {
    "duration": 11,
    "start_time": "2022-12-07T11:48:49.585Z"
   },
   {
    "duration": 5,
    "start_time": "2022-12-07T11:48:49.598Z"
   },
   {
    "duration": 14,
    "start_time": "2022-12-07T11:48:49.604Z"
   },
   {
    "duration": 12,
    "start_time": "2022-12-07T11:48:49.620Z"
   },
   {
    "duration": 22,
    "start_time": "2022-12-07T11:48:49.634Z"
   },
   {
    "duration": 14,
    "start_time": "2022-12-07T11:48:49.658Z"
   },
   {
    "duration": 50,
    "start_time": "2022-12-07T11:48:49.673Z"
   },
   {
    "duration": 6,
    "start_time": "2022-12-07T11:48:49.725Z"
   },
   {
    "duration": 26,
    "start_time": "2022-12-07T11:48:49.732Z"
   },
   {
    "duration": 7,
    "start_time": "2022-12-07T11:48:49.760Z"
   },
   {
    "duration": 16,
    "start_time": "2022-12-07T11:48:49.769Z"
   },
   {
    "duration": 9,
    "start_time": "2022-12-07T11:48:49.786Z"
   },
   {
    "duration": 52,
    "start_time": "2022-12-07T11:48:49.796Z"
   },
   {
    "duration": 20,
    "start_time": "2022-12-07T11:48:49.850Z"
   },
   {
    "duration": 32,
    "start_time": "2022-12-07T11:48:49.872Z"
   },
   {
    "duration": 4,
    "start_time": "2022-12-07T11:48:49.905Z"
   },
   {
    "duration": 202,
    "start_time": "2022-12-07T11:48:49.910Z"
   },
   {
    "duration": 11,
    "start_time": "2022-12-07T11:48:50.114Z"
   },
   {
    "duration": 161,
    "start_time": "2022-12-07T11:48:50.126Z"
   },
   {
    "duration": 102,
    "start_time": "2022-12-07T11:48:50.288Z"
   },
   {
    "duration": 4,
    "start_time": "2022-12-07T11:48:50.398Z"
   },
   {
    "duration": 15,
    "start_time": "2022-12-07T11:48:50.403Z"
   },
   {
    "duration": 17,
    "start_time": "2022-12-07T11:48:50.419Z"
   },
   {
    "duration": 9,
    "start_time": "2022-12-07T11:48:50.440Z"
   },
   {
    "duration": 7,
    "start_time": "2022-12-07T11:48:50.451Z"
   },
   {
    "duration": 15,
    "start_time": "2022-12-07T11:48:50.460Z"
   },
   {
    "duration": 4,
    "start_time": "2022-12-07T11:48:50.477Z"
   },
   {
    "duration": 8,
    "start_time": "2022-12-07T11:48:50.483Z"
   },
   {
    "duration": 12,
    "start_time": "2022-12-07T11:48:50.492Z"
   },
   {
    "duration": 8,
    "start_time": "2022-12-07T11:48:50.506Z"
   },
   {
    "duration": 5,
    "start_time": "2022-12-07T11:48:50.515Z"
   },
   {
    "duration": 8,
    "start_time": "2022-12-07T11:48:50.522Z"
   },
   {
    "duration": 3,
    "start_time": "2022-12-07T11:48:50.532Z"
   },
   {
    "duration": 10,
    "start_time": "2022-12-07T11:48:50.537Z"
   },
   {
    "duration": 7,
    "start_time": "2022-12-07T11:48:50.548Z"
   },
   {
    "duration": 4,
    "start_time": "2022-12-07T11:48:50.556Z"
   },
   {
    "duration": 9,
    "start_time": "2022-12-07T11:48:50.561Z"
   },
   {
    "duration": 32,
    "start_time": "2022-12-07T11:48:50.571Z"
   },
   {
    "duration": 10,
    "start_time": "2022-12-07T11:48:50.604Z"
   },
   {
    "duration": 22,
    "start_time": "2022-12-07T11:52:35.686Z"
   },
   {
    "duration": 8,
    "start_time": "2022-12-07T11:53:09.761Z"
   },
   {
    "duration": 6,
    "start_time": "2022-12-07T11:53:50.789Z"
   },
   {
    "duration": 71,
    "start_time": "2022-12-07T11:54:06.839Z"
   },
   {
    "duration": 6,
    "start_time": "2022-12-07T11:54:11.485Z"
   },
   {
    "duration": 5,
    "start_time": "2022-12-07T11:54:14.432Z"
   },
   {
    "duration": 5,
    "start_time": "2022-12-07T11:54:40.210Z"
   },
   {
    "duration": 7,
    "start_time": "2022-12-07T11:56:25.207Z"
   },
   {
    "duration": 6,
    "start_time": "2022-12-07T11:57:12.749Z"
   },
   {
    "duration": 4,
    "start_time": "2022-12-07T11:57:41.967Z"
   },
   {
    "duration": 7,
    "start_time": "2022-12-07T12:00:28.763Z"
   },
   {
    "duration": 4,
    "start_time": "2022-12-07T12:00:35.139Z"
   },
   {
    "duration": 6,
    "start_time": "2022-12-07T12:00:45.039Z"
   },
   {
    "duration": 4,
    "start_time": "2022-12-07T12:01:55.027Z"
   },
   {
    "duration": 7,
    "start_time": "2022-12-07T12:03:25.477Z"
   },
   {
    "duration": 8,
    "start_time": "2022-12-07T12:04:43.782Z"
   },
   {
    "duration": 707,
    "start_time": "2022-12-07T12:06:23.906Z"
   },
   {
    "duration": 29,
    "start_time": "2022-12-07T12:06:24.616Z"
   },
   {
    "duration": 20,
    "start_time": "2022-12-07T12:06:24.647Z"
   },
   {
    "duration": 5,
    "start_time": "2022-12-07T12:06:24.670Z"
   },
   {
    "duration": 24,
    "start_time": "2022-12-07T12:06:24.677Z"
   },
   {
    "duration": 7,
    "start_time": "2022-12-07T12:06:24.703Z"
   },
   {
    "duration": 17,
    "start_time": "2022-12-07T12:06:24.712Z"
   },
   {
    "duration": 21,
    "start_time": "2022-12-07T12:06:24.730Z"
   },
   {
    "duration": 24,
    "start_time": "2022-12-07T12:06:24.754Z"
   },
   {
    "duration": 19,
    "start_time": "2022-12-07T12:06:24.798Z"
   },
   {
    "duration": 29,
    "start_time": "2022-12-07T12:06:24.819Z"
   },
   {
    "duration": 6,
    "start_time": "2022-12-07T12:06:24.850Z"
   },
   {
    "duration": 15,
    "start_time": "2022-12-07T12:06:24.857Z"
   },
   {
    "duration": 6,
    "start_time": "2022-12-07T12:06:24.873Z"
   },
   {
    "duration": 5,
    "start_time": "2022-12-07T12:06:24.898Z"
   },
   {
    "duration": 10,
    "start_time": "2022-12-07T12:06:24.905Z"
   },
   {
    "duration": 55,
    "start_time": "2022-12-07T12:06:24.917Z"
   },
   {
    "duration": 33,
    "start_time": "2022-12-07T12:06:24.973Z"
   },
   {
    "duration": 20,
    "start_time": "2022-12-07T12:06:25.008Z"
   },
   {
    "duration": 4,
    "start_time": "2022-12-07T12:06:25.030Z"
   },
   {
    "duration": 209,
    "start_time": "2022-12-07T12:06:25.035Z"
   },
   {
    "duration": 10,
    "start_time": "2022-12-07T12:06:25.246Z"
   },
   {
    "duration": 160,
    "start_time": "2022-12-07T12:06:25.258Z"
   },
   {
    "duration": 109,
    "start_time": "2022-12-07T12:06:25.420Z"
   },
   {
    "duration": 5,
    "start_time": "2022-12-07T12:06:25.531Z"
   },
   {
    "duration": 7,
    "start_time": "2022-12-07T12:06:25.537Z"
   },
   {
    "duration": 6,
    "start_time": "2022-12-07T12:06:25.545Z"
   },
   {
    "duration": 5,
    "start_time": "2022-12-07T12:06:25.554Z"
   },
   {
    "duration": 7,
    "start_time": "2022-12-07T12:06:25.561Z"
   },
   {
    "duration": 34,
    "start_time": "2022-12-07T12:06:25.569Z"
   },
   {
    "duration": 5,
    "start_time": "2022-12-07T12:06:25.605Z"
   },
   {
    "duration": 10,
    "start_time": "2022-12-07T12:06:25.612Z"
   },
   {
    "duration": 14,
    "start_time": "2022-12-07T12:06:25.624Z"
   },
   {
    "duration": 11,
    "start_time": "2022-12-07T12:06:25.640Z"
   },
   {
    "duration": 9,
    "start_time": "2022-12-07T12:06:25.652Z"
   },
   {
    "duration": 7,
    "start_time": "2022-12-07T12:06:25.663Z"
   },
   {
    "duration": 27,
    "start_time": "2022-12-07T12:06:25.671Z"
   },
   {
    "duration": 6,
    "start_time": "2022-12-07T12:06:25.699Z"
   },
   {
    "duration": 20,
    "start_time": "2022-12-07T12:06:25.707Z"
   },
   {
    "duration": 785,
    "start_time": "2022-12-07T12:09:30.590Z"
   },
   {
    "duration": 7,
    "start_time": "2022-12-07T12:09:36.686Z"
   },
   {
    "duration": 11,
    "start_time": "2022-12-07T12:09:52.296Z"
   },
   {
    "duration": 9,
    "start_time": "2022-12-07T12:09:57.176Z"
   },
   {
    "duration": 9,
    "start_time": "2022-12-07T12:10:06.801Z"
   },
   {
    "duration": 5,
    "start_time": "2022-12-07T12:18:14.914Z"
   },
   {
    "duration": 824,
    "start_time": "2022-12-07T12:18:24.319Z"
   },
   {
    "duration": 21,
    "start_time": "2022-12-07T12:18:25.145Z"
   },
   {
    "duration": 20,
    "start_time": "2022-12-07T12:18:25.168Z"
   },
   {
    "duration": 19,
    "start_time": "2022-12-07T12:18:25.190Z"
   },
   {
    "duration": 22,
    "start_time": "2022-12-07T12:18:25.211Z"
   },
   {
    "duration": 12,
    "start_time": "2022-12-07T12:18:25.234Z"
   },
   {
    "duration": 40,
    "start_time": "2022-12-07T12:18:25.248Z"
   },
   {
    "duration": 34,
    "start_time": "2022-12-07T12:18:25.289Z"
   },
   {
    "duration": 34,
    "start_time": "2022-12-07T12:18:25.325Z"
   },
   {
    "duration": 19,
    "start_time": "2022-12-07T12:18:25.361Z"
   },
   {
    "duration": 58,
    "start_time": "2022-12-07T12:18:25.382Z"
   },
   {
    "duration": 8,
    "start_time": "2022-12-07T12:18:25.441Z"
   },
   {
    "duration": 8,
    "start_time": "2022-12-07T12:18:25.450Z"
   },
   {
    "duration": 5,
    "start_time": "2022-12-07T12:18:25.459Z"
   },
   {
    "duration": 8,
    "start_time": "2022-12-07T12:18:25.466Z"
   },
   {
    "duration": 8,
    "start_time": "2022-12-07T12:18:25.476Z"
   },
   {
    "duration": 61,
    "start_time": "2022-12-07T12:18:25.486Z"
   },
   {
    "duration": 21,
    "start_time": "2022-12-07T12:18:25.549Z"
   },
   {
    "duration": 39,
    "start_time": "2022-12-07T12:18:25.572Z"
   },
   {
    "duration": 11,
    "start_time": "2022-12-07T12:18:25.613Z"
   },
   {
    "duration": 197,
    "start_time": "2022-12-07T12:18:25.626Z"
   },
   {
    "duration": 10,
    "start_time": "2022-12-07T12:18:25.825Z"
   },
   {
    "duration": 181,
    "start_time": "2022-12-07T12:18:25.837Z"
   },
   {
    "duration": 106,
    "start_time": "2022-12-07T12:18:26.019Z"
   },
   {
    "duration": 6,
    "start_time": "2022-12-07T12:18:26.127Z"
   },
   {
    "duration": 39,
    "start_time": "2022-12-07T12:18:26.135Z"
   },
   {
    "duration": 28,
    "start_time": "2022-12-07T12:18:26.176Z"
   },
   {
    "duration": 8,
    "start_time": "2022-12-07T12:18:26.213Z"
   },
   {
    "duration": 7,
    "start_time": "2022-12-07T12:18:26.224Z"
   },
   {
    "duration": 10,
    "start_time": "2022-12-07T12:18:26.232Z"
   },
   {
    "duration": 8,
    "start_time": "2022-12-07T12:18:26.243Z"
   },
   {
    "duration": 10,
    "start_time": "2022-12-07T12:18:26.253Z"
   },
   {
    "duration": 7,
    "start_time": "2022-12-07T12:18:26.265Z"
   },
   {
    "duration": 28,
    "start_time": "2022-12-07T12:18:26.273Z"
   },
   {
    "duration": 22,
    "start_time": "2022-12-07T12:18:26.303Z"
   },
   {
    "duration": 9,
    "start_time": "2022-12-07T12:18:26.326Z"
   },
   {
    "duration": 5,
    "start_time": "2022-12-07T12:18:26.337Z"
   },
   {
    "duration": 5,
    "start_time": "2022-12-07T12:18:26.344Z"
   },
   {
    "duration": 9,
    "start_time": "2022-12-07T12:18:26.351Z"
   },
   {
    "duration": 9,
    "start_time": "2022-12-07T12:18:26.362Z"
   },
   {
    "duration": 10,
    "start_time": "2022-12-07T12:18:26.398Z"
   },
   {
    "duration": 44,
    "start_time": "2022-12-07T12:18:26.409Z"
   },
   {
    "duration": 0,
    "start_time": "2022-12-07T12:18:26.455Z"
   },
   {
    "duration": 10,
    "start_time": "2022-12-07T12:20:13.661Z"
   },
   {
    "duration": 35,
    "start_time": "2022-12-07T12:20:14.270Z"
   },
   {
    "duration": 779,
    "start_time": "2022-12-07T12:20:22.957Z"
   },
   {
    "duration": 32,
    "start_time": "2022-12-07T12:20:23.738Z"
   },
   {
    "duration": 19,
    "start_time": "2022-12-07T12:20:23.772Z"
   },
   {
    "duration": 45,
    "start_time": "2022-12-07T12:20:23.793Z"
   },
   {
    "duration": 52,
    "start_time": "2022-12-07T12:20:23.839Z"
   },
   {
    "duration": 38,
    "start_time": "2022-12-07T12:20:23.893Z"
   },
   {
    "duration": 32,
    "start_time": "2022-12-07T12:20:23.933Z"
   },
   {
    "duration": 42,
    "start_time": "2022-12-07T12:20:23.967Z"
   },
   {
    "duration": 65,
    "start_time": "2022-12-07T12:20:24.011Z"
   },
   {
    "duration": 29,
    "start_time": "2022-12-07T12:20:24.081Z"
   },
   {
    "duration": 37,
    "start_time": "2022-12-07T12:20:24.112Z"
   },
   {
    "duration": 12,
    "start_time": "2022-12-07T12:20:24.151Z"
   },
   {
    "duration": 80,
    "start_time": "2022-12-07T12:20:24.166Z"
   },
   {
    "duration": 73,
    "start_time": "2022-12-07T12:20:24.248Z"
   },
   {
    "duration": 30,
    "start_time": "2022-12-07T12:20:24.325Z"
   },
   {
    "duration": 10,
    "start_time": "2022-12-07T12:20:24.358Z"
   },
   {
    "duration": 99,
    "start_time": "2022-12-07T12:20:24.371Z"
   },
   {
    "duration": 41,
    "start_time": "2022-12-07T12:20:24.473Z"
   },
   {
    "duration": 23,
    "start_time": "2022-12-07T12:20:24.516Z"
   },
   {
    "duration": 15,
    "start_time": "2022-12-07T12:20:24.540Z"
   },
   {
    "duration": 265,
    "start_time": "2022-12-07T12:20:24.556Z"
   },
   {
    "duration": 16,
    "start_time": "2022-12-07T12:20:24.823Z"
   },
   {
    "duration": 208,
    "start_time": "2022-12-07T12:20:24.842Z"
   },
   {
    "duration": 128,
    "start_time": "2022-12-07T12:20:25.052Z"
   },
   {
    "duration": 17,
    "start_time": "2022-12-07T12:20:25.182Z"
   },
   {
    "duration": 20,
    "start_time": "2022-12-07T12:20:25.201Z"
   },
   {
    "duration": 5,
    "start_time": "2022-12-07T12:20:25.223Z"
   },
   {
    "duration": 9,
    "start_time": "2022-12-07T12:20:25.233Z"
   },
   {
    "duration": 11,
    "start_time": "2022-12-07T12:20:25.244Z"
   },
   {
    "duration": 10,
    "start_time": "2022-12-07T12:20:25.257Z"
   },
   {
    "duration": 6,
    "start_time": "2022-12-07T12:20:25.298Z"
   },
   {
    "duration": 24,
    "start_time": "2022-12-07T12:20:25.306Z"
   },
   {
    "duration": 7,
    "start_time": "2022-12-07T12:20:25.333Z"
   },
   {
    "duration": 6,
    "start_time": "2022-12-07T12:20:25.342Z"
   },
   {
    "duration": 10,
    "start_time": "2022-12-07T12:20:25.350Z"
   },
   {
    "duration": 35,
    "start_time": "2022-12-07T12:20:25.362Z"
   },
   {
    "duration": 9,
    "start_time": "2022-12-07T12:20:25.399Z"
   },
   {
    "duration": 9,
    "start_time": "2022-12-07T12:20:25.410Z"
   },
   {
    "duration": 7,
    "start_time": "2022-12-07T12:20:25.420Z"
   },
   {
    "duration": 9,
    "start_time": "2022-12-07T12:20:25.429Z"
   },
   {
    "duration": 8,
    "start_time": "2022-12-07T12:20:25.439Z"
   },
   {
    "duration": 6,
    "start_time": "2022-12-07T12:20:25.448Z"
   },
   {
    "duration": 42,
    "start_time": "2022-12-07T12:20:25.456Z"
   },
   {
    "duration": 19,
    "start_time": "2022-12-07T12:20:25.501Z"
   },
   {
    "duration": 10,
    "start_time": "2022-12-07T12:21:40.855Z"
   },
   {
    "duration": 3,
    "start_time": "2022-12-07T12:23:27.474Z"
   },
   {
    "duration": 7,
    "start_time": "2022-12-07T12:23:48.245Z"
   },
   {
    "duration": 6,
    "start_time": "2022-12-07T12:24:31.114Z"
   },
   {
    "duration": 16,
    "start_time": "2022-12-07T12:25:11.968Z"
   },
   {
    "duration": 7,
    "start_time": "2022-12-07T12:25:18.542Z"
   },
   {
    "duration": 3,
    "start_time": "2022-12-07T12:25:30.945Z"
   },
   {
    "duration": 7,
    "start_time": "2022-12-07T12:25:31.457Z"
   },
   {
    "duration": 6,
    "start_time": "2022-12-07T12:25:32.129Z"
   },
   {
    "duration": 11,
    "start_time": "2022-12-07T12:25:33.436Z"
   },
   {
    "duration": 3,
    "start_time": "2022-12-07T12:26:08.398Z"
   },
   {
    "duration": 8,
    "start_time": "2022-12-07T12:26:08.886Z"
   },
   {
    "duration": 7,
    "start_time": "2022-12-07T12:26:09.358Z"
   },
   {
    "duration": 9,
    "start_time": "2022-12-07T12:26:10.134Z"
   },
   {
    "duration": 4,
    "start_time": "2022-12-07T12:26:39.248Z"
   },
   {
    "duration": 6,
    "start_time": "2022-12-07T12:26:39.704Z"
   },
   {
    "duration": 6,
    "start_time": "2022-12-07T12:26:40.160Z"
   },
   {
    "duration": 9,
    "start_time": "2022-12-07T12:26:41.009Z"
   },
   {
    "duration": 4,
    "start_time": "2022-12-07T12:26:48.873Z"
   },
   {
    "duration": 6,
    "start_time": "2022-12-07T12:26:49.217Z"
   },
   {
    "duration": 8,
    "start_time": "2022-12-07T12:26:49.666Z"
   },
   {
    "duration": 12,
    "start_time": "2022-12-07T12:26:50.426Z"
   },
   {
    "duration": 3,
    "start_time": "2022-12-07T12:27:56.394Z"
   },
   {
    "duration": 10,
    "start_time": "2022-12-07T12:27:56.962Z"
   },
   {
    "duration": 12,
    "start_time": "2022-12-07T12:27:57.466Z"
   },
   {
    "duration": 5,
    "start_time": "2022-12-07T12:28:25.104Z"
   },
   {
    "duration": 7,
    "start_time": "2022-12-07T12:28:25.765Z"
   },
   {
    "duration": 8,
    "start_time": "2022-12-07T12:28:26.452Z"
   },
   {
    "duration": 44,
    "start_time": "2022-12-07T12:28:37.108Z"
   },
   {
    "duration": 44,
    "start_time": "2022-12-07T12:28:43.913Z"
   },
   {
    "duration": 3,
    "start_time": "2022-12-07T12:28:52.488Z"
   },
   {
    "duration": 7,
    "start_time": "2022-12-07T12:28:53.264Z"
   },
   {
    "duration": 7,
    "start_time": "2022-12-07T12:28:53.824Z"
   },
   {
    "duration": 110,
    "start_time": "2022-12-07T12:29:25.731Z"
   },
   {
    "duration": 10,
    "start_time": "2022-12-07T12:29:31.324Z"
   },
   {
    "duration": 4,
    "start_time": "2022-12-07T12:30:59.197Z"
   },
   {
    "duration": 7,
    "start_time": "2022-12-07T12:31:00.126Z"
   },
   {
    "duration": 8,
    "start_time": "2022-12-07T12:31:01.150Z"
   },
   {
    "duration": 5,
    "start_time": "2022-12-07T12:31:24.537Z"
   },
   {
    "duration": 9,
    "start_time": "2022-12-07T12:31:24.944Z"
   },
   {
    "duration": 11,
    "start_time": "2022-12-07T12:31:25.281Z"
   },
   {
    "duration": 5,
    "start_time": "2022-12-07T12:31:29.328Z"
   },
   {
    "duration": 8,
    "start_time": "2022-12-07T12:31:29.633Z"
   },
   {
    "duration": 12,
    "start_time": "2022-12-07T12:31:29.982Z"
   },
   {
    "duration": 3,
    "start_time": "2022-12-07T12:31:38.882Z"
   },
   {
    "duration": 6,
    "start_time": "2022-12-07T12:31:39.299Z"
   },
   {
    "duration": 8,
    "start_time": "2022-12-07T12:31:39.739Z"
   },
   {
    "duration": 4,
    "start_time": "2022-12-07T12:31:50.539Z"
   },
   {
    "duration": 7,
    "start_time": "2022-12-07T12:31:50.804Z"
   },
   {
    "duration": 723,
    "start_time": "2022-12-07T12:34:26.247Z"
   },
   {
    "duration": 24,
    "start_time": "2022-12-07T12:34:26.972Z"
   },
   {
    "duration": 16,
    "start_time": "2022-12-07T12:34:26.998Z"
   },
   {
    "duration": 6,
    "start_time": "2022-12-07T12:34:27.017Z"
   },
   {
    "duration": 12,
    "start_time": "2022-12-07T12:34:27.025Z"
   },
   {
    "duration": 6,
    "start_time": "2022-12-07T12:34:27.039Z"
   },
   {
    "duration": 12,
    "start_time": "2022-12-07T12:34:27.047Z"
   },
   {
    "duration": 46,
    "start_time": "2022-12-07T12:34:27.061Z"
   },
   {
    "duration": 29,
    "start_time": "2022-12-07T12:34:27.109Z"
   },
   {
    "duration": 19,
    "start_time": "2022-12-07T12:34:27.142Z"
   },
   {
    "duration": 64,
    "start_time": "2022-12-07T12:34:27.163Z"
   },
   {
    "duration": 10,
    "start_time": "2022-12-07T12:34:27.229Z"
   },
   {
    "duration": 8,
    "start_time": "2022-12-07T12:34:27.242Z"
   },
   {
    "duration": 5,
    "start_time": "2022-12-07T12:34:27.252Z"
   },
   {
    "duration": 46,
    "start_time": "2022-12-07T12:34:27.259Z"
   },
   {
    "duration": 7,
    "start_time": "2022-12-07T12:34:27.307Z"
   },
   {
    "duration": 54,
    "start_time": "2022-12-07T12:34:27.316Z"
   },
   {
    "duration": 42,
    "start_time": "2022-12-07T12:34:27.371Z"
   },
   {
    "duration": 21,
    "start_time": "2022-12-07T12:34:27.415Z"
   },
   {
    "duration": 4,
    "start_time": "2022-12-07T12:34:27.438Z"
   },
   {
    "duration": 208,
    "start_time": "2022-12-07T12:34:27.443Z"
   },
   {
    "duration": 10,
    "start_time": "2022-12-07T12:34:27.653Z"
   },
   {
    "duration": 182,
    "start_time": "2022-12-07T12:34:27.665Z"
   },
   {
    "duration": 119,
    "start_time": "2022-12-07T12:34:27.849Z"
   },
   {
    "duration": 6,
    "start_time": "2022-12-07T12:34:27.970Z"
   },
   {
    "duration": 35,
    "start_time": "2022-12-07T12:34:27.978Z"
   },
   {
    "duration": 6,
    "start_time": "2022-12-07T12:34:28.015Z"
   },
   {
    "duration": 6,
    "start_time": "2022-12-07T12:34:28.025Z"
   },
   {
    "duration": 7,
    "start_time": "2022-12-07T12:34:28.033Z"
   },
   {
    "duration": 8,
    "start_time": "2022-12-07T12:34:28.041Z"
   },
   {
    "duration": 11,
    "start_time": "2022-12-07T12:34:28.050Z"
   },
   {
    "duration": 14,
    "start_time": "2022-12-07T12:34:28.062Z"
   },
   {
    "duration": 5,
    "start_time": "2022-12-07T12:34:28.098Z"
   },
   {
    "duration": 4,
    "start_time": "2022-12-07T12:34:28.105Z"
   },
   {
    "duration": 8,
    "start_time": "2022-12-07T12:34:28.111Z"
   },
   {
    "duration": 10,
    "start_time": "2022-12-07T12:34:28.121Z"
   },
   {
    "duration": 12,
    "start_time": "2022-12-07T12:34:28.132Z"
   },
   {
    "duration": 9,
    "start_time": "2022-12-07T12:34:28.146Z"
   },
   {
    "duration": 11,
    "start_time": "2022-12-07T12:34:28.157Z"
   },
   {
    "duration": 4,
    "start_time": "2022-12-07T12:34:28.198Z"
   },
   {
    "duration": 11,
    "start_time": "2022-12-07T12:34:28.204Z"
   },
   {
    "duration": 7,
    "start_time": "2022-12-07T12:34:28.216Z"
   },
   {
    "duration": 8,
    "start_time": "2022-12-07T12:34:28.225Z"
   },
   {
    "duration": 5,
    "start_time": "2022-12-07T12:34:28.234Z"
   },
   {
    "duration": 7,
    "start_time": "2022-12-07T12:34:28.241Z"
   },
   {
    "duration": 7,
    "start_time": "2022-12-07T12:34:28.250Z"
   },
   {
    "duration": 7,
    "start_time": "2022-12-07T12:34:28.258Z"
   },
   {
    "duration": 105,
    "start_time": "2022-12-07T12:34:28.267Z"
   },
   {
    "duration": 0,
    "start_time": "2022-12-07T12:34:28.374Z"
   },
   {
    "duration": 0,
    "start_time": "2022-12-07T12:34:28.375Z"
   },
   {
    "duration": 5,
    "start_time": "2022-12-07T12:35:59.360Z"
   },
   {
    "duration": 3,
    "start_time": "2022-12-07T12:35:59.854Z"
   },
   {
    "duration": 10,
    "start_time": "2022-12-07T12:36:00.280Z"
   },
   {
    "duration": 756,
    "start_time": "2022-12-07T12:38:01.488Z"
   },
   {
    "duration": 21,
    "start_time": "2022-12-07T12:38:02.246Z"
   },
   {
    "duration": 13,
    "start_time": "2022-12-07T12:38:02.269Z"
   },
   {
    "duration": 4,
    "start_time": "2022-12-07T12:38:02.284Z"
   },
   {
    "duration": 13,
    "start_time": "2022-12-07T12:38:02.290Z"
   },
   {
    "duration": 26,
    "start_time": "2022-12-07T12:38:02.305Z"
   },
   {
    "duration": 14,
    "start_time": "2022-12-07T12:38:02.333Z"
   },
   {
    "duration": 15,
    "start_time": "2022-12-07T12:38:02.349Z"
   },
   {
    "duration": 24,
    "start_time": "2022-12-07T12:38:02.365Z"
   },
   {
    "duration": 15,
    "start_time": "2022-12-07T12:38:02.391Z"
   },
   {
    "duration": 39,
    "start_time": "2022-12-07T12:38:02.407Z"
   },
   {
    "duration": 7,
    "start_time": "2022-12-07T12:38:02.447Z"
   },
   {
    "duration": 8,
    "start_time": "2022-12-07T12:38:02.455Z"
   },
   {
    "duration": 5,
    "start_time": "2022-12-07T12:38:02.464Z"
   },
   {
    "duration": 10,
    "start_time": "2022-12-07T12:38:02.471Z"
   },
   {
    "duration": 31,
    "start_time": "2022-12-07T12:38:02.483Z"
   },
   {
    "duration": 56,
    "start_time": "2022-12-07T12:38:02.516Z"
   },
   {
    "duration": 28,
    "start_time": "2022-12-07T12:38:02.574Z"
   },
   {
    "duration": 24,
    "start_time": "2022-12-07T12:38:02.604Z"
   },
   {
    "duration": 9,
    "start_time": "2022-12-07T12:38:02.630Z"
   },
   {
    "duration": 202,
    "start_time": "2022-12-07T12:38:02.640Z"
   },
   {
    "duration": 25,
    "start_time": "2022-12-07T12:38:02.844Z"
   },
   {
    "duration": 161,
    "start_time": "2022-12-07T12:38:02.871Z"
   },
   {
    "duration": 115,
    "start_time": "2022-12-07T12:38:03.034Z"
   },
   {
    "duration": 5,
    "start_time": "2022-12-07T12:38:03.151Z"
   },
   {
    "duration": 19,
    "start_time": "2022-12-07T12:38:03.158Z"
   },
   {
    "duration": 27,
    "start_time": "2022-12-07T12:38:03.178Z"
   },
   {
    "duration": 8,
    "start_time": "2022-12-07T12:38:03.209Z"
   },
   {
    "duration": 10,
    "start_time": "2022-12-07T12:38:03.219Z"
   },
   {
    "duration": 9,
    "start_time": "2022-12-07T12:38:03.231Z"
   },
   {
    "duration": 8,
    "start_time": "2022-12-07T12:38:03.244Z"
   },
   {
    "duration": 14,
    "start_time": "2022-12-07T12:38:03.254Z"
   },
   {
    "duration": 8,
    "start_time": "2022-12-07T12:38:03.270Z"
   },
   {
    "duration": 22,
    "start_time": "2022-12-07T12:38:03.280Z"
   },
   {
    "duration": 9,
    "start_time": "2022-12-07T12:38:03.304Z"
   },
   {
    "duration": 9,
    "start_time": "2022-12-07T12:38:03.315Z"
   },
   {
    "duration": 10,
    "start_time": "2022-12-07T12:38:03.326Z"
   },
   {
    "duration": 14,
    "start_time": "2022-12-07T12:38:03.338Z"
   },
   {
    "duration": 9,
    "start_time": "2022-12-07T12:38:03.354Z"
   },
   {
    "duration": 8,
    "start_time": "2022-12-07T12:38:03.365Z"
   },
   {
    "duration": 23,
    "start_time": "2022-12-07T12:38:03.374Z"
   },
   {
    "duration": 6,
    "start_time": "2022-12-07T12:38:03.399Z"
   },
   {
    "duration": 13,
    "start_time": "2022-12-07T12:38:03.407Z"
   },
   {
    "duration": 3,
    "start_time": "2022-12-07T12:38:03.422Z"
   },
   {
    "duration": 90,
    "start_time": "2022-12-07T12:38:03.426Z"
   },
   {
    "duration": 0,
    "start_time": "2022-12-07T12:38:03.518Z"
   },
   {
    "duration": 0,
    "start_time": "2022-12-07T12:38:03.519Z"
   },
   {
    "duration": 0,
    "start_time": "2022-12-07T12:38:03.520Z"
   },
   {
    "duration": 1,
    "start_time": "2022-12-07T12:38:03.521Z"
   },
   {
    "duration": 0,
    "start_time": "2022-12-07T12:38:03.523Z"
   },
   {
    "duration": 723,
    "start_time": "2022-12-07T12:38:17.843Z"
   },
   {
    "duration": 25,
    "start_time": "2022-12-07T12:38:18.568Z"
   },
   {
    "duration": 14,
    "start_time": "2022-12-07T12:38:18.595Z"
   },
   {
    "duration": 5,
    "start_time": "2022-12-07T12:38:18.611Z"
   },
   {
    "duration": 15,
    "start_time": "2022-12-07T12:38:18.618Z"
   },
   {
    "duration": 5,
    "start_time": "2022-12-07T12:38:18.635Z"
   },
   {
    "duration": 12,
    "start_time": "2022-12-07T12:38:18.642Z"
   },
   {
    "duration": 46,
    "start_time": "2022-12-07T12:38:18.656Z"
   },
   {
    "duration": 24,
    "start_time": "2022-12-07T12:38:18.704Z"
   },
   {
    "duration": 15,
    "start_time": "2022-12-07T12:38:18.731Z"
   },
   {
    "duration": 57,
    "start_time": "2022-12-07T12:38:18.747Z"
   },
   {
    "duration": 9,
    "start_time": "2022-12-07T12:38:18.806Z"
   },
   {
    "duration": 11,
    "start_time": "2022-12-07T12:38:18.816Z"
   },
   {
    "duration": 8,
    "start_time": "2022-12-07T12:38:18.830Z"
   },
   {
    "duration": 14,
    "start_time": "2022-12-07T12:38:18.840Z"
   },
   {
    "duration": 8,
    "start_time": "2022-12-07T12:38:18.856Z"
   },
   {
    "duration": 90,
    "start_time": "2022-12-07T12:38:18.865Z"
   },
   {
    "duration": 25,
    "start_time": "2022-12-07T12:38:18.959Z"
   },
   {
    "duration": 25,
    "start_time": "2022-12-07T12:38:18.997Z"
   },
   {
    "duration": 6,
    "start_time": "2022-12-07T12:38:19.024Z"
   },
   {
    "duration": 235,
    "start_time": "2022-12-07T12:38:19.031Z"
   },
   {
    "duration": 12,
    "start_time": "2022-12-07T12:38:19.268Z"
   },
   {
    "duration": 194,
    "start_time": "2022-12-07T12:38:19.282Z"
   },
   {
    "duration": 106,
    "start_time": "2022-12-07T12:38:19.478Z"
   },
   {
    "duration": 5,
    "start_time": "2022-12-07T12:38:19.598Z"
   },
   {
    "duration": 24,
    "start_time": "2022-12-07T12:38:19.605Z"
   },
   {
    "duration": 4,
    "start_time": "2022-12-07T12:38:19.631Z"
   },
   {
    "duration": 6,
    "start_time": "2022-12-07T12:38:19.640Z"
   },
   {
    "duration": 7,
    "start_time": "2022-12-07T12:38:19.647Z"
   },
   {
    "duration": 8,
    "start_time": "2022-12-07T12:38:19.656Z"
   },
   {
    "duration": 7,
    "start_time": "2022-12-07T12:38:19.665Z"
   },
   {
    "duration": 12,
    "start_time": "2022-12-07T12:38:19.699Z"
   },
   {
    "duration": 12,
    "start_time": "2022-12-07T12:38:19.713Z"
   },
   {
    "duration": 3,
    "start_time": "2022-12-07T12:38:19.727Z"
   },
   {
    "duration": 15,
    "start_time": "2022-12-07T12:38:19.733Z"
   },
   {
    "duration": 22,
    "start_time": "2022-12-07T12:38:19.750Z"
   },
   {
    "duration": 29,
    "start_time": "2022-12-07T12:38:19.774Z"
   },
   {
    "duration": 8,
    "start_time": "2022-12-07T12:38:19.805Z"
   },
   {
    "duration": 9,
    "start_time": "2022-12-07T12:38:19.815Z"
   },
   {
    "duration": 14,
    "start_time": "2022-12-07T12:38:19.826Z"
   },
   {
    "duration": 13,
    "start_time": "2022-12-07T12:38:19.842Z"
   },
   {
    "duration": 11,
    "start_time": "2022-12-07T12:38:19.856Z"
   },
   {
    "duration": 11,
    "start_time": "2022-12-07T12:38:19.869Z"
   },
   {
    "duration": 4,
    "start_time": "2022-12-07T12:38:19.882Z"
   },
   {
    "duration": 2,
    "start_time": "2022-12-07T12:38:19.898Z"
   },
   {
    "duration": 8,
    "start_time": "2022-12-07T12:38:19.902Z"
   },
   {
    "duration": 13,
    "start_time": "2022-12-07T12:38:19.911Z"
   },
   {
    "duration": 97,
    "start_time": "2022-12-07T12:38:19.926Z"
   },
   {
    "duration": 0,
    "start_time": "2022-12-07T12:38:20.025Z"
   },
   {
    "duration": 0,
    "start_time": "2022-12-07T12:38:20.027Z"
   },
   {
    "duration": 6,
    "start_time": "2022-12-07T12:38:56.419Z"
   },
   {
    "duration": 8,
    "start_time": "2022-12-07T12:39:09.950Z"
   },
   {
    "duration": 12,
    "start_time": "2022-12-07T12:39:26.198Z"
   },
   {
    "duration": 4,
    "start_time": "2022-12-07T12:40:38.893Z"
   },
   {
    "duration": 9,
    "start_time": "2022-12-07T12:40:40.655Z"
   },
   {
    "duration": 742,
    "start_time": "2022-12-07T12:40:54.032Z"
   },
   {
    "duration": 29,
    "start_time": "2022-12-07T12:40:54.777Z"
   },
   {
    "duration": 22,
    "start_time": "2022-12-07T12:40:54.808Z"
   },
   {
    "duration": 19,
    "start_time": "2022-12-07T12:40:54.833Z"
   },
   {
    "duration": 29,
    "start_time": "2022-12-07T12:40:54.853Z"
   },
   {
    "duration": 13,
    "start_time": "2022-12-07T12:40:54.884Z"
   },
   {
    "duration": 33,
    "start_time": "2022-12-07T12:40:54.899Z"
   },
   {
    "duration": 59,
    "start_time": "2022-12-07T12:40:54.934Z"
   },
   {
    "duration": 32,
    "start_time": "2022-12-07T12:40:54.995Z"
   },
   {
    "duration": 20,
    "start_time": "2022-12-07T12:40:55.030Z"
   },
   {
    "duration": 52,
    "start_time": "2022-12-07T12:40:55.052Z"
   },
   {
    "duration": 8,
    "start_time": "2022-12-07T12:40:55.106Z"
   },
   {
    "duration": 8,
    "start_time": "2022-12-07T12:40:55.115Z"
   },
   {
    "duration": 17,
    "start_time": "2022-12-07T12:40:55.125Z"
   },
   {
    "duration": 17,
    "start_time": "2022-12-07T12:40:55.144Z"
   },
   {
    "duration": 16,
    "start_time": "2022-12-07T12:40:55.162Z"
   },
   {
    "duration": 51,
    "start_time": "2022-12-07T12:40:55.180Z"
   },
   {
    "duration": 25,
    "start_time": "2022-12-07T12:40:55.232Z"
   },
   {
    "duration": 21,
    "start_time": "2022-12-07T12:40:55.259Z"
   },
   {
    "duration": 19,
    "start_time": "2022-12-07T12:40:55.281Z"
   },
   {
    "duration": 181,
    "start_time": "2022-12-07T12:40:55.302Z"
   },
   {
    "duration": 24,
    "start_time": "2022-12-07T12:40:55.485Z"
   },
   {
    "duration": 217,
    "start_time": "2022-12-07T12:40:55.511Z"
   },
   {
    "duration": 141,
    "start_time": "2022-12-07T12:40:55.731Z"
   },
   {
    "duration": 6,
    "start_time": "2022-12-07T12:40:55.874Z"
   },
   {
    "duration": 45,
    "start_time": "2022-12-07T12:40:55.883Z"
   },
   {
    "duration": 7,
    "start_time": "2022-12-07T12:40:55.930Z"
   },
   {
    "duration": 18,
    "start_time": "2022-12-07T12:40:55.942Z"
   },
   {
    "duration": 21,
    "start_time": "2022-12-07T12:40:55.963Z"
   },
   {
    "duration": 29,
    "start_time": "2022-12-07T12:40:55.986Z"
   },
   {
    "duration": 16,
    "start_time": "2022-12-07T12:40:56.017Z"
   },
   {
    "duration": 40,
    "start_time": "2022-12-07T12:40:56.035Z"
   },
   {
    "duration": 12,
    "start_time": "2022-12-07T12:40:56.077Z"
   },
   {
    "duration": 22,
    "start_time": "2022-12-07T12:40:56.091Z"
   },
   {
    "duration": 26,
    "start_time": "2022-12-07T12:40:56.115Z"
   },
   {
    "duration": 47,
    "start_time": "2022-12-07T12:40:56.144Z"
   },
   {
    "duration": 15,
    "start_time": "2022-12-07T12:40:56.192Z"
   },
   {
    "duration": 23,
    "start_time": "2022-12-07T12:40:56.209Z"
   },
   {
    "duration": 28,
    "start_time": "2022-12-07T12:40:56.234Z"
   },
   {
    "duration": 18,
    "start_time": "2022-12-07T12:40:56.264Z"
   },
   {
    "duration": 33,
    "start_time": "2022-12-07T12:40:56.284Z"
   },
   {
    "duration": 27,
    "start_time": "2022-12-07T12:40:56.318Z"
   },
   {
    "duration": 15,
    "start_time": "2022-12-07T12:40:56.346Z"
   },
   {
    "duration": 12,
    "start_time": "2022-12-07T12:40:56.363Z"
   },
   {
    "duration": 14,
    "start_time": "2022-12-07T12:40:56.377Z"
   },
   {
    "duration": 30,
    "start_time": "2022-12-07T12:40:56.393Z"
   },
   {
    "duration": 77,
    "start_time": "2022-12-07T12:40:56.425Z"
   },
   {
    "duration": 0,
    "start_time": "2022-12-07T12:40:56.504Z"
   },
   {
    "duration": 0,
    "start_time": "2022-12-07T12:40:56.505Z"
   },
   {
    "duration": 56,
    "start_time": "2022-12-07T12:41:21.482Z"
   },
   {
    "duration": 8,
    "start_time": "2022-12-07T12:41:27.007Z"
   },
   {
    "duration": 12,
    "start_time": "2022-12-07T12:42:01.610Z"
   },
   {
    "duration": 759,
    "start_time": "2022-12-07T12:42:27.957Z"
   },
   {
    "duration": 25,
    "start_time": "2022-12-07T12:42:28.719Z"
   },
   {
    "duration": 15,
    "start_time": "2022-12-07T12:42:28.745Z"
   },
   {
    "duration": 5,
    "start_time": "2022-12-07T12:42:28.762Z"
   },
   {
    "duration": 19,
    "start_time": "2022-12-07T12:42:28.770Z"
   },
   {
    "duration": 18,
    "start_time": "2022-12-07T12:42:28.790Z"
   },
   {
    "duration": 12,
    "start_time": "2022-12-07T12:42:28.810Z"
   },
   {
    "duration": 16,
    "start_time": "2022-12-07T12:42:28.824Z"
   },
   {
    "duration": 22,
    "start_time": "2022-12-07T12:42:28.842Z"
   },
   {
    "duration": 31,
    "start_time": "2022-12-07T12:42:28.866Z"
   },
   {
    "duration": 44,
    "start_time": "2022-12-07T12:42:28.899Z"
   },
   {
    "duration": 11,
    "start_time": "2022-12-07T12:42:28.945Z"
   },
   {
    "duration": 8,
    "start_time": "2022-12-07T12:42:28.958Z"
   },
   {
    "duration": 4,
    "start_time": "2022-12-07T12:42:28.997Z"
   },
   {
    "duration": 10,
    "start_time": "2022-12-07T12:42:29.003Z"
   },
   {
    "duration": 11,
    "start_time": "2022-12-07T12:42:29.015Z"
   },
   {
    "duration": 73,
    "start_time": "2022-12-07T12:42:29.027Z"
   },
   {
    "duration": 22,
    "start_time": "2022-12-07T12:42:29.101Z"
   },
   {
    "duration": 23,
    "start_time": "2022-12-07T12:42:29.125Z"
   },
   {
    "duration": 4,
    "start_time": "2022-12-07T12:42:29.149Z"
   },
   {
    "duration": 215,
    "start_time": "2022-12-07T12:42:29.154Z"
   },
   {
    "duration": 25,
    "start_time": "2022-12-07T12:42:29.372Z"
   },
   {
    "duration": 163,
    "start_time": "2022-12-07T12:42:29.400Z"
   },
   {
    "duration": 112,
    "start_time": "2022-12-07T12:42:29.565Z"
   },
   {
    "duration": 19,
    "start_time": "2022-12-07T12:42:29.679Z"
   },
   {
    "duration": 19,
    "start_time": "2022-12-07T12:42:29.700Z"
   },
   {
    "duration": 5,
    "start_time": "2022-12-07T12:42:29.721Z"
   },
   {
    "duration": 10,
    "start_time": "2022-12-07T12:42:29.728Z"
   },
   {
    "duration": 10,
    "start_time": "2022-12-07T12:42:29.739Z"
   },
   {
    "duration": 7,
    "start_time": "2022-12-07T12:42:29.751Z"
   },
   {
    "duration": 9,
    "start_time": "2022-12-07T12:42:29.760Z"
   },
   {
    "duration": 9,
    "start_time": "2022-12-07T12:42:29.798Z"
   },
   {
    "duration": 13,
    "start_time": "2022-12-07T12:42:29.808Z"
   },
   {
    "duration": 4,
    "start_time": "2022-12-07T12:42:29.823Z"
   },
   {
    "duration": 9,
    "start_time": "2022-12-07T12:42:29.828Z"
   },
   {
    "duration": 13,
    "start_time": "2022-12-07T12:42:29.839Z"
   },
   {
    "duration": 8,
    "start_time": "2022-12-07T12:42:29.854Z"
   },
   {
    "duration": 10,
    "start_time": "2022-12-07T12:42:29.863Z"
   },
   {
    "duration": 27,
    "start_time": "2022-12-07T12:42:29.874Z"
   },
   {
    "duration": 5,
    "start_time": "2022-12-07T12:42:29.902Z"
   },
   {
    "duration": 14,
    "start_time": "2022-12-07T12:42:29.910Z"
   },
   {
    "duration": 20,
    "start_time": "2022-12-07T12:42:29.926Z"
   },
   {
    "duration": 10,
    "start_time": "2022-12-07T12:42:29.947Z"
   },
   {
    "duration": 13,
    "start_time": "2022-12-07T12:42:29.958Z"
   },
   {
    "duration": 6,
    "start_time": "2022-12-07T12:42:29.973Z"
   },
   {
    "duration": 16,
    "start_time": "2022-12-07T12:42:29.981Z"
   },
   {
    "duration": 6,
    "start_time": "2022-12-07T12:42:29.999Z"
   },
   {
    "duration": 105,
    "start_time": "2022-12-07T12:42:30.006Z"
   },
   {
    "duration": 0,
    "start_time": "2022-12-07T12:42:30.114Z"
   },
   {
    "duration": 13,
    "start_time": "2022-12-07T12:42:53.757Z"
   },
   {
    "duration": 762,
    "start_time": "2022-12-07T12:42:59.916Z"
   },
   {
    "duration": 23,
    "start_time": "2022-12-07T12:43:00.680Z"
   },
   {
    "duration": 22,
    "start_time": "2022-12-07T12:43:00.705Z"
   },
   {
    "duration": 19,
    "start_time": "2022-12-07T12:43:00.730Z"
   },
   {
    "duration": 17,
    "start_time": "2022-12-07T12:43:00.751Z"
   },
   {
    "duration": 10,
    "start_time": "2022-12-07T12:43:00.770Z"
   },
   {
    "duration": 40,
    "start_time": "2022-12-07T12:43:00.782Z"
   },
   {
    "duration": 15,
    "start_time": "2022-12-07T12:43:00.824Z"
   },
   {
    "duration": 48,
    "start_time": "2022-12-07T12:43:00.841Z"
   },
   {
    "duration": 16,
    "start_time": "2022-12-07T12:43:00.891Z"
   },
   {
    "duration": 46,
    "start_time": "2022-12-07T12:43:00.909Z"
   },
   {
    "duration": 29,
    "start_time": "2022-12-07T12:43:00.958Z"
   },
   {
    "duration": 30,
    "start_time": "2022-12-07T12:43:00.988Z"
   },
   {
    "duration": 37,
    "start_time": "2022-12-07T12:43:01.019Z"
   },
   {
    "duration": 24,
    "start_time": "2022-12-07T12:43:01.058Z"
   },
   {
    "duration": 43,
    "start_time": "2022-12-07T12:43:01.083Z"
   },
   {
    "duration": 80,
    "start_time": "2022-12-07T12:43:01.127Z"
   },
   {
    "duration": 23,
    "start_time": "2022-12-07T12:43:01.208Z"
   },
   {
    "duration": 46,
    "start_time": "2022-12-07T12:43:01.233Z"
   },
   {
    "duration": 18,
    "start_time": "2022-12-07T12:43:01.280Z"
   },
   {
    "duration": 180,
    "start_time": "2022-12-07T12:43:01.300Z"
   },
   {
    "duration": 19,
    "start_time": "2022-12-07T12:43:01.482Z"
   },
   {
    "duration": 163,
    "start_time": "2022-12-07T12:43:01.502Z"
   },
   {
    "duration": 146,
    "start_time": "2022-12-07T12:43:01.667Z"
   },
   {
    "duration": 7,
    "start_time": "2022-12-07T12:43:01.815Z"
   },
   {
    "duration": 22,
    "start_time": "2022-12-07T12:43:01.824Z"
   },
   {
    "duration": 5,
    "start_time": "2022-12-07T12:43:01.847Z"
   },
   {
    "duration": 8,
    "start_time": "2022-12-07T12:43:01.855Z"
   },
   {
    "duration": 16,
    "start_time": "2022-12-07T12:43:01.865Z"
   },
   {
    "duration": 5,
    "start_time": "2022-12-07T12:43:01.898Z"
   },
   {
    "duration": 9,
    "start_time": "2022-12-07T12:43:01.905Z"
   },
   {
    "duration": 14,
    "start_time": "2022-12-07T12:43:01.915Z"
   },
   {
    "duration": 10,
    "start_time": "2022-12-07T12:43:01.931Z"
   },
   {
    "duration": 21,
    "start_time": "2022-12-07T12:43:01.943Z"
   },
   {
    "duration": 23,
    "start_time": "2022-12-07T12:43:01.966Z"
   },
   {
    "duration": 13,
    "start_time": "2022-12-07T12:43:01.990Z"
   },
   {
    "duration": 11,
    "start_time": "2022-12-07T12:43:02.004Z"
   },
   {
    "duration": 9,
    "start_time": "2022-12-07T12:43:02.016Z"
   },
   {
    "duration": 38,
    "start_time": "2022-12-07T12:43:02.027Z"
   },
   {
    "duration": 8,
    "start_time": "2022-12-07T12:43:02.066Z"
   },
   {
    "duration": 18,
    "start_time": "2022-12-07T12:43:02.075Z"
   },
   {
    "duration": 11,
    "start_time": "2022-12-07T12:43:02.095Z"
   },
   {
    "duration": 9,
    "start_time": "2022-12-07T12:43:02.108Z"
   },
   {
    "duration": 13,
    "start_time": "2022-12-07T12:43:02.119Z"
   },
   {
    "duration": 14,
    "start_time": "2022-12-07T12:43:02.134Z"
   },
   {
    "duration": 12,
    "start_time": "2022-12-07T12:43:02.150Z"
   },
   {
    "duration": 13,
    "start_time": "2022-12-07T12:43:02.164Z"
   },
   {
    "duration": 82,
    "start_time": "2022-12-07T12:43:02.179Z"
   },
   {
    "duration": 0,
    "start_time": "2022-12-07T12:43:02.262Z"
   },
   {
    "duration": 770,
    "start_time": "2022-12-07T12:43:20.311Z"
   },
   {
    "duration": 23,
    "start_time": "2022-12-07T12:43:21.083Z"
   },
   {
    "duration": 16,
    "start_time": "2022-12-07T12:43:21.107Z"
   },
   {
    "duration": 5,
    "start_time": "2022-12-07T12:43:21.125Z"
   },
   {
    "duration": 13,
    "start_time": "2022-12-07T12:43:21.132Z"
   },
   {
    "duration": 5,
    "start_time": "2022-12-07T12:43:21.147Z"
   },
   {
    "duration": 44,
    "start_time": "2022-12-07T12:43:21.153Z"
   },
   {
    "duration": 13,
    "start_time": "2022-12-07T12:43:21.199Z"
   },
   {
    "duration": 27,
    "start_time": "2022-12-07T12:43:21.214Z"
   },
   {
    "duration": 17,
    "start_time": "2022-12-07T12:43:21.243Z"
   },
   {
    "duration": 60,
    "start_time": "2022-12-07T12:43:21.262Z"
   },
   {
    "duration": 7,
    "start_time": "2022-12-07T12:43:21.324Z"
   },
   {
    "duration": 9,
    "start_time": "2022-12-07T12:43:21.333Z"
   },
   {
    "duration": 7,
    "start_time": "2022-12-07T12:43:21.345Z"
   },
   {
    "duration": 14,
    "start_time": "2022-12-07T12:43:21.353Z"
   },
   {
    "duration": 19,
    "start_time": "2022-12-07T12:43:21.369Z"
   },
   {
    "duration": 62,
    "start_time": "2022-12-07T12:43:21.398Z"
   },
   {
    "duration": 22,
    "start_time": "2022-12-07T12:43:21.462Z"
   },
   {
    "duration": 23,
    "start_time": "2022-12-07T12:43:21.498Z"
   },
   {
    "duration": 4,
    "start_time": "2022-12-07T12:43:21.523Z"
   },
   {
    "duration": 204,
    "start_time": "2022-12-07T12:43:21.528Z"
   },
   {
    "duration": 10,
    "start_time": "2022-12-07T12:43:21.734Z"
   },
   {
    "duration": 163,
    "start_time": "2022-12-07T12:43:21.746Z"
   },
   {
    "duration": 116,
    "start_time": "2022-12-07T12:43:21.911Z"
   },
   {
    "duration": 5,
    "start_time": "2022-12-07T12:43:22.029Z"
   },
   {
    "duration": 23,
    "start_time": "2022-12-07T12:43:22.036Z"
   },
   {
    "duration": 5,
    "start_time": "2022-12-07T12:43:22.061Z"
   },
   {
    "duration": 31,
    "start_time": "2022-12-07T12:43:22.068Z"
   },
   {
    "duration": 7,
    "start_time": "2022-12-07T12:43:22.101Z"
   },
   {
    "duration": 7,
    "start_time": "2022-12-07T12:43:22.110Z"
   },
   {
    "duration": 9,
    "start_time": "2022-12-07T12:43:22.120Z"
   },
   {
    "duration": 13,
    "start_time": "2022-12-07T12:43:22.130Z"
   },
   {
    "duration": 10,
    "start_time": "2022-12-07T12:43:22.145Z"
   },
   {
    "duration": 4,
    "start_time": "2022-12-07T12:43:22.157Z"
   },
   {
    "duration": 34,
    "start_time": "2022-12-07T12:43:22.163Z"
   },
   {
    "duration": 13,
    "start_time": "2022-12-07T12:43:22.199Z"
   },
   {
    "duration": 11,
    "start_time": "2022-12-07T12:43:22.214Z"
   },
   {
    "duration": 10,
    "start_time": "2022-12-07T12:43:22.227Z"
   },
   {
    "duration": 9,
    "start_time": "2022-12-07T12:43:22.239Z"
   },
   {
    "duration": 6,
    "start_time": "2022-12-07T12:43:22.249Z"
   },
   {
    "duration": 7,
    "start_time": "2022-12-07T12:43:22.259Z"
   },
   {
    "duration": 33,
    "start_time": "2022-12-07T12:43:22.268Z"
   },
   {
    "duration": 6,
    "start_time": "2022-12-07T12:43:22.302Z"
   },
   {
    "duration": 17,
    "start_time": "2022-12-07T12:43:22.309Z"
   },
   {
    "duration": 22,
    "start_time": "2022-12-07T12:43:22.328Z"
   },
   {
    "duration": 19,
    "start_time": "2022-12-07T12:43:22.352Z"
   },
   {
    "duration": 24,
    "start_time": "2022-12-07T12:43:22.372Z"
   },
   {
    "duration": 7,
    "start_time": "2022-12-07T12:43:22.398Z"
   },
   {
    "duration": 19,
    "start_time": "2022-12-07T12:43:22.407Z"
   },
   {
    "duration": 17,
    "start_time": "2022-12-07T12:43:41.178Z"
   },
   {
    "duration": 8,
    "start_time": "2022-12-07T12:44:04.903Z"
   },
   {
    "duration": 723,
    "start_time": "2022-12-07T12:44:41.250Z"
   },
   {
    "duration": 36,
    "start_time": "2022-12-07T12:44:41.976Z"
   },
   {
    "duration": 21,
    "start_time": "2022-12-07T12:44:42.014Z"
   },
   {
    "duration": 7,
    "start_time": "2022-12-07T12:44:42.038Z"
   },
   {
    "duration": 19,
    "start_time": "2022-12-07T12:44:42.047Z"
   },
   {
    "duration": 6,
    "start_time": "2022-12-07T12:44:42.068Z"
   },
   {
    "duration": 12,
    "start_time": "2022-12-07T12:44:42.098Z"
   },
   {
    "duration": 14,
    "start_time": "2022-12-07T12:44:42.112Z"
   },
   {
    "duration": 26,
    "start_time": "2022-12-07T12:44:42.128Z"
   },
   {
    "duration": 40,
    "start_time": "2022-12-07T12:44:42.157Z"
   },
   {
    "duration": 45,
    "start_time": "2022-12-07T12:44:42.199Z"
   },
   {
    "duration": 9,
    "start_time": "2022-12-07T12:44:42.246Z"
   },
   {
    "duration": 11,
    "start_time": "2022-12-07T12:44:42.256Z"
   },
   {
    "duration": 5,
    "start_time": "2022-12-07T12:44:42.269Z"
   },
   {
    "duration": 28,
    "start_time": "2022-12-07T12:44:42.275Z"
   },
   {
    "duration": 11,
    "start_time": "2022-12-07T12:44:42.304Z"
   },
   {
    "duration": 81,
    "start_time": "2022-12-07T12:44:42.317Z"
   },
   {
    "duration": 27,
    "start_time": "2022-12-07T12:44:42.400Z"
   },
   {
    "duration": 22,
    "start_time": "2022-12-07T12:44:42.428Z"
   },
   {
    "duration": 10,
    "start_time": "2022-12-07T12:44:42.452Z"
   },
   {
    "duration": 201,
    "start_time": "2022-12-07T12:44:42.463Z"
   },
   {
    "duration": 10,
    "start_time": "2022-12-07T12:44:42.665Z"
   },
   {
    "duration": 157,
    "start_time": "2022-12-07T12:44:42.677Z"
   },
   {
    "duration": 118,
    "start_time": "2022-12-07T12:44:42.836Z"
   },
   {
    "duration": 5,
    "start_time": "2022-12-07T12:44:42.956Z"
   },
   {
    "duration": 22,
    "start_time": "2022-12-07T12:44:42.962Z"
   },
   {
    "duration": 6,
    "start_time": "2022-12-07T12:44:42.998Z"
   },
   {
    "duration": 8,
    "start_time": "2022-12-07T12:44:43.008Z"
   },
   {
    "duration": 10,
    "start_time": "2022-12-07T12:44:43.018Z"
   },
   {
    "duration": 10,
    "start_time": "2022-12-07T12:44:43.029Z"
   },
   {
    "duration": 13,
    "start_time": "2022-12-07T12:44:43.041Z"
   },
   {
    "duration": 17,
    "start_time": "2022-12-07T12:44:43.056Z"
   },
   {
    "duration": 29,
    "start_time": "2022-12-07T12:44:43.075Z"
   },
   {
    "duration": 5,
    "start_time": "2022-12-07T12:44:43.105Z"
   },
   {
    "duration": 9,
    "start_time": "2022-12-07T12:44:43.112Z"
   },
   {
    "duration": 11,
    "start_time": "2022-12-07T12:44:43.123Z"
   },
   {
    "duration": 8,
    "start_time": "2022-12-07T12:44:43.136Z"
   },
   {
    "duration": 7,
    "start_time": "2022-12-07T12:44:43.145Z"
   },
   {
    "duration": 6,
    "start_time": "2022-12-07T12:44:43.154Z"
   },
   {
    "duration": 7,
    "start_time": "2022-12-07T12:44:43.162Z"
   },
   {
    "duration": 30,
    "start_time": "2022-12-07T12:44:43.171Z"
   },
   {
    "duration": 14,
    "start_time": "2022-12-07T12:44:43.203Z"
   },
   {
    "duration": 10,
    "start_time": "2022-12-07T12:44:43.219Z"
   },
   {
    "duration": 14,
    "start_time": "2022-12-07T12:44:43.231Z"
   },
   {
    "duration": 4,
    "start_time": "2022-12-07T12:44:43.247Z"
   },
   {
    "duration": 14,
    "start_time": "2022-12-07T12:44:43.253Z"
   },
   {
    "duration": 10,
    "start_time": "2022-12-07T12:44:43.269Z"
   },
   {
    "duration": 33,
    "start_time": "2022-12-07T12:44:43.281Z"
   },
   {
    "duration": 8,
    "start_time": "2022-12-07T12:44:43.316Z"
   },
   {
    "duration": 4,
    "start_time": "2022-12-07T12:47:47.159Z"
   },
   {
    "duration": 7,
    "start_time": "2022-12-07T12:47:48.399Z"
   },
   {
    "duration": 9,
    "start_time": "2022-12-07T12:47:49.143Z"
   },
   {
    "duration": 22,
    "start_time": "2022-12-07T12:47:50.007Z"
   },
   {
    "duration": 9,
    "start_time": "2022-12-07T12:47:52.279Z"
   },
   {
    "duration": 838,
    "start_time": "2022-12-07T12:48:06.702Z"
   },
   {
    "duration": 23,
    "start_time": "2022-12-07T12:48:07.542Z"
   },
   {
    "duration": 16,
    "start_time": "2022-12-07T12:48:07.567Z"
   },
   {
    "duration": 15,
    "start_time": "2022-12-07T12:48:07.586Z"
   },
   {
    "duration": 19,
    "start_time": "2022-12-07T12:48:07.603Z"
   },
   {
    "duration": 7,
    "start_time": "2022-12-07T12:48:07.624Z"
   },
   {
    "duration": 30,
    "start_time": "2022-12-07T12:48:07.633Z"
   },
   {
    "duration": 14,
    "start_time": "2022-12-07T12:48:07.665Z"
   },
   {
    "duration": 24,
    "start_time": "2022-12-07T12:48:07.682Z"
   },
   {
    "duration": 15,
    "start_time": "2022-12-07T12:48:07.709Z"
   },
   {
    "duration": 52,
    "start_time": "2022-12-07T12:48:07.726Z"
   },
   {
    "duration": 23,
    "start_time": "2022-12-07T12:48:07.780Z"
   },
   {
    "duration": 12,
    "start_time": "2022-12-07T12:48:07.805Z"
   },
   {
    "duration": 6,
    "start_time": "2022-12-07T12:48:07.819Z"
   },
   {
    "duration": 13,
    "start_time": "2022-12-07T12:48:07.827Z"
   },
   {
    "duration": 12,
    "start_time": "2022-12-07T12:48:07.842Z"
   },
   {
    "duration": 72,
    "start_time": "2022-12-07T12:48:07.856Z"
   },
   {
    "duration": 28,
    "start_time": "2022-12-07T12:48:07.930Z"
   },
   {
    "duration": 47,
    "start_time": "2022-12-07T12:48:07.960Z"
   },
   {
    "duration": 4,
    "start_time": "2022-12-07T12:48:08.010Z"
   },
   {
    "duration": 200,
    "start_time": "2022-12-07T12:48:08.016Z"
   },
   {
    "duration": 15,
    "start_time": "2022-12-07T12:48:08.218Z"
   },
   {
    "duration": 275,
    "start_time": "2022-12-07T12:48:08.235Z"
   },
   {
    "duration": 166,
    "start_time": "2022-12-07T12:48:08.512Z"
   },
   {
    "duration": 17,
    "start_time": "2022-12-07T12:48:08.680Z"
   },
   {
    "duration": 29,
    "start_time": "2022-12-07T12:48:08.700Z"
   },
   {
    "duration": 6,
    "start_time": "2022-12-07T12:48:08.731Z"
   },
   {
    "duration": 9,
    "start_time": "2022-12-07T12:48:08.742Z"
   },
   {
    "duration": 7,
    "start_time": "2022-12-07T12:48:08.753Z"
   },
   {
    "duration": 36,
    "start_time": "2022-12-07T12:48:08.763Z"
   },
   {
    "duration": 19,
    "start_time": "2022-12-07T12:48:08.800Z"
   },
   {
    "duration": 20,
    "start_time": "2022-12-07T12:48:08.821Z"
   },
   {
    "duration": 17,
    "start_time": "2022-12-07T12:48:08.843Z"
   },
   {
    "duration": 13,
    "start_time": "2022-12-07T12:48:08.862Z"
   },
   {
    "duration": 34,
    "start_time": "2022-12-07T12:48:08.877Z"
   },
   {
    "duration": 38,
    "start_time": "2022-12-07T12:48:08.913Z"
   },
   {
    "duration": 23,
    "start_time": "2022-12-07T12:48:08.954Z"
   },
   {
    "duration": 22,
    "start_time": "2022-12-07T12:48:08.979Z"
   },
   {
    "duration": 13,
    "start_time": "2022-12-07T12:48:09.003Z"
   },
   {
    "duration": 24,
    "start_time": "2022-12-07T12:48:09.018Z"
   },
   {
    "duration": 31,
    "start_time": "2022-12-07T12:48:09.043Z"
   },
   {
    "duration": 32,
    "start_time": "2022-12-07T12:48:09.075Z"
   },
   {
    "duration": 38,
    "start_time": "2022-12-07T12:48:09.109Z"
   },
   {
    "duration": 30,
    "start_time": "2022-12-07T12:48:09.149Z"
   },
   {
    "duration": 29,
    "start_time": "2022-12-07T12:48:09.181Z"
   },
   {
    "duration": 29,
    "start_time": "2022-12-07T12:48:09.212Z"
   },
   {
    "duration": 31,
    "start_time": "2022-12-07T12:48:09.243Z"
   },
   {
    "duration": 39,
    "start_time": "2022-12-07T12:48:09.276Z"
   },
   {
    "duration": 18,
    "start_time": "2022-12-07T12:48:09.317Z"
   },
   {
    "duration": 739,
    "start_time": "2022-12-07T12:48:49.266Z"
   },
   {
    "duration": 34,
    "start_time": "2022-12-07T12:48:50.007Z"
   },
   {
    "duration": 38,
    "start_time": "2022-12-07T12:48:50.043Z"
   },
   {
    "duration": 8,
    "start_time": "2022-12-07T12:48:50.084Z"
   },
   {
    "duration": 42,
    "start_time": "2022-12-07T12:48:50.094Z"
   },
   {
    "duration": 20,
    "start_time": "2022-12-07T12:48:50.137Z"
   },
   {
    "duration": 38,
    "start_time": "2022-12-07T12:48:50.158Z"
   },
   {
    "duration": 23,
    "start_time": "2022-12-07T12:48:50.198Z"
   },
   {
    "duration": 24,
    "start_time": "2022-12-07T12:48:50.223Z"
   },
   {
    "duration": 26,
    "start_time": "2022-12-07T12:48:50.249Z"
   },
   {
    "duration": 33,
    "start_time": "2022-12-07T12:48:50.277Z"
   },
   {
    "duration": 8,
    "start_time": "2022-12-07T12:48:50.312Z"
   },
   {
    "duration": 5,
    "start_time": "2022-12-07T12:48:50.321Z"
   },
   {
    "duration": 11,
    "start_time": "2022-12-07T12:48:50.327Z"
   },
   {
    "duration": 33,
    "start_time": "2022-12-07T12:48:50.339Z"
   },
   {
    "duration": 9,
    "start_time": "2022-12-07T12:48:50.374Z"
   },
   {
    "duration": 64,
    "start_time": "2022-12-07T12:48:50.385Z"
   },
   {
    "duration": 21,
    "start_time": "2022-12-07T12:48:50.450Z"
   },
   {
    "duration": 36,
    "start_time": "2022-12-07T12:48:50.473Z"
   },
   {
    "duration": 4,
    "start_time": "2022-12-07T12:48:50.511Z"
   },
   {
    "duration": 189,
    "start_time": "2022-12-07T12:48:50.516Z"
   },
   {
    "duration": 10,
    "start_time": "2022-12-07T12:48:50.706Z"
   },
   {
    "duration": 164,
    "start_time": "2022-12-07T12:48:50.718Z"
   },
   {
    "duration": 122,
    "start_time": "2022-12-07T12:48:50.884Z"
   },
   {
    "duration": 5,
    "start_time": "2022-12-07T12:48:51.008Z"
   },
   {
    "duration": 20,
    "start_time": "2022-12-07T12:48:51.015Z"
   },
   {
    "duration": 5,
    "start_time": "2022-12-07T12:48:51.036Z"
   },
   {
    "duration": 7,
    "start_time": "2022-12-07T12:48:51.044Z"
   },
   {
    "duration": 10,
    "start_time": "2022-12-07T12:48:51.053Z"
   },
   {
    "duration": 34,
    "start_time": "2022-12-07T12:48:51.065Z"
   },
   {
    "duration": 9,
    "start_time": "2022-12-07T12:48:51.101Z"
   },
   {
    "duration": 16,
    "start_time": "2022-12-07T12:48:51.112Z"
   },
   {
    "duration": 11,
    "start_time": "2022-12-07T12:48:51.130Z"
   },
   {
    "duration": 8,
    "start_time": "2022-12-07T12:48:51.143Z"
   },
   {
    "duration": 11,
    "start_time": "2022-12-07T12:48:51.152Z"
   },
   {
    "duration": 34,
    "start_time": "2022-12-07T12:48:51.165Z"
   },
   {
    "duration": 25,
    "start_time": "2022-12-07T12:48:51.200Z"
   },
   {
    "duration": 13,
    "start_time": "2022-12-07T12:48:51.227Z"
   },
   {
    "duration": 8,
    "start_time": "2022-12-07T12:48:51.242Z"
   },
   {
    "duration": 22,
    "start_time": "2022-12-07T12:48:51.251Z"
   },
   {
    "duration": 19,
    "start_time": "2022-12-07T12:48:51.274Z"
   },
   {
    "duration": 16,
    "start_time": "2022-12-07T12:48:51.294Z"
   },
   {
    "duration": 8,
    "start_time": "2022-12-07T12:48:51.311Z"
   },
   {
    "duration": 14,
    "start_time": "2022-12-07T12:48:51.320Z"
   },
   {
    "duration": 51,
    "start_time": "2022-12-07T12:48:51.335Z"
   },
   {
    "duration": 0,
    "start_time": "2022-12-07T12:48:51.388Z"
   },
   {
    "duration": 0,
    "start_time": "2022-12-07T12:48:51.389Z"
   },
   {
    "duration": 0,
    "start_time": "2022-12-07T12:48:51.391Z"
   },
   {
    "duration": 0,
    "start_time": "2022-12-07T12:48:51.392Z"
   },
   {
    "duration": 761,
    "start_time": "2022-12-07T12:49:06.370Z"
   },
   {
    "duration": 29,
    "start_time": "2022-12-07T12:49:07.133Z"
   },
   {
    "duration": 21,
    "start_time": "2022-12-07T12:49:07.164Z"
   },
   {
    "duration": 5,
    "start_time": "2022-12-07T12:49:07.187Z"
   },
   {
    "duration": 14,
    "start_time": "2022-12-07T12:49:07.194Z"
   },
   {
    "duration": 6,
    "start_time": "2022-12-07T12:49:07.210Z"
   },
   {
    "duration": 12,
    "start_time": "2022-12-07T12:49:07.217Z"
   },
   {
    "duration": 14,
    "start_time": "2022-12-07T12:49:07.231Z"
   },
   {
    "duration": 23,
    "start_time": "2022-12-07T12:49:07.247Z"
   },
   {
    "duration": 36,
    "start_time": "2022-12-07T12:49:07.273Z"
   },
   {
    "duration": 34,
    "start_time": "2022-12-07T12:49:07.311Z"
   },
   {
    "duration": 8,
    "start_time": "2022-12-07T12:49:07.347Z"
   },
   {
    "duration": 8,
    "start_time": "2022-12-07T12:49:07.356Z"
   },
   {
    "duration": 5,
    "start_time": "2022-12-07T12:49:07.365Z"
   },
   {
    "duration": 7,
    "start_time": "2022-12-07T12:49:07.398Z"
   },
   {
    "duration": 10,
    "start_time": "2022-12-07T12:49:07.406Z"
   },
   {
    "duration": 64,
    "start_time": "2022-12-07T12:49:07.417Z"
   },
   {
    "duration": 35,
    "start_time": "2022-12-07T12:49:07.483Z"
   },
   {
    "duration": 21,
    "start_time": "2022-12-07T12:49:07.519Z"
   },
   {
    "duration": 3,
    "start_time": "2022-12-07T12:49:07.542Z"
   },
   {
    "duration": 222,
    "start_time": "2022-12-07T12:49:07.547Z"
   },
   {
    "duration": 14,
    "start_time": "2022-12-07T12:49:07.770Z"
   },
   {
    "duration": 179,
    "start_time": "2022-12-07T12:49:07.786Z"
   },
   {
    "duration": 145,
    "start_time": "2022-12-07T12:49:07.967Z"
   },
   {
    "duration": 6,
    "start_time": "2022-12-07T12:49:08.114Z"
   },
   {
    "duration": 19,
    "start_time": "2022-12-07T12:49:08.121Z"
   },
   {
    "duration": 5,
    "start_time": "2022-12-07T12:49:08.142Z"
   },
   {
    "duration": 9,
    "start_time": "2022-12-07T12:49:08.152Z"
   },
   {
    "duration": 7,
    "start_time": "2022-12-07T12:49:08.163Z"
   },
   {
    "duration": 6,
    "start_time": "2022-12-07T12:49:08.198Z"
   },
   {
    "duration": 15,
    "start_time": "2022-12-07T12:49:08.205Z"
   },
   {
    "duration": 15,
    "start_time": "2022-12-07T12:49:08.222Z"
   },
   {
    "duration": 9,
    "start_time": "2022-12-07T12:49:08.239Z"
   },
   {
    "duration": 7,
    "start_time": "2022-12-07T12:49:08.250Z"
   },
   {
    "duration": 10,
    "start_time": "2022-12-07T12:49:08.259Z"
   },
   {
    "duration": 12,
    "start_time": "2022-12-07T12:49:08.270Z"
   },
   {
    "duration": 17,
    "start_time": "2022-12-07T12:49:08.283Z"
   },
   {
    "duration": 7,
    "start_time": "2022-12-07T12:49:08.301Z"
   },
   {
    "duration": 6,
    "start_time": "2022-12-07T12:49:08.310Z"
   },
   {
    "duration": 5,
    "start_time": "2022-12-07T12:49:08.318Z"
   },
   {
    "duration": 8,
    "start_time": "2022-12-07T12:49:08.325Z"
   },
   {
    "duration": 7,
    "start_time": "2022-12-07T12:49:08.335Z"
   },
   {
    "duration": 8,
    "start_time": "2022-12-07T12:49:08.343Z"
   },
   {
    "duration": 46,
    "start_time": "2022-12-07T12:49:08.352Z"
   },
   {
    "duration": 4,
    "start_time": "2022-12-07T12:49:08.400Z"
   },
   {
    "duration": 11,
    "start_time": "2022-12-07T12:49:08.405Z"
   },
   {
    "duration": 10,
    "start_time": "2022-12-07T12:49:08.417Z"
   },
   {
    "duration": 22,
    "start_time": "2022-12-07T12:49:08.428Z"
   },
   {
    "duration": 9,
    "start_time": "2022-12-07T12:49:08.452Z"
   },
   {
    "duration": 57,
    "start_time": "2022-12-07T13:04:04.786Z"
   },
   {
    "duration": 51,
    "start_time": "2022-12-07T13:04:46.489Z"
   },
   {
    "duration": 49,
    "start_time": "2022-12-07T13:06:50.455Z"
   },
   {
    "duration": 53,
    "start_time": "2022-12-07T13:07:03.272Z"
   },
   {
    "duration": 63,
    "start_time": "2022-12-07T13:07:58.107Z"
   },
   {
    "duration": 3,
    "start_time": "2022-12-07T13:08:09.424Z"
   },
   {
    "duration": 5,
    "start_time": "2022-12-07T13:08:39.307Z"
   },
   {
    "duration": 9,
    "start_time": "2022-12-07T13:08:50.803Z"
   },
   {
    "duration": 743,
    "start_time": "2022-12-07T13:10:09.505Z"
   },
   {
    "duration": 21,
    "start_time": "2022-12-07T13:10:10.250Z"
   },
   {
    "duration": 33,
    "start_time": "2022-12-07T13:10:10.274Z"
   },
   {
    "duration": 50,
    "start_time": "2022-12-07T13:10:10.309Z"
   },
   {
    "duration": 30,
    "start_time": "2022-12-07T13:10:10.362Z"
   },
   {
    "duration": 33,
    "start_time": "2022-12-07T13:10:10.394Z"
   },
   {
    "duration": 55,
    "start_time": "2022-12-07T13:10:10.430Z"
   },
   {
    "duration": 30,
    "start_time": "2022-12-07T13:10:10.487Z"
   },
   {
    "duration": 33,
    "start_time": "2022-12-07T13:10:10.519Z"
   },
   {
    "duration": 24,
    "start_time": "2022-12-07T13:10:10.554Z"
   },
   {
    "duration": 51,
    "start_time": "2022-12-07T13:10:10.580Z"
   },
   {
    "duration": 27,
    "start_time": "2022-12-07T13:10:10.633Z"
   },
   {
    "duration": 13,
    "start_time": "2022-12-07T13:10:10.661Z"
   },
   {
    "duration": 37,
    "start_time": "2022-12-07T13:10:10.677Z"
   },
   {
    "duration": 54,
    "start_time": "2022-12-07T13:10:10.716Z"
   },
   {
    "duration": 15,
    "start_time": "2022-12-07T13:10:10.771Z"
   },
   {
    "duration": 62,
    "start_time": "2022-12-07T13:10:10.788Z"
   },
   {
    "duration": 19,
    "start_time": "2022-12-07T13:10:10.852Z"
   },
   {
    "duration": 29,
    "start_time": "2022-12-07T13:10:10.872Z"
   },
   {
    "duration": 20,
    "start_time": "2022-12-07T13:10:10.903Z"
   },
   {
    "duration": 181,
    "start_time": "2022-12-07T13:10:10.924Z"
   },
   {
    "duration": 10,
    "start_time": "2022-12-07T13:10:11.107Z"
   },
   {
    "duration": 157,
    "start_time": "2022-12-07T13:10:11.118Z"
   },
   {
    "duration": 112,
    "start_time": "2022-12-07T13:10:11.277Z"
   },
   {
    "duration": 6,
    "start_time": "2022-12-07T13:10:11.397Z"
   },
   {
    "duration": 32,
    "start_time": "2022-12-07T13:10:11.404Z"
   },
   {
    "duration": 15,
    "start_time": "2022-12-07T13:10:11.437Z"
   },
   {
    "duration": 24,
    "start_time": "2022-12-07T13:10:11.453Z"
   },
   {
    "duration": 29,
    "start_time": "2022-12-07T13:10:11.478Z"
   },
   {
    "duration": 32,
    "start_time": "2022-12-07T13:10:11.509Z"
   },
   {
    "duration": 21,
    "start_time": "2022-12-07T13:10:11.542Z"
   },
   {
    "duration": 29,
    "start_time": "2022-12-07T13:10:11.564Z"
   },
   {
    "duration": 26,
    "start_time": "2022-12-07T13:10:11.595Z"
   },
   {
    "duration": 5,
    "start_time": "2022-12-07T13:10:11.622Z"
   },
   {
    "duration": 29,
    "start_time": "2022-12-07T13:10:11.629Z"
   },
   {
    "duration": 21,
    "start_time": "2022-12-07T13:10:11.660Z"
   },
   {
    "duration": 29,
    "start_time": "2022-12-07T13:10:11.682Z"
   },
   {
    "duration": 33,
    "start_time": "2022-12-07T13:10:11.712Z"
   },
   {
    "duration": 11,
    "start_time": "2022-12-07T13:10:11.746Z"
   },
   {
    "duration": 35,
    "start_time": "2022-12-07T13:10:11.758Z"
   },
   {
    "duration": 44,
    "start_time": "2022-12-07T13:10:11.799Z"
   },
   {
    "duration": 30,
    "start_time": "2022-12-07T13:10:11.844Z"
   },
   {
    "duration": 37,
    "start_time": "2022-12-07T13:10:11.875Z"
   },
   {
    "duration": 41,
    "start_time": "2022-12-07T13:10:11.913Z"
   },
   {
    "duration": 34,
    "start_time": "2022-12-07T13:10:11.955Z"
   },
   {
    "duration": 19,
    "start_time": "2022-12-07T13:10:11.991Z"
   },
   {
    "duration": 23,
    "start_time": "2022-12-07T13:10:12.011Z"
   },
   {
    "duration": 58,
    "start_time": "2022-12-07T13:10:12.035Z"
   },
   {
    "duration": 42,
    "start_time": "2022-12-07T13:10:12.094Z"
   },
   {
    "duration": 35,
    "start_time": "2022-12-07T13:10:12.137Z"
   },
   {
    "duration": 49,
    "start_time": "2022-12-07T13:10:12.174Z"
   },
   {
    "duration": 41,
    "start_time": "2022-12-07T13:10:12.224Z"
   },
   {
    "duration": 3,
    "start_time": "2022-12-07T13:10:52.330Z"
   },
   {
    "duration": 6,
    "start_time": "2022-12-07T13:10:53.379Z"
   },
   {
    "duration": 8,
    "start_time": "2022-12-07T13:10:53.867Z"
   },
   {
    "duration": 19,
    "start_time": "2022-12-07T13:10:54.323Z"
   },
   {
    "duration": 9,
    "start_time": "2022-12-07T13:10:55.859Z"
   },
   {
    "duration": 7,
    "start_time": "2022-12-07T13:10:58.779Z"
   },
   {
    "duration": 8,
    "start_time": "2022-12-07T13:10:59.404Z"
   },
   {
    "duration": 19,
    "start_time": "2022-12-07T13:11:15.156Z"
   },
   {
    "duration": 4,
    "start_time": "2022-12-07T13:12:43.657Z"
   },
   {
    "duration": 4,
    "start_time": "2022-12-07T13:13:38.221Z"
   },
   {
    "duration": 8,
    "start_time": "2022-12-07T13:13:59.682Z"
   },
   {
    "duration": 26,
    "start_time": "2022-12-07T13:14:36.940Z"
   },
   {
    "duration": 19,
    "start_time": "2022-12-07T13:14:47.717Z"
   },
   {
    "duration": 750,
    "start_time": "2022-12-07T13:39:55.772Z"
   },
   {
    "duration": 23,
    "start_time": "2022-12-07T13:39:56.524Z"
   },
   {
    "duration": 15,
    "start_time": "2022-12-07T13:39:56.549Z"
   },
   {
    "duration": 5,
    "start_time": "2022-12-07T13:39:56.566Z"
   },
   {
    "duration": 14,
    "start_time": "2022-12-07T13:39:56.573Z"
   },
   {
    "duration": 5,
    "start_time": "2022-12-07T13:39:56.588Z"
   },
   {
    "duration": 34,
    "start_time": "2022-12-07T13:39:56.595Z"
   },
   {
    "duration": 14,
    "start_time": "2022-12-07T13:39:56.630Z"
   },
   {
    "duration": 23,
    "start_time": "2022-12-07T13:39:56.645Z"
   },
   {
    "duration": 16,
    "start_time": "2022-12-07T13:39:56.671Z"
   },
   {
    "duration": 37,
    "start_time": "2022-12-07T13:39:56.688Z"
   },
   {
    "duration": 7,
    "start_time": "2022-12-07T13:39:56.727Z"
   },
   {
    "duration": 8,
    "start_time": "2022-12-07T13:39:56.735Z"
   },
   {
    "duration": 9,
    "start_time": "2022-12-07T13:39:56.745Z"
   },
   {
    "duration": 10,
    "start_time": "2022-12-07T13:39:56.756Z"
   },
   {
    "duration": 7,
    "start_time": "2022-12-07T13:39:56.768Z"
   },
   {
    "duration": 78,
    "start_time": "2022-12-07T13:39:56.777Z"
   },
   {
    "duration": 20,
    "start_time": "2022-12-07T13:39:56.856Z"
   },
   {
    "duration": 40,
    "start_time": "2022-12-07T13:39:56.878Z"
   },
   {
    "duration": 3,
    "start_time": "2022-12-07T13:39:56.920Z"
   },
   {
    "duration": 204,
    "start_time": "2022-12-07T13:39:56.925Z"
   },
   {
    "duration": 10,
    "start_time": "2022-12-07T13:39:57.132Z"
   },
   {
    "duration": 170,
    "start_time": "2022-12-07T13:39:57.144Z"
   },
   {
    "duration": 48,
    "start_time": "2022-12-07T13:39:57.316Z"
   },
   {
    "duration": 0,
    "start_time": "2022-12-07T13:39:57.414Z"
   },
   {
    "duration": 0,
    "start_time": "2022-12-07T13:39:57.415Z"
   },
   {
    "duration": 0,
    "start_time": "2022-12-07T13:39:57.416Z"
   },
   {
    "duration": 0,
    "start_time": "2022-12-07T13:39:57.417Z"
   },
   {
    "duration": 0,
    "start_time": "2022-12-07T13:39:57.420Z"
   },
   {
    "duration": 0,
    "start_time": "2022-12-07T13:39:57.422Z"
   },
   {
    "duration": 0,
    "start_time": "2022-12-07T13:39:57.422Z"
   },
   {
    "duration": 0,
    "start_time": "2022-12-07T13:39:57.424Z"
   },
   {
    "duration": 0,
    "start_time": "2022-12-07T13:39:57.425Z"
   },
   {
    "duration": 0,
    "start_time": "2022-12-07T13:39:57.426Z"
   },
   {
    "duration": 0,
    "start_time": "2022-12-07T13:39:57.427Z"
   },
   {
    "duration": 0,
    "start_time": "2022-12-07T13:39:57.428Z"
   },
   {
    "duration": 0,
    "start_time": "2022-12-07T13:39:57.429Z"
   },
   {
    "duration": 0,
    "start_time": "2022-12-07T13:39:57.430Z"
   },
   {
    "duration": 0,
    "start_time": "2022-12-07T13:39:57.431Z"
   },
   {
    "duration": 0,
    "start_time": "2022-12-07T13:39:57.432Z"
   },
   {
    "duration": 1,
    "start_time": "2022-12-07T13:39:57.432Z"
   },
   {
    "duration": 0,
    "start_time": "2022-12-07T13:39:57.434Z"
   },
   {
    "duration": 0,
    "start_time": "2022-12-07T13:39:57.435Z"
   },
   {
    "duration": 0,
    "start_time": "2022-12-07T13:39:57.436Z"
   },
   {
    "duration": 0,
    "start_time": "2022-12-07T13:39:57.437Z"
   },
   {
    "duration": 0,
    "start_time": "2022-12-07T13:39:57.438Z"
   },
   {
    "duration": 1,
    "start_time": "2022-12-07T13:39:57.438Z"
   },
   {
    "duration": 0,
    "start_time": "2022-12-07T13:39:57.440Z"
   },
   {
    "duration": 0,
    "start_time": "2022-12-07T13:39:57.440Z"
   },
   {
    "duration": 1,
    "start_time": "2022-12-07T13:39:57.441Z"
   },
   {
    "duration": 0,
    "start_time": "2022-12-07T13:39:57.442Z"
   },
   {
    "duration": 0,
    "start_time": "2022-12-07T13:39:57.443Z"
   },
   {
    "duration": 0,
    "start_time": "2022-12-07T13:39:57.444Z"
   },
   {
    "duration": 730,
    "start_time": "2022-12-07T13:40:17.860Z"
   },
   {
    "duration": 27,
    "start_time": "2022-12-07T13:40:18.592Z"
   },
   {
    "duration": 20,
    "start_time": "2022-12-07T13:40:18.620Z"
   },
   {
    "duration": 14,
    "start_time": "2022-12-07T13:40:18.642Z"
   },
   {
    "duration": 14,
    "start_time": "2022-12-07T13:40:18.657Z"
   },
   {
    "duration": 18,
    "start_time": "2022-12-07T13:40:18.672Z"
   },
   {
    "duration": 28,
    "start_time": "2022-12-07T13:40:18.691Z"
   },
   {
    "duration": 21,
    "start_time": "2022-12-07T13:40:18.721Z"
   },
   {
    "duration": 28,
    "start_time": "2022-12-07T13:40:18.744Z"
   },
   {
    "duration": 14,
    "start_time": "2022-12-07T13:40:18.775Z"
   },
   {
    "duration": 50,
    "start_time": "2022-12-07T13:40:18.791Z"
   },
   {
    "duration": 14,
    "start_time": "2022-12-07T13:40:18.843Z"
   },
   {
    "duration": 25,
    "start_time": "2022-12-07T13:40:18.859Z"
   },
   {
    "duration": 27,
    "start_time": "2022-12-07T13:40:18.886Z"
   },
   {
    "duration": 13,
    "start_time": "2022-12-07T13:40:18.915Z"
   },
   {
    "duration": 28,
    "start_time": "2022-12-07T13:40:18.929Z"
   },
   {
    "duration": 79,
    "start_time": "2022-12-07T13:40:18.959Z"
   },
   {
    "duration": 22,
    "start_time": "2022-12-07T13:40:19.039Z"
   },
   {
    "duration": 40,
    "start_time": "2022-12-07T13:40:19.062Z"
   },
   {
    "duration": 11,
    "start_time": "2022-12-07T13:40:19.106Z"
   },
   {
    "duration": 237,
    "start_time": "2022-12-07T13:40:19.119Z"
   },
   {
    "duration": 10,
    "start_time": "2022-12-07T13:40:19.358Z"
   },
   {
    "duration": 177,
    "start_time": "2022-12-07T13:40:19.369Z"
   },
   {
    "duration": 127,
    "start_time": "2022-12-07T13:40:19.548Z"
   },
   {
    "duration": 5,
    "start_time": "2022-12-07T13:40:19.677Z"
   },
   {
    "duration": 38,
    "start_time": "2022-12-07T13:40:19.684Z"
   },
   {
    "duration": 6,
    "start_time": "2022-12-07T13:40:19.723Z"
   },
   {
    "duration": 6,
    "start_time": "2022-12-07T13:40:19.732Z"
   },
   {
    "duration": 6,
    "start_time": "2022-12-07T13:40:19.739Z"
   },
   {
    "duration": 9,
    "start_time": "2022-12-07T13:40:19.746Z"
   },
   {
    "duration": 10,
    "start_time": "2022-12-07T13:40:19.757Z"
   },
   {
    "duration": 31,
    "start_time": "2022-12-07T13:40:19.769Z"
   },
   {
    "duration": 21,
    "start_time": "2022-12-07T13:40:19.802Z"
   },
   {
    "duration": 7,
    "start_time": "2022-12-07T13:40:19.825Z"
   },
   {
    "duration": 12,
    "start_time": "2022-12-07T13:40:19.833Z"
   },
   {
    "duration": 10,
    "start_time": "2022-12-07T13:40:19.846Z"
   },
   {
    "duration": 8,
    "start_time": "2022-12-07T13:40:19.858Z"
   },
   {
    "duration": 8,
    "start_time": "2022-12-07T13:40:19.867Z"
   },
   {
    "duration": 7,
    "start_time": "2022-12-07T13:40:19.876Z"
   },
   {
    "duration": 4,
    "start_time": "2022-12-07T13:40:19.885Z"
   },
   {
    "duration": 21,
    "start_time": "2022-12-07T13:40:19.891Z"
   },
   {
    "duration": 7,
    "start_time": "2022-12-07T13:40:19.914Z"
   },
   {
    "duration": 8,
    "start_time": "2022-12-07T13:40:19.923Z"
   },
   {
    "duration": 22,
    "start_time": "2022-12-07T13:40:19.932Z"
   },
   {
    "duration": 12,
    "start_time": "2022-12-07T13:40:19.956Z"
   },
   {
    "duration": 8,
    "start_time": "2022-12-07T13:40:19.970Z"
   },
   {
    "duration": 22,
    "start_time": "2022-12-07T13:40:19.980Z"
   },
   {
    "duration": 17,
    "start_time": "2022-12-07T13:40:20.009Z"
   },
   {
    "duration": 17,
    "start_time": "2022-12-07T13:40:20.028Z"
   },
   {
    "duration": 15,
    "start_time": "2022-12-07T13:40:20.047Z"
   },
   {
    "duration": 7,
    "start_time": "2022-12-07T13:40:20.064Z"
   },
   {
    "duration": 20,
    "start_time": "2022-12-07T13:40:20.073Z"
   },
   {
    "duration": 29,
    "start_time": "2022-12-07T13:40:20.095Z"
   },
   {
    "duration": 18,
    "start_time": "2022-12-07T13:41:24.275Z"
   },
   {
    "duration": 29,
    "start_time": "2022-12-07T13:45:23.126Z"
   },
   {
    "duration": 10,
    "start_time": "2022-12-07T13:45:37.376Z"
   },
   {
    "duration": 8,
    "start_time": "2022-12-07T13:45:56.171Z"
   },
   {
    "duration": 36,
    "start_time": "2022-12-07T13:49:02.790Z"
   },
   {
    "duration": 25,
    "start_time": "2022-12-07T13:50:12.249Z"
   },
   {
    "duration": 12,
    "start_time": "2022-12-07T13:50:34.970Z"
   },
   {
    "duration": 13,
    "start_time": "2022-12-07T13:50:54.195Z"
   },
   {
    "duration": 30,
    "start_time": "2022-12-07T13:51:05.028Z"
   },
   {
    "duration": 8,
    "start_time": "2022-12-07T13:51:34.920Z"
   },
   {
    "duration": 21,
    "start_time": "2022-12-07T13:53:12.668Z"
   },
   {
    "duration": 28,
    "start_time": "2022-12-07T13:55:00.129Z"
   },
   {
    "duration": 28,
    "start_time": "2022-12-07T13:55:35.531Z"
   },
   {
    "duration": 7,
    "start_time": "2022-12-07T14:02:09.197Z"
   },
   {
    "duration": 13,
    "start_time": "2022-12-07T14:02:25.717Z"
   },
   {
    "duration": 26,
    "start_time": "2022-12-07T14:02:37.121Z"
   },
   {
    "duration": 7,
    "start_time": "2022-12-07T14:02:58.024Z"
   },
   {
    "duration": 23,
    "start_time": "2022-12-07T14:02:59.155Z"
   },
   {
    "duration": 775,
    "start_time": "2022-12-07T14:03:10.583Z"
   },
   {
    "duration": 22,
    "start_time": "2022-12-07T14:03:11.360Z"
   },
   {
    "duration": 15,
    "start_time": "2022-12-07T14:03:11.383Z"
   },
   {
    "duration": 14,
    "start_time": "2022-12-07T14:03:11.405Z"
   },
   {
    "duration": 11,
    "start_time": "2022-12-07T14:03:11.421Z"
   },
   {
    "duration": 5,
    "start_time": "2022-12-07T14:03:11.433Z"
   },
   {
    "duration": 19,
    "start_time": "2022-12-07T14:03:11.439Z"
   },
   {
    "duration": 19,
    "start_time": "2022-12-07T14:03:11.459Z"
   },
   {
    "duration": 39,
    "start_time": "2022-12-07T14:03:11.479Z"
   },
   {
    "duration": 14,
    "start_time": "2022-12-07T14:03:11.521Z"
   },
   {
    "duration": 26,
    "start_time": "2022-12-07T14:03:11.537Z"
   },
   {
    "duration": 9,
    "start_time": "2022-12-07T14:03:11.564Z"
   },
   {
    "duration": 5,
    "start_time": "2022-12-07T14:03:11.575Z"
   },
   {
    "duration": 4,
    "start_time": "2022-12-07T14:03:11.582Z"
   },
   {
    "duration": 19,
    "start_time": "2022-12-07T14:03:11.587Z"
   },
   {
    "duration": 24,
    "start_time": "2022-12-07T14:03:11.607Z"
   },
   {
    "duration": 62,
    "start_time": "2022-12-07T14:03:11.632Z"
   },
   {
    "duration": 30,
    "start_time": "2022-12-07T14:03:11.695Z"
   },
   {
    "duration": 25,
    "start_time": "2022-12-07T14:03:11.727Z"
   },
   {
    "duration": 3,
    "start_time": "2022-12-07T14:03:11.754Z"
   },
   {
    "duration": 198,
    "start_time": "2022-12-07T14:03:11.758Z"
   },
   {
    "duration": 10,
    "start_time": "2022-12-07T14:03:11.958Z"
   },
   {
    "duration": 181,
    "start_time": "2022-12-07T14:03:11.970Z"
   },
   {
    "duration": 134,
    "start_time": "2022-12-07T14:03:12.153Z"
   },
   {
    "duration": 14,
    "start_time": "2022-12-07T14:03:12.289Z"
   },
   {
    "duration": 28,
    "start_time": "2022-12-07T14:03:12.315Z"
   },
   {
    "duration": 4,
    "start_time": "2022-12-07T14:03:12.345Z"
   },
   {
    "duration": 16,
    "start_time": "2022-12-07T14:03:12.352Z"
   },
   {
    "duration": 13,
    "start_time": "2022-12-07T14:03:12.370Z"
   },
   {
    "duration": 12,
    "start_time": "2022-12-07T14:03:12.384Z"
   },
   {
    "duration": 30,
    "start_time": "2022-12-07T14:03:12.402Z"
   },
   {
    "duration": 10,
    "start_time": "2022-12-07T14:03:12.434Z"
   },
   {
    "duration": 6,
    "start_time": "2022-12-07T14:03:12.447Z"
   },
   {
    "duration": 22,
    "start_time": "2022-12-07T14:03:12.455Z"
   },
   {
    "duration": 17,
    "start_time": "2022-12-07T14:03:12.479Z"
   },
   {
    "duration": 43,
    "start_time": "2022-12-07T14:03:12.497Z"
   },
   {
    "duration": 10,
    "start_time": "2022-12-07T14:03:12.542Z"
   },
   {
    "duration": 7,
    "start_time": "2022-12-07T14:03:12.554Z"
   },
   {
    "duration": 15,
    "start_time": "2022-12-07T14:03:12.563Z"
   },
   {
    "duration": 11,
    "start_time": "2022-12-07T14:03:12.580Z"
   },
   {
    "duration": 32,
    "start_time": "2022-12-07T14:03:12.592Z"
   },
   {
    "duration": 27,
    "start_time": "2022-12-07T14:03:12.626Z"
   },
   {
    "duration": 8,
    "start_time": "2022-12-07T14:03:12.654Z"
   },
   {
    "duration": 11,
    "start_time": "2022-12-07T14:03:12.663Z"
   },
   {
    "duration": 12,
    "start_time": "2022-12-07T14:03:12.675Z"
   },
   {
    "duration": 19,
    "start_time": "2022-12-07T14:03:12.688Z"
   },
   {
    "duration": 36,
    "start_time": "2022-12-07T14:03:12.711Z"
   },
   {
    "duration": 18,
    "start_time": "2022-12-07T14:03:12.748Z"
   },
   {
    "duration": 9,
    "start_time": "2022-12-07T14:03:12.767Z"
   },
   {
    "duration": 21,
    "start_time": "2022-12-07T14:03:12.777Z"
   },
   {
    "duration": 43,
    "start_time": "2022-12-07T14:03:12.800Z"
   },
   {
    "duration": 19,
    "start_time": "2022-12-07T14:03:12.845Z"
   },
   {
    "duration": 24,
    "start_time": "2022-12-07T14:03:12.865Z"
   },
   {
    "duration": 9,
    "start_time": "2022-12-07T14:03:12.891Z"
   },
   {
    "duration": 49,
    "start_time": "2022-12-07T14:07:35.621Z"
   },
   {
    "duration": 58,
    "start_time": "2022-12-07T14:15:20.522Z"
   },
   {
    "duration": 74,
    "start_time": "2022-12-07T14:17:31.209Z"
   },
   {
    "duration": 42,
    "start_time": "2022-12-07T14:18:21.606Z"
   },
   {
    "duration": 74,
    "start_time": "2022-12-07T14:20:47.886Z"
   },
   {
    "duration": 58,
    "start_time": "2022-12-07T14:21:15.776Z"
   },
   {
    "duration": 55,
    "start_time": "2022-12-07T14:23:57.411Z"
   },
   {
    "duration": 50,
    "start_time": "2022-12-07T14:24:14.429Z"
   },
   {
    "duration": 782,
    "start_time": "2022-12-07T14:24:42.375Z"
   },
   {
    "duration": 27,
    "start_time": "2022-12-07T14:24:43.160Z"
   },
   {
    "duration": 17,
    "start_time": "2022-12-07T14:24:43.189Z"
   },
   {
    "duration": 5,
    "start_time": "2022-12-07T14:24:43.207Z"
   },
   {
    "duration": 11,
    "start_time": "2022-12-07T14:24:43.214Z"
   },
   {
    "duration": 5,
    "start_time": "2022-12-07T14:24:43.226Z"
   },
   {
    "duration": 14,
    "start_time": "2022-12-07T14:24:43.233Z"
   },
   {
    "duration": 15,
    "start_time": "2022-12-07T14:24:43.249Z"
   },
   {
    "duration": 45,
    "start_time": "2022-12-07T14:24:43.266Z"
   },
   {
    "duration": 16,
    "start_time": "2022-12-07T14:24:43.313Z"
   },
   {
    "duration": 29,
    "start_time": "2022-12-07T14:24:43.330Z"
   },
   {
    "duration": 7,
    "start_time": "2022-12-07T14:24:43.361Z"
   },
   {
    "duration": 33,
    "start_time": "2022-12-07T14:24:43.369Z"
   },
   {
    "duration": 9,
    "start_time": "2022-12-07T14:24:43.405Z"
   },
   {
    "duration": 10,
    "start_time": "2022-12-07T14:24:43.415Z"
   },
   {
    "duration": 7,
    "start_time": "2022-12-07T14:24:43.427Z"
   },
   {
    "duration": 62,
    "start_time": "2022-12-07T14:24:43.436Z"
   },
   {
    "duration": 22,
    "start_time": "2022-12-07T14:24:43.500Z"
   },
   {
    "duration": 21,
    "start_time": "2022-12-07T14:24:43.523Z"
   },
   {
    "duration": 4,
    "start_time": "2022-12-07T14:24:43.546Z"
   },
   {
    "duration": 211,
    "start_time": "2022-12-07T14:24:43.551Z"
   },
   {
    "duration": 10,
    "start_time": "2022-12-07T14:24:43.764Z"
   },
   {
    "duration": 165,
    "start_time": "2022-12-07T14:24:43.775Z"
   },
   {
    "duration": 152,
    "start_time": "2022-12-07T14:24:43.942Z"
   },
   {
    "duration": 6,
    "start_time": "2022-12-07T14:24:44.095Z"
   },
   {
    "duration": 23,
    "start_time": "2022-12-07T14:24:44.103Z"
   },
   {
    "duration": 5,
    "start_time": "2022-12-07T14:24:44.128Z"
   },
   {
    "duration": 8,
    "start_time": "2022-12-07T14:24:44.135Z"
   },
   {
    "duration": 14,
    "start_time": "2022-12-07T14:24:44.145Z"
   },
   {
    "duration": 39,
    "start_time": "2022-12-07T14:24:44.160Z"
   },
   {
    "duration": 8,
    "start_time": "2022-12-07T14:24:44.201Z"
   },
   {
    "duration": 6,
    "start_time": "2022-12-07T14:24:44.210Z"
   },
   {
    "duration": 10,
    "start_time": "2022-12-07T14:24:44.218Z"
   },
   {
    "duration": 14,
    "start_time": "2022-12-07T14:24:44.230Z"
   },
   {
    "duration": 9,
    "start_time": "2022-12-07T14:24:44.246Z"
   },
   {
    "duration": 42,
    "start_time": "2022-12-07T14:24:44.257Z"
   },
   {
    "duration": 7,
    "start_time": "2022-12-07T14:24:44.301Z"
   },
   {
    "duration": 5,
    "start_time": "2022-12-07T14:24:44.309Z"
   },
   {
    "duration": 9,
    "start_time": "2022-12-07T14:24:44.315Z"
   },
   {
    "duration": 8,
    "start_time": "2022-12-07T14:24:44.326Z"
   },
   {
    "duration": 8,
    "start_time": "2022-12-07T14:24:44.340Z"
   },
   {
    "duration": 10,
    "start_time": "2022-12-07T14:24:44.350Z"
   },
   {
    "duration": 37,
    "start_time": "2022-12-07T14:24:44.362Z"
   },
   {
    "duration": 13,
    "start_time": "2022-12-07T14:24:44.401Z"
   },
   {
    "duration": 13,
    "start_time": "2022-12-07T14:24:44.416Z"
   },
   {
    "duration": 12,
    "start_time": "2022-12-07T14:24:44.431Z"
   },
   {
    "duration": 8,
    "start_time": "2022-12-07T14:24:44.445Z"
   },
   {
    "duration": 13,
    "start_time": "2022-12-07T14:24:44.455Z"
   },
   {
    "duration": 7,
    "start_time": "2022-12-07T14:24:44.470Z"
   },
   {
    "duration": 28,
    "start_time": "2022-12-07T14:24:44.498Z"
   },
   {
    "duration": 21,
    "start_time": "2022-12-07T14:24:44.528Z"
   },
   {
    "duration": 29,
    "start_time": "2022-12-07T14:24:44.550Z"
   },
   {
    "duration": 42,
    "start_time": "2022-12-07T14:24:44.581Z"
   },
   {
    "duration": 11,
    "start_time": "2022-12-07T14:24:44.625Z"
   },
   {
    "duration": 65,
    "start_time": "2022-12-07T14:24:44.643Z"
   },
   {
    "duration": 42,
    "start_time": "2022-12-07T14:25:42.887Z"
   },
   {
    "duration": 46,
    "start_time": "2022-12-07T14:26:14.251Z"
   },
   {
    "duration": 823,
    "start_time": "2022-12-07T14:27:09.081Z"
   },
   {
    "duration": 3,
    "start_time": "2022-12-07T14:28:19.480Z"
   },
   {
    "duration": 2,
    "start_time": "2022-12-07T14:28:20.240Z"
   },
   {
    "duration": 3,
    "start_time": "2022-12-07T14:30:24.606Z"
   },
   {
    "duration": 3,
    "start_time": "2022-12-07T14:30:25.045Z"
   },
   {
    "duration": 239,
    "start_time": "2022-12-07T14:30:25.493Z"
   },
   {
    "duration": 399,
    "start_time": "2022-12-07T14:30:27.965Z"
   },
   {
    "duration": 9,
    "start_time": "2022-12-07T14:31:00.626Z"
   },
   {
    "duration": 188,
    "start_time": "2022-12-07T14:31:31.717Z"
   },
   {
    "duration": 4,
    "start_time": "2022-12-07T14:37:14.476Z"
   },
   {
    "duration": 201,
    "start_time": "2022-12-07T14:37:19.629Z"
   },
   {
    "duration": 16,
    "start_time": "2022-12-07T14:37:35.197Z"
   },
   {
    "duration": 16,
    "start_time": "2022-12-07T14:38:26.029Z"
   },
   {
    "duration": 736,
    "start_time": "2022-12-07T14:38:30.605Z"
   },
   {
    "duration": 33,
    "start_time": "2022-12-07T14:38:31.343Z"
   },
   {
    "duration": 22,
    "start_time": "2022-12-07T14:38:31.379Z"
   },
   {
    "duration": 7,
    "start_time": "2022-12-07T14:38:31.403Z"
   },
   {
    "duration": 22,
    "start_time": "2022-12-07T14:38:31.412Z"
   },
   {
    "duration": 13,
    "start_time": "2022-12-07T14:38:31.435Z"
   },
   {
    "duration": 17,
    "start_time": "2022-12-07T14:38:31.450Z"
   },
   {
    "duration": 15,
    "start_time": "2022-12-07T14:38:31.469Z"
   },
   {
    "duration": 27,
    "start_time": "2022-12-07T14:38:31.486Z"
   },
   {
    "duration": 24,
    "start_time": "2022-12-07T14:38:31.517Z"
   },
   {
    "duration": 68,
    "start_time": "2022-12-07T14:38:31.543Z"
   },
   {
    "duration": 103,
    "start_time": "2022-12-07T14:38:31.613Z"
   },
   {
    "duration": 69,
    "start_time": "2022-12-07T14:38:31.718Z"
   },
   {
    "duration": 63,
    "start_time": "2022-12-07T14:38:31.789Z"
   },
   {
    "duration": 77,
    "start_time": "2022-12-07T14:38:31.854Z"
   },
   {
    "duration": 66,
    "start_time": "2022-12-07T14:38:31.933Z"
   },
   {
    "duration": 88,
    "start_time": "2022-12-07T14:38:32.000Z"
   },
   {
    "duration": 32,
    "start_time": "2022-12-07T14:38:32.090Z"
   },
   {
    "duration": 88,
    "start_time": "2022-12-07T14:38:32.124Z"
   },
   {
    "duration": 50,
    "start_time": "2022-12-07T14:38:32.214Z"
   },
   {
    "duration": 236,
    "start_time": "2022-12-07T14:38:32.266Z"
   },
   {
    "duration": 13,
    "start_time": "2022-12-07T14:38:32.503Z"
   },
   {
    "duration": 203,
    "start_time": "2022-12-07T14:38:32.518Z"
   },
   {
    "duration": 165,
    "start_time": "2022-12-07T14:38:32.723Z"
   },
   {
    "duration": 13,
    "start_time": "2022-12-07T14:38:32.890Z"
   },
   {
    "duration": 79,
    "start_time": "2022-12-07T14:38:32.906Z"
   },
   {
    "duration": 36,
    "start_time": "2022-12-07T14:38:32.987Z"
   },
   {
    "duration": 37,
    "start_time": "2022-12-07T14:38:33.027Z"
   },
   {
    "duration": 29,
    "start_time": "2022-12-07T14:38:33.065Z"
   },
   {
    "duration": 32,
    "start_time": "2022-12-07T14:38:33.096Z"
   },
   {
    "duration": 20,
    "start_time": "2022-12-07T14:38:33.130Z"
   },
   {
    "duration": 37,
    "start_time": "2022-12-07T14:38:33.153Z"
   },
   {
    "duration": 14,
    "start_time": "2022-12-07T14:38:33.193Z"
   },
   {
    "duration": 25,
    "start_time": "2022-12-07T14:38:33.209Z"
   },
   {
    "duration": 21,
    "start_time": "2022-12-07T14:38:33.237Z"
   },
   {
    "duration": 13,
    "start_time": "2022-12-07T14:38:33.261Z"
   },
   {
    "duration": 31,
    "start_time": "2022-12-07T14:38:33.276Z"
   },
   {
    "duration": 22,
    "start_time": "2022-12-07T14:38:33.309Z"
   },
   {
    "duration": 17,
    "start_time": "2022-12-07T14:38:33.333Z"
   },
   {
    "duration": 21,
    "start_time": "2022-12-07T14:38:33.351Z"
   },
   {
    "duration": 26,
    "start_time": "2022-12-07T14:38:33.374Z"
   },
   {
    "duration": 17,
    "start_time": "2022-12-07T14:38:33.402Z"
   },
   {
    "duration": 7,
    "start_time": "2022-12-07T14:38:33.421Z"
   },
   {
    "duration": 10,
    "start_time": "2022-12-07T14:38:33.430Z"
   },
   {
    "duration": 33,
    "start_time": "2022-12-07T14:38:33.441Z"
   },
   {
    "duration": 61,
    "start_time": "2022-12-07T14:38:33.476Z"
   },
   {
    "duration": 36,
    "start_time": "2022-12-07T14:38:33.538Z"
   },
   {
    "duration": 35,
    "start_time": "2022-12-07T14:38:33.575Z"
   },
   {
    "duration": 21,
    "start_time": "2022-12-07T14:38:33.611Z"
   },
   {
    "duration": 35,
    "start_time": "2022-12-07T14:38:33.634Z"
   },
   {
    "duration": 31,
    "start_time": "2022-12-07T14:38:33.671Z"
   },
   {
    "duration": 23,
    "start_time": "2022-12-07T14:38:33.704Z"
   },
   {
    "duration": 26,
    "start_time": "2022-12-07T14:38:33.729Z"
   },
   {
    "duration": 17,
    "start_time": "2022-12-07T14:38:33.757Z"
   },
   {
    "duration": 25,
    "start_time": "2022-12-07T14:38:33.776Z"
   },
   {
    "duration": 29,
    "start_time": "2022-12-07T14:38:33.803Z"
   },
   {
    "duration": 139,
    "start_time": "2022-12-07T14:38:33.834Z"
   },
   {
    "duration": 0,
    "start_time": "2022-12-07T14:38:33.975Z"
   },
   {
    "duration": 50,
    "start_time": "2022-12-07T14:45:27.220Z"
   },
   {
    "duration": 7,
    "start_time": "2022-12-07T14:45:31.357Z"
   },
   {
    "duration": 19,
    "start_time": "2022-12-07T14:45:37.669Z"
   },
   {
    "duration": 16,
    "start_time": "2022-12-07T14:46:07.233Z"
   },
   {
    "duration": 14,
    "start_time": "2022-12-07T14:46:55.438Z"
   },
   {
    "duration": 17,
    "start_time": "2022-12-07T14:47:42.027Z"
   },
   {
    "duration": 61,
    "start_time": "2022-12-07T14:49:03.076Z"
   },
   {
    "duration": 5,
    "start_time": "2022-12-07T14:49:07.959Z"
   },
   {
    "duration": 15,
    "start_time": "2022-12-07T14:49:17.735Z"
   },
   {
    "duration": 3,
    "start_time": "2022-12-07T14:50:10.019Z"
   },
   {
    "duration": 3,
    "start_time": "2022-12-07T14:50:16.147Z"
   },
   {
    "duration": 13,
    "start_time": "2022-12-07T14:50:16.676Z"
   },
   {
    "duration": 730,
    "start_time": "2022-12-07T14:50:53.488Z"
   },
   {
    "duration": 22,
    "start_time": "2022-12-07T14:50:54.220Z"
   },
   {
    "duration": 14,
    "start_time": "2022-12-07T14:50:54.243Z"
   },
   {
    "duration": 5,
    "start_time": "2022-12-07T14:50:54.258Z"
   },
   {
    "duration": 12,
    "start_time": "2022-12-07T14:50:54.266Z"
   },
   {
    "duration": 5,
    "start_time": "2022-12-07T14:50:54.279Z"
   },
   {
    "duration": 18,
    "start_time": "2022-12-07T14:50:54.285Z"
   },
   {
    "duration": 13,
    "start_time": "2022-12-07T14:50:54.305Z"
   },
   {
    "duration": 21,
    "start_time": "2022-12-07T14:50:54.319Z"
   },
   {
    "duration": 14,
    "start_time": "2022-12-07T14:50:54.341Z"
   },
   {
    "duration": 47,
    "start_time": "2022-12-07T14:50:54.357Z"
   },
   {
    "duration": 6,
    "start_time": "2022-12-07T14:50:54.406Z"
   },
   {
    "duration": 25,
    "start_time": "2022-12-07T14:50:54.414Z"
   },
   {
    "duration": 8,
    "start_time": "2022-12-07T14:50:54.442Z"
   },
   {
    "duration": 10,
    "start_time": "2022-12-07T14:50:54.451Z"
   },
   {
    "duration": 9,
    "start_time": "2022-12-07T14:50:54.462Z"
   },
   {
    "duration": 50,
    "start_time": "2022-12-07T14:50:54.473Z"
   },
   {
    "duration": 19,
    "start_time": "2022-12-07T14:50:54.524Z"
   },
   {
    "duration": 21,
    "start_time": "2022-12-07T14:50:54.545Z"
   },
   {
    "duration": 4,
    "start_time": "2022-12-07T14:50:54.568Z"
   },
   {
    "duration": 253,
    "start_time": "2022-12-07T14:50:54.574Z"
   },
   {
    "duration": 11,
    "start_time": "2022-12-07T14:50:54.828Z"
   },
   {
    "duration": 166,
    "start_time": "2022-12-07T14:50:54.841Z"
   },
   {
    "duration": 129,
    "start_time": "2022-12-07T14:50:55.009Z"
   },
   {
    "duration": 9,
    "start_time": "2022-12-07T14:50:55.141Z"
   },
   {
    "duration": 30,
    "start_time": "2022-12-07T14:50:55.152Z"
   },
   {
    "duration": 15,
    "start_time": "2022-12-07T14:50:55.184Z"
   },
   {
    "duration": 6,
    "start_time": "2022-12-07T14:50:55.200Z"
   },
   {
    "duration": 14,
    "start_time": "2022-12-07T14:50:55.207Z"
   },
   {
    "duration": 14,
    "start_time": "2022-12-07T14:50:55.222Z"
   },
   {
    "duration": 11,
    "start_time": "2022-12-07T14:50:55.237Z"
   },
   {
    "duration": 9,
    "start_time": "2022-12-07T14:50:55.250Z"
   },
   {
    "duration": 17,
    "start_time": "2022-12-07T14:50:55.261Z"
   },
   {
    "duration": 11,
    "start_time": "2022-12-07T14:50:55.279Z"
   },
   {
    "duration": 11,
    "start_time": "2022-12-07T14:50:55.291Z"
   },
   {
    "duration": 14,
    "start_time": "2022-12-07T14:50:55.303Z"
   },
   {
    "duration": 11,
    "start_time": "2022-12-07T14:50:55.319Z"
   },
   {
    "duration": 13,
    "start_time": "2022-12-07T14:50:55.331Z"
   },
   {
    "duration": 15,
    "start_time": "2022-12-07T14:50:55.345Z"
   },
   {
    "duration": 7,
    "start_time": "2022-12-07T14:50:55.362Z"
   },
   {
    "duration": 6,
    "start_time": "2022-12-07T14:50:55.372Z"
   },
   {
    "duration": 11,
    "start_time": "2022-12-07T14:50:55.379Z"
   },
   {
    "duration": 6,
    "start_time": "2022-12-07T14:50:55.392Z"
   },
   {
    "duration": 8,
    "start_time": "2022-12-07T14:50:55.399Z"
   },
   {
    "duration": 17,
    "start_time": "2022-12-07T14:50:55.408Z"
   },
   {
    "duration": 7,
    "start_time": "2022-12-07T14:50:55.427Z"
   },
   {
    "duration": 5,
    "start_time": "2022-12-07T14:50:55.436Z"
   },
   {
    "duration": 14,
    "start_time": "2022-12-07T14:50:55.442Z"
   },
   {
    "duration": 6,
    "start_time": "2022-12-07T14:50:55.457Z"
   },
   {
    "duration": 16,
    "start_time": "2022-12-07T14:50:55.465Z"
   },
   {
    "duration": 23,
    "start_time": "2022-12-07T14:50:55.483Z"
   },
   {
    "duration": 20,
    "start_time": "2022-12-07T14:50:55.508Z"
   },
   {
    "duration": 24,
    "start_time": "2022-12-07T14:50:55.529Z"
   },
   {
    "duration": 6,
    "start_time": "2022-12-07T14:50:55.555Z"
   },
   {
    "duration": 44,
    "start_time": "2022-12-07T14:50:55.562Z"
   },
   {
    "duration": 3,
    "start_time": "2022-12-07T14:50:55.608Z"
   },
   {
    "duration": 109,
    "start_time": "2022-12-07T14:50:55.612Z"
   },
   {
    "duration": 0,
    "start_time": "2022-12-07T14:50:55.723Z"
   },
   {
    "duration": 4,
    "start_time": "2022-12-07T14:51:21.587Z"
   },
   {
    "duration": 15,
    "start_time": "2022-12-07T14:51:23.660Z"
   },
   {
    "duration": 3,
    "start_time": "2022-12-07T14:51:42.559Z"
   },
   {
    "duration": 2,
    "start_time": "2022-12-07T14:54:24.569Z"
   },
   {
    "duration": 13,
    "start_time": "2022-12-07T14:54:26.528Z"
   },
   {
    "duration": 3,
    "start_time": "2022-12-07T14:55:10.558Z"
   },
   {
    "duration": 13,
    "start_time": "2022-12-07T14:55:11.167Z"
   },
   {
    "duration": 3,
    "start_time": "2022-12-07T14:55:55.211Z"
   },
   {
    "duration": 13,
    "start_time": "2022-12-07T14:55:56.155Z"
   },
   {
    "duration": 21,
    "start_time": "2022-12-07T14:56:22.463Z"
   },
   {
    "duration": 1206,
    "start_time": "2022-12-08T09:07:18.802Z"
   },
   {
    "duration": 27,
    "start_time": "2022-12-08T09:07:20.011Z"
   },
   {
    "duration": 17,
    "start_time": "2022-12-08T09:07:20.040Z"
   },
   {
    "duration": 8,
    "start_time": "2022-12-08T09:07:20.059Z"
   },
   {
    "duration": 15,
    "start_time": "2022-12-08T09:07:20.069Z"
   },
   {
    "duration": 6,
    "start_time": "2022-12-08T09:07:20.086Z"
   },
   {
    "duration": 15,
    "start_time": "2022-12-08T09:07:20.095Z"
   },
   {
    "duration": 16,
    "start_time": "2022-12-08T09:07:20.111Z"
   },
   {
    "duration": 47,
    "start_time": "2022-12-08T09:07:20.129Z"
   },
   {
    "duration": 15,
    "start_time": "2022-12-08T09:07:20.178Z"
   },
   {
    "duration": 63,
    "start_time": "2022-12-08T09:07:20.195Z"
   },
   {
    "duration": 8,
    "start_time": "2022-12-08T09:07:20.259Z"
   },
   {
    "duration": 14,
    "start_time": "2022-12-08T09:07:20.269Z"
   },
   {
    "duration": 8,
    "start_time": "2022-12-08T09:07:20.287Z"
   },
   {
    "duration": 24,
    "start_time": "2022-12-08T09:07:20.297Z"
   },
   {
    "duration": 9,
    "start_time": "2022-12-08T09:07:20.323Z"
   },
   {
    "duration": 78,
    "start_time": "2022-12-08T09:07:20.333Z"
   },
   {
    "duration": 23,
    "start_time": "2022-12-08T09:07:20.413Z"
   },
   {
    "duration": 37,
    "start_time": "2022-12-08T09:07:20.438Z"
   },
   {
    "duration": 4,
    "start_time": "2022-12-08T09:07:20.477Z"
   },
   {
    "duration": 229,
    "start_time": "2022-12-08T09:07:20.482Z"
   },
   {
    "duration": 12,
    "start_time": "2022-12-08T09:07:20.713Z"
   },
   {
    "duration": 188,
    "start_time": "2022-12-08T09:07:20.726Z"
   },
   {
    "duration": 151,
    "start_time": "2022-12-08T09:07:20.916Z"
   },
   {
    "duration": 7,
    "start_time": "2022-12-08T09:07:21.069Z"
   },
   {
    "duration": 23,
    "start_time": "2022-12-08T09:07:21.078Z"
   },
   {
    "duration": 6,
    "start_time": "2022-12-08T09:07:21.103Z"
   },
   {
    "duration": 7,
    "start_time": "2022-12-08T09:07:21.111Z"
   },
   {
    "duration": 36,
    "start_time": "2022-12-08T09:07:21.120Z"
   },
   {
    "duration": 12,
    "start_time": "2022-12-08T09:07:21.158Z"
   },
   {
    "duration": 12,
    "start_time": "2022-12-08T09:07:21.171Z"
   },
   {
    "duration": 4,
    "start_time": "2022-12-08T09:07:21.184Z"
   },
   {
    "duration": 11,
    "start_time": "2022-12-08T09:07:21.189Z"
   },
   {
    "duration": 9,
    "start_time": "2022-12-08T09:07:21.201Z"
   },
   {
    "duration": 46,
    "start_time": "2022-12-08T09:07:21.211Z"
   },
   {
    "duration": 9,
    "start_time": "2022-12-08T09:07:21.259Z"
   },
   {
    "duration": 18,
    "start_time": "2022-12-08T09:07:21.270Z"
   },
   {
    "duration": 10,
    "start_time": "2022-12-08T09:07:21.290Z"
   },
   {
    "duration": 10,
    "start_time": "2022-12-08T09:07:21.302Z"
   },
   {
    "duration": 25,
    "start_time": "2022-12-08T09:07:21.314Z"
   },
   {
    "duration": 10,
    "start_time": "2022-12-08T09:07:21.345Z"
   },
   {
    "duration": 12,
    "start_time": "2022-12-08T09:07:21.356Z"
   },
   {
    "duration": 12,
    "start_time": "2022-12-08T09:07:21.370Z"
   },
   {
    "duration": 14,
    "start_time": "2022-12-08T09:07:21.384Z"
   },
   {
    "duration": 15,
    "start_time": "2022-12-08T09:07:21.400Z"
   },
   {
    "duration": 21,
    "start_time": "2022-12-08T09:07:21.417Z"
   },
   {
    "duration": 14,
    "start_time": "2022-12-08T09:07:21.441Z"
   },
   {
    "duration": 29,
    "start_time": "2022-12-08T09:07:21.457Z"
   },
   {
    "duration": 14,
    "start_time": "2022-12-08T09:07:21.489Z"
   },
   {
    "duration": 43,
    "start_time": "2022-12-08T09:07:21.505Z"
   },
   {
    "duration": 47,
    "start_time": "2022-12-08T09:07:21.549Z"
   },
   {
    "duration": 24,
    "start_time": "2022-12-08T09:07:21.599Z"
   },
   {
    "duration": 36,
    "start_time": "2022-12-08T09:07:21.625Z"
   },
   {
    "duration": 8,
    "start_time": "2022-12-08T09:07:21.664Z"
   },
   {
    "duration": 35,
    "start_time": "2022-12-08T09:07:21.673Z"
   },
   {
    "duration": 28,
    "start_time": "2022-12-08T09:07:21.709Z"
   },
   {
    "duration": 3,
    "start_time": "2022-12-08T09:07:21.756Z"
   },
   {
    "duration": 94,
    "start_time": "2022-12-08T09:07:21.762Z"
   },
   {
    "duration": 0,
    "start_time": "2022-12-08T09:07:21.858Z"
   },
   {
    "duration": 11,
    "start_time": "2022-12-08T09:12:56.454Z"
   },
   {
    "duration": 6,
    "start_time": "2022-12-08T09:12:57.221Z"
   },
   {
    "duration": 832,
    "start_time": "2022-12-08T09:13:48.572Z"
   },
   {
    "duration": 26,
    "start_time": "2022-12-08T09:13:49.406Z"
   },
   {
    "duration": 17,
    "start_time": "2022-12-08T09:13:49.434Z"
   },
   {
    "duration": 10,
    "start_time": "2022-12-08T09:13:49.453Z"
   },
   {
    "duration": 18,
    "start_time": "2022-12-08T09:13:49.471Z"
   },
   {
    "duration": 8,
    "start_time": "2022-12-08T09:13:49.491Z"
   },
   {
    "duration": 20,
    "start_time": "2022-12-08T09:13:49.501Z"
   },
   {
    "duration": 18,
    "start_time": "2022-12-08T09:13:49.523Z"
   },
   {
    "duration": 37,
    "start_time": "2022-12-08T09:13:49.543Z"
   },
   {
    "duration": 15,
    "start_time": "2022-12-08T09:13:49.582Z"
   },
   {
    "duration": 30,
    "start_time": "2022-12-08T09:13:49.598Z"
   },
   {
    "duration": 42,
    "start_time": "2022-12-08T09:13:49.630Z"
   },
   {
    "duration": 10,
    "start_time": "2022-12-08T09:13:49.674Z"
   },
   {
    "duration": 4,
    "start_time": "2022-12-08T09:13:49.689Z"
   },
   {
    "duration": 10,
    "start_time": "2022-12-08T09:13:49.695Z"
   },
   {
    "duration": 14,
    "start_time": "2022-12-08T09:13:49.707Z"
   },
   {
    "duration": 69,
    "start_time": "2022-12-08T09:13:49.722Z"
   },
   {
    "duration": 21,
    "start_time": "2022-12-08T09:13:49.793Z"
   },
   {
    "duration": 49,
    "start_time": "2022-12-08T09:13:49.816Z"
   },
   {
    "duration": 9,
    "start_time": "2022-12-08T09:13:49.866Z"
   },
   {
    "duration": 212,
    "start_time": "2022-12-08T09:13:49.877Z"
   },
   {
    "duration": 13,
    "start_time": "2022-12-08T09:13:50.091Z"
   },
   {
    "duration": 186,
    "start_time": "2022-12-08T09:13:50.106Z"
   },
   {
    "duration": 133,
    "start_time": "2022-12-08T09:13:50.294Z"
   },
   {
    "duration": 5,
    "start_time": "2022-12-08T09:13:50.429Z"
   },
   {
    "duration": 41,
    "start_time": "2022-12-08T09:13:50.435Z"
   },
   {
    "duration": 8,
    "start_time": "2022-12-08T09:13:50.477Z"
   },
   {
    "duration": 6,
    "start_time": "2022-12-08T09:13:50.486Z"
   },
   {
    "duration": 8,
    "start_time": "2022-12-08T09:13:50.493Z"
   },
   {
    "duration": 11,
    "start_time": "2022-12-08T09:13:50.503Z"
   },
   {
    "duration": 8,
    "start_time": "2022-12-08T09:13:50.515Z"
   },
   {
    "duration": 40,
    "start_time": "2022-12-08T09:13:50.524Z"
   },
   {
    "duration": 13,
    "start_time": "2022-12-08T09:13:50.565Z"
   },
   {
    "duration": 10,
    "start_time": "2022-12-08T09:13:50.580Z"
   },
   {
    "duration": 7,
    "start_time": "2022-12-08T09:13:50.592Z"
   },
   {
    "duration": 9,
    "start_time": "2022-12-08T09:13:50.600Z"
   },
   {
    "duration": 6,
    "start_time": "2022-12-08T09:13:50.611Z"
   },
   {
    "duration": 5,
    "start_time": "2022-12-08T09:13:50.619Z"
   },
   {
    "duration": 31,
    "start_time": "2022-12-08T09:13:50.625Z"
   },
   {
    "duration": 24,
    "start_time": "2022-12-08T09:13:50.658Z"
   },
   {
    "duration": 6,
    "start_time": "2022-12-08T09:13:50.686Z"
   },
   {
    "duration": 10,
    "start_time": "2022-12-08T09:13:50.693Z"
   },
   {
    "duration": 4,
    "start_time": "2022-12-08T09:13:50.704Z"
   },
   {
    "duration": 8,
    "start_time": "2022-12-08T09:13:50.709Z"
   },
   {
    "duration": 10,
    "start_time": "2022-12-08T09:13:50.719Z"
   },
   {
    "duration": 24,
    "start_time": "2022-12-08T09:13:50.731Z"
   },
   {
    "duration": 6,
    "start_time": "2022-12-08T09:13:50.765Z"
   },
   {
    "duration": 12,
    "start_time": "2022-12-08T09:13:50.773Z"
   },
   {
    "duration": 8,
    "start_time": "2022-12-08T09:13:50.787Z"
   },
   {
    "duration": 24,
    "start_time": "2022-12-08T09:13:50.797Z"
   },
   {
    "duration": 39,
    "start_time": "2022-12-08T09:13:50.822Z"
   },
   {
    "duration": 28,
    "start_time": "2022-12-08T09:13:50.863Z"
   },
   {
    "duration": 27,
    "start_time": "2022-12-08T09:13:50.893Z"
   },
   {
    "duration": 7,
    "start_time": "2022-12-08T09:13:50.922Z"
   },
   {
    "duration": 51,
    "start_time": "2022-12-08T09:13:50.931Z"
   },
   {
    "duration": 24,
    "start_time": "2022-12-08T09:13:50.984Z"
   },
   {
    "duration": 378,
    "start_time": "2022-12-08T09:13:51.010Z"
   },
   {
    "duration": 0,
    "start_time": "2022-12-08T09:13:51.389Z"
   },
   {
    "duration": 1,
    "start_time": "2022-12-08T09:13:51.390Z"
   },
   {
    "duration": 0,
    "start_time": "2022-12-08T09:13:51.392Z"
   },
   {
    "duration": 0,
    "start_time": "2022-12-08T09:13:51.393Z"
   },
   {
    "duration": 0,
    "start_time": "2022-12-08T09:13:51.394Z"
   },
   {
    "duration": 61,
    "start_time": "2022-12-08T09:16:37.166Z"
   },
   {
    "duration": 14,
    "start_time": "2022-12-08T09:16:42.319Z"
   },
   {
    "duration": 19,
    "start_time": "2022-12-08T09:17:25.055Z"
   },
   {
    "duration": 1249,
    "start_time": "2022-12-08T10:31:29.909Z"
   },
   {
    "duration": 27,
    "start_time": "2022-12-08T10:31:31.160Z"
   },
   {
    "duration": 38,
    "start_time": "2022-12-08T10:31:31.189Z"
   },
   {
    "duration": 27,
    "start_time": "2022-12-08T10:31:31.230Z"
   },
   {
    "duration": 21,
    "start_time": "2022-12-08T10:31:31.259Z"
   },
   {
    "duration": 24,
    "start_time": "2022-12-08T10:31:31.282Z"
   },
   {
    "duration": 25,
    "start_time": "2022-12-08T10:31:31.308Z"
   },
   {
    "duration": 26,
    "start_time": "2022-12-08T10:31:31.335Z"
   },
   {
    "duration": 26,
    "start_time": "2022-12-08T10:31:31.362Z"
   },
   {
    "duration": 41,
    "start_time": "2022-12-08T10:31:31.391Z"
   },
   {
    "duration": 33,
    "start_time": "2022-12-08T10:31:31.434Z"
   },
   {
    "duration": 32,
    "start_time": "2022-12-08T10:31:31.469Z"
   },
   {
    "duration": 31,
    "start_time": "2022-12-08T10:31:31.503Z"
   },
   {
    "duration": 17,
    "start_time": "2022-12-08T10:31:31.536Z"
   },
   {
    "duration": 46,
    "start_time": "2022-12-08T10:31:31.555Z"
   },
   {
    "duration": 50,
    "start_time": "2022-12-08T10:31:31.604Z"
   },
   {
    "duration": 85,
    "start_time": "2022-12-08T10:31:31.656Z"
   },
   {
    "duration": 23,
    "start_time": "2022-12-08T10:31:31.744Z"
   },
   {
    "duration": 25,
    "start_time": "2022-12-08T10:31:31.768Z"
   },
   {
    "duration": 5,
    "start_time": "2022-12-08T10:31:31.795Z"
   },
   {
    "duration": 206,
    "start_time": "2022-12-08T10:31:31.802Z"
   },
   {
    "duration": 31,
    "start_time": "2022-12-08T10:31:32.010Z"
   },
   {
    "duration": 167,
    "start_time": "2022-12-08T10:31:32.044Z"
   },
   {
    "duration": 148,
    "start_time": "2022-12-08T10:31:32.213Z"
   },
   {
    "duration": 4,
    "start_time": "2022-12-08T10:31:32.363Z"
   },
   {
    "duration": 38,
    "start_time": "2022-12-08T10:31:32.369Z"
   },
   {
    "duration": 9,
    "start_time": "2022-12-08T10:31:32.409Z"
   },
   {
    "duration": 17,
    "start_time": "2022-12-08T10:31:32.421Z"
   },
   {
    "duration": 27,
    "start_time": "2022-12-08T10:31:32.440Z"
   },
   {
    "duration": 30,
    "start_time": "2022-12-08T10:31:32.469Z"
   },
   {
    "duration": 28,
    "start_time": "2022-12-08T10:31:32.500Z"
   },
   {
    "duration": 17,
    "start_time": "2022-12-08T10:31:32.530Z"
   },
   {
    "duration": 12,
    "start_time": "2022-12-08T10:31:32.550Z"
   },
   {
    "duration": 22,
    "start_time": "2022-12-08T10:31:32.564Z"
   },
   {
    "duration": 17,
    "start_time": "2022-12-08T10:31:32.588Z"
   },
   {
    "duration": 27,
    "start_time": "2022-12-08T10:31:32.607Z"
   },
   {
    "duration": 31,
    "start_time": "2022-12-08T10:31:32.635Z"
   },
   {
    "duration": 32,
    "start_time": "2022-12-08T10:31:32.668Z"
   },
   {
    "duration": 49,
    "start_time": "2022-12-08T10:31:32.701Z"
   },
   {
    "duration": 29,
    "start_time": "2022-12-08T10:31:32.751Z"
   },
   {
    "duration": 28,
    "start_time": "2022-12-08T10:31:32.781Z"
   },
   {
    "duration": 28,
    "start_time": "2022-12-08T10:31:32.811Z"
   },
   {
    "duration": 19,
    "start_time": "2022-12-08T10:31:32.841Z"
   },
   {
    "duration": 26,
    "start_time": "2022-12-08T10:31:32.862Z"
   },
   {
    "duration": 26,
    "start_time": "2022-12-08T10:31:32.890Z"
   },
   {
    "duration": 24,
    "start_time": "2022-12-08T10:31:32.918Z"
   },
   {
    "duration": 25,
    "start_time": "2022-12-08T10:31:32.944Z"
   },
   {
    "duration": 63,
    "start_time": "2022-12-08T10:31:32.971Z"
   },
   {
    "duration": 39,
    "start_time": "2022-12-08T10:31:33.035Z"
   },
   {
    "duration": 34,
    "start_time": "2022-12-08T10:31:33.076Z"
   },
   {
    "duration": 44,
    "start_time": "2022-12-08T10:31:33.111Z"
   },
   {
    "duration": 41,
    "start_time": "2022-12-08T10:31:33.157Z"
   },
   {
    "duration": 40,
    "start_time": "2022-12-08T10:31:33.200Z"
   },
   {
    "duration": 14,
    "start_time": "2022-12-08T10:31:33.241Z"
   },
   {
    "duration": 50,
    "start_time": "2022-12-08T10:31:33.257Z"
   },
   {
    "duration": 24,
    "start_time": "2022-12-08T10:31:33.308Z"
   },
   {
    "duration": 37,
    "start_time": "2022-12-08T10:31:33.334Z"
   },
   {
    "duration": 608,
    "start_time": "2022-12-08T10:31:33.372Z"
   },
   {
    "duration": 0,
    "start_time": "2022-12-08T10:31:33.981Z"
   },
   {
    "duration": 0,
    "start_time": "2022-12-08T10:31:33.982Z"
   },
   {
    "duration": 0,
    "start_time": "2022-12-08T10:31:33.983Z"
   },
   {
    "duration": 0,
    "start_time": "2022-12-08T10:31:33.984Z"
   },
   {
    "duration": 0,
    "start_time": "2022-12-08T10:31:33.985Z"
   },
   {
    "duration": 10,
    "start_time": "2022-12-08T10:32:12.012Z"
   },
   {
    "duration": 15,
    "start_time": "2022-12-08T10:32:16.637Z"
   },
   {
    "duration": 10,
    "start_time": "2022-12-08T10:32:28.428Z"
   },
   {
    "duration": 20,
    "start_time": "2022-12-08T10:32:44.216Z"
   },
   {
    "duration": 20,
    "start_time": "2022-12-08T10:32:52.035Z"
   },
   {
    "duration": 9,
    "start_time": "2022-12-08T10:33:23.090Z"
   },
   {
    "duration": 12,
    "start_time": "2022-12-08T10:33:24.039Z"
   },
   {
    "duration": 6,
    "start_time": "2022-12-08T10:38:01.034Z"
   },
   {
    "duration": 13,
    "start_time": "2022-12-08T10:38:45.272Z"
   },
   {
    "duration": 8,
    "start_time": "2022-12-08T10:39:02.317Z"
   },
   {
    "duration": 9,
    "start_time": "2022-12-08T10:39:25.027Z"
   },
   {
    "duration": 500,
    "start_time": "2022-12-08T10:40:32.926Z"
   },
   {
    "duration": 3,
    "start_time": "2022-12-08T10:40:54.161Z"
   },
   {
    "duration": 13,
    "start_time": "2022-12-08T10:41:09.919Z"
   },
   {
    "duration": 5,
    "start_time": "2022-12-08T10:41:26.822Z"
   },
   {
    "duration": 12,
    "start_time": "2022-12-08T10:41:36.836Z"
   },
   {
    "duration": 700,
    "start_time": "2022-12-08T10:42:22.458Z"
   },
   {
    "duration": 23,
    "start_time": "2022-12-08T10:42:23.160Z"
   },
   {
    "duration": 21,
    "start_time": "2022-12-08T10:42:23.185Z"
   },
   {
    "duration": 6,
    "start_time": "2022-12-08T10:42:23.207Z"
   },
   {
    "duration": 39,
    "start_time": "2022-12-08T10:42:23.215Z"
   },
   {
    "duration": 39,
    "start_time": "2022-12-08T10:42:23.256Z"
   },
   {
    "duration": 19,
    "start_time": "2022-12-08T10:42:23.296Z"
   },
   {
    "duration": 23,
    "start_time": "2022-12-08T10:42:23.317Z"
   },
   {
    "duration": 31,
    "start_time": "2022-12-08T10:42:23.341Z"
   },
   {
    "duration": 30,
    "start_time": "2022-12-08T10:42:23.373Z"
   },
   {
    "duration": 33,
    "start_time": "2022-12-08T10:42:23.404Z"
   },
   {
    "duration": 7,
    "start_time": "2022-12-08T10:42:23.438Z"
   },
   {
    "duration": 10,
    "start_time": "2022-12-08T10:42:23.447Z"
   },
   {
    "duration": 5,
    "start_time": "2022-12-08T10:42:23.461Z"
   },
   {
    "duration": 8,
    "start_time": "2022-12-08T10:42:23.468Z"
   },
   {
    "duration": 9,
    "start_time": "2022-12-08T10:42:23.478Z"
   },
   {
    "duration": 64,
    "start_time": "2022-12-08T10:42:23.489Z"
   },
   {
    "duration": 18,
    "start_time": "2022-12-08T10:42:23.555Z"
   },
   {
    "duration": 21,
    "start_time": "2022-12-08T10:42:23.575Z"
   },
   {
    "duration": 4,
    "start_time": "2022-12-08T10:42:23.597Z"
   },
   {
    "duration": 167,
    "start_time": "2022-12-08T10:42:23.627Z"
   },
   {
    "duration": 9,
    "start_time": "2022-12-08T10:42:23.795Z"
   },
   {
    "duration": 159,
    "start_time": "2022-12-08T10:42:23.806Z"
   },
   {
    "duration": 113,
    "start_time": "2022-12-08T10:42:23.967Z"
   },
   {
    "duration": 6,
    "start_time": "2022-12-08T10:42:24.081Z"
   },
   {
    "duration": 21,
    "start_time": "2022-12-08T10:42:24.088Z"
   },
   {
    "duration": 17,
    "start_time": "2022-12-08T10:42:24.111Z"
   },
   {
    "duration": 10,
    "start_time": "2022-12-08T10:42:24.130Z"
   },
   {
    "duration": 8,
    "start_time": "2022-12-08T10:42:24.141Z"
   },
   {
    "duration": 16,
    "start_time": "2022-12-08T10:42:24.151Z"
   },
   {
    "duration": 9,
    "start_time": "2022-12-08T10:42:24.169Z"
   },
   {
    "duration": 5,
    "start_time": "2022-12-08T10:42:24.180Z"
   },
   {
    "duration": 12,
    "start_time": "2022-12-08T10:42:24.187Z"
   },
   {
    "duration": 11,
    "start_time": "2022-12-08T10:42:24.200Z"
   },
   {
    "duration": 14,
    "start_time": "2022-12-08T10:42:24.213Z"
   },
   {
    "duration": 6,
    "start_time": "2022-12-08T10:42:24.228Z"
   },
   {
    "duration": 9,
    "start_time": "2022-12-08T10:42:24.236Z"
   },
   {
    "duration": 17,
    "start_time": "2022-12-08T10:42:24.247Z"
   },
   {
    "duration": 9,
    "start_time": "2022-12-08T10:42:24.265Z"
   },
   {
    "duration": 9,
    "start_time": "2022-12-08T10:42:24.275Z"
   },
   {
    "duration": 11,
    "start_time": "2022-12-08T10:42:24.287Z"
   },
   {
    "duration": 10,
    "start_time": "2022-12-08T10:42:24.299Z"
   },
   {
    "duration": 9,
    "start_time": "2022-12-08T10:42:24.311Z"
   },
   {
    "duration": 8,
    "start_time": "2022-12-08T10:42:24.322Z"
   },
   {
    "duration": 12,
    "start_time": "2022-12-08T10:42:24.332Z"
   },
   {
    "duration": 16,
    "start_time": "2022-12-08T10:42:24.345Z"
   },
   {
    "duration": 6,
    "start_time": "2022-12-08T10:42:24.362Z"
   },
   {
    "duration": 13,
    "start_time": "2022-12-08T10:42:24.369Z"
   },
   {
    "duration": 13,
    "start_time": "2022-12-08T10:42:24.383Z"
   },
   {
    "duration": 21,
    "start_time": "2022-12-08T10:42:24.399Z"
   },
   {
    "duration": 25,
    "start_time": "2022-12-08T10:42:24.421Z"
   },
   {
    "duration": 23,
    "start_time": "2022-12-08T10:42:24.448Z"
   },
   {
    "duration": 25,
    "start_time": "2022-12-08T10:42:24.473Z"
   },
   {
    "duration": 6,
    "start_time": "2022-12-08T10:42:24.499Z"
   },
   {
    "duration": 19,
    "start_time": "2022-12-08T10:42:24.507Z"
   },
   {
    "duration": 19,
    "start_time": "2022-12-08T10:42:24.528Z"
   },
   {
    "duration": 27,
    "start_time": "2022-12-08T10:42:24.548Z"
   },
   {
    "duration": 20,
    "start_time": "2022-12-08T10:42:24.576Z"
   },
   {
    "duration": 14,
    "start_time": "2022-12-08T10:42:24.598Z"
   },
   {
    "duration": 9,
    "start_time": "2022-12-08T10:42:24.627Z"
   },
   {
    "duration": 21,
    "start_time": "2022-12-08T10:42:24.638Z"
   },
   {
    "duration": 19,
    "start_time": "2022-12-08T10:42:24.660Z"
   },
   {
    "duration": 6,
    "start_time": "2022-12-08T10:42:24.681Z"
   },
   {
    "duration": 76,
    "start_time": "2022-12-08T10:42:24.688Z"
   },
   {
    "duration": 0,
    "start_time": "2022-12-08T10:42:24.766Z"
   },
   {
    "duration": 15,
    "start_time": "2022-12-08T10:43:36.724Z"
   },
   {
    "duration": 3,
    "start_time": "2022-12-08T10:46:24.164Z"
   },
   {
    "duration": 15,
    "start_time": "2022-12-08T10:46:35.043Z"
   },
   {
    "duration": 12,
    "start_time": "2022-12-08T10:48:42.007Z"
   },
   {
    "duration": 8,
    "start_time": "2022-12-08T10:52:31.296Z"
   },
   {
    "duration": 12,
    "start_time": "2022-12-08T10:52:37.818Z"
   },
   {
    "duration": 11,
    "start_time": "2022-12-08T10:52:52.325Z"
   },
   {
    "duration": 3,
    "start_time": "2022-12-08T10:53:14.420Z"
   },
   {
    "duration": 17,
    "start_time": "2022-12-08T10:53:16.528Z"
   },
   {
    "duration": 3,
    "start_time": "2022-12-08T10:55:34.516Z"
   },
   {
    "duration": 13,
    "start_time": "2022-12-08T10:55:35.266Z"
   },
   {
    "duration": 9,
    "start_time": "2022-12-08T10:55:51.116Z"
   },
   {
    "duration": 3,
    "start_time": "2022-12-08T10:56:06.532Z"
   },
   {
    "duration": 16,
    "start_time": "2022-12-08T10:56:07.087Z"
   },
   {
    "duration": 765,
    "start_time": "2022-12-08T17:23:45.441Z"
   },
   {
    "duration": 23,
    "start_time": "2022-12-08T17:23:46.208Z"
   },
   {
    "duration": 14,
    "start_time": "2022-12-08T17:23:46.236Z"
   },
   {
    "duration": 4,
    "start_time": "2022-12-08T17:23:46.252Z"
   },
   {
    "duration": 11,
    "start_time": "2022-12-08T17:23:46.258Z"
   },
   {
    "duration": 4,
    "start_time": "2022-12-08T17:23:46.270Z"
   },
   {
    "duration": 12,
    "start_time": "2022-12-08T17:23:46.275Z"
   },
   {
    "duration": 47,
    "start_time": "2022-12-08T17:23:46.288Z"
   },
   {
    "duration": 33,
    "start_time": "2022-12-08T17:23:46.337Z"
   },
   {
    "duration": 19,
    "start_time": "2022-12-08T17:23:46.374Z"
   },
   {
    "duration": 59,
    "start_time": "2022-12-08T17:23:46.395Z"
   },
   {
    "duration": 8,
    "start_time": "2022-12-08T17:23:46.456Z"
   },
   {
    "duration": 9,
    "start_time": "2022-12-08T17:23:46.465Z"
   },
   {
    "duration": 5,
    "start_time": "2022-12-08T17:23:46.476Z"
   },
   {
    "duration": 11,
    "start_time": "2022-12-08T17:23:46.482Z"
   },
   {
    "duration": 9,
    "start_time": "2022-12-08T17:23:46.494Z"
   },
   {
    "duration": 88,
    "start_time": "2022-12-08T17:23:46.526Z"
   },
   {
    "duration": 30,
    "start_time": "2022-12-08T17:23:46.616Z"
   },
   {
    "duration": 20,
    "start_time": "2022-12-08T17:23:46.650Z"
   },
   {
    "duration": 9,
    "start_time": "2022-12-08T17:23:46.671Z"
   },
   {
    "duration": 205,
    "start_time": "2022-12-08T17:23:46.682Z"
   },
   {
    "duration": 11,
    "start_time": "2022-12-08T17:23:46.888Z"
   },
   {
    "duration": 232,
    "start_time": "2022-12-08T17:23:46.901Z"
   },
   {
    "duration": 135,
    "start_time": "2022-12-08T17:23:47.140Z"
   },
   {
    "duration": 5,
    "start_time": "2022-12-08T17:23:47.276Z"
   },
   {
    "duration": 21,
    "start_time": "2022-12-08T17:23:47.283Z"
   },
   {
    "duration": 23,
    "start_time": "2022-12-08T17:23:47.306Z"
   },
   {
    "duration": 9,
    "start_time": "2022-12-08T17:23:47.343Z"
   },
   {
    "duration": 8,
    "start_time": "2022-12-08T17:23:47.353Z"
   },
   {
    "duration": 13,
    "start_time": "2022-12-08T17:23:47.362Z"
   },
   {
    "duration": 8,
    "start_time": "2022-12-08T17:23:47.376Z"
   },
   {
    "duration": 5,
    "start_time": "2022-12-08T17:23:47.386Z"
   },
   {
    "duration": 34,
    "start_time": "2022-12-08T17:23:47.393Z"
   },
   {
    "duration": 14,
    "start_time": "2022-12-08T17:23:47.430Z"
   },
   {
    "duration": 13,
    "start_time": "2022-12-08T17:23:47.445Z"
   },
   {
    "duration": 11,
    "start_time": "2022-12-08T17:23:47.460Z"
   },
   {
    "duration": 10,
    "start_time": "2022-12-08T17:23:47.472Z"
   },
   {
    "duration": 12,
    "start_time": "2022-12-08T17:23:47.483Z"
   },
   {
    "duration": 30,
    "start_time": "2022-12-08T17:23:47.497Z"
   },
   {
    "duration": 40,
    "start_time": "2022-12-08T17:23:47.528Z"
   },
   {
    "duration": 35,
    "start_time": "2022-12-08T17:23:47.570Z"
   },
   {
    "duration": 37,
    "start_time": "2022-12-08T17:23:47.606Z"
   },
   {
    "duration": 25,
    "start_time": "2022-12-08T17:23:47.644Z"
   },
   {
    "duration": 21,
    "start_time": "2022-12-08T17:23:47.671Z"
   },
   {
    "duration": 26,
    "start_time": "2022-12-08T17:23:47.694Z"
   },
   {
    "duration": 46,
    "start_time": "2022-12-08T17:23:47.721Z"
   },
   {
    "duration": 31,
    "start_time": "2022-12-08T17:23:47.768Z"
   },
   {
    "duration": 30,
    "start_time": "2022-12-08T17:23:47.801Z"
   },
   {
    "duration": 32,
    "start_time": "2022-12-08T17:23:47.833Z"
   },
   {
    "duration": 38,
    "start_time": "2022-12-08T17:23:47.867Z"
   },
   {
    "duration": 49,
    "start_time": "2022-12-08T17:23:47.907Z"
   },
   {
    "duration": 26,
    "start_time": "2022-12-08T17:23:47.957Z"
   },
   {
    "duration": 27,
    "start_time": "2022-12-08T17:23:47.985Z"
   },
   {
    "duration": 26,
    "start_time": "2022-12-08T17:23:48.014Z"
   },
   {
    "duration": 22,
    "start_time": "2022-12-08T17:23:48.043Z"
   },
   {
    "duration": 17,
    "start_time": "2022-12-08T17:23:48.067Z"
   },
   {
    "duration": 11,
    "start_time": "2022-12-08T17:23:48.086Z"
   },
   {
    "duration": 95,
    "start_time": "2022-12-08T17:23:48.099Z"
   },
   {
    "duration": 0,
    "start_time": "2022-12-08T17:23:48.195Z"
   },
   {
    "duration": 0,
    "start_time": "2022-12-08T17:23:48.196Z"
   },
   {
    "duration": 0,
    "start_time": "2022-12-08T17:23:48.198Z"
   },
   {
    "duration": 0,
    "start_time": "2022-12-08T17:23:48.199Z"
   },
   {
    "duration": 6,
    "start_time": "2022-12-08T17:24:54.688Z"
   },
   {
    "duration": 9,
    "start_time": "2022-12-08T17:25:20.042Z"
   },
   {
    "duration": 14,
    "start_time": "2022-12-08T17:25:39.640Z"
   },
   {
    "duration": 7,
    "start_time": "2022-12-08T17:26:29.670Z"
   },
   {
    "duration": 14,
    "start_time": "2022-12-08T17:26:41.056Z"
   },
   {
    "duration": 8,
    "start_time": "2022-12-08T17:28:25.649Z"
   },
   {
    "duration": 21,
    "start_time": "2022-12-08T17:28:30.121Z"
   },
   {
    "duration": 1186,
    "start_time": "2022-12-08T17:28:31.088Z"
   },
   {
    "duration": 12,
    "start_time": "2022-12-08T17:28:39.718Z"
   },
   {
    "duration": 8,
    "start_time": "2022-12-08T17:28:53.870Z"
   },
   {
    "duration": 7,
    "start_time": "2022-12-08T17:29:12.008Z"
   },
   {
    "duration": 20,
    "start_time": "2022-12-08T17:29:33.841Z"
   },
   {
    "duration": 8,
    "start_time": "2022-12-08T17:29:50.902Z"
   },
   {
    "duration": 7,
    "start_time": "2022-12-08T17:29:53.465Z"
   },
   {
    "duration": 11,
    "start_time": "2022-12-08T17:34:48.451Z"
   },
   {
    "duration": 12,
    "start_time": "2022-12-08T17:35:20.840Z"
   },
   {
    "duration": 7,
    "start_time": "2022-12-08T17:35:54.160Z"
   },
   {
    "duration": 11,
    "start_time": "2022-12-08T17:35:57.100Z"
   },
   {
    "duration": 10,
    "start_time": "2022-12-08T17:35:58.108Z"
   },
   {
    "duration": 7,
    "start_time": "2022-12-08T17:36:08.515Z"
   },
   {
    "duration": 14,
    "start_time": "2022-12-08T17:36:09.041Z"
   },
   {
    "duration": 8,
    "start_time": "2022-12-08T17:36:09.491Z"
   },
   {
    "duration": 6,
    "start_time": "2022-12-08T17:36:33.276Z"
   },
   {
    "duration": 10,
    "start_time": "2022-12-08T17:36:33.951Z"
   },
   {
    "duration": 10,
    "start_time": "2022-12-08T17:36:34.276Z"
   },
   {
    "duration": 11,
    "start_time": "2022-12-08T17:36:42.212Z"
   },
   {
    "duration": 15,
    "start_time": "2022-12-08T17:36:49.821Z"
   },
   {
    "duration": 6,
    "start_time": "2022-12-08T17:36:52.075Z"
   },
   {
    "duration": 823,
    "start_time": "2022-12-08T17:37:01.250Z"
   },
   {
    "duration": 23,
    "start_time": "2022-12-08T17:37:02.075Z"
   },
   {
    "duration": 19,
    "start_time": "2022-12-08T17:37:02.100Z"
   },
   {
    "duration": 22,
    "start_time": "2022-12-08T17:37:02.121Z"
   },
   {
    "duration": 20,
    "start_time": "2022-12-08T17:37:02.146Z"
   },
   {
    "duration": 34,
    "start_time": "2022-12-08T17:37:02.168Z"
   },
   {
    "duration": 58,
    "start_time": "2022-12-08T17:37:02.204Z"
   },
   {
    "duration": 18,
    "start_time": "2022-12-08T17:37:02.263Z"
   },
   {
    "duration": 30,
    "start_time": "2022-12-08T17:37:02.283Z"
   },
   {
    "duration": 19,
    "start_time": "2022-12-08T17:37:02.314Z"
   },
   {
    "duration": 47,
    "start_time": "2022-12-08T17:37:02.335Z"
   },
   {
    "duration": 20,
    "start_time": "2022-12-08T17:37:02.383Z"
   },
   {
    "duration": 35,
    "start_time": "2022-12-08T17:37:02.405Z"
   },
   {
    "duration": 18,
    "start_time": "2022-12-08T17:37:02.447Z"
   },
   {
    "duration": 25,
    "start_time": "2022-12-08T17:37:02.467Z"
   },
   {
    "duration": 12,
    "start_time": "2022-12-08T17:37:02.493Z"
   },
   {
    "duration": 101,
    "start_time": "2022-12-08T17:37:02.506Z"
   },
   {
    "duration": 23,
    "start_time": "2022-12-08T17:37:02.609Z"
   },
   {
    "duration": 39,
    "start_time": "2022-12-08T17:37:02.639Z"
   },
   {
    "duration": 8,
    "start_time": "2022-12-08T17:37:02.680Z"
   },
   {
    "duration": 197,
    "start_time": "2022-12-08T17:37:02.690Z"
   },
   {
    "duration": 11,
    "start_time": "2022-12-08T17:37:02.888Z"
   },
   {
    "duration": 190,
    "start_time": "2022-12-08T17:37:02.901Z"
   },
   {
    "duration": 138,
    "start_time": "2022-12-08T17:37:03.093Z"
   },
   {
    "duration": 5,
    "start_time": "2022-12-08T17:37:03.233Z"
   },
   {
    "duration": 39,
    "start_time": "2022-12-08T17:37:03.240Z"
   },
   {
    "duration": 4,
    "start_time": "2022-12-08T17:37:03.281Z"
   },
   {
    "duration": 20,
    "start_time": "2022-12-08T17:37:03.286Z"
   },
   {
    "duration": 9,
    "start_time": "2022-12-08T17:37:03.308Z"
   },
   {
    "duration": 25,
    "start_time": "2022-12-08T17:37:03.319Z"
   },
   {
    "duration": 35,
    "start_time": "2022-12-08T17:37:03.345Z"
   },
   {
    "duration": 7,
    "start_time": "2022-12-08T17:37:03.382Z"
   },
   {
    "duration": 9,
    "start_time": "2022-12-08T17:37:03.391Z"
   },
   {
    "duration": 11,
    "start_time": "2022-12-08T17:37:03.401Z"
   },
   {
    "duration": 11,
    "start_time": "2022-12-08T17:37:03.413Z"
   },
   {
    "duration": 50,
    "start_time": "2022-12-08T17:37:03.426Z"
   },
   {
    "duration": 16,
    "start_time": "2022-12-08T17:37:03.478Z"
   },
   {
    "duration": 11,
    "start_time": "2022-12-08T17:37:03.495Z"
   },
   {
    "duration": 16,
    "start_time": "2022-12-08T17:37:03.508Z"
   },
   {
    "duration": 56,
    "start_time": "2022-12-08T17:37:03.526Z"
   },
   {
    "duration": 25,
    "start_time": "2022-12-08T17:37:03.586Z"
   },
   {
    "duration": 9,
    "start_time": "2022-12-08T17:37:03.613Z"
   },
   {
    "duration": 36,
    "start_time": "2022-12-08T17:37:03.624Z"
   },
   {
    "duration": 14,
    "start_time": "2022-12-08T17:37:03.662Z"
   },
   {
    "duration": 29,
    "start_time": "2022-12-08T17:37:03.678Z"
   },
   {
    "duration": 12,
    "start_time": "2022-12-08T17:37:03.709Z"
   },
   {
    "duration": 40,
    "start_time": "2022-12-08T17:37:03.723Z"
   },
   {
    "duration": 18,
    "start_time": "2022-12-08T17:37:03.766Z"
   },
   {
    "duration": 26,
    "start_time": "2022-12-08T17:37:03.786Z"
   },
   {
    "duration": 73,
    "start_time": "2022-12-08T17:37:03.814Z"
   },
   {
    "duration": 20,
    "start_time": "2022-12-08T17:37:03.888Z"
   },
   {
    "duration": 20,
    "start_time": "2022-12-08T17:37:03.910Z"
   },
   {
    "duration": 57,
    "start_time": "2022-12-08T17:37:03.932Z"
   },
   {
    "duration": 7,
    "start_time": "2022-12-08T17:37:03.991Z"
   },
   {
    "duration": 41,
    "start_time": "2022-12-08T17:37:03.999Z"
   },
   {
    "duration": 31,
    "start_time": "2022-12-08T17:37:04.043Z"
   },
   {
    "duration": 20,
    "start_time": "2022-12-08T17:37:04.075Z"
   },
   {
    "duration": 32,
    "start_time": "2022-12-08T17:37:04.097Z"
   },
   {
    "duration": 32,
    "start_time": "2022-12-08T17:37:04.131Z"
   },
   {
    "duration": 13,
    "start_time": "2022-12-08T17:37:04.164Z"
   },
   {
    "duration": 19,
    "start_time": "2022-12-08T17:37:04.179Z"
   },
   {
    "duration": 24,
    "start_time": "2022-12-08T17:37:04.199Z"
   },
   {
    "duration": 56,
    "start_time": "2022-12-08T17:37:04.225Z"
   },
   {
    "duration": 7,
    "start_time": "2022-12-08T17:37:04.283Z"
   },
   {
    "duration": 29,
    "start_time": "2022-12-08T17:37:04.291Z"
   },
   {
    "duration": 94,
    "start_time": "2022-12-08T17:37:04.321Z"
   },
   {
    "duration": 0,
    "start_time": "2022-12-08T17:37:04.416Z"
   },
   {
    "duration": 0,
    "start_time": "2022-12-08T17:37:04.417Z"
   },
   {
    "duration": 0,
    "start_time": "2022-12-08T17:37:04.419Z"
   },
   {
    "duration": 0,
    "start_time": "2022-12-08T17:37:04.420Z"
   },
   {
    "duration": 11,
    "start_time": "2022-12-08T17:38:15.020Z"
   },
   {
    "duration": 6,
    "start_time": "2022-12-08T17:38:16.876Z"
   },
   {
    "duration": 16,
    "start_time": "2022-12-08T17:38:17.249Z"
   },
   {
    "duration": 8,
    "start_time": "2022-12-08T17:38:17.587Z"
   },
   {
    "duration": 768,
    "start_time": "2022-12-08T17:38:21.277Z"
   },
   {
    "duration": 25,
    "start_time": "2022-12-08T17:38:22.046Z"
   },
   {
    "duration": 17,
    "start_time": "2022-12-08T17:38:22.072Z"
   },
   {
    "duration": 5,
    "start_time": "2022-12-08T17:38:22.091Z"
   },
   {
    "duration": 32,
    "start_time": "2022-12-08T17:38:22.097Z"
   },
   {
    "duration": 13,
    "start_time": "2022-12-08T17:38:22.133Z"
   },
   {
    "duration": 17,
    "start_time": "2022-12-08T17:38:22.149Z"
   },
   {
    "duration": 15,
    "start_time": "2022-12-08T17:38:22.167Z"
   },
   {
    "duration": 66,
    "start_time": "2022-12-08T17:38:22.184Z"
   },
   {
    "duration": 24,
    "start_time": "2022-12-08T17:38:22.253Z"
   },
   {
    "duration": 28,
    "start_time": "2022-12-08T17:38:22.279Z"
   },
   {
    "duration": 7,
    "start_time": "2022-12-08T17:38:22.309Z"
   },
   {
    "duration": 16,
    "start_time": "2022-12-08T17:38:22.317Z"
   },
   {
    "duration": 19,
    "start_time": "2022-12-08T17:38:22.337Z"
   },
   {
    "duration": 11,
    "start_time": "2022-12-08T17:38:22.358Z"
   },
   {
    "duration": 6,
    "start_time": "2022-12-08T17:38:22.370Z"
   },
   {
    "duration": 61,
    "start_time": "2022-12-08T17:38:22.378Z"
   },
   {
    "duration": 24,
    "start_time": "2022-12-08T17:38:22.444Z"
   },
   {
    "duration": 20,
    "start_time": "2022-12-08T17:38:22.470Z"
   },
   {
    "duration": 9,
    "start_time": "2022-12-08T17:38:22.491Z"
   },
   {
    "duration": 234,
    "start_time": "2022-12-08T17:38:22.501Z"
   },
   {
    "duration": 17,
    "start_time": "2022-12-08T17:38:22.737Z"
   },
   {
    "duration": 209,
    "start_time": "2022-12-08T17:38:22.757Z"
   },
   {
    "duration": 122,
    "start_time": "2022-12-08T17:38:22.968Z"
   },
   {
    "duration": 5,
    "start_time": "2022-12-08T17:38:23.092Z"
   },
   {
    "duration": 39,
    "start_time": "2022-12-08T17:38:23.099Z"
   },
   {
    "duration": 6,
    "start_time": "2022-12-08T17:38:23.140Z"
   },
   {
    "duration": 19,
    "start_time": "2022-12-08T17:38:23.152Z"
   },
   {
    "duration": 11,
    "start_time": "2022-12-08T17:38:23.173Z"
   },
   {
    "duration": 15,
    "start_time": "2022-12-08T17:38:23.185Z"
   },
   {
    "duration": 14,
    "start_time": "2022-12-08T17:38:23.202Z"
   },
   {
    "duration": 21,
    "start_time": "2022-12-08T17:38:23.218Z"
   },
   {
    "duration": 26,
    "start_time": "2022-12-08T17:38:23.240Z"
   },
   {
    "duration": 14,
    "start_time": "2022-12-08T17:38:23.269Z"
   },
   {
    "duration": 10,
    "start_time": "2022-12-08T17:38:23.285Z"
   },
   {
    "duration": 12,
    "start_time": "2022-12-08T17:38:23.296Z"
   },
   {
    "duration": 7,
    "start_time": "2022-12-08T17:38:23.309Z"
   },
   {
    "duration": 34,
    "start_time": "2022-12-08T17:38:23.318Z"
   },
   {
    "duration": 8,
    "start_time": "2022-12-08T17:38:23.353Z"
   },
   {
    "duration": 11,
    "start_time": "2022-12-08T17:38:23.362Z"
   },
   {
    "duration": 7,
    "start_time": "2022-12-08T17:38:23.374Z"
   },
   {
    "duration": 14,
    "start_time": "2022-12-08T17:38:23.382Z"
   },
   {
    "duration": 3,
    "start_time": "2022-12-08T17:38:23.398Z"
   },
   {
    "duration": 6,
    "start_time": "2022-12-08T17:38:23.403Z"
   },
   {
    "duration": 9,
    "start_time": "2022-12-08T17:38:23.410Z"
   },
   {
    "duration": 35,
    "start_time": "2022-12-08T17:38:23.420Z"
   },
   {
    "duration": 4,
    "start_time": "2022-12-08T17:38:23.457Z"
   },
   {
    "duration": 13,
    "start_time": "2022-12-08T17:38:23.463Z"
   },
   {
    "duration": 9,
    "start_time": "2022-12-08T17:38:23.478Z"
   },
   {
    "duration": 20,
    "start_time": "2022-12-08T17:38:23.488Z"
   },
   {
    "duration": 23,
    "start_time": "2022-12-08T17:38:23.510Z"
   },
   {
    "duration": 26,
    "start_time": "2022-12-08T17:38:23.535Z"
   },
   {
    "duration": 27,
    "start_time": "2022-12-08T17:38:23.563Z"
   },
   {
    "duration": 6,
    "start_time": "2022-12-08T17:38:23.591Z"
   },
   {
    "duration": 45,
    "start_time": "2022-12-08T17:38:23.599Z"
   },
   {
    "duration": 7,
    "start_time": "2022-12-08T17:38:23.645Z"
   },
   {
    "duration": 13,
    "start_time": "2022-12-08T17:38:23.655Z"
   },
   {
    "duration": 14,
    "start_time": "2022-12-08T17:38:23.669Z"
   },
   {
    "duration": 10,
    "start_time": "2022-12-08T17:38:23.685Z"
   },
   {
    "duration": 11,
    "start_time": "2022-12-08T17:38:23.697Z"
   },
   {
    "duration": 22,
    "start_time": "2022-12-08T17:38:23.732Z"
   },
   {
    "duration": 9,
    "start_time": "2022-12-08T17:38:23.756Z"
   },
   {
    "duration": 15,
    "start_time": "2022-12-08T17:38:23.766Z"
   },
   {
    "duration": 12,
    "start_time": "2022-12-08T17:38:23.783Z"
   },
   {
    "duration": 42,
    "start_time": "2022-12-08T17:38:23.796Z"
   },
   {
    "duration": 88,
    "start_time": "2022-12-08T17:38:23.841Z"
   },
   {
    "duration": 0,
    "start_time": "2022-12-08T17:38:23.939Z"
   },
   {
    "duration": 0,
    "start_time": "2022-12-08T17:38:23.949Z"
   },
   {
    "duration": 0,
    "start_time": "2022-12-08T17:38:23.951Z"
   },
   {
    "duration": 0,
    "start_time": "2022-12-08T17:38:23.952Z"
   },
   {
    "duration": 1115,
    "start_time": "2022-12-09T06:06:30.566Z"
   },
   {
    "duration": 24,
    "start_time": "2022-12-09T06:06:31.683Z"
   },
   {
    "duration": 15,
    "start_time": "2022-12-09T06:06:31.709Z"
   },
   {
    "duration": 7,
    "start_time": "2022-12-09T06:06:31.726Z"
   },
   {
    "duration": 49,
    "start_time": "2022-12-09T06:06:31.735Z"
   },
   {
    "duration": 13,
    "start_time": "2022-12-09T06:06:31.786Z"
   },
   {
    "duration": 17,
    "start_time": "2022-12-09T06:06:31.801Z"
   },
   {
    "duration": 14,
    "start_time": "2022-12-09T06:06:31.820Z"
   },
   {
    "duration": 53,
    "start_time": "2022-12-09T06:06:31.844Z"
   },
   {
    "duration": 14,
    "start_time": "2022-12-09T06:06:31.898Z"
   },
   {
    "duration": 35,
    "start_time": "2022-12-09T06:06:31.914Z"
   },
   {
    "duration": 41,
    "start_time": "2022-12-09T06:06:31.950Z"
   },
   {
    "duration": 6,
    "start_time": "2022-12-09T06:06:31.993Z"
   },
   {
    "duration": 16,
    "start_time": "2022-12-09T06:06:32.003Z"
   },
   {
    "duration": 14,
    "start_time": "2022-12-09T06:06:32.020Z"
   },
   {
    "duration": 43,
    "start_time": "2022-12-09T06:06:32.039Z"
   },
   {
    "duration": 59,
    "start_time": "2022-12-09T06:06:32.084Z"
   },
   {
    "duration": 27,
    "start_time": "2022-12-09T06:06:32.145Z"
   },
   {
    "duration": 22,
    "start_time": "2022-12-09T06:06:32.174Z"
   },
   {
    "duration": 3,
    "start_time": "2022-12-09T06:06:32.198Z"
   },
   {
    "duration": 221,
    "start_time": "2022-12-09T06:06:32.202Z"
   },
   {
    "duration": 18,
    "start_time": "2022-12-09T06:06:32.425Z"
   },
   {
    "duration": 256,
    "start_time": "2022-12-09T06:06:32.444Z"
   },
   {
    "duration": 169,
    "start_time": "2022-12-09T06:06:32.702Z"
   },
   {
    "duration": 21,
    "start_time": "2022-12-09T06:06:32.878Z"
   },
   {
    "duration": 49,
    "start_time": "2022-12-09T06:06:32.908Z"
   },
   {
    "duration": 30,
    "start_time": "2022-12-09T06:06:32.959Z"
   },
   {
    "duration": 9,
    "start_time": "2022-12-09T06:06:32.992Z"
   },
   {
    "duration": 9,
    "start_time": "2022-12-09T06:06:33.003Z"
   },
   {
    "duration": 14,
    "start_time": "2022-12-09T06:06:33.014Z"
   },
   {
    "duration": 13,
    "start_time": "2022-12-09T06:06:33.031Z"
   },
   {
    "duration": 32,
    "start_time": "2022-12-09T06:06:33.046Z"
   },
   {
    "duration": 17,
    "start_time": "2022-12-09T06:06:33.080Z"
   },
   {
    "duration": 14,
    "start_time": "2022-12-09T06:06:33.099Z"
   },
   {
    "duration": 12,
    "start_time": "2022-12-09T06:06:33.114Z"
   },
   {
    "duration": 11,
    "start_time": "2022-12-09T06:06:33.128Z"
   },
   {
    "duration": 45,
    "start_time": "2022-12-09T06:06:33.141Z"
   },
   {
    "duration": 9,
    "start_time": "2022-12-09T06:06:33.189Z"
   },
   {
    "duration": 12,
    "start_time": "2022-12-09T06:06:33.200Z"
   },
   {
    "duration": 14,
    "start_time": "2022-12-09T06:06:33.214Z"
   },
   {
    "duration": 47,
    "start_time": "2022-12-09T06:06:33.232Z"
   },
   {
    "duration": 42,
    "start_time": "2022-12-09T06:06:33.281Z"
   },
   {
    "duration": 13,
    "start_time": "2022-12-09T06:06:33.325Z"
   },
   {
    "duration": 38,
    "start_time": "2022-12-09T06:06:33.340Z"
   },
   {
    "duration": 10,
    "start_time": "2022-12-09T06:06:33.380Z"
   },
   {
    "duration": 13,
    "start_time": "2022-12-09T06:06:33.392Z"
   },
   {
    "duration": 18,
    "start_time": "2022-12-09T06:06:33.407Z"
   },
   {
    "duration": 51,
    "start_time": "2022-12-09T06:06:33.427Z"
   },
   {
    "duration": 9,
    "start_time": "2022-12-09T06:06:33.480Z"
   },
   {
    "duration": 23,
    "start_time": "2022-12-09T06:06:33.491Z"
   },
   {
    "duration": 27,
    "start_time": "2022-12-09T06:06:33.516Z"
   },
   {
    "duration": 32,
    "start_time": "2022-12-09T06:06:33.545Z"
   },
   {
    "duration": 31,
    "start_time": "2022-12-09T06:06:33.579Z"
   },
   {
    "duration": 6,
    "start_time": "2022-12-09T06:06:33.611Z"
   },
   {
    "duration": 54,
    "start_time": "2022-12-09T06:06:33.619Z"
   },
   {
    "duration": 8,
    "start_time": "2022-12-09T06:06:33.675Z"
   },
   {
    "duration": 8,
    "start_time": "2022-12-09T06:06:33.685Z"
   },
   {
    "duration": 13,
    "start_time": "2022-12-09T06:06:33.694Z"
   },
   {
    "duration": 11,
    "start_time": "2022-12-09T06:06:33.708Z"
   },
   {
    "duration": 11,
    "start_time": "2022-12-09T06:06:33.740Z"
   },
   {
    "duration": 22,
    "start_time": "2022-12-09T06:06:33.761Z"
   },
   {
    "duration": 10,
    "start_time": "2022-12-09T06:06:33.785Z"
   },
   {
    "duration": 13,
    "start_time": "2022-12-09T06:06:33.797Z"
   },
   {
    "duration": 7,
    "start_time": "2022-12-09T06:06:33.811Z"
   },
   {
    "duration": 22,
    "start_time": "2022-12-09T06:06:33.819Z"
   },
   {
    "duration": 116,
    "start_time": "2022-12-09T06:06:33.843Z"
   },
   {
    "duration": 0,
    "start_time": "2022-12-09T06:06:33.960Z"
   },
   {
    "duration": 0,
    "start_time": "2022-12-09T06:06:33.961Z"
   },
   {
    "duration": 0,
    "start_time": "2022-12-09T06:06:33.961Z"
   },
   {
    "duration": 0,
    "start_time": "2022-12-09T06:06:33.962Z"
   },
   {
    "duration": 5,
    "start_time": "2022-12-09T06:08:05.461Z"
   },
   {
    "duration": 305,
    "start_time": "2022-12-09T06:09:40.473Z"
   },
   {
    "duration": 873,
    "start_time": "2022-12-09T06:10:06.317Z"
   },
   {
    "duration": 32,
    "start_time": "2022-12-09T06:10:07.192Z"
   },
   {
    "duration": 27,
    "start_time": "2022-12-09T06:10:07.225Z"
   },
   {
    "duration": 24,
    "start_time": "2022-12-09T06:10:07.260Z"
   },
   {
    "duration": 17,
    "start_time": "2022-12-09T06:10:07.286Z"
   },
   {
    "duration": 6,
    "start_time": "2022-12-09T06:10:07.306Z"
   },
   {
    "duration": 25,
    "start_time": "2022-12-09T06:10:07.314Z"
   },
   {
    "duration": 42,
    "start_time": "2022-12-09T06:10:07.341Z"
   },
   {
    "duration": 26,
    "start_time": "2022-12-09T06:10:07.385Z"
   },
   {
    "duration": 16,
    "start_time": "2022-12-09T06:10:07.415Z"
   },
   {
    "duration": 47,
    "start_time": "2022-12-09T06:10:07.433Z"
   },
   {
    "duration": 17,
    "start_time": "2022-12-09T06:10:07.482Z"
   },
   {
    "duration": 5,
    "start_time": "2022-12-09T06:10:07.501Z"
   },
   {
    "duration": 7,
    "start_time": "2022-12-09T06:10:07.508Z"
   },
   {
    "duration": 60,
    "start_time": "2022-12-09T06:10:07.516Z"
   },
   {
    "duration": 16,
    "start_time": "2022-12-09T06:10:07.578Z"
   },
   {
    "duration": 78,
    "start_time": "2022-12-09T06:10:07.596Z"
   },
   {
    "duration": 22,
    "start_time": "2022-12-09T06:10:07.677Z"
   },
   {
    "duration": 38,
    "start_time": "2022-12-09T06:10:07.701Z"
   },
   {
    "duration": 7,
    "start_time": "2022-12-09T06:10:07.740Z"
   },
   {
    "duration": 255,
    "start_time": "2022-12-09T06:10:07.749Z"
   },
   {
    "duration": 12,
    "start_time": "2022-12-09T06:10:08.005Z"
   },
   {
    "duration": 250,
    "start_time": "2022-12-09T06:10:08.019Z"
   },
   {
    "duration": 142,
    "start_time": "2022-12-09T06:10:08.271Z"
   },
   {
    "duration": 7,
    "start_time": "2022-12-09T06:10:08.414Z"
   },
   {
    "duration": 51,
    "start_time": "2022-12-09T06:10:08.423Z"
   },
   {
    "duration": 7,
    "start_time": "2022-12-09T06:10:08.476Z"
   },
   {
    "duration": 6,
    "start_time": "2022-12-09T06:10:08.488Z"
   },
   {
    "duration": 10,
    "start_time": "2022-12-09T06:10:08.496Z"
   },
   {
    "duration": 38,
    "start_time": "2022-12-09T06:10:08.509Z"
   },
   {
    "duration": 38,
    "start_time": "2022-12-09T06:10:08.549Z"
   },
   {
    "duration": 6,
    "start_time": "2022-12-09T06:10:08.589Z"
   },
   {
    "duration": 12,
    "start_time": "2022-12-09T06:10:08.596Z"
   },
   {
    "duration": 16,
    "start_time": "2022-12-09T06:10:08.610Z"
   },
   {
    "duration": 8,
    "start_time": "2022-12-09T06:10:08.628Z"
   },
   {
    "duration": 34,
    "start_time": "2022-12-09T06:10:08.638Z"
   },
   {
    "duration": 34,
    "start_time": "2022-12-09T06:10:08.674Z"
   },
   {
    "duration": 8,
    "start_time": "2022-12-09T06:10:08.710Z"
   },
   {
    "duration": 25,
    "start_time": "2022-12-09T06:10:08.720Z"
   },
   {
    "duration": 26,
    "start_time": "2022-12-09T06:10:08.754Z"
   },
   {
    "duration": 15,
    "start_time": "2022-12-09T06:10:08.782Z"
   },
   {
    "duration": 13,
    "start_time": "2022-12-09T06:10:08.799Z"
   },
   {
    "duration": 5,
    "start_time": "2022-12-09T06:10:08.814Z"
   },
   {
    "duration": 7,
    "start_time": "2022-12-09T06:10:08.821Z"
   },
   {
    "duration": 51,
    "start_time": "2022-12-09T06:10:08.830Z"
   },
   {
    "duration": 15,
    "start_time": "2022-12-09T06:10:08.883Z"
   },
   {
    "duration": 6,
    "start_time": "2022-12-09T06:10:08.900Z"
   },
   {
    "duration": 22,
    "start_time": "2022-12-09T06:10:08.907Z"
   },
   {
    "duration": 17,
    "start_time": "2022-12-09T06:10:08.931Z"
   },
   {
    "duration": 48,
    "start_time": "2022-12-09T06:10:08.950Z"
   },
   {
    "duration": 24,
    "start_time": "2022-12-09T06:10:09.000Z"
   },
   {
    "duration": 37,
    "start_time": "2022-12-09T06:10:09.026Z"
   },
   {
    "duration": 30,
    "start_time": "2022-12-09T06:10:09.068Z"
   },
   {
    "duration": 7,
    "start_time": "2022-12-09T06:10:09.100Z"
   },
   {
    "duration": 45,
    "start_time": "2022-12-09T06:10:09.109Z"
   },
   {
    "duration": 49,
    "start_time": "2022-12-09T06:10:09.155Z"
   },
   {
    "duration": 307,
    "start_time": "2022-12-09T06:10:09.206Z"
   },
   {
    "duration": 5,
    "start_time": "2022-12-09T06:10:09.515Z"
   },
   {
    "duration": 24,
    "start_time": "2022-12-09T06:10:09.522Z"
   },
   {
    "duration": 37,
    "start_time": "2022-12-09T06:10:09.548Z"
   },
   {
    "duration": 13,
    "start_time": "2022-12-09T06:10:09.586Z"
   },
   {
    "duration": 10,
    "start_time": "2022-12-09T06:10:09.601Z"
   },
   {
    "duration": 12,
    "start_time": "2022-12-09T06:10:09.612Z"
   },
   {
    "duration": 17,
    "start_time": "2022-12-09T06:10:09.626Z"
   },
   {
    "duration": 51,
    "start_time": "2022-12-09T06:10:09.645Z"
   },
   {
    "duration": 14,
    "start_time": "2022-12-09T06:10:09.698Z"
   },
   {
    "duration": 25,
    "start_time": "2022-12-09T06:10:09.714Z"
   },
   {
    "duration": 116,
    "start_time": "2022-12-09T06:10:09.742Z"
   },
   {
    "duration": 0,
    "start_time": "2022-12-09T06:10:09.867Z"
   },
   {
    "duration": 0,
    "start_time": "2022-12-09T06:10:09.868Z"
   },
   {
    "duration": 0,
    "start_time": "2022-12-09T06:10:09.869Z"
   },
   {
    "duration": 0,
    "start_time": "2022-12-09T06:10:09.870Z"
   },
   {
    "duration": 31,
    "start_time": "2022-12-09T06:12:08.571Z"
   },
   {
    "duration": 9,
    "start_time": "2022-12-09T06:12:25.533Z"
   },
   {
    "duration": 16,
    "start_time": "2022-12-09T06:12:26.385Z"
   },
   {
    "duration": 11,
    "start_time": "2022-12-09T06:15:26.869Z"
   },
   {
    "duration": 28,
    "start_time": "2022-12-09T06:15:32.972Z"
   },
   {
    "duration": 12,
    "start_time": "2022-12-09T06:15:44.577Z"
   },
   {
    "duration": 4,
    "start_time": "2022-12-09T06:16:00.868Z"
   },
   {
    "duration": 380,
    "start_time": "2022-12-09T06:16:01.519Z"
   },
   {
    "duration": 823,
    "start_time": "2022-12-09T06:16:20.704Z"
   },
   {
    "duration": 30,
    "start_time": "2022-12-09T06:16:21.529Z"
   },
   {
    "duration": 33,
    "start_time": "2022-12-09T06:16:21.561Z"
   },
   {
    "duration": 31,
    "start_time": "2022-12-09T06:16:21.597Z"
   },
   {
    "duration": 151,
    "start_time": "2022-12-09T06:16:21.630Z"
   },
   {
    "duration": 5,
    "start_time": "2022-12-09T06:16:21.783Z"
   },
   {
    "duration": 27,
    "start_time": "2022-12-09T06:16:21.790Z"
   },
   {
    "duration": 14,
    "start_time": "2022-12-09T06:16:21.819Z"
   },
   {
    "duration": 50,
    "start_time": "2022-12-09T06:16:21.834Z"
   },
   {
    "duration": 20,
    "start_time": "2022-12-09T06:16:21.887Z"
   },
   {
    "duration": 40,
    "start_time": "2022-12-09T06:16:21.909Z"
   },
   {
    "duration": 10,
    "start_time": "2022-12-09T06:16:21.950Z"
   },
   {
    "duration": 11,
    "start_time": "2022-12-09T06:16:21.968Z"
   },
   {
    "duration": 7,
    "start_time": "2022-12-09T06:16:21.981Z"
   },
   {
    "duration": 12,
    "start_time": "2022-12-09T06:16:21.990Z"
   },
   {
    "duration": 13,
    "start_time": "2022-12-09T06:16:22.004Z"
   },
   {
    "duration": 103,
    "start_time": "2022-12-09T06:16:22.019Z"
   },
   {
    "duration": 22,
    "start_time": "2022-12-09T06:16:22.123Z"
   },
   {
    "duration": 50,
    "start_time": "2022-12-09T06:16:22.154Z"
   },
   {
    "duration": 9,
    "start_time": "2022-12-09T06:16:22.206Z"
   },
   {
    "duration": 245,
    "start_time": "2022-12-09T06:16:22.217Z"
   },
   {
    "duration": 20,
    "start_time": "2022-12-09T06:16:22.464Z"
   },
   {
    "duration": 280,
    "start_time": "2022-12-09T06:16:22.486Z"
   },
   {
    "duration": 185,
    "start_time": "2022-12-09T06:16:22.767Z"
   },
   {
    "duration": 11,
    "start_time": "2022-12-09T06:16:22.960Z"
   },
   {
    "duration": 20,
    "start_time": "2022-12-09T06:16:22.976Z"
   },
   {
    "duration": 5,
    "start_time": "2022-12-09T06:16:22.997Z"
   },
   {
    "duration": 7,
    "start_time": "2022-12-09T06:16:23.006Z"
   },
   {
    "duration": 11,
    "start_time": "2022-12-09T06:16:23.015Z"
   },
   {
    "duration": 24,
    "start_time": "2022-12-09T06:16:23.028Z"
   },
   {
    "duration": 36,
    "start_time": "2022-12-09T06:16:23.053Z"
   },
   {
    "duration": 8,
    "start_time": "2022-12-09T06:16:23.091Z"
   },
   {
    "duration": 8,
    "start_time": "2022-12-09T06:16:23.101Z"
   },
   {
    "duration": 11,
    "start_time": "2022-12-09T06:16:23.110Z"
   },
   {
    "duration": 9,
    "start_time": "2022-12-09T06:16:23.123Z"
   },
   {
    "duration": 47,
    "start_time": "2022-12-09T06:16:23.134Z"
   },
   {
    "duration": 24,
    "start_time": "2022-12-09T06:16:23.182Z"
   },
   {
    "duration": 8,
    "start_time": "2022-12-09T06:16:23.208Z"
   },
   {
    "duration": 9,
    "start_time": "2022-12-09T06:16:23.218Z"
   },
   {
    "duration": 10,
    "start_time": "2022-12-09T06:16:23.229Z"
   },
   {
    "duration": 43,
    "start_time": "2022-12-09T06:16:23.240Z"
   },
   {
    "duration": 11,
    "start_time": "2022-12-09T06:16:23.284Z"
   },
   {
    "duration": 6,
    "start_time": "2022-12-09T06:16:23.297Z"
   },
   {
    "duration": 7,
    "start_time": "2022-12-09T06:16:23.304Z"
   },
   {
    "duration": 35,
    "start_time": "2022-12-09T06:16:23.312Z"
   },
   {
    "duration": 37,
    "start_time": "2022-12-09T06:16:23.348Z"
   },
   {
    "duration": 29,
    "start_time": "2022-12-09T06:16:23.387Z"
   },
   {
    "duration": 12,
    "start_time": "2022-12-09T06:16:23.418Z"
   },
   {
    "duration": 46,
    "start_time": "2022-12-09T06:16:23.431Z"
   },
   {
    "duration": 18,
    "start_time": "2022-12-09T06:16:23.479Z"
   },
   {
    "duration": 35,
    "start_time": "2022-12-09T06:16:23.499Z"
   },
   {
    "duration": 28,
    "start_time": "2022-12-09T06:16:23.542Z"
   },
   {
    "duration": 30,
    "start_time": "2022-12-09T06:16:23.571Z"
   },
   {
    "duration": 6,
    "start_time": "2022-12-09T06:16:23.603Z"
   },
   {
    "duration": 39,
    "start_time": "2022-12-09T06:16:23.611Z"
   },
   {
    "duration": 38,
    "start_time": "2022-12-09T06:16:23.652Z"
   },
   {
    "duration": 12,
    "start_time": "2022-12-09T06:16:23.692Z"
   },
   {
    "duration": 267,
    "start_time": "2022-12-09T06:16:23.706Z"
   },
   {
    "duration": 6,
    "start_time": "2022-12-09T06:16:23.975Z"
   },
   {
    "duration": 32,
    "start_time": "2022-12-09T06:16:23.983Z"
   },
   {
    "duration": 50,
    "start_time": "2022-12-09T06:16:24.017Z"
   },
   {
    "duration": 27,
    "start_time": "2022-12-09T06:16:24.069Z"
   },
   {
    "duration": 10,
    "start_time": "2022-12-09T06:16:24.098Z"
   },
   {
    "duration": 9,
    "start_time": "2022-12-09T06:16:24.110Z"
   },
   {
    "duration": 11,
    "start_time": "2022-12-09T06:16:24.121Z"
   },
   {
    "duration": 49,
    "start_time": "2022-12-09T06:16:24.135Z"
   },
   {
    "duration": 7,
    "start_time": "2022-12-09T06:16:24.186Z"
   },
   {
    "duration": 15,
    "start_time": "2022-12-09T06:16:24.195Z"
   },
   {
    "duration": 90,
    "start_time": "2022-12-09T06:16:24.212Z"
   },
   {
    "duration": 0,
    "start_time": "2022-12-09T06:16:24.304Z"
   },
   {
    "duration": 0,
    "start_time": "2022-12-09T06:16:24.306Z"
   },
   {
    "duration": 0,
    "start_time": "2022-12-09T06:16:24.307Z"
   },
   {
    "duration": 0,
    "start_time": "2022-12-09T06:16:24.308Z"
   },
   {
    "duration": 5,
    "start_time": "2022-12-09T06:20:01.917Z"
   },
   {
    "duration": 1129,
    "start_time": "2022-12-09T06:20:04.897Z"
   },
   {
    "duration": 888,
    "start_time": "2022-12-09T06:21:03.283Z"
   },
   {
    "duration": 30,
    "start_time": "2022-12-09T06:21:04.173Z"
   },
   {
    "duration": 18,
    "start_time": "2022-12-09T06:21:04.205Z"
   },
   {
    "duration": 6,
    "start_time": "2022-12-09T06:21:04.225Z"
   },
   {
    "duration": 37,
    "start_time": "2022-12-09T06:21:04.234Z"
   },
   {
    "duration": 5,
    "start_time": "2022-12-09T06:21:04.273Z"
   },
   {
    "duration": 13,
    "start_time": "2022-12-09T06:21:04.280Z"
   },
   {
    "duration": 31,
    "start_time": "2022-12-09T06:21:04.295Z"
   },
   {
    "duration": 34,
    "start_time": "2022-12-09T06:21:04.328Z"
   },
   {
    "duration": 22,
    "start_time": "2022-12-09T06:21:04.366Z"
   },
   {
    "duration": 53,
    "start_time": "2022-12-09T06:21:04.390Z"
   },
   {
    "duration": 11,
    "start_time": "2022-12-09T06:21:04.444Z"
   },
   {
    "duration": 5,
    "start_time": "2022-12-09T06:21:04.457Z"
   },
   {
    "duration": 5,
    "start_time": "2022-12-09T06:21:04.466Z"
   },
   {
    "duration": 21,
    "start_time": "2022-12-09T06:21:04.473Z"
   },
   {
    "duration": 14,
    "start_time": "2022-12-09T06:21:04.496Z"
   },
   {
    "duration": 93,
    "start_time": "2022-12-09T06:21:04.512Z"
   },
   {
    "duration": 39,
    "start_time": "2022-12-09T06:21:04.607Z"
   },
   {
    "duration": 31,
    "start_time": "2022-12-09T06:21:04.647Z"
   },
   {
    "duration": 6,
    "start_time": "2022-12-09T06:21:04.680Z"
   },
   {
    "duration": 231,
    "start_time": "2022-12-09T06:21:04.688Z"
   },
   {
    "duration": 23,
    "start_time": "2022-12-09T06:21:04.921Z"
   },
   {
    "duration": 200,
    "start_time": "2022-12-09T06:21:04.950Z"
   },
   {
    "duration": 135,
    "start_time": "2022-12-09T06:21:05.154Z"
   },
   {
    "duration": 7,
    "start_time": "2022-12-09T06:21:05.291Z"
   },
   {
    "duration": 48,
    "start_time": "2022-12-09T06:21:05.300Z"
   },
   {
    "duration": 8,
    "start_time": "2022-12-09T06:21:05.350Z"
   },
   {
    "duration": 14,
    "start_time": "2022-12-09T06:21:05.359Z"
   },
   {
    "duration": 13,
    "start_time": "2022-12-09T06:21:05.375Z"
   },
   {
    "duration": 14,
    "start_time": "2022-12-09T06:21:05.389Z"
   },
   {
    "duration": 14,
    "start_time": "2022-12-09T06:21:05.405Z"
   },
   {
    "duration": 21,
    "start_time": "2022-12-09T06:21:05.421Z"
   },
   {
    "duration": 18,
    "start_time": "2022-12-09T06:21:05.444Z"
   },
   {
    "duration": 11,
    "start_time": "2022-12-09T06:21:05.464Z"
   },
   {
    "duration": 14,
    "start_time": "2022-12-09T06:21:05.476Z"
   },
   {
    "duration": 7,
    "start_time": "2022-12-09T06:21:05.492Z"
   },
   {
    "duration": 11,
    "start_time": "2022-12-09T06:21:05.501Z"
   },
   {
    "duration": 12,
    "start_time": "2022-12-09T06:21:05.514Z"
   },
   {
    "duration": 26,
    "start_time": "2022-12-09T06:21:05.537Z"
   },
   {
    "duration": 9,
    "start_time": "2022-12-09T06:21:05.564Z"
   },
   {
    "duration": 16,
    "start_time": "2022-12-09T06:21:05.578Z"
   },
   {
    "duration": 19,
    "start_time": "2022-12-09T06:21:05.596Z"
   },
   {
    "duration": 11,
    "start_time": "2022-12-09T06:21:05.617Z"
   },
   {
    "duration": 26,
    "start_time": "2022-12-09T06:21:05.630Z"
   },
   {
    "duration": 41,
    "start_time": "2022-12-09T06:21:05.658Z"
   },
   {
    "duration": 33,
    "start_time": "2022-12-09T06:21:05.701Z"
   },
   {
    "duration": 28,
    "start_time": "2022-12-09T06:21:05.739Z"
   },
   {
    "duration": 31,
    "start_time": "2022-12-09T06:21:05.769Z"
   },
   {
    "duration": 18,
    "start_time": "2022-12-09T06:21:05.802Z"
   },
   {
    "duration": 32,
    "start_time": "2022-12-09T06:21:05.822Z"
   },
   {
    "duration": 25,
    "start_time": "2022-12-09T06:21:05.855Z"
   },
   {
    "duration": 22,
    "start_time": "2022-12-09T06:21:05.882Z"
   },
   {
    "duration": 57,
    "start_time": "2022-12-09T06:21:05.906Z"
   },
   {
    "duration": 8,
    "start_time": "2022-12-09T06:21:05.965Z"
   },
   {
    "duration": 53,
    "start_time": "2022-12-09T06:21:05.975Z"
   },
   {
    "duration": 39,
    "start_time": "2022-12-09T06:21:06.031Z"
   },
   {
    "duration": 19,
    "start_time": "2022-12-09T06:21:06.072Z"
   },
   {
    "duration": 1239,
    "start_time": "2022-12-09T06:21:06.093Z"
   },
   {
    "duration": 0,
    "start_time": "2022-12-09T06:21:07.337Z"
   },
   {
    "duration": 0,
    "start_time": "2022-12-09T06:21:07.337Z"
   },
   {
    "duration": 0,
    "start_time": "2022-12-09T06:21:07.338Z"
   },
   {
    "duration": 0,
    "start_time": "2022-12-09T06:21:07.340Z"
   },
   {
    "duration": 0,
    "start_time": "2022-12-09T06:21:07.340Z"
   },
   {
    "duration": 0,
    "start_time": "2022-12-09T06:21:07.341Z"
   },
   {
    "duration": 0,
    "start_time": "2022-12-09T06:21:07.342Z"
   },
   {
    "duration": 0,
    "start_time": "2022-12-09T06:21:07.345Z"
   },
   {
    "duration": 0,
    "start_time": "2022-12-09T06:21:07.346Z"
   },
   {
    "duration": 0,
    "start_time": "2022-12-09T06:21:07.347Z"
   },
   {
    "duration": 0,
    "start_time": "2022-12-09T06:21:07.347Z"
   },
   {
    "duration": 0,
    "start_time": "2022-12-09T06:21:07.351Z"
   },
   {
    "duration": 0,
    "start_time": "2022-12-09T06:21:07.354Z"
   },
   {
    "duration": 0,
    "start_time": "2022-12-09T06:21:07.357Z"
   },
   {
    "duration": 0,
    "start_time": "2022-12-09T06:21:07.358Z"
   },
   {
    "duration": 17,
    "start_time": "2022-12-09T06:24:16.721Z"
   },
   {
    "duration": 4,
    "start_time": "2022-12-09T06:24:17.874Z"
   },
   {
    "duration": 1029,
    "start_time": "2022-12-09T06:24:18.589Z"
   },
   {
    "duration": 10,
    "start_time": "2022-12-09T07:31:46.592Z"
   },
   {
    "duration": 14,
    "start_time": "2022-12-09T07:31:50.862Z"
   },
   {
    "duration": 3,
    "start_time": "2022-12-09T07:31:51.254Z"
   },
   {
    "duration": 11,
    "start_time": "2022-12-09T07:31:51.681Z"
   },
   {
    "duration": 13,
    "start_time": "2022-12-09T07:32:52.916Z"
   },
   {
    "duration": 4,
    "start_time": "2022-12-09T07:32:53.440Z"
   },
   {
    "duration": 1161,
    "start_time": "2022-12-09T07:32:53.895Z"
   },
   {
    "duration": 75,
    "start_time": "2022-12-09T07:33:31.118Z"
   },
   {
    "duration": 1190,
    "start_time": "2022-12-09T07:33:32.174Z"
   },
   {
    "duration": 4,
    "start_time": "2022-12-09T07:34:01.059Z"
   },
   {
    "duration": 267,
    "start_time": "2022-12-09T07:34:02.054Z"
   },
   {
    "duration": 19,
    "start_time": "2022-12-09T07:38:42.295Z"
   },
   {
    "duration": 3,
    "start_time": "2022-12-09T07:39:41.426Z"
   },
   {
    "duration": 231,
    "start_time": "2022-12-09T07:39:41.858Z"
   },
   {
    "duration": 207,
    "start_time": "2022-12-09T07:39:47.780Z"
   },
   {
    "duration": 56,
    "start_time": "2022-12-09T07:40:17.034Z"
   },
   {
    "duration": 245,
    "start_time": "2022-12-09T07:40:17.515Z"
   },
   {
    "duration": 3,
    "start_time": "2022-12-09T07:41:11.867Z"
   },
   {
    "duration": 5,
    "start_time": "2022-12-09T07:41:12.758Z"
   },
   {
    "duration": 6,
    "start_time": "2022-12-09T07:41:14.016Z"
   },
   {
    "duration": 36,
    "start_time": "2022-12-09T07:41:26.740Z"
   },
   {
    "duration": 28,
    "start_time": "2022-12-09T07:42:32.392Z"
   },
   {
    "duration": 780,
    "start_time": "2022-12-09T07:43:18.158Z"
   },
   {
    "duration": 34,
    "start_time": "2022-12-09T07:43:18.940Z"
   },
   {
    "duration": 35,
    "start_time": "2022-12-09T07:43:18.976Z"
   },
   {
    "duration": 16,
    "start_time": "2022-12-09T07:43:19.014Z"
   },
   {
    "duration": 30,
    "start_time": "2022-12-09T07:43:19.035Z"
   },
   {
    "duration": 21,
    "start_time": "2022-12-09T07:43:19.067Z"
   },
   {
    "duration": 35,
    "start_time": "2022-12-09T07:43:19.090Z"
   },
   {
    "duration": 61,
    "start_time": "2022-12-09T07:43:19.127Z"
   },
   {
    "duration": 47,
    "start_time": "2022-12-09T07:43:19.189Z"
   },
   {
    "duration": 25,
    "start_time": "2022-12-09T07:43:19.239Z"
   },
   {
    "duration": 41,
    "start_time": "2022-12-09T07:43:19.265Z"
   },
   {
    "duration": 8,
    "start_time": "2022-12-09T07:43:19.308Z"
   },
   {
    "duration": 21,
    "start_time": "2022-12-09T07:43:19.317Z"
   },
   {
    "duration": 9,
    "start_time": "2022-12-09T07:43:19.340Z"
   },
   {
    "duration": 23,
    "start_time": "2022-12-09T07:43:19.351Z"
   },
   {
    "duration": 23,
    "start_time": "2022-12-09T07:43:19.375Z"
   },
   {
    "duration": 58,
    "start_time": "2022-12-09T07:43:19.400Z"
   },
   {
    "duration": 21,
    "start_time": "2022-12-09T07:43:19.459Z"
   },
   {
    "duration": 34,
    "start_time": "2022-12-09T07:43:19.482Z"
   },
   {
    "duration": 18,
    "start_time": "2022-12-09T07:43:19.517Z"
   },
   {
    "duration": 199,
    "start_time": "2022-12-09T07:43:19.536Z"
   },
   {
    "duration": 10,
    "start_time": "2022-12-09T07:43:19.737Z"
   },
   {
    "duration": 190,
    "start_time": "2022-12-09T07:43:19.748Z"
   },
   {
    "duration": 135,
    "start_time": "2022-12-09T07:43:19.940Z"
   },
   {
    "duration": 6,
    "start_time": "2022-12-09T07:43:20.076Z"
   },
   {
    "duration": 44,
    "start_time": "2022-12-09T07:43:20.083Z"
   },
   {
    "duration": 14,
    "start_time": "2022-12-09T07:43:20.128Z"
   },
   {
    "duration": 27,
    "start_time": "2022-12-09T07:43:20.146Z"
   },
   {
    "duration": 27,
    "start_time": "2022-12-09T07:43:20.175Z"
   },
   {
    "duration": 34,
    "start_time": "2022-12-09T07:43:20.204Z"
   },
   {
    "duration": 31,
    "start_time": "2022-12-09T07:43:20.240Z"
   },
   {
    "duration": 17,
    "start_time": "2022-12-09T07:43:20.273Z"
   },
   {
    "duration": 21,
    "start_time": "2022-12-09T07:43:20.292Z"
   },
   {
    "duration": 31,
    "start_time": "2022-12-09T07:43:20.315Z"
   },
   {
    "duration": 29,
    "start_time": "2022-12-09T07:43:20.348Z"
   },
   {
    "duration": 24,
    "start_time": "2022-12-09T07:43:20.379Z"
   },
   {
    "duration": 28,
    "start_time": "2022-12-09T07:43:20.405Z"
   },
   {
    "duration": 22,
    "start_time": "2022-12-09T07:43:20.435Z"
   },
   {
    "duration": 32,
    "start_time": "2022-12-09T07:43:20.458Z"
   },
   {
    "duration": 17,
    "start_time": "2022-12-09T07:43:20.492Z"
   },
   {
    "duration": 28,
    "start_time": "2022-12-09T07:43:20.511Z"
   },
   {
    "duration": 29,
    "start_time": "2022-12-09T07:43:20.542Z"
   },
   {
    "duration": 30,
    "start_time": "2022-12-09T07:43:20.572Z"
   },
   {
    "duration": 18,
    "start_time": "2022-12-09T07:43:20.604Z"
   },
   {
    "duration": 42,
    "start_time": "2022-12-09T07:43:20.623Z"
   },
   {
    "duration": 29,
    "start_time": "2022-12-09T07:43:20.667Z"
   },
   {
    "duration": 17,
    "start_time": "2022-12-09T07:43:20.698Z"
   },
   {
    "duration": 42,
    "start_time": "2022-12-09T07:43:20.717Z"
   },
   {
    "duration": 18,
    "start_time": "2022-12-09T07:43:20.761Z"
   },
   {
    "duration": 46,
    "start_time": "2022-12-09T07:43:20.781Z"
   },
   {
    "duration": 42,
    "start_time": "2022-12-09T07:43:20.829Z"
   },
   {
    "duration": 22,
    "start_time": "2022-12-09T07:43:20.873Z"
   },
   {
    "duration": 54,
    "start_time": "2022-12-09T07:43:20.896Z"
   },
   {
    "duration": 13,
    "start_time": "2022-12-09T07:43:20.951Z"
   },
   {
    "duration": 47,
    "start_time": "2022-12-09T07:43:20.966Z"
   },
   {
    "duration": 10,
    "start_time": "2022-12-09T07:43:21.015Z"
   },
   {
    "duration": 39,
    "start_time": "2022-12-09T07:43:21.026Z"
   },
   {
    "duration": 29,
    "start_time": "2022-12-09T07:43:21.067Z"
   },
   {
    "duration": 36,
    "start_time": "2022-12-09T07:43:21.098Z"
   },
   {
    "duration": 32,
    "start_time": "2022-12-09T07:43:21.135Z"
   },
   {
    "duration": 180,
    "start_time": "2022-12-09T07:43:21.169Z"
   },
   {
    "duration": 6,
    "start_time": "2022-12-09T07:43:21.350Z"
   },
   {
    "duration": 28,
    "start_time": "2022-12-09T07:43:21.357Z"
   },
   {
    "duration": 43,
    "start_time": "2022-12-09T07:43:21.386Z"
   },
   {
    "duration": 27,
    "start_time": "2022-12-09T07:43:21.431Z"
   },
   {
    "duration": 34,
    "start_time": "2022-12-09T07:43:21.460Z"
   },
   {
    "duration": 32,
    "start_time": "2022-12-09T07:43:21.496Z"
   },
   {
    "duration": 42,
    "start_time": "2022-12-09T07:43:21.530Z"
   },
   {
    "duration": 32,
    "start_time": "2022-12-09T07:43:21.574Z"
   },
   {
    "duration": 25,
    "start_time": "2022-12-09T07:43:21.608Z"
   },
   {
    "duration": 44,
    "start_time": "2022-12-09T07:43:21.635Z"
   },
   {
    "duration": 106,
    "start_time": "2022-12-09T07:43:21.681Z"
   },
   {
    "duration": 0,
    "start_time": "2022-12-09T07:43:21.789Z"
   },
   {
    "duration": 0,
    "start_time": "2022-12-09T07:43:21.790Z"
   },
   {
    "duration": 0,
    "start_time": "2022-12-09T07:43:21.791Z"
   },
   {
    "duration": 0,
    "start_time": "2022-12-09T07:43:21.792Z"
   },
   {
    "duration": 4,
    "start_time": "2022-12-09T07:44:02.546Z"
   },
   {
    "duration": 4,
    "start_time": "2022-12-09T07:44:03.135Z"
   },
   {
    "duration": 4,
    "start_time": "2022-12-09T07:44:03.566Z"
   },
   {
    "duration": 27,
    "start_time": "2022-12-09T07:44:04.369Z"
   },
   {
    "duration": 719,
    "start_time": "2022-12-09T07:44:54.769Z"
   },
   {
    "duration": 23,
    "start_time": "2022-12-09T07:44:55.490Z"
   },
   {
    "duration": 17,
    "start_time": "2022-12-09T07:44:55.515Z"
   },
   {
    "duration": 6,
    "start_time": "2022-12-09T07:44:55.535Z"
   },
   {
    "duration": 20,
    "start_time": "2022-12-09T07:44:55.543Z"
   },
   {
    "duration": 18,
    "start_time": "2022-12-09T07:44:55.565Z"
   },
   {
    "duration": 21,
    "start_time": "2022-12-09T07:44:55.585Z"
   },
   {
    "duration": 21,
    "start_time": "2022-12-09T07:44:55.608Z"
   },
   {
    "duration": 21,
    "start_time": "2022-12-09T07:44:55.631Z"
   },
   {
    "duration": 14,
    "start_time": "2022-12-09T07:44:55.655Z"
   },
   {
    "duration": 40,
    "start_time": "2022-12-09T07:44:55.671Z"
   },
   {
    "duration": 24,
    "start_time": "2022-12-09T07:44:55.712Z"
   },
   {
    "duration": 5,
    "start_time": "2022-12-09T07:44:55.737Z"
   },
   {
    "duration": 7,
    "start_time": "2022-12-09T07:44:55.744Z"
   },
   {
    "duration": 18,
    "start_time": "2022-12-09T07:44:55.753Z"
   },
   {
    "duration": 7,
    "start_time": "2022-12-09T07:44:55.773Z"
   },
   {
    "duration": 79,
    "start_time": "2022-12-09T07:44:55.782Z"
   },
   {
    "duration": 25,
    "start_time": "2022-12-09T07:44:55.862Z"
   },
   {
    "duration": 47,
    "start_time": "2022-12-09T07:44:55.888Z"
   },
   {
    "duration": 5,
    "start_time": "2022-12-09T07:44:55.937Z"
   },
   {
    "duration": 228,
    "start_time": "2022-12-09T07:44:55.944Z"
   },
   {
    "duration": 11,
    "start_time": "2022-12-09T07:44:56.174Z"
   },
   {
    "duration": 183,
    "start_time": "2022-12-09T07:44:56.186Z"
   },
   {
    "duration": 129,
    "start_time": "2022-12-09T07:44:56.371Z"
   },
   {
    "duration": 6,
    "start_time": "2022-12-09T07:44:56.501Z"
   },
   {
    "duration": 43,
    "start_time": "2022-12-09T07:44:56.508Z"
   },
   {
    "duration": 6,
    "start_time": "2022-12-09T07:44:56.552Z"
   },
   {
    "duration": 21,
    "start_time": "2022-12-09T07:44:56.562Z"
   },
   {
    "duration": 15,
    "start_time": "2022-12-09T07:44:56.585Z"
   },
   {
    "duration": 16,
    "start_time": "2022-12-09T07:44:56.601Z"
   },
   {
    "duration": 17,
    "start_time": "2022-12-09T07:44:56.619Z"
   },
   {
    "duration": 3,
    "start_time": "2022-12-09T07:44:56.638Z"
   },
   {
    "duration": 19,
    "start_time": "2022-12-09T07:44:56.642Z"
   },
   {
    "duration": 21,
    "start_time": "2022-12-09T07:44:56.663Z"
   },
   {
    "duration": 9,
    "start_time": "2022-12-09T07:44:56.686Z"
   },
   {
    "duration": 8,
    "start_time": "2022-12-09T07:44:56.697Z"
   },
   {
    "duration": 8,
    "start_time": "2022-12-09T07:44:56.736Z"
   },
   {
    "duration": 23,
    "start_time": "2022-12-09T07:44:56.746Z"
   },
   {
    "duration": 15,
    "start_time": "2022-12-09T07:44:56.771Z"
   },
   {
    "duration": 23,
    "start_time": "2022-12-09T07:44:56.788Z"
   },
   {
    "duration": 24,
    "start_time": "2022-12-09T07:44:56.813Z"
   },
   {
    "duration": 37,
    "start_time": "2022-12-09T07:44:56.839Z"
   },
   {
    "duration": 29,
    "start_time": "2022-12-09T07:44:56.878Z"
   },
   {
    "duration": 16,
    "start_time": "2022-12-09T07:44:56.909Z"
   },
   {
    "duration": 11,
    "start_time": "2022-12-09T07:44:56.927Z"
   },
   {
    "duration": 20,
    "start_time": "2022-12-09T07:44:56.940Z"
   },
   {
    "duration": 11,
    "start_time": "2022-12-09T07:44:56.962Z"
   },
   {
    "duration": 16,
    "start_time": "2022-12-09T07:44:56.975Z"
   },
   {
    "duration": 10,
    "start_time": "2022-12-09T07:44:56.993Z"
   },
   {
    "duration": 41,
    "start_time": "2022-12-09T07:44:57.005Z"
   },
   {
    "duration": 20,
    "start_time": "2022-12-09T07:44:57.048Z"
   },
   {
    "duration": 23,
    "start_time": "2022-12-09T07:44:57.070Z"
   },
   {
    "duration": 71,
    "start_time": "2022-12-09T07:44:57.095Z"
   },
   {
    "duration": 7,
    "start_time": "2022-12-09T07:44:57.169Z"
   },
   {
    "duration": 46,
    "start_time": "2022-12-09T07:44:57.178Z"
   },
   {
    "duration": 13,
    "start_time": "2022-12-09T07:44:57.226Z"
   },
   {
    "duration": 14,
    "start_time": "2022-12-09T07:44:57.241Z"
   },
   {
    "duration": 10,
    "start_time": "2022-12-09T07:44:57.257Z"
   },
   {
    "duration": 28,
    "start_time": "2022-12-09T07:44:57.269Z"
   },
   {
    "duration": 10,
    "start_time": "2022-12-09T07:44:57.299Z"
   },
   {
    "duration": 149,
    "start_time": "2022-12-09T07:44:57.310Z"
   },
   {
    "duration": 5,
    "start_time": "2022-12-09T07:44:57.461Z"
   },
   {
    "duration": 13,
    "start_time": "2022-12-09T07:44:57.467Z"
   },
   {
    "duration": 18,
    "start_time": "2022-12-09T07:44:57.482Z"
   },
   {
    "duration": 12,
    "start_time": "2022-12-09T07:44:57.502Z"
   },
   {
    "duration": 27,
    "start_time": "2022-12-09T07:44:57.516Z"
   },
   {
    "duration": 14,
    "start_time": "2022-12-09T07:44:57.545Z"
   },
   {
    "duration": 17,
    "start_time": "2022-12-09T07:44:57.561Z"
   },
   {
    "duration": 16,
    "start_time": "2022-12-09T07:44:57.582Z"
   },
   {
    "duration": 7,
    "start_time": "2022-12-09T07:44:57.600Z"
   },
   {
    "duration": 43,
    "start_time": "2022-12-09T07:44:57.609Z"
   },
   {
    "duration": 87,
    "start_time": "2022-12-09T07:44:57.654Z"
   },
   {
    "duration": 0,
    "start_time": "2022-12-09T07:44:57.743Z"
   },
   {
    "duration": 0,
    "start_time": "2022-12-09T07:44:57.744Z"
   },
   {
    "duration": 0,
    "start_time": "2022-12-09T07:44:57.745Z"
   },
   {
    "duration": 0,
    "start_time": "2022-12-09T07:44:57.746Z"
   },
   {
    "duration": 21,
    "start_time": "2022-12-09T07:46:49.235Z"
   },
   {
    "duration": 4,
    "start_time": "2022-12-09T07:50:04.527Z"
   },
   {
    "duration": 19,
    "start_time": "2022-12-09T07:50:04.973Z"
   },
   {
    "duration": 5,
    "start_time": "2022-12-09T07:50:22.353Z"
   },
   {
    "duration": 17,
    "start_time": "2022-12-09T07:50:23.252Z"
   },
   {
    "duration": 28,
    "start_time": "2022-12-09T07:50:39.909Z"
   },
   {
    "duration": 37,
    "start_time": "2022-12-09T07:51:33.246Z"
   },
   {
    "duration": 29,
    "start_time": "2022-12-09T07:51:45.505Z"
   },
   {
    "duration": 4,
    "start_time": "2022-12-09T07:52:47.293Z"
   },
   {
    "duration": 27,
    "start_time": "2022-12-09T07:52:47.622Z"
   },
   {
    "duration": 4,
    "start_time": "2022-12-09T07:53:19.918Z"
   },
   {
    "duration": 22,
    "start_time": "2022-12-09T07:53:20.261Z"
   },
   {
    "duration": 331,
    "start_time": "2022-12-09T08:06:24.606Z"
   },
   {
    "duration": 9,
    "start_time": "2022-12-09T08:06:34.731Z"
   },
   {
    "duration": 49652,
    "start_time": "2022-12-09T08:07:37.440Z"
   },
   {
    "duration": 51358,
    "start_time": "2022-12-09T08:12:35.898Z"
   },
   {
    "duration": 17,
    "start_time": "2022-12-09T08:14:06.434Z"
   },
   {
    "duration": 55208,
    "start_time": "2022-12-09T08:15:09.911Z"
   },
   {
    "duration": 0,
    "start_time": "2022-12-09T08:22:26.317Z"
   },
   {
    "duration": 695,
    "start_time": "2022-12-09T08:22:36.285Z"
   },
   {
    "duration": 22,
    "start_time": "2022-12-09T08:22:36.982Z"
   },
   {
    "duration": 14,
    "start_time": "2022-12-09T08:22:37.005Z"
   },
   {
    "duration": 6,
    "start_time": "2022-12-09T08:22:37.020Z"
   },
   {
    "duration": 12,
    "start_time": "2022-12-09T08:22:37.027Z"
   },
   {
    "duration": 5,
    "start_time": "2022-12-09T08:22:37.041Z"
   },
   {
    "duration": 12,
    "start_time": "2022-12-09T08:22:37.047Z"
   },
   {
    "duration": 28,
    "start_time": "2022-12-09T08:22:37.061Z"
   },
   {
    "duration": 20,
    "start_time": "2022-12-09T08:22:37.091Z"
   },
   {
    "duration": 30,
    "start_time": "2022-12-09T08:22:37.114Z"
   },
   {
    "duration": 28,
    "start_time": "2022-12-09T08:22:37.145Z"
   },
   {
    "duration": 6,
    "start_time": "2022-12-09T08:22:37.175Z"
   },
   {
    "duration": 8,
    "start_time": "2022-12-09T08:22:37.182Z"
   },
   {
    "duration": 8,
    "start_time": "2022-12-09T08:22:37.191Z"
   },
   {
    "duration": 36,
    "start_time": "2022-12-09T08:22:37.200Z"
   },
   {
    "duration": 6,
    "start_time": "2022-12-09T08:22:37.238Z"
   },
   {
    "duration": 55,
    "start_time": "2022-12-09T08:22:37.245Z"
   },
   {
    "duration": 42,
    "start_time": "2022-12-09T08:22:37.302Z"
   },
   {
    "duration": 20,
    "start_time": "2022-12-09T08:22:37.346Z"
   },
   {
    "duration": 6,
    "start_time": "2022-12-09T08:22:37.368Z"
   },
   {
    "duration": 180,
    "start_time": "2022-12-09T08:22:37.376Z"
   },
   {
    "duration": 9,
    "start_time": "2022-12-09T08:22:37.558Z"
   },
   {
    "duration": 175,
    "start_time": "2022-12-09T08:22:37.569Z"
   },
   {
    "duration": 127,
    "start_time": "2022-12-09T08:22:37.745Z"
   },
   {
    "duration": 5,
    "start_time": "2022-12-09T08:22:37.874Z"
   },
   {
    "duration": 19,
    "start_time": "2022-12-09T08:22:37.880Z"
   },
   {
    "duration": 4,
    "start_time": "2022-12-09T08:22:37.901Z"
   },
   {
    "duration": 5,
    "start_time": "2022-12-09T08:22:37.935Z"
   },
   {
    "duration": 8,
    "start_time": "2022-12-09T08:22:37.942Z"
   },
   {
    "duration": 20,
    "start_time": "2022-12-09T08:22:37.951Z"
   },
   {
    "duration": 7,
    "start_time": "2022-12-09T08:22:37.972Z"
   },
   {
    "duration": 7,
    "start_time": "2022-12-09T08:22:37.980Z"
   },
   {
    "duration": 9,
    "start_time": "2022-12-09T08:22:37.989Z"
   },
   {
    "duration": 12,
    "start_time": "2022-12-09T08:22:38.000Z"
   },
   {
    "duration": 29,
    "start_time": "2022-12-09T08:22:38.014Z"
   },
   {
    "duration": 8,
    "start_time": "2022-12-09T08:22:38.045Z"
   },
   {
    "duration": 7,
    "start_time": "2022-12-09T08:22:38.054Z"
   },
   {
    "duration": 4,
    "start_time": "2022-12-09T08:22:38.063Z"
   },
   {
    "duration": 8,
    "start_time": "2022-12-09T08:22:38.069Z"
   },
   {
    "duration": 8,
    "start_time": "2022-12-09T08:22:38.078Z"
   },
   {
    "duration": 21,
    "start_time": "2022-12-09T08:22:38.088Z"
   },
   {
    "duration": 8,
    "start_time": "2022-12-09T08:22:38.135Z"
   },
   {
    "duration": 3,
    "start_time": "2022-12-09T08:22:38.145Z"
   },
   {
    "duration": 6,
    "start_time": "2022-12-09T08:22:38.149Z"
   },
   {
    "duration": 8,
    "start_time": "2022-12-09T08:22:38.156Z"
   },
   {
    "duration": 9,
    "start_time": "2022-12-09T08:22:38.165Z"
   },
   {
    "duration": 7,
    "start_time": "2022-12-09T08:22:38.175Z"
   },
   {
    "duration": 21,
    "start_time": "2022-12-09T08:22:38.184Z"
   },
   {
    "duration": 8,
    "start_time": "2022-12-09T08:22:38.235Z"
   },
   {
    "duration": 24,
    "start_time": "2022-12-09T08:22:38.245Z"
   },
   {
    "duration": 20,
    "start_time": "2022-12-09T08:22:38.270Z"
   },
   {
    "duration": 51,
    "start_time": "2022-12-09T08:22:38.292Z"
   },
   {
    "duration": 33,
    "start_time": "2022-12-09T08:22:38.345Z"
   },
   {
    "duration": 9,
    "start_time": "2022-12-09T08:22:38.380Z"
   },
   {
    "duration": 6,
    "start_time": "2022-12-09T08:22:38.390Z"
   },
   {
    "duration": 12,
    "start_time": "2022-12-09T08:22:38.397Z"
   },
   {
    "duration": 36,
    "start_time": "2022-12-09T08:22:38.411Z"
   },
   {
    "duration": 20,
    "start_time": "2022-12-09T08:22:38.448Z"
   },
   {
    "duration": 8,
    "start_time": "2022-12-09T08:22:38.469Z"
   },
   {
    "duration": 24,
    "start_time": "2022-12-09T08:22:38.479Z"
   },
   {
    "duration": 50717,
    "start_time": "2022-12-09T08:22:38.504Z"
   },
   {
    "duration": 12397,
    "start_time": "2022-12-09T08:27:49.529Z"
   },
   {
    "duration": 0,
    "start_time": "2022-12-09T08:30:40.138Z"
   },
   {
    "duration": 16,
    "start_time": "2022-12-09T08:30:57.118Z"
   },
   {
    "duration": 537,
    "start_time": "2022-12-09T08:31:26.703Z"
   },
   {
    "duration": 553,
    "start_time": "2022-12-09T08:31:57.039Z"
   },
   {
    "duration": 187,
    "start_time": "2022-12-09T08:32:42.474Z"
   },
   {
    "duration": 15,
    "start_time": "2022-12-09T08:33:34.254Z"
   },
   {
    "duration": 16,
    "start_time": "2022-12-09T08:33:38.894Z"
   },
   {
    "duration": 10,
    "start_time": "2022-12-09T08:34:15.605Z"
   },
   {
    "duration": 10,
    "start_time": "2022-12-09T08:36:08.978Z"
   },
   {
    "duration": 4,
    "start_time": "2022-12-09T08:36:29.784Z"
   },
   {
    "duration": 10,
    "start_time": "2022-12-09T08:36:38.691Z"
   },
   {
    "duration": 4,
    "start_time": "2022-12-09T08:36:40.887Z"
   },
   {
    "duration": 134,
    "start_time": "2022-12-09T08:36:54.064Z"
   },
   {
    "duration": 807,
    "start_time": "2022-12-09T08:37:06.375Z"
   },
   {
    "duration": 127,
    "start_time": "2022-12-09T08:37:24.493Z"
   },
   {
    "duration": 5,
    "start_time": "2022-12-09T08:37:36.835Z"
   },
   {
    "duration": 8,
    "start_time": "2022-12-09T08:39:11.241Z"
   },
   {
    "duration": 7,
    "start_time": "2022-12-09T08:39:12.944Z"
   },
   {
    "duration": 16,
    "start_time": "2022-12-09T08:39:33.893Z"
   },
   {
    "duration": 10,
    "start_time": "2022-12-09T08:39:55.453Z"
   },
   {
    "duration": 10,
    "start_time": "2022-12-09T08:40:07.322Z"
   },
   {
    "duration": 12,
    "start_time": "2022-12-09T08:40:12.410Z"
   },
   {
    "duration": 10,
    "start_time": "2022-12-09T08:40:12.795Z"
   },
   {
    "duration": 7,
    "start_time": "2022-12-09T08:40:13.312Z"
   },
   {
    "duration": 9,
    "start_time": "2022-12-09T08:40:22.205Z"
   },
   {
    "duration": 148,
    "start_time": "2022-12-09T08:40:30.045Z"
   },
   {
    "duration": 880,
    "start_time": "2022-12-09T08:40:41.331Z"
   },
   {
    "duration": 8,
    "start_time": "2022-12-09T08:40:49.956Z"
   },
   {
    "duration": 142,
    "start_time": "2022-12-09T08:41:23.167Z"
   },
   {
    "duration": 201,
    "start_time": "2022-12-09T08:41:59.602Z"
   },
   {
    "duration": 5204,
    "start_time": "2022-12-09T08:42:05.201Z"
   },
   {
    "duration": 8,
    "start_time": "2022-12-09T08:42:39.275Z"
   },
   {
    "duration": 196,
    "start_time": "2022-12-09T08:42:40.461Z"
   },
   {
    "duration": 48,
    "start_time": "2022-12-09T08:47:42.829Z"
   },
   {
    "duration": 8,
    "start_time": "2022-12-09T08:47:50.635Z"
   },
   {
    "duration": 8,
    "start_time": "2022-12-09T08:48:09.432Z"
   },
   {
    "duration": 14,
    "start_time": "2022-12-09T08:48:46.521Z"
   },
   {
    "duration": 10,
    "start_time": "2022-12-09T08:49:17.873Z"
   },
   {
    "duration": 5,
    "start_time": "2022-12-09T08:49:32.717Z"
   },
   {
    "duration": 772,
    "start_time": "2022-12-09T08:50:36.329Z"
   },
   {
    "duration": 22,
    "start_time": "2022-12-09T08:50:37.103Z"
   },
   {
    "duration": 14,
    "start_time": "2022-12-09T08:50:37.127Z"
   },
   {
    "duration": 12,
    "start_time": "2022-12-09T08:50:37.143Z"
   },
   {
    "duration": 19,
    "start_time": "2022-12-09T08:50:37.156Z"
   },
   {
    "duration": 12,
    "start_time": "2022-12-09T08:50:37.177Z"
   },
   {
    "duration": 30,
    "start_time": "2022-12-09T08:50:37.191Z"
   },
   {
    "duration": 23,
    "start_time": "2022-12-09T08:50:37.223Z"
   },
   {
    "duration": 24,
    "start_time": "2022-12-09T08:50:37.247Z"
   },
   {
    "duration": 17,
    "start_time": "2022-12-09T08:50:37.274Z"
   },
   {
    "duration": 48,
    "start_time": "2022-12-09T08:50:37.292Z"
   },
   {
    "duration": 8,
    "start_time": "2022-12-09T08:50:37.341Z"
   },
   {
    "duration": 10,
    "start_time": "2022-12-09T08:50:37.350Z"
   },
   {
    "duration": 10,
    "start_time": "2022-12-09T08:50:37.362Z"
   },
   {
    "duration": 28,
    "start_time": "2022-12-09T08:50:37.374Z"
   },
   {
    "duration": 24,
    "start_time": "2022-12-09T08:50:37.403Z"
   },
   {
    "duration": 55,
    "start_time": "2022-12-09T08:50:37.429Z"
   },
   {
    "duration": 20,
    "start_time": "2022-12-09T08:50:37.486Z"
   },
   {
    "duration": 34,
    "start_time": "2022-12-09T08:50:37.508Z"
   },
   {
    "duration": 4,
    "start_time": "2022-12-09T08:50:37.544Z"
   },
   {
    "duration": 207,
    "start_time": "2022-12-09T08:50:37.549Z"
   },
   {
    "duration": 11,
    "start_time": "2022-12-09T08:50:37.757Z"
   },
   {
    "duration": 173,
    "start_time": "2022-12-09T08:50:37.770Z"
   },
   {
    "duration": 122,
    "start_time": "2022-12-09T08:50:37.945Z"
   },
   {
    "duration": 5,
    "start_time": "2022-12-09T08:50:38.069Z"
   },
   {
    "duration": 24,
    "start_time": "2022-12-09T08:50:38.075Z"
   },
   {
    "duration": 5,
    "start_time": "2022-12-09T08:50:38.101Z"
   },
   {
    "duration": 6,
    "start_time": "2022-12-09T08:50:38.135Z"
   },
   {
    "duration": 9,
    "start_time": "2022-12-09T08:50:38.142Z"
   },
   {
    "duration": 21,
    "start_time": "2022-12-09T08:50:38.153Z"
   },
   {
    "duration": 11,
    "start_time": "2022-12-09T08:50:38.176Z"
   },
   {
    "duration": 11,
    "start_time": "2022-12-09T08:50:38.189Z"
   },
   {
    "duration": 10,
    "start_time": "2022-12-09T08:50:38.201Z"
   },
   {
    "duration": 32,
    "start_time": "2022-12-09T08:50:38.213Z"
   },
   {
    "duration": 16,
    "start_time": "2022-12-09T08:50:38.247Z"
   },
   {
    "duration": 28,
    "start_time": "2022-12-09T08:50:38.265Z"
   },
   {
    "duration": 17,
    "start_time": "2022-12-09T08:50:38.295Z"
   },
   {
    "duration": 14,
    "start_time": "2022-12-09T08:50:38.314Z"
   },
   {
    "duration": 15,
    "start_time": "2022-12-09T08:50:38.330Z"
   },
   {
    "duration": 14,
    "start_time": "2022-12-09T08:50:38.346Z"
   },
   {
    "duration": 9,
    "start_time": "2022-12-09T08:50:38.361Z"
   },
   {
    "duration": 13,
    "start_time": "2022-12-09T08:50:38.371Z"
   },
   {
    "duration": 14,
    "start_time": "2022-12-09T08:50:38.385Z"
   },
   {
    "duration": 14,
    "start_time": "2022-12-09T08:50:38.401Z"
   },
   {
    "duration": 12,
    "start_time": "2022-12-09T08:50:38.416Z"
   },
   {
    "duration": 11,
    "start_time": "2022-12-09T08:50:38.430Z"
   },
   {
    "duration": 6,
    "start_time": "2022-12-09T08:50:38.442Z"
   },
   {
    "duration": 18,
    "start_time": "2022-12-09T08:50:38.449Z"
   },
   {
    "duration": 10,
    "start_time": "2022-12-09T08:50:38.468Z"
   },
   {
    "duration": 29,
    "start_time": "2022-12-09T08:50:38.480Z"
   },
   {
    "duration": 35,
    "start_time": "2022-12-09T08:50:38.511Z"
   },
   {
    "duration": 20,
    "start_time": "2022-12-09T08:50:38.548Z"
   },
   {
    "duration": 39,
    "start_time": "2022-12-09T08:50:38.570Z"
   },
   {
    "duration": 26,
    "start_time": "2022-12-09T08:50:38.611Z"
   },
   {
    "duration": 6,
    "start_time": "2022-12-09T08:50:38.639Z"
   },
   {
    "duration": 7,
    "start_time": "2022-12-09T08:50:38.646Z"
   },
   {
    "duration": 7,
    "start_time": "2022-12-09T08:50:38.655Z"
   },
   {
    "duration": 19,
    "start_time": "2022-12-09T08:50:38.664Z"
   },
   {
    "duration": 20,
    "start_time": "2022-12-09T08:50:38.684Z"
   },
   {
    "duration": 30,
    "start_time": "2022-12-09T08:50:38.705Z"
   },
   {
    "duration": 7,
    "start_time": "2022-12-09T08:50:38.736Z"
   },
   {
    "duration": 222,
    "start_time": "2022-12-09T08:50:38.745Z"
   },
   {
    "duration": 9,
    "start_time": "2022-12-09T08:50:38.968Z"
   },
   {
    "duration": 12,
    "start_time": "2022-12-09T08:50:38.978Z"
   },
   {
    "duration": 27,
    "start_time": "2022-12-09T08:51:16.513Z"
   },
   {
    "duration": 31,
    "start_time": "2022-12-09T08:51:56.743Z"
   },
   {
    "duration": 783,
    "start_time": "2022-12-09T08:52:06.340Z"
   },
   {
    "duration": 25,
    "start_time": "2022-12-09T08:52:07.125Z"
   },
   {
    "duration": 14,
    "start_time": "2022-12-09T08:52:07.152Z"
   },
   {
    "duration": 7,
    "start_time": "2022-12-09T08:52:07.168Z"
   },
   {
    "duration": 12,
    "start_time": "2022-12-09T08:52:07.178Z"
   },
   {
    "duration": 11,
    "start_time": "2022-12-09T08:52:07.192Z"
   },
   {
    "duration": 38,
    "start_time": "2022-12-09T08:52:07.204Z"
   },
   {
    "duration": 17,
    "start_time": "2022-12-09T08:52:07.244Z"
   },
   {
    "duration": 25,
    "start_time": "2022-12-09T08:52:07.262Z"
   },
   {
    "duration": 52,
    "start_time": "2022-12-09T08:52:07.290Z"
   },
   {
    "duration": 31,
    "start_time": "2022-12-09T08:52:07.344Z"
   },
   {
    "duration": 7,
    "start_time": "2022-12-09T08:52:07.377Z"
   },
   {
    "duration": 26,
    "start_time": "2022-12-09T08:52:07.385Z"
   },
   {
    "duration": 20,
    "start_time": "2022-12-09T08:52:07.415Z"
   },
   {
    "duration": 20,
    "start_time": "2022-12-09T08:52:07.436Z"
   },
   {
    "duration": 16,
    "start_time": "2022-12-09T08:52:07.457Z"
   },
   {
    "duration": 68,
    "start_time": "2022-12-09T08:52:07.474Z"
   },
   {
    "duration": 21,
    "start_time": "2022-12-09T08:52:07.544Z"
   },
   {
    "duration": 21,
    "start_time": "2022-12-09T08:52:07.567Z"
   },
   {
    "duration": 5,
    "start_time": "2022-12-09T08:52:07.589Z"
   },
   {
    "duration": 215,
    "start_time": "2022-12-09T08:52:07.595Z"
   },
   {
    "duration": 10,
    "start_time": "2022-12-09T08:52:07.812Z"
   },
   {
    "duration": 202,
    "start_time": "2022-12-09T08:52:07.835Z"
   },
   {
    "duration": 128,
    "start_time": "2022-12-09T08:52:08.039Z"
   },
   {
    "duration": 5,
    "start_time": "2022-12-09T08:52:08.169Z"
   },
   {
    "duration": 27,
    "start_time": "2022-12-09T08:52:08.176Z"
   },
   {
    "duration": 4,
    "start_time": "2022-12-09T08:52:08.205Z"
   },
   {
    "duration": 25,
    "start_time": "2022-12-09T08:52:08.211Z"
   },
   {
    "duration": 12,
    "start_time": "2022-12-09T08:52:08.238Z"
   },
   {
    "duration": 13,
    "start_time": "2022-12-09T08:52:08.252Z"
   },
   {
    "duration": 14,
    "start_time": "2022-12-09T08:52:08.267Z"
   },
   {
    "duration": 20,
    "start_time": "2022-12-09T08:52:08.282Z"
   },
   {
    "duration": 17,
    "start_time": "2022-12-09T08:52:08.303Z"
   },
   {
    "duration": 14,
    "start_time": "2022-12-09T08:52:08.322Z"
   },
   {
    "duration": 7,
    "start_time": "2022-12-09T08:52:08.338Z"
   },
   {
    "duration": 13,
    "start_time": "2022-12-09T08:52:08.347Z"
   },
   {
    "duration": 9,
    "start_time": "2022-12-09T08:52:08.361Z"
   },
   {
    "duration": 10,
    "start_time": "2022-12-09T08:52:08.371Z"
   },
   {
    "duration": 11,
    "start_time": "2022-12-09T08:52:08.383Z"
   },
   {
    "duration": 11,
    "start_time": "2022-12-09T08:52:08.396Z"
   },
   {
    "duration": 29,
    "start_time": "2022-12-09T08:52:08.411Z"
   },
   {
    "duration": 12,
    "start_time": "2022-12-09T08:52:08.441Z"
   },
   {
    "duration": 5,
    "start_time": "2022-12-09T08:52:08.455Z"
   },
   {
    "duration": 15,
    "start_time": "2022-12-09T08:52:08.461Z"
   },
   {
    "duration": 13,
    "start_time": "2022-12-09T08:52:08.477Z"
   },
   {
    "duration": 10,
    "start_time": "2022-12-09T08:52:08.492Z"
   },
   {
    "duration": 32,
    "start_time": "2022-12-09T08:52:08.505Z"
   },
   {
    "duration": 8,
    "start_time": "2022-12-09T08:52:08.539Z"
   },
   {
    "duration": 12,
    "start_time": "2022-12-09T08:52:08.549Z"
   },
   {
    "duration": 19,
    "start_time": "2022-12-09T08:52:08.562Z"
   },
   {
    "duration": 29,
    "start_time": "2022-12-09T08:52:08.583Z"
   },
   {
    "duration": 41,
    "start_time": "2022-12-09T08:52:08.614Z"
   },
   {
    "duration": 29,
    "start_time": "2022-12-09T08:52:08.656Z"
   },
   {
    "duration": 6,
    "start_time": "2022-12-09T08:52:08.687Z"
   },
   {
    "duration": 7,
    "start_time": "2022-12-09T08:52:08.695Z"
   },
   {
    "duration": 33,
    "start_time": "2022-12-09T08:52:08.704Z"
   },
   {
    "duration": 14,
    "start_time": "2022-12-09T08:52:08.738Z"
   },
   {
    "duration": 38,
    "start_time": "2022-12-09T08:52:08.754Z"
   },
   {
    "duration": 7,
    "start_time": "2022-12-09T08:52:08.794Z"
   },
   {
    "duration": 32,
    "start_time": "2022-12-09T08:52:08.803Z"
   },
   {
    "duration": 11,
    "start_time": "2022-12-09T08:52:08.837Z"
   },
   {
    "duration": 251,
    "start_time": "2022-12-09T08:52:08.849Z"
   },
   {
    "duration": 9,
    "start_time": "2022-12-09T08:52:09.102Z"
   },
   {
    "duration": 11,
    "start_time": "2022-12-09T08:52:09.112Z"
   },
   {
    "duration": 732,
    "start_time": "2022-12-09T08:52:23.434Z"
   },
   {
    "duration": 23,
    "start_time": "2022-12-09T08:52:24.168Z"
   },
   {
    "duration": 16,
    "start_time": "2022-12-09T08:52:24.193Z"
   },
   {
    "duration": 9,
    "start_time": "2022-12-09T08:52:24.211Z"
   },
   {
    "duration": 18,
    "start_time": "2022-12-09T08:52:24.221Z"
   },
   {
    "duration": 5,
    "start_time": "2022-12-09T08:52:24.241Z"
   },
   {
    "duration": 25,
    "start_time": "2022-12-09T08:52:24.247Z"
   },
   {
    "duration": 18,
    "start_time": "2022-12-09T08:52:24.274Z"
   },
   {
    "duration": 21,
    "start_time": "2022-12-09T08:52:24.294Z"
   },
   {
    "duration": 26,
    "start_time": "2022-12-09T08:52:24.318Z"
   },
   {
    "duration": 39,
    "start_time": "2022-12-09T08:52:24.345Z"
   },
   {
    "duration": 12,
    "start_time": "2022-12-09T08:52:24.386Z"
   },
   {
    "duration": 15,
    "start_time": "2022-12-09T08:52:24.400Z"
   },
   {
    "duration": 20,
    "start_time": "2022-12-09T08:52:24.416Z"
   },
   {
    "duration": 28,
    "start_time": "2022-12-09T08:52:24.438Z"
   },
   {
    "duration": 17,
    "start_time": "2022-12-09T08:52:24.468Z"
   },
   {
    "duration": 63,
    "start_time": "2022-12-09T08:52:24.487Z"
   },
   {
    "duration": 22,
    "start_time": "2022-12-09T08:52:24.552Z"
   },
   {
    "duration": 19,
    "start_time": "2022-12-09T08:52:24.575Z"
   },
   {
    "duration": 3,
    "start_time": "2022-12-09T08:52:24.596Z"
   },
   {
    "duration": 204,
    "start_time": "2022-12-09T08:52:24.600Z"
   },
   {
    "duration": 10,
    "start_time": "2022-12-09T08:52:24.806Z"
   },
   {
    "duration": 178,
    "start_time": "2022-12-09T08:52:24.817Z"
   },
   {
    "duration": 137,
    "start_time": "2022-12-09T08:52:24.996Z"
   },
   {
    "duration": 6,
    "start_time": "2022-12-09T08:52:25.135Z"
   },
   {
    "duration": 26,
    "start_time": "2022-12-09T08:52:25.143Z"
   },
   {
    "duration": 5,
    "start_time": "2022-12-09T08:52:25.172Z"
   },
   {
    "duration": 13,
    "start_time": "2022-12-09T08:52:25.182Z"
   },
   {
    "duration": 16,
    "start_time": "2022-12-09T08:52:25.197Z"
   },
   {
    "duration": 29,
    "start_time": "2022-12-09T08:52:25.215Z"
   },
   {
    "duration": 13,
    "start_time": "2022-12-09T08:52:25.246Z"
   },
   {
    "duration": 4,
    "start_time": "2022-12-09T08:52:25.262Z"
   },
   {
    "duration": 8,
    "start_time": "2022-12-09T08:52:25.268Z"
   },
   {
    "duration": 16,
    "start_time": "2022-12-09T08:52:25.277Z"
   },
   {
    "duration": 41,
    "start_time": "2022-12-09T08:52:25.295Z"
   },
   {
    "duration": 14,
    "start_time": "2022-12-09T08:52:25.338Z"
   },
   {
    "duration": 24,
    "start_time": "2022-12-09T08:52:25.354Z"
   },
   {
    "duration": 17,
    "start_time": "2022-12-09T08:52:25.381Z"
   },
   {
    "duration": 16,
    "start_time": "2022-12-09T08:52:25.400Z"
   },
   {
    "duration": 30,
    "start_time": "2022-12-09T08:52:25.418Z"
   },
   {
    "duration": 13,
    "start_time": "2022-12-09T08:52:25.450Z"
   },
   {
    "duration": 11,
    "start_time": "2022-12-09T08:52:25.465Z"
   },
   {
    "duration": 9,
    "start_time": "2022-12-09T08:52:25.478Z"
   },
   {
    "duration": 6,
    "start_time": "2022-12-09T08:52:25.488Z"
   },
   {
    "duration": 9,
    "start_time": "2022-12-09T08:52:25.495Z"
   },
   {
    "duration": 30,
    "start_time": "2022-12-09T08:52:25.506Z"
   },
   {
    "duration": 6,
    "start_time": "2022-12-09T08:52:25.538Z"
   },
   {
    "duration": 25,
    "start_time": "2022-12-09T08:52:25.546Z"
   },
   {
    "duration": 11,
    "start_time": "2022-12-09T08:52:25.573Z"
   },
   {
    "duration": 21,
    "start_time": "2022-12-09T08:52:25.586Z"
   },
   {
    "duration": 30,
    "start_time": "2022-12-09T08:52:25.609Z"
   },
   {
    "duration": 21,
    "start_time": "2022-12-09T08:52:25.641Z"
   },
   {
    "duration": 30,
    "start_time": "2022-12-09T08:52:25.664Z"
   },
   {
    "duration": 11,
    "start_time": "2022-12-09T08:52:25.696Z"
   },
   {
    "duration": 44,
    "start_time": "2022-12-09T08:52:25.708Z"
   },
   {
    "duration": 8,
    "start_time": "2022-12-09T08:52:25.753Z"
   },
   {
    "duration": 9,
    "start_time": "2022-12-09T08:52:25.762Z"
   },
   {
    "duration": 7,
    "start_time": "2022-12-09T08:52:25.773Z"
   },
   {
    "duration": 35,
    "start_time": "2022-12-09T08:52:25.782Z"
   },
   {
    "duration": 18,
    "start_time": "2022-12-09T08:52:25.819Z"
   },
   {
    "duration": 25,
    "start_time": "2022-12-09T08:52:25.839Z"
   },
   {
    "duration": 8,
    "start_time": "2022-12-09T08:52:25.866Z"
   },
   {
    "duration": 238,
    "start_time": "2022-12-09T08:52:25.876Z"
   },
   {
    "duration": 9,
    "start_time": "2022-12-09T08:52:26.116Z"
   },
   {
    "duration": 3,
    "start_time": "2022-12-09T08:52:26.136Z"
   },
   {
    "duration": 26,
    "start_time": "2022-12-09T08:52:54.598Z"
   },
   {
    "duration": 750,
    "start_time": "2022-12-09T08:52:59.926Z"
   },
   {
    "duration": 24,
    "start_time": "2022-12-09T08:53:00.678Z"
   },
   {
    "duration": 46,
    "start_time": "2022-12-09T08:53:00.704Z"
   },
   {
    "duration": 26,
    "start_time": "2022-12-09T08:53:00.753Z"
   },
   {
    "duration": 71,
    "start_time": "2022-12-09T08:53:00.781Z"
   },
   {
    "duration": 33,
    "start_time": "2022-12-09T08:53:00.853Z"
   },
   {
    "duration": 47,
    "start_time": "2022-12-09T08:53:00.888Z"
   },
   {
    "duration": 34,
    "start_time": "2022-12-09T08:53:00.937Z"
   },
   {
    "duration": 62,
    "start_time": "2022-12-09T08:53:00.973Z"
   },
   {
    "duration": 35,
    "start_time": "2022-12-09T08:53:01.038Z"
   },
   {
    "duration": 73,
    "start_time": "2022-12-09T08:53:01.075Z"
   },
   {
    "duration": 35,
    "start_time": "2022-12-09T08:53:01.149Z"
   },
   {
    "duration": 31,
    "start_time": "2022-12-09T08:53:01.186Z"
   },
   {
    "duration": 36,
    "start_time": "2022-12-09T08:53:01.219Z"
   },
   {
    "duration": 28,
    "start_time": "2022-12-09T08:53:01.257Z"
   },
   {
    "duration": 50,
    "start_time": "2022-12-09T08:53:01.286Z"
   },
   {
    "duration": 81,
    "start_time": "2022-12-09T08:53:01.337Z"
   },
   {
    "duration": 53,
    "start_time": "2022-12-09T08:53:01.420Z"
   },
   {
    "duration": 39,
    "start_time": "2022-12-09T08:53:01.474Z"
   },
   {
    "duration": 35,
    "start_time": "2022-12-09T08:53:01.515Z"
   },
   {
    "duration": 207,
    "start_time": "2022-12-09T08:53:01.552Z"
   },
   {
    "duration": 10,
    "start_time": "2022-12-09T08:53:01.760Z"
   },
   {
    "duration": 207,
    "start_time": "2022-12-09T08:53:01.772Z"
   },
   {
    "duration": 147,
    "start_time": "2022-12-09T08:53:01.981Z"
   },
   {
    "duration": 6,
    "start_time": "2022-12-09T08:53:02.129Z"
   },
   {
    "duration": 96,
    "start_time": "2022-12-09T08:53:02.136Z"
   },
   {
    "duration": 27,
    "start_time": "2022-12-09T08:53:02.233Z"
   },
   {
    "duration": 33,
    "start_time": "2022-12-09T08:53:02.266Z"
   },
   {
    "duration": 63,
    "start_time": "2022-12-09T08:53:02.301Z"
   },
   {
    "duration": 39,
    "start_time": "2022-12-09T08:53:02.366Z"
   },
   {
    "duration": 65,
    "start_time": "2022-12-09T08:53:02.407Z"
   },
   {
    "duration": 54,
    "start_time": "2022-12-09T08:53:02.474Z"
   },
   {
    "duration": 88,
    "start_time": "2022-12-09T08:53:02.530Z"
   },
   {
    "duration": 46,
    "start_time": "2022-12-09T08:53:02.620Z"
   },
   {
    "duration": 70,
    "start_time": "2022-12-09T08:53:02.668Z"
   },
   {
    "duration": 38,
    "start_time": "2022-12-09T08:53:02.740Z"
   },
   {
    "duration": 15,
    "start_time": "2022-12-09T08:53:02.780Z"
   },
   {
    "duration": 33,
    "start_time": "2022-12-09T08:53:02.797Z"
   },
   {
    "duration": 41,
    "start_time": "2022-12-09T08:53:02.833Z"
   },
   {
    "duration": 24,
    "start_time": "2022-12-09T08:53:02.876Z"
   },
   {
    "duration": 24,
    "start_time": "2022-12-09T08:53:02.902Z"
   },
   {
    "duration": 25,
    "start_time": "2022-12-09T08:53:02.928Z"
   },
   {
    "duration": 44,
    "start_time": "2022-12-09T08:53:02.955Z"
   },
   {
    "duration": 45,
    "start_time": "2022-12-09T08:53:03.001Z"
   },
   {
    "duration": 30,
    "start_time": "2022-12-09T08:53:03.048Z"
   },
   {
    "duration": 47,
    "start_time": "2022-12-09T08:53:03.080Z"
   },
   {
    "duration": 41,
    "start_time": "2022-12-09T08:53:03.129Z"
   },
   {
    "duration": 48,
    "start_time": "2022-12-09T08:53:03.171Z"
   },
   {
    "duration": 23,
    "start_time": "2022-12-09T08:53:03.221Z"
   },
   {
    "duration": 63,
    "start_time": "2022-12-09T08:53:03.246Z"
   },
   {
    "duration": 78,
    "start_time": "2022-12-09T08:53:03.311Z"
   },
   {
    "duration": 37,
    "start_time": "2022-12-09T08:53:03.391Z"
   },
   {
    "duration": 48,
    "start_time": "2022-12-09T08:53:03.430Z"
   },
   {
    "duration": 11,
    "start_time": "2022-12-09T08:53:03.479Z"
   },
   {
    "duration": 54,
    "start_time": "2022-12-09T08:53:03.491Z"
   },
   {
    "duration": 41,
    "start_time": "2022-12-09T08:53:03.547Z"
   },
   {
    "duration": 40,
    "start_time": "2022-12-09T08:53:03.590Z"
   },
   {
    "duration": 43,
    "start_time": "2022-12-09T08:53:03.632Z"
   },
   {
    "duration": 32,
    "start_time": "2022-12-09T08:53:03.676Z"
   },
   {
    "duration": 87,
    "start_time": "2022-12-09T08:53:03.710Z"
   },
   {
    "duration": 38,
    "start_time": "2022-12-09T08:53:03.799Z"
   },
   {
    "duration": 40,
    "start_time": "2022-12-09T08:53:03.839Z"
   },
   {
    "duration": 25,
    "start_time": "2022-12-09T08:53:03.881Z"
   },
   {
    "duration": 264,
    "start_time": "2022-12-09T08:53:03.908Z"
   },
   {
    "duration": 10,
    "start_time": "2022-12-09T08:53:04.174Z"
   },
   {
    "duration": 40,
    "start_time": "2022-12-09T08:53:04.185Z"
   },
   {
    "duration": 754,
    "start_time": "2022-12-09T08:54:29.830Z"
   },
   {
    "duration": 24,
    "start_time": "2022-12-09T08:54:30.586Z"
   },
   {
    "duration": 27,
    "start_time": "2022-12-09T08:54:30.612Z"
   },
   {
    "duration": 15,
    "start_time": "2022-12-09T08:54:30.641Z"
   },
   {
    "duration": 30,
    "start_time": "2022-12-09T08:54:30.658Z"
   },
   {
    "duration": 5,
    "start_time": "2022-12-09T08:54:30.690Z"
   },
   {
    "duration": 34,
    "start_time": "2022-12-09T08:54:30.697Z"
   },
   {
    "duration": 33,
    "start_time": "2022-12-09T08:54:30.733Z"
   },
   {
    "duration": 30,
    "start_time": "2022-12-09T08:54:30.768Z"
   },
   {
    "duration": 33,
    "start_time": "2022-12-09T08:54:30.800Z"
   },
   {
    "duration": 28,
    "start_time": "2022-12-09T08:54:30.835Z"
   },
   {
    "duration": 21,
    "start_time": "2022-12-09T08:54:30.865Z"
   },
   {
    "duration": 77,
    "start_time": "2022-12-09T08:54:30.888Z"
   },
   {
    "duration": 33,
    "start_time": "2022-12-09T08:54:30.967Z"
   },
   {
    "duration": 17,
    "start_time": "2022-12-09T08:54:31.001Z"
   },
   {
    "duration": 14,
    "start_time": "2022-12-09T08:54:31.019Z"
   },
   {
    "duration": 66,
    "start_time": "2022-12-09T08:54:31.035Z"
   },
   {
    "duration": 19,
    "start_time": "2022-12-09T08:54:31.102Z"
   },
   {
    "duration": 22,
    "start_time": "2022-12-09T08:54:31.122Z"
   },
   {
    "duration": 3,
    "start_time": "2022-12-09T08:54:31.146Z"
   },
   {
    "duration": 194,
    "start_time": "2022-12-09T08:54:31.151Z"
   },
   {
    "duration": 10,
    "start_time": "2022-12-09T08:54:31.347Z"
   },
   {
    "duration": 161,
    "start_time": "2022-12-09T08:54:31.358Z"
   },
   {
    "duration": 141,
    "start_time": "2022-12-09T08:54:31.520Z"
   },
   {
    "duration": 7,
    "start_time": "2022-12-09T08:54:31.662Z"
   },
   {
    "duration": 50,
    "start_time": "2022-12-09T08:54:31.670Z"
   },
   {
    "duration": 7,
    "start_time": "2022-12-09T08:54:31.721Z"
   },
   {
    "duration": 18,
    "start_time": "2022-12-09T08:54:31.733Z"
   },
   {
    "duration": 28,
    "start_time": "2022-12-09T08:54:31.753Z"
   },
   {
    "duration": 20,
    "start_time": "2022-12-09T08:54:31.782Z"
   },
   {
    "duration": 11,
    "start_time": "2022-12-09T08:54:31.804Z"
   },
   {
    "duration": 13,
    "start_time": "2022-12-09T08:54:31.817Z"
   },
   {
    "duration": 29,
    "start_time": "2022-12-09T08:54:31.832Z"
   },
   {
    "duration": 21,
    "start_time": "2022-12-09T08:54:31.863Z"
   },
   {
    "duration": 36,
    "start_time": "2022-12-09T08:54:31.885Z"
   },
   {
    "duration": 39,
    "start_time": "2022-12-09T08:54:31.923Z"
   },
   {
    "duration": 57,
    "start_time": "2022-12-09T08:54:31.963Z"
   },
   {
    "duration": 12,
    "start_time": "2022-12-09T08:54:32.022Z"
   },
   {
    "duration": 15,
    "start_time": "2022-12-09T08:54:32.035Z"
   },
   {
    "duration": 25,
    "start_time": "2022-12-09T08:54:32.052Z"
   },
   {
    "duration": 10,
    "start_time": "2022-12-09T08:54:32.078Z"
   },
   {
    "duration": 15,
    "start_time": "2022-12-09T08:54:32.089Z"
   },
   {
    "duration": 14,
    "start_time": "2022-12-09T08:54:32.105Z"
   },
   {
    "duration": 14,
    "start_time": "2022-12-09T08:54:32.121Z"
   },
   {
    "duration": 17,
    "start_time": "2022-12-09T08:54:32.137Z"
   },
   {
    "duration": 19,
    "start_time": "2022-12-09T08:54:32.156Z"
   },
   {
    "duration": 15,
    "start_time": "2022-12-09T08:54:32.176Z"
   },
   {
    "duration": 43,
    "start_time": "2022-12-09T08:54:32.192Z"
   },
   {
    "duration": 29,
    "start_time": "2022-12-09T08:54:32.237Z"
   },
   {
    "duration": 59,
    "start_time": "2022-12-09T08:54:32.268Z"
   },
   {
    "duration": 52,
    "start_time": "2022-12-09T08:54:32.329Z"
   },
   {
    "duration": 54,
    "start_time": "2022-12-09T08:54:32.383Z"
   },
   {
    "duration": 87,
    "start_time": "2022-12-09T08:54:32.438Z"
   },
   {
    "duration": 37,
    "start_time": "2022-12-09T08:54:32.527Z"
   },
   {
    "duration": 25,
    "start_time": "2022-12-09T08:54:32.566Z"
   },
   {
    "duration": 38,
    "start_time": "2022-12-09T08:54:32.594Z"
   },
   {
    "duration": 33,
    "start_time": "2022-12-09T08:54:32.634Z"
   },
   {
    "duration": 24,
    "start_time": "2022-12-09T08:54:32.669Z"
   },
   {
    "duration": 24,
    "start_time": "2022-12-09T08:54:32.694Z"
   },
   {
    "duration": 24,
    "start_time": "2022-12-09T08:54:32.719Z"
   },
   {
    "duration": 35,
    "start_time": "2022-12-09T08:54:32.745Z"
   },
   {
    "duration": 21,
    "start_time": "2022-12-09T08:54:32.781Z"
   },
   {
    "duration": 31,
    "start_time": "2022-12-09T08:54:32.803Z"
   },
   {
    "duration": 17,
    "start_time": "2022-12-09T08:54:32.836Z"
   },
   {
    "duration": 214,
    "start_time": "2022-12-09T08:54:32.854Z"
   },
   {
    "duration": 9,
    "start_time": "2022-12-09T08:54:33.070Z"
   },
   {
    "duration": 6,
    "start_time": "2022-12-09T08:54:33.081Z"
   },
   {
    "duration": 741,
    "start_time": "2022-12-09T08:55:07.390Z"
   },
   {
    "duration": 25,
    "start_time": "2022-12-09T08:55:08.133Z"
   },
   {
    "duration": 20,
    "start_time": "2022-12-09T08:55:08.160Z"
   },
   {
    "duration": 27,
    "start_time": "2022-12-09T08:55:08.182Z"
   },
   {
    "duration": 47,
    "start_time": "2022-12-09T08:55:08.211Z"
   },
   {
    "duration": 35,
    "start_time": "2022-12-09T08:55:08.260Z"
   },
   {
    "duration": 32,
    "start_time": "2022-12-09T08:55:08.297Z"
   },
   {
    "duration": 41,
    "start_time": "2022-12-09T08:55:08.331Z"
   },
   {
    "duration": 42,
    "start_time": "2022-12-09T08:55:08.374Z"
   },
   {
    "duration": 34,
    "start_time": "2022-12-09T08:55:08.418Z"
   },
   {
    "duration": 48,
    "start_time": "2022-12-09T08:55:08.454Z"
   },
   {
    "duration": 16,
    "start_time": "2022-12-09T08:55:08.503Z"
   },
   {
    "duration": 35,
    "start_time": "2022-12-09T08:55:08.521Z"
   },
   {
    "duration": 11,
    "start_time": "2022-12-09T08:55:08.560Z"
   },
   {
    "duration": 32,
    "start_time": "2022-12-09T08:55:08.573Z"
   },
   {
    "duration": 25,
    "start_time": "2022-12-09T08:55:08.606Z"
   },
   {
    "duration": 70,
    "start_time": "2022-12-09T08:55:08.632Z"
   },
   {
    "duration": 22,
    "start_time": "2022-12-09T08:55:08.704Z"
   },
   {
    "duration": 31,
    "start_time": "2022-12-09T08:55:08.727Z"
   },
   {
    "duration": 21,
    "start_time": "2022-12-09T08:55:08.760Z"
   },
   {
    "duration": 217,
    "start_time": "2022-12-09T08:55:08.783Z"
   },
   {
    "duration": 10,
    "start_time": "2022-12-09T08:55:09.002Z"
   },
   {
    "duration": 195,
    "start_time": "2022-12-09T08:55:09.013Z"
   },
   {
    "duration": 129,
    "start_time": "2022-12-09T08:55:09.209Z"
   },
   {
    "duration": 7,
    "start_time": "2022-12-09T08:55:09.340Z"
   },
   {
    "duration": 43,
    "start_time": "2022-12-09T08:55:09.348Z"
   },
   {
    "duration": 15,
    "start_time": "2022-12-09T08:55:09.393Z"
   },
   {
    "duration": 30,
    "start_time": "2022-12-09T08:55:09.409Z"
   },
   {
    "duration": 17,
    "start_time": "2022-12-09T08:55:09.441Z"
   },
   {
    "duration": 22,
    "start_time": "2022-12-09T08:55:09.460Z"
   },
   {
    "duration": 26,
    "start_time": "2022-12-09T08:55:09.484Z"
   },
   {
    "duration": 26,
    "start_time": "2022-12-09T08:55:09.512Z"
   },
   {
    "duration": 55,
    "start_time": "2022-12-09T08:55:09.539Z"
   },
   {
    "duration": 34,
    "start_time": "2022-12-09T08:55:09.595Z"
   },
   {
    "duration": 35,
    "start_time": "2022-12-09T08:55:09.631Z"
   },
   {
    "duration": 25,
    "start_time": "2022-12-09T08:55:09.667Z"
   },
   {
    "duration": 27,
    "start_time": "2022-12-09T08:55:09.694Z"
   },
   {
    "duration": 16,
    "start_time": "2022-12-09T08:55:09.723Z"
   },
   {
    "duration": 25,
    "start_time": "2022-12-09T08:55:09.740Z"
   },
   {
    "duration": 26,
    "start_time": "2022-12-09T08:55:09.766Z"
   },
   {
    "duration": 25,
    "start_time": "2022-12-09T08:55:09.796Z"
   },
   {
    "duration": 16,
    "start_time": "2022-12-09T08:55:09.822Z"
   },
   {
    "duration": 16,
    "start_time": "2022-12-09T08:55:09.840Z"
   },
   {
    "duration": 20,
    "start_time": "2022-12-09T08:55:09.857Z"
   },
   {
    "duration": 40,
    "start_time": "2022-12-09T08:55:09.879Z"
   },
   {
    "duration": 19,
    "start_time": "2022-12-09T08:55:09.921Z"
   },
   {
    "duration": 17,
    "start_time": "2022-12-09T08:55:09.942Z"
   },
   {
    "duration": 36,
    "start_time": "2022-12-09T08:55:09.960Z"
   },
   {
    "duration": 57,
    "start_time": "2022-12-09T08:55:09.997Z"
   },
   {
    "duration": 40,
    "start_time": "2022-12-09T08:55:10.055Z"
   },
   {
    "duration": 41,
    "start_time": "2022-12-09T08:55:10.097Z"
   },
   {
    "duration": 23,
    "start_time": "2022-12-09T08:55:10.140Z"
   },
   {
    "duration": 44,
    "start_time": "2022-12-09T08:55:10.165Z"
   },
   {
    "duration": 31,
    "start_time": "2022-12-09T08:55:10.210Z"
   },
   {
    "duration": 13,
    "start_time": "2022-12-09T08:55:10.242Z"
   },
   {
    "duration": 54,
    "start_time": "2022-12-09T08:55:10.256Z"
   },
   {
    "duration": 43,
    "start_time": "2022-12-09T08:55:10.311Z"
   },
   {
    "duration": 18,
    "start_time": "2022-12-09T08:55:10.355Z"
   },
   {
    "duration": 38,
    "start_time": "2022-12-09T08:55:10.374Z"
   },
   {
    "duration": 22,
    "start_time": "2022-12-09T08:55:10.414Z"
   },
   {
    "duration": 44,
    "start_time": "2022-12-09T08:55:10.438Z"
   },
   {
    "duration": 19,
    "start_time": "2022-12-09T08:55:10.484Z"
   },
   {
    "duration": 46,
    "start_time": "2022-12-09T08:55:10.504Z"
   },
   {
    "duration": 20,
    "start_time": "2022-12-09T08:55:10.552Z"
   },
   {
    "duration": 228,
    "start_time": "2022-12-09T08:55:10.573Z"
   },
   {
    "duration": 10,
    "start_time": "2022-12-09T08:55:10.802Z"
   },
   {
    "duration": 41,
    "start_time": "2022-12-09T08:55:10.813Z"
   },
   {
    "duration": 27,
    "start_time": "2022-12-09T08:55:43.423Z"
   },
   {
    "duration": 57,
    "start_time": "2022-12-09T08:57:38.888Z"
   },
   {
    "duration": 10,
    "start_time": "2022-12-09T08:57:48.451Z"
   },
   {
    "duration": 11,
    "start_time": "2022-12-09T08:58:05.239Z"
   },
   {
    "duration": 4,
    "start_time": "2022-12-09T08:58:07.973Z"
   },
   {
    "duration": 10,
    "start_time": "2022-12-09T08:58:08.604Z"
   },
   {
    "duration": 17,
    "start_time": "2022-12-09T08:58:49.107Z"
   },
   {
    "duration": 238,
    "start_time": "2022-12-09T08:58:49.764Z"
   },
   {
    "duration": 9,
    "start_time": "2022-12-09T08:58:50.974Z"
   },
   {
    "duration": 4,
    "start_time": "2022-12-09T08:58:51.913Z"
   },
   {
    "duration": 10,
    "start_time": "2022-12-09T08:58:53.079Z"
   },
   {
    "duration": 11,
    "start_time": "2022-12-09T09:01:08.794Z"
   },
   {
    "duration": 1053,
    "start_time": "2022-12-09T12:49:03.358Z"
   },
   {
    "duration": 24,
    "start_time": "2022-12-09T12:49:04.413Z"
   },
   {
    "duration": 15,
    "start_time": "2022-12-09T12:49:04.438Z"
   },
   {
    "duration": 6,
    "start_time": "2022-12-09T12:49:04.455Z"
   },
   {
    "duration": 8,
    "start_time": "2022-12-09T12:49:04.463Z"
   },
   {
    "duration": 4,
    "start_time": "2022-12-09T12:49:04.473Z"
   },
   {
    "duration": 27,
    "start_time": "2022-12-09T12:49:04.478Z"
   },
   {
    "duration": 23,
    "start_time": "2022-12-09T12:49:04.506Z"
   },
   {
    "duration": 24,
    "start_time": "2022-12-09T12:49:04.530Z"
   },
   {
    "duration": 15,
    "start_time": "2022-12-09T12:49:04.555Z"
   },
   {
    "duration": 46,
    "start_time": "2022-12-09T12:49:04.572Z"
   },
   {
    "duration": 12,
    "start_time": "2022-12-09T12:49:04.619Z"
   },
   {
    "duration": 7,
    "start_time": "2022-12-09T12:49:04.632Z"
   },
   {
    "duration": 5,
    "start_time": "2022-12-09T12:49:04.643Z"
   },
   {
    "duration": 20,
    "start_time": "2022-12-09T12:49:04.649Z"
   },
   {
    "duration": 9,
    "start_time": "2022-12-09T12:49:04.671Z"
   },
   {
    "duration": 71,
    "start_time": "2022-12-09T12:49:04.681Z"
   },
   {
    "duration": 19,
    "start_time": "2022-12-09T12:49:04.754Z"
   },
   {
    "duration": 45,
    "start_time": "2022-12-09T12:49:04.774Z"
   },
   {
    "duration": 4,
    "start_time": "2022-12-09T12:49:04.821Z"
   },
   {
    "duration": 212,
    "start_time": "2022-12-09T12:49:04.826Z"
   },
   {
    "duration": 12,
    "start_time": "2022-12-09T12:49:05.040Z"
   },
   {
    "duration": 195,
    "start_time": "2022-12-09T12:49:05.053Z"
   },
   {
    "duration": 130,
    "start_time": "2022-12-09T12:49:05.249Z"
   },
   {
    "duration": 7,
    "start_time": "2022-12-09T12:49:05.381Z"
   },
   {
    "duration": 23,
    "start_time": "2022-12-09T12:49:05.403Z"
   },
   {
    "duration": 5,
    "start_time": "2022-12-09T12:49:05.429Z"
   },
   {
    "duration": 8,
    "start_time": "2022-12-09T12:49:05.436Z"
   },
   {
    "duration": 7,
    "start_time": "2022-12-09T12:49:05.446Z"
   },
   {
    "duration": 12,
    "start_time": "2022-12-09T12:49:05.455Z"
   },
   {
    "duration": 40,
    "start_time": "2022-12-09T12:49:05.469Z"
   },
   {
    "duration": 8,
    "start_time": "2022-12-09T12:49:05.514Z"
   },
   {
    "duration": 7,
    "start_time": "2022-12-09T12:49:05.524Z"
   },
   {
    "duration": 12,
    "start_time": "2022-12-09T12:49:05.533Z"
   },
   {
    "duration": 7,
    "start_time": "2022-12-09T12:49:05.547Z"
   },
   {
    "duration": 9,
    "start_time": "2022-12-09T12:49:05.556Z"
   },
   {
    "duration": 8,
    "start_time": "2022-12-09T12:49:05.567Z"
   },
   {
    "duration": 34,
    "start_time": "2022-12-09T12:49:05.576Z"
   },
   {
    "duration": 10,
    "start_time": "2022-12-09T12:49:05.612Z"
   },
   {
    "duration": 9,
    "start_time": "2022-12-09T12:49:05.623Z"
   },
   {
    "duration": 22,
    "start_time": "2022-12-09T12:49:05.636Z"
   },
   {
    "duration": 19,
    "start_time": "2022-12-09T12:49:05.660Z"
   },
   {
    "duration": 14,
    "start_time": "2022-12-09T12:49:05.681Z"
   },
   {
    "duration": 36,
    "start_time": "2022-12-09T12:49:05.697Z"
   },
   {
    "duration": 11,
    "start_time": "2022-12-09T12:49:05.735Z"
   },
   {
    "duration": 13,
    "start_time": "2022-12-09T12:49:05.748Z"
   },
   {
    "duration": 9,
    "start_time": "2022-12-09T12:49:05.763Z"
   },
   {
    "duration": 14,
    "start_time": "2022-12-09T12:49:05.774Z"
   },
   {
    "duration": 25,
    "start_time": "2022-12-09T12:49:05.790Z"
   },
   {
    "duration": 21,
    "start_time": "2022-12-09T12:49:05.817Z"
   },
   {
    "duration": 21,
    "start_time": "2022-12-09T12:49:05.839Z"
   },
   {
    "duration": 26,
    "start_time": "2022-12-09T12:49:05.862Z"
   },
   {
    "duration": 45,
    "start_time": "2022-12-09T12:49:05.889Z"
   },
   {
    "duration": 74,
    "start_time": "2022-12-09T12:49:05.937Z"
   },
   {
    "duration": 15,
    "start_time": "2022-12-09T12:49:06.014Z"
   },
   {
    "duration": 47,
    "start_time": "2022-12-09T12:49:06.031Z"
   },
   {
    "duration": 50,
    "start_time": "2022-12-09T12:49:06.080Z"
   },
   {
    "duration": 5,
    "start_time": "2022-12-09T12:49:06.132Z"
   },
   {
    "duration": 20,
    "start_time": "2022-12-09T12:49:06.139Z"
   },
   {
    "duration": 17,
    "start_time": "2022-12-09T12:49:06.161Z"
   },
   {
    "duration": 44,
    "start_time": "2022-12-09T12:49:06.180Z"
   },
   {
    "duration": 21,
    "start_time": "2022-12-09T12:49:06.225Z"
   },
   {
    "duration": 36,
    "start_time": "2022-12-09T12:49:06.249Z"
   },
   {
    "duration": 26,
    "start_time": "2022-12-09T12:49:06.287Z"
   },
   {
    "duration": 240,
    "start_time": "2022-12-09T12:49:06.315Z"
   },
   {
    "duration": 9,
    "start_time": "2022-12-09T12:49:06.557Z"
   },
   {
    "duration": 142,
    "start_time": "2022-12-09T12:50:05.413Z"
   },
   {
    "duration": 232,
    "start_time": "2022-12-09T12:50:49.527Z"
   },
   {
    "duration": 74,
    "start_time": "2022-12-09T12:51:02.752Z"
   },
   {
    "duration": 215,
    "start_time": "2022-12-09T12:51:11.846Z"
   },
   {
    "duration": 893,
    "start_time": "2022-12-09T12:55:49.381Z"
   },
   {
    "duration": 914,
    "start_time": "2022-12-09T12:56:28.470Z"
   },
   {
    "duration": 13,
    "start_time": "2022-12-09T12:56:30.869Z"
   },
   {
    "duration": 825,
    "start_time": "2022-12-09T12:56:31.273Z"
   },
   {
    "duration": 11,
    "start_time": "2022-12-09T12:56:35.470Z"
   },
   {
    "duration": 235,
    "start_time": "2022-12-09T12:57:12.374Z"
   },
   {
    "duration": 233,
    "start_time": "2022-12-09T12:58:30.014Z"
   },
   {
    "duration": 11,
    "start_time": "2022-12-09T12:58:31.313Z"
   },
   {
    "duration": 229,
    "start_time": "2022-12-09T12:58:32.990Z"
   },
   {
    "duration": 15,
    "start_time": "2022-12-09T13:00:09.178Z"
   },
   {
    "duration": 17,
    "start_time": "2022-12-09T13:00:34.015Z"
   },
   {
    "duration": 247,
    "start_time": "2022-12-09T13:01:57.934Z"
   },
   {
    "duration": 15,
    "start_time": "2022-12-09T13:03:03.527Z"
   },
   {
    "duration": 8,
    "start_time": "2022-12-09T13:03:16.148Z"
   },
   {
    "duration": 258,
    "start_time": "2022-12-09T13:03:17.123Z"
   },
   {
    "duration": 13,
    "start_time": "2022-12-09T13:11:15.629Z"
   },
   {
    "duration": 243,
    "start_time": "2022-12-09T13:11:16.432Z"
   },
   {
    "duration": 12,
    "start_time": "2022-12-09T13:11:20.824Z"
   },
   {
    "duration": 242,
    "start_time": "2022-12-09T13:11:24.432Z"
   },
   {
    "duration": 13,
    "start_time": "2022-12-09T13:11:34.532Z"
   },
   {
    "duration": 17,
    "start_time": "2022-12-09T13:11:41.989Z"
   },
   {
    "duration": 16,
    "start_time": "2022-12-09T13:11:48.755Z"
   },
   {
    "duration": 18,
    "start_time": "2022-12-09T13:12:00.347Z"
   },
   {
    "duration": 6,
    "start_time": "2022-12-09T13:12:06.635Z"
   },
   {
    "duration": 308,
    "start_time": "2022-12-09T13:12:10.883Z"
   },
   {
    "duration": 23,
    "start_time": "2022-12-09T13:13:57.367Z"
   },
   {
    "duration": 28,
    "start_time": "2022-12-09T13:22:40.383Z"
   },
   {
    "duration": 21,
    "start_time": "2022-12-09T13:24:53.796Z"
   },
   {
    "duration": 8,
    "start_time": "2022-12-09T13:26:50.169Z"
   },
   {
    "duration": 14,
    "start_time": "2022-12-09T13:26:57.640Z"
   },
   {
    "duration": 7,
    "start_time": "2022-12-09T13:26:58.120Z"
   },
   {
    "duration": 238,
    "start_time": "2022-12-09T13:26:58.762Z"
   },
   {
    "duration": 6,
    "start_time": "2022-12-09T13:28:26.458Z"
   },
   {
    "duration": 241,
    "start_time": "2022-12-09T13:28:27.118Z"
   },
   {
    "duration": 22,
    "start_time": "2022-12-09T13:30:16.090Z"
   },
   {
    "duration": 14,
    "start_time": "2022-12-09T13:30:30.002Z"
   },
   {
    "duration": 6,
    "start_time": "2022-12-09T13:30:31.625Z"
   },
   {
    "duration": 234,
    "start_time": "2022-12-09T13:30:32.964Z"
   },
   {
    "duration": 23,
    "start_time": "2022-12-09T13:33:54.993Z"
   },
   {
    "duration": 25,
    "start_time": "2022-12-09T13:34:02.578Z"
   },
   {
    "duration": 25,
    "start_time": "2022-12-09T13:34:25.100Z"
   },
   {
    "duration": 20,
    "start_time": "2022-12-09T13:35:09.609Z"
   },
   {
    "duration": 15,
    "start_time": "2022-12-09T13:36:09.610Z"
   },
   {
    "duration": 8,
    "start_time": "2022-12-09T13:36:10.154Z"
   },
   {
    "duration": 441,
    "start_time": "2022-12-09T13:37:13.819Z"
   },
   {
    "duration": 169,
    "start_time": "2022-12-09T13:42:25.084Z"
   },
   {
    "duration": 724,
    "start_time": "2022-12-09T13:42:56.985Z"
   },
   {
    "duration": 21,
    "start_time": "2022-12-09T13:42:57.712Z"
   },
   {
    "duration": 15,
    "start_time": "2022-12-09T13:42:57.735Z"
   },
   {
    "duration": 5,
    "start_time": "2022-12-09T13:42:57.752Z"
   },
   {
    "duration": 11,
    "start_time": "2022-12-09T13:42:57.759Z"
   },
   {
    "duration": 5,
    "start_time": "2022-12-09T13:42:57.772Z"
   },
   {
    "duration": 10,
    "start_time": "2022-12-09T13:42:57.797Z"
   },
   {
    "duration": 12,
    "start_time": "2022-12-09T13:42:57.808Z"
   },
   {
    "duration": 21,
    "start_time": "2022-12-09T13:42:57.822Z"
   },
   {
    "duration": 14,
    "start_time": "2022-12-09T13:42:57.845Z"
   },
   {
    "duration": 62,
    "start_time": "2022-12-09T13:42:57.860Z"
   },
   {
    "duration": 8,
    "start_time": "2022-12-09T13:42:57.923Z"
   },
   {
    "duration": 5,
    "start_time": "2022-12-09T13:42:57.933Z"
   },
   {
    "duration": 4,
    "start_time": "2022-12-09T13:42:57.941Z"
   },
   {
    "duration": 9,
    "start_time": "2022-12-09T13:42:57.947Z"
   },
   {
    "duration": 39,
    "start_time": "2022-12-09T13:42:57.958Z"
   },
   {
    "duration": 50,
    "start_time": "2022-12-09T13:42:57.999Z"
   },
   {
    "duration": 20,
    "start_time": "2022-12-09T13:42:58.051Z"
   },
   {
    "duration": 42,
    "start_time": "2022-12-09T13:42:58.073Z"
   },
   {
    "duration": 7,
    "start_time": "2022-12-09T13:42:58.117Z"
   },
   {
    "duration": 185,
    "start_time": "2022-12-09T13:42:58.125Z"
   },
   {
    "duration": 11,
    "start_time": "2022-12-09T13:42:58.311Z"
   },
   {
    "duration": 159,
    "start_time": "2022-12-09T13:42:58.324Z"
   },
   {
    "duration": 122,
    "start_time": "2022-12-09T13:42:58.485Z"
   },
   {
    "duration": 5,
    "start_time": "2022-12-09T13:42:58.609Z"
   },
   {
    "duration": 23,
    "start_time": "2022-12-09T13:42:58.615Z"
   },
   {
    "duration": 4,
    "start_time": "2022-12-09T13:42:58.640Z"
   },
   {
    "duration": 10,
    "start_time": "2022-12-09T13:42:58.646Z"
   },
   {
    "duration": 8,
    "start_time": "2022-12-09T13:42:58.658Z"
   },
   {
    "duration": 35,
    "start_time": "2022-12-09T13:42:58.667Z"
   },
   {
    "duration": 10,
    "start_time": "2022-12-09T13:42:58.704Z"
   },
   {
    "duration": 4,
    "start_time": "2022-12-09T13:42:58.715Z"
   },
   {
    "duration": 7,
    "start_time": "2022-12-09T13:42:58.721Z"
   },
   {
    "duration": 14,
    "start_time": "2022-12-09T13:42:58.730Z"
   },
   {
    "duration": 8,
    "start_time": "2022-12-09T13:42:58.747Z"
   },
   {
    "duration": 8,
    "start_time": "2022-12-09T13:42:58.756Z"
   },
   {
    "duration": 31,
    "start_time": "2022-12-09T13:42:58.766Z"
   },
   {
    "duration": 12,
    "start_time": "2022-12-09T13:42:58.799Z"
   },
   {
    "duration": 8,
    "start_time": "2022-12-09T13:42:58.812Z"
   },
   {
    "duration": 20,
    "start_time": "2022-12-09T13:42:58.822Z"
   },
   {
    "duration": 10,
    "start_time": "2022-12-09T13:42:58.848Z"
   },
   {
    "duration": 14,
    "start_time": "2022-12-09T13:42:58.860Z"
   },
   {
    "duration": 12,
    "start_time": "2022-12-09T13:42:58.876Z"
   },
   {
    "duration": 9,
    "start_time": "2022-12-09T13:42:58.890Z"
   },
   {
    "duration": 27,
    "start_time": "2022-12-09T13:42:58.905Z"
   },
   {
    "duration": 11,
    "start_time": "2022-12-09T13:42:58.933Z"
   },
   {
    "duration": 14,
    "start_time": "2022-12-09T13:42:58.946Z"
   },
   {
    "duration": 13,
    "start_time": "2022-12-09T13:42:58.962Z"
   },
   {
    "duration": 10,
    "start_time": "2022-12-09T13:42:58.977Z"
   },
   {
    "duration": 18,
    "start_time": "2022-12-09T13:42:58.988Z"
   },
   {
    "duration": 18,
    "start_time": "2022-12-09T13:42:59.008Z"
   },
   {
    "duration": 22,
    "start_time": "2022-12-09T13:42:59.028Z"
   },
   {
    "duration": 20,
    "start_time": "2022-12-09T13:42:59.051Z"
   },
   {
    "duration": 37,
    "start_time": "2022-12-09T13:42:59.097Z"
   },
   {
    "duration": 3,
    "start_time": "2022-12-09T13:42:59.135Z"
   },
   {
    "duration": 23,
    "start_time": "2022-12-09T13:42:59.140Z"
   },
   {
    "duration": 49,
    "start_time": "2022-12-09T13:42:59.165Z"
   },
   {
    "duration": 8,
    "start_time": "2022-12-09T13:42:59.216Z"
   },
   {
    "duration": 9,
    "start_time": "2022-12-09T13:42:59.226Z"
   },
   {
    "duration": 9,
    "start_time": "2022-12-09T13:42:59.236Z"
   },
   {
    "duration": 27,
    "start_time": "2022-12-09T13:42:59.246Z"
   },
   {
    "duration": 3,
    "start_time": "2022-12-09T13:42:59.275Z"
   },
   {
    "duration": 26,
    "start_time": "2022-12-09T13:42:59.295Z"
   },
   {
    "duration": 13,
    "start_time": "2022-12-09T13:42:59.323Z"
   },
   {
    "duration": 239,
    "start_time": "2022-12-09T13:42:59.338Z"
   },
   {
    "duration": 8,
    "start_time": "2022-12-09T13:42:59.579Z"
   },
   {
    "duration": 224,
    "start_time": "2022-12-09T13:42:59.596Z"
   },
   {
    "duration": 76,
    "start_time": "2022-12-09T13:42:59.822Z"
   },
   {
    "duration": 0,
    "start_time": "2022-12-09T13:42:59.900Z"
   },
   {
    "duration": 0,
    "start_time": "2022-12-09T13:42:59.901Z"
   },
   {
    "duration": 0,
    "start_time": "2022-12-09T13:42:59.903Z"
   },
   {
    "duration": 0,
    "start_time": "2022-12-09T13:42:59.904Z"
   },
   {
    "duration": 0,
    "start_time": "2022-12-09T13:42:59.906Z"
   },
   {
    "duration": 0,
    "start_time": "2022-12-09T13:42:59.908Z"
   },
   {
    "duration": 0,
    "start_time": "2022-12-09T13:42:59.909Z"
   },
   {
    "duration": 0,
    "start_time": "2022-12-09T13:42:59.911Z"
   },
   {
    "duration": 0,
    "start_time": "2022-12-09T13:42:59.911Z"
   },
   {
    "duration": 216,
    "start_time": "2022-12-09T13:43:43.369Z"
   },
   {
    "duration": 8,
    "start_time": "2022-12-09T13:43:46.690Z"
   },
   {
    "duration": 7,
    "start_time": "2022-12-09T13:44:08.410Z"
   },
   {
    "duration": 8,
    "start_time": "2022-12-09T13:44:09.106Z"
   },
   {
    "duration": 17,
    "start_time": "2022-12-09T13:44:10.224Z"
   },
   {
    "duration": 15,
    "start_time": "2022-12-09T13:44:11.457Z"
   },
   {
    "duration": 7,
    "start_time": "2022-12-09T13:44:11.922Z"
   },
   {
    "duration": 229,
    "start_time": "2022-12-09T13:44:12.514Z"
   },
   {
    "duration": 16,
    "start_time": "2022-12-09T13:44:14.001Z"
   },
   {
    "duration": 8,
    "start_time": "2022-12-09T13:44:14.466Z"
   },
   {
    "duration": 176,
    "start_time": "2022-12-09T13:44:15.042Z"
   },
   {
    "duration": 8,
    "start_time": "2022-12-09T13:46:35.421Z"
   },
   {
    "duration": 8,
    "start_time": "2022-12-09T13:46:41.269Z"
   },
   {
    "duration": 9,
    "start_time": "2022-12-09T13:46:45.748Z"
   },
   {
    "duration": 223,
    "start_time": "2022-12-09T13:46:46.836Z"
   },
   {
    "duration": 17,
    "start_time": "2022-12-09T13:46:48.398Z"
   },
   {
    "duration": 8,
    "start_time": "2022-12-09T13:46:49.206Z"
   },
   {
    "duration": 248,
    "start_time": "2022-12-09T13:46:50.950Z"
   },
   {
    "duration": 22,
    "start_time": "2022-12-09T13:46:59.025Z"
   },
   {
    "duration": 19,
    "start_time": "2022-12-09T13:47:01.669Z"
   },
   {
    "duration": 7,
    "start_time": "2022-12-09T13:47:03.341Z"
   },
   {
    "duration": 259,
    "start_time": "2022-12-09T13:47:04.660Z"
   },
   {
    "duration": 17,
    "start_time": "2022-12-09T13:47:06.746Z"
   },
   {
    "duration": 9,
    "start_time": "2022-12-09T13:47:07.627Z"
   },
   {
    "duration": 180,
    "start_time": "2022-12-09T13:47:08.764Z"
   },
   {
    "duration": 785,
    "start_time": "2022-12-09T13:47:31.597Z"
   },
   {
    "duration": 28,
    "start_time": "2022-12-09T13:47:32.385Z"
   },
   {
    "duration": 23,
    "start_time": "2022-12-09T13:47:32.416Z"
   },
   {
    "duration": 5,
    "start_time": "2022-12-09T13:47:32.441Z"
   },
   {
    "duration": 18,
    "start_time": "2022-12-09T13:47:32.447Z"
   },
   {
    "duration": 5,
    "start_time": "2022-12-09T13:47:32.466Z"
   },
   {
    "duration": 31,
    "start_time": "2022-12-09T13:47:32.473Z"
   },
   {
    "duration": 20,
    "start_time": "2022-12-09T13:47:32.508Z"
   },
   {
    "duration": 24,
    "start_time": "2022-12-09T13:47:32.530Z"
   },
   {
    "duration": 33,
    "start_time": "2022-12-09T13:47:32.557Z"
   },
   {
    "duration": 39,
    "start_time": "2022-12-09T13:47:32.592Z"
   },
   {
    "duration": 10,
    "start_time": "2022-12-09T13:47:32.634Z"
   },
   {
    "duration": 9,
    "start_time": "2022-12-09T13:47:32.646Z"
   },
   {
    "duration": 6,
    "start_time": "2022-12-09T13:47:32.656Z"
   },
   {
    "duration": 13,
    "start_time": "2022-12-09T13:47:32.663Z"
   },
   {
    "duration": 27,
    "start_time": "2022-12-09T13:47:32.677Z"
   },
   {
    "duration": 81,
    "start_time": "2022-12-09T13:47:32.705Z"
   },
   {
    "duration": 26,
    "start_time": "2022-12-09T13:47:32.788Z"
   },
   {
    "duration": 29,
    "start_time": "2022-12-09T13:47:32.816Z"
   },
   {
    "duration": 5,
    "start_time": "2022-12-09T13:47:32.847Z"
   },
   {
    "duration": 207,
    "start_time": "2022-12-09T13:47:32.853Z"
   },
   {
    "duration": 10,
    "start_time": "2022-12-09T13:47:33.062Z"
   },
   {
    "duration": 180,
    "start_time": "2022-12-09T13:47:33.073Z"
   },
   {
    "duration": 127,
    "start_time": "2022-12-09T13:47:33.255Z"
   },
   {
    "duration": 5,
    "start_time": "2022-12-09T13:47:33.384Z"
   },
   {
    "duration": 36,
    "start_time": "2022-12-09T13:47:33.397Z"
   },
   {
    "duration": 4,
    "start_time": "2022-12-09T13:47:33.435Z"
   },
   {
    "duration": 6,
    "start_time": "2022-12-09T13:47:33.444Z"
   },
   {
    "duration": 9,
    "start_time": "2022-12-09T13:47:33.451Z"
   },
   {
    "duration": 12,
    "start_time": "2022-12-09T13:47:33.461Z"
   },
   {
    "duration": 8,
    "start_time": "2022-12-09T13:47:33.475Z"
   },
   {
    "duration": 13,
    "start_time": "2022-12-09T13:47:33.485Z"
   },
   {
    "duration": 22,
    "start_time": "2022-12-09T13:47:33.500Z"
   },
   {
    "duration": 15,
    "start_time": "2022-12-09T13:47:33.524Z"
   },
   {
    "duration": 10,
    "start_time": "2022-12-09T13:47:33.540Z"
   },
   {
    "duration": 10,
    "start_time": "2022-12-09T13:47:33.551Z"
   },
   {
    "duration": 6,
    "start_time": "2022-12-09T13:47:33.563Z"
   },
   {
    "duration": 9,
    "start_time": "2022-12-09T13:47:33.570Z"
   },
   {
    "duration": 8,
    "start_time": "2022-12-09T13:47:33.581Z"
   },
   {
    "duration": 28,
    "start_time": "2022-12-09T13:47:33.597Z"
   },
   {
    "duration": 8,
    "start_time": "2022-12-09T13:47:33.626Z"
   },
   {
    "duration": 18,
    "start_time": "2022-12-09T13:47:33.635Z"
   },
   {
    "duration": 4,
    "start_time": "2022-12-09T13:47:33.654Z"
   },
   {
    "duration": 5,
    "start_time": "2022-12-09T13:47:33.660Z"
   },
   {
    "duration": 8,
    "start_time": "2022-12-09T13:47:33.666Z"
   },
   {
    "duration": 11,
    "start_time": "2022-12-09T13:47:33.676Z"
   },
   {
    "duration": 14,
    "start_time": "2022-12-09T13:47:33.689Z"
   },
   {
    "duration": 23,
    "start_time": "2022-12-09T13:47:33.705Z"
   },
   {
    "duration": 6,
    "start_time": "2022-12-09T13:47:33.730Z"
   },
   {
    "duration": 17,
    "start_time": "2022-12-09T13:47:33.738Z"
   },
   {
    "duration": 18,
    "start_time": "2022-12-09T13:47:33.757Z"
   },
   {
    "duration": 43,
    "start_time": "2022-12-09T13:47:33.776Z"
   },
   {
    "duration": 22,
    "start_time": "2022-12-09T13:47:33.821Z"
   },
   {
    "duration": 25,
    "start_time": "2022-12-09T13:47:33.845Z"
   },
   {
    "duration": 28,
    "start_time": "2022-12-09T13:47:33.872Z"
   },
   {
    "duration": 32,
    "start_time": "2022-12-09T13:47:33.903Z"
   },
   {
    "duration": 35,
    "start_time": "2022-12-09T13:47:33.937Z"
   },
   {
    "duration": 4,
    "start_time": "2022-12-09T13:47:33.974Z"
   },
   {
    "duration": 28,
    "start_time": "2022-12-09T13:47:33.997Z"
   },
   {
    "duration": 11,
    "start_time": "2022-12-09T13:47:34.027Z"
   },
   {
    "duration": 28,
    "start_time": "2022-12-09T13:47:34.040Z"
   },
   {
    "duration": 6,
    "start_time": "2022-12-09T13:47:34.069Z"
   },
   {
    "duration": 35,
    "start_time": "2022-12-09T13:47:34.076Z"
   },
   {
    "duration": 16,
    "start_time": "2022-12-09T13:47:34.114Z"
   },
   {
    "duration": 237,
    "start_time": "2022-12-09T13:47:34.132Z"
   },
   {
    "duration": 9,
    "start_time": "2022-12-09T13:47:34.370Z"
   },
   {
    "duration": 23,
    "start_time": "2022-12-09T13:47:34.380Z"
   },
   {
    "duration": 239,
    "start_time": "2022-12-09T13:47:34.404Z"
   },
   {
    "duration": 10,
    "start_time": "2022-12-09T13:47:34.645Z"
   },
   {
    "duration": 8,
    "start_time": "2022-12-09T13:47:34.657Z"
   },
   {
    "duration": 252,
    "start_time": "2022-12-09T13:47:34.666Z"
   },
   {
    "duration": 18,
    "start_time": "2022-12-09T13:47:34.920Z"
   },
   {
    "duration": 16,
    "start_time": "2022-12-09T13:47:34.940Z"
   },
   {
    "duration": 9,
    "start_time": "2022-12-09T13:47:34.958Z"
   },
   {
    "duration": 302,
    "start_time": "2022-12-09T13:47:34.969Z"
   },
   {
    "duration": 15,
    "start_time": "2022-12-09T13:47:35.273Z"
   },
   {
    "duration": 13,
    "start_time": "2022-12-09T13:47:35.301Z"
   },
   {
    "duration": 249,
    "start_time": "2022-12-09T13:47:35.315Z"
   },
   {
    "duration": 455,
    "start_time": "2022-12-09T13:48:16.443Z"
   },
   {
    "duration": 181,
    "start_time": "2022-12-09T13:49:16.761Z"
   },
   {
    "duration": 9,
    "start_time": "2022-12-09T13:49:27.370Z"
   },
   {
    "duration": 228,
    "start_time": "2022-12-09T13:49:37.011Z"
   },
   {
    "duration": 446,
    "start_time": "2022-12-09T13:49:44.624Z"
   },
   {
    "duration": 985,
    "start_time": "2022-12-10T09:56:36.615Z"
   },
   {
    "duration": 31,
    "start_time": "2022-12-10T09:56:37.602Z"
   },
   {
    "duration": 20,
    "start_time": "2022-12-10T09:56:37.635Z"
   },
   {
    "duration": 5,
    "start_time": "2022-12-10T09:56:37.657Z"
   },
   {
    "duration": 27,
    "start_time": "2022-12-10T09:56:37.664Z"
   },
   {
    "duration": 9,
    "start_time": "2022-12-10T09:56:37.693Z"
   },
   {
    "duration": 16,
    "start_time": "2022-12-10T09:56:37.704Z"
   },
   {
    "duration": 17,
    "start_time": "2022-12-10T09:56:37.722Z"
   },
   {
    "duration": 21,
    "start_time": "2022-12-10T09:56:37.741Z"
   },
   {
    "duration": 32,
    "start_time": "2022-12-10T09:56:37.764Z"
   },
   {
    "duration": 29,
    "start_time": "2022-12-10T09:56:37.798Z"
   },
   {
    "duration": 8,
    "start_time": "2022-12-10T09:56:37.829Z"
   },
   {
    "duration": 5,
    "start_time": "2022-12-10T09:56:37.839Z"
   },
   {
    "duration": 5,
    "start_time": "2022-12-10T09:56:37.845Z"
   },
   {
    "duration": 10,
    "start_time": "2022-12-10T09:56:37.851Z"
   },
   {
    "duration": 7,
    "start_time": "2022-12-10T09:56:37.863Z"
   },
   {
    "duration": 56,
    "start_time": "2022-12-10T09:56:37.896Z"
   },
   {
    "duration": 20,
    "start_time": "2022-12-10T09:56:37.953Z"
   },
   {
    "duration": 39,
    "start_time": "2022-12-10T09:56:37.974Z"
   },
   {
    "duration": 4,
    "start_time": "2022-12-10T09:56:38.014Z"
   },
   {
    "duration": 204,
    "start_time": "2022-12-10T09:56:38.019Z"
   },
   {
    "duration": 11,
    "start_time": "2022-12-10T09:56:38.224Z"
   },
   {
    "duration": 167,
    "start_time": "2022-12-10T09:56:38.237Z"
   },
   {
    "duration": 124,
    "start_time": "2022-12-10T09:56:38.406Z"
   },
   {
    "duration": 5,
    "start_time": "2022-12-10T09:56:38.532Z"
   },
   {
    "duration": 22,
    "start_time": "2022-12-10T09:56:38.539Z"
   },
   {
    "duration": 5,
    "start_time": "2022-12-10T09:56:38.562Z"
   },
   {
    "duration": 26,
    "start_time": "2022-12-10T09:56:38.572Z"
   },
   {
    "duration": 7,
    "start_time": "2022-12-10T09:56:38.599Z"
   },
   {
    "duration": 10,
    "start_time": "2022-12-10T09:56:38.608Z"
   },
   {
    "duration": 11,
    "start_time": "2022-12-10T09:56:38.619Z"
   },
   {
    "duration": 3,
    "start_time": "2022-12-10T09:56:38.632Z"
   },
   {
    "duration": 10,
    "start_time": "2022-12-10T09:56:38.636Z"
   },
   {
    "duration": 9,
    "start_time": "2022-12-10T09:56:38.647Z"
   },
   {
    "duration": 7,
    "start_time": "2022-12-10T09:56:38.657Z"
   },
   {
    "duration": 9,
    "start_time": "2022-12-10T09:56:38.695Z"
   },
   {
    "duration": 7,
    "start_time": "2022-12-10T09:56:38.705Z"
   },
   {
    "duration": 9,
    "start_time": "2022-12-10T09:56:38.713Z"
   },
   {
    "duration": 8,
    "start_time": "2022-12-10T09:56:38.723Z"
   },
   {
    "duration": 8,
    "start_time": "2022-12-10T09:56:38.732Z"
   },
   {
    "duration": 7,
    "start_time": "2022-12-10T09:56:38.741Z"
   },
   {
    "duration": 13,
    "start_time": "2022-12-10T09:56:38.750Z"
   },
   {
    "duration": 31,
    "start_time": "2022-12-10T09:56:38.765Z"
   },
   {
    "duration": 6,
    "start_time": "2022-12-10T09:56:38.798Z"
   },
   {
    "duration": 9,
    "start_time": "2022-12-10T09:56:38.806Z"
   },
   {
    "duration": 10,
    "start_time": "2022-12-10T09:56:38.816Z"
   },
   {
    "duration": 6,
    "start_time": "2022-12-10T09:56:38.827Z"
   },
   {
    "duration": 12,
    "start_time": "2022-12-10T09:56:38.835Z"
   },
   {
    "duration": 7,
    "start_time": "2022-12-10T09:56:38.849Z"
   },
   {
    "duration": 18,
    "start_time": "2022-12-10T09:56:38.857Z"
   },
   {
    "duration": 18,
    "start_time": "2022-12-10T09:56:38.895Z"
   },
   {
    "duration": 24,
    "start_time": "2022-12-10T09:56:38.914Z"
   },
   {
    "duration": 23,
    "start_time": "2022-12-10T09:56:38.939Z"
   },
   {
    "duration": 60,
    "start_time": "2022-12-10T09:56:38.964Z"
   },
   {
    "duration": 4,
    "start_time": "2022-12-10T09:56:39.025Z"
   },
   {
    "duration": 24,
    "start_time": "2022-12-10T09:56:39.030Z"
   },
   {
    "duration": 47,
    "start_time": "2022-12-10T09:56:39.056Z"
   },
   {
    "duration": 4,
    "start_time": "2022-12-10T09:56:39.105Z"
   },
   {
    "duration": 8,
    "start_time": "2022-12-10T09:56:39.111Z"
   },
   {
    "duration": 10,
    "start_time": "2022-12-10T09:56:39.120Z"
   },
   {
    "duration": 28,
    "start_time": "2022-12-10T09:56:39.131Z"
   },
   {
    "duration": 5,
    "start_time": "2022-12-10T09:56:39.161Z"
   },
   {
    "duration": 49,
    "start_time": "2022-12-10T09:56:39.167Z"
   },
   {
    "duration": 11,
    "start_time": "2022-12-10T09:56:39.218Z"
   },
   {
    "duration": 228,
    "start_time": "2022-12-10T09:56:39.230Z"
   },
   {
    "duration": 9,
    "start_time": "2022-12-10T09:56:39.459Z"
   },
   {
    "duration": 9,
    "start_time": "2022-12-10T09:56:39.469Z"
   },
   {
    "duration": 223,
    "start_time": "2022-12-10T09:56:39.480Z"
   },
   {
    "duration": 10,
    "start_time": "2022-12-10T09:56:39.705Z"
   },
   {
    "duration": 8,
    "start_time": "2022-12-10T09:56:39.716Z"
   },
   {
    "duration": 228,
    "start_time": "2022-12-10T09:56:39.726Z"
   },
   {
    "duration": 16,
    "start_time": "2022-12-10T09:56:39.956Z"
   },
   {
    "duration": 25,
    "start_time": "2022-12-10T09:56:39.973Z"
   },
   {
    "duration": 6,
    "start_time": "2022-12-10T09:56:39.999Z"
   },
   {
    "duration": 247,
    "start_time": "2022-12-10T09:56:40.006Z"
   },
   {
    "duration": 17,
    "start_time": "2022-12-10T09:56:40.254Z"
   },
   {
    "duration": 23,
    "start_time": "2022-12-10T09:56:40.273Z"
   },
   {
    "duration": 454,
    "start_time": "2022-12-10T09:56:40.298Z"
   },
   {
    "duration": 6,
    "start_time": "2022-12-10T10:05:44.105Z"
   },
   {
    "duration": 27,
    "start_time": "2022-12-10T10:05:53.322Z"
   },
   {
    "duration": 6,
    "start_time": "2022-12-10T10:06:07.819Z"
   },
   {
    "duration": 27,
    "start_time": "2022-12-10T10:06:10.364Z"
   },
   {
    "duration": 30,
    "start_time": "2022-12-10T10:06:23.102Z"
   },
   {
    "duration": 20,
    "start_time": "2022-12-10T10:06:28.182Z"
   },
   {
    "duration": 49,
    "start_time": "2022-12-10T10:06:49.201Z"
   },
   {
    "duration": 7,
    "start_time": "2022-12-10T10:06:55.218Z"
   },
   {
    "duration": 35,
    "start_time": "2022-12-10T10:06:55.906Z"
   },
   {
    "duration": 15,
    "start_time": "2022-12-10T10:07:05.322Z"
   },
   {
    "duration": 4,
    "start_time": "2022-12-10T10:12:08.725Z"
   },
   {
    "duration": 7,
    "start_time": "2022-12-10T10:12:25.926Z"
   },
   {
    "duration": 69,
    "start_time": "2022-12-10T10:12:26.646Z"
   },
   {
    "duration": 7,
    "start_time": "2022-12-10T10:12:27.158Z"
   },
   {
    "duration": 7,
    "start_time": "2022-12-10T10:12:31.168Z"
   },
   {
    "duration": 17,
    "start_time": "2022-12-10T10:12:31.615Z"
   },
   {
    "duration": 4,
    "start_time": "2022-12-10T10:12:32.103Z"
   },
   {
    "duration": 33,
    "start_time": "2022-12-10T10:13:04.827Z"
   },
   {
    "duration": 239,
    "start_time": "2022-12-10T10:14:28.869Z"
   },
   {
    "duration": 10,
    "start_time": "2022-12-10T10:14:58.560Z"
   },
   {
    "duration": 32,
    "start_time": "2022-12-10T10:15:03.104Z"
   },
   {
    "duration": 57,
    "start_time": "2022-12-10T10:16:05.727Z"
   },
   {
    "duration": 186,
    "start_time": "2022-12-10T10:16:11.887Z"
   },
   {
    "duration": 165,
    "start_time": "2022-12-10T10:16:35.371Z"
   },
   {
    "duration": 261,
    "start_time": "2022-12-10T10:16:43.435Z"
   },
   {
    "duration": 196,
    "start_time": "2022-12-10T10:16:49.604Z"
   },
   {
    "duration": 185,
    "start_time": "2022-12-10T10:16:57.212Z"
   },
   {
    "duration": 222,
    "start_time": "2022-12-10T10:18:25.014Z"
   },
   {
    "duration": 190,
    "start_time": "2022-12-10T10:19:12.764Z"
   },
   {
    "duration": 196,
    "start_time": "2022-12-10T10:19:20.837Z"
   },
   {
    "duration": 178,
    "start_time": "2022-12-10T10:19:42.646Z"
   },
   {
    "duration": 204,
    "start_time": "2022-12-10T10:25:07.282Z"
   },
   {
    "duration": 183,
    "start_time": "2022-12-10T10:25:15.564Z"
   },
   {
    "duration": 4,
    "start_time": "2022-12-10T10:26:00.223Z"
   },
   {
    "duration": 4,
    "start_time": "2022-12-10T10:26:00.497Z"
   },
   {
    "duration": 56,
    "start_time": "2022-12-10T10:31:30.990Z"
   },
   {
    "duration": 85,
    "start_time": "2022-12-10T10:32:07.921Z"
   },
   {
    "duration": 51,
    "start_time": "2022-12-10T10:32:35.485Z"
   },
   {
    "duration": 44,
    "start_time": "2022-12-10T10:32:58.455Z"
   },
   {
    "duration": 4,
    "start_time": "2022-12-10T10:33:28.564Z"
   },
   {
    "duration": 4,
    "start_time": "2022-12-10T10:34:21.217Z"
   },
   {
    "duration": 4,
    "start_time": "2022-12-10T10:34:21.592Z"
   },
   {
    "duration": 35,
    "start_time": "2022-12-10T10:34:31.314Z"
   },
   {
    "duration": 181,
    "start_time": "2022-12-10T10:35:32.625Z"
   },
   {
    "duration": 216,
    "start_time": "2022-12-10T10:35:45.083Z"
   },
   {
    "duration": 259,
    "start_time": "2022-12-10T10:35:50.755Z"
   },
   {
    "duration": 3,
    "start_time": "2022-12-10T10:37:44.008Z"
   },
   {
    "duration": 4,
    "start_time": "2022-12-10T10:37:45.807Z"
   },
   {
    "duration": 35,
    "start_time": "2022-12-10T10:37:46.584Z"
   },
   {
    "duration": 8,
    "start_time": "2022-12-10T10:38:39.487Z"
   },
   {
    "duration": 184,
    "start_time": "2022-12-10T10:38:57.529Z"
   },
   {
    "duration": 201,
    "start_time": "2022-12-10T10:39:12.361Z"
   },
   {
    "duration": 187,
    "start_time": "2022-12-10T10:39:22.362Z"
   },
   {
    "duration": 187,
    "start_time": "2022-12-10T10:39:30.419Z"
   },
   {
    "duration": 38,
    "start_time": "2022-12-10T10:43:26.527Z"
   },
   {
    "duration": 8,
    "start_time": "2022-12-10T10:48:40.419Z"
   },
   {
    "duration": 8,
    "start_time": "2022-12-10T10:49:47.729Z"
   },
   {
    "duration": 3,
    "start_time": "2022-12-10T10:55:59.930Z"
   },
   {
    "duration": 4,
    "start_time": "2022-12-10T10:56:36.653Z"
   },
   {
    "duration": 32,
    "start_time": "2022-12-10T10:56:48.649Z"
   },
   {
    "duration": 16,
    "start_time": "2022-12-10T10:57:35.405Z"
   },
   {
    "duration": 2250,
    "start_time": "2022-12-10T10:59:01.886Z"
   },
   {
    "duration": 9,
    "start_time": "2022-12-10T10:59:58.028Z"
   },
   {
    "duration": 306,
    "start_time": "2022-12-10T10:59:58.973Z"
   },
   {
    "duration": 8,
    "start_time": "2022-12-10T11:00:23.695Z"
   },
   {
    "duration": 11,
    "start_time": "2022-12-10T11:01:18.438Z"
   },
   {
    "duration": 7,
    "start_time": "2022-12-10T11:01:19.102Z"
   },
   {
    "duration": 319,
    "start_time": "2022-12-10T11:01:19.742Z"
   },
   {
    "duration": 9,
    "start_time": "2022-12-10T11:01:42.560Z"
   },
   {
    "duration": 7,
    "start_time": "2022-12-10T11:01:43.152Z"
   },
   {
    "duration": 309,
    "start_time": "2022-12-10T11:01:44.040Z"
   },
   {
    "duration": 840,
    "start_time": "2022-12-10T11:04:59.631Z"
   },
   {
    "duration": 16,
    "start_time": "2022-12-10T11:05:16.144Z"
   },
   {
    "duration": 17,
    "start_time": "2022-12-10T11:05:42.260Z"
   },
   {
    "duration": 345,
    "start_time": "2022-12-10T11:08:58.992Z"
   },
   {
    "duration": 166,
    "start_time": "2022-12-10T11:18:26.897Z"
   },
   {
    "duration": 112,
    "start_time": "2022-12-10T11:23:49.760Z"
   },
   {
    "duration": 134,
    "start_time": "2022-12-10T11:24:31.219Z"
   },
   {
    "duration": 122,
    "start_time": "2022-12-10T11:24:49.349Z"
   },
   {
    "duration": 322,
    "start_time": "2022-12-10T11:26:00.580Z"
   },
   {
    "duration": 12,
    "start_time": "2022-12-10T11:31:49.052Z"
   },
   {
    "duration": 10,
    "start_time": "2022-12-10T11:31:58.349Z"
   },
   {
    "duration": 50,
    "start_time": "2022-12-10T11:32:21.231Z"
   },
   {
    "duration": 3569,
    "start_time": "2022-12-10T11:32:26.863Z"
   },
   {
    "duration": 8,
    "start_time": "2022-12-10T11:36:16.946Z"
   },
   {
    "duration": 134,
    "start_time": "2022-12-10T11:36:24.346Z"
   },
   {
    "duration": 866,
    "start_time": "2022-12-10T11:37:53.629Z"
   },
   {
    "duration": 380,
    "start_time": "2022-12-10T11:38:38.978Z"
   },
   {
    "duration": 151,
    "start_time": "2022-12-10T11:39:32.527Z"
   },
   {
    "duration": 143,
    "start_time": "2022-12-10T11:40:32.646Z"
   },
   {
    "duration": 10,
    "start_time": "2022-12-10T11:43:15.218Z"
   },
   {
    "duration": 11,
    "start_time": "2022-12-10T11:43:24.636Z"
   },
   {
    "duration": 902,
    "start_time": "2022-12-10T11:44:59.876Z"
   },
   {
    "duration": 24,
    "start_time": "2022-12-10T11:46:56.458Z"
   },
   {
    "duration": 14,
    "start_time": "2022-12-10T11:47:45.815Z"
   },
   {
    "duration": 4,
    "start_time": "2022-12-10T11:48:46.127Z"
   },
   {
    "duration": 8,
    "start_time": "2022-12-10T11:48:47.078Z"
   },
   {
    "duration": 4,
    "start_time": "2022-12-10T11:48:57.160Z"
   },
   {
    "duration": 5,
    "start_time": "2022-12-10T11:49:03.623Z"
   },
   {
    "duration": 5,
    "start_time": "2022-12-10T11:49:26.348Z"
   },
   {
    "duration": 5,
    "start_time": "2022-12-10T11:49:28.668Z"
   },
   {
    "duration": 5,
    "start_time": "2022-12-10T11:49:39.923Z"
   },
   {
    "duration": 4,
    "start_time": "2022-12-10T11:49:42.963Z"
   },
   {
    "duration": 5,
    "start_time": "2022-12-10T11:50:02.351Z"
   },
   {
    "duration": 10,
    "start_time": "2022-12-10T11:50:03.974Z"
   },
   {
    "duration": 7,
    "start_time": "2022-12-10T11:50:14.168Z"
   },
   {
    "duration": 10,
    "start_time": "2022-12-10T11:50:16.839Z"
   },
   {
    "duration": 7,
    "start_time": "2022-12-10T11:50:29.961Z"
   },
   {
    "duration": 12,
    "start_time": "2022-12-10T11:50:51.852Z"
   },
   {
    "duration": 19,
    "start_time": "2022-12-10T11:50:57.644Z"
   },
   {
    "duration": 7,
    "start_time": "2022-12-10T11:51:07.765Z"
   },
   {
    "duration": 127,
    "start_time": "2022-12-10T11:51:27.978Z"
   },
   {
    "duration": 197,
    "start_time": "2022-12-10T11:51:51.099Z"
   },
   {
    "duration": 19,
    "start_time": "2022-12-10T11:52:34.831Z"
   },
   {
    "duration": 754,
    "start_time": "2022-12-10T11:53:24.181Z"
   },
   {
    "duration": 753,
    "start_time": "2022-12-10T11:56:24.289Z"
   },
   {
    "duration": 38,
    "start_time": "2022-12-10T11:56:35.336Z"
   },
   {
    "duration": 20,
    "start_time": "2022-12-10T11:56:47.740Z"
   },
   {
    "duration": 748,
    "start_time": "2022-12-10T11:57:36.898Z"
   },
   {
    "duration": 18,
    "start_time": "2022-12-10T11:57:45.387Z"
   },
   {
    "duration": 236,
    "start_time": "2022-12-10T11:58:39.425Z"
   },
   {
    "duration": 289,
    "start_time": "2022-12-10T11:58:57.979Z"
   },
   {
    "duration": 195,
    "start_time": "2022-12-10T11:59:42.929Z"
   },
   {
    "duration": 126,
    "start_time": "2022-12-10T12:00:34.580Z"
   },
   {
    "duration": 53,
    "start_time": "2022-12-10T12:02:45.876Z"
   },
   {
    "duration": 10,
    "start_time": "2022-12-10T12:02:46.556Z"
   },
   {
    "duration": 48,
    "start_time": "2022-12-10T12:02:52.188Z"
   },
   {
    "duration": 10,
    "start_time": "2022-12-10T12:02:53.044Z"
   },
   {
    "duration": 4,
    "start_time": "2022-12-10T12:02:57.452Z"
   },
   {
    "duration": 182,
    "start_time": "2022-12-10T12:02:58.093Z"
   },
   {
    "duration": 4,
    "start_time": "2022-12-10T12:03:15.553Z"
   },
   {
    "duration": 181,
    "start_time": "2022-12-10T12:03:15.920Z"
   },
   {
    "duration": 4,
    "start_time": "2022-12-10T12:03:23.568Z"
   },
   {
    "duration": 178,
    "start_time": "2022-12-10T12:03:23.928Z"
   },
   {
    "duration": 48,
    "start_time": "2022-12-10T12:03:55.671Z"
   },
   {
    "duration": 4,
    "start_time": "2022-12-10T12:04:00.419Z"
   },
   {
    "duration": 180,
    "start_time": "2022-12-10T12:04:01.148Z"
   },
   {
    "duration": 3,
    "start_time": "2022-12-10T12:04:21.247Z"
   },
   {
    "duration": 184,
    "start_time": "2022-12-10T12:04:21.904Z"
   },
   {
    "duration": 3,
    "start_time": "2022-12-10T12:04:56.802Z"
   },
   {
    "duration": 175,
    "start_time": "2022-12-10T12:04:57.426Z"
   },
   {
    "duration": 3759,
    "start_time": "2022-12-10T12:05:18.597Z"
   },
   {
    "duration": 10,
    "start_time": "2022-12-10T12:05:43.401Z"
   },
   {
    "duration": 7,
    "start_time": "2022-12-10T12:05:52.928Z"
   },
   {
    "duration": 110,
    "start_time": "2022-12-10T12:06:37.926Z"
   },
   {
    "duration": 145,
    "start_time": "2022-12-10T12:07:10.034Z"
   },
   {
    "duration": 131,
    "start_time": "2022-12-10T12:07:35.480Z"
   },
   {
    "duration": 128,
    "start_time": "2022-12-10T12:07:58.271Z"
   },
   {
    "duration": 114,
    "start_time": "2022-12-10T12:08:04.836Z"
   },
   {
    "duration": 481,
    "start_time": "2022-12-10T12:09:02.189Z"
   },
   {
    "duration": 183,
    "start_time": "2022-12-10T12:09:15.397Z"
   },
   {
    "duration": 8,
    "start_time": "2022-12-10T12:09:25.377Z"
   },
   {
    "duration": 178,
    "start_time": "2022-12-10T12:09:43.436Z"
   },
   {
    "duration": 8,
    "start_time": "2022-12-10T12:11:10.177Z"
   },
   {
    "duration": 182,
    "start_time": "2022-12-10T12:11:10.758Z"
   },
   {
    "duration": 7,
    "start_time": "2022-12-10T12:11:18.470Z"
   },
   {
    "duration": 12,
    "start_time": "2022-12-10T12:12:22.653Z"
   },
   {
    "duration": 173,
    "start_time": "2022-12-10T12:12:23.348Z"
   },
   {
    "duration": 7,
    "start_time": "2022-12-10T12:12:30.022Z"
   },
   {
    "duration": 181,
    "start_time": "2022-12-10T12:13:04.257Z"
   },
   {
    "duration": 8,
    "start_time": "2022-12-10T12:13:04.640Z"
   },
   {
    "duration": 14,
    "start_time": "2022-12-10T12:13:56.976Z"
   },
   {
    "duration": 174,
    "start_time": "2022-12-10T12:13:57.561Z"
   },
   {
    "duration": 10,
    "start_time": "2022-12-10T12:13:59.896Z"
   },
   {
    "duration": 32,
    "start_time": "2022-12-10T12:14:17.026Z"
   },
   {
    "duration": 11,
    "start_time": "2022-12-10T12:15:53.908Z"
   },
   {
    "duration": 13,
    "start_time": "2022-12-10T12:16:01.589Z"
   },
   {
    "duration": 8,
    "start_time": "2022-12-10T12:16:02.117Z"
   },
   {
    "duration": 9,
    "start_time": "2022-12-10T12:16:05.494Z"
   },
   {
    "duration": 190,
    "start_time": "2022-12-10T12:16:06.126Z"
   },
   {
    "duration": 8,
    "start_time": "2022-12-10T12:16:06.781Z"
   },
   {
    "duration": 32,
    "start_time": "2022-12-10T12:16:08.392Z"
   },
   {
    "duration": 21,
    "start_time": "2022-12-10T12:16:40.369Z"
   },
   {
    "duration": 26,
    "start_time": "2022-12-10T12:16:45.785Z"
   },
   {
    "duration": 6,
    "start_time": "2022-12-10T12:17:00.436Z"
   },
   {
    "duration": 31,
    "start_time": "2022-12-10T12:17:25.263Z"
   },
   {
    "duration": 3,
    "start_time": "2022-12-10T12:18:50.600Z"
   },
   {
    "duration": 7,
    "start_time": "2022-12-10T12:18:51.034Z"
   },
   {
    "duration": 29,
    "start_time": "2022-12-10T12:18:52.257Z"
   },
   {
    "duration": 10,
    "start_time": "2022-12-10T12:19:38.480Z"
   },
   {
    "duration": 189,
    "start_time": "2022-12-10T12:19:39.110Z"
   },
   {
    "duration": 8,
    "start_time": "2022-12-10T12:19:40.141Z"
   },
   {
    "duration": 8,
    "start_time": "2022-12-10T12:19:40.870Z"
   },
   {
    "duration": 3,
    "start_time": "2022-12-10T12:19:41.538Z"
   },
   {
    "duration": 13,
    "start_time": "2022-12-10T12:19:42.183Z"
   },
   {
    "duration": 184,
    "start_time": "2022-12-10T12:20:25.610Z"
   },
   {
    "duration": 192,
    "start_time": "2022-12-10T12:21:00.143Z"
   },
   {
    "duration": 199,
    "start_time": "2022-12-10T12:21:31.395Z"
   },
   {
    "duration": 8,
    "start_time": "2022-12-10T12:21:44.212Z"
   },
   {
    "duration": 216,
    "start_time": "2022-12-10T12:21:56.037Z"
   },
   {
    "duration": 41,
    "start_time": "2022-12-10T12:23:55.123Z"
   },
   {
    "duration": 5,
    "start_time": "2022-12-10T12:24:58.897Z"
   },
   {
    "duration": 14,
    "start_time": "2022-12-10T12:55:26.711Z"
   },
   {
    "duration": 7,
    "start_time": "2022-12-10T12:55:28.536Z"
   },
   {
    "duration": 10,
    "start_time": "2022-12-10T12:55:53.410Z"
   },
   {
    "duration": 6,
    "start_time": "2022-12-10T12:57:13.219Z"
   },
   {
    "duration": 209,
    "start_time": "2022-12-10T12:57:13.699Z"
   },
   {
    "duration": 825,
    "start_time": "2022-12-10T13:01:36.991Z"
   },
   {
    "duration": 25,
    "start_time": "2022-12-10T13:01:37.818Z"
   },
   {
    "duration": 15,
    "start_time": "2022-12-10T13:01:37.845Z"
   },
   {
    "duration": 6,
    "start_time": "2022-12-10T13:01:37.863Z"
   },
   {
    "duration": 10,
    "start_time": "2022-12-10T13:01:37.871Z"
   },
   {
    "duration": 18,
    "start_time": "2022-12-10T13:01:37.883Z"
   },
   {
    "duration": 13,
    "start_time": "2022-12-10T13:01:37.903Z"
   },
   {
    "duration": 23,
    "start_time": "2022-12-10T13:01:37.917Z"
   },
   {
    "duration": 22,
    "start_time": "2022-12-10T13:01:37.942Z"
   },
   {
    "duration": 30,
    "start_time": "2022-12-10T13:01:37.967Z"
   },
   {
    "duration": 31,
    "start_time": "2022-12-10T13:01:37.999Z"
   },
   {
    "duration": 8,
    "start_time": "2022-12-10T13:01:38.032Z"
   },
   {
    "duration": 8,
    "start_time": "2022-12-10T13:01:38.041Z"
   },
   {
    "duration": 5,
    "start_time": "2022-12-10T13:01:38.050Z"
   },
   {
    "duration": 8,
    "start_time": "2022-12-10T13:01:38.057Z"
   },
   {
    "duration": 34,
    "start_time": "2022-12-10T13:01:38.067Z"
   },
   {
    "duration": 55,
    "start_time": "2022-12-10T13:01:38.103Z"
   },
   {
    "duration": 39,
    "start_time": "2022-12-10T13:01:38.159Z"
   },
   {
    "duration": 20,
    "start_time": "2022-12-10T13:01:38.200Z"
   },
   {
    "duration": 3,
    "start_time": "2022-12-10T13:01:38.222Z"
   },
   {
    "duration": 205,
    "start_time": "2022-12-10T13:01:38.228Z"
   },
   {
    "duration": 84,
    "start_time": "2022-12-10T13:01:38.435Z"
   },
   {
    "duration": 6,
    "start_time": "2022-12-10T13:01:38.520Z"
   },
   {
    "duration": 21,
    "start_time": "2022-12-10T13:01:38.528Z"
   },
   {
    "duration": 5,
    "start_time": "2022-12-10T13:01:38.551Z"
   },
   {
    "duration": 10,
    "start_time": "2022-12-10T13:01:38.558Z"
   },
   {
    "duration": 27,
    "start_time": "2022-12-10T13:01:38.570Z"
   },
   {
    "duration": 10,
    "start_time": "2022-12-10T13:01:38.603Z"
   },
   {
    "duration": 8,
    "start_time": "2022-12-10T13:01:38.615Z"
   },
   {
    "duration": 4,
    "start_time": "2022-12-10T13:01:38.624Z"
   },
   {
    "duration": 11,
    "start_time": "2022-12-10T13:01:38.629Z"
   },
   {
    "duration": 13,
    "start_time": "2022-12-10T13:01:38.642Z"
   },
   {
    "duration": 42,
    "start_time": "2022-12-10T13:01:38.656Z"
   },
   {
    "duration": 9,
    "start_time": "2022-12-10T13:01:38.700Z"
   },
   {
    "duration": 6,
    "start_time": "2022-12-10T13:01:38.711Z"
   },
   {
    "duration": 8,
    "start_time": "2022-12-10T13:01:38.719Z"
   },
   {
    "duration": 10,
    "start_time": "2022-12-10T13:01:38.728Z"
   },
   {
    "duration": 7,
    "start_time": "2022-12-10T13:01:38.740Z"
   },
   {
    "duration": 7,
    "start_time": "2022-12-10T13:01:38.748Z"
   },
   {
    "duration": 11,
    "start_time": "2022-12-10T13:01:38.756Z"
   },
   {
    "duration": 3,
    "start_time": "2022-12-10T13:01:38.797Z"
   },
   {
    "duration": 5,
    "start_time": "2022-12-10T13:01:38.802Z"
   },
   {
    "duration": 11,
    "start_time": "2022-12-10T13:01:38.809Z"
   },
   {
    "duration": 10,
    "start_time": "2022-12-10T13:01:38.821Z"
   },
   {
    "duration": 5,
    "start_time": "2022-12-10T13:01:38.833Z"
   },
   {
    "duration": 9,
    "start_time": "2022-12-10T13:01:38.840Z"
   },
   {
    "duration": 7,
    "start_time": "2022-12-10T13:01:38.851Z"
   },
   {
    "duration": 52,
    "start_time": "2022-12-10T13:01:38.860Z"
   },
   {
    "duration": 25,
    "start_time": "2022-12-10T13:01:38.914Z"
   },
   {
    "duration": 24,
    "start_time": "2022-12-10T13:01:38.941Z"
   },
   {
    "duration": 47,
    "start_time": "2022-12-10T13:01:38.967Z"
   },
   {
    "duration": 27,
    "start_time": "2022-12-10T13:01:39.015Z"
   },
   {
    "duration": 3,
    "start_time": "2022-12-10T13:01:39.043Z"
   },
   {
    "duration": 25,
    "start_time": "2022-12-10T13:01:39.047Z"
   },
   {
    "duration": 51,
    "start_time": "2022-12-10T13:01:39.074Z"
   },
   {
    "duration": 5,
    "start_time": "2022-12-10T13:01:39.127Z"
   },
   {
    "duration": 8,
    "start_time": "2022-12-10T13:01:39.133Z"
   },
   {
    "duration": 7,
    "start_time": "2022-12-10T13:01:39.143Z"
   },
   {
    "duration": 51,
    "start_time": "2022-12-10T13:01:39.152Z"
   },
   {
    "duration": 5,
    "start_time": "2022-12-10T13:01:39.205Z"
   },
   {
    "duration": 23,
    "start_time": "2022-12-10T13:01:39.212Z"
   },
   {
    "duration": 14,
    "start_time": "2022-12-10T13:01:39.237Z"
   },
   {
    "duration": 264,
    "start_time": "2022-12-10T13:01:39.253Z"
   },
   {
    "duration": 25,
    "start_time": "2022-12-10T13:01:39.520Z"
   },
   {
    "duration": 10,
    "start_time": "2022-12-10T13:01:39.547Z"
   },
   {
    "duration": 294,
    "start_time": "2022-12-10T13:01:39.559Z"
   },
   {
    "duration": 16,
    "start_time": "2022-12-10T13:01:39.855Z"
   },
   {
    "duration": 7,
    "start_time": "2022-12-10T13:01:39.872Z"
   },
   {
    "duration": 265,
    "start_time": "2022-12-10T13:01:39.881Z"
   },
   {
    "duration": 15,
    "start_time": "2022-12-10T13:01:40.147Z"
   },
   {
    "duration": 17,
    "start_time": "2022-12-10T13:01:40.164Z"
   },
   {
    "duration": 14,
    "start_time": "2022-12-10T13:01:40.197Z"
   },
   {
    "duration": 5,
    "start_time": "2022-12-10T13:01:40.212Z"
   },
   {
    "duration": 279,
    "start_time": "2022-12-10T13:01:40.219Z"
   },
   {
    "duration": 18,
    "start_time": "2022-12-10T13:01:40.500Z"
   },
   {
    "duration": 8,
    "start_time": "2022-12-10T13:01:40.519Z"
   },
   {
    "duration": 474,
    "start_time": "2022-12-10T13:01:40.528Z"
   },
   {
    "duration": 8,
    "start_time": "2022-12-10T13:01:41.004Z"
   },
   {
    "duration": 23,
    "start_time": "2022-12-10T13:01:41.014Z"
   },
   {
    "duration": 6,
    "start_time": "2022-12-10T13:01:41.039Z"
   },
   {
    "duration": 10,
    "start_time": "2022-12-10T13:01:41.046Z"
   },
   {
    "duration": 228,
    "start_time": "2022-12-10T13:01:41.062Z"
   },
   {
    "duration": 5,
    "start_time": "2022-12-10T13:01:41.296Z"
   },
   {
    "duration": 10,
    "start_time": "2022-12-10T13:01:41.303Z"
   },
   {
    "duration": 221,
    "start_time": "2022-12-10T13:01:41.315Z"
   },
   {
    "duration": 34,
    "start_time": "2022-12-10T13:01:41.537Z"
   },
   {
    "duration": 25,
    "start_time": "2022-12-10T13:01:41.573Z"
   },
   {
    "duration": 3,
    "start_time": "2022-12-10T13:01:41.600Z"
   },
   {
    "duration": 11,
    "start_time": "2022-12-10T13:01:41.605Z"
   },
   {
    "duration": 21,
    "start_time": "2022-12-10T13:01:41.618Z"
   },
   {
    "duration": 9,
    "start_time": "2022-12-10T13:01:41.641Z"
   },
   {
    "duration": 366,
    "start_time": "2022-12-10T13:01:41.652Z"
   },
   {
    "duration": 12,
    "start_time": "2022-12-10T13:01:42.021Z"
   },
   {
    "duration": 166,
    "start_time": "2022-12-10T13:01:42.035Z"
   },
   {
    "duration": 165,
    "start_time": "2022-12-10T13:01:42.203Z"
   },
   {
    "duration": 159,
    "start_time": "2022-12-10T13:01:42.370Z"
   },
   {
    "duration": 220,
    "start_time": "2022-12-10T13:01:42.532Z"
   },
   {
    "duration": 10,
    "start_time": "2022-12-10T13:01:42.754Z"
   },
   {
    "duration": 8,
    "start_time": "2022-12-10T13:01:42.766Z"
   },
   {
    "duration": 211,
    "start_time": "2022-12-10T13:01:42.775Z"
   },
   {
    "duration": 14,
    "start_time": "2022-12-10T13:03:12.051Z"
   },
   {
    "duration": 2,
    "start_time": "2022-12-10T13:03:37.366Z"
   },
   {
    "duration": 60,
    "start_time": "2022-12-10T13:20:14.137Z"
   },
   {
    "duration": 727,
    "start_time": "2022-12-10T13:46:23.161Z"
   },
   {
    "duration": 19,
    "start_time": "2022-12-10T13:46:23.889Z"
   },
   {
    "duration": 15,
    "start_time": "2022-12-10T13:46:23.910Z"
   },
   {
    "duration": 4,
    "start_time": "2022-12-10T13:46:23.928Z"
   },
   {
    "duration": 13,
    "start_time": "2022-12-10T13:46:23.933Z"
   },
   {
    "duration": 4,
    "start_time": "2022-12-10T13:46:23.947Z"
   },
   {
    "duration": 21,
    "start_time": "2022-12-10T13:46:23.953Z"
   },
   {
    "duration": 20,
    "start_time": "2022-12-10T13:46:23.976Z"
   },
   {
    "duration": 21,
    "start_time": "2022-12-10T13:46:23.998Z"
   },
   {
    "duration": 14,
    "start_time": "2022-12-10T13:46:24.021Z"
   },
   {
    "duration": 27,
    "start_time": "2022-12-10T13:46:24.036Z"
   },
   {
    "duration": 35,
    "start_time": "2022-12-10T13:46:24.064Z"
   },
   {
    "duration": 7,
    "start_time": "2022-12-10T13:46:24.101Z"
   },
   {
    "duration": 4,
    "start_time": "2022-12-10T13:46:24.109Z"
   },
   {
    "duration": 9,
    "start_time": "2022-12-10T13:46:24.115Z"
   },
   {
    "duration": 8,
    "start_time": "2022-12-10T13:46:24.125Z"
   },
   {
    "duration": 66,
    "start_time": "2022-12-10T13:46:24.134Z"
   },
   {
    "duration": 19,
    "start_time": "2022-12-10T13:46:24.202Z"
   },
   {
    "duration": 18,
    "start_time": "2022-12-10T13:46:24.222Z"
   },
   {
    "duration": 4,
    "start_time": "2022-12-10T13:46:24.241Z"
   },
   {
    "duration": 194,
    "start_time": "2022-12-10T13:46:24.246Z"
   },
   {
    "duration": 88,
    "start_time": "2022-12-10T13:46:24.442Z"
   },
   {
    "duration": 6,
    "start_time": "2022-12-10T13:46:24.532Z"
   },
   {
    "duration": 19,
    "start_time": "2022-12-10T13:46:24.540Z"
   },
   {
    "duration": 6,
    "start_time": "2022-12-10T13:46:24.561Z"
   },
   {
    "duration": 29,
    "start_time": "2022-12-10T13:46:24.568Z"
   },
   {
    "duration": 6,
    "start_time": "2022-12-10T13:46:24.599Z"
   },
   {
    "duration": 8,
    "start_time": "2022-12-10T13:46:24.610Z"
   },
   {
    "duration": 6,
    "start_time": "2022-12-10T13:46:24.620Z"
   },
   {
    "duration": 5,
    "start_time": "2022-12-10T13:46:24.628Z"
   },
   {
    "duration": 12,
    "start_time": "2022-12-10T13:46:24.634Z"
   },
   {
    "duration": 8,
    "start_time": "2022-12-10T13:46:24.648Z"
   },
   {
    "duration": 42,
    "start_time": "2022-12-10T13:46:24.658Z"
   },
   {
    "duration": 15,
    "start_time": "2022-12-10T13:46:24.702Z"
   },
   {
    "duration": 7,
    "start_time": "2022-12-10T13:46:24.719Z"
   },
   {
    "duration": 6,
    "start_time": "2022-12-10T13:46:24.728Z"
   },
   {
    "duration": 19,
    "start_time": "2022-12-10T13:46:24.736Z"
   },
   {
    "duration": 8,
    "start_time": "2022-12-10T13:46:24.756Z"
   },
   {
    "duration": 7,
    "start_time": "2022-12-10T13:46:24.765Z"
   },
   {
    "duration": 8,
    "start_time": "2022-12-10T13:46:24.773Z"
   },
   {
    "duration": 3,
    "start_time": "2022-12-10T13:46:24.796Z"
   },
   {
    "duration": 5,
    "start_time": "2022-12-10T13:46:24.800Z"
   },
   {
    "duration": 8,
    "start_time": "2022-12-10T13:46:24.806Z"
   },
   {
    "duration": 7,
    "start_time": "2022-12-10T13:46:24.816Z"
   },
   {
    "duration": 4,
    "start_time": "2022-12-10T13:46:24.824Z"
   },
   {
    "duration": 8,
    "start_time": "2022-12-10T13:46:24.830Z"
   },
   {
    "duration": 6,
    "start_time": "2022-12-10T13:46:24.839Z"
   },
   {
    "duration": 20,
    "start_time": "2022-12-10T13:46:24.847Z"
   },
   {
    "duration": 18,
    "start_time": "2022-12-10T13:46:24.896Z"
   },
   {
    "duration": 21,
    "start_time": "2022-12-10T13:46:24.915Z"
   },
   {
    "duration": 21,
    "start_time": "2022-12-10T13:46:24.938Z"
   },
   {
    "duration": 48,
    "start_time": "2022-12-10T13:46:24.962Z"
   },
   {
    "duration": 22,
    "start_time": "2022-12-10T13:46:25.012Z"
   },
   {
    "duration": 26,
    "start_time": "2022-12-10T13:46:25.036Z"
   },
   {
    "duration": 13,
    "start_time": "2022-12-10T13:46:25.063Z"
   },
   {
    "duration": 18,
    "start_time": "2022-12-10T13:46:25.078Z"
   },
   {
    "duration": 20,
    "start_time": "2022-12-10T13:46:25.098Z"
   },
   {
    "duration": 46,
    "start_time": "2022-12-10T13:46:25.119Z"
   },
   {
    "duration": 35,
    "start_time": "2022-12-10T13:46:25.167Z"
   },
   {
    "duration": 38,
    "start_time": "2022-12-10T13:46:25.203Z"
   },
   {
    "duration": 11,
    "start_time": "2022-12-10T13:46:25.243Z"
   },
   {
    "duration": 214,
    "start_time": "2022-12-10T13:46:25.256Z"
   },
   {
    "duration": 10,
    "start_time": "2022-12-10T13:46:25.471Z"
   },
   {
    "duration": 19,
    "start_time": "2022-12-10T13:46:25.482Z"
   },
   {
    "duration": 272,
    "start_time": "2022-12-10T13:46:25.502Z"
   },
   {
    "duration": 12,
    "start_time": "2022-12-10T13:46:25.776Z"
   },
   {
    "duration": 7,
    "start_time": "2022-12-10T13:46:25.796Z"
   },
   {
    "duration": 236,
    "start_time": "2022-12-10T13:46:25.805Z"
   },
   {
    "duration": 14,
    "start_time": "2022-12-10T13:46:26.043Z"
   },
   {
    "duration": 27,
    "start_time": "2022-12-10T13:46:26.059Z"
   },
   {
    "duration": 17,
    "start_time": "2022-12-10T13:46:26.097Z"
   },
   {
    "duration": 8,
    "start_time": "2022-12-10T13:46:26.116Z"
   },
   {
    "duration": 267,
    "start_time": "2022-12-10T13:46:26.126Z"
   },
   {
    "duration": 14,
    "start_time": "2022-12-10T13:46:26.396Z"
   },
   {
    "duration": 30,
    "start_time": "2022-12-10T13:46:26.411Z"
   },
   {
    "duration": 457,
    "start_time": "2022-12-10T13:46:26.443Z"
   },
   {
    "duration": 7,
    "start_time": "2022-12-10T13:46:26.902Z"
   },
   {
    "duration": 20,
    "start_time": "2022-12-10T13:46:26.910Z"
   },
   {
    "duration": 6,
    "start_time": "2022-12-10T13:46:26.932Z"
   },
   {
    "duration": 10,
    "start_time": "2022-12-10T13:46:26.939Z"
   },
   {
    "duration": 207,
    "start_time": "2022-12-10T13:46:26.950Z"
   },
   {
    "duration": 4,
    "start_time": "2022-12-10T13:46:27.163Z"
   },
   {
    "duration": 6,
    "start_time": "2022-12-10T13:46:27.169Z"
   },
   {
    "duration": 201,
    "start_time": "2022-12-10T13:46:27.176Z"
   },
   {
    "duration": 34,
    "start_time": "2022-12-10T13:46:27.379Z"
   },
   {
    "duration": 19,
    "start_time": "2022-12-10T13:46:27.415Z"
   },
   {
    "duration": 6,
    "start_time": "2022-12-10T13:46:27.436Z"
   },
   {
    "duration": 11,
    "start_time": "2022-12-10T13:46:27.444Z"
   },
   {
    "duration": 21,
    "start_time": "2022-12-10T13:46:27.457Z"
   },
   {
    "duration": 7,
    "start_time": "2022-12-10T13:46:27.480Z"
   },
   {
    "duration": 345,
    "start_time": "2022-12-10T13:46:27.489Z"
   },
   {
    "duration": 11,
    "start_time": "2022-12-10T13:46:27.836Z"
   },
   {
    "duration": 158,
    "start_time": "2022-12-10T13:46:27.849Z"
   },
   {
    "duration": 156,
    "start_time": "2022-12-10T13:46:28.008Z"
   },
   {
    "duration": 143,
    "start_time": "2022-12-10T13:46:28.165Z"
   },
   {
    "duration": 210,
    "start_time": "2022-12-10T13:46:28.310Z"
   },
   {
    "duration": 11,
    "start_time": "2022-12-10T13:46:28.522Z"
   },
   {
    "duration": 6,
    "start_time": "2022-12-10T13:46:28.535Z"
   },
   {
    "duration": 213,
    "start_time": "2022-12-10T13:46:28.543Z"
   },
   {
    "duration": 866,
    "start_time": "2022-12-10T14:21:28.977Z"
   },
   {
    "duration": 19,
    "start_time": "2022-12-10T14:21:29.845Z"
   },
   {
    "duration": 20,
    "start_time": "2022-12-10T14:21:29.866Z"
   },
   {
    "duration": 5,
    "start_time": "2022-12-10T14:21:29.888Z"
   },
   {
    "duration": 19,
    "start_time": "2022-12-10T14:21:29.897Z"
   },
   {
    "duration": 6,
    "start_time": "2022-12-10T14:21:29.919Z"
   },
   {
    "duration": 29,
    "start_time": "2022-12-10T14:21:29.926Z"
   },
   {
    "duration": 28,
    "start_time": "2022-12-10T14:21:29.957Z"
   },
   {
    "duration": 24,
    "start_time": "2022-12-10T14:21:29.986Z"
   },
   {
    "duration": 16,
    "start_time": "2022-12-10T14:21:30.012Z"
   },
   {
    "duration": 49,
    "start_time": "2022-12-10T14:21:30.030Z"
   },
   {
    "duration": 36,
    "start_time": "2022-12-10T14:21:30.080Z"
   },
   {
    "duration": 48,
    "start_time": "2022-12-10T14:21:30.118Z"
   },
   {
    "duration": 28,
    "start_time": "2022-12-10T14:21:30.169Z"
   },
   {
    "duration": 45,
    "start_time": "2022-12-10T14:21:30.199Z"
   },
   {
    "duration": 16,
    "start_time": "2022-12-10T14:21:30.245Z"
   },
   {
    "duration": 72,
    "start_time": "2022-12-10T14:21:30.263Z"
   },
   {
    "duration": 20,
    "start_time": "2022-12-10T14:21:30.337Z"
   },
   {
    "duration": 40,
    "start_time": "2022-12-10T14:21:30.358Z"
   },
   {
    "duration": 3,
    "start_time": "2022-12-10T14:21:30.400Z"
   },
   {
    "duration": 206,
    "start_time": "2022-12-10T14:21:30.405Z"
   },
   {
    "duration": 68,
    "start_time": "2022-12-10T14:21:30.612Z"
   },
   {
    "duration": 6,
    "start_time": "2022-12-10T14:21:30.697Z"
   },
   {
    "duration": 31,
    "start_time": "2022-12-10T14:21:30.705Z"
   },
   {
    "duration": 20,
    "start_time": "2022-12-10T14:21:30.738Z"
   },
   {
    "duration": 52,
    "start_time": "2022-12-10T14:21:30.760Z"
   },
   {
    "duration": 28,
    "start_time": "2022-12-10T14:21:30.814Z"
   },
   {
    "duration": 31,
    "start_time": "2022-12-10T14:21:30.844Z"
   },
   {
    "duration": 29,
    "start_time": "2022-12-10T14:21:30.877Z"
   },
   {
    "duration": 30,
    "start_time": "2022-12-10T14:21:30.907Z"
   },
   {
    "duration": 29,
    "start_time": "2022-12-10T14:21:30.938Z"
   },
   {
    "duration": 54,
    "start_time": "2022-12-10T14:21:30.969Z"
   },
   {
    "duration": 44,
    "start_time": "2022-12-10T14:21:31.025Z"
   },
   {
    "duration": 36,
    "start_time": "2022-12-10T14:21:31.070Z"
   },
   {
    "duration": 28,
    "start_time": "2022-12-10T14:21:31.108Z"
   },
   {
    "duration": 36,
    "start_time": "2022-12-10T14:21:31.138Z"
   },
   {
    "duration": 63,
    "start_time": "2022-12-10T14:21:31.176Z"
   },
   {
    "duration": 36,
    "start_time": "2022-12-10T14:21:31.240Z"
   },
   {
    "duration": 27,
    "start_time": "2022-12-10T14:21:31.277Z"
   },
   {
    "duration": 39,
    "start_time": "2022-12-10T14:21:31.305Z"
   },
   {
    "duration": 33,
    "start_time": "2022-12-10T14:21:31.349Z"
   },
   {
    "duration": 23,
    "start_time": "2022-12-10T14:21:31.383Z"
   },
   {
    "duration": 49,
    "start_time": "2022-12-10T14:21:31.408Z"
   },
   {
    "duration": 30,
    "start_time": "2022-12-10T14:21:31.459Z"
   },
   {
    "duration": 29,
    "start_time": "2022-12-10T14:21:31.490Z"
   },
   {
    "duration": 42,
    "start_time": "2022-12-10T14:21:31.520Z"
   },
   {
    "duration": 27,
    "start_time": "2022-12-10T14:21:31.564Z"
   },
   {
    "duration": 33,
    "start_time": "2022-12-10T14:21:31.592Z"
   },
   {
    "duration": 56,
    "start_time": "2022-12-10T14:21:31.626Z"
   },
   {
    "duration": 24,
    "start_time": "2022-12-10T14:21:31.683Z"
   },
   {
    "duration": 76,
    "start_time": "2022-12-10T14:21:31.709Z"
   },
   {
    "duration": 24,
    "start_time": "2022-12-10T14:21:31.787Z"
   },
   {
    "duration": 41,
    "start_time": "2022-12-10T14:21:31.812Z"
   },
   {
    "duration": 41,
    "start_time": "2022-12-10T14:21:31.854Z"
   },
   {
    "duration": 21,
    "start_time": "2022-12-10T14:21:31.897Z"
   },
   {
    "duration": 30,
    "start_time": "2022-12-10T14:21:31.919Z"
   },
   {
    "duration": 30,
    "start_time": "2022-12-10T14:21:31.952Z"
   },
   {
    "duration": 70,
    "start_time": "2022-12-10T14:21:31.985Z"
   },
   {
    "duration": 32,
    "start_time": "2022-12-10T14:21:32.056Z"
   },
   {
    "duration": 38,
    "start_time": "2022-12-10T14:21:32.090Z"
   },
   {
    "duration": 26,
    "start_time": "2022-12-10T14:21:32.129Z"
   },
   {
    "duration": 241,
    "start_time": "2022-12-10T14:21:32.157Z"
   },
   {
    "duration": 9,
    "start_time": "2022-12-10T14:21:32.400Z"
   },
   {
    "duration": 74,
    "start_time": "2022-12-10T14:21:32.410Z"
   },
   {
    "duration": 289,
    "start_time": "2022-12-10T14:21:32.486Z"
   },
   {
    "duration": 21,
    "start_time": "2022-12-10T14:21:32.776Z"
   },
   {
    "duration": 23,
    "start_time": "2022-12-10T14:21:32.799Z"
   },
   {
    "duration": 216,
    "start_time": "2022-12-10T14:21:32.824Z"
   },
   {
    "duration": 12,
    "start_time": "2022-12-10T14:21:33.042Z"
   },
   {
    "duration": 22,
    "start_time": "2022-12-10T14:21:33.055Z"
   },
   {
    "duration": 13,
    "start_time": "2022-12-10T14:21:33.098Z"
   },
   {
    "duration": 6,
    "start_time": "2022-12-10T14:21:33.113Z"
   },
   {
    "duration": 254,
    "start_time": "2022-12-10T14:21:33.120Z"
   },
   {
    "duration": 26,
    "start_time": "2022-12-10T14:21:33.376Z"
   },
   {
    "duration": 7,
    "start_time": "2022-12-10T14:21:33.403Z"
   },
   {
    "duration": 439,
    "start_time": "2022-12-10T14:21:33.411Z"
   },
   {
    "duration": 8,
    "start_time": "2022-12-10T14:21:33.851Z"
   },
   {
    "duration": 21,
    "start_time": "2022-12-10T14:21:33.860Z"
   },
   {
    "duration": 17,
    "start_time": "2022-12-10T14:21:33.882Z"
   },
   {
    "duration": 8,
    "start_time": "2022-12-10T14:21:33.901Z"
   },
   {
    "duration": 213,
    "start_time": "2022-12-10T14:21:33.911Z"
   },
   {
    "duration": 3,
    "start_time": "2022-12-10T14:21:34.126Z"
   },
   {
    "duration": 10,
    "start_time": "2022-12-10T14:21:34.131Z"
   },
   {
    "duration": 208,
    "start_time": "2022-12-10T14:21:34.142Z"
   },
   {
    "duration": 26,
    "start_time": "2022-12-10T14:21:34.352Z"
   },
   {
    "duration": 30,
    "start_time": "2022-12-10T14:21:34.380Z"
   },
   {
    "duration": 7,
    "start_time": "2022-12-10T14:21:34.411Z"
   },
   {
    "duration": 12,
    "start_time": "2022-12-10T14:21:34.419Z"
   },
   {
    "duration": 15,
    "start_time": "2022-12-10T14:21:34.433Z"
   },
   {
    "duration": 8,
    "start_time": "2022-12-10T14:21:34.450Z"
   },
   {
    "duration": 404,
    "start_time": "2022-12-10T14:21:34.459Z"
   },
   {
    "duration": 14,
    "start_time": "2022-12-10T14:21:34.865Z"
   },
   {
    "duration": 152,
    "start_time": "2022-12-10T14:21:34.881Z"
   },
   {
    "duration": 146,
    "start_time": "2022-12-10T14:21:35.035Z"
   },
   {
    "duration": 140,
    "start_time": "2022-12-10T14:21:35.182Z"
   },
   {
    "duration": 199,
    "start_time": "2022-12-10T14:21:35.324Z"
   },
   {
    "duration": 10,
    "start_time": "2022-12-10T14:21:35.524Z"
   },
   {
    "duration": 10,
    "start_time": "2022-12-10T14:21:35.536Z"
   },
   {
    "duration": 212,
    "start_time": "2022-12-10T14:21:35.547Z"
   },
   {
    "duration": 24,
    "start_time": "2022-12-10T14:26:22.982Z"
   },
   {
    "duration": 5,
    "start_time": "2022-12-10T14:28:42.382Z"
   },
   {
    "duration": 25,
    "start_time": "2022-12-10T14:28:44.879Z"
   },
   {
    "duration": 13,
    "start_time": "2022-12-10T14:29:10.049Z"
   },
   {
    "duration": 14,
    "start_time": "2022-12-10T14:29:17.387Z"
   },
   {
    "duration": 13,
    "start_time": "2022-12-10T14:29:19.959Z"
   },
   {
    "duration": 167,
    "start_time": "2022-12-10T14:45:52.218Z"
   },
   {
    "duration": 48,
    "start_time": "2022-12-10T14:50:20.950Z"
   },
   {
    "duration": 2,
    "start_time": "2022-12-10T14:50:29.292Z"
   },
   {
    "duration": 796,
    "start_time": "2022-12-10T14:52:38.474Z"
   },
   {
    "duration": 20,
    "start_time": "2022-12-10T14:52:39.272Z"
   },
   {
    "duration": 16,
    "start_time": "2022-12-10T14:52:39.294Z"
   },
   {
    "duration": 6,
    "start_time": "2022-12-10T14:52:39.313Z"
   },
   {
    "duration": 15,
    "start_time": "2022-12-10T14:52:39.321Z"
   },
   {
    "duration": 9,
    "start_time": "2022-12-10T14:52:39.338Z"
   },
   {
    "duration": 13,
    "start_time": "2022-12-10T14:52:39.349Z"
   },
   {
    "duration": 18,
    "start_time": "2022-12-10T14:52:39.364Z"
   },
   {
    "duration": 36,
    "start_time": "2022-12-10T14:52:39.384Z"
   },
   {
    "duration": 17,
    "start_time": "2022-12-10T14:52:39.423Z"
   },
   {
    "duration": 31,
    "start_time": "2022-12-10T14:52:39.442Z"
   },
   {
    "duration": 25,
    "start_time": "2022-12-10T14:52:39.474Z"
   },
   {
    "duration": 6,
    "start_time": "2022-12-10T14:52:39.501Z"
   },
   {
    "duration": 4,
    "start_time": "2022-12-10T14:52:39.509Z"
   },
   {
    "duration": 23,
    "start_time": "2022-12-10T14:52:39.515Z"
   },
   {
    "duration": 8,
    "start_time": "2022-12-10T14:52:39.540Z"
   },
   {
    "duration": 56,
    "start_time": "2022-12-10T14:52:39.550Z"
   },
   {
    "duration": 20,
    "start_time": "2022-12-10T14:52:39.608Z"
   },
   {
    "duration": 20,
    "start_time": "2022-12-10T14:52:39.630Z"
   },
   {
    "duration": 3,
    "start_time": "2022-12-10T14:52:39.652Z"
   },
   {
    "duration": 217,
    "start_time": "2022-12-10T14:52:39.657Z"
   },
   {
    "duration": 87,
    "start_time": "2022-12-10T14:52:39.876Z"
   },
   {
    "duration": 0,
    "start_time": "2022-12-10T14:52:39.967Z"
   },
   {
    "duration": 0,
    "start_time": "2022-12-10T14:52:39.969Z"
   },
   {
    "duration": 1,
    "start_time": "2022-12-10T14:52:39.969Z"
   },
   {
    "duration": 0,
    "start_time": "2022-12-10T14:52:39.971Z"
   },
   {
    "duration": 0,
    "start_time": "2022-12-10T14:52:39.972Z"
   },
   {
    "duration": 0,
    "start_time": "2022-12-10T14:52:39.972Z"
   },
   {
    "duration": 0,
    "start_time": "2022-12-10T14:52:39.974Z"
   },
   {
    "duration": 0,
    "start_time": "2022-12-10T14:52:39.975Z"
   },
   {
    "duration": 0,
    "start_time": "2022-12-10T14:52:39.975Z"
   },
   {
    "duration": 0,
    "start_time": "2022-12-10T14:52:39.997Z"
   },
   {
    "duration": 0,
    "start_time": "2022-12-10T14:52:39.998Z"
   },
   {
    "duration": 0,
    "start_time": "2022-12-10T14:52:39.999Z"
   },
   {
    "duration": 0,
    "start_time": "2022-12-10T14:52:40.000Z"
   },
   {
    "duration": 0,
    "start_time": "2022-12-10T14:52:40.001Z"
   },
   {
    "duration": 0,
    "start_time": "2022-12-10T14:52:40.002Z"
   },
   {
    "duration": 0,
    "start_time": "2022-12-10T14:52:40.004Z"
   },
   {
    "duration": 0,
    "start_time": "2022-12-10T14:52:40.005Z"
   },
   {
    "duration": 0,
    "start_time": "2022-12-10T14:52:40.007Z"
   },
   {
    "duration": 0,
    "start_time": "2022-12-10T14:52:40.008Z"
   },
   {
    "duration": 0,
    "start_time": "2022-12-10T14:52:40.009Z"
   },
   {
    "duration": 0,
    "start_time": "2022-12-10T14:52:40.011Z"
   },
   {
    "duration": 0,
    "start_time": "2022-12-10T14:52:40.012Z"
   },
   {
    "duration": 0,
    "start_time": "2022-12-10T14:52:40.013Z"
   },
   {
    "duration": 0,
    "start_time": "2022-12-10T14:52:40.015Z"
   },
   {
    "duration": 0,
    "start_time": "2022-12-10T14:52:40.016Z"
   },
   {
    "duration": 0,
    "start_time": "2022-12-10T14:52:40.018Z"
   },
   {
    "duration": 0,
    "start_time": "2022-12-10T14:52:40.019Z"
   },
   {
    "duration": 0,
    "start_time": "2022-12-10T14:52:40.020Z"
   },
   {
    "duration": 0,
    "start_time": "2022-12-10T14:52:40.022Z"
   },
   {
    "duration": 0,
    "start_time": "2022-12-10T14:52:40.023Z"
   },
   {
    "duration": 0,
    "start_time": "2022-12-10T14:52:40.025Z"
   },
   {
    "duration": 0,
    "start_time": "2022-12-10T14:52:40.025Z"
   },
   {
    "duration": 0,
    "start_time": "2022-12-10T14:52:40.027Z"
   },
   {
    "duration": 0,
    "start_time": "2022-12-10T14:52:40.028Z"
   },
   {
    "duration": 0,
    "start_time": "2022-12-10T14:52:40.029Z"
   },
   {
    "duration": 0,
    "start_time": "2022-12-10T14:52:40.030Z"
   },
   {
    "duration": 0,
    "start_time": "2022-12-10T14:52:40.031Z"
   },
   {
    "duration": 0,
    "start_time": "2022-12-10T14:52:40.032Z"
   },
   {
    "duration": 0,
    "start_time": "2022-12-10T14:52:40.032Z"
   },
   {
    "duration": 0,
    "start_time": "2022-12-10T14:52:40.033Z"
   },
   {
    "duration": 0,
    "start_time": "2022-12-10T14:52:40.034Z"
   },
   {
    "duration": 0,
    "start_time": "2022-12-10T14:52:40.097Z"
   },
   {
    "duration": 0,
    "start_time": "2022-12-10T14:52:40.098Z"
   },
   {
    "duration": 0,
    "start_time": "2022-12-10T14:52:40.099Z"
   },
   {
    "duration": 0,
    "start_time": "2022-12-10T14:52:40.100Z"
   },
   {
    "duration": 0,
    "start_time": "2022-12-10T14:52:40.101Z"
   },
   {
    "duration": 0,
    "start_time": "2022-12-10T14:52:40.102Z"
   },
   {
    "duration": 0,
    "start_time": "2022-12-10T14:52:40.103Z"
   },
   {
    "duration": 0,
    "start_time": "2022-12-10T14:52:40.104Z"
   },
   {
    "duration": 0,
    "start_time": "2022-12-10T14:52:40.105Z"
   },
   {
    "duration": 1,
    "start_time": "2022-12-10T14:52:40.105Z"
   },
   {
    "duration": 0,
    "start_time": "2022-12-10T14:52:40.106Z"
   },
   {
    "duration": 0,
    "start_time": "2022-12-10T14:52:40.107Z"
   },
   {
    "duration": 0,
    "start_time": "2022-12-10T14:52:40.108Z"
   },
   {
    "duration": 0,
    "start_time": "2022-12-10T14:52:40.109Z"
   },
   {
    "duration": 0,
    "start_time": "2022-12-10T14:52:40.110Z"
   },
   {
    "duration": 0,
    "start_time": "2022-12-10T14:52:40.111Z"
   },
   {
    "duration": 0,
    "start_time": "2022-12-10T14:52:40.112Z"
   },
   {
    "duration": 0,
    "start_time": "2022-12-10T14:52:40.113Z"
   },
   {
    "duration": 0,
    "start_time": "2022-12-10T14:52:40.114Z"
   },
   {
    "duration": 0,
    "start_time": "2022-12-10T14:52:40.114Z"
   },
   {
    "duration": 0,
    "start_time": "2022-12-10T14:52:40.115Z"
   },
   {
    "duration": 0,
    "start_time": "2022-12-10T14:52:40.117Z"
   },
   {
    "duration": 0,
    "start_time": "2022-12-10T14:52:40.118Z"
   },
   {
    "duration": 0,
    "start_time": "2022-12-10T14:52:40.119Z"
   },
   {
    "duration": 0,
    "start_time": "2022-12-10T14:52:40.120Z"
   },
   {
    "duration": 0,
    "start_time": "2022-12-10T14:52:40.121Z"
   },
   {
    "duration": 0,
    "start_time": "2022-12-10T14:52:40.122Z"
   },
   {
    "duration": 0,
    "start_time": "2022-12-10T14:52:40.123Z"
   },
   {
    "duration": 0,
    "start_time": "2022-12-10T14:52:40.124Z"
   },
   {
    "duration": 0,
    "start_time": "2022-12-10T14:52:40.126Z"
   },
   {
    "duration": 0,
    "start_time": "2022-12-10T14:52:40.127Z"
   },
   {
    "duration": 0,
    "start_time": "2022-12-10T14:52:40.128Z"
   },
   {
    "duration": 1,
    "start_time": "2022-12-10T14:52:40.128Z"
   },
   {
    "duration": 0,
    "start_time": "2022-12-10T14:52:40.129Z"
   },
   {
    "duration": 0,
    "start_time": "2022-12-10T14:52:40.130Z"
   },
   {
    "duration": 0,
    "start_time": "2022-12-10T14:52:40.131Z"
   },
   {
    "duration": 0,
    "start_time": "2022-12-10T14:52:40.132Z"
   },
   {
    "duration": 9,
    "start_time": "2022-12-10T14:53:08.349Z"
   },
   {
    "duration": 3,
    "start_time": "2022-12-10T14:53:16.253Z"
   },
   {
    "duration": 750,
    "start_time": "2022-12-10T14:53:40.283Z"
   },
   {
    "duration": 18,
    "start_time": "2022-12-10T14:53:41.035Z"
   },
   {
    "duration": 14,
    "start_time": "2022-12-10T14:53:41.055Z"
   },
   {
    "duration": 4,
    "start_time": "2022-12-10T14:53:41.072Z"
   },
   {
    "duration": 13,
    "start_time": "2022-12-10T14:53:41.077Z"
   },
   {
    "duration": 5,
    "start_time": "2022-12-10T14:53:41.092Z"
   },
   {
    "duration": 13,
    "start_time": "2022-12-10T14:53:41.098Z"
   },
   {
    "duration": 12,
    "start_time": "2022-12-10T14:53:41.113Z"
   },
   {
    "duration": 20,
    "start_time": "2022-12-10T14:53:41.126Z"
   },
   {
    "duration": 14,
    "start_time": "2022-12-10T14:53:41.148Z"
   },
   {
    "duration": 48,
    "start_time": "2022-12-10T14:53:41.164Z"
   },
   {
    "duration": 8,
    "start_time": "2022-12-10T14:53:41.214Z"
   },
   {
    "duration": 7,
    "start_time": "2022-12-10T14:53:41.223Z"
   },
   {
    "duration": 9,
    "start_time": "2022-12-10T14:53:41.232Z"
   },
   {
    "duration": 8,
    "start_time": "2022-12-10T14:53:41.242Z"
   },
   {
    "duration": 6,
    "start_time": "2022-12-10T14:53:41.251Z"
   },
   {
    "duration": 97,
    "start_time": "2022-12-10T14:53:41.259Z"
   },
   {
    "duration": 26,
    "start_time": "2022-12-10T14:53:41.358Z"
   },
   {
    "duration": 26,
    "start_time": "2022-12-10T14:53:41.397Z"
   },
   {
    "duration": 4,
    "start_time": "2022-12-10T14:53:41.425Z"
   },
   {
    "duration": 197,
    "start_time": "2022-12-10T14:53:41.430Z"
   },
   {
    "duration": 4,
    "start_time": "2022-12-10T14:53:41.629Z"
   },
   {
    "duration": 28,
    "start_time": "2022-12-10T14:53:41.634Z"
   },
   {
    "duration": 7,
    "start_time": "2022-12-10T14:53:41.664Z"
   },
   {
    "duration": 40,
    "start_time": "2022-12-10T14:53:41.673Z"
   },
   {
    "duration": 5,
    "start_time": "2022-12-10T14:53:41.715Z"
   },
   {
    "duration": 9,
    "start_time": "2022-12-10T14:53:41.721Z"
   },
   {
    "duration": 5,
    "start_time": "2022-12-10T14:53:41.734Z"
   },
   {
    "duration": 10,
    "start_time": "2022-12-10T14:53:41.741Z"
   },
   {
    "duration": 13,
    "start_time": "2022-12-10T14:53:41.752Z"
   },
   {
    "duration": 3,
    "start_time": "2022-12-10T14:53:41.767Z"
   },
   {
    "duration": 28,
    "start_time": "2022-12-10T14:53:41.772Z"
   },
   {
    "duration": 14,
    "start_time": "2022-12-10T14:53:41.801Z"
   },
   {
    "duration": 13,
    "start_time": "2022-12-10T14:53:41.817Z"
   },
   {
    "duration": 7,
    "start_time": "2022-12-10T14:53:41.831Z"
   },
   {
    "duration": 10,
    "start_time": "2022-12-10T14:53:41.840Z"
   },
   {
    "duration": 7,
    "start_time": "2022-12-10T14:53:41.852Z"
   },
   {
    "duration": 13,
    "start_time": "2022-12-10T14:53:41.861Z"
   },
   {
    "duration": 32,
    "start_time": "2022-12-10T14:53:41.876Z"
   },
   {
    "duration": 7,
    "start_time": "2022-12-10T14:53:41.911Z"
   },
   {
    "duration": 8,
    "start_time": "2022-12-10T14:53:41.919Z"
   },
   {
    "duration": 25,
    "start_time": "2022-12-10T14:53:41.929Z"
   },
   {
    "duration": 3,
    "start_time": "2022-12-10T14:53:41.956Z"
   },
   {
    "duration": 7,
    "start_time": "2022-12-10T14:53:41.961Z"
   },
   {
    "duration": 7,
    "start_time": "2022-12-10T14:53:41.969Z"
   },
   {
    "duration": 23,
    "start_time": "2022-12-10T14:53:41.978Z"
   },
   {
    "duration": 5,
    "start_time": "2022-12-10T14:53:42.003Z"
   },
   {
    "duration": 15,
    "start_time": "2022-12-10T14:53:42.010Z"
   },
   {
    "duration": 6,
    "start_time": "2022-12-10T14:53:42.027Z"
   },
   {
    "duration": 18,
    "start_time": "2022-12-10T14:53:42.034Z"
   },
   {
    "duration": 31,
    "start_time": "2022-12-10T14:53:42.054Z"
   },
   {
    "duration": 23,
    "start_time": "2022-12-10T14:53:42.096Z"
   },
   {
    "duration": 20,
    "start_time": "2022-12-10T14:53:42.121Z"
   },
   {
    "duration": 26,
    "start_time": "2022-12-10T14:53:42.143Z"
   },
   {
    "duration": 21,
    "start_time": "2022-12-10T14:53:42.196Z"
   },
   {
    "duration": 21,
    "start_time": "2022-12-10T14:53:42.219Z"
   },
   {
    "duration": 3,
    "start_time": "2022-12-10T14:53:42.241Z"
   },
   {
    "duration": 8,
    "start_time": "2022-12-10T14:53:42.245Z"
   },
   {
    "duration": 9,
    "start_time": "2022-12-10T14:53:42.255Z"
   },
   {
    "duration": 52,
    "start_time": "2022-12-10T14:53:42.265Z"
   },
   {
    "duration": 5,
    "start_time": "2022-12-10T14:53:42.319Z"
   },
   {
    "duration": 27,
    "start_time": "2022-12-10T14:53:42.326Z"
   },
   {
    "duration": 11,
    "start_time": "2022-12-10T14:53:42.355Z"
   },
   {
    "duration": 228,
    "start_time": "2022-12-10T14:53:42.368Z"
   },
   {
    "duration": 8,
    "start_time": "2022-12-10T14:53:42.598Z"
   },
   {
    "duration": 11,
    "start_time": "2022-12-10T14:53:42.608Z"
   },
   {
    "duration": 288,
    "start_time": "2022-12-10T14:53:42.621Z"
   },
   {
    "duration": 14,
    "start_time": "2022-12-10T14:53:42.910Z"
   },
   {
    "duration": 6,
    "start_time": "2022-12-10T14:53:42.926Z"
   },
   {
    "duration": 246,
    "start_time": "2022-12-10T14:53:42.934Z"
   },
   {
    "duration": 19,
    "start_time": "2022-12-10T14:53:43.182Z"
   },
   {
    "duration": 18,
    "start_time": "2022-12-10T14:53:43.203Z"
   },
   {
    "duration": 14,
    "start_time": "2022-12-10T14:53:43.222Z"
   },
   {
    "duration": 7,
    "start_time": "2022-12-10T14:53:43.238Z"
   },
   {
    "duration": 284,
    "start_time": "2022-12-10T14:53:43.247Z"
   },
   {
    "duration": 16,
    "start_time": "2022-12-10T14:53:43.533Z"
   },
   {
    "duration": 8,
    "start_time": "2022-12-10T14:53:43.551Z"
   },
   {
    "duration": 464,
    "start_time": "2022-12-10T14:53:43.561Z"
   },
   {
    "duration": 8,
    "start_time": "2022-12-10T14:53:44.026Z"
   },
   {
    "duration": 20,
    "start_time": "2022-12-10T14:53:44.036Z"
   },
   {
    "duration": 10,
    "start_time": "2022-12-10T14:53:44.058Z"
   },
   {
    "duration": 24,
    "start_time": "2022-12-10T14:53:44.073Z"
   },
   {
    "duration": 195,
    "start_time": "2022-12-10T14:53:44.099Z"
   },
   {
    "duration": 3,
    "start_time": "2022-12-10T14:53:44.296Z"
   },
   {
    "duration": 7,
    "start_time": "2022-12-10T14:53:44.301Z"
   },
   {
    "duration": 191,
    "start_time": "2022-12-10T14:53:44.310Z"
   },
   {
    "duration": 25,
    "start_time": "2022-12-10T14:53:44.503Z"
   },
   {
    "duration": 7,
    "start_time": "2022-12-10T14:53:44.530Z"
   },
   {
    "duration": 3,
    "start_time": "2022-12-10T14:53:44.539Z"
   },
   {
    "duration": 4,
    "start_time": "2022-12-10T14:53:44.544Z"
   },
   {
    "duration": 25,
    "start_time": "2022-12-10T14:53:44.550Z"
   },
   {
    "duration": 7,
    "start_time": "2022-12-10T14:53:44.597Z"
   },
   {
    "duration": 333,
    "start_time": "2022-12-10T14:53:44.606Z"
   },
   {
    "duration": 12,
    "start_time": "2022-12-10T14:53:44.941Z"
   },
   {
    "duration": 153,
    "start_time": "2022-12-10T14:53:44.957Z"
   },
   {
    "duration": 191,
    "start_time": "2022-12-10T14:53:45.112Z"
   },
   {
    "duration": 191,
    "start_time": "2022-12-10T14:53:45.305Z"
   },
   {
    "duration": 403,
    "start_time": "2022-12-10T14:53:45.498Z"
   },
   {
    "duration": 15,
    "start_time": "2022-12-10T14:53:45.904Z"
   },
   {
    "duration": 8,
    "start_time": "2022-12-10T14:53:45.922Z"
   },
   {
    "duration": 469,
    "start_time": "2022-12-10T14:53:45.932Z"
   },
   {
    "duration": 709,
    "start_time": "2022-12-10T14:54:08.850Z"
   },
   {
    "duration": 17,
    "start_time": "2022-12-10T14:54:09.561Z"
   },
   {
    "duration": 14,
    "start_time": "2022-12-10T14:54:09.580Z"
   },
   {
    "duration": 6,
    "start_time": "2022-12-10T14:54:09.595Z"
   },
   {
    "duration": 10,
    "start_time": "2022-12-10T14:54:09.603Z"
   },
   {
    "duration": 5,
    "start_time": "2022-12-10T14:54:09.614Z"
   },
   {
    "duration": 10,
    "start_time": "2022-12-10T14:54:09.621Z"
   },
   {
    "duration": 11,
    "start_time": "2022-12-10T14:54:09.632Z"
   },
   {
    "duration": 21,
    "start_time": "2022-12-10T14:54:09.645Z"
   },
   {
    "duration": 16,
    "start_time": "2022-12-10T14:54:09.696Z"
   },
   {
    "duration": 30,
    "start_time": "2022-12-10T14:54:09.713Z"
   },
   {
    "duration": 8,
    "start_time": "2022-12-10T14:54:09.744Z"
   },
   {
    "duration": 6,
    "start_time": "2022-12-10T14:54:09.754Z"
   },
   {
    "duration": 33,
    "start_time": "2022-12-10T14:54:09.764Z"
   },
   {
    "duration": 10,
    "start_time": "2022-12-10T14:54:09.799Z"
   },
   {
    "duration": 8,
    "start_time": "2022-12-10T14:54:09.810Z"
   },
   {
    "duration": 49,
    "start_time": "2022-12-10T14:54:09.820Z"
   },
   {
    "duration": 38,
    "start_time": "2022-12-10T14:54:09.871Z"
   },
   {
    "duration": 22,
    "start_time": "2022-12-10T14:54:09.910Z"
   },
   {
    "duration": 7,
    "start_time": "2022-12-10T14:54:09.933Z"
   },
   {
    "duration": 203,
    "start_time": "2022-12-10T14:54:09.941Z"
   },
   {
    "duration": 4,
    "start_time": "2022-12-10T14:54:10.146Z"
   },
   {
    "duration": 26,
    "start_time": "2022-12-10T14:54:10.151Z"
   },
   {
    "duration": 18,
    "start_time": "2022-12-10T14:54:10.178Z"
   },
   {
    "duration": 18,
    "start_time": "2022-12-10T14:54:10.198Z"
   },
   {
    "duration": 3,
    "start_time": "2022-12-10T14:54:10.218Z"
   },
   {
    "duration": 6,
    "start_time": "2022-12-10T14:54:10.223Z"
   },
   {
    "duration": 7,
    "start_time": "2022-12-10T14:54:10.230Z"
   },
   {
    "duration": 9,
    "start_time": "2022-12-10T14:54:10.238Z"
   },
   {
    "duration": 6,
    "start_time": "2022-12-10T14:54:10.248Z"
   },
   {
    "duration": 3,
    "start_time": "2022-12-10T14:54:10.255Z"
   },
   {
    "duration": 39,
    "start_time": "2022-12-10T14:54:10.259Z"
   },
   {
    "duration": 16,
    "start_time": "2022-12-10T14:54:10.300Z"
   },
   {
    "duration": 8,
    "start_time": "2022-12-10T14:54:10.318Z"
   },
   {
    "duration": 8,
    "start_time": "2022-12-10T14:54:10.327Z"
   },
   {
    "duration": 16,
    "start_time": "2022-12-10T14:54:10.337Z"
   },
   {
    "duration": 6,
    "start_time": "2022-12-10T14:54:10.355Z"
   },
   {
    "duration": 13,
    "start_time": "2022-12-10T14:54:10.363Z"
   },
   {
    "duration": 17,
    "start_time": "2022-12-10T14:54:10.397Z"
   },
   {
    "duration": 10,
    "start_time": "2022-12-10T14:54:10.415Z"
   },
   {
    "duration": 7,
    "start_time": "2022-12-10T14:54:10.431Z"
   },
   {
    "duration": 8,
    "start_time": "2022-12-10T14:54:10.439Z"
   },
   {
    "duration": 5,
    "start_time": "2022-12-10T14:54:10.448Z"
   },
   {
    "duration": 14,
    "start_time": "2022-12-10T14:54:10.454Z"
   },
   {
    "duration": 8,
    "start_time": "2022-12-10T14:54:10.470Z"
   },
   {
    "duration": 8,
    "start_time": "2022-12-10T14:54:10.496Z"
   },
   {
    "duration": 6,
    "start_time": "2022-12-10T14:54:10.505Z"
   },
   {
    "duration": 12,
    "start_time": "2022-12-10T14:54:10.512Z"
   },
   {
    "duration": 6,
    "start_time": "2022-12-10T14:54:10.525Z"
   },
   {
    "duration": 17,
    "start_time": "2022-12-10T14:54:10.532Z"
   },
   {
    "duration": 21,
    "start_time": "2022-12-10T14:54:10.551Z"
   },
   {
    "duration": 54,
    "start_time": "2022-12-10T14:54:10.573Z"
   },
   {
    "duration": 23,
    "start_time": "2022-12-10T14:54:10.629Z"
   },
   {
    "duration": 46,
    "start_time": "2022-12-10T14:54:10.654Z"
   },
   {
    "duration": 26,
    "start_time": "2022-12-10T14:54:10.702Z"
   },
   {
    "duration": 27,
    "start_time": "2022-12-10T14:54:10.729Z"
   },
   {
    "duration": 2,
    "start_time": "2022-12-10T14:54:10.758Z"
   },
   {
    "duration": 39,
    "start_time": "2022-12-10T14:54:10.762Z"
   },
   {
    "duration": 8,
    "start_time": "2022-12-10T14:54:10.803Z"
   },
   {
    "duration": 32,
    "start_time": "2022-12-10T14:54:10.813Z"
   },
   {
    "duration": 4,
    "start_time": "2022-12-10T14:54:10.848Z"
   },
   {
    "duration": 25,
    "start_time": "2022-12-10T14:54:10.854Z"
   },
   {
    "duration": 26,
    "start_time": "2022-12-10T14:54:10.881Z"
   },
   {
    "duration": 243,
    "start_time": "2022-12-10T14:54:10.908Z"
   },
   {
    "duration": 10,
    "start_time": "2022-12-10T14:54:11.153Z"
   },
   {
    "duration": 9,
    "start_time": "2022-12-10T14:54:11.165Z"
   },
   {
    "duration": 276,
    "start_time": "2022-12-10T14:54:11.196Z"
   },
   {
    "duration": 13,
    "start_time": "2022-12-10T14:54:11.474Z"
   },
   {
    "duration": 6,
    "start_time": "2022-12-10T14:54:11.497Z"
   },
   {
    "duration": 227,
    "start_time": "2022-12-10T14:54:11.505Z"
   },
   {
    "duration": 12,
    "start_time": "2022-12-10T14:54:11.733Z"
   },
   {
    "duration": 26,
    "start_time": "2022-12-10T14:54:11.747Z"
   },
   {
    "duration": 28,
    "start_time": "2022-12-10T14:54:11.775Z"
   },
   {
    "duration": 7,
    "start_time": "2022-12-10T14:54:11.804Z"
   },
   {
    "duration": 242,
    "start_time": "2022-12-10T14:54:11.813Z"
   },
   {
    "duration": 14,
    "start_time": "2022-12-10T14:54:12.057Z"
   },
   {
    "duration": 7,
    "start_time": "2022-12-10T14:54:12.073Z"
   },
   {
    "duration": 502,
    "start_time": "2022-12-10T14:54:12.096Z"
   },
   {
    "duration": 7,
    "start_time": "2022-12-10T14:54:12.600Z"
   },
   {
    "duration": 26,
    "start_time": "2022-12-10T14:54:12.609Z"
   },
   {
    "duration": 59,
    "start_time": "2022-12-10T14:54:12.637Z"
   },
   {
    "duration": 8,
    "start_time": "2022-12-10T14:54:12.698Z"
   },
   {
    "duration": 388,
    "start_time": "2022-12-10T14:54:12.708Z"
   },
   {
    "duration": 4,
    "start_time": "2022-12-10T14:54:13.098Z"
   },
   {
    "duration": 6,
    "start_time": "2022-12-10T14:54:13.103Z"
   },
   {
    "duration": 387,
    "start_time": "2022-12-10T14:54:13.111Z"
   },
   {
    "duration": 26,
    "start_time": "2022-12-10T14:54:13.500Z"
   },
   {
    "duration": 9,
    "start_time": "2022-12-10T14:54:13.527Z"
   },
   {
    "duration": 59,
    "start_time": "2022-12-10T14:54:13.538Z"
   },
   {
    "duration": 7,
    "start_time": "2022-12-10T14:54:13.599Z"
   },
   {
    "duration": 12,
    "start_time": "2022-12-10T14:54:13.608Z"
   },
   {
    "duration": 10,
    "start_time": "2022-12-10T14:54:13.621Z"
   },
   {
    "duration": 693,
    "start_time": "2022-12-10T14:54:13.633Z"
   },
   {
    "duration": 11,
    "start_time": "2022-12-10T14:54:14.327Z"
   },
   {
    "duration": 169,
    "start_time": "2022-12-10T14:54:14.340Z"
   },
   {
    "duration": 217,
    "start_time": "2022-12-10T14:54:14.510Z"
   },
   {
    "duration": 242,
    "start_time": "2022-12-10T14:54:14.729Z"
   },
   {
    "duration": 335,
    "start_time": "2022-12-10T14:54:14.973Z"
   },
   {
    "duration": 11,
    "start_time": "2022-12-10T14:54:15.310Z"
   },
   {
    "duration": 6,
    "start_time": "2022-12-10T14:54:15.322Z"
   },
   {
    "duration": 204,
    "start_time": "2022-12-10T14:54:15.329Z"
   },
   {
    "duration": 48,
    "start_time": "2022-12-10T14:55:05.453Z"
   },
   {
    "duration": 106,
    "start_time": "2022-12-10T14:55:05.846Z"
   },
   {
    "duration": 3,
    "start_time": "2022-12-10T14:55:31.186Z"
   },
   {
    "duration": 171,
    "start_time": "2022-12-10T14:55:32.177Z"
   },
   {
    "duration": 350,
    "start_time": "2022-12-10T14:56:41.949Z"
   },
   {
    "duration": 17,
    "start_time": "2022-12-10T14:56:52.683Z"
   },
   {
    "duration": 3,
    "start_time": "2022-12-10T14:59:09.249Z"
   },
   {
    "duration": 28,
    "start_time": "2022-12-10T14:59:10.750Z"
   },
   {
    "duration": 71,
    "start_time": "2022-12-10T14:59:35.951Z"
   },
   {
    "duration": 26,
    "start_time": "2022-12-10T14:59:36.452Z"
   },
   {
    "duration": 739,
    "start_time": "2022-12-10T14:59:47.188Z"
   },
   {
    "duration": 19,
    "start_time": "2022-12-10T14:59:47.929Z"
   },
   {
    "duration": 16,
    "start_time": "2022-12-10T14:59:47.949Z"
   },
   {
    "duration": 5,
    "start_time": "2022-12-10T14:59:47.967Z"
   },
   {
    "duration": 9,
    "start_time": "2022-12-10T14:59:47.974Z"
   },
   {
    "duration": 4,
    "start_time": "2022-12-10T14:59:47.985Z"
   },
   {
    "duration": 12,
    "start_time": "2022-12-10T14:59:47.990Z"
   },
   {
    "duration": 12,
    "start_time": "2022-12-10T14:59:48.003Z"
   },
   {
    "duration": 20,
    "start_time": "2022-12-10T14:59:48.017Z"
   },
   {
    "duration": 13,
    "start_time": "2022-12-10T14:59:48.040Z"
   },
   {
    "duration": 55,
    "start_time": "2022-12-10T14:59:48.054Z"
   },
   {
    "duration": 7,
    "start_time": "2022-12-10T14:59:48.111Z"
   },
   {
    "duration": 10,
    "start_time": "2022-12-10T14:59:48.119Z"
   },
   {
    "duration": 13,
    "start_time": "2022-12-10T14:59:48.131Z"
   },
   {
    "duration": 10,
    "start_time": "2022-12-10T14:59:48.147Z"
   },
   {
    "duration": 10,
    "start_time": "2022-12-10T14:59:48.159Z"
   },
   {
    "duration": 71,
    "start_time": "2022-12-10T14:59:48.170Z"
   },
   {
    "duration": 24,
    "start_time": "2022-12-10T14:59:48.242Z"
   },
   {
    "duration": 34,
    "start_time": "2022-12-10T14:59:48.268Z"
   },
   {
    "duration": 7,
    "start_time": "2022-12-10T14:59:48.304Z"
   },
   {
    "duration": 196,
    "start_time": "2022-12-10T14:59:48.312Z"
   },
   {
    "duration": 3,
    "start_time": "2022-12-10T14:59:48.510Z"
   },
   {
    "duration": 7,
    "start_time": "2022-12-10T14:59:48.514Z"
   },
   {
    "duration": 32,
    "start_time": "2022-12-10T14:59:48.522Z"
   },
   {
    "duration": 45,
    "start_time": "2022-12-10T14:59:48.555Z"
   },
   {
    "duration": 8,
    "start_time": "2022-12-10T14:59:48.601Z"
   },
   {
    "duration": 18,
    "start_time": "2022-12-10T14:59:48.611Z"
   },
   {
    "duration": 4,
    "start_time": "2022-12-10T14:59:48.633Z"
   },
   {
    "duration": 13,
    "start_time": "2022-12-10T14:59:48.639Z"
   },
   {
    "duration": 8,
    "start_time": "2022-12-10T14:59:48.653Z"
   },
   {
    "duration": 10,
    "start_time": "2022-12-10T14:59:48.663Z"
   },
   {
    "duration": 5,
    "start_time": "2022-12-10T14:59:48.697Z"
   },
   {
    "duration": 7,
    "start_time": "2022-12-10T14:59:48.704Z"
   },
   {
    "duration": 19,
    "start_time": "2022-12-10T14:59:48.712Z"
   },
   {
    "duration": 17,
    "start_time": "2022-12-10T14:59:48.733Z"
   },
   {
    "duration": 8,
    "start_time": "2022-12-10T14:59:48.751Z"
   },
   {
    "duration": 9,
    "start_time": "2022-12-10T14:59:48.761Z"
   },
   {
    "duration": 8,
    "start_time": "2022-12-10T14:59:48.771Z"
   },
   {
    "duration": 16,
    "start_time": "2022-12-10T14:59:48.780Z"
   },
   {
    "duration": 7,
    "start_time": "2022-12-10T14:59:48.798Z"
   },
   {
    "duration": 16,
    "start_time": "2022-12-10T14:59:48.806Z"
   },
   {
    "duration": 6,
    "start_time": "2022-12-10T14:59:48.823Z"
   },
   {
    "duration": 6,
    "start_time": "2022-12-10T14:59:48.830Z"
   },
   {
    "duration": 9,
    "start_time": "2022-12-10T14:59:48.838Z"
   },
   {
    "duration": 4,
    "start_time": "2022-12-10T14:59:48.848Z"
   },
   {
    "duration": 7,
    "start_time": "2022-12-10T14:59:48.853Z"
   },
   {
    "duration": 39,
    "start_time": "2022-12-10T14:59:48.862Z"
   },
   {
    "duration": 10,
    "start_time": "2022-12-10T14:59:48.903Z"
   },
   {
    "duration": 8,
    "start_time": "2022-12-10T14:59:48.915Z"
   },
   {
    "duration": 9,
    "start_time": "2022-12-10T14:59:48.924Z"
   },
   {
    "duration": 5,
    "start_time": "2022-12-10T14:59:48.935Z"
   },
   {
    "duration": 15,
    "start_time": "2022-12-10T14:59:48.941Z"
   },
   {
    "duration": 45,
    "start_time": "2022-12-10T14:59:48.958Z"
   },
   {
    "duration": 27,
    "start_time": "2022-12-10T14:59:49.004Z"
   },
   {
    "duration": 24,
    "start_time": "2022-12-10T14:59:49.033Z"
   },
   {
    "duration": 56,
    "start_time": "2022-12-10T14:59:49.059Z"
   },
   {
    "duration": 27,
    "start_time": "2022-12-10T14:59:49.117Z"
   },
   {
    "duration": 24,
    "start_time": "2022-12-10T14:59:49.145Z"
   },
   {
    "duration": 25,
    "start_time": "2022-12-10T14:59:49.170Z"
   },
   {
    "duration": 7,
    "start_time": "2022-12-10T14:59:49.197Z"
   },
   {
    "duration": 9,
    "start_time": "2022-12-10T14:59:49.206Z"
   },
   {
    "duration": 34,
    "start_time": "2022-12-10T14:59:49.217Z"
   },
   {
    "duration": 4,
    "start_time": "2022-12-10T14:59:49.253Z"
   },
   {
    "duration": 45,
    "start_time": "2022-12-10T14:59:49.258Z"
   },
   {
    "duration": 13,
    "start_time": "2022-12-10T14:59:49.305Z"
   },
   {
    "duration": 234,
    "start_time": "2022-12-10T14:59:49.319Z"
   },
   {
    "duration": 10,
    "start_time": "2022-12-10T14:59:49.555Z"
   },
   {
    "duration": 11,
    "start_time": "2022-12-10T14:59:49.566Z"
   },
   {
    "duration": 287,
    "start_time": "2022-12-10T14:59:49.579Z"
   },
   {
    "duration": 13,
    "start_time": "2022-12-10T14:59:49.868Z"
   },
   {
    "duration": 15,
    "start_time": "2022-12-10T14:59:49.882Z"
   },
   {
    "duration": 247,
    "start_time": "2022-12-10T14:59:49.899Z"
   },
   {
    "duration": 12,
    "start_time": "2022-12-10T14:59:50.148Z"
   },
   {
    "duration": 17,
    "start_time": "2022-12-10T14:59:50.161Z"
   },
   {
    "duration": 27,
    "start_time": "2022-12-10T14:59:50.179Z"
   },
   {
    "duration": 5,
    "start_time": "2022-12-10T14:59:50.208Z"
   },
   {
    "duration": 279,
    "start_time": "2022-12-10T14:59:50.215Z"
   },
   {
    "duration": 16,
    "start_time": "2022-12-10T14:59:50.496Z"
   },
   {
    "duration": 9,
    "start_time": "2022-12-10T14:59:50.514Z"
   },
   {
    "duration": 494,
    "start_time": "2022-12-10T14:59:50.525Z"
   },
   {
    "duration": 7,
    "start_time": "2022-12-10T14:59:51.021Z"
   },
   {
    "duration": 17,
    "start_time": "2022-12-10T14:59:51.034Z"
   },
   {
    "duration": 5,
    "start_time": "2022-12-10T14:59:51.053Z"
   },
   {
    "duration": 20,
    "start_time": "2022-12-10T14:59:51.059Z"
   },
   {
    "duration": 220,
    "start_time": "2022-12-10T14:59:51.080Z"
   },
   {
    "duration": 4,
    "start_time": "2022-12-10T14:59:51.302Z"
   },
   {
    "duration": 6,
    "start_time": "2022-12-10T14:59:51.308Z"
   },
   {
    "duration": 210,
    "start_time": "2022-12-10T14:59:51.316Z"
   },
   {
    "duration": 26,
    "start_time": "2022-12-10T14:59:51.529Z"
   },
   {
    "duration": 32,
    "start_time": "2022-12-10T14:59:51.557Z"
   },
   {
    "duration": 4,
    "start_time": "2022-12-10T14:59:51.590Z"
   },
   {
    "duration": 8,
    "start_time": "2022-12-10T14:59:51.595Z"
   },
   {
    "duration": 12,
    "start_time": "2022-12-10T14:59:51.604Z"
   },
   {
    "duration": 7,
    "start_time": "2022-12-10T14:59:51.618Z"
   },
   {
    "duration": 357,
    "start_time": "2022-12-10T14:59:51.626Z"
   },
   {
    "duration": 16,
    "start_time": "2022-12-10T14:59:51.984Z"
   },
   {
    "duration": 158,
    "start_time": "2022-12-10T14:59:52.002Z"
   },
   {
    "duration": 164,
    "start_time": "2022-12-10T14:59:52.161Z"
   },
   {
    "duration": 155,
    "start_time": "2022-12-10T14:59:52.327Z"
   },
   {
    "duration": 217,
    "start_time": "2022-12-10T14:59:52.484Z"
   },
   {
    "duration": 11,
    "start_time": "2022-12-10T14:59:52.702Z"
   },
   {
    "duration": 10,
    "start_time": "2022-12-10T14:59:52.715Z"
   },
   {
    "duration": 214,
    "start_time": "2022-12-10T14:59:52.727Z"
   },
   {
    "duration": 3,
    "start_time": "2022-12-10T15:01:15.505Z"
   },
   {
    "duration": 26,
    "start_time": "2022-12-10T15:01:16.651Z"
   },
   {
    "duration": 3,
    "start_time": "2022-12-10T15:02:29.122Z"
   },
   {
    "duration": 3,
    "start_time": "2022-12-10T15:02:49.292Z"
   },
   {
    "duration": 6,
    "start_time": "2022-12-10T15:03:03.157Z"
   },
   {
    "duration": 3,
    "start_time": "2022-12-10T15:04:33.176Z"
   },
   {
    "duration": 22,
    "start_time": "2022-12-10T15:04:45.462Z"
   },
   {
    "duration": 84,
    "start_time": "2022-12-10T15:06:38.767Z"
   },
   {
    "duration": 33,
    "start_time": "2022-12-10T15:06:41.053Z"
   },
   {
    "duration": 4,
    "start_time": "2022-12-10T15:06:46.886Z"
   },
   {
    "duration": 26,
    "start_time": "2022-12-10T15:06:47.615Z"
   },
   {
    "duration": 3,
    "start_time": "2022-12-10T15:08:09.817Z"
   },
   {
    "duration": 29,
    "start_time": "2022-12-10T15:08:10.721Z"
   },
   {
    "duration": 4,
    "start_time": "2022-12-10T15:11:21.459Z"
   },
   {
    "duration": 32,
    "start_time": "2022-12-10T15:11:22.478Z"
   },
   {
    "duration": 406,
    "start_time": "2022-12-10T15:14:58.782Z"
   },
   {
    "duration": 30,
    "start_time": "2022-12-10T15:15:00.849Z"
   },
   {
    "duration": 374,
    "start_time": "2022-12-10T15:16:04.764Z"
   },
   {
    "duration": 27,
    "start_time": "2022-12-10T15:16:05.303Z"
   },
   {
    "duration": 3,
    "start_time": "2022-12-10T15:19:35.317Z"
   },
   {
    "duration": 7717,
    "start_time": "2022-12-10T15:19:38.309Z"
   },
   {
    "duration": 29,
    "start_time": "2022-12-10T15:19:51.247Z"
   },
   {
    "duration": 51,
    "start_time": "2022-12-10T15:26:21.611Z"
   },
   {
    "duration": 33,
    "start_time": "2022-12-10T15:26:27.349Z"
   },
   {
    "duration": 27,
    "start_time": "2022-12-10T15:26:29.860Z"
   },
   {
    "duration": 31,
    "start_time": "2022-12-10T15:26:51.414Z"
   },
   {
    "duration": 33,
    "start_time": "2022-12-10T15:26:51.941Z"
   },
   {
    "duration": 64,
    "start_time": "2022-12-10T15:27:05.401Z"
   },
   {
    "duration": 53,
    "start_time": "2022-12-10T15:27:09.755Z"
   },
   {
    "duration": 71,
    "start_time": "2022-12-10T15:27:10.464Z"
   },
   {
    "duration": 25,
    "start_time": "2022-12-10T15:27:11.264Z"
   },
   {
    "duration": 727,
    "start_time": "2022-12-10T15:27:26.109Z"
   },
   {
    "duration": 19,
    "start_time": "2022-12-10T15:27:26.837Z"
   },
   {
    "duration": 15,
    "start_time": "2022-12-10T15:27:26.857Z"
   },
   {
    "duration": 5,
    "start_time": "2022-12-10T15:27:26.874Z"
   },
   {
    "duration": 13,
    "start_time": "2022-12-10T15:27:26.880Z"
   },
   {
    "duration": 5,
    "start_time": "2022-12-10T15:27:26.895Z"
   },
   {
    "duration": 14,
    "start_time": "2022-12-10T15:27:26.901Z"
   },
   {
    "duration": 14,
    "start_time": "2022-12-10T15:27:26.917Z"
   },
   {
    "duration": 22,
    "start_time": "2022-12-10T15:27:26.932Z"
   },
   {
    "duration": 39,
    "start_time": "2022-12-10T15:27:26.957Z"
   },
   {
    "duration": 32,
    "start_time": "2022-12-10T15:27:26.998Z"
   },
   {
    "duration": 9,
    "start_time": "2022-12-10T15:27:27.032Z"
   },
   {
    "duration": 7,
    "start_time": "2022-12-10T15:27:27.042Z"
   },
   {
    "duration": 12,
    "start_time": "2022-12-10T15:27:27.051Z"
   },
   {
    "duration": 35,
    "start_time": "2022-12-10T15:27:27.065Z"
   },
   {
    "duration": 19,
    "start_time": "2022-12-10T15:27:27.102Z"
   },
   {
    "duration": 58,
    "start_time": "2022-12-10T15:27:27.123Z"
   },
   {
    "duration": 26,
    "start_time": "2022-12-10T15:27:27.182Z"
   },
   {
    "duration": 20,
    "start_time": "2022-12-10T15:27:27.209Z"
   },
   {
    "duration": 5,
    "start_time": "2022-12-10T15:27:27.231Z"
   },
   {
    "duration": 216,
    "start_time": "2022-12-10T15:27:27.237Z"
   },
   {
    "duration": 63,
    "start_time": "2022-12-10T15:27:27.455Z"
   },
   {
    "duration": 24,
    "start_time": "2022-12-10T15:27:27.520Z"
   },
   {
    "duration": 6,
    "start_time": "2022-12-10T15:27:27.545Z"
   },
   {
    "duration": 46,
    "start_time": "2022-12-10T15:27:27.552Z"
   },
   {
    "duration": 5,
    "start_time": "2022-12-10T15:27:27.600Z"
   },
   {
    "duration": 14,
    "start_time": "2022-12-10T15:27:27.607Z"
   },
   {
    "duration": 6,
    "start_time": "2022-12-10T15:27:27.626Z"
   },
   {
    "duration": 11,
    "start_time": "2022-12-10T15:27:27.633Z"
   },
   {
    "duration": 6,
    "start_time": "2022-12-10T15:27:27.646Z"
   },
   {
    "duration": 3,
    "start_time": "2022-12-10T15:27:27.654Z"
   },
   {
    "duration": 38,
    "start_time": "2022-12-10T15:27:27.659Z"
   },
   {
    "duration": 9,
    "start_time": "2022-12-10T15:27:27.698Z"
   },
   {
    "duration": 9,
    "start_time": "2022-12-10T15:27:27.709Z"
   },
   {
    "duration": 8,
    "start_time": "2022-12-10T15:27:27.720Z"
   },
   {
    "duration": 8,
    "start_time": "2022-12-10T15:27:27.729Z"
   },
   {
    "duration": 4,
    "start_time": "2022-12-10T15:27:27.738Z"
   },
   {
    "duration": 10,
    "start_time": "2022-12-10T15:27:27.743Z"
   },
   {
    "duration": 18,
    "start_time": "2022-12-10T15:27:27.754Z"
   },
   {
    "duration": 6,
    "start_time": "2022-12-10T15:27:27.797Z"
   },
   {
    "duration": 9,
    "start_time": "2022-12-10T15:27:27.805Z"
   },
   {
    "duration": 13,
    "start_time": "2022-12-10T15:27:27.816Z"
   },
   {
    "duration": 5,
    "start_time": "2022-12-10T15:27:27.830Z"
   },
   {
    "duration": 5,
    "start_time": "2022-12-10T15:27:27.836Z"
   },
   {
    "duration": 8,
    "start_time": "2022-12-10T15:27:27.843Z"
   },
   {
    "duration": 9,
    "start_time": "2022-12-10T15:27:27.852Z"
   },
   {
    "duration": 7,
    "start_time": "2022-12-10T15:27:27.863Z"
   },
   {
    "duration": 32,
    "start_time": "2022-12-10T15:27:27.871Z"
   },
   {
    "duration": 8,
    "start_time": "2022-12-10T15:27:27.905Z"
   },
   {
    "duration": 18,
    "start_time": "2022-12-10T15:27:27.915Z"
   },
   {
    "duration": 21,
    "start_time": "2022-12-10T15:27:27.935Z"
   },
   {
    "duration": 48,
    "start_time": "2022-12-10T15:27:27.958Z"
   },
   {
    "duration": 21,
    "start_time": "2022-12-10T15:27:28.008Z"
   },
   {
    "duration": 23,
    "start_time": "2022-12-10T15:27:28.031Z"
   },
   {
    "duration": 48,
    "start_time": "2022-12-10T15:27:28.055Z"
   },
   {
    "duration": 24,
    "start_time": "2022-12-10T15:27:28.105Z"
   },
   {
    "duration": 3,
    "start_time": "2022-12-10T15:27:28.131Z"
   },
   {
    "duration": 10,
    "start_time": "2022-12-10T15:27:28.136Z"
   },
   {
    "duration": 9,
    "start_time": "2022-12-10T15:27:28.148Z"
   },
   {
    "duration": 48,
    "start_time": "2022-12-10T15:27:28.159Z"
   },
   {
    "duration": 4,
    "start_time": "2022-12-10T15:27:28.209Z"
   },
   {
    "duration": 23,
    "start_time": "2022-12-10T15:27:28.215Z"
   },
   {
    "duration": 12,
    "start_time": "2022-12-10T15:27:28.240Z"
   },
   {
    "duration": 243,
    "start_time": "2022-12-10T15:27:28.253Z"
   },
   {
    "duration": 9,
    "start_time": "2022-12-10T15:27:28.498Z"
   },
   {
    "duration": 8,
    "start_time": "2022-12-10T15:27:28.508Z"
   },
   {
    "duration": 284,
    "start_time": "2022-12-10T15:27:28.518Z"
   },
   {
    "duration": 13,
    "start_time": "2022-12-10T15:27:28.804Z"
   },
   {
    "duration": 6,
    "start_time": "2022-12-10T15:27:28.818Z"
   },
   {
    "duration": 231,
    "start_time": "2022-12-10T15:27:28.826Z"
   },
   {
    "duration": 11,
    "start_time": "2022-12-10T15:27:29.059Z"
   },
   {
    "duration": 29,
    "start_time": "2022-12-10T15:27:29.072Z"
   },
   {
    "duration": 15,
    "start_time": "2022-12-10T15:27:29.102Z"
   },
   {
    "duration": 7,
    "start_time": "2022-12-10T15:27:29.119Z"
   },
   {
    "duration": 258,
    "start_time": "2022-12-10T15:27:29.128Z"
   },
   {
    "duration": 19,
    "start_time": "2022-12-10T15:27:29.387Z"
   },
   {
    "duration": 8,
    "start_time": "2022-12-10T15:27:29.408Z"
   },
   {
    "duration": 453,
    "start_time": "2022-12-10T15:27:29.417Z"
   },
   {
    "duration": 8,
    "start_time": "2022-12-10T15:27:29.871Z"
   },
   {
    "duration": 27,
    "start_time": "2022-12-10T15:27:29.881Z"
   },
   {
    "duration": 9,
    "start_time": "2022-12-10T15:27:29.910Z"
   },
   {
    "duration": 12,
    "start_time": "2022-12-10T15:27:29.925Z"
   },
   {
    "duration": 206,
    "start_time": "2022-12-10T15:27:29.939Z"
   },
   {
    "duration": 4,
    "start_time": "2022-12-10T15:27:30.146Z"
   },
   {
    "duration": 35,
    "start_time": "2022-12-10T15:27:30.152Z"
   },
   {
    "duration": 215,
    "start_time": "2022-12-10T15:27:30.189Z"
   },
   {
    "duration": 27,
    "start_time": "2022-12-10T15:27:30.406Z"
   },
   {
    "duration": 20,
    "start_time": "2022-12-10T15:27:30.435Z"
   },
   {
    "duration": 14,
    "start_time": "2022-12-10T15:27:30.457Z"
   },
   {
    "duration": 33,
    "start_time": "2022-12-10T15:27:30.473Z"
   },
   {
    "duration": 32,
    "start_time": "2022-12-10T15:27:30.508Z"
   },
   {
    "duration": 27,
    "start_time": "2022-12-10T15:27:30.542Z"
   },
   {
    "duration": 347,
    "start_time": "2022-12-10T15:27:30.572Z"
   },
   {
    "duration": 13,
    "start_time": "2022-12-10T15:27:30.921Z"
   },
   {
    "duration": 152,
    "start_time": "2022-12-10T15:27:30.936Z"
   },
   {
    "duration": 162,
    "start_time": "2022-12-10T15:27:31.097Z"
   },
   {
    "duration": 162,
    "start_time": "2022-12-10T15:27:31.260Z"
   },
   {
    "duration": 408,
    "start_time": "2022-12-10T15:27:31.424Z"
   },
   {
    "duration": 11,
    "start_time": "2022-12-10T15:27:31.833Z"
   },
   {
    "duration": 5,
    "start_time": "2022-12-10T15:27:31.897Z"
   },
   {
    "duration": 404,
    "start_time": "2022-12-10T15:27:31.904Z"
   },
   {
    "duration": 16,
    "start_time": "2022-12-10T15:30:15.161Z"
   },
   {
    "duration": 714,
    "start_time": "2022-12-10T15:30:20.419Z"
   },
   {
    "duration": 18,
    "start_time": "2022-12-10T15:30:21.135Z"
   },
   {
    "duration": 15,
    "start_time": "2022-12-10T15:30:21.154Z"
   },
   {
    "duration": 4,
    "start_time": "2022-12-10T15:30:21.170Z"
   },
   {
    "duration": 11,
    "start_time": "2022-12-10T15:30:21.175Z"
   },
   {
    "duration": 6,
    "start_time": "2022-12-10T15:30:21.187Z"
   },
   {
    "duration": 16,
    "start_time": "2022-12-10T15:30:21.194Z"
   },
   {
    "duration": 16,
    "start_time": "2022-12-10T15:30:21.211Z"
   },
   {
    "duration": 20,
    "start_time": "2022-12-10T15:30:21.229Z"
   },
   {
    "duration": 13,
    "start_time": "2022-12-10T15:30:21.251Z"
   },
   {
    "duration": 40,
    "start_time": "2022-12-10T15:30:21.266Z"
   },
   {
    "duration": 6,
    "start_time": "2022-12-10T15:30:21.308Z"
   },
   {
    "duration": 4,
    "start_time": "2022-12-10T15:30:21.316Z"
   },
   {
    "duration": 4,
    "start_time": "2022-12-10T15:30:21.322Z"
   },
   {
    "duration": 7,
    "start_time": "2022-12-10T15:30:21.327Z"
   },
   {
    "duration": 7,
    "start_time": "2022-12-10T15:30:21.335Z"
   },
   {
    "duration": 75,
    "start_time": "2022-12-10T15:30:21.344Z"
   },
   {
    "duration": 20,
    "start_time": "2022-12-10T15:30:21.421Z"
   },
   {
    "duration": 19,
    "start_time": "2022-12-10T15:30:21.442Z"
   },
   {
    "duration": 4,
    "start_time": "2022-12-10T15:30:21.462Z"
   },
   {
    "duration": 205,
    "start_time": "2022-12-10T15:30:21.467Z"
   },
   {
    "duration": 41,
    "start_time": "2022-12-10T15:30:21.673Z"
   },
   {
    "duration": 8,
    "start_time": "2022-12-10T15:30:21.716Z"
   },
   {
    "duration": 24,
    "start_time": "2022-12-10T15:30:21.725Z"
   },
   {
    "duration": 5,
    "start_time": "2022-12-10T15:30:21.751Z"
   },
   {
    "duration": 6,
    "start_time": "2022-12-10T15:30:21.757Z"
   },
   {
    "duration": 5,
    "start_time": "2022-12-10T15:30:21.765Z"
   },
   {
    "duration": 9,
    "start_time": "2022-12-10T15:30:21.799Z"
   },
   {
    "duration": 6,
    "start_time": "2022-12-10T15:30:21.809Z"
   },
   {
    "duration": 3,
    "start_time": "2022-12-10T15:30:21.817Z"
   },
   {
    "duration": 12,
    "start_time": "2022-12-10T15:30:21.822Z"
   },
   {
    "duration": 11,
    "start_time": "2022-12-10T15:30:21.835Z"
   },
   {
    "duration": 7,
    "start_time": "2022-12-10T15:30:21.847Z"
   },
   {
    "duration": 8,
    "start_time": "2022-12-10T15:30:21.855Z"
   },
   {
    "duration": 34,
    "start_time": "2022-12-10T15:30:21.864Z"
   },
   {
    "duration": 4,
    "start_time": "2022-12-10T15:30:21.899Z"
   },
   {
    "duration": 13,
    "start_time": "2022-12-10T15:30:21.905Z"
   },
   {
    "duration": 19,
    "start_time": "2022-12-10T15:30:21.920Z"
   },
   {
    "duration": 7,
    "start_time": "2022-12-10T15:30:21.940Z"
   },
   {
    "duration": 8,
    "start_time": "2022-12-10T15:30:21.948Z"
   },
   {
    "duration": 8,
    "start_time": "2022-12-10T15:30:21.958Z"
   },
   {
    "duration": 4,
    "start_time": "2022-12-10T15:30:21.995Z"
   },
   {
    "duration": 6,
    "start_time": "2022-12-10T15:30:22.000Z"
   },
   {
    "duration": 8,
    "start_time": "2022-12-10T15:30:22.008Z"
   },
   {
    "duration": 9,
    "start_time": "2022-12-10T15:30:22.018Z"
   },
   {
    "duration": 6,
    "start_time": "2022-12-10T15:30:22.029Z"
   },
   {
    "duration": 9,
    "start_time": "2022-12-10T15:30:22.036Z"
   },
   {
    "duration": 6,
    "start_time": "2022-12-10T15:30:22.047Z"
   },
   {
    "duration": 50,
    "start_time": "2022-12-10T15:30:22.055Z"
   },
   {
    "duration": 21,
    "start_time": "2022-12-10T15:30:22.108Z"
   },
   {
    "duration": 24,
    "start_time": "2022-12-10T15:30:22.131Z"
   },
   {
    "duration": 48,
    "start_time": "2022-12-10T15:30:22.157Z"
   },
   {
    "duration": 25,
    "start_time": "2022-12-10T15:30:22.207Z"
   },
   {
    "duration": 23,
    "start_time": "2022-12-10T15:30:22.234Z"
   },
   {
    "duration": 46,
    "start_time": "2022-12-10T15:30:22.259Z"
   },
   {
    "duration": 3,
    "start_time": "2022-12-10T15:30:22.306Z"
   },
   {
    "duration": 8,
    "start_time": "2022-12-10T15:30:22.311Z"
   },
   {
    "duration": 8,
    "start_time": "2022-12-10T15:30:22.320Z"
   },
   {
    "duration": 27,
    "start_time": "2022-12-10T15:30:22.329Z"
   },
   {
    "duration": 37,
    "start_time": "2022-12-10T15:30:22.358Z"
   },
   {
    "duration": 25,
    "start_time": "2022-12-10T15:30:22.397Z"
   },
   {
    "duration": 12,
    "start_time": "2022-12-10T15:30:22.423Z"
   },
   {
    "duration": 236,
    "start_time": "2022-12-10T15:30:22.437Z"
   },
   {
    "duration": 9,
    "start_time": "2022-12-10T15:30:22.674Z"
   },
   {
    "duration": 9,
    "start_time": "2022-12-10T15:30:22.696Z"
   },
   {
    "duration": 269,
    "start_time": "2022-12-10T15:30:22.707Z"
   },
   {
    "duration": 22,
    "start_time": "2022-12-10T15:30:22.977Z"
   },
   {
    "duration": 6,
    "start_time": "2022-12-10T15:30:23.001Z"
   },
   {
    "duration": 230,
    "start_time": "2022-12-10T15:30:23.009Z"
   },
   {
    "duration": 11,
    "start_time": "2022-12-10T15:30:23.240Z"
   },
   {
    "duration": 17,
    "start_time": "2022-12-10T15:30:23.253Z"
   },
   {
    "duration": 29,
    "start_time": "2022-12-10T15:30:23.271Z"
   },
   {
    "duration": 6,
    "start_time": "2022-12-10T15:30:23.301Z"
   },
   {
    "duration": 245,
    "start_time": "2022-12-10T15:30:23.308Z"
   },
   {
    "duration": 15,
    "start_time": "2022-12-10T15:30:23.555Z"
   },
   {
    "duration": 10,
    "start_time": "2022-12-10T15:30:23.571Z"
   },
   {
    "duration": 444,
    "start_time": "2022-12-10T15:30:23.597Z"
   },
   {
    "duration": 7,
    "start_time": "2022-12-10T15:30:24.043Z"
   },
   {
    "duration": 19,
    "start_time": "2022-12-10T15:30:24.052Z"
   },
   {
    "duration": 25,
    "start_time": "2022-12-10T15:30:24.072Z"
   },
   {
    "duration": 13,
    "start_time": "2022-12-10T15:30:24.099Z"
   },
   {
    "duration": 192,
    "start_time": "2022-12-10T15:30:24.119Z"
   },
   {
    "duration": 4,
    "start_time": "2022-12-10T15:30:24.313Z"
   },
   {
    "duration": 7,
    "start_time": "2022-12-10T15:30:24.318Z"
   },
   {
    "duration": 197,
    "start_time": "2022-12-10T15:30:24.326Z"
   },
   {
    "duration": 28,
    "start_time": "2022-12-10T15:30:24.524Z"
   },
   {
    "duration": 9,
    "start_time": "2022-12-10T15:30:24.554Z"
   },
   {
    "duration": 3,
    "start_time": "2022-12-10T15:30:24.565Z"
   },
   {
    "duration": 31,
    "start_time": "2022-12-10T15:30:24.570Z"
   },
   {
    "duration": 14,
    "start_time": "2022-12-10T15:30:24.603Z"
   },
   {
    "duration": 7,
    "start_time": "2022-12-10T15:30:24.619Z"
   },
   {
    "duration": 335,
    "start_time": "2022-12-10T15:30:24.628Z"
   },
   {
    "duration": 12,
    "start_time": "2022-12-10T15:30:24.964Z"
   },
   {
    "duration": 148,
    "start_time": "2022-12-10T15:30:24.978Z"
   },
   {
    "duration": 160,
    "start_time": "2022-12-10T15:30:25.130Z"
   },
   {
    "duration": 145,
    "start_time": "2022-12-10T15:30:25.292Z"
   },
   {
    "duration": 387,
    "start_time": "2022-12-10T15:30:25.439Z"
   },
   {
    "duration": 11,
    "start_time": "2022-12-10T15:30:25.828Z"
   },
   {
    "duration": 63,
    "start_time": "2022-12-10T15:30:25.841Z"
   },
   {
    "duration": 414,
    "start_time": "2022-12-10T15:30:25.918Z"
   }
  ],
  "colab": {
   "name": "DA+. Сборный проект 1. Шаблон (1).ipynb",
   "provenance": []
  },
  "kernelspec": {
   "display_name": "Python 3 (ipykernel)",
   "language": "python",
   "name": "python3"
  },
  "language_info": {
   "codemirror_mode": {
    "name": "ipython",
    "version": 3
   },
   "file_extension": ".py",
   "mimetype": "text/x-python",
   "name": "python",
   "nbconvert_exporter": "python",
   "pygments_lexer": "ipython3",
   "version": "3.9.15"
  },
  "toc": {
   "base_numbering": 1,
   "nav_menu": {},
   "number_sections": true,
   "sideBar": true,
   "skip_h1_title": true,
   "title_cell": "Table of Contents",
   "title_sidebar": "Contents",
   "toc_cell": false,
   "toc_position": {
    "height": "calc(100% - 180px)",
    "left": "10px",
    "top": "150px",
    "width": "375.391px"
   },
   "toc_section_display": true,
   "toc_window_display": false
  }
 },
 "nbformat": 4,
 "nbformat_minor": 1
}
